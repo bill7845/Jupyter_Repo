{
 "cells": [
  {
   "cell_type": "markdown",
   "metadata": {},
   "source": [
    "## Python File"
   ]
  },
  {
   "cell_type": "code",
   "execution_count": null,
   "metadata": {},
   "outputs": [],
   "source": [
    "# @ 파일 읽고 쓰기\n",
    "#     - 파일을 읽고 쓰기 전에 파일을 열어야 한다\n",
    "#     - fileObj = open ( filename, mode )\n",
    "#             mode 첫번째 글자 - 작업 표시\n",
    "#             r(read)  : 파일 읽기\n",
    "#             w(write) : 파일 쓰기 ( 파일이 없으면 생성하고 파일이 있으면 덮어쓴다 )\n",
    "#             x(write) : 파일 쓰기 ( 파일이 없을 때만 생성하고 쓴다 )\n",
    "#             a(append) : 파일 추가 ( 파일이 있으면 파일의 끝에서부터 추가하여 쓴다 )\n",
    "\n",
    "#             mode 두번째 글자 - 파일 타입\n",
    "#             t : 텍스트(text) 타입 ( 기본값 )\n",
    "#             b : 이진(binary) 타입\n",
    "#             두번째 글자가 없으면 텍스트 타입이다.\n",
    "\n",
    "#             encoding='utf-8' : 한글\n",
    "\n",
    "#     - 파일을 열고 사용 후에는 반드시 닫아야 한다\n",
    "#     - 파일을 자동으로 닫아주는 with구문 사용해도 됨"
   ]
  },
  {
   "cell_type": "code",
   "execution_count": 6,
   "metadata": {},
   "outputs": [
    {
     "name": "stdout",
     "output_type": "stream",
     "text": [
      "a\n"
     ]
    }
   ],
   "source": [
    "# \n",
    "\n",
    "f = open('temp2','r',encoding='utf-8') # open(\"파일명\",\"모드\")\n",
    "\n",
    "while True:\n",
    "    line = f.readline() # 내용을 읽어옴\n",
    "    if not line : break # 내용이 비어있으면\n",
    "    print(line)\n",
    "#   print(lien, end='') => 개행방지위해서 / print의 경우 기본적으로 개행이되기때문에 이중개행을 막기위해\n",
    "f.close()\n",
    "        "
   ]
  },
  {
   "cell_type": "code",
   "execution_count": 8,
   "metadata": {},
   "outputs": [
    {
     "name": "stdout",
     "output_type": "stream",
     "text": [
      "<?xml version=\"1.0\" encoding=\"utf-8\" ?>\n",
      "<employees>\n",
      "    <employee no=\"1\">\n",
      "        <name>김</name>\n",
      "        <job>책임</job>\n",
      "    </employee>\n",
      "    <employee no=\"2\">\n",
      "        <name>박</name>\n",
      "        <job>선임</job>\n",
      "    </employee>\n",
      "    <employee no=\"3\">\n",
      "        <name>이</name>\n",
      "        <job>연구원</job>\n",
      "    </employee>\n",
      "</employees>정상종료\n"
     ]
    }
   ],
   "source": [
    "# \n",
    "\n",
    "f = open('temp2.xml','r',encoding='utf-8')\n",
    "\n",
    "while True:\n",
    "    line = f.readline()\n",
    "    if not line : break\n",
    "    print(line,end='')\n",
    "f.close()\n",
    "print('정상종료')"
   ]
  },
  {
   "cell_type": "code",
   "execution_count": 12,
   "metadata": {},
   "outputs": [
    {
     "name": "stdout",
     "output_type": "stream",
     "text": [
      "<?xml version=\"1.0\" encoding=\"utf-8\" ?>\n",
      "<employees>\n",
      "    <employee no=\"1\">\n",
      "        <name>김</name>\n",
      "        <job>책임</job>\n",
      "    </employee>\n",
      "    <employee no=\"2\">\n",
      "        <name>박</name>\n",
      "        <job>선임</job>\n",
      "    </employee>\n",
      "    <employee no=\"3\">\n",
      "        <name>이</name>\n",
      "        <job>연구원</job>\n",
      "    </employee>\n",
      "</employees>정상종료\n"
     ]
    }
   ],
   "source": [
    "#  try으로 예외처리\n",
    "#  with 방식\n",
    "\n",
    "try:\n",
    "    with open('temp2.xml','r',encoding='utf-8') as f:\n",
    "        while True:\n",
    "            line = f.readline()\n",
    "            if not line : break\n",
    "            print(line,end='')\n",
    "except FileNotFoundError as e:\n",
    "    print(e)\n",
    "else:\n",
    "    print(\"정상종료\")\n"
   ]
  },
  {
   "cell_type": "code",
   "execution_count": 16,
   "metadata": {},
   "outputs": [
    {
     "name": "stdout",
     "output_type": "stream",
     "text": [
      "파일의 총 단어수 : 21\n"
     ]
    }
   ],
   "source": [
    "# 한줄씩 말고 전체읽기\n",
    "\n",
    "try:\n",
    "    with open('temp2.xml','r',encoding='utf-8') as f:\n",
    "        content = f.read()\n",
    "        words = content.split()\n",
    "        num = len(words)\n",
    "except FileNotFoundError as e:\n",
    "    pass\n",
    "else:\n",
    "    print(\"파일의 총 단어수 : %d\" %num)\n"
   ]
  },
  {
   "cell_type": "code",
   "execution_count": 26,
   "metadata": {},
   "outputs": [
    {
     "name": "stdout",
     "output_type": "stream",
     "text": [
      "파일의 총 단어수 : 21\n"
     ]
    }
   ],
   "source": [
    "# 존재하지 않는 파일의 경우 패스하고 있는파일만 \n",
    "\n",
    "def count_words(filename):\n",
    "    try:\n",
    "        with open(filename,'r',encoding='utf-8') as f:\n",
    "            content = f.read()\n",
    "            words = content.split()\n",
    "            num = len(words)\n",
    "    except FileNotFoundError as e:\n",
    "        pass\n",
    "    else:\n",
    "        print(\"파일의 총 단어수 : %d\" %num)\n",
    "    \n",
    "\n",
    "filenames = ['temp2.xml','xxxx.xxx','temp,json']\n",
    "for filename in filenames:\n",
    "    count_words(filename)"
   ]
  },
  {
   "cell_type": "markdown",
   "metadata": {},
   "source": [
    "#### csv"
   ]
  },
  {
   "cell_type": "code",
   "execution_count": 31,
   "metadata": {},
   "outputs": [],
   "source": [
    "import csv\n",
    "\n",
    "# 리스트 데이터를 csv파일에 저장\n",
    "\n",
    "data = [[1,'김','책임'],[2,'박','선임'],[3,'주','연구원']]\n",
    "\n",
    "with open('test_csv.csv','wt',encoding='utf-8') as f:\n",
    "    cout = csv.writer(f)\n",
    "    cout.writerows(data)"
   ]
  },
  {
   "cell_type": "code",
   "execution_count": 33,
   "metadata": {},
   "outputs": [
    {
     "name": "stdout",
     "output_type": "stream",
     "text": [
      "[['1', '김', '책임'], ['2', '박', '선임'], ['3', '주', '연구원']]\n"
     ]
    }
   ],
   "source": [
    "# csv 파일을 읽어서 리스트 변수 저장 출력\n",
    "data = []\n",
    "with open('test_csv.csv','rt',encoding='utf-8') as f:\n",
    "    cin = csv.reader(f)\n",
    "    data = [row for row in cin if row]\n",
    "\n",
    "print(data)"
   ]
  },
  {
   "cell_type": "markdown",
   "metadata": {},
   "source": [
    "#### json"
   ]
  },
  {
   "cell_type": "code",
   "execution_count": 104,
   "metadata": {},
   "outputs": [
    {
     "name": "stdout",
     "output_type": "stream",
     "text": [
      "{'박열': {'No': 1, 'Job': '선임'}, '김원봉': {'No': 2, 'Job': '주임'}, '이순신': {'No': 3, 'Job': '연구원'}}\n"
     ]
    }
   ],
   "source": [
    "import json\n",
    "\n",
    "f = open('temp.json','rt',encoding='utf-8')\n",
    "json_data = f.read()\n",
    "data =json.loads(json_data) # 읽어온 json을 객체로\n",
    "print(data)\n",
    "\n",
    "parsing_name = []\n",
    "\n",
    "\n",
    "# for i in data:\n",
    "#     data[i]['No']\n",
    "#     data[i]['Job']\n",
    "    \n",
    "\n",
    "\n",
    "    \n",
    "f.close()\n",
    "\n",
    "\n",
    "# with 구문에 예외처리로 수정해주세요"
   ]
  }
 ],
 "metadata": {
  "kernelspec": {
   "display_name": "Python 3",
   "language": "python",
   "name": "python3"
  },
  "language_info": {
   "codemirror_mode": {
    "name": "ipython",
    "version": 3
   },
   "file_extension": ".py",
   "mimetype": "text/x-python",
   "name": "python",
   "nbconvert_exporter": "python",
   "pygments_lexer": "ipython3",
   "version": "3.7.3"
  }
 },
 "nbformat": 4,
 "nbformat_minor": 2
}
