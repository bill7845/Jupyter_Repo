{
 "cells": [
  {
   "cell_type": "code",
   "execution_count": 1,
   "metadata": {},
   "outputs": [
    {
     "data": {
      "text/plain": [
       "'\\n    [ 실행한 후에 SQLite Expert Person 에서 확인 ] \\n    \\n    - 메뉴 > File > Open  Database 에서  db폴더 안에 testDB.db 연결\\n    - 탭팬들 확인 (Database / Data / DDL / Design / SQL )\\n    - SQL탭에서 select 문장 확인\\n    \\n    \\n    [ 절차 ]\\n        1. 데이타베이스 Connection 생성\\n        2. 커서 생성 ( 커서 : sql 명령어를 실행시켜 주는 객체 )\\n        3. sql 문장 만들기\\n        4. sql 문장 실행\\n        5. 커밋 ( 트랜젝션의 내용을 DB에 반영함 )\\n        6. Connection 닫기\\n    \\n'"
      ]
     },
     "execution_count": 1,
     "metadata": {},
     "output_type": "execute_result"
    }
   ],
   "source": [
    "import sqlite3\n",
    "\n",
    "\"\"\"\n",
    "    [ 실행한 후에 SQLite Expert Person 에서 확인 ] \n",
    "    \n",
    "    - 메뉴 > File > Open  Database 에서  db폴더 안에 testDB.db 연결\n",
    "    - 탭팬들 확인 (Database / Data / DDL / Design / SQL )\n",
    "    - SQL탭에서 select 문장 확인\n",
    "    \n",
    "    \n",
    "    [ 절차 ]\n",
    "        1. 데이타베이스 Connection 생성\n",
    "        2. 커서 생성 ( 커서 : sql 명령어를 실행시켜 주는 객체 )\n",
    "        3. sql 문장 만들기\n",
    "        4. sql 문장 실행\n",
    "        5. 커밋 ( 트랜젝션의 내용을 DB에 반영함 )\n",
    "        6. Connection 닫기\n",
    "    \n",
    "\"\"\""
   ]
  },
  {
   "cell_type": "code",
   "execution_count": 27,
   "metadata": {},
   "outputs": [
    {
     "name": "stdout",
     "output_type": "stream",
     "text": [
      "(1, '홍길동', 25)\n",
      "(2, '홍길동', 25)\n",
      "(3, '홍길동', 25)\n",
      "(4, '홍길동', 25)\n",
      "(5, '홍길동', 25)\n",
      "(6, '홍길동', 25)\n",
      "(7, '홍길동', 25)\n",
      "(8, '홍길동', 25)\n"
     ]
    }
   ],
   "source": [
    "def viewTable(db, table):\n",
    "    conn=sqlite3.connect(db)\n",
    "    cur = conn.cursor()\n",
    "    sql = 'select * from person2'\n",
    "    \n",
    "    cur.execute(sql)\n",
    "    \n",
    "    rows = cur.fetchall()\n",
    "    for row in rows:\n",
    "        print(row)\n",
    "    \n",
    "    conn.close()\n",
    "\n",
    "\n",
    "def saveTest(db):\n",
    "    conn=sqlite3.connect(db)\n",
    "    cur = conn.cursor()\n",
    "    sql = '''INSERT INTO person2(name,age) VALUES(?,?)'''\n",
    "    \n",
    "    cur.execute(sql,('홍길동',25)) # sql문장 실행 #입력값은 tuple형식으로\n",
    "    conn.commit()\n",
    "    conn.close()\n",
    "    \n",
    "\n",
    "def saveTable(db, data):\n",
    "    pass\n",
    "\n",
    "def createTable(db):\n",
    "    conn = sqlite3.connect(db) # 커넥션\n",
    "    cur = conn.cursor() # 커서새성\n",
    "    \n",
    "    # sql 문장\n",
    "    sql = 'CREATE TABLE if not exists person2(id integer primary key autoincrement, name text not null, age integer)'\n",
    "    cur.execute(sql) # sql문장 실행\n",
    "    conn.commit()\n",
    "    conn.close()\n",
    "\n",
    "\n",
    "\n",
    "# (1) DB에 테이블 생성\n",
    "createTable('testdb.db')\n",
    "\n",
    "# (2) DB에 테이블 입력\n",
    "saveTest('testdb.db');  # 데이타 입력 확인만\n",
    "\n",
    "# (3) DB에 저장되어 있는 테이블값 출력\n",
    "viewTable('testdb.db', 'person2')"
   ]
  },
  {
   "cell_type": "code",
   "execution_count": null,
   "metadata": {},
   "outputs": [],
   "source": []
  },
  {
   "cell_type": "code",
   "execution_count": null,
   "metadata": {},
   "outputs": [],
   "source": []
  },
  {
   "cell_type": "code",
   "execution_count": null,
   "metadata": {},
   "outputs": [],
   "source": []
  },
  {
   "cell_type": "code",
   "execution_count": null,
   "metadata": {},
   "outputs": [],
   "source": []
  }
 ],
 "metadata": {
  "kernelspec": {
   "display_name": "Python 3",
   "language": "python",
   "name": "python3"
  },
  "language_info": {
   "codemirror_mode": {
    "name": "ipython",
    "version": 3
   },
   "file_extension": ".py",
   "mimetype": "text/x-python",
   "name": "python",
   "nbconvert_exporter": "python",
   "pygments_lexer": "ipython3",
   "version": "3.7.3"
  }
 },
 "nbformat": 4,
 "nbformat_minor": 2
}
