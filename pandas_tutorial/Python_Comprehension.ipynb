{
 "cells": [
  {
   "cell_type": "markdown",
   "metadata": {},
   "source": [
    "## Python Comprehension"
   ]
  },
  {
   "cell_type": "markdown",
   "metadata": {},
   "source": [
    "#### List Comprehension"
   ]
  },
  {
   "cell_type": "code",
   "execution_count": 3,
   "metadata": {},
   "outputs": [
    {
     "name": "stdout",
     "output_type": "stream",
     "text": [
      "[1, 2, 3, 4, 5]\n"
     ]
    }
   ],
   "source": [
    "## list comprehension\n",
    "\n",
    "# [1,2,3,4,5]\n",
    "\n",
    "list_a = [i for i in range(1,6)] # append 안씀\n",
    "print(list_a)"
   ]
  },
  {
   "cell_type": "code",
   "execution_count": 4,
   "metadata": {},
   "outputs": [
    {
     "name": "stdout",
     "output_type": "stream",
     "text": [
      "[2, 4, 6, 8, 10]\n"
     ]
    }
   ],
   "source": [
    "#  if\n",
    "\n",
    "clist = [n for n in range(1,11) if n%2 ==0]\n",
    "print(clist)"
   ]
  },
  {
   "cell_type": "code",
   "execution_count": 7,
   "metadata": {},
   "outputs": [
    {
     "name": "stdout",
     "output_type": "stream",
     "text": [
      "[(1, 1), (1, 3), (1, 5), (2, 1), (2, 3), (2, 5), (3, 1), (3, 3), (3, 5)]\n",
      "1 1\n",
      "1 3\n",
      "1 5\n",
      "2 1\n",
      "2 3\n",
      "2 5\n",
      "3 1\n",
      "3 3\n",
      "3 5\n"
     ]
    }
   ],
   "source": [
    "#  이중반복문, tuple 넣기\n",
    "rows = range(1,4)\n",
    "cols = range(1,6,2)\n",
    "\n",
    "dlist = [(r,c) for r in rows for c in cols] \n",
    "print(dlist)\n",
    "\n",
    "# dlist에서 각 요소 추출하여 출력\n",
    "for r2,c2 in dlist:\n",
    "    print(r2,c2)\n"
   ]
  },
  {
   "cell_type": "markdown",
   "metadata": {},
   "source": [
    "#### dict Comprehension"
   ]
  },
  {
   "cell_type": "code",
   "execution_count": 10,
   "metadata": {},
   "outputs": [
    {
     "name": "stdout",
     "output_type": "stream",
     "text": [
      "{2: 4, 3: 9, 4: 16}\n"
     ]
    }
   ],
   "source": [
    "#  { key : value }\n",
    "\n",
    "a = {x : x**2 for x in (2,3,4)}\n",
    "\n",
    "print(a)"
   ]
  },
  {
   "cell_type": "code",
   "execution_count": 12,
   "metadata": {},
   "outputs": [
    {
     "name": "stdout",
     "output_type": "stream",
     "text": [
      "{'L': 3, 'O': 2, 'V': 1, 'E': 1, ' ': 1}\n"
     ]
    }
   ],
   "source": [
    "word = 'LOVE LOL'\n",
    "\n",
    "wcnt = {letter : word.count(letter) for letter in word}\n",
    "\n",
    "print(wcnt)"
   ]
  },
  {
   "cell_type": "markdown",
   "metadata": {},
   "source": [
    "#### set comprehension"
   ]
  },
  {
   "cell_type": "code",
   "execution_count": 8,
   "metadata": {},
   "outputs": [
    {
     "data": {
      "text/plain": [
       "{1, 2, 3, 4, 5, 6, 7, 8, 9}"
      ]
     },
     "execution_count": 8,
     "metadata": {},
     "output_type": "execute_result"
    }
   ],
   "source": [
    "#  set\n",
    "# index가 존재하지 않는다\n",
    "# 중복을 허용하지 않는다\n",
    "\n",
    "aset = {n for n in range(1,7)}\n",
    "aset\n",
    "\n",
    "data = [1,1,2,2,3,3,4,4,5,5,6,6,7,7,8,8,9,9]\n",
    "aset2 = {n for n in data}\n",
    "aset2"
   ]
  },
  {
   "cell_type": "markdown",
   "metadata": {},
   "source": [
    "#### generator comprehension"
   ]
  },
  {
   "cell_type": "code",
   "execution_count": 22,
   "metadata": {},
   "outputs": [
    {
     "name": "stdout",
     "output_type": "stream",
     "text": [
      "[1, 3, 1, 3, 5]\n",
      "**************************************************\n",
      "[]\n"
     ]
    }
   ],
   "source": [
    "# ()을 사용하지만 튜플이 아니다\n",
    "# 튜플을 comprehension이 존재하지 않는다\n",
    "# \"한번만\" 실행\n",
    "# 즉석에서 그 값을 생성하고 이터레이터를 통해 한번에 그값을 하나씩 처리하고 저장하지 않음 \n",
    "\n",
    "data = [1,2,3,1,3,5,6,2]\n",
    "\n",
    "alist = (n for n in data if n%2==1) #generator comprehension ( 튜플아님!)\n",
    "\n",
    "print(list(alist)) ## set,tuple 형식으로도 출력가능\n",
    "print('*'*50)\n",
    "print(list(alist))"
   ]
  }
 ],
 "metadata": {
  "kernelspec": {
   "display_name": "Python 3",
   "language": "python",
   "name": "python3"
  },
  "language_info": {
   "codemirror_mode": {
    "name": "ipython",
    "version": 3
   },
   "file_extension": ".py",
   "mimetype": "text/x-python",
   "name": "python",
   "nbconvert_exporter": "python",
   "pygments_lexer": "ipython3",
   "version": "3.7.4"
  }
 },
 "nbformat": 4,
 "nbformat_minor": 2
}
