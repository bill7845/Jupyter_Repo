{
 "cells": [
  {
   "cell_type": "markdown",
   "metadata": {},
   "source": [
    "## Python 정규식"
   ]
  },
  {
   "cell_type": "code",
   "execution_count": 3,
   "metadata": {},
   "outputs": [
    {
     "name": "stdout",
     "output_type": "stream",
     "text": [
      "We are happy. You are happy\n"
     ]
    }
   ],
   "source": [
    "import re \n",
    "\n",
    "# . => 문자\n",
    "\n",
    "# * => 여러개\n",
    "\n",
    "# 소문자 => [a-z]\n",
    "\n",
    "# + => \n",
    "\n",
    "# [\\w] => 문자,숫자,_\n",
    "\n",
    "\n",
    "\n",
    "# match()\n",
    "msg = \"We are happy. You are happy. Happy2019 2020\"\n",
    "\n",
    "result = re.match(\".*happy\",msg)\n",
    "\n",
    "if result:\n",
    "    print(result.group())"
   ]
  },
  {
   "cell_type": "code",
   "execution_count": 7,
   "metadata": {},
   "outputs": [
    {
     "name": "stdout",
     "output_type": "stream",
     "text": [
      "happy\n"
     ]
    }
   ],
   "source": [
    "#  search\n",
    "\n",
    "# 찾으려는 문자열 찾아줌(맨 첫번째꺼)\n",
    "\n",
    "result = re.search(\"happy\",msg)\n",
    "\n",
    "if result:\n",
    "    print(result.group())\n"
   ]
  },
  {
   "cell_type": "code",
   "execution_count": 12,
   "metadata": {},
   "outputs": [
    {
     "name": "stdout",
     "output_type": "stream",
     "text": [
      "['We ', 're h', 'ppy. You ', 're h', 'ppy. H', 'ppy2019 2020']\n"
     ]
    }
   ],
   "source": [
    "# split\n",
    "\n",
    "#  re.split(\"패턴\",대상)\n",
    "\n",
    "# listf로 반환\n",
    "\n",
    "result = re.split(\"a\",msg)\n",
    "\n",
    "if result:\n",
    "    print(result)\n"
   ]
  },
  {
   "cell_type": "code",
   "execution_count": 15,
   "metadata": {},
   "outputs": [
    {
     "name": "stdout",
     "output_type": "stream",
     "text": [
      "We @re h@ppy. You @re h@ppy. H@ppy2019 2020\n"
     ]
    }
   ],
   "source": [
    "#  sub\n",
    "\n",
    "#  sub(\"패턴\",\"대체\",대상)\n",
    "\n",
    "result = re.sub(\"a\",\"@\",msg)\n",
    "\n",
    "if result:\n",
    "    print(result)"
   ]
  },
  {
   "cell_type": "code",
   "execution_count": 24,
   "metadata": {},
   "outputs": [
    {
     "name": "stdout",
     "output_type": "stream",
     "text": [
      "['Happy']\n",
      "['e', 'a', 'r', 'e', 'h', 'a', 'p', 'p', 'y', 'o', 'u', 'a', 'r', 'e', 'h', 'a', 'p', 'p', 'y', 'a', 'p', 'p', 'y']\n",
      "['W', '_', '_', '!', '!', ' ', 'Y', ' ', ' ', '?', '?', ' ', 'H', '2', '0', '1', '9', '-', '2', '0', '2', '0', ' ', '안', '녕']\n",
      "['e', 'are', 'happy', 'ou', 'are', 'happy', 'appy']\n"
     ]
    }
   ],
   "source": [
    "# findall\n",
    "\n",
    "#  findall(검색어,문자열) \n",
    "#  문자열에서 검색어와 일치하는 내용들을 리스트로 반환\n",
    "\n",
    "msg = 'We_are_happy!! You are happy?? Happy2019-2020 안녕'\n",
    "\n",
    "a = re.findall('Happy',msg)\n",
    "print(a)\n",
    "\n",
    "#  소문자 모두 찾기\n",
    "b = re.findall(\"[a-z]\",msg)\n",
    "print(b)\n",
    "\n",
    "# 소문자가 아닌 모든것\n",
    "c = re.findall(\"[^a-z]\",msg)\n",
    "print(c)\n",
    "\n",
    "# 소문자(반복) 모두 찾기\n",
    "d = re.findall(\"[a-z]+\",msg)\n",
    "print(d)"
   ]
  },
  {
   "cell_type": "code",
   "execution_count": 30,
   "metadata": {},
   "outputs": [
    {
     "name": "stdout",
     "output_type": "stream",
     "text": [
      "['W', 'e', 'a', 'r', 'e', 'h', 'a', 'p', 'p', 'y', 'Y', 'o', 'u', 'a', 'r', 'e', 'h', 'a', 'p', 'p', 'y', 'H', 'a', 'p', 'p', 'y']\n",
      "['2', '0', '1', '9', '2', '0', '2', '0']\n",
      "['_', '_', '!', '!', ' ', ' ', ' ', '?', '?', ' ', '-', ' ', '안', '녕']\n"
     ]
    }
   ],
   "source": [
    "## prac_1\n",
    "\n",
    "# 소문자와 대문자 찾기\n",
    "p_1 = re.findall(\"[A-Z,a-z]\",msg)\n",
    "print(p_1)\n",
    "\n",
    "#  숫자 찾기\n",
    "p_2 = re.findall(\"[0-9]\",msg)\n",
    "print(p_2)\n",
    "\n",
    "# 소문자/대문자/숫자 아닌것 찾기\n",
    "p_3 = re.findall(\"[^a-z,A-Z,0-9]\",msg)\n",
    "print(p_3)"
   ]
  },
  {
   "cell_type": "code",
   "execution_count": 36,
   "metadata": {},
   "outputs": [
    {
     "name": "stdout",
     "output_type": "stream",
     "text": [
      "['We_are_happy', 'You', 'are', 'happy', 'Happy2019', '2020', '안녕']\n",
      "['!', '!', ' ', ' ', ' ', '?', '?', ' ', '-', ' ']\n"
     ]
    }
   ],
   "source": [
    "#  문자 숫자 _ 를 검색하기\n",
    "\n",
    "a = re.findall('[\\w]+',msg) # 문자,숫자,_ 뺀 나머지 \n",
    "print(a)\n",
    "\n",
    "#  문자,숫자,_가 아닌것 검색\n",
    "b = re.findall('[^\\w]',msg)\n",
    "print(b)"
   ]
  },
  {
   "cell_type": "code",
   "execution_count": 42,
   "metadata": {},
   "outputs": [
    {
     "name": "stdout",
     "output_type": "stream",
     "text": [
      "올바른 이메일\n",
      "잘못된 이메일\n",
      "올바른 이메일\n"
     ]
    }
   ],
   "source": [
    "# prac_2\n",
    "\n",
    "\"\"\"\n",
    "    이메일 주소의 적합성 체크\n",
    "        kim@encore.com   : 올바른 이메일\n",
    "        kim@encore       : 잘못된 이메일 ( . 하나 없어서 )\n",
    "        kim_@encore.com  : 잘못된 이메일 ( 특수문자 안됨 )\n",
    "\n",
    "     [참고]\n",
    "        ^[]: 시작\n",
    "        [^] : not\n",
    "        {2,9} : 최소 2개 최대 9개\n",
    "        {2,} : 최소 2개만 지정하고 최대는 지정하지 않음\n",
    "        $ 끝\n",
    "\"\"\"\n",
    "\n",
    "\n",
    "import re\n",
    "\n",
    "def email_check(email):\n",
    "    # 여기에 코드 작성\n",
    "    p = re.compile(\"^[a-zA-Z0-9+-_.]+@[a-zA-Z0-9-]+\\.[a-zA-Z0-9-.]+$\")\n",
    "    \n",
    "    m = p.match(email)\n",
    "    \n",
    "    if m :\n",
    "        print(\"올바른 이메일\")\n",
    "    else :\n",
    "        print(\"잘못된 이메일\") \n",
    "\n",
    "email_check('kim@encore.com')       # 올바른 이메일\n",
    "email_check('kim@encore')           # 잘못된 이메일 ( . 하나 없어서 )\n",
    "email_check('kim_@encore.com')      # 잘못된 이메일 ( 특수문자 안됨 )"
   ]
  },
  {
   "cell_type": "code",
   "execution_count": null,
   "metadata": {},
   "outputs": [],
   "source": []
  },
  {
   "cell_type": "code",
   "execution_count": null,
   "metadata": {},
   "outputs": [],
   "source": []
  },
  {
   "cell_type": "code",
   "execution_count": null,
   "metadata": {},
   "outputs": [],
   "source": []
  }
 ],
 "metadata": {
  "kernelspec": {
   "display_name": "Python 3",
   "language": "python",
   "name": "python3"
  },
  "language_info": {
   "codemirror_mode": {
    "name": "ipython",
    "version": 3
   },
   "file_extension": ".py",
   "mimetype": "text/x-python",
   "name": "python",
   "nbconvert_exporter": "python",
   "pygments_lexer": "ipython3",
   "version": "3.7.3"
  }
 },
 "nbformat": 4,
 "nbformat_minor": 2
}
