{
 "cells": [
  {
   "cell_type": "markdown",
   "metadata": {},
   "source": [
    "## python unpacking"
   ]
  },
  {
   "cell_type": "code",
   "execution_count": 1,
   "metadata": {},
   "outputs": [],
   "source": [
    "## 자료구조에서 값 꺼내기"
   ]
  },
  {
   "cell_type": "code",
   "execution_count": 3,
   "metadata": {},
   "outputs": [],
   "source": [
    "# 자료구조 정의\n",
    "str = 'HELLO'                # 문자열\n",
    "li = ['a','b','c']        # 리스트\n",
    "tpl = ('ㄱ','ㄴ','ㄷ')    # 튜플\n",
    "di = dict(k=5, j=6)       # 딕셔너리"
   ]
  },
  {
   "cell_type": "code",
   "execution_count": 4,
   "metadata": {},
   "outputs": [
    {
     "name": "stdout",
     "output_type": "stream",
     "text": [
      "ㄴ\n"
     ]
    }
   ],
   "source": [
    "#  tuple\n",
    "a,b,c = tpl\n",
    "print(b)"
   ]
  },
  {
   "cell_type": "code",
   "execution_count": 5,
   "metadata": {},
   "outputs": [
    {
     "name": "stdout",
     "output_type": "stream",
     "text": [
      "3\n",
      "7\n",
      "11\n"
     ]
    }
   ],
   "source": [
    "alist = [(1,2),(3,4),(5,6)]\n",
    "for (first, second) in alist :\n",
    "    print(first+second)\n"
   ]
  },
  {
   "cell_type": "markdown",
   "metadata": {},
   "source": [
    "#### zip"
   ]
  },
  {
   "cell_type": "code",
   "execution_count": 19,
   "metadata": {},
   "outputs": [
    {
     "name": "stdout",
     "output_type": "stream",
     "text": [
      "월 잠자기\n",
      "화 공부\n",
      "수 놀기\n",
      "<zip object at 0x0000022434A21DC8>\n",
      "[('월', '잠자기'), ('화', '공부'), ('수', '놀기')]\n",
      "{'월': '잠자기', '화': '공부', '수': '놀기'}\n"
     ]
    },
    {
     "data": {
      "text/plain": [
       "dict_keys(['월', '화', '수'])"
      ]
     },
     "execution_count": 19,
     "metadata": {},
     "output_type": "execute_result"
    }
   ],
   "source": [
    "# zip()\n",
    "# 서로다른 list를 순서대로 묶어줌\n",
    "\n",
    "days = ['월','화','수']\n",
    "doit = ['잠자기','공부','놀기','먹기']\n",
    "\n",
    "for yoil, halil in zip(days,doit):\n",
    "    print(yoil,halil)\n",
    "    \n",
    "print(zip(days,doit))\n",
    "print(list(zip(days,doit)))\n",
    "\n",
    "obj = zip(days,doit)\n",
    "\n",
    "obj_dict = dict(zip(days,doit)) ####### dict등 여러 자료형으로 변환가능\n",
    "print(obj_dict)\n",
    "obj_dict.keys()"
   ]
  },
  {
   "cell_type": "code",
   "execution_count": 15,
   "metadata": {},
   "outputs": [
    {
     "name": "stdout",
     "output_type": "stream",
     "text": [
      "[('Y', 1, '하나'), ('U', 2, '둘'), ('N', 3, '셋')]\n",
      "{('U', 2, '둘'), ('N', 3, '셋'), ('Y', 1, '하나')}\n",
      "{'Y': 1, 'U': 2, 'N': 3}\n"
     ]
    }
   ],
   "source": [
    "a = \"YUN\"\n",
    "b = [1,2,3]\n",
    "c = (\"하나\",\"둘\",\"셋\")\n",
    "\n",
    "print(list(zip(a,b,c)))\n",
    "print(set(zip(a,b,c)))\n",
    "print(dict(zip(a,b)))"
   ]
  }
 ],
 "metadata": {
  "kernelspec": {
   "display_name": "Python 3",
   "language": "python",
   "name": "python3"
  },
  "language_info": {
   "codemirror_mode": {
    "name": "ipython",
    "version": 3
   },
   "file_extension": ".py",
   "mimetype": "text/x-python",
   "name": "python",
   "nbconvert_exporter": "python",
   "pygments_lexer": "ipython3",
   "version": "3.7.3"
  }
 },
 "nbformat": 4,
 "nbformat_minor": 2
}
