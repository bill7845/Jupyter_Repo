{
 "cells": [
  {
   "cell_type": "code",
   "execution_count": 27,
   "metadata": {},
   "outputs": [],
   "source": [
    "import requests "
   ]
  },
  {
   "cell_type": "code",
   "execution_count": 4,
   "metadata": {},
   "outputs": [],
   "source": [
    "url =\"http://www.google.com\"\n",
    "\n",
    "res = requests.get(url)"
   ]
  },
  {
   "cell_type": "code",
   "execution_count": 5,
   "metadata": {
    "scrolled": true
   },
   "outputs": [
    {
     "name": "stdout",
     "output_type": "stream",
     "text": [
      "<Response [200]>\n"
     ]
    }
   ],
   "source": [
    "print(res)"
   ]
  },
  {
   "cell_type": "code",
   "execution_count": 26,
   "metadata": {},
   "outputs": [
    {
     "name": "stdout",
     "output_type": "stream",
     "text": [
      "Date : Mon, 26 Aug 2019 05:40:25 GMT\n",
      "Expires : -1\n",
      "Cache-Control : private, max-age=0\n",
      "Content-Type : text/html; charset=ISO-8859-1\n",
      "P3P : CP=\"This is not a P3P policy! See g.co/p3phelp for more info.\"\n",
      "Content-Encoding : gzip\n",
      "Server : gws\n",
      "Content-Length : 5350\n",
      "X-XSS-Protection : 0\n",
      "X-Frame-Options : SAMEORIGIN\n",
      "Set-Cookie : 1P_JAR=2019-08-26-05; expires=Wed, 25-Sep-2019 05:40:25 GMT; path=/; domain=.google.com, NID=188=tcdYXHK94kJvieAdn_HUt3oaW0AI4KEPcWrNG40--bVosV-iZEERyOjG74KmRmQSPhcL4PLjCpb04U163WYhZNTFO-syPhXElkWM55bf6qZzx48MUvJ_IReBb_0HlCVov6vJrWTgJ5dvqaaLXAGTTeR95k4HjdqWS3KltHCRHEE; expires=Tue, 25-Feb-2020 05:40:25 GMT; path=/; domain=.google.com; HttpOnly\n"
     ]
    }
   ],
   "source": [
    "# print(res.text)\n",
    "# print(res.content)\n",
    "\n",
    "headers = res.headers\n",
    "# print(headers)\n",
    "\n",
    "# dict key,value 추출하기\n",
    "for key in headers.keys():\n",
    "    print(key, \":\", headers[key])\n",
    "    \n",
    "# for key, value in headers.items():\n",
    "#     print(key, \":\", value)"
   ]
  },
  {
   "cell_type": "code",
   "execution_count": 41,
   "metadata": {
    "scrolled": true
   },
   "outputs": [
    {
     "name": "stdout",
     "output_type": "stream",
     "text": [
      "Date  :  Mon, 26 Aug 2019 06:00:51 GMT\n",
      "Expires  :  -1\n",
      "Cache-Control  :  private, max-age=0\n",
      "Content-Type  :  text/html; charset=ISO-8859-1\n",
      "P3P  :  CP=\"This is not a P3P policy! See g.co/p3phelp for more info.\"\n",
      "Server  :  gws\n",
      "X-XSS-Protection  :  0\n",
      "X-Frame-Options  :  SAMEORIGIN\n",
      "Set-Cookie  :  1P_JAR=2019-08-26-06; expires=Wed, 25-Sep-2019 06:00:51 GMT; path=/; domain=.google.com\n",
      "Set-Cookie  :  NID=188=iB3Ocu9QMxde8NPZr5ZIFt9dxG5wmo9Gv_pCs76PSa6Xow9h1zL9FHyJ2JHnH_xSCoTG6Pe3A52hBujYonA3dRVb4FhiFzih7XVr2pZxmCHZojXVk9_NvLbfby_7SDHmmzEB7e5FjY_03BHyCziC4oxQD7gc8-7xGEUfofSKQc0; expires=Tue, 25-Feb-2020 06:00:51 GMT; path=/; domain=.google.com; HttpOnly\n",
      "Accept-Ranges  :  none\n",
      "Vary  :  Accept-Encoding\n",
      "Connection  :  close\n"
     ]
    }
   ],
   "source": [
    "from urllib import request\n",
    "\n",
    "url =\"http://www.google.com\"\n",
    "site = request.urlopen(url)\n",
    "type(site)\n",
    "\n",
    "page = site.read()\n",
    "# print(site.status)\n",
    "headers = site.getheaders()\n",
    "# print(headers)\n",
    "\n",
    "for key,val in headers:\n",
    "    print(key, \" : \", val)"
   ]
  },
  {
   "cell_type": "code",
   "execution_count": 42,
   "metadata": {},
   "outputs": [
    {
     "data": {
      "text/plain": [
       "('./data/daum.png', <http.client.HTTPMessage at 0x1991463c4a8>)"
      ]
     },
     "execution_count": 42,
     "metadata": {},
     "output_type": "execute_result"
    }
   ],
   "source": [
    "url = 'https://t1.daumcdn.net/daumtop_chanel/op/20170315064553027.png'\n",
    "imgName = './data/daum.png' # 이미지 저장경로/저장명\n",
    "\n",
    "request.urlretrieve(url,imgName)\n",
    "\n"
   ]
  },
  {
   "cell_type": "code",
   "execution_count": 44,
   "metadata": {},
   "outputs": [],
   "source": [
    "from urllib import request\n",
    "\n",
    "url = 'https://t1.daumcdn.net/daumtop_chanel/op/20170315064553027.png'\n",
    "imgName = './data/daum3.png'\n",
    "\n",
    "# 웹에서 열기\n",
    "site = request.urlopen(url)\n",
    "img = site.read()\n",
    "\n",
    "# 파일에 저장\n",
    "with open(imgName,'wb') as f: #이미지는 바이너리이므로 wb\n",
    "    f.write(img)\n"
   ]
  },
  {
   "cell_type": "code",
   "execution_count": 48,
   "metadata": {},
   "outputs": [
    {
     "name": "stdout",
     "output_type": "stream",
     "text": [
      "http://www.example.com/html/b.html\n",
      "http://www.example.com/c.html\n",
      "http://www.example.com/sub/d.html\n",
      "http://www.example.com/sub/e.html\n",
      "http://www.example.com/sub/f.html\n",
      "http://www.mysite.com/mypage.jsp\n"
     ]
    }
   ],
   "source": [
    "from urllib import parse\n",
    "\n",
    "baseurl = \"http://www.example.com/html/a.html\"\n",
    "\n",
    "print(parse.urljoin(baseurl,'b.html'))\n",
    "print(parse.urljoin(baseurl,'/c.html'))\n",
    "print(parse.urljoin(baseurl,'../sub/d.html'))\n",
    "print(parse.urljoin(baseurl,'/sub/e.html'))\n",
    "print(parse.urljoin(baseurl,'/sub/f.html'))\n",
    "\n",
    "print(parse.urljoin(baseurl,'http://www.mysite.com/mypage.jsp'))"
   ]
  },
  {
   "cell_type": "code",
   "execution_count": null,
   "metadata": {},
   "outputs": [],
   "source": []
  }
 ],
 "metadata": {
  "kernelspec": {
   "display_name": "Python 3",
   "language": "python",
   "name": "python3"
  },
  "language_info": {
   "codemirror_mode": {
    "name": "ipython",
    "version": 3
   },
   "file_extension": ".py",
   "mimetype": "text/x-python",
   "name": "python",
   "nbconvert_exporter": "python",
   "pygments_lexer": "ipython3",
   "version": "3.7.3"
  }
 },
 "nbformat": 4,
 "nbformat_minor": 2
}
