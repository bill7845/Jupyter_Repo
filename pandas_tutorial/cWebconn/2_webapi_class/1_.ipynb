{
 "cells": [
  {
   "cell_type": "code",
   "execution_count": 59,
   "metadata": {},
   "outputs": [
    {
     "name": "stdout",
     "output_type": "stream",
     "text": [
      "Seoul\n",
      "Tokyo\n",
      "New York\n"
     ]
    }
   ],
   "source": [
    "import requests\n",
    "import json\n",
    "\n",
    "apiKey = '1db47184ebbc18af53fd996be840d270'\n",
    "url = \"http://api.openweathermap.org/data/2.5/weather?q={city}&APPID={key}\"\n",
    "\n",
    "cities = ['Seoul,KR','Tokyo,JP','New York,US']\n",
    "\n",
    "# k2c = lambda k : k-273.15\n",
    "\n",
    "for cname in cities:\n",
    "    url = api.format(city=cname , key=apiKey)\n",
    "    res = requests.get(url)\n",
    "    data = json.loads(res.text)\n",
    "    print(data['name'])\n"
   ]
  },
  {
   "cell_type": "code",
   "execution_count": 55,
   "metadata": {},
   "outputs": [
    {
     "name": "stdout",
     "output_type": "stream",
     "text": [
      "도시명 :  Seoul\n",
      "도시명 :  Tokyo\n",
      "도시명 :  New York\n"
     ]
    }
   ],
   "source": [
    "import requests\n",
    "import json\n",
    "# API 키를 지정합니다. 자신의 키로 변경해서 사용해주세요.\n",
    "apikey = \"8ab085798d8aac4342dedfb68867d6fa\"\n",
    "\n",
    "# 날씨를 확인할 도시 지정하기\n",
    "cities = [\"Seoul,KR\", \"Tokyo,JP\", \"New York,US\"]\n",
    "\n",
    "api = 'http://api.openweathermap.org/data/2.5/weather?q={city}&APPID={key}'\n",
    "\n",
    "# k2c = lambda k : k-273.15\n",
    "\n",
    "for cname in cities:\n",
    "    url = api.format(city=cname,key=apikey)\n",
    "    res = requests.get(url)\n",
    "    # print(res.text) #스트링 타입이다\n",
    "    data = json.loads(res.text)\n",
    "#     print(data)\n",
    "    print('도시명 : ',data['name'])\n",
    "#     print('날씨 : ',data['weather']['description'])\n",
    "#     print('최저온도 :',data['main']['temp_min'])\n",
    "#     print('최고온도 :',data['main']['temp_max'])\n",
    "#     print('습도 :',data['main']['humidity'])\n",
    "#     print('기압 :',data['main']['pressure'])"
   ]
  },
  {
   "cell_type": "code",
   "execution_count": null,
   "metadata": {},
   "outputs": [],
   "source": []
  }
 ],
 "metadata": {
  "kernelspec": {
   "display_name": "Python 3",
   "language": "python",
   "name": "python3"
  },
  "language_info": {
   "codemirror_mode": {
    "name": "ipython",
    "version": 3
   },
   "file_extension": ".py",
   "mimetype": "text/x-python",
   "name": "python",
   "nbconvert_exporter": "python",
   "pygments_lexer": "ipython3",
   "version": "3.7.3"
  }
 },
 "nbformat": 4,
 "nbformat_minor": 2
}
