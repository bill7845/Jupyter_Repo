{
 "cells": [
  {
   "cell_type": "code",
   "execution_count": 1,
   "metadata": {},
   "outputs": [],
   "source": [
    "'''\n",
    "    http://www.data.go.kr\n",
    "            - 회원가입필수\n",
    "            - 일반인증키 요청 ( 바로 받을 수 있고 자료요청시 바로 승인됨 )\n",
    "\n",
    "    >  관광자원통계서비스  >  상세기능 > 유료관광지방문객수조회\n",
    "    : 전국의 주요 유로관광지 방문객수를 조회하기 위한 서비스로서\n",
    "    기간,지역, 관광지별 외국인 방문객수와 내국인 방문객수를 조회한다.\n",
    "\n",
    "    의미있는 데이타를 추출하여 출력한다\n",
    "\n",
    "'''\n",
    "\n",
    "\n",
    "from urllib import request\n",
    "from urllib import parse\n",
    "\n",
    "access_key = 'gfv%2FQE9WxM7Y%2FZR%2BmfEXdk%2FYnRE9aixgUEIdoaDaKsWZGVNxhkpD83ZzAhbY3cIttskRXHal0dSoUPiF4M0EhQ%3D%3D'\n",
    "url = 'http://openapi.tour.go.kr/openapi/service/TourismResourceStatsService/getPchrgTrrsrtVisitorList'\n",
    "queryParams = '?_type=json'\n",
    "queryParams += '&serviceKey=' + access_key\n",
    "queryParams += '&YM=' + '201201'\n",
    "queryParams += '&SIDO=' + parse.quote('부산광역시')\n",
    "queryParams += '&GUNGU=' + parse.quote('해운대구')\n",
    "queryParams += '&RES_NM=' + parse.quote('부산시립미술관')"
   ]
  },
  {
   "cell_type": "code",
   "execution_count": 2,
   "metadata": {},
   "outputs": [
    {
     "name": "stdout",
     "output_type": "stream",
     "text": [
      "{\"response\":{\"header\":{\"resultCode\":\"0000\",\"resultMsg\":\"OK\"},\"body\":{\"items\":{\"item\":{\"addrCd\":2635,\"csForCnt\":286,\"csNatCnt\":9110,\"gungu\":\"해운대구\",\"resNm\":\"부산시립미술관\",\"rnum\":1,\"sido\":\"부산광역시\",\"ym\":201201}},\"numOfRows\":10,\"pageNo\":1,\"totalCount\":1}}}\n"
     ]
    }
   ],
   "source": [
    "req = request.Request(url + queryParams)\n",
    "res = request.urlopen(req)\n",
    "returnData = res.read().decode('utf-8')\n",
    "print(returnData)"
   ]
  },
  {
   "cell_type": "code",
   "execution_count": null,
   "metadata": {},
   "outputs": [],
   "source": []
  },
  {
   "cell_type": "code",
   "execution_count": null,
   "metadata": {},
   "outputs": [],
   "source": []
  },
  {
   "cell_type": "code",
   "execution_count": 6,
   "metadata": {},
   "outputs": [
    {
     "ename": "NameError",
     "evalue": "name 'nStartYear' is not defined",
     "output_type": "error",
     "traceback": [
      "\u001b[1;31m---------------------------------------------------------------------------\u001b[0m",
      "\u001b[1;31mNameError\u001b[0m                                 Traceback (most recent call last)",
      "\u001b[1;32m<ipython-input-6-cd75b1114829>\u001b[0m in \u001b[0;36m<module>\u001b[1;34m\u001b[0m\n\u001b[1;32m----> 1\u001b[1;33m \u001b[1;32mfor\u001b[0m \u001b[0myear\u001b[0m \u001b[1;32min\u001b[0m \u001b[0mrange\u001b[0m\u001b[1;33m(\u001b[0m\u001b[0mnStartYear\u001b[0m\u001b[1;33m,\u001b[0m \u001b[0mnEndYear\u001b[0m\u001b[1;33m)\u001b[0m\u001b[1;33m:\u001b[0m\u001b[1;33m\u001b[0m\u001b[1;33m\u001b[0m\u001b[0m\n\u001b[0m\u001b[0;32m      2\u001b[0m     \u001b[1;32mfor\u001b[0m \u001b[0mmonth\u001b[0m \u001b[1;32min\u001b[0m \u001b[0mrange\u001b[0m\u001b[1;33m(\u001b[0m\u001b[1;36m1\u001b[0m\u001b[1;33m,\u001b[0m\u001b[1;36m13\u001b[0m\u001b[1;33m)\u001b[0m\u001b[1;33m:\u001b[0m\u001b[1;33m\u001b[0m\u001b[1;33m\u001b[0m\u001b[0m\n\u001b[0;32m      3\u001b[0m         \u001b[0myyyymm\u001b[0m \u001b[1;33m=\u001b[0m \u001b[1;34m'{0}{1:0>2}'\u001b[0m\u001b[1;33m.\u001b[0m\u001b[0mformat\u001b[0m\u001b[1;33m(\u001b[0m\u001b[0mstr\u001b[0m\u001b[1;33m(\u001b[0m\u001b[0myear\u001b[0m\u001b[1;33m)\u001b[0m\u001b[1;33m,\u001b[0m\u001b[0mstr\u001b[0m\u001b[1;33m(\u001b[0m\u001b[0mmonth\u001b[0m\u001b[1;33m)\u001b[0m\u001b[1;33m)\u001b[0m\u001b[1;33m\u001b[0m\u001b[1;33m\u001b[0m\u001b[0m\n\u001b[0;32m      4\u001b[0m \u001b[1;33m\u001b[0m\u001b[0m\n\u001b[0;32m      5\u001b[0m     \u001b[1;32mwhile\u001b[0m \u001b[1;32mTrue\u001b[0m\u001b[1;33m:\u001b[0m\u001b[1;33m\u001b[0m\u001b[1;33m\u001b[0m\u001b[0m\n",
      "\u001b[1;31mNameError\u001b[0m: name 'nStartYear' is not defined"
     ]
    }
   ],
   "source": [
    "for year in range(nStartYear, nEndYear):\n",
    "    for month in range(1,13):\n",
    "        yyyymm = '{0}{1:0>2}'.format(str(year),str(month))\n",
    "        \n",
    "    while True:\n",
    "        json_data = getTourPointVistor(yyyymm,sido,gungu,nPagenum,nItems)\n",
    "        if json_data['response']['header']['resultMsg'] == \"OK\":\n",
    "#             print(jsonDatap['response']['body'])\n",
    "            nTotal = jsonData['response']['body']['totalCount']\n",
    "            if nTotal == 0 :\n",
    "                break\n",
    "            for item in jsonData['response']['body']['items']['items']:\n",
    "                getTourPointData(item,yyyymm,jsonResult)\n",
    "            npage = math.ceil(nTotal/100)\n",
    "            if nPagenum == nPage:break\n",
    "            nPagenum+=1\n",
    "        else : break\n",
    "    \n",
    "    with open('./data/%s_관광지입장정보_%d_%d.json' % (sido,nStartYear,nEndYear),'w',encoding='utf-8') as f:\n",
    "        SaveToJson = json.dumps(jsonResult,indent=4,sort_keys=True,ensure_ascii=False)\n",
    "        f.write(saveToJson)\n",
    "\n",
    "print(\"%s_관광지입장정보_%d_%d.json으로 저장되었읍니다.\"%(sido,nStartYear,nEndYear-1))"
   ]
  },
  {
   "cell_type": "code",
   "execution_count": null,
   "metadata": {},
   "outputs": [],
   "source": []
  }
 ],
 "metadata": {
  "kernelspec": {
   "display_name": "Python 3",
   "language": "python",
   "name": "python3"
  },
  "language_info": {
   "codemirror_mode": {
    "name": "ipython",
    "version": 3
   },
   "file_extension": ".py",
   "mimetype": "text/x-python",
   "name": "python",
   "nbconvert_exporter": "python",
   "pygments_lexer": "ipython3",
   "version": "3.7.3"
  }
 },
 "nbformat": 4,
 "nbformat_minor": 2
}
