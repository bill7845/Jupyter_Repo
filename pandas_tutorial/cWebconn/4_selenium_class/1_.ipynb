{
 "cells": [
  {
   "cell_type": "code",
   "execution_count": 2,
   "metadata": {},
   "outputs": [
    {
     "name": "stdout",
     "output_type": "stream",
     "text": [
      "\n",
      "The following command must be run outside of the IPython shell:\n",
      "\n",
      "    $ pip install selenium\n",
      "\n",
      "The Python package manager (pip) can only be used from outside of IPython.\n",
      "Please reissue the `pip` command in a separate terminal or command prompt.\n",
      "\n",
      "See the Python documentation for more information on how to install packages:\n",
      "\n",
      "    https://docs.python.org/3/installing/\n"
     ]
    }
   ],
   "source": [
    "# pip install selenium"
   ]
  },
  {
   "cell_type": "code",
   "execution_count": 10,
   "metadata": {},
   "outputs": [],
   "source": [
    "from selenium import webdriver\n",
    "\n",
    "driver = webdriver.Chrome('C:\\selenium\\chromedriver.exe')\n",
    "\n",
    "url ='http://www.google.com'\n",
    "\n",
    "driver.get(url)\n",
    "\n",
    "# dirver.save_screenshot('WebSite.png') # 캡처하기\n",
    "\n",
    "btn = driver.find_element_by_name('q')\n",
    "btn.send_keys('플레이데이터')\n",
    "btn.submit() # 해당 태그 submit 역할하고있는태그임\n",
    "\n",
    "\n"
   ]
  },
  {
   "cell_type": "code",
   "execution_count": null,
   "metadata": {},
   "outputs": [],
   "source": [
    "\"\"\"\n",
    "네이버 로그인 페이지를 실행하기\n",
    "    크롬에서 네이버 로그인 페이지를 개발자모드에서 확인하여\n",
    "    로그인 폼의 아이디와 비밀번호 입력 name 확인\n",
    "    아이디 : id\n",
    "    비밀번호 : pw\n",
    "\"\"\"\n",
    "\n",
    "from selenium import webdriver\n",
    "\n",
    "# 0. 네이버 로그인 정보\n",
    "myID = 'bill7845'\n",
    "myPW = 'qwp5197705!'\n",
    "\n",
    "# 1. webdriver 객체생성\n",
    "driver = webdriver.Chrome('./webdriver/chromedriver')\n",
    "driver.implicitly_wait(3) # 암묵적으로 자원로드될 때까지 3초 기다림\n",
    "\n",
    "# 네이버로그인 하기 -[결론] 네이버 보안에 걸림\n",
    "# 보안에 안걸렸으면 로그인된 상태로 많은 정보를 가져올 수 있다\n",
    "driver.get('https://nid.naver.com/nidlogin.login')\n",
    "driver.find_element_by_name('id').send_keys(myID)\n",
    "driver.find_element_by_name('pw').send_keys(myPW)\n",
    "# 로그인 버튼을 눌러주자.\n",
    "driver.find_element_by_xpath('//*[@id=\"frmNIDLogin\"]/fieldset/input').click()\n",
    "\n",
    "\n",
    "\"\"\" 보안에 걸리지 않으면 Naver 페이 들어가기 - 어차피 안됨\n",
    "driver.get('https://order.pay.naver.com/home')\n",
    "html = driver.page_source\n",
    "soup = BeautifulSoup(html, 'html.parser')\n",
    "notices = soup.select('div.p_inr > div.p_info > a > span')\n",
    "\n",
    "for n in notices:\n",
    "    print(n.text.strip())\n",
    "\"\"\"\n"
   ]
  },
  {
   "cell_type": "code",
   "execution_count": null,
   "metadata": {},
   "outputs": [],
   "source": [
    "## facebook 로그인\n",
    "\n",
    "from selenium import webdriver\n",
    "\n",
    "driver = webdriver.Chrome('C:\\selenium\\chromedriver.exe')\n",
    "\n",
    "url ='http://www.facebook.com'\n",
    "\n",
    "driver.get(url)\n",
    "\n",
    "# dirver.save_screenshot('WebSite.png') # 캡처하기\n",
    "\n",
    "input_id = driver.find_element_by_name('q')\n",
    "btn.send_keys('플레이데이터')\n",
    "btn.submit() # 해당 태그 submit 역할하고있는태그임"
   ]
  }
 ],
 "metadata": {
  "kernelspec": {
   "display_name": "Python 3",
   "language": "python",
   "name": "python3"
  },
  "language_info": {
   "codemirror_mode": {
    "name": "ipython",
    "version": 3
   },
   "file_extension": ".py",
   "mimetype": "text/x-python",
   "name": "python",
   "nbconvert_exporter": "python",
   "pygments_lexer": "ipython3",
   "version": "3.6.5"
  }
 },
 "nbformat": 4,
 "nbformat_minor": 2
}
