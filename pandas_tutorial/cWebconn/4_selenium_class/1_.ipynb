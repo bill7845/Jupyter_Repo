{
 "cells": [
  {
   "cell_type": "code",
   "execution_count": 4,
   "metadata": {},
   "outputs": [
    {
     "name": "stdout",
     "output_type": "stream",
     "text": [
      "Requirement already satisfied: selenium in c:\\users\\playdata\\anaconda3\\lib\\site-packages (3.141.0)\n",
      "Requirement already satisfied: urllib3 in c:\\users\\playdata\\anaconda3\\lib\\site-packages (from selenium) (1.24.2)\n",
      "Note: you may need to restart the kernel to use updated packages.\n"
     ]
    }
   ],
   "source": [
    "pip install selenium"
   ]
  },
  {
   "cell_type": "code",
   "execution_count": 6,
   "metadata": {},
   "outputs": [],
   "source": [
    "from selenium import webdriver\n",
    "\n",
    "driver = webdriver.Chrome('C:\\selenium\\chromedriver.exe')\n",
    "\n",
    "url ='http://www.google.com'\n",
    "\n",
    "driver.get(url)\n",
    "\n",
    "# dirver.save_screenshot('WebSite.png') # 캡처하기\n",
    "\n",
    "btn = driver.find_element_by_name('q')\n",
    "btn.send_keys('플레이데이터')\n",
    "btn.submit() # 해당 태그 submit 역할하고있는태그임\n",
    "\n",
    "\n"
   ]
  },
  {
   "cell_type": "code",
   "execution_count": null,
   "metadata": {},
   "outputs": [],
   "source": [
    "\"\"\"\n",
    "네이버 로그인 페이지를 실행하기\n",
    "    크롬에서 네이버 로그인 페이지를 개발자모드에서 확인하여\n",
    "    로그인 폼의 아이디와 비밀번호 입력 name 확인\n",
    "    아이디 : id\n",
    "    비밀번호 : pw\n",
    "\"\"\"\n",
    "\n",
    "from selenium import webdriver\n",
    "\n",
    "# 0. 네이버 로그인 정보\n",
    "myID = 'bill7845'\n",
    "myPW = 'qwp5197705!'\n",
    "\n",
    "# 1. webdriver 객체생성\n",
    "driver = webdriver.Chrome('./webdriver/chromedriver')\n",
    "driver.implicitly_wait(3) # 암묵적으로 자원로드될 때까지 3초 기다림\n",
    "\n",
    "# 네이버로그인 하기 -[결론] 네이버 보안에 걸림\n",
    "# 보안에 안걸렸으면 로그인된 상태로 많은 정보를 가져올 수 있다\n",
    "driver.get('https://nid.naver.com/nidlogin.login')\n",
    "driver.find_element_by_name('id').send_keys(myID)\n",
    "driver.find_element_by_name('pw').send_keys(myPW)\n",
    "# 로그인 버튼을 눌러주자.\n",
    "driver.find_element_by_xpath('//*[@id=\"frmNIDLogin\"]/fieldset/input').click()\n",
    "\n",
    "\n",
    "\"\"\" 보안에 걸리지 않으면 Naver 페이 들어가기 - 어차피 안됨\n",
    "driver.get('https://order.pay.naver.com/home')\n",
    "html = driver.page_source\n",
    "soup = BeautifulSoup(html, 'html.parser')\n",
    "notices = soup.select('div.p_inr > div.p_info > a > span')\n",
    "\n",
    "for n in notices:\n",
    "    print(n.text.strip())\n",
    "\"\"\"\n"
   ]
  },
  {
   "cell_type": "code",
   "execution_count": null,
   "metadata": {},
   "outputs": [],
   "source": [
    "## facebook 로그인\n",
    "\n",
    "from selenium import webdriver\n",
    "\n",
    "driver = webdriver.Chrome('C:\\selenium\\chromedriver.exe')\n",
    "\n",
    "url ='http://www.facebook.com'\n",
    "\n",
    "driver.get(url)\n",
    "\n",
    "# dirver.save_screenshot('WebSite.png') # 캡처하기\n",
    "\n",
    "input_id = driver.find_element_by_name('q')\n",
    "btn.send_keys('플레이데이터')\n",
    "btn.submit() # 해당 태그 submit 역할하고있는태그임"
   ]
  },
  {
   "cell_type": "code",
   "execution_count": null,
   "metadata": {},
   "outputs": [],
   "source": [
    "\"\"\"\n",
    "    [ 굽네치킨 매장 주소 가져오기 ]\n",
    "\n",
    "    굽네치킨 http:www.goobne.co.kr > 매장찾기 > 매장찾기\n",
    "                  http://www.goobne.co.kr/store/search_store.jsp\n",
    "\n",
    "    개발자모드( F12 ) 열고 페이지 번호를 누르면\n",
    "    <tbody> 부분이 교체되는 것을 볼 수 있다\n",
    "\n",
    "    또한 2번 페이지 번호에 <a href=\"javascript:store.getList('2');\">2</a>로 자바스트립트 함수를 호출한다.\n",
    "\n",
    "    이 때 WebDriver 라는 특정 웹 브라우저의 원격 제어 인터페이스를 이용하고\n",
    "    selenium 패키지를 이용하여  DOM  요소를 가져오거나 자바스크립트에서 제어하는 동작을 할 수 있도록 한다.\n",
    "\"\"\"\n",
    "\n",
    "from selenium import webdriver\n",
    "from bs4 import BeautifulSoup\n",
    "import time\n",
    "\n",
    "\n",
    "#-------------------------------1. 웹 페이지 접근\n",
    "# 웹드라이버 객체 생성\n",
    "driver = webdriver.Chrome('./webdriver/chromedriver')\n",
    "driver.implicitly_wait(2) #네트워크상 오류가 생겨서 데이터가 짤릴까봐 일부러 시간을 준다\n",
    "\n",
    "\n",
    "# 페이지 접근\n",
    "driver.get('http://www.goobne.co.kr/store/search_store.jsp')\n",
    "\n",
    "\n",
    "#-------------------------------2. 웹페이지에서 소스 가져오기\n",
    "\n",
    "## 이중반복문\n",
    "for page_idx in range(1,11):\n",
    "    driver.execute_script('store.getList(\"%s\")' %str(page_idx)) ### 셀레니움으로 javascript 동작하기 @@@@@@@@@@\n",
    "    time.sleep(3)\n",
    "    html = driver.page_source\n",
    "    soup = BeautifulSoup(html,\"html.parser\")\n",
    "    for store_list in soup.findAll('tbody', attrs={'id':\"store_list\"}):\n",
    "        name = soup.select('tr > td:first-child')\n",
    "        tel = soup.select('.store_phone > a')\n",
    "        addr = soup.select('.t_left > a')\n",
    "        print(name)\n",
    "\n",
    "        \n",
    "# for n, t, a in zip(name, tel, addr):\n",
    "# print(n.text, '-', t.text, '-', a.text)\n"
   ]
  }
 ],
 "metadata": {
  "kernelspec": {
   "display_name": "Python 3",
   "language": "python",
   "name": "python3"
  },
  "language_info": {
   "codemirror_mode": {
    "name": "ipython",
    "version": 3
   },
   "file_extension": ".py",
   "mimetype": "text/x-python",
   "name": "python",
   "nbconvert_exporter": "python",
   "pygments_lexer": "ipython3",
   "version": "3.7.3"
  }
 },
 "nbformat": 4,
 "nbformat_minor": 2
}
