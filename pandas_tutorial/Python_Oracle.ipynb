{
 "cells": [
  {
   "cell_type": "code",
   "execution_count": null,
   "metadata": {},
   "outputs": [],
   "source": []
  },
  {
   "cell_type": "code",
   "execution_count": null,
   "metadata": {},
   "outputs": [],
   "source": [
    "\n",
    "import cx_Oracle # 파이썬 oracle 연동 모듈 \n",
    "\n",
    "con = cx_Oracle.connect(\"KIHYUK/3927@192.168.0.216:1521/orcl\") # 연결 설정\n",
    "\n",
    "for data in parsing_data:\n",
    "    \n",
    "    df = main(data)\n",
    "    rows = list(df.itertuples(index=False,name=None))\n",
    "    cursor = con.cursor()\n",
    "    cursor.executemany(\"INSERT INTO HOUSE_TE(FLOOR,ADDRESS1,ADDRESS2,USER_EMAIL,RENT,SIZES,DEPOSIT,OPTIONS) VALUES(:1,:2,:3,:4,:5,:6,:7,:8)\",rows)\n",
    "    con.commit()\n",
    "\n",
    "con.close()"
   ]
  },
  {
   "cell_type": "code",
   "execution_count": null,
   "metadata": {},
   "outputs": [],
   "source": []
  },
  {
   "cell_type": "code",
   "execution_count": null,
   "metadata": {},
   "outputs": [],
   "source": []
  }
 ],
 "metadata": {
  "kernelspec": {
   "display_name": "Python 3",
   "language": "python",
   "name": "python3"
  },
  "language_info": {
   "codemirror_mode": {
    "name": "ipython",
    "version": 3
   },
   "file_extension": ".py",
   "mimetype": "text/x-python",
   "name": "python",
   "nbconvert_exporter": "python",
   "pygments_lexer": "ipython3",
   "version": "3.7.3"
  }
 },
 "nbformat": 4,
 "nbformat_minor": 2
}
