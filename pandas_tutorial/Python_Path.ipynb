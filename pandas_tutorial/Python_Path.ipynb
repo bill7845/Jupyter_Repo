{
 "cells": [
  {
   "cell_type": "markdown",
   "metadata": {},
   "source": [
    "## Python Path"
   ]
  },
  {
   "cell_type": "code",
   "execution_count": 1,
   "metadata": {},
   "outputs": [],
   "source": [
    "\"\"\"\n",
    " - import pathlib 만 선언하면\n",
    "        Path클래스 사용시 pathlib.Path라고 명시해야 한다.\n",
    "\"\"\"\n",
    "from pathlib import Path\n",
    "\n",
    "\n",
    "# (1) 해당 경로와 하위 목록들 확인\n",
    "# p = Path(\"C:\\Windows\")\n",
    "# p = Path('.')\n",
    "# print(p)\n",
    "# print(p.resolve()) # 현재 내 상대 경로를 찾아줌\n",
    "\n",
    "# p = Path('..')\n",
    "# print(p)\n",
    "# print(p.resolve()) # 현재 내 부모 경로를 찾아줌\n",
    "\n",
    "# result = []\n",
    "# for x in p.iterdir(): # 하위디렉토리와 파일을 찾아줌\n",
    "#     result.append(x)\n",
    "# print(result)\n",
    "\n",
    "# result = []\n",
    "# for x in p.iterdir():\n",
    "#     if x.is_dir():# 하위 디렉토리만 찾기 (파일제외)\n",
    "#         result.append(x)\n",
    "# print(result)\n",
    "\n",
    "# result = [i for i in p.iterdir() if i.is_dir()]\n",
    "# print(\"hh\",result)\n",
    "\n",
    "# glob()\n",
    "# sub = list(p.glob('a_datatype_class/*.py')) # 확장자 py이인 파일 찾기\n",
    "# print(sub)\n",
    "\n",
    "# sub = list(p.glob('**/data/*.py')) # 자손디렉토리중에 data 디렉토리안에 csv 파일 찾기\n",
    "# print(\"sub\",sub)"
   ]
  },
  {
   "cell_type": "code",
   "execution_count": 6,
   "metadata": {},
   "outputs": [
    {
     "name": "stdout",
     "output_type": "stream",
     "text": [
      "('a:', '\\x08abo', 'myclass', 'myjob')\n",
      "a:\n"
     ]
    }
   ],
   "source": [
    "# PurePath\n",
    "\n",
    "# 1. 존재하지 않는 파일\n",
    "from pathlib import PurePath\n",
    "\n",
    "p = PurePath('a:\\babo\\myclass\\myjob')\n",
    "\n",
    "\"\"\"\n",
    "# Path는 파일 시스템에 접근하기 때문에, 기본적으로 운영체제 상에 조작 대상 파일 경로가 존재해야 합니다.\n",
    "# PurePath는 순수 경로의 기반 클래스입니다.\n",
    "# 파일 시스템에 접근하지 않기 때문에, 운영체제 상에 존재하지 않는 파일 경로를 다룰 수도 있습니다.\n",
    "\"\"\"\n",
    "\n",
    "\"\"\"\n",
    "실제 경로도 아닌 가짜 경로를 관리하는 PurePath를 어디에 사용할까?\n",
    "# 아마도 경로나 파일명만 조작할 때 사용하지 않을까?\n",
    "# 해당 경로나 파일명이 현재 컴퓨터가 아니기에 이름만 관리하는 작업이 필요할 듯 싶다\n",
    "\"\"\"\n",
    "\n",
    "\n",
    "print(p.parts)\n",
    "print(p.drive)"
   ]
  },
  {
   "cell_type": "code",
   "execution_count": null,
   "metadata": {},
   "outputs": [],
   "source": [
    "# 경로 붙이기\n",
    "\n",
    "p = PurePath(\"mywork\")\n",
    "\n",
    "c = p / 'python' / 'myclass'\n",
    "print(c)\n",
    "\n",
    "d = p.joinpath('java','ourjo','best')\n",
    "print(c)\n",
    "\n",
    "subdir = ('python','java','c')\n",
    "e = p.joinpath(*subdir)\n",
    "print(e)\n"
   ]
  },
  {
   "cell_type": "code",
   "execution_count": 10,
   "metadata": {},
   "outputs": [
    {
     "name": "stdout",
     "output_type": "stream",
     "text": [
      "('C:\\\\', 'Windows', 'System32', 'drivers', 'etc', 'hosts')\n",
      "drivers\n",
      "[PureWindowsPath('C:/Windows/System32/drivers/etc'), PureWindowsPath('C:/Windows/System32/drivers'), PureWindowsPath('C:/Windows/System32'), PureWindowsPath('C:/Windows'), PureWindowsPath('C:/')]\n",
      "C:\\Windows\\System32\\drivers\\etc\n"
     ]
    }
   ],
   "source": [
    "#  부모경로 찾기\n",
    "p = PurePath(\"C:/Windows/System32/drivers/etc/hosts\")\n",
    "print(p.parts)\n",
    "print(p.parts[3])\n",
    "\n",
    "print(list(p.parents))\n",
    "print(p.parents[0])"
   ]
  },
  {
   "cell_type": "code",
   "execution_count": null,
   "metadata": {},
   "outputs": [],
   "source": []
  },
  {
   "cell_type": "code",
   "execution_count": null,
   "metadata": {},
   "outputs": [],
   "source": [
    "from pathlib import Path\n",
    "\n",
    "#  1. 상태의 경로보기\n",
    "print(Path.cwd())\n",
    "print(Path.home()) # 윈도우 C:/User/계정명    리눅스(hadoop) : /home/hadoop/\n",
    "\n",
    "\n",
    "\n"
   ]
  },
  {
   "cell_type": "code",
   "execution_count": null,
   "metadata": {},
   "outputs": [],
   "source": []
  },
  {
   "cell_type": "code",
   "execution_count": null,
   "metadata": {},
   "outputs": [],
   "source": []
  },
  {
   "cell_type": "code",
   "execution_count": null,
   "metadata": {},
   "outputs": [],
   "source": []
  },
  {
   "cell_type": "code",
   "execution_count": null,
   "metadata": {},
   "outputs": [],
   "source": []
  }
 ],
 "metadata": {
  "kernelspec": {
   "display_name": "Python 3",
   "language": "python",
   "name": "python3"
  },
  "language_info": {
   "codemirror_mode": {
    "name": "ipython",
    "version": 3
   },
   "file_extension": ".py",
   "mimetype": "text/x-python",
   "name": "python",
   "nbconvert_exporter": "python",
   "pygments_lexer": "ipython3",
   "version": "3.7.3"
  }
 },
 "nbformat": 4,
 "nbformat_minor": 2
}
