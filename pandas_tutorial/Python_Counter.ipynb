{
 "cells": [
  {
   "cell_type": "markdown",
   "metadata": {},
   "source": [
    "## Python Counter module"
   ]
  },
  {
   "cell_type": "code",
   "execution_count": 1,
   "metadata": {},
   "outputs": [],
   "source": [
    "from collections import Counter"
   ]
  },
  {
   "cell_type": "code",
   "execution_count": 2,
   "metadata": {},
   "outputs": [
    {
     "name": "stdout",
     "output_type": "stream",
     "text": [
      "Counter({'o': 6, 'g': 1, 'd': 1})\n"
     ]
    }
   ],
   "source": [
    "text = list('gooooood')\n",
    "\n",
    "c = Counter(text)\n",
    "\n",
    "print(c)"
   ]
  },
  {
   "cell_type": "code",
   "execution_count": 8,
   "metadata": {},
   "outputs": [
    {
     "name": "stdout",
     "output_type": "stream",
     "text": [
      "Counter({'yello': 5, 'red': 2})\n",
      "['yello', 'yello', 'yello', 'yello', 'yello', 'red', 'red']\n"
     ]
    }
   ],
   "source": [
    "# dict 타입의 초기값이 들어올 경우\n",
    "# dict ->list로 unpacking 하기\n",
    "# value가 int인 경우만 가능\n",
    "\n",
    "c = Counter({'yello' : 5, 'red' :2})\n",
    "print(c)\n",
    "print(list(c.elements()))"
   ]
  },
  {
   "cell_type": "code",
   "execution_count": 7,
   "metadata": {
    "scrolled": true
   },
   "outputs": [
    {
     "name": "stdout",
     "output_type": "stream",
     "text": [
      "Counter({'b': 4, 'a': 3})\n",
      "['a', 'a', 'a', 'b', 'b', 'b', 'b']\n"
     ]
    }
   ],
   "source": [
    "\n",
    "\n",
    "c = Counter({'a' :3 , 'b' : 4})\n",
    "print(c)\n",
    "print(list(c.elements()))"
   ]
  },
  {
   "cell_type": "code",
   "execution_count": null,
   "metadata": {},
   "outputs": [],
   "source": []
  }
 ],
 "metadata": {
  "kernelspec": {
   "display_name": "Python 3",
   "language": "python",
   "name": "python3"
  },
  "language_info": {
   "codemirror_mode": {
    "name": "ipython",
    "version": 3
   },
   "file_extension": ".py",
   "mimetype": "text/x-python",
   "name": "python",
   "nbconvert_exporter": "python",
   "pygments_lexer": "ipython3",
   "version": "3.7.3"
  }
 },
 "nbformat": 4,
 "nbformat_minor": 2
}
