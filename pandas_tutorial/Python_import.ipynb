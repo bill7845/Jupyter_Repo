{
 "cells": [
  {
   "cell_type": "markdown",
   "metadata": {},
   "source": [
    "#### python import"
   ]
  },
  {
   "cell_type": "markdown",
   "metadata": {},
   "source": [
    "* module -> python 파일"
   ]
  },
  {
   "cell_type": "code",
   "execution_count": null,
   "metadata": {},
   "outputs": [],
   "source": [
    "#  first.py\n",
    "\n",
    "# print('first 모듈 시작')\n",
    "# print('first.py __name__:', __name__)    # __name__ 변수 출력\n",
    "# print('first 모듈 끝')"
   ]
  },
  {
   "cell_type": "code",
   "execution_count": null,
   "metadata": {},
   "outputs": [],
   "source": [
    "# second.py\n",
    "\n",
    "# import first  # fist 모듈을 가져옴\n",
    "\n",
    "# print('second.py __name__:', __name__)  # __name__ 변수 출력"
   ]
  },
  {
   "cell_type": "code",
   "execution_count": null,
   "metadata": {},
   "outputs": [],
   "source": [
    "#  secon.py 실행결과\n",
    "\n",
    "## import 시 import한 파일을 그대로 한번 실행한다.\n",
    "## import파일 실행 후 내 파일 실행\n",
    "\n",
    "# first 모듈 시작\n",
    "# first.py __name__: first      # import해온 모듈의 경우 __name__ => 모듈명\n",
    "# first 모듈 끝\n",
    "# second.py __name__: __main__\n"
   ]
  },
  {
   "cell_type": "code",
   "execution_count": 2,
   "metadata": {},
   "outputs": [],
   "source": [
    "#  python의 프로그램 시작점 만들기\n",
    "\n",
    "# if __name__ == '__main__' : # 모듈을 import해온 경우에 이 코드가 없으면 import 모듈 부터 실행하게 된다\n",
    "#실행 내용\n",
    "    "
   ]
  },
  {
   "cell_type": "code",
   "execution_count": 3,
   "metadata": {},
   "outputs": [],
   "source": [
    "################################\n",
    "# if__name__ == '__main__' \n",
    "# 모듈을 실행하는 해당 파일에서만 main으로 실행이 된다"
   ]
  }
 ],
 "metadata": {
  "kernelspec": {
   "display_name": "Python 3",
   "language": "python",
   "name": "python3"
  },
  "language_info": {
   "codemirror_mode": {
    "name": "ipython",
    "version": 3
   },
   "file_extension": ".py",
   "mimetype": "text/x-python",
   "name": "python",
   "nbconvert_exporter": "python",
   "pygments_lexer": "ipython3",
   "version": "3.7.3"
  }
 },
 "nbformat": 4,
 "nbformat_minor": 2
}
