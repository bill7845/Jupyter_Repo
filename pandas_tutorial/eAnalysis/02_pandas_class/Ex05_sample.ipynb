{
 "cells": [
  {
   "cell_type": "markdown",
   "metadata": {},
   "source": [
    "###  데이타 분석\n",
    "\n",
    "데이타 -> 필터링 -> 정제 -> 시각화 -> 분석\n",
    "\n",
    "\n",
    "### 데이타 필터링\n",
    "\n",
    "분석에 필요한 데이타를 거르는 작업\n",
    "\n",
    "# 고속버스 데이타셋에서 인사이트를 도출\n",
    "\n",
    "[예] \n",
    "\n",
    "1. 우승고속에 대한 데이타 필터링(추출)\n",
    "\n",
    "2. 경부선에서 총이용인원이 1000명 이상인 데이타 필터링(추출)\n",
    "\n",
    "3. 그 외 데이타를 찾아내시오"
   ]
  },
  {
   "cell_type": "code",
   "execution_count": 64,
   "metadata": {
    "scrolled": true
   },
   "outputs": [
    {
     "data": {
      "text/html": [
       "<div>\n",
       "<style scoped>\n",
       "    .dataframe tbody tr th:only-of-type {\n",
       "        vertical-align: middle;\n",
       "    }\n",
       "\n",
       "    .dataframe tbody tr th {\n",
       "        vertical-align: top;\n",
       "    }\n",
       "\n",
       "    .dataframe thead th {\n",
       "        text-align: right;\n",
       "    }\n",
       "</style>\n",
       "<table border=\"1\" class=\"dataframe\">\n",
       "  <thead>\n",
       "    <tr style=\"text-align: right;\">\n",
       "      <th></th>\n",
       "      <th>차종</th>\n",
       "      <th>선별</th>\n",
       "      <th>출발지</th>\n",
       "      <th>도착지</th>\n",
       "      <th>거리</th>\n",
       "      <th>총운행횟수</th>\n",
       "      <th>총이용인원</th>\n",
       "      <th>이용율</th>\n",
       "    </tr>\n",
       "  </thead>\n",
       "  <tbody>\n",
       "    <tr>\n",
       "      <th>0</th>\n",
       "      <td>우등</td>\n",
       "      <td>88선</td>\n",
       "      <td>광주</td>\n",
       "      <td>울산</td>\n",
       "      <td>327.8</td>\n",
       "      <td>412</td>\n",
       "      <td>7283</td>\n",
       "      <td>63.1</td>\n",
       "    </tr>\n",
       "    <tr>\n",
       "      <th>1</th>\n",
       "      <td>고속</td>\n",
       "      <td>88선</td>\n",
       "      <td>광주</td>\n",
       "      <td>울산</td>\n",
       "      <td>327.8</td>\n",
       "      <td>145</td>\n",
       "      <td>3050</td>\n",
       "      <td>46.7</td>\n",
       "    </tr>\n",
       "    <tr>\n",
       "      <th>2</th>\n",
       "      <td>우등</td>\n",
       "      <td>88선</td>\n",
       "      <td>광주</td>\n",
       "      <td>울산신복</td>\n",
       "      <td>327.8</td>\n",
       "      <td>164</td>\n",
       "      <td>545</td>\n",
       "      <td>11.9</td>\n",
       "    </tr>\n",
       "    <tr>\n",
       "      <th>3</th>\n",
       "      <td>고속</td>\n",
       "      <td>88선</td>\n",
       "      <td>광주</td>\n",
       "      <td>울산신복</td>\n",
       "      <td>327.8</td>\n",
       "      <td>70</td>\n",
       "      <td>311</td>\n",
       "      <td>9.9</td>\n",
       "    </tr>\n",
       "    <tr>\n",
       "      <th>4</th>\n",
       "      <td>우등</td>\n",
       "      <td>88선</td>\n",
       "      <td>광주</td>\n",
       "      <td>동대구</td>\n",
       "      <td>219.3</td>\n",
       "      <td>1369</td>\n",
       "      <td>21873</td>\n",
       "      <td>57.1</td>\n",
       "    </tr>\n",
       "  </tbody>\n",
       "</table>\n",
       "</div>"
      ],
      "text/plain": [
       "   차종   선별 출발지   도착지     거리  총운행횟수  총이용인원   이용율\n",
       "0  우등  88선  광주    울산  327.8    412   7283  63.1\n",
       "1  고속  88선  광주    울산  327.8    145   3050  46.7\n",
       "2  우등  88선  광주  울산신복  327.8    164    545  11.9\n",
       "3  고속  88선  광주  울산신복  327.8     70    311   9.9\n",
       "4  우등  88선  광주   동대구  219.3   1369  21873  57.1"
      ]
     },
     "execution_count": 64,
     "metadata": {},
     "output_type": "execute_result"
    }
   ],
   "source": [
    "import pandas as pd\n",
    "\n",
    "df = pd.read_excel('data/고속버스.xlsx') \n",
    "       # sheetname='highway'  encoding='cp949' 추가 안해도 실행  \n",
    "df.head()  # 상위 5개만 보임"
   ]
  },
  {
   "cell_type": "markdown",
   "metadata": {},
   "source": [
    "[연습]"
   ]
  },
  {
   "cell_type": "code",
   "execution_count": 65,
   "metadata": {
    "scrolled": true
   },
   "outputs": [
    {
     "data": {
      "text/plain": [
       "count    351.000000\n",
       "mean      52.118803\n",
       "std       38.423247\n",
       "min        4.600000\n",
       "25%       37.650000\n",
       "50%       48.700000\n",
       "75%       59.950000\n",
       "max      588.900000\n",
       "Name: 이용율, dtype: float64"
      ]
     },
     "execution_count": 65,
     "metadata": {},
     "output_type": "execute_result"
    }
   ],
   "source": [
    "# 이용율 살펴보기\n",
    "df['이용율'].describe()"
   ]
  },
  {
   "cell_type": "code",
   "execution_count": 66,
   "metadata": {
    "scrolled": false
   },
   "outputs": [
    {
     "data": {
      "text/html": [
       "<div>\n",
       "<style scoped>\n",
       "    .dataframe tbody tr th:only-of-type {\n",
       "        vertical-align: middle;\n",
       "    }\n",
       "\n",
       "    .dataframe tbody tr th {\n",
       "        vertical-align: top;\n",
       "    }\n",
       "\n",
       "    .dataframe thead th {\n",
       "        text-align: right;\n",
       "    }\n",
       "</style>\n",
       "<table border=\"1\" class=\"dataframe\">\n",
       "  <thead>\n",
       "    <tr style=\"text-align: right;\">\n",
       "      <th></th>\n",
       "      <th>차종</th>\n",
       "      <th>선별</th>\n",
       "      <th>출발지</th>\n",
       "      <th>도착지</th>\n",
       "      <th>거리</th>\n",
       "      <th>총운행횟수</th>\n",
       "      <th>총이용인원</th>\n",
       "      <th>이용율</th>\n",
       "    </tr>\n",
       "  </thead>\n",
       "  <tbody>\n",
       "    <tr>\n",
       "      <th>269</th>\n",
       "      <td>우등</td>\n",
       "      <td>호남선</td>\n",
       "      <td>서울호남</td>\n",
       "      <td>삼호</td>\n",
       "      <td>365.4</td>\n",
       "      <td>79</td>\n",
       "      <td>162</td>\n",
       "      <td>4.6</td>\n",
       "    </tr>\n",
       "    <tr>\n",
       "      <th>268</th>\n",
       "      <td>고속</td>\n",
       "      <td>호남선</td>\n",
       "      <td>서울호남</td>\n",
       "      <td>삼호</td>\n",
       "      <td>365.4</td>\n",
       "      <td>18</td>\n",
       "      <td>38</td>\n",
       "      <td>7.5</td>\n",
       "    </tr>\n",
       "    <tr>\n",
       "      <th>81</th>\n",
       "      <td>고속</td>\n",
       "      <td>경부선</td>\n",
       "      <td>철산</td>\n",
       "      <td>천안</td>\n",
       "      <td>110.9</td>\n",
       "      <td>564</td>\n",
       "      <td>2425</td>\n",
       "      <td>9.6</td>\n",
       "    </tr>\n",
       "    <tr>\n",
       "      <th>3</th>\n",
       "      <td>고속</td>\n",
       "      <td>88선</td>\n",
       "      <td>광주</td>\n",
       "      <td>울산신복</td>\n",
       "      <td>327.8</td>\n",
       "      <td>70</td>\n",
       "      <td>311</td>\n",
       "      <td>9.9</td>\n",
       "    </tr>\n",
       "    <tr>\n",
       "      <th>67</th>\n",
       "      <td>고속</td>\n",
       "      <td>경부선</td>\n",
       "      <td>인천</td>\n",
       "      <td>아산온양</td>\n",
       "      <td>120.1</td>\n",
       "      <td>379</td>\n",
       "      <td>1737</td>\n",
       "      <td>10.2</td>\n",
       "    </tr>\n",
       "  </tbody>\n",
       "</table>\n",
       "</div>"
      ],
      "text/plain": [
       "     차종   선별   출발지   도착지     거리  총운행횟수  총이용인원   이용율\n",
       "269  우등  호남선  서울호남    삼호  365.4     79    162   4.6\n",
       "268  고속  호남선  서울호남    삼호  365.4     18     38   7.5\n",
       "81   고속  경부선    철산    천안  110.9    564   2425   9.6\n",
       "3    고속  88선    광주  울산신복  327.8     70    311   9.9\n",
       "67   고속  경부선    인천  아산온양  120.1    379   1737  10.2"
      ]
     },
     "execution_count": 66,
     "metadata": {},
     "output_type": "execute_result"
    }
   ],
   "source": [
    "# 이용율 백분위수 비교\n",
    "\n",
    "df_tmp = df[df['이용율'] < 37.65].sort_values(by=\"이용율\") # 이용율 하위 25%\n",
    "df_tmp.head()"
   ]
  },
  {
   "cell_type": "markdown",
   "metadata": {},
   "source": [
    "#### 이용율 백분위수에 따른 노선 수익지표 등급화 <BR>\n",
    "    \n",
    "> 이용율 상위 25% => 'A' , 25~50 => 'B' , 50~75 => 'C' , 75~100 => 'D'로 등급을 세분화"
   ]
  },
  {
   "cell_type": "code",
   "execution_count": 79,
   "metadata": {},
   "outputs": [],
   "source": [
    "# 등급 세분화 함수\n",
    "def func(x):\n",
    "    if x >= 59.95:\n",
    "        cate='A'\n",
    "    elif x >= 48.7:\n",
    "        cate='B'\n",
    "    elif x >= 37.65:\n",
    "        cate='C'\n",
    "    else:\n",
    "        cate='D'\n",
    "    return cate"
   ]
  },
  {
   "cell_type": "code",
   "execution_count": 68,
   "metadata": {},
   "outputs": [],
   "source": [
    "df['이용율'] = df['이용율'].apply(func)"
   ]
  },
  {
   "cell_type": "code",
   "execution_count": 69,
   "metadata": {
    "scrolled": true
   },
   "outputs": [
    {
     "data": {
      "text/plain": [
       "0      A\n",
       "1      C\n",
       "2      D\n",
       "3      D\n",
       "4      B\n",
       "5      C\n",
       "6      C\n",
       "7      B\n",
       "8      A\n",
       "9      D\n",
       "10     C\n",
       "11     B\n",
       "12     C\n",
       "13     D\n",
       "14     B\n",
       "15     C\n",
       "16     B\n",
       "17     B\n",
       "18     A\n",
       "19     C\n",
       "20     B\n",
       "21     A\n",
       "22     A\n",
       "23     A\n",
       "24     A\n",
       "25     A\n",
       "26     B\n",
       "27     B\n",
       "28     B\n",
       "29     C\n",
       "      ..\n",
       "321    B\n",
       "322    C\n",
       "323    D\n",
       "324    A\n",
       "325    C\n",
       "326    C\n",
       "327    C\n",
       "328    D\n",
       "329    B\n",
       "330    C\n",
       "331    D\n",
       "332    D\n",
       "333    D\n",
       "334    A\n",
       "335    D\n",
       "336    B\n",
       "337    C\n",
       "338    B\n",
       "339    D\n",
       "340    C\n",
       "341    C\n",
       "342    D\n",
       "343    C\n",
       "344    A\n",
       "345    B\n",
       "346    C\n",
       "347    B\n",
       "348    A\n",
       "349    A\n",
       "350    D\n",
       "Name: 이용율, Length: 351, dtype: category\n",
       "Categories (4, object): [A, B, C, D]"
      ]
     },
     "execution_count": 69,
     "metadata": {},
     "output_type": "execute_result"
    }
   ],
   "source": [
    "df['이용율'].astype('category')"
   ]
  },
  {
   "cell_type": "code",
   "execution_count": 70,
   "metadata": {},
   "outputs": [
    {
     "data": {
      "text/plain": [
       "이용율\n",
       "A    88\n",
       "B    88\n",
       "C    87\n",
       "D    88\n",
       "dtype: int64"
      ]
     },
     "execution_count": 70,
     "metadata": {},
     "output_type": "execute_result"
    }
   ],
   "source": [
    "df_res = df.groupby(df['이용율']).size()\n",
    "df_res"
   ]
  },
  {
   "cell_type": "code",
   "execution_count": 71,
   "metadata": {},
   "outputs": [],
   "source": [
    "df_A = df[df['이용율'] == 'A']"
   ]
  },
  {
   "cell_type": "code",
   "execution_count": 73,
   "metadata": {
    "scrolled": true
   },
   "outputs": [
    {
     "data": {
      "text/plain": [
       "차종\n",
       "고속    45\n",
       "우등    43\n",
       "dtype: int64"
      ]
     },
     "execution_count": 73,
     "metadata": {},
     "output_type": "execute_result"
    }
   ],
   "source": [
    "df_res1 = df_A.groupby(df_A['차종']).size()\n",
    "df_res1"
   ]
  },
  {
   "cell_type": "code",
   "execution_count": 80,
   "metadata": {},
   "outputs": [],
   "source": [
    "df_D = df[df['이용율'] == 'D']"
   ]
  },
  {
   "cell_type": "code",
   "execution_count": 81,
   "metadata": {
    "scrolled": true
   },
   "outputs": [
    {
     "data": {
      "text/plain": [
       "차종\n",
       "고속    54\n",
       "우등    34\n",
       "dtype: int64"
      ]
     },
     "execution_count": 81,
     "metadata": {},
     "output_type": "execute_result"
    }
   ],
   "source": [
    "df_res2 = df_D.groupby(df_D['차종']).size()\n",
    "df_res2"
   ]
  },
  {
   "cell_type": "markdown",
   "metadata": {},
   "source": [
    "## 분석 결과 <br>\n",
    "\n",
    "> 이용율 등급간 차종 비교결과, A등급의 경우 전체 88개의 데이터 중 고속버스가 45건으로 우등버스에 비해 2건 더 많음\n",
    "\n",
    "> D등급의 경우 전체 88개의 데이터 중 우등버스가 49건으로 20건 더 많음"
   ]
  },
  {
   "cell_type": "code",
   "execution_count": 93,
   "metadata": {},
   "outputs": [
    {
     "data": {
      "text/plain": [
       "<matplotlib.axes._subplots.AxesSubplot at 0x2cc37c3e6d8>"
      ]
     },
     "execution_count": 93,
     "metadata": {},
     "output_type": "execute_result"
    },
    {
     "data": {
      "image/png": "[encoded data removed]",
      "text/plain": [
       "<Figure size 432x288 with 1 Axes>"
      ]
     },
     "metadata": {},
     "output_type": "display_data"
    }
   ],
   "source": [
    "from matplotlib import rc\n",
    "\n",
    "rc('font',family='Malgun Gothic')\n",
    "\n",
    "df_res2.plot(kind='bar',title=\"D등급 노선 차종별 비교\")"
   ]
  }
 ],
 "metadata": {
  "kernelspec": {
   "display_name": "Python 3",
   "language": "python",
   "name": "python3"
  },
  "language_info": {
   "codemirror_mode": {
    "name": "ipython",
    "version": 3
   },
   "file_extension": ".py",
   "mimetype": "text/x-python",
   "name": "python",
   "nbconvert_exporter": "python",
   "pygments_lexer": "ipython3",
   "version": "3.6.5"
  }
 },
 "nbformat": 4,
 "nbformat_minor": 2
}
