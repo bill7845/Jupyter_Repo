{
 "cells": [
  {
   "cell_type": "markdown",
   "metadata": {},
   "source": [
    "### 난수 발생\n",
    "\n",
    "+ 파이썬 내장 random 모듈보다 더 빠르게 많은 난수 표본 데이타를 생성\n",
    "\n",
    "+ 적합한 난수는 시뮬레이션의 결과에 영향을 미치기에 중요함\n",
    "\n",
    "\n",
    "[ ex ] 시뮬레이션의 난수 발생\n",
    "\n",
    "침대 매트릭스의 충격완화 시뮬레이션을 한다고 할 때 1번 실험에 공을 50번을 던진다면 힘의 세기를 0~1 단위라고 할 때 임의의 힘의 세기로 50번 던졌을 때 평균 강도를 구할 수 있는데, 이 때 임의의 수 난수 발생을 numpy를 이용한다.\n",
    "그러나 기본 패키지의 random 함수를 이용하지 않고 numpy을 이용하는 이유는 numpy가 속도도 빠르고 더 세밀하게 난수를 발생시킨다.\n",
    "\n",
    "\n",
    "\n",
    "####  numpy의 난수 발생 함수의 차이를 조사하세요\n",
    "\n",
    "\n",
    "    1) np.random.random([n, m])\n",
    "\n",
    "    2) np.random.normal(size=( n, m))\n",
    "\n",
    "    3) np.random.randn(n,m)\n",
    "\n",
    "    4) np.random.rand(n,m)\n",
    "    \n",
    "    5) np.random.randint(n, m)\n",
    "    \n",
    " "
   ]
  },
  {
   "cell_type": "code",
   "execution_count": 1,
   "metadata": {},
   "outputs": [],
   "source": [
    "import numpy as np"
   ]
  },
  {
   "cell_type": "code",
   "execution_count": 3,
   "metadata": {},
   "outputs": [
    {
     "data": {
      "text/plain": [
       "array([[0.93848657, 0.98139836, 0.41545129],\n",
       "       [0.66963131, 0.41442932, 0.08367079],\n",
       "       [0.25320383, 0.4048124 , 0.12883898]])"
      ]
     },
     "execution_count": 3,
     "metadata": {},
     "output_type": "execute_result"
    }
   ],
   "source": [
    "arr = np.random.random([3,3])\n",
    "arr"
   ]
  },
  {
   "cell_type": "code",
   "execution_count": 5,
   "metadata": {},
   "outputs": [
    {
     "data": {
      "text/plain": [
       "array([[ 0.57237749, -0.25918886, -0.72672552],\n",
       "       [-1.35297781,  0.11293476, -0.69126552],\n",
       "       [ 0.62626905,  0.63516503, -1.55089158]])"
      ]
     },
     "execution_count": 5,
     "metadata": {},
     "output_type": "execute_result"
    }
   ],
   "source": [
    "arr1 = np.random.normal(size=(3,3))\n",
    "arr1"
   ]
  },
  {
   "cell_type": "code",
   "execution_count": 7,
   "metadata": {},
   "outputs": [
    {
     "data": {
      "text/plain": [
       "array([[-1.07645632, -0.23746532, -0.56157391],\n",
       "       [-0.96505796, -0.15614512,  0.23386518],\n",
       "       [-0.78933208, -1.93416712,  0.32356936]])"
      ]
     },
     "execution_count": 7,
     "metadata": {},
     "output_type": "execute_result"
    }
   ],
   "source": [
    "arr2 = np.random.randn(3,3)\n",
    "arr2"
   ]
  },
  {
   "cell_type": "code",
   "execution_count": 8,
   "metadata": {},
   "outputs": [
    {
     "data": {
      "text/plain": [
       "array([[0.06456846, 0.87449821, 0.44229689],\n",
       "       [0.16837791, 0.26376765, 0.96122541],\n",
       "       [0.9876423 , 0.54010428, 0.70643262]])"
      ]
     },
     "execution_count": 8,
     "metadata": {},
     "output_type": "execute_result"
    }
   ],
   "source": [
    "arr3 = np.random.rand(3,3)\n",
    "arr3"
   ]
  },
  {
   "cell_type": "code",
   "execution_count": 10,
   "metadata": {},
   "outputs": [
    {
     "data": {
      "text/plain": [
       "7"
      ]
     },
     "execution_count": 10,
     "metadata": {},
     "output_type": "execute_result"
    }
   ],
   "source": [
    "arr4 = np.random.randint(1,10)\n",
    "arr4"
   ]
  },
  {
   "cell_type": "code",
   "execution_count": 17,
   "metadata": {},
   "outputs": [
    {
     "data": {
      "text/plain": [
       "[<matplotlib.lines.Line2D at 0x1f017303978>]"
      ]
     },
     "execution_count": 17,
     "metadata": {},
     "output_type": "execute_result"
    },
    {
     "data": {
      "image/png": "[encoded data removed]",
      "text/plain": [
       "<Figure size 432x288 with 1 Axes>"
      ]
     },
     "metadata": {
      "needs_background": "light"
     },
     "output_type": "display_data"
    }
   ],
   "source": [
    "import matplotlib.pyplot as plt\n",
    "\n",
    "a = np.random.randn(100)\n",
    "\n",
    "plt.plot(a)"
   ]
  },
  {
   "cell_type": "markdown",
   "metadata": {},
   "source": [
    "### [참고] \n",
    "\n",
    "+ random\t: 0.0에서 1.0 사이의 난수 추출\n",
    "\n",
    "+ rand\t: 균등분포에서 표준 추출\n",
    "\n",
    "+ randint\t: 최소, 최대 범위내에서 임으의 난수 추출\n",
    "\n",
    "+ randn\t: 표준편차 1, 평균값 0인 정규붙포에서 표준 추출\n",
    "\n",
    "+ normal\t: 정규분포에서 표준추출\n",
    "\n",
    "+ shuffle\t: 리스트나 배열의 순서를 뒤섞음\n"
   ]
  },
  {
   "cell_type": "markdown",
   "metadata": {},
   "source": [
    "### [참고]\n",
    "\n",
    "\n",
    "NumPy의 random 서브패키지에는 난수를 생성하는 다양한 명령을 제공한다. 그 중 가장 간단하고 많이 사용되는 것은 다음 3가지 명령이다.\n",
    "\n",
    "\n",
    "•\trand: 0부터 1사이의 균일 분포\n",
    "\n",
    "•\trandn: 가우시안 표준 정규 분포\n",
    "\n",
    "•\trandint: 균일 분포의 정수 난수\n",
    "\n",
    "rand 명령은 0부터 1사이에서 균일한 확률 분포로 실수 난수를 생성한다. 숫자 인수는 생성할 난수의 크기이다. 여러개의 인수를 넣으면 해당 크기를 가진 행렬을 생성한다."
   ]
  },
  {
   "cell_type": "markdown",
   "metadata": {},
   "source": [
    "### [참고] 데이타 사이언스 스쿨 \n",
    "\n",
    "파이썬 > 난수 발생과 카운팅\n",
    "\n",
    "https://datascienceschool.net/view-notebook/8bf41f87a08b4c44b307799577736a28/"
   ]
  }
 ],
 "metadata": {
  "kernelspec": {
   "display_name": "Python 3",
   "language": "python",
   "name": "python3"
  },
  "language_info": {
   "codemirror_mode": {
    "name": "ipython",
    "version": 3
   },
   "file_extension": ".py",
   "mimetype": "text/x-python",
   "name": "python",
   "nbconvert_exporter": "python",
   "pygments_lexer": "ipython3",
   "version": "3.7.3"
  }
 },
 "nbformat": 4,
 "nbformat_minor": 2
}
