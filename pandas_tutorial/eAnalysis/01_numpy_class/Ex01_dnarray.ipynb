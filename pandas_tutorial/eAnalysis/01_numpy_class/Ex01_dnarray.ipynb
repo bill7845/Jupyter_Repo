{
 "cells": [
  {
   "cell_type": "markdown",
   "metadata": {},
   "source": [
    "# numpy\n",
    "\n",
    "\n",
    "- 행렬 / 선형대수 / 통계 패키지\n",
    "\n",
    "- 머신러닝의 이론적 백그라운드는 선형대수와 통계로 이루어져 있다\n",
    "\n",
    "- 사이킷런 같은 머신러닝 패키지가 넘파이 기반으로 되어 있다\n",
    "\n",
    "\n",
    "    * 머신러닝 알고리즘이나 사이파이와 같은 과학, 통계 지원용 패키지를 직접 만드는 개발이 아니라면\n",
    "    넘파이를 상세하기 알 필요는 없다지만, 넘파이를 이해하는 것이 파이썬 기반의 데이타분석과 머신러닝에 중요하다\n",
    "    \n",
    "    * 넘파이가 데이타 핸들링에 효율적으로 쉽고 편하고 할 수 없다.\n",
    "      그러나 데이타 핸들링에 주로 사용하는 판다스도 많은 부분이 넘파이를 기반으로 만들어져 있다.\n",
    "    \n",
    "    * ndarray \n",
    "        - 넘파이 기반 데이타 타입\n",
    "        - np.array()\n",
    "    * 자료형 정리\n",
    "        + 파이썬(list / tuple)\n",
    "        + numpy(dnarray)\n",
    "        + pandas(dataframe / series)"
   ]
  },
  {
   "cell_type": "code",
   "execution_count": 6,
   "metadata": {},
   "outputs": [
    {
     "name": "stdout",
     "output_type": "stream",
     "text": [
      "<class 'numpy.ndarray'>\n",
      "(2, 3)\n"
     ]
    }
   ],
   "source": [
    "import numpy as np\n",
    "\n",
    "list_1 = [1,2,3]\n",
    "list_2 = [9,8,7]\n",
    "\n",
    "arr = np.array([list_1,list_2])\n",
    "arr\n",
    "print(type(arr))\n",
    "print(arr.shape)"
   ]
  },
  {
   "cell_type": "code",
   "execution_count": 12,
   "metadata": {},
   "outputs": [
    {
     "data": {
      "text/plain": [
       "array([[  1,   2,   3],\n",
       "       [  9, 100,   7]])"
      ]
     },
     "execution_count": 12,
     "metadata": {},
     "output_type": "execute_result"
    }
   ],
   "source": [
    "# 두번째행에 두번째 열의 값 100으로\n",
    "\n",
    "arr[1][1] = 100\n",
    "arr"
   ]
  },
  {
   "cell_type": "code",
   "execution_count": 21,
   "metadata": {},
   "outputs": [
    {
     "data": {
      "text/plain": [
       "1"
      ]
     },
     "execution_count": 21,
     "metadata": {},
     "output_type": "execute_result"
    }
   ],
   "source": [
    "arr1 = np.array([1,2,3])\n",
    "arr2 = np.array([[1,2,3]]) #2차원\n",
    "\n",
    "arr2[0][0]"
   ]
  },
  {
   "cell_type": "code",
   "execution_count": 22,
   "metadata": {},
   "outputs": [
    {
     "name": "stdout",
     "output_type": "stream",
     "text": [
      "2 차원\n"
     ]
    }
   ],
   "source": [
    "print(arr.ndim,'차원')"
   ]
  },
  {
   "cell_type": "markdown",
   "metadata": {},
   "source": [
    "### 자료형"
   ]
  },
  {
   "cell_type": "code",
   "execution_count": 23,
   "metadata": {},
   "outputs": [
    {
     "data": {
      "text/plain": [
       "dtype('int32')"
      ]
     },
     "execution_count": 23,
     "metadata": {},
     "output_type": "execute_result"
    }
   ],
   "source": [
    "# 요소의 자료형\n",
    "\n",
    "arr.dtype"
   ]
  },
  {
   "cell_type": "code",
   "execution_count": 30,
   "metadata": {},
   "outputs": [
    {
     "data": {
      "text/plain": [
       "array([[  1.,   2.,   3.],\n",
       "       [  9., 100.,   7.]])"
      ]
     },
     "execution_count": 30,
     "metadata": {},
     "output_type": "execute_result"
    }
   ],
   "source": [
    "# 요소의 자료형 변경\n",
    "\n",
    "arr2.astype(np.float64)\n",
    "arr2"
   ]
  },
  {
   "cell_type": "code",
   "execution_count": 32,
   "metadata": {},
   "outputs": [
    {
     "data": {
      "text/plain": [
       "dtype('float64')"
      ]
     },
     "execution_count": 32,
     "metadata": {},
     "output_type": "execute_result"
    }
   ],
   "source": [
    "list1 = [1,2,3.6]\n",
    "\n",
    "arr_list = np.array(list1)\n",
    "arr_list.dtype"
   ]
  },
  {
   "cell_type": "code",
   "execution_count": 35,
   "metadata": {},
   "outputs": [
    {
     "data": {
      "text/plain": [
       "array([1, 2.9, list(['python'])], dtype=object)"
      ]
     },
     "execution_count": 35,
     "metadata": {},
     "output_type": "execute_result"
    }
   ],
   "source": [
    "list2 = [1,2.9,['python']]\n",
    "\n",
    "arr_list2 = np.array(list2)\n",
    "arr_list2\n",
    "# print(arr_list2.dtype)"
   ]
  },
  {
   "cell_type": "code",
   "execution_count": 1,
   "metadata": {},
   "outputs": [],
   "source": [
    "  # [결과] <U11   : Unicode 문자열 "
   ]
  },
  {
   "cell_type": "markdown",
   "metadata": {},
   "source": [
    "### nparray를 편리하게 생성\n",
    "\n",
    "* arange() : 범위를 이용한 배열 만들기\n",
    "* zeros() : 0으로 채우는 배열 만들기\n",
    "* ones() : 1로 채우는 배열 만들기"
   ]
  },
  {
   "cell_type": "code",
   "execution_count": 38,
   "metadata": {},
   "outputs": [
    {
     "name": "stdout",
     "output_type": "stream",
     "text": [
      "[0 1 2 3 4 5 6 7 8 9]\n",
      "[ 1  2  3  4  5  6  7  8  9 10]\n",
      "[ 1  4  7 10]\n"
     ]
    }
   ],
   "source": [
    "a = np.arange(10)\n",
    "print(a)\n",
    "\n",
    "b = np.arange(1,11)\n",
    "print(b)\n",
    "\n",
    "c = np.arange(1,11,3)\n",
    "print(c)"
   ]
  },
  {
   "cell_type": "code",
   "execution_count": 39,
   "metadata": {},
   "outputs": [
    {
     "data": {
      "text/plain": [
       "array([[0., 0., 0., 0., 0.],\n",
       "       [0., 0., 0., 0., 0.],\n",
       "       [0., 0., 0., 0., 0.],\n",
       "       [0., 0., 0., 0., 0.],\n",
       "       [0., 0., 0., 0., 0.]])"
      ]
     },
     "execution_count": 39,
     "metadata": {},
     "output_type": "execute_result"
    }
   ],
   "source": [
    "a2 = np.zeros((5,5))\n",
    "a2"
   ]
  },
  {
   "cell_type": "code",
   "execution_count": 41,
   "metadata": {},
   "outputs": [
    {
     "data": {
      "text/plain": [
       "array([[1, 1, 1, 1],\n",
       "       [1, 1, 1, 1],\n",
       "       [1, 1, 1, 1]])"
      ]
     },
     "execution_count": 41,
     "metadata": {},
     "output_type": "execute_result"
    }
   ],
   "source": [
    "a3 = np.ones((3,4),dtype='int32')\n",
    "a3"
   ]
  },
  {
   "cell_type": "markdown",
   "metadata": {},
   "source": [
    "### ndarray의 차원과 크기를 변경 : reshape()"
   ]
  },
  {
   "cell_type": "code",
   "execution_count": 46,
   "metadata": {},
   "outputs": [
    {
     "name": "stdout",
     "output_type": "stream",
     "text": [
      "[0 1 2 3 4 5 6 7 8 9]\n"
     ]
    }
   ],
   "source": [
    "arr = np.arange(10)\n",
    "print(arr)\n",
    "# print(arr.shape)\n",
    "# print(arr.ndim)"
   ]
  },
  {
   "cell_type": "code",
   "execution_count": 45,
   "metadata": {
    "scrolled": true
   },
   "outputs": [
    {
     "data": {
      "text/plain": [
       "array([[0, 1, 2, 3, 4],\n",
       "       [5, 6, 7, 8, 9]])"
      ]
     },
     "execution_count": 45,
     "metadata": {},
     "output_type": "execute_result"
    }
   ],
   "source": [
    "arr2 = arr.reshape(2,5)\n",
    "arr2"
   ]
  },
  {
   "cell_type": "code",
   "execution_count": 47,
   "metadata": {},
   "outputs": [
    {
     "ename": "ValueError",
     "evalue": "cannot reshape array of size 10 into shape (3,3)",
     "output_type": "error",
     "traceback": [
      "\u001b[1;31m---------------------------------------------------------------------------\u001b[0m",
      "\u001b[1;31mValueError\u001b[0m                                Traceback (most recent call last)",
      "\u001b[1;32m<ipython-input-47-45955bb427b8>\u001b[0m in \u001b[0;36m<module>\u001b[1;34m\u001b[0m\n\u001b[1;32m----> 1\u001b[1;33m \u001b[0marr3\u001b[0m \u001b[1;33m=\u001b[0m \u001b[0marr\u001b[0m\u001b[1;33m.\u001b[0m\u001b[0mreshape\u001b[0m\u001b[1;33m(\u001b[0m\u001b[1;36m3\u001b[0m\u001b[1;33m,\u001b[0m\u001b[1;36m3\u001b[0m\u001b[1;33m)\u001b[0m\u001b[1;33m\u001b[0m\u001b[1;33m\u001b[0m\u001b[0m\n\u001b[0m\u001b[0;32m      2\u001b[0m \u001b[0marr3\u001b[0m\u001b[1;33m\u001b[0m\u001b[1;33m\u001b[0m\u001b[0m\n",
      "\u001b[1;31mValueError\u001b[0m: cannot reshape array of size 10 into shape (3,3)"
     ]
    }
   ],
   "source": [
    "arr3 = arr.reshape(3,3)\n",
    "arr3"
   ]
  },
  {
   "cell_type": "code",
   "execution_count": 48,
   "metadata": {},
   "outputs": [
    {
     "name": "stdout",
     "output_type": "stream",
     "text": [
      "[ 0  1  2  3  4  5  6  7  8  9 10 11 12 13 14 15 16 17 18 19]\n",
      "[[0 1 2 3 4]\n",
      " [5 6 7 8 9]]\n",
      "[[ 0  1]\n",
      " [ 2  3]\n",
      " [ 4  5]\n",
      " [ 6  7]\n",
      " [ 8  9]\n",
      " [10 11]\n",
      " [12 13]\n",
      " [14 15]\n",
      " [16 17]\n",
      " [18 19]]\n"
     ]
    }
   ],
   "source": [
    "#  -1 적용\n",
    "arr = np.arange(20)\n",
    "print(arr)\n",
    "\n",
    "arrr2 = arr.reshape(5,-1)\n",
    "print(arr2)\n",
    "\n",
    "arr3 = arr.reshape(-1,2)\n",
    "print(arr3)"
   ]
  },
  {
   "cell_type": "markdown",
   "metadata": {},
   "source": [
    "### 인덱싱: 특정 데이타 추출"
   ]
  },
  {
   "cell_type": "code",
   "execution_count": 53,
   "metadata": {},
   "outputs": [
    {
     "name": "stdout",
     "output_type": "stream",
     "text": [
      "[ 1  2  3  4  5  6  7  8  9 10]\n"
     ]
    },
    {
     "data": {
      "text/plain": [
       "8"
      ]
     },
     "execution_count": 53,
     "metadata": {},
     "output_type": "execute_result"
    }
   ],
   "source": [
    "#------------------------------------------ (1) 단일값 출력\n",
    "import numpy as np\n",
    "arr = np.arange(1, 11)\n",
    "print(arr)\n",
    "\n",
    "## 세번째 요소 추출 ( 0부터 인덱스)\n",
    "arr[2]\n",
    "\n",
    "## 뒤에서 세번째 요소 추출 ( 뒤에서 인덱스는 -1부터)\n",
    "arr[-3]"
   ]
  },
  {
   "cell_type": "code",
   "execution_count": 58,
   "metadata": {},
   "outputs": [
    {
     "data": {
      "text/plain": [
       "array([1, 2, 3, 4, 5, 6, 7, 8, 9])"
      ]
     },
     "execution_count": 58,
     "metadata": {},
     "output_type": "execute_result"
    }
   ],
   "source": [
    "## 1부터 9까지 nparray를 만들고 3행 3열 2차원 구조로 변경한후\n",
    "## 두번째 행의 세번째 열의 값 추출\n",
    "tt = np.arange(1,10)\n",
    "\n",
    "tt.reshape(3,-1)\n",
    "tt\n"
   ]
  },
  {
   "cell_type": "code",
   "execution_count": 59,
   "metadata": {
    "scrolled": true
   },
   "outputs": [
    {
     "name": "stdout",
     "output_type": "stream",
     "text": [
      "[2 3]\n",
      "[3 4 5 6 7 8 9]\n",
      "[1 2 3]\n"
     ]
    }
   ],
   "source": [
    "#------------------------------------------ (2) 슬라이싱 (:)\n",
    "arr = np.arange(1, 10)\n",
    "\n",
    "print(arr[1:3])\n",
    "print(arr[2:])\n",
    "print(arr[:3])"
   ]
  },
  {
   "cell_type": "code",
   "execution_count": 60,
   "metadata": {},
   "outputs": [
    {
     "name": "stdout",
     "output_type": "stream",
     "text": [
      "[[1 2 3]\n",
      " [4 5 6]\n",
      " [7 8 9]]\n"
     ]
    }
   ],
   "source": [
    "# 2차원 배열에서 생성\n",
    "\"\"\"\n",
    "    1 2 3\n",
    "    4 5 6\n",
    "    7 8 9\n",
    "\"\"\"\n",
    "\n",
    "arr = np.arange(1, 10)\n",
    "ndarr = arr.reshape(3,3)\n",
    "print(ndarr)\n",
    "    \n",
    "## 그림에서 1, 2, 4, 5 추출\n",
    "\n",
    "\n",
    "## 그림에서 4, 5, 6, 7, 8, 9 추출\n",
    "\n",
    "\n",
    "## 그림에서 2, 3, 5, 6 추출\n",
    "\n",
    "\n",
    "## 그림에서 1, 4 추출\n",
    "\n",
    "\n",
    "## 그림에서 전체 요소 추출\n",
    "\n"
   ]
  },
  {
   "cell_type": "code",
   "execution_count": null,
   "metadata": {},
   "outputs": [],
   "source": [
    "# 2차원 ndarray에서 뒤의 오는 인덱스가 없으면 1차원으로 반환\n",
    "# 3차원 ndarray에서 뒤의 오는 인덱스가 없으면 2차원으로 반환\n",
    "\n"
   ]
  },
  {
   "cell_type": "code",
   "execution_count": 61,
   "metadata": {
    "scrolled": true
   },
   "outputs": [
    {
     "name": "stdout",
     "output_type": "stream",
     "text": [
      "[[1 2 3]\n",
      " [4 5 6]\n",
      " [7 8 9]]\n"
     ]
    }
   ],
   "source": [
    "# 슬라이싱[:]과 인덱스선택을 결합\n",
    "\n",
    "\"\"\"\n",
    "    1 2 3\n",
    "    4 5 6\n",
    "    7 8 9\n",
    "\"\"\"\n",
    "import numpy as np\n",
    "arr = np.arange(1, 10)\n",
    "ndarr = arr.reshape(3,3)\n",
    "print(ndarr)\n",
    "\n",
    "## 그림에서 1, 2, 4, 5 추출\n",
    "\n",
    "\n",
    "## 그림에서 4, 5, 6, 7, 8, 9 추출\n",
    "\n",
    "\n",
    "## 그림에서 2, 3, 5, 6 추출\n",
    "\n",
    "\n",
    "## 그림에서 1, 4 추출\n",
    "\n",
    "\n",
    "## 그림에서 3, 6 추출\n",
    "\n",
    "\n",
    "# 지금은 너무 간단하다고 여기지만 추후에 데이타에서 많이 헷갈려서 여기서 시간 소요를 많이 한다"
   ]
  },
  {
   "cell_type": "code",
   "execution_count": 70,
   "metadata": {},
   "outputs": [
    {
     "name": "stdout",
     "output_type": "stream",
     "text": [
      "[[1 2 3]\n",
      " [4 5 6]\n",
      " [7 8 9]]\n",
      "[6 7 8 9]\n"
     ]
    },
    {
     "data": {
      "text/plain": [
       "array([[ 1,  2,  3],\n",
       "       [ 4,  5,  6],\n",
       "       [ 7, 88,  9]])"
      ]
     },
     "execution_count": 70,
     "metadata": {},
     "output_type": "execute_result"
    }
   ],
   "source": [
    "#------------------------------------------ (3) 블린인덱싱\n",
    "# 조건 필터링과 검색을 같이 하기에 자주 사용\n",
    "\n",
    "arr = np.arange(1, 10)\n",
    "ndarr = arr.reshape(3,3)\n",
    "print(ndarr)\n",
    "\n",
    "# 5보다 큰 요소들 추출\n",
    "\n",
    "# ndarr > 5\n",
    "print(ndarr[ndarr > 5])\n",
    "\n",
    "\n",
    "# 8값 요소를 88로 변경\n",
    "ndarr[ndarr == 8] = 88\n",
    "ndarr"
   ]
  }
 ],
 "metadata": {
  "kernelspec": {
   "display_name": "Python 3",
   "language": "python",
   "name": "python3"
  },
  "language_info": {
   "codemirror_mode": {
    "name": "ipython",
    "version": 3
   },
   "file_extension": ".py",
   "mimetype": "text/x-python",
   "name": "python",
   "nbconvert_exporter": "python",
   "pygments_lexer": "ipython3",
   "version": "3.7.3"
  }
 },
 "nbformat": 4,
 "nbformat_minor": 2
}
