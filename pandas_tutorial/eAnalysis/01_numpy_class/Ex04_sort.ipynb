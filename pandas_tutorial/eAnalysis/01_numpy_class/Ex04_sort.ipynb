{
 "cells": [
  {
   "cell_type": "markdown",
   "metadata": {},
   "source": [
    "### 행렬의 정렬\n",
    "\n",
    "1. np.sort() : 넘파이에서 sort() 호출\n",
    "\n",
    "2. nparray.sort() : 행렬자체에서 sort() 호출\n",
    "\n",
    "\n",
    "####  두 방식 sort() 함수의 차이점\n",
    "\n",
    "\n",
    "1. np.sort() : 원 행렬을 그대로 유지한채 원 행렬의 정렬된 행렬을 반환\n",
    "\n",
    "2. nparray.sort() : 원 행렬 자체를 정렬한 형태로 변환하며 None을 반환"
   ]
  },
  {
   "cell_type": "code",
   "execution_count": 2,
   "metadata": {},
   "outputs": [
    {
     "name": "stdout",
     "output_type": "stream",
     "text": [
      "원본: [3 1 9 7]\n"
     ]
    }
   ],
   "source": [
    "import numpy as np\n",
    "\n",
    "origin = np.array([3,1,9,7])\n",
    "print('원본:', origin)"
   ]
  },
  {
   "cell_type": "code",
   "execution_count": 3,
   "metadata": {},
   "outputs": [
    {
     "name": "stdout",
     "output_type": "stream",
     "text": [
      "원본 [3 1 9 7]\n",
      "정렬 후 [1 3 7 9]\n"
     ]
    }
   ],
   "source": [
    "# 넘파이 sort\n",
    "sort1 = np.sort(origin)\n",
    "\n",
    "print(\"원본\" , origin)\n",
    "print(\"정렬 후\", sort1)"
   ]
  },
  {
   "cell_type": "code",
   "execution_count": 6,
   "metadata": {},
   "outputs": [
    {
     "name": "stdout",
     "output_type": "stream",
     "text": [
      "원본 [3 1 9 7]\n",
      "정렬 후 [1 3 7 9]\n"
     ]
    }
   ],
   "source": [
    "# 행렬의 sort\n",
    "sort2 = np.sort(origin)\n",
    "print(\"원본\",origin)\n",
    "print(\"정렬 후\",sort2)"
   ]
  },
  {
   "cell_type": "markdown",
   "metadata": {},
   "source": [
    "### 내림차순 정렬 [::-1]"
   ]
  },
  {
   "cell_type": "markdown",
   "metadata": {},
   "source": [
    "### 2차원 이상의 행렬에서\n",
    "\n",
    "- axis=0 : 행방향 -> 열단위\n",
    "- axis=1 : 열방향 -> 행단위"
   ]
  },
  {
   "cell_type": "code",
   "execution_count": 8,
   "metadata": {},
   "outputs": [],
   "source": [
    "arr = np.array([[9, 6, 3],[5, 11, 2]])"
   ]
  },
  {
   "cell_type": "code",
   "execution_count": 9,
   "metadata": {},
   "outputs": [],
   "source": [
    "?np.sort"
   ]
  },
  {
   "cell_type": "markdown",
   "metadata": {},
   "source": [
    "####  정렬된 행렬의 인덱스 반환 : argsort()"
   ]
  },
  {
   "cell_type": "code",
   "execution_count": 7,
   "metadata": {},
   "outputs": [
    {
     "data": {
      "text/plain": [
       "array([2, 0, 3, 1], dtype=int64)"
      ]
     },
     "execution_count": 7,
     "metadata": {},
     "output_type": "execute_result"
    }
   ],
   "source": [
    "arr = np.array([3, 8, 2, 5])\n",
    "\n",
    "idx = np.argsort(arr)\n",
    "idx"
   ]
  },
  {
   "cell_type": "code",
   "execution_count": 11,
   "metadata": {},
   "outputs": [
    {
     "ename": "AttributeError",
     "evalue": "'numpy.ndarray' object has no attribute 'names'",
     "output_type": "error",
     "traceback": [
      "\u001b[1;31m---------------------------------------------------------------------------\u001b[0m",
      "\u001b[1;31mAttributeError\u001b[0m                            Traceback (most recent call last)",
      "\u001b[1;32m<ipython-input-11-f53721373d3f>\u001b[0m in \u001b[0;36m<module>\u001b[1;34m\u001b[0m\n\u001b[0;32m      5\u001b[0m \u001b[1;33m\u001b[0m\u001b[0m\n\u001b[0;32m      6\u001b[0m \u001b[1;32mfor\u001b[0m \u001b[0mi\u001b[0m \u001b[1;32min\u001b[0m \u001b[0midx\u001b[0m\u001b[1;33m:\u001b[0m\u001b[1;33m\u001b[0m\u001b[1;33m\u001b[0m\u001b[0m\n\u001b[1;32m----> 7\u001b[1;33m     \u001b[0mprint\u001b[0m\u001b[1;33m(\u001b[0m\u001b[0mscores\u001b[0m\u001b[1;33m[\u001b[0m\u001b[0mi\u001b[0m\u001b[1;33m]\u001b[0m\u001b[1;33m.\u001b[0m\u001b[0mnames\u001b[0m\u001b[1;33m[\u001b[0m\u001b[0mi\u001b[0m\u001b[1;33m]\u001b[0m\u001b[1;33m)\u001b[0m\u001b[1;33m\u001b[0m\u001b[1;33m\u001b[0m\u001b[0m\n\u001b[0m",
      "\u001b[1;31mAttributeError\u001b[0m: 'numpy.ndarray' object has no attribute 'names'"
     ]
    }
   ],
   "source": [
    "scores = np.array([66,99,88,44,77])\n",
    "names = np.array(['홍길동','박길동','김길동','최길동','맹길동'])\n",
    "\n",
    "idx = np.argsort(arr)\n",
    "\n",
    "for i in idx:\n",
    "    print(scores[i].names[i])"
   ]
  }
 ],
 "metadata": {
  "kernelspec": {
   "display_name": "Python 3",
   "language": "python",
   "name": "python3"
  },
  "language_info": {
   "codemirror_mode": {
    "name": "ipython",
    "version": 3
   },
   "file_extension": ".py",
   "mimetype": "text/x-python",
   "name": "python",
   "nbconvert_exporter": "python",
   "pygments_lexer": "ipython3",
   "version": "3.7.3"
  }
 },
 "nbformat": 4,
 "nbformat_minor": 2
}
