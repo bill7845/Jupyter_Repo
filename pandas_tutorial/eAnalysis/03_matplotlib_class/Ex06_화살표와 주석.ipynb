{
 "cells": [
  {
   "cell_type": "markdown",
   "metadata": {},
   "source": [
    "#### 차트상에서 주석 처리하는 함수 : annotate(s, xy, xytext,  arrowprops, . . . )\n",
    "    + s: 주석\n",
    "    + xy : 화살표시작위치\n",
    "    + xytext : 주석 텍스트의 시작 위치\n",
    "    + arrowprops : 화살표의 속성들\n",
    "    \n",
    "\n",
    "[참고] Matplotlib에서 화살표를 그리는 것은 plt.arrow()가 있지만 사용하기 어렵다.\n",
    "    게다가 플롯의 사로 세로 비율이 바뀔 때마다 원하는 결과 얻기 어렵다.\n",
    "    plt.annotate() 함수 이용을 권장한다\n"
   ]
  },
  {
   "cell_type": "code",
   "execution_count": 1,
   "metadata": {},
   "outputs": [],
   "source": [
    "%matplotlib inline\n",
    "\n",
    "import numpy as np\n",
    "import matplotlib.pyplot as plt \n",
    "\n",
    "\n"
   ]
  }
 ],
 "metadata": {
  "kernelspec": {
   "display_name": "Python 3",
   "language": "python",
   "name": "python3"
  },
  "language_info": {
   "codemirror_mode": {
    "name": "ipython",
    "version": 3
   },
   "file_extension": ".py",
   "mimetype": "text/x-python",
   "name": "python",
   "nbconvert_exporter": "python",
   "pygments_lexer": "ipython3",
   "version": "3.7.3"
  }
 },
 "nbformat": 4,
 "nbformat_minor": 2
}
