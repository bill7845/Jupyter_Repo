{
 "cells": [
  {
   "cell_type": "markdown",
   "metadata": {},
   "source": [
    "## 누락값 : NaN\n",
    "\n",
    "\n",
    "### * 누락값이 생기는 이유\n",
    "    1- 데이타 자체적으로 존재\n",
    "    2- 데이타 연결하면서\n",
    "    3- 데이타 입력시\n",
    "    4- 데이타 추출하여 연산할 때\n",
    "    \n",
    "\n",
    "### * 누락값 확인하기\n",
    "    1- 누락값 인지 확인\n",
    "        + df.isnull()\n",
    "        + df.notnull()\n",
    "    \n",
    "    2- 누락값이 아닌 값의 개수 확인\n",
    "        + df.sharp[0] - df.count()\n",
    "        \n",
    "    3- 누락값 수 확인 \n",
    "        +  numpy 라이브러리의 count_nonzero() 이용\n",
    "\n",
    "\n",
    "    \n",
    "\n",
    "### * 누락값 처리하기\n",
    "     (1) 누락값 삭제하기 : dropna()\n",
    "     (2) 누락값을 다른 값으로 대치하기 : fillna()"
   ]
  },
  {
   "cell_type": "code",
   "execution_count": 4,
   "metadata": {},
   "outputs": [
    {
     "name": "stdout",
     "output_type": "stream",
     "text": [
      "True\n"
     ]
    }
   ],
   "source": [
    "# 누락값 비교 방법 : pandas 메소드 이용  * Nan==Nan  => False\n",
    "\n",
    "import pandas as pd\n",
    "\n",
    "print(pd.isnull(NaN))\n"
   ]
  },
  {
   "cell_type": "code",
   "execution_count": 3,
   "metadata": {},
   "outputs": [],
   "source": [
    "\"\"\" 누락값이 생기는 이유\n",
    "    1- 데이타 자체적으로 존재\n",
    "    2- 데이타 연결하면서\n",
    "    3- 데이타 입력시\n",
    "    4- 데이타 추출하여 연산할 때\n",
    "\"\"\"\n",
    "\n",
    "import pandas as pd\n",
    "\n",
    "survey = pd.read_csv('./data/survey_survey.csv')\n",
    "# survey\n",
    "visited = pd.read_csv('./data/survey_visited.csv')\n",
    "# visited\n",
    "\n",
    "\n"
   ]
  },
  {
   "cell_type": "markdown",
   "metadata": {},
   "source": [
    "### Countires.tsv 파일에서\n",
    "\n",
    "1. 년도별 각 나라의 생활비의 평균을 구한다\n",
    "\n",
    "2. 1번의 데이타 셋에서 2000년도에서 2010년 동안의 데이타 셋을 추출\n",
    "\n",
    "3. 값이 있는 데이타만 출력한다면"
   ]
  },
  {
   "cell_type": "code",
   "execution_count": 7,
   "metadata": {},
   "outputs": [],
   "source": [
    "countries = pd.read_csv('./data/countries.tsv', sep='\\t')"
   ]
  },
  {
   "cell_type": "code",
   "execution_count": 10,
   "metadata": {},
   "outputs": [
    {
     "data": {
      "text/html": [
       "<div>\n",
       "<style scoped>\n",
       "    .dataframe tbody tr th:only-of-type {\n",
       "        vertical-align: middle;\n",
       "    }\n",
       "\n",
       "    .dataframe tbody tr th {\n",
       "        vertical-align: top;\n",
       "    }\n",
       "\n",
       "    .dataframe thead th {\n",
       "        text-align: right;\n",
       "    }\n",
       "</style>\n",
       "<table border=\"1\" class=\"dataframe\">\n",
       "  <thead>\n",
       "    <tr style=\"text-align: right;\">\n",
       "      <th></th>\n",
       "      <th>country</th>\n",
       "      <th>continent</th>\n",
       "      <th>year</th>\n",
       "      <th>lifeExp</th>\n",
       "      <th>pop</th>\n",
       "      <th>gdpPercap</th>\n",
       "    </tr>\n",
       "  </thead>\n",
       "  <tbody>\n",
       "    <tr>\n",
       "      <th>0</th>\n",
       "      <td>Afghanistan</td>\n",
       "      <td>Asia</td>\n",
       "      <td>1952</td>\n",
       "      <td>28.801</td>\n",
       "      <td>8425333</td>\n",
       "      <td>779.445314</td>\n",
       "    </tr>\n",
       "    <tr>\n",
       "      <th>1</th>\n",
       "      <td>Afghanistan</td>\n",
       "      <td>Asia</td>\n",
       "      <td>1957</td>\n",
       "      <td>30.332</td>\n",
       "      <td>9240934</td>\n",
       "      <td>820.853030</td>\n",
       "    </tr>\n",
       "    <tr>\n",
       "      <th>2</th>\n",
       "      <td>Afghanistan</td>\n",
       "      <td>Asia</td>\n",
       "      <td>1962</td>\n",
       "      <td>31.997</td>\n",
       "      <td>10267083</td>\n",
       "      <td>853.100710</td>\n",
       "    </tr>\n",
       "    <tr>\n",
       "      <th>3</th>\n",
       "      <td>Afghanistan</td>\n",
       "      <td>Asia</td>\n",
       "      <td>1967</td>\n",
       "      <td>34.020</td>\n",
       "      <td>11537966</td>\n",
       "      <td>836.197138</td>\n",
       "    </tr>\n",
       "    <tr>\n",
       "      <th>4</th>\n",
       "      <td>Afghanistan</td>\n",
       "      <td>Asia</td>\n",
       "      <td>1972</td>\n",
       "      <td>36.088</td>\n",
       "      <td>13079460</td>\n",
       "      <td>739.981106</td>\n",
       "    </tr>\n",
       "  </tbody>\n",
       "</table>\n",
       "</div>"
      ],
      "text/plain": [
       "       country continent  year  lifeExp       pop   gdpPercap\n",
       "0  Afghanistan      Asia  1952   28.801   8425333  779.445314\n",
       "1  Afghanistan      Asia  1957   30.332   9240934  820.853030\n",
       "2  Afghanistan      Asia  1962   31.997  10267083  853.100710\n",
       "3  Afghanistan      Asia  1967   34.020  11537966  836.197138\n",
       "4  Afghanistan      Asia  1972   36.088  13079460  739.981106"
      ]
     },
     "execution_count": 10,
     "metadata": {},
     "output_type": "execute_result"
    }
   ],
   "source": [
    "countries.head()"
   ]
  },
  {
   "cell_type": "code",
   "execution_count": 18,
   "metadata": {},
   "outputs": [
    {
     "data": {
      "text/plain": [
       "year  country                 \n",
       "1952  Afghanistan                   779.445314\n",
       "      Albania                      1601.056136\n",
       "      Algeria                      2449.008185\n",
       "      Angola                       3520.610273\n",
       "      Argentina                    5911.315053\n",
       "      Australia                   10039.595640\n",
       "      Austria                      6137.076492\n",
       "      Bahrain                      9867.084765\n",
       "      Bangladesh                    684.244172\n",
       "      Belgium                      8343.105127\n",
       "      Benin                        1062.752200\n",
       "      Bolivia                      2677.326347\n",
       "      Bosnia and Herzegovina        973.533195\n",
       "      Botswana                      851.241141\n",
       "      Brazil                       2108.944355\n",
       "      Bulgaria                     2444.286648\n",
       "      Burkina Faso                  543.255241\n",
       "      Burundi                       339.296459\n",
       "      Cambodia                      368.469286\n",
       "      Cameroon                     1172.667655\n",
       "      Canada                      11367.161120\n",
       "      Central African Republic     1071.310713\n",
       "      Chad                         1178.665927\n",
       "      Chile                        3939.978789\n",
       "      China                         400.448611\n",
       "      Colombia                     2144.115096\n",
       "      Comoros                      1102.990936\n",
       "      Congo, Dem. Rep.              780.542326\n",
       "      Congo, Rep.                  2125.621418\n",
       "      Costa Rica                   2627.009471\n",
       "                                      ...     \n",
       "2007  Sierra Leone                  862.540756\n",
       "      Singapore                   47143.179640\n",
       "      Slovak Republic             18678.314350\n",
       "      Slovenia                    25768.257590\n",
       "      Somalia                       926.141068\n",
       "      South Africa                 9269.657808\n",
       "      Spain                       28821.063700\n",
       "      Sri Lanka                    3970.095407\n",
       "      Sudan                        2602.394995\n",
       "      Swaziland                    4513.480643\n",
       "      Sweden                      33859.748350\n",
       "      Switzerland                 37506.419070\n",
       "      Syria                        4184.548089\n",
       "      Taiwan                      28718.276840\n",
       "      Tanzania                     1107.482182\n",
       "      Thailand                     7458.396327\n",
       "      Togo                          882.969944\n",
       "      Trinidad and Tobago         18008.509240\n",
       "      Tunisia                      7092.923025\n",
       "      Turkey                       8458.276384\n",
       "      Uganda                       1056.380121\n",
       "      United Kingdom              33203.261280\n",
       "      United States               42951.653090\n",
       "      Uruguay                     10611.462990\n",
       "      Venezuela                   11415.805690\n",
       "      Vietnam                      2441.576404\n",
       "      West Bank and Gaza           3025.349798\n",
       "      Yemen, Rep.                  2280.769906\n",
       "      Zambia                       1271.211593\n",
       "      Zimbabwe                      469.709298\n",
       "Name: gdpPercap, Length: 1704, dtype: float64"
      ]
     },
     "execution_count": 18,
     "metadata": {},
     "output_type": "execute_result"
    }
   ],
   "source": [
    "countries.head()\n",
    "\n",
    "# (1) 년도별 각 나라의 생활비의 평균을 구한다\n",
    "countries.groupby(['year','country'])['gdpPercap'].mean()\n",
    "\n",
    "# (2) 2000~2010 동안의 데이타를 추출하고자 한다면\n",
    "# countries[(countries['year'] >= 2000) & (countries['year'] <= 2010)]\n",
    "\n",
    "# (3) 범위 지정으로 인해 NaN값이 생긴 경우 해결책 -> 해당 데이타만 추출하고자\n",
    "# countries.isnull().sum()\n",
    "\n"
   ]
  },
  {
   "cell_type": "markdown",
   "metadata": {},
   "source": [
    "## 누락값 처리하기\n",
    "\n",
    "\n",
    "(0) 누락값 확인\n",
    "\n",
    "(1) 누락값 삭제\n",
    "\n",
    "(2) 누락값 대치"
   ]
  },
  {
   "cell_type": "code",
   "execution_count": 5,
   "metadata": {},
   "outputs": [],
   "source": [
    "\"\"\" 누락값 확인 \"\"\"\n",
    "ebola = pd.read_csv('./data/ebola_timeseries.csv')\n",
    "# 제일 먼저 데이타 확인\n",
    "\n",
    "# 누락값이 아닌 값의 개수 확인\n",
    "\n",
    "\n",
    "# 누락값의 수 구하기\n",
    "\n",
    "\n",
    "# 전체적인 누락값의 수를 얻으려면 - numpy 라이브러리의 count_nonzero() 이용\n"
   ]
  },
  {
   "cell_type": "code",
   "execution_count": 6,
   "metadata": {},
   "outputs": [
    {
     "data": {
      "text/plain": [
       "' (1) 누락값 삭제하기 '"
      ]
     },
     "execution_count": 6,
     "metadata": {},
     "output_type": "execute_result"
    }
   ],
   "source": [
    "\"\"\" (1) 누락값 삭제하기 \"\"\"\n"
   ]
  },
  {
   "cell_type": "code",
   "execution_count": 7,
   "metadata": {},
   "outputs": [
    {
     "data": {
      "text/plain": [
       "' (2) 누락값 대치하기 '"
      ]
     },
     "execution_count": 7,
     "metadata": {},
     "output_type": "execute_result"
    }
   ],
   "source": [
    "\"\"\" (2) 누락값 대치하기 \"\"\"\n",
    "\n"
   ]
  },
  {
   "cell_type": "markdown",
   "metadata": {},
   "source": [
    "그럼 누락값 처리로 Data Cleaning 후 데이터 처리(Data Process)를 진행한다면?"
   ]
  }
 ],
 "metadata": {
  "kernelspec": {
   "display_name": "Python 3",
   "language": "python",
   "name": "python3"
  },
  "language_info": {
   "codemirror_mode": {
    "name": "ipython",
    "version": 3
   },
   "file_extension": ".py",
   "mimetype": "text/x-python",
   "name": "python",
   "nbconvert_exporter": "python",
   "pygments_lexer": "ipython3",
   "version": "3.7.3"
  }
 },
 "nbformat": 4,
 "nbformat_minor": 2
}
