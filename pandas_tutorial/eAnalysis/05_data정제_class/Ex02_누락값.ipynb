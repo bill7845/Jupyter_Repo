{
 "cells": [
  {
   "cell_type": "markdown",
   "metadata": {},
   "source": [
    "## 누락값 : NaN\n",
    "\n",
    "\n",
    "### * 누락값이 생기는 이유\n",
    "    1- 데이타 자체적으로 존재\n",
    "    2- 데이타 연결하면서\n",
    "    3- 데이타 입력시\n",
    "    4- 데이타 추출하여 연산할 때\n",
    "    \n",
    "\n",
    "### * 누락값 확인하기\n",
    "    1- 누락값 인지 확인\n",
    "        + df.isnull()\n",
    "        + df.notnull()\n",
    "    \n",
    "    2- 누락값이 아닌 값의 개수 확인\n",
    "        + df.sharp[0] - df.count()\n",
    "        \n",
    "    3- 누락값 수 확인 \n",
    "        +  numpy 라이브러리의 count_nonzero() 이용\n",
    "\n",
    "\n",
    "    \n",
    "\n",
    "### * 누락값 처리하기\n",
    "     (1) 누락값 삭제하기 : dropna()\n",
    "     (2) 누락값을 다른 값으로 대치하기 : fillna()"
   ]
  },
  {
   "cell_type": "code",
   "execution_count": 4,
   "metadata": {},
   "outputs": [
    {
     "name": "stdout",
     "output_type": "stream",
     "text": [
      "True\n"
     ]
    }
   ],
   "source": [
    "# 누락값 비교 방법 : pandas 메소드 이용  * Nan==Nan  => False\n",
    "\n",
    "import pandas as pd\n",
    "\n",
    "print(pd.isnull(NaN))\n"
   ]
  },
  {
   "cell_type": "code",
   "execution_count": 3,
   "metadata": {},
   "outputs": [],
   "source": [
    "\"\"\" 누락값이 생기는 이유\n",
    "    1- 데이타 자체적으로 존재\n",
    "    2- 데이타 연결하면서\n",
    "    3- 데이타 입력시\n",
    "    4- 데이타 추출하여 연산할 때\n",
    "\"\"\"\n",
    "\n",
    "import pandas as pd\n",
    "\n",
    "survey = pd.read_csv('./data/survey_survey.csv')\n",
    "# survey\n",
    "visited = pd.read_csv('./data/survey_visited.csv')\n",
    "# visited\n",
    "\n",
    "\n"
   ]
  },
  {
   "cell_type": "markdown",
   "metadata": {},
   "source": [
    "### Countires.tsv 파일에서\n",
    "\n",
    "1. 년도별 각 나라의 생활비의 평균을 구한다\n",
    "\n",
    "2. 1번의 데이타 셋에서 2000년도에서 2010년 동안의 데이타 셋을 추출\n",
    "\n",
    "3. 값이 있는 데이타만 출력한다면"
   ]
  },
  {
   "cell_type": "code",
   "execution_count": 7,
   "metadata": {},
   "outputs": [],
   "source": [
    "countries = pd.read_csv('./data/countries.tsv', sep='\\t')"
   ]
  },
  {
   "cell_type": "code",
   "execution_count": 10,
   "metadata": {},
   "outputs": [
    {
     "data": {
      "text/html": [
       "<div>\n",
       "<style scoped>\n",
       "    .dataframe tbody tr th:only-of-type {\n",
       "        vertical-align: middle;\n",
       "    }\n",
       "\n",
       "    .dataframe tbody tr th {\n",
       "        vertical-align: top;\n",
       "    }\n",
       "\n",
       "    .dataframe thead th {\n",
       "        text-align: right;\n",
       "    }\n",
       "</style>\n",
       "<table border=\"1\" class=\"dataframe\">\n",
       "  <thead>\n",
       "    <tr style=\"text-align: right;\">\n",
       "      <th></th>\n",
       "      <th>country</th>\n",
       "      <th>continent</th>\n",
       "      <th>year</th>\n",
       "      <th>lifeExp</th>\n",
       "      <th>pop</th>\n",
       "      <th>gdpPercap</th>\n",
       "    </tr>\n",
       "  </thead>\n",
       "  <tbody>\n",
       "    <tr>\n",
       "      <th>0</th>\n",
       "      <td>Afghanistan</td>\n",
       "      <td>Asia</td>\n",
       "      <td>1952</td>\n",
       "      <td>28.801</td>\n",
       "      <td>8425333</td>\n",
       "      <td>779.445314</td>\n",
       "    </tr>\n",
       "    <tr>\n",
       "      <th>1</th>\n",
       "      <td>Afghanistan</td>\n",
       "      <td>Asia</td>\n",
       "      <td>1957</td>\n",
       "      <td>30.332</td>\n",
       "      <td>9240934</td>\n",
       "      <td>820.853030</td>\n",
       "    </tr>\n",
       "    <tr>\n",
       "      <th>2</th>\n",
       "      <td>Afghanistan</td>\n",
       "      <td>Asia</td>\n",
       "      <td>1962</td>\n",
       "      <td>31.997</td>\n",
       "      <td>10267083</td>\n",
       "      <td>853.100710</td>\n",
       "    </tr>\n",
       "    <tr>\n",
       "      <th>3</th>\n",
       "      <td>Afghanistan</td>\n",
       "      <td>Asia</td>\n",
       "      <td>1967</td>\n",
       "      <td>34.020</td>\n",
       "      <td>11537966</td>\n",
       "      <td>836.197138</td>\n",
       "    </tr>\n",
       "    <tr>\n",
       "      <th>4</th>\n",
       "      <td>Afghanistan</td>\n",
       "      <td>Asia</td>\n",
       "      <td>1972</td>\n",
       "      <td>36.088</td>\n",
       "      <td>13079460</td>\n",
       "      <td>739.981106</td>\n",
       "    </tr>\n",
       "  </tbody>\n",
       "</table>\n",
       "</div>"
      ],
      "text/plain": [
       "       country continent  year  lifeExp       pop   gdpPercap\n",
       "0  Afghanistan      Asia  1952   28.801   8425333  779.445314\n",
       "1  Afghanistan      Asia  1957   30.332   9240934  820.853030\n",
       "2  Afghanistan      Asia  1962   31.997  10267083  853.100710\n",
       "3  Afghanistan      Asia  1967   34.020  11537966  836.197138\n",
       "4  Afghanistan      Asia  1972   36.088  13079460  739.981106"
      ]
     },
     "execution_count": 10,
     "metadata": {},
     "output_type": "execute_result"
    }
   ],
   "source": [
    "countries.head()"
   ]
  },
  {
   "cell_type": "code",
   "execution_count": 31,
   "metadata": {},
   "outputs": [
    {
     "data": {
      "text/plain": [
       "year\n",
       "2002    65.694923\n",
       "2007    67.007423\n",
       "Name: lifeExp, dtype: float64"
      ]
     },
     "execution_count": 31,
     "metadata": {},
     "output_type": "execute_result"
    }
   ],
   "source": [
    "countries.head()\n",
    "\n",
    "# (1) 년도별 각 나라의 생활비의 평균을 구한다\n",
    "# countries.groupby(['year','country'])['gdpPercap'].mean()\n",
    "\n",
    "expByYear = countries.groupby('year')['lifeExp'].mean()\n",
    "expByYear.loc[2000:2010]\n",
    "# (2) 2000~2010 동안의 데이타를 추출하고자 한다면\n",
    "# countries[(countries['year'] >= 2000) & (countries['year'] <= 2010)]\n",
    "\n",
    "# (3) 범위 지정으로 인해 NaN값이 생긴 경우 해결책 -> 해당 데이타만 추출하고자\n",
    "# countries.isnull().sum()\n",
    "\n"
   ]
  },
  {
   "cell_type": "markdown",
   "metadata": {},
   "source": [
    "## 누락값 처리하기\n",
    "\n",
    "\n",
    "(0) 누락값 확인\n",
    "\n",
    "(1) 누락값 삭제\n",
    "\n",
    "(2) 누락값 대치"
   ]
  },
  {
   "cell_type": "code",
   "execution_count": 5,
   "metadata": {},
   "outputs": [],
   "source": [
    "\"\"\" 누락값 확인 \"\"\"\n",
    "ebola = pd.read_csv('./data/ebola_timeseries.csv')\n",
    "# 제일 먼저 데이타 확인\n",
    "\n",
    "# 누락값이 아닌 값의 개수 확인\n",
    "\n",
    "\n",
    "# 누락값의 수 구하기\n",
    "\n",
    "\n",
    "# 전체적인 누락값의 수를 얻으려면 - numpy 라이브러리의 count_nonzero() 이용\n"
   ]
  },
  {
   "cell_type": "code",
   "execution_count": 6,
   "metadata": {},
   "outputs": [
    {
     "data": {
      "text/plain": [
       "' (1) 누락값 삭제하기 '"
      ]
     },
     "execution_count": 6,
     "metadata": {},
     "output_type": "execute_result"
    }
   ],
   "source": [
    "\"\"\" (1) 누락값 삭제하기 \"\"\"\n"
   ]
  },
  {
   "cell_type": "code",
   "execution_count": 7,
   "metadata": {},
   "outputs": [
    {
     "data": {
      "text/plain": [
       "' (2) 누락값 대치하기 '"
      ]
     },
     "execution_count": 7,
     "metadata": {},
     "output_type": "execute_result"
    }
   ],
   "source": [
    "\"\"\" (2) 누락값 대치하기 \"\"\"\n",
    "\n"
   ]
  },
  {
   "cell_type": "markdown",
   "metadata": {},
   "source": [
    "그럼 누락값 처리로 Data Cleaning 후 데이터 처리(Data Process)를 진행한다면?"
   ]
  }
 ],
 "metadata": {
  "kernelspec": {
   "display_name": "Python 3",
   "language": "python",
   "name": "python3"
  },
  "language_info": {
   "codemirror_mode": {
    "name": "ipython",
    "version": 3
   },
   "file_extension": ".py",
   "mimetype": "text/x-python",
   "name": "python",
   "nbconvert_exporter": "python",
   "pygments_lexer": "ipython3",
   "version": "3.7.3"
  }
 },
 "nbformat": 4,
 "nbformat_minor": 2
}
