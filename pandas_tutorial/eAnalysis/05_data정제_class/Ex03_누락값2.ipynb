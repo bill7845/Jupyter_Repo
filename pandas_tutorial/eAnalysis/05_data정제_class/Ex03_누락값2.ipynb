{
 "cells": [
  {
   "cell_type": "markdown",
   "metadata": {},
   "source": [
    "## [ 연습 ] 누락값처리"
   ]
  },
  {
   "cell_type": "code",
   "execution_count": 1,
   "metadata": {
    "scrolled": false
   },
   "outputs": [],
   "source": [
    "import pandas as pd\n",
    "\n",
    "df = pd.read_csv('data/nan_sample.csv', encoding='utf-8')\n"
   ]
  },
  {
   "cell_type": "code",
   "execution_count": 6,
   "metadata": {},
   "outputs": [
    {
     "data": {
      "text/html": [
       "<div>\n",
       "<style scoped>\n",
       "    .dataframe tbody tr th:only-of-type {\n",
       "        vertical-align: middle;\n",
       "    }\n",
       "\n",
       "    .dataframe tbody tr th {\n",
       "        vertical-align: top;\n",
       "    }\n",
       "\n",
       "    .dataframe thead th {\n",
       "        text-align: right;\n",
       "    }\n",
       "</style>\n",
       "<table border=\"1\" class=\"dataframe\">\n",
       "  <thead>\n",
       "    <tr style=\"text-align: right;\">\n",
       "      <th></th>\n",
       "      <th>가수</th>\n",
       "      <th>곡명</th>\n",
       "      <th>좋아요</th>\n",
       "    </tr>\n",
       "  </thead>\n",
       "  <tbody>\n",
       "    <tr>\n",
       "      <th>0</th>\n",
       "      <td>방탄소년단</td>\n",
       "      <td>IDOL</td>\n",
       "      <td>166128.0</td>\n",
       "    </tr>\n",
       "    <tr>\n",
       "      <th>1</th>\n",
       "      <td>선미</td>\n",
       "      <td>사이렌</td>\n",
       "      <td>80982.0</td>\n",
       "    </tr>\n",
       "    <tr>\n",
       "      <th>2</th>\n",
       "      <td>방탄소년단</td>\n",
       "      <td>I'm Fine</td>\n",
       "      <td>127021.0</td>\n",
       "    </tr>\n",
       "    <tr>\n",
       "      <th>3</th>\n",
       "      <td>벤</td>\n",
       "      <td>열애중</td>\n",
       "      <td>NaN</td>\n",
       "    </tr>\n",
       "    <tr>\n",
       "      <th>4</th>\n",
       "      <td>레드벨벳</td>\n",
       "      <td>뚜루뚜루</td>\n",
       "      <td>190526.0</td>\n",
       "    </tr>\n",
       "  </tbody>\n",
       "</table>\n",
       "</div>"
      ],
      "text/plain": [
       "      가수        곡명       좋아요\n",
       "0  방탄소년단      IDOL  166128.0\n",
       "1     선미       사이렌   80982.0\n",
       "2  방탄소년단  I'm Fine  127021.0\n",
       "3      벤       열애중       NaN\n",
       "4   레드벨벳      뚜루뚜루  190526.0"
      ]
     },
     "execution_count": 6,
     "metadata": {},
     "output_type": "execute_result"
    }
   ],
   "source": [
    "df"
   ]
  },
  {
   "cell_type": "code",
   "execution_count": 2,
   "metadata": {},
   "outputs": [
    {
     "data": {
      "text/plain": [
       "141164.25"
      ]
     },
     "execution_count": 2,
     "metadata": {},
     "output_type": "execute_result"
    }
   ],
   "source": [
    "# 좋아요의 평균값을 구하고자 한다면?\n",
    "df['좋아요'].mean()"
   ]
  },
  {
   "cell_type": "code",
   "execution_count": 5,
   "metadata": {},
   "outputs": [
    {
     "data": {
      "text/plain": [
       "112931.4"
      ]
     },
     "execution_count": 5,
     "metadata": {},
     "output_type": "execute_result"
    }
   ],
   "source": [
    "df['좋아요'].sum() /5 ### 결측값 연산시 sum,comsum 은 결측값을 0 으로 처리"
   ]
  },
  {
   "cell_type": "code",
   "execution_count": null,
   "metadata": {},
   "outputs": [],
   "source": []
  },
  {
   "cell_type": "markdown",
   "metadata": {},
   "source": [
    "### 누락값(NaN)을 처리"
   ]
  },
  {
   "cell_type": "code",
   "execution_count": 8,
   "metadata": {},
   "outputs": [
    {
     "data": {
      "text/plain": [
       "0    166128.00\n",
       "1     80982.00\n",
       "2    127021.00\n",
       "3    141164.25\n",
       "4    190526.00\n",
       "Name: 좋아요, dtype: float64"
      ]
     },
     "execution_count": 8,
     "metadata": {},
     "output_type": "execute_result"
    }
   ],
   "source": [
    "df['좋아요'].fillna(value=df['좋아요'].sum()/4 )"
   ]
  },
  {
   "cell_type": "markdown",
   "metadata": {},
   "source": [
    "### 데이타가 많은 경우 NaN 확인하는 방법 - missngno\n",
    "\n",
    "https://github.com/ResidentMario/missingno\n",
    "\n",
    "라이브러리 설치 (Anaconda Prompt 관리자 권한으로 실행)\n",
    " - > conda install missingno (안됨)\n",
    " - > pip install missingno (됨)\n",
    "\n",
    "Jupyter에서 바로 실행\n",
    " - > !pip install missingno"
   ]
  },
  {
   "cell_type": "code",
   "execution_count": 9,
   "metadata": {
    "scrolled": true
   },
   "outputs": [
    {
     "name": "stdout",
     "output_type": "stream",
     "text": [
      "Collecting missingno\n",
      "  Downloading https://files.pythonhosted.org/packages/2b/de/6e4dd6d720c49939544352155dc06a08c9f7e4271aa631a559dfbeaaf9d4/missingno-0.4.2-py3-none-any.whl\n",
      "Requirement already satisfied: scipy in c:\\users\\playdata\\anaconda3\\lib\\site-packages (from missingno) (1.2.1)\n",
      "Requirement already satisfied: numpy in c:\\users\\playdata\\anaconda3\\lib\\site-packages (from missingno) (1.16.4)\n",
      "Requirement already satisfied: seaborn in c:\\users\\playdata\\anaconda3\\lib\\site-packages (from missingno) (0.9.0)\n",
      "Requirement already satisfied: matplotlib in c:\\users\\playdata\\anaconda3\\lib\\site-packages (from missingno) (3.1.0)\n",
      "Requirement already satisfied: pandas>=0.15.2 in c:\\users\\playdata\\anaconda3\\lib\\site-packages (from seaborn->missingno) (0.24.2)\n",
      "Requirement already satisfied: cycler>=0.10 in c:\\users\\playdata\\anaconda3\\lib\\site-packages (from matplotlib->missingno) (0.10.0)\n",
      "Requirement already satisfied: kiwisolver>=1.0.1 in c:\\users\\playdata\\anaconda3\\lib\\site-packages (from matplotlib->missingno) (1.1.0)\n",
      "Requirement already satisfied: pyparsing!=2.0.4,!=2.1.2,!=2.1.6,>=2.0.1 in c:\\users\\playdata\\anaconda3\\lib\\site-packages (from matplotlib->missingno) (2.4.0)\n",
      "Requirement already satisfied: python-dateutil>=2.1 in c:\\users\\playdata\\anaconda3\\lib\\site-packages (from matplotlib->missingno) (2.8.0)\n",
      "Requirement already satisfied: pytz>=2011k in c:\\users\\playdata\\anaconda3\\lib\\site-packages (from pandas>=0.15.2->seaborn->missingno) (2019.1)\n",
      "Requirement already satisfied: six in c:\\users\\playdata\\anaconda3\\lib\\site-packages (from cycler>=0.10->matplotlib->missingno) (1.12.0)\n",
      "Requirement already satisfied: setuptools in c:\\users\\playdata\\anaconda3\\lib\\site-packages (from kiwisolver>=1.0.1->matplotlib->missingno) (41.0.1)\n",
      "Installing collected packages: missingno\n",
      "Successfully installed missingno-0.4.2\n"
     ]
    }
   ],
   "source": [
    "# !pip install missingno"
   ]
  },
  {
   "cell_type": "code",
   "execution_count": 10,
   "metadata": {},
   "outputs": [
    {
     "data": {
      "text/html": [
       "<div>\n",
       "<style scoped>\n",
       "    .dataframe tbody tr th:only-of-type {\n",
       "        vertical-align: middle;\n",
       "    }\n",
       "\n",
       "    .dataframe tbody tr th {\n",
       "        vertical-align: top;\n",
       "    }\n",
       "\n",
       "    .dataframe thead th {\n",
       "        text-align: right;\n",
       "    }\n",
       "</style>\n",
       "<table border=\"1\" class=\"dataframe\">\n",
       "  <thead>\n",
       "    <tr style=\"text-align: right;\">\n",
       "      <th></th>\n",
       "      <th>0</th>\n",
       "      <th>1</th>\n",
       "      <th>2</th>\n",
       "      <th>3</th>\n",
       "      <th>4</th>\n",
       "      <th>5</th>\n",
       "      <th>6</th>\n",
       "      <th>7</th>\n",
       "      <th>8</th>\n",
       "      <th>9</th>\n",
       "      <th>...</th>\n",
       "      <th>90</th>\n",
       "      <th>91</th>\n",
       "      <th>92</th>\n",
       "      <th>93</th>\n",
       "      <th>94</th>\n",
       "      <th>95</th>\n",
       "      <th>96</th>\n",
       "      <th>97</th>\n",
       "      <th>98</th>\n",
       "      <th>99</th>\n",
       "    </tr>\n",
       "  </thead>\n",
       "  <tbody>\n",
       "    <tr>\n",
       "      <th>0</th>\n",
       "      <td>1.624898</td>\n",
       "      <td>0.561618</td>\n",
       "      <td>1.481016</td>\n",
       "      <td>-0.032875</td>\n",
       "      <td>-0.556151</td>\n",
       "      <td>-0.595128</td>\n",
       "      <td>-1.645711</td>\n",
       "      <td>-1.065615</td>\n",
       "      <td>-0.875255</td>\n",
       "      <td>0.079320</td>\n",
       "      <td>...</td>\n",
       "      <td>-1.267754</td>\n",
       "      <td>-0.644610</td>\n",
       "      <td>0.873531</td>\n",
       "      <td>-0.424930</td>\n",
       "      <td>0.884065</td>\n",
       "      <td>-1.203579</td>\n",
       "      <td>0.994979</td>\n",
       "      <td>0.785209</td>\n",
       "      <td>-0.140452</td>\n",
       "      <td>-0.334586</td>\n",
       "    </tr>\n",
       "    <tr>\n",
       "      <th>1</th>\n",
       "      <td>1.849679</td>\n",
       "      <td>0.101482</td>\n",
       "      <td>-0.621288</td>\n",
       "      <td>1.310168</td>\n",
       "      <td>-0.187540</td>\n",
       "      <td>-2.013434</td>\n",
       "      <td>0.232631</td>\n",
       "      <td>0.792169</td>\n",
       "      <td>-0.638017</td>\n",
       "      <td>-0.608810</td>\n",
       "      <td>...</td>\n",
       "      <td>0.004344</td>\n",
       "      <td>0.354810</td>\n",
       "      <td>-0.355145</td>\n",
       "      <td>0.250615</td>\n",
       "      <td>-0.267947</td>\n",
       "      <td>-2.597436</td>\n",
       "      <td>0.972938</td>\n",
       "      <td>-1.009735</td>\n",
       "      <td>-0.812777</td>\n",
       "      <td>-0.067433</td>\n",
       "    </tr>\n",
       "    <tr>\n",
       "      <th>2</th>\n",
       "      <td>0.212820</td>\n",
       "      <td>0.764166</td>\n",
       "      <td>-0.149814</td>\n",
       "      <td>1.484704</td>\n",
       "      <td>0.585112</td>\n",
       "      <td>1.281493</td>\n",
       "      <td>-0.298504</td>\n",
       "      <td>-0.401683</td>\n",
       "      <td>-0.577870</td>\n",
       "      <td>0.089607</td>\n",
       "      <td>...</td>\n",
       "      <td>0.587785</td>\n",
       "      <td>0.727737</td>\n",
       "      <td>-0.627954</td>\n",
       "      <td>1.357458</td>\n",
       "      <td>0.330670</td>\n",
       "      <td>0.653494</td>\n",
       "      <td>0.935819</td>\n",
       "      <td>-0.213501</td>\n",
       "      <td>-0.970182</td>\n",
       "      <td>0.262121</td>\n",
       "    </tr>\n",
       "    <tr>\n",
       "      <th>3</th>\n",
       "      <td>-1.467532</td>\n",
       "      <td>0.786035</td>\n",
       "      <td>-0.649439</td>\n",
       "      <td>-0.834552</td>\n",
       "      <td>-1.889305</td>\n",
       "      <td>-0.367999</td>\n",
       "      <td>1.232890</td>\n",
       "      <td>0.515288</td>\n",
       "      <td>-1.301849</td>\n",
       "      <td>-0.692503</td>\n",
       "      <td>...</td>\n",
       "      <td>-0.226274</td>\n",
       "      <td>0.336501</td>\n",
       "      <td>-0.444411</td>\n",
       "      <td>-0.748910</td>\n",
       "      <td>-0.169645</td>\n",
       "      <td>0.060107</td>\n",
       "      <td>-0.089559</td>\n",
       "      <td>-0.026024</td>\n",
       "      <td>0.475963</td>\n",
       "      <td>0.149991</td>\n",
       "    </tr>\n",
       "    <tr>\n",
       "      <th>4</th>\n",
       "      <td>-0.424632</td>\n",
       "      <td>-0.225409</td>\n",
       "      <td>-0.511809</td>\n",
       "      <td>1.372547</td>\n",
       "      <td>-0.312948</td>\n",
       "      <td>0.930733</td>\n",
       "      <td>-0.876172</td>\n",
       "      <td>0.145714</td>\n",
       "      <td>-2.262083</td>\n",
       "      <td>0.847519</td>\n",
       "      <td>...</td>\n",
       "      <td>2.403964</td>\n",
       "      <td>-0.861144</td>\n",
       "      <td>-0.652083</td>\n",
       "      <td>0.313402</td>\n",
       "      <td>-0.470566</td>\n",
       "      <td>-0.098543</td>\n",
       "      <td>0.234119</td>\n",
       "      <td>-0.215690</td>\n",
       "      <td>0.362609</td>\n",
       "      <td>0.091699</td>\n",
       "    </tr>\n",
       "  </tbody>\n",
       "</table>\n",
       "<p>5 rows × 100 columns</p>\n",
       "</div>"
      ],
      "text/plain": [
       "         0         1         2         3         4         5         6   \\\n",
       "0  1.624898  0.561618  1.481016 -0.032875 -0.556151 -0.595128 -1.645711   \n",
       "1  1.849679  0.101482 -0.621288  1.310168 -0.187540 -2.013434  0.232631   \n",
       "2  0.212820  0.764166 -0.149814  1.484704  0.585112  1.281493 -0.298504   \n",
       "3 -1.467532  0.786035 -0.649439 -0.834552 -1.889305 -0.367999  1.232890   \n",
       "4 -0.424632 -0.225409 -0.511809  1.372547 -0.312948  0.930733 -0.876172   \n",
       "\n",
       "         7         8         9   ...        90        91        92        93  \\\n",
       "0 -1.065615 -0.875255  0.079320  ... -1.267754 -0.644610  0.873531 -0.424930   \n",
       "1  0.792169 -0.638017 -0.608810  ...  0.004344  0.354810 -0.355145  0.250615   \n",
       "2 -0.401683 -0.577870  0.089607  ...  0.587785  0.727737 -0.627954  1.357458   \n",
       "3  0.515288 -1.301849 -0.692503  ... -0.226274  0.336501 -0.444411 -0.748910   \n",
       "4  0.145714 -2.262083  0.847519  ...  2.403964 -0.861144 -0.652083  0.313402   \n",
       "\n",
       "         94        95        96        97        98        99  \n",
       "0  0.884065 -1.203579  0.994979  0.785209 -0.140452 -0.334586  \n",
       "1 -0.267947 -2.597436  0.972938 -1.009735 -0.812777 -0.067433  \n",
       "2  0.330670  0.653494  0.935819 -0.213501 -0.970182  0.262121  \n",
       "3 -0.169645  0.060107 -0.089559 -0.026024  0.475963  0.149991  \n",
       "4 -0.470566 -0.098543  0.234119 -0.215690  0.362609  0.091699  \n",
       "\n",
       "[5 rows x 100 columns]"
      ]
     },
     "execution_count": 10,
     "metadata": {},
     "output_type": "execute_result"
    }
   ],
   "source": [
    "import numpy as np\n",
    "\n",
    "df = pd.DataFrame(np.random.randn(100,100))\n",
    "df.head()"
   ]
  },
  {
   "cell_type": "code",
   "execution_count": 12,
   "metadata": {},
   "outputs": [
    {
     "data": {
      "text/html": [
       "<div>\n",
       "<style scoped>\n",
       "    .dataframe tbody tr th:only-of-type {\n",
       "        vertical-align: middle;\n",
       "    }\n",
       "\n",
       "    .dataframe tbody tr th {\n",
       "        vertical-align: top;\n",
       "    }\n",
       "\n",
       "    .dataframe thead th {\n",
       "        text-align: right;\n",
       "    }\n",
       "</style>\n",
       "<table border=\"1\" class=\"dataframe\">\n",
       "  <thead>\n",
       "    <tr style=\"text-align: right;\">\n",
       "      <th></th>\n",
       "      <th>0</th>\n",
       "      <th>1</th>\n",
       "      <th>2</th>\n",
       "      <th>3</th>\n",
       "      <th>4</th>\n",
       "      <th>5</th>\n",
       "      <th>6</th>\n",
       "      <th>7</th>\n",
       "      <th>8</th>\n",
       "      <th>9</th>\n",
       "      <th>...</th>\n",
       "      <th>90</th>\n",
       "      <th>91</th>\n",
       "      <th>92</th>\n",
       "      <th>93</th>\n",
       "      <th>94</th>\n",
       "      <th>95</th>\n",
       "      <th>96</th>\n",
       "      <th>97</th>\n",
       "      <th>98</th>\n",
       "      <th>99</th>\n",
       "    </tr>\n",
       "  </thead>\n",
       "  <tbody>\n",
       "    <tr>\n",
       "      <th>0</th>\n",
       "      <td>1.624898</td>\n",
       "      <td>0.561618</td>\n",
       "      <td>1.481016</td>\n",
       "      <td>NaN</td>\n",
       "      <td>NaN</td>\n",
       "      <td>NaN</td>\n",
       "      <td>NaN</td>\n",
       "      <td>NaN</td>\n",
       "      <td>NaN</td>\n",
       "      <td>NaN</td>\n",
       "      <td>...</td>\n",
       "      <td>NaN</td>\n",
       "      <td>NaN</td>\n",
       "      <td>0.873531</td>\n",
       "      <td>NaN</td>\n",
       "      <td>0.884065</td>\n",
       "      <td>NaN</td>\n",
       "      <td>0.994979</td>\n",
       "      <td>0.785209</td>\n",
       "      <td>NaN</td>\n",
       "      <td>NaN</td>\n",
       "    </tr>\n",
       "    <tr>\n",
       "      <th>1</th>\n",
       "      <td>1.849679</td>\n",
       "      <td>NaN</td>\n",
       "      <td>NaN</td>\n",
       "      <td>1.310168</td>\n",
       "      <td>NaN</td>\n",
       "      <td>NaN</td>\n",
       "      <td>NaN</td>\n",
       "      <td>0.792169</td>\n",
       "      <td>NaN</td>\n",
       "      <td>NaN</td>\n",
       "      <td>...</td>\n",
       "      <td>NaN</td>\n",
       "      <td>0.354810</td>\n",
       "      <td>NaN</td>\n",
       "      <td>NaN</td>\n",
       "      <td>NaN</td>\n",
       "      <td>NaN</td>\n",
       "      <td>0.972938</td>\n",
       "      <td>NaN</td>\n",
       "      <td>NaN</td>\n",
       "      <td>NaN</td>\n",
       "    </tr>\n",
       "    <tr>\n",
       "      <th>2</th>\n",
       "      <td>NaN</td>\n",
       "      <td>0.764166</td>\n",
       "      <td>NaN</td>\n",
       "      <td>1.484704</td>\n",
       "      <td>0.585112</td>\n",
       "      <td>1.281493</td>\n",
       "      <td>NaN</td>\n",
       "      <td>NaN</td>\n",
       "      <td>NaN</td>\n",
       "      <td>NaN</td>\n",
       "      <td>...</td>\n",
       "      <td>0.587785</td>\n",
       "      <td>0.727737</td>\n",
       "      <td>NaN</td>\n",
       "      <td>1.357458</td>\n",
       "      <td>0.330670</td>\n",
       "      <td>0.653494</td>\n",
       "      <td>0.935819</td>\n",
       "      <td>NaN</td>\n",
       "      <td>NaN</td>\n",
       "      <td>NaN</td>\n",
       "    </tr>\n",
       "    <tr>\n",
       "      <th>3</th>\n",
       "      <td>NaN</td>\n",
       "      <td>0.786035</td>\n",
       "      <td>NaN</td>\n",
       "      <td>NaN</td>\n",
       "      <td>NaN</td>\n",
       "      <td>NaN</td>\n",
       "      <td>1.23289</td>\n",
       "      <td>0.515288</td>\n",
       "      <td>NaN</td>\n",
       "      <td>NaN</td>\n",
       "      <td>...</td>\n",
       "      <td>NaN</td>\n",
       "      <td>0.336501</td>\n",
       "      <td>NaN</td>\n",
       "      <td>NaN</td>\n",
       "      <td>NaN</td>\n",
       "      <td>NaN</td>\n",
       "      <td>NaN</td>\n",
       "      <td>NaN</td>\n",
       "      <td>0.475963</td>\n",
       "      <td>NaN</td>\n",
       "    </tr>\n",
       "    <tr>\n",
       "      <th>4</th>\n",
       "      <td>NaN</td>\n",
       "      <td>NaN</td>\n",
       "      <td>NaN</td>\n",
       "      <td>1.372547</td>\n",
       "      <td>NaN</td>\n",
       "      <td>0.930733</td>\n",
       "      <td>NaN</td>\n",
       "      <td>NaN</td>\n",
       "      <td>NaN</td>\n",
       "      <td>0.847519</td>\n",
       "      <td>...</td>\n",
       "      <td>2.403964</td>\n",
       "      <td>NaN</td>\n",
       "      <td>NaN</td>\n",
       "      <td>0.313402</td>\n",
       "      <td>NaN</td>\n",
       "      <td>NaN</td>\n",
       "      <td>NaN</td>\n",
       "      <td>NaN</td>\n",
       "      <td>0.362609</td>\n",
       "      <td>NaN</td>\n",
       "    </tr>\n",
       "  </tbody>\n",
       "</table>\n",
       "<p>5 rows × 100 columns</p>\n",
       "</div>"
      ],
      "text/plain": [
       "         0         1         2         3         4         5        6   \\\n",
       "0  1.624898  0.561618  1.481016       NaN       NaN       NaN      NaN   \n",
       "1  1.849679       NaN       NaN  1.310168       NaN       NaN      NaN   \n",
       "2       NaN  0.764166       NaN  1.484704  0.585112  1.281493      NaN   \n",
       "3       NaN  0.786035       NaN       NaN       NaN       NaN  1.23289   \n",
       "4       NaN       NaN       NaN  1.372547       NaN  0.930733      NaN   \n",
       "\n",
       "         7   8         9   ...        90        91        92        93  \\\n",
       "0       NaN NaN       NaN  ...       NaN       NaN  0.873531       NaN   \n",
       "1  0.792169 NaN       NaN  ...       NaN  0.354810       NaN       NaN   \n",
       "2       NaN NaN       NaN  ...  0.587785  0.727737       NaN  1.357458   \n",
       "3  0.515288 NaN       NaN  ...       NaN  0.336501       NaN       NaN   \n",
       "4       NaN NaN  0.847519  ...  2.403964       NaN       NaN  0.313402   \n",
       "\n",
       "         94        95        96        97        98  99  \n",
       "0  0.884065       NaN  0.994979  0.785209       NaN NaN  \n",
       "1       NaN       NaN  0.972938       NaN       NaN NaN  \n",
       "2  0.330670  0.653494  0.935819       NaN       NaN NaN  \n",
       "3       NaN       NaN       NaN       NaN  0.475963 NaN  \n",
       "4       NaN       NaN       NaN       NaN  0.362609 NaN  \n",
       "\n",
       "[5 rows x 100 columns]"
      ]
     },
     "execution_count": 12,
     "metadata": {},
     "output_type": "execute_result"
    }
   ],
   "source": [
    "df = df[df>0.3] # 결측치 발생 위해\n",
    "df.head()"
   ]
  },
  {
   "cell_type": "code",
   "execution_count": 14,
   "metadata": {},
   "outputs": [
    {
     "data": {
      "text/plain": [
       "<matplotlib.axes._subplots.AxesSubplot at 0x1ea32b260f0>"
      ]
     },
     "execution_count": 14,
     "metadata": {},
     "output_type": "execute_result"
    },
    {
     "data": {
      "image/png": "[encoded data removed]",
      "text/plain": [
       "<Figure size 1800x720 with 2 Axes>"
      ]
     },
     "metadata": {
      "needs_background": "light"
     },
     "output_type": "display_data"
    }
   ],
   "source": [
    "import missingno as msno\n",
    "\n",
    "a = msno.matrix(df)\n",
    "a"
   ]
  },
  {
   "cell_type": "code",
   "execution_count": 16,
   "metadata": {},
   "outputs": [
    {
     "data": {
      "text/plain": [
       "(0, 100)"
      ]
     },
     "execution_count": 16,
     "metadata": {},
     "output_type": "execute_result"
    }
   ],
   "source": [
    "df2 = df.dropna()\n",
    "df2.shape"
   ]
  }
 ],
 "metadata": {
  "kernelspec": {
   "display_name": "Python 3",
   "language": "python",
   "name": "python3"
  },
  "language_info": {
   "codemirror_mode": {
    "name": "ipython",
    "version": 3
   },
   "file_extension": ".py",
   "mimetype": "text/x-python",
   "name": "python",
   "nbconvert_exporter": "python",
   "pygments_lexer": "ipython3",
   "version": "3.7.3"
  }
 },
 "nbformat": 4,
 "nbformat_minor": 2
}
