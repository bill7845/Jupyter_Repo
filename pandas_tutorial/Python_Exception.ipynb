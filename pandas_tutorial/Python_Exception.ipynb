{
 "cells": [
  {
   "cell_type": "markdown",
   "metadata": {},
   "source": [
    "## Python Exception"
   ]
  },
  {
   "cell_type": "code",
   "execution_count": null,
   "metadata": {},
   "outputs": [],
   "source": [
    "# try:\n",
    "#     예외 발생 가능 문장들\n",
    "# except Exception:\n",
    "#     예외가 발생한 후에 실행할 문장들\n",
    "# else:\n",
    "#     예외가 발생하지 않았을 때 실행되는 문장들\n",
    "# finally:\n",
    "#     예외 발생 여부와 상관없이 무조건 실행되는 문장들"
   ]
  },
  {
   "cell_type": "code",
   "execution_count": 2,
   "metadata": {},
   "outputs": [
    {
     "name": "stdout",
     "output_type": "stream",
     "text": [
      "예외\n"
     ]
    }
   ],
   "source": [
    "#  \n",
    "try:\n",
    "    10/0\n",
    "except Exception:\n",
    "    print(\"예외\")\n"
   ]
  },
  {
   "cell_type": "code",
   "execution_count": 4,
   "metadata": {},
   "outputs": [
    {
     "name": "stdout",
     "output_type": "stream",
     "text": [
      "예외: division by zero\n",
      "정상종료\n"
     ]
    }
   ],
   "source": [
    "try:\n",
    "    10/0\n",
    "except Exception as e:\n",
    "    print(\"예외:\",e)\n",
    "else:\n",
    "    print(\"예외발생없음\")\n",
    "finally:\n",
    "    print(\"정상종료\")"
   ]
  }
 ],
 "metadata": {
  "kernelspec": {
   "display_name": "Python 3",
   "language": "python",
   "name": "python3"
  },
  "language_info": {
   "codemirror_mode": {
    "name": "ipython",
    "version": 3
   },
   "file_extension": ".py",
   "mimetype": "text/x-python",
   "name": "python",
   "nbconvert_exporter": "python",
   "pygments_lexer": "ipython3",
   "version": "3.7.3"
  }
 },
 "nbformat": 4,
 "nbformat_minor": 2
}
