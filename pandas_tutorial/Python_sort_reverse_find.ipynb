{
 "cells": [
  {
   "cell_type": "markdown",
   "metadata": {},
   "source": [
    "## python sort / reverse/find"
   ]
  },
  {
   "cell_type": "code",
   "execution_count": 9,
   "metadata": {
    "scrolled": true
   },
   "outputs": [
    {
     "name": "stdout",
     "output_type": "stream",
     "text": [
      "[1, 2, 3, 4, 7]\n"
     ]
    }
   ],
   "source": [
    "## sort\n",
    "\n",
    "a = [4,1,7,2,3]\n",
    "\n",
    "# print(a.sort())  # none\n",
    "a.sort()\n",
    "print(a)"
   ]
  },
  {
   "cell_type": "markdown",
   "metadata": {},
   "source": [
    "> sort의 경우 원본값 변경됨\n",
    "\n",
    "> 단, 반환값을 갖지 않음\n",
    "\n",
    "> sort한 결과를 반환하기 위해서는 sorted() 사용"
   ]
  },
  {
   "cell_type": "code",
   "execution_count": 11,
   "metadata": {},
   "outputs": [
    {
     "name": "stdout",
     "output_type": "stream",
     "text": [
      "None\n",
      "[1, 2, 3, 4, 7]\n"
     ]
    }
   ],
   "source": [
    "## sorted\n",
    "\n",
    "a = [4,1,7,2,3]\n",
    "\n",
    "b = a.sort()\n",
    "print(b)\n",
    "\n",
    "b = sorted(a)\n",
    "print(b) "
   ]
  },
  {
   "cell_type": "code",
   "execution_count": 17,
   "metadata": {},
   "outputs": [
    {
     "name": "stdout",
     "output_type": "stream",
     "text": [
      "[5, 4, 3, 2, 1]\n"
     ]
    }
   ],
   "source": [
    "## reverse\n",
    "\n",
    "a = [5,4,3,2,1]\n",
    "\n",
    "# print(a.reverse())  # none , 출력은되지않으나 reverse는 실행\n",
    "# a.reverse()\n",
    "print(a)"
   ]
  },
  {
   "cell_type": "markdown",
   "metadata": {},
   "source": [
    "> reverse의 경우도 원본값 변경\n",
    "\n",
    "> 단, 반환값을 갖지 않음\n",
    "\n",
    "> reverse시킨 결과를 반환하기 위해 reversed() 사용\n",
    "\n",
    "> <b> 단, reversed의 경우 출력위해서는 list붙여서 출력해야함 ex) print(list(b)) </b>"
   ]
  },
  {
   "cell_type": "code",
   "execution_count": 22,
   "metadata": {},
   "outputs": [
    {
     "name": "stdout",
     "output_type": "stream",
     "text": [
      "<list_reverseiterator object at 0x00000142CEC57FD0>\n",
      "<list_reverseiterator object at 0x00000142CEC572B0>\n",
      "[1, 2, 3, 4, 5]\n"
     ]
    }
   ],
   "source": [
    "## reversed\n",
    "\n",
    "a = [5,4,3,2,1]\n",
    "\n",
    "b = reversed(a)\n",
    "\n",
    "print(reversed(a))\n",
    "print(b)\n",
    "print(list(b))"
   ]
  },
  {
   "cell_type": "markdown",
   "metadata": {},
   "source": [
    "#### find"
   ]
  },
  {
   "cell_type": "code",
   "execution_count": 24,
   "metadata": {},
   "outputs": [
    {
     "name": "stdout",
     "output_type": "stream",
     "text": [
      "aa\n"
     ]
    }
   ],
   "source": [
    "## find 주의점\n",
    "# find() => 해당글자를 찾으면 그 글자의 인덱스 반환 / 해당글자를 못찾으면 -1 리턴\n",
    "\n",
    "word = 'korea'\n",
    "\n",
    "if word.find('k'): # k를 찾았으나 반환하는 인덱스가 0(false)이기에 실행되지 않는다\n",
    "    print('aa')\n",
    "    \n",
    "## 해결\n",
    "if word.find('k') > -1:\n",
    "    print('aa')\n",
    "\n"
   ]
  },
  {
   "cell_type": "code",
   "execution_count": null,
   "metadata": {},
   "outputs": [],
   "source": []
  },
  {
   "cell_type": "code",
   "execution_count": null,
   "metadata": {},
   "outputs": [],
   "source": []
  }
 ],
 "metadata": {
  "kernelspec": {
   "display_name": "Python 3",
   "language": "python",
   "name": "python3"
  },
  "language_info": {
   "codemirror_mode": {
    "name": "ipython",
    "version": 3
   },
   "file_extension": ".py",
   "mimetype": "text/x-python",
   "name": "python",
   "nbconvert_exporter": "python",
   "pygments_lexer": "ipython3",
   "version": "3.7.4"
  }
 },
 "nbformat": 4,
 "nbformat_minor": 2
}
