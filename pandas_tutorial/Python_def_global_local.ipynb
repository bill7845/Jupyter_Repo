{
 "cells": [
  {
   "cell_type": "markdown",
   "metadata": {},
   "source": [
    "## Python def"
   ]
  },
  {
   "cell_type": "code",
   "execution_count": 1,
   "metadata": {},
   "outputs": [
    {
     "name": "stdout",
     "output_type": "stream",
     "text": [
      "홍길동 님 ##### 안녕\n",
      "['ㅁ']\n",
      "['ㅁ', 'R']\n",
      "[1, 2, 3, 'A']\n"
     ]
    }
   ],
   "source": [
    "#  함수의 기본 매개변수 지정\n",
    "# func(\"안녕\")\n",
    "# ㄴ\n",
    "def func(greeting,name=\"홍길동\"):\n",
    "    print(name,'님','#####',greeting)\n",
    "func(\"안녕\")\n",
    "\n",
    "\n",
    "\n",
    "\n",
    "def buggy(arg,result=[]): # 해당 함수를 실행시에 result라는 리스트를 만듦 # 이 방식 => global 변수로 만들어짐\n",
    "    result.append(arg)\n",
    "    print(result)\n",
    "buggy('ㅁ')\n",
    "buggy('R') # 함수에서 만든 result 리스트 공유\n",
    "\n",
    "## [] 지정시\n",
    "buggy('A',[1,2,3])"
   ]
  },
  {
   "cell_type": "code",
   "execution_count": 2,
   "metadata": {},
   "outputs": [
    {
     "name": "stdout",
     "output_type": "stream",
     "text": [
      "['ㅁ']\n",
      "['R']\n"
     ]
    }
   ],
   "source": [
    "# buggy와 다르게 result 리스트 지역변수로 만들어짐\n",
    "def buggy2(arg):\n",
    "    result = []\n",
    "    result.append(arg)\n",
    "    print(result)\n",
    "buggy2('ㅁ')\n",
    "buggy2('R') # 함수에서 만든 result 리스트 공유"
   ]
  },
  {
   "cell_type": "code",
   "execution_count": 6,
   "metadata": {},
   "outputs": [
    {
     "name": "stdout",
     "output_type": "stream",
     "text": [
      "15\n",
      "1321\n"
     ]
    }
   ],
   "source": [
    "# 인자의 갯수가 미정일 경우\n",
    "def func(i,j,k=0,*args): # 3번째인자의 경우 안들어올경우 0으로 초기화\n",
    "    sum=i+j+k\n",
    "    for i in args:\n",
    "        sum+=i\n",
    "    return sum\n",
    "\n",
    "print(func(4,5,6))\n",
    "print(func(4,5,6,72,1234))"
   ]
  },
  {
   "cell_type": "code",
   "execution_count": 9,
   "metadata": {},
   "outputs": [
    {
     "name": "stdout",
     "output_type": "stream",
     "text": [
      "1 2 3\n",
      "()\n",
      "{'a': 100, 'b': 200, 'c': 300}\n"
     ]
    }
   ],
   "source": [
    "# key = value 의형태로 인자 넣기\n",
    "\n",
    "def func(i,j,k=100,*args, **kwargs): #3번째인자값의 경우 값이 들어오지않으면 100으로 초기화# **kwargs : 키워드인자가 여러개인 경우 (키워드 = name의 형태) # dict형으로 들어감\n",
    "    print(i,j,k)\n",
    "    print(args)\n",
    "    print(kwargs)\n",
    "\n",
    "# func(1,2)\n",
    "# func(1,2,3)\n",
    "# func(1,2,3,4,5,6)\n",
    "func(1,2,3,a=100,b=200,c=300) # keyword = value => a=100,b=200,c=300 과 같은 형태로 인자를 넣는것 "
   ]
  },
  {
   "cell_type": "code",
   "execution_count": 9,
   "metadata": {},
   "outputs": [
    {
     "name": "stdout",
     "output_type": "stream",
     "text": [
      "<function case1 at 0x00000260BB9E5400>\n"
     ]
    }
   ],
   "source": [
    "# 함수도 객체\n",
    "\n",
    "def case1():\n",
    "    print('case1')\n",
    "def case2():\n",
    "    print('case2')\n",
    "def case3():\n",
    "    print('case3')\n",
    "\n",
    "f = {'case1' : case1, 'case2':case2, 'case3':case3}\n",
    "print(f['case1'])\n",
    "    "
   ]
  },
  {
   "cell_type": "markdown",
   "metadata": {},
   "source": [
    "#### global / local"
   ]
  },
  {
   "cell_type": "code",
   "execution_count": 14,
   "metadata": {},
   "outputs": [
    {
     "name": "stdout",
     "output_type": "stream",
     "text": [
      "안에 지역\n",
      "밖에 지역\n"
     ]
    }
   ],
   "source": [
    "# 글로별 / 지역 변수\n",
    "\n",
    "temp = '글로벌'\n",
    "\n",
    "def func():\n",
    "    global temp # 전역변수로 설정해놓은 temp를 가져온다\n",
    "    temp = '지역'  # \"전역변수\" temp를 '지역'으로 바꾼다\n",
    "    print('안에',temp)\n",
    "\n",
    "func()\n",
    "print(\"밖에\",temp) # 함수내에서 \"전역변수\"를 수정하였으므로 '지역'으로 값이 바뀌어있다"
   ]
  },
  {
   "cell_type": "code",
   "execution_count": null,
   "metadata": {},
   "outputs": [],
   "source": []
  },
  {
   "cell_type": "code",
   "execution_count": null,
   "metadata": {},
   "outputs": [],
   "source": []
  },
  {
   "cell_type": "code",
   "execution_count": null,
   "metadata": {},
   "outputs": [],
   "source": []
  },
  {
   "cell_type": "code",
   "execution_count": null,
   "metadata": {},
   "outputs": [],
   "source": []
  }
 ],
 "metadata": {
  "kernelspec": {
   "display_name": "Python 3",
   "language": "python",
   "name": "python3"
  },
  "language_info": {
   "codemirror_mode": {
    "name": "ipython",
    "version": 3
   },
   "file_extension": ".py",
   "mimetype": "text/x-python",
   "name": "python",
   "nbconvert_exporter": "python",
   "pygments_lexer": "ipython3",
   "version": "3.7.4"
  }
 },
 "nbformat": 4,
 "nbformat_minor": 2
}
