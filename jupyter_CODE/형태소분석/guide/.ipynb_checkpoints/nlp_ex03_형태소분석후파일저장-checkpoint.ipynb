{
 "cells": [
  {
   "cell_type": "code",
   "execution_count": null,
   "metadata": {},
   "outputs": [],
   "source": [
    "import codecs\n",
    "from konlpy.tag import Okt\n",
    "\n",
    "readFp = codecs.open(\"CorpusFile/wiki.txt\", \"r\", encoding=\"utf-8\")\n",
    "ma = \"CorpusFile/wiki.m\"\n",
    "\n",
    "writeFp = open()\n",
    "# 형태소 분석\n",
    "twitter = #TODO \n",
    "i = 0\n",
    "\n",
    "while True:\n",
    "    line = readFp.#TODO \n",
    "    if not line: break\n",
    "\n",
    "    # if i % 100 == 0:\n",
    "    #     print(\"current - \" + str(i)) #100라인에 한번씩 출력\n",
    "    # i += 1\n",
    "\n",
    "    malist = twitter.#TODO(line, norm=True, stem=True)\n",
    "\n",
    "    for word in malist:\n",
    "                   # 조사/어미/구두점 등은 대상에서 제외\n",
    "        if not word[1] in [\"Josa\", \"Eomi\", \"Punctuation\"]:\n",
    "            #TODO(word[0] + \" \")\n",
    "        \n",
    "        \n",
    "        # if word[1] in [\"Noun\"]:\n",
    "        #     writeFp.write(word[0] + \" \")\n",
    "\n",
    "writeFp.close() "
   ]
  }
 ],
 "metadata": {
  "kernelspec": {
   "display_name": "Python 3",
   "language": "python",
   "name": "python3"
  },
  "language_info": {
   "codemirror_mode": {
    "name": "ipython",
    "version": 3
   },
   "file_extension": ".py",
   "mimetype": "text/x-python",
   "name": "python",
   "nbconvert_exporter": "python",
   "pygments_lexer": "ipython3",
   "version": "3.7.4"
  }
 },
 "nbformat": 4,
 "nbformat_minor": 4
}
