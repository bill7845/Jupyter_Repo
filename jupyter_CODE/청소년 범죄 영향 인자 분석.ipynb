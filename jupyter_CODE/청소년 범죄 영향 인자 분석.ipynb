{
 "cells": [
  {
   "cell_type": "markdown",
   "metadata": {},
   "source": [
    "## 청소년 범죄 영향 인자 분석"
   ]
  },
  {
   "cell_type": "code",
   "execution_count": 51,
   "metadata": {},
   "outputs": [],
   "source": [
    "import pandas as pd\n",
    "import numpy as np\n",
    "\n",
    "\n",
    "import matplotlib.pyplot as plt"
   ]
  },
  {
   "cell_type": "code",
   "execution_count": 52,
   "metadata": {},
   "outputs": [],
   "source": [
    "n_crime = pd.read_csv('../data/nightlife_crime.csv', encoding='euc-kr')\n",
    "t_crime = pd.read_csv('../data/crime_teenager.csv', encoding='euc-kr')"
   ]
  },
  {
   "cell_type": "code",
   "execution_count": 79,
   "metadata": {},
   "outputs": [],
   "source": [
    "## 그래프 한글 폰트 패치\n",
    "import platform\n",
    "path = \"c:/Windows/Fonts/malgun.ttf\"\n",
    "from matplotlib import font_manager, rc\n",
    "\n",
    "if platform.system() == \"Darwin\":\n",
    "    rc('font',family='AppleGothic')\n",
    "elif platform.system() == 'Windows':\n",
    "    font_name = font_manager.FontProperties(fname=path).get_name()\n",
    "    rc('font',family=font_name)\n",
    "else:\n",
    "    print('Unknown system')"
   ]
  },
  {
   "cell_type": "code",
   "execution_count": 53,
   "metadata": {
    "scrolled": true
   },
   "outputs": [
    {
     "data": {
      "text/html": [
       "<div>\n",
       "<style scoped>\n",
       "    .dataframe tbody tr th:only-of-type {\n",
       "        vertical-align: middle;\n",
       "    }\n",
       "\n",
       "    .dataframe tbody tr th {\n",
       "        vertical-align: top;\n",
       "    }\n",
       "\n",
       "    .dataframe thead th {\n",
       "        text-align: right;\n",
       "    }\n",
       "</style>\n",
       "<table border=\"1\" class=\"dataframe\">\n",
       "  <thead>\n",
       "    <tr style=\"text-align: right;\">\n",
       "      <th></th>\n",
       "      <th>region</th>\n",
       "      <th>pub</th>\n",
       "      <th>karaoke</th>\n",
       "      <th>tot_nightlife</th>\n",
       "      <th>murder</th>\n",
       "      <th>robbery</th>\n",
       "      <th>forcible_rape</th>\n",
       "      <th>thef</th>\n",
       "      <th>violence</th>\n",
       "      <th>murder_tot</th>\n",
       "      <th>robbery_Tot</th>\n",
       "      <th>forcible_rape_Tot</th>\n",
       "      <th>thef_tot</th>\n",
       "      <th>violence_Tot</th>\n",
       "    </tr>\n",
       "  </thead>\n",
       "  <tbody>\n",
       "    <tr>\n",
       "      <td>0</td>\n",
       "      <td>강남</td>\n",
       "      <td>283</td>\n",
       "      <td>354</td>\n",
       "      <td>637</td>\n",
       "      <td>0</td>\n",
       "      <td>0</td>\n",
       "      <td>9</td>\n",
       "      <td>67</td>\n",
       "      <td>37</td>\n",
       "      <td>3</td>\n",
       "      <td>15</td>\n",
       "      <td>300</td>\n",
       "      <td>2411</td>\n",
       "      <td>2465</td>\n",
       "    </tr>\n",
       "    <tr>\n",
       "      <td>1</td>\n",
       "      <td>강동</td>\n",
       "      <td>146</td>\n",
       "      <td>106</td>\n",
       "      <td>252</td>\n",
       "      <td>0</td>\n",
       "      <td>3</td>\n",
       "      <td>6</td>\n",
       "      <td>193</td>\n",
       "      <td>158</td>\n",
       "      <td>4</td>\n",
       "      <td>6</td>\n",
       "      <td>156</td>\n",
       "      <td>2366</td>\n",
       "      <td>2712</td>\n",
       "    </tr>\n",
       "    <tr>\n",
       "      <td>2</td>\n",
       "      <td>강북</td>\n",
       "      <td>79</td>\n",
       "      <td>128</td>\n",
       "      <td>207</td>\n",
       "      <td>0</td>\n",
       "      <td>0</td>\n",
       "      <td>9</td>\n",
       "      <td>166</td>\n",
       "      <td>210</td>\n",
       "      <td>7</td>\n",
       "      <td>14</td>\n",
       "      <td>153</td>\n",
       "      <td>1434</td>\n",
       "      <td>2649</td>\n",
       "    </tr>\n",
       "    <tr>\n",
       "      <td>3</td>\n",
       "      <td>강서</td>\n",
       "      <td>113</td>\n",
       "      <td>167</td>\n",
       "      <td>280</td>\n",
       "      <td>0</td>\n",
       "      <td>3</td>\n",
       "      <td>9</td>\n",
       "      <td>273</td>\n",
       "      <td>240</td>\n",
       "      <td>7</td>\n",
       "      <td>13</td>\n",
       "      <td>262</td>\n",
       "      <td>2096</td>\n",
       "      <td>3207</td>\n",
       "    </tr>\n",
       "    <tr>\n",
       "      <td>4</td>\n",
       "      <td>관악</td>\n",
       "      <td>223</td>\n",
       "      <td>99</td>\n",
       "      <td>322</td>\n",
       "      <td>0</td>\n",
       "      <td>2</td>\n",
       "      <td>14</td>\n",
       "      <td>170</td>\n",
       "      <td>209</td>\n",
       "      <td>9</td>\n",
       "      <td>12</td>\n",
       "      <td>320</td>\n",
       "      <td>2706</td>\n",
       "      <td>3298</td>\n",
       "    </tr>\n",
       "  </tbody>\n",
       "</table>\n",
       "</div>"
      ],
      "text/plain": [
       "  region  pub  karaoke  tot_nightlife  murder  robbery  forcible_rape  thef  \\\n",
       "0     강남  283      354            637       0        0              9    67   \n",
       "1     강동  146      106            252       0        3              6   193   \n",
       "2     강북   79      128            207       0        0              9   166   \n",
       "3     강서  113      167            280       0        3              9   273   \n",
       "4     관악  223       99            322       0        2             14   170   \n",
       "\n",
       "   violence  murder_tot  robbery_Tot  forcible_rape_Tot  thef_tot  \\\n",
       "0        37           3           15                300      2411   \n",
       "1       158           4            6                156      2366   \n",
       "2       210           7           14                153      1434   \n",
       "3       240           7           13                262      2096   \n",
       "4       209           9           12                320      2706   \n",
       "\n",
       "   violence_Tot  \n",
       "0          2465  \n",
       "1          2712  \n",
       "2          2649  \n",
       "3          3207  \n",
       "4          3298  "
      ]
     },
     "execution_count": 53,
     "metadata": {},
     "output_type": "execute_result"
    }
   ],
   "source": [
    "n_crime.head()"
   ]
  },
  {
   "cell_type": "code",
   "execution_count": 54,
   "metadata": {},
   "outputs": [
    {
     "data": {
      "text/html": [
       "<div>\n",
       "<style scoped>\n",
       "    .dataframe tbody tr th:only-of-type {\n",
       "        vertical-align: middle;\n",
       "    }\n",
       "\n",
       "    .dataframe tbody tr th {\n",
       "        vertical-align: top;\n",
       "    }\n",
       "\n",
       "    .dataframe thead th {\n",
       "        text-align: right;\n",
       "    }\n",
       "</style>\n",
       "<table border=\"1\" class=\"dataframe\">\n",
       "  <thead>\n",
       "    <tr style=\"text-align: right;\">\n",
       "      <th></th>\n",
       "      <th>location</th>\n",
       "      <th>murder</th>\n",
       "      <th>robbery</th>\n",
       "      <th>forcible_rape</th>\n",
       "      <th>thief</th>\n",
       "      <th>violence</th>\n",
       "    </tr>\n",
       "  </thead>\n",
       "  <tbody>\n",
       "    <tr>\n",
       "      <td>0</td>\n",
       "      <td>중  부</td>\n",
       "      <td>0</td>\n",
       "      <td>0</td>\n",
       "      <td>1</td>\n",
       "      <td>44</td>\n",
       "      <td>42</td>\n",
       "    </tr>\n",
       "    <tr>\n",
       "      <td>1</td>\n",
       "      <td>종  로</td>\n",
       "      <td>0</td>\n",
       "      <td>3</td>\n",
       "      <td>4</td>\n",
       "      <td>34</td>\n",
       "      <td>57</td>\n",
       "    </tr>\n",
       "    <tr>\n",
       "      <td>2</td>\n",
       "      <td>남대문</td>\n",
       "      <td>0</td>\n",
       "      <td>0</td>\n",
       "      <td>0</td>\n",
       "      <td>43</td>\n",
       "      <td>4</td>\n",
       "    </tr>\n",
       "    <tr>\n",
       "      <td>3</td>\n",
       "      <td>서대문</td>\n",
       "      <td>0</td>\n",
       "      <td>4</td>\n",
       "      <td>5</td>\n",
       "      <td>142</td>\n",
       "      <td>103</td>\n",
       "    </tr>\n",
       "    <tr>\n",
       "      <td>4</td>\n",
       "      <td>혜  화</td>\n",
       "      <td>0</td>\n",
       "      <td>2</td>\n",
       "      <td>2</td>\n",
       "      <td>38</td>\n",
       "      <td>29</td>\n",
       "    </tr>\n",
       "  </tbody>\n",
       "</table>\n",
       "</div>"
      ],
      "text/plain": [
       "  location  murder  robbery  forcible_rape  thief  violence\n",
       "0     중  부       0        0              1     44        42\n",
       "1     종  로       0        3              4     34        57\n",
       "2      남대문       0        0              0     43         4\n",
       "3      서대문       0        4              5    142       103\n",
       "4     혜  화       0        2              2     38        29"
      ]
     },
     "execution_count": 54,
     "metadata": {},
     "output_type": "execute_result"
    }
   ],
   "source": [
    "t_crime.head()"
   ]
  },
  {
   "cell_type": "code",
   "execution_count": 55,
   "metadata": {},
   "outputs": [],
   "source": [
    "## 컬럼 이름 변경\n",
    "t_crime.rename(columns={'location': '구별', 'murder': '살인', 'robbery': '강도', 'forcible_rape': '강간', 'thief': '절도', 'violence': '폭행'}, inplace=True)"
   ]
  },
  {
   "cell_type": "code",
   "execution_count": null,
   "metadata": {},
   "outputs": [],
   "source": []
  },
  {
   "cell_type": "markdown",
   "metadata": {},
   "source": [
    "#### 범죄 발생건 수"
   ]
  },
  {
   "cell_type": "code",
   "execution_count": 56,
   "metadata": {},
   "outputs": [
    {
     "name": "stdout",
     "output_type": "stream",
     "text": [
      "전체 살인범죄 발생 건수 : 3\n",
      "전체 강도범죄 발생 건수 : 57\n",
      "전체 강간범죄 발생 건수 : 243\n",
      "전체 절도범죄 발생 건수 : 3685\n",
      "전체 폭행범죄 발생 건수 : 3619\n"
     ]
    }
   ],
   "source": [
    "print(\"전체 살인범죄 발생 건수 : %d\" %(t_crime['살인']).sum())\n",
    "print(\"전체 강도범죄 발생 건수 : %d\" %(t_crime['강도']).sum())\n",
    "print(\"전체 강간범죄 발생 건수 : %d\" %(t_crime['강간']).sum())\n",
    "print(\"전체 절도범죄 발생 건수 : %d\" %(t_crime['절도']).sum())\n",
    "print(\"전체 폭행범죄 발생 건수 : %d\" %(t_crime['폭행']).sum())"
   ]
  },
  {
   "cell_type": "markdown",
   "metadata": {},
   "source": [
    "#### 구별 범죄 발생 건 수"
   ]
  },
  {
   "cell_type": "code",
   "execution_count": 61,
   "metadata": {},
   "outputs": [],
   "source": [
    "def gu_total(x):\n",
    "    result = x[0]+x[1]+x[2]+x[3]+x[4]\n",
    "    return result\n",
    "\n",
    "# 구별 범죄발생건수 합계 열 생성\n",
    "t_crime['합계'] = t_crime[['살인','강도','강간','절도','폭행']].apply(gu_total,axis=1)"
   ]
  },
  {
   "cell_type": "code",
   "execution_count": 80,
   "metadata": {},
   "outputs": [
    {
     "data": {
      "text/plain": [
       "<matplotlib.axes._subplots.AxesSubplot at 0x196f31a9308>"
      ]
     },
     "execution_count": 80,
     "metadata": {},
     "output_type": "execute_result"
    },
    {
     "data": {
      "image/png": "[encoded data removed]",
      "text/plain": [
       "<Figure size 432x288 with 1 Axes>"
      ]
     },
     "metadata": {
      "needs_background": "light"
     },
     "output_type": "display_data"
    }
   ],
   "source": [
    "# 구별 범죄 발생 건 수 파악\n",
    "\n",
    "gu_grouped_1 = t_crime.groupby('구별')['합계'].sum().sort_values(ascending=False)\n",
    "plt.figsize\n",
    "gu_grouped_1.plot(kind='bar')"
   ]
  },
  {
   "cell_type": "code",
   "execution_count": null,
   "metadata": {},
   "outputs": [],
   "source": []
  },
  {
   "cell_type": "code",
   "execution_count": null,
   "metadata": {},
   "outputs": [],
   "source": []
  },
  {
   "cell_type": "code",
   "execution_count": null,
   "metadata": {},
   "outputs": [],
   "source": []
  },
  {
   "cell_type": "code",
   "execution_count": null,
   "metadata": {},
   "outputs": [],
   "source": []
  },
  {
   "cell_type": "code",
   "execution_count": null,
   "metadata": {},
   "outputs": [],
   "source": []
  },
  {
   "cell_type": "code",
   "execution_count": null,
   "metadata": {},
   "outputs": [],
   "source": []
  }
 ],
 "metadata": {
  "kernelspec": {
   "display_name": "Python 3",
   "language": "python",
   "name": "python3"
  },
  "language_info": {
   "codemirror_mode": {
    "name": "ipython",
    "version": 3
   },
   "file_extension": ".py",
   "mimetype": "text/x-python",
   "name": "python",
   "nbconvert_exporter": "python",
   "pygments_lexer": "ipython3",
   "version": "3.7.4"
  }
 },
 "nbformat": 4,
 "nbformat_minor": 2
}
