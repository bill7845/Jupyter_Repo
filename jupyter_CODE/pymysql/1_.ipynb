{
 "cells": [
  {
   "cell_type": "code",
   "execution_count": 1,
   "metadata": {},
   "outputs": [
    {
     "name": "stdout",
     "output_type": "stream",
     "text": [
      "Collecting pymysql\n",
      "  Downloading PyMySQL-0.9.3-py2.py3-none-any.whl (47 kB)\n",
      "Installing collected packages: pymysql\n",
      "Successfully installed pymysql-0.9.3\n"
     ]
    }
   ],
   "source": [
    "# !pip install pymysql"
   ]
  },
  {
   "cell_type": "code",
   "execution_count": 2,
   "metadata": {},
   "outputs": [],
   "source": [
    "import pymysql"
   ]
  },
  {
   "cell_type": "code",
   "execution_count": 1,
   "metadata": {},
   "outputs": [],
   "source": [
    "# connect\n",
    "# passwd => str\n",
    "db = pymysql.connect(host='localhost', port=3306, user='root', passwd='3927', db='ecommerce', charset='utf8')\n",
    "\n",
    "# get cursor\n",
    "cursor = db.cursor()\n",
    "\n",
    "# SQL query\n",
    "\n",
    "sql_create = '''\n",
    "    CREATE TABLE product (\n",
    "        product_code varchar(20) not null,\n",
    "        title varchar(200) not null,\n",
    "        ori_price int,\n",
    "        discount_price int,\n",
    "        discount_percent int,\n",
    "        delivery varchar(2),\n",
    "        primary key(product_code)\n",
    "    );\n",
    "'''\n",
    "\n",
    "sql_insert = '''\n",
    "    INSERT INTO product values('215673140','스위트바니 여름신상',23000,6900,70,'F');\n",
    "'''\n",
    "\n",
    "\n",
    "# execute query\n",
    "cursor.execute(sql_insert) # execute 후 commit 필요\n",
    "\n",
    "# commit \n",
    "db.commit()\n",
    "\n",
    "# close connection\n",
    "db.close()"
   ]
  },
  {
   "cell_type": "code",
   "execution_count": 8,
   "metadata": {},
   "outputs": [
    {
     "name": "stdout",
     "output_type": "stream",
     "text": [
      "('215673140', '달리낼리 원피스', 9900, 5000, 30, 'F')\n",
      "('215673149', '스위트바니 여름신상', 23000, 6900, 70, 'F')\n",
      "('215673151', '스위트바니 여름신상', 23000, 6900, 70, 'F')\n",
      "('215673152', '스위트바니 여름신상', 23000, 6900, 70, 'F')\n",
      "('215673153', '스위트바니 여름신상', 23000, 6900, 70, 'F')\n",
      "('215673154', '스위트바니 여름신상', 23000, 6900, 70, 'F')\n",
      "('215673155', '스위트바니 여름신상', 23000, 6900, 70, 'F')\n",
      "('215673156', '스위트바니 여름신상', 23000, 6900, 70, 'F')\n",
      "('215673157', '스위트바니 여름신상', 23000, 6900, 70, 'F')\n",
      "('215673158', '스위트바니 여름신상', 23000, 6900, 70, 'F')\n",
      "('215673159', '스위트바니 여름신상', 23000, 6900, 70, 'F')\n"
     ]
    }
   ],
   "source": [
    "# 연결 닫으면 다시 연결해야함\n",
    "db = pymysql.connect(host='localhost', port=3306, user='root', passwd='3927', db='ecommerce', charset='utf8')\n",
    "cursor = db.cursor()\n",
    "\n",
    "## SELECT\n",
    "sql_select = ''' SELECT * FROM product'''\n",
    "\n",
    "cursor.execute(sql_select)\n",
    "\n",
    "result = cursor.fetchall()\n",
    "## tuple로 가져옴\n",
    "# fetchall => select 된 값 전부 가져오기\n",
    "# fetchone => select 된 값 중 첫번째 값만\n",
    "# fetchmany => select 된 값들 중 몇개만 (size 지정)\n",
    "\n",
    "for record in result:\n",
    "    print(record)\n",
    "\n",
    "db.close()"
   ]
  },
  {
   "cell_type": "code",
   "execution_count": 7,
   "metadata": {},
   "outputs": [],
   "source": [
    "db = pymysql.connect(host='localhost', port=3306, user='root', passwd='3927', db='ecommerce', charset='utf8')\n",
    "cursor = db.cursor()\n",
    "\n",
    "## upgrade SELECT\n",
    "\n",
    "for i in range(11,20):\n",
    "    product_code = 215673140 + i\n",
    "    sql_insert_upgrade = \"\"\"INSERT INTO product VALUES(\n",
    "    '\"\"\" + str(product_code) + \"\"\"', '스위트바니 여름신상', 23000, 6900, 70, 'F');\"\"\"\n",
    "    print(sql_insert_upgrade)\n",
    "    cursor.execute(sql_insert_upgrade)\n",
    "    \n",
    "\n",
    "db.commit()\n",
    "\n",
    "db.close()"
   ]
  },
  {
   "cell_type": "code",
   "execution_count": 9,
   "metadata": {},
   "outputs": [],
   "source": [
    "## 데이터 수정/삭제\n",
    "\n",
    "db = pymysql.connect(host='localhost', port=3306, user='root', passwd='3927', db='ecommerce', charset='utf8')\n",
    "\n",
    "# get cursor\n",
    "cursor = db.cursor()\n",
    "\n",
    "sql_update = \"\"\"\n",
    "UPDATE product SET \n",
    "    title='달리낼리 원피스', \n",
    "    ori_price=9900, \n",
    "    discount_price=5000, \n",
    "    discount_percent=30 \n",
    "WHERE product_code ='215673140'  \n",
    "\"\"\"\n",
    "\n",
    "sql_delete = \"\"\"\n",
    "DELETE FROM product\n",
    "WHERE product_code = '215673149'\n",
    "\"\"\"\n",
    "\n",
    "cursor.execute(sql_delete)\n",
    "\n",
    "db.commit()"
   ]
  }
 ],
 "metadata": {
  "kernelspec": {
   "display_name": "Python 3",
   "language": "python",
   "name": "python3"
  },
  "language_info": {
   "codemirror_mode": {
    "name": "ipython",
    "version": 3
   },
   "file_extension": ".py",
   "mimetype": "text/x-python",
   "name": "python",
   "nbconvert_exporter": "python",
   "pygments_lexer": "ipython3",
   "version": "3.7.4"
  }
 },
 "nbformat": 4,
 "nbformat_minor": 2
}
