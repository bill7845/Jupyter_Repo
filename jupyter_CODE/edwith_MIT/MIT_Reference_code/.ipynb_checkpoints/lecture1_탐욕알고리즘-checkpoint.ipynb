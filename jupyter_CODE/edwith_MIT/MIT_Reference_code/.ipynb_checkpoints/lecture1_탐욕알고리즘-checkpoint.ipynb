{
 "cells": [
  {
   "cell_type": "code",
   "execution_count": 11,
   "metadata": {},
   "outputs": [],
   "source": [
    "# 음식 class 정의\n",
    "class Food(object):\n",
    "    def __init__(self, n, v, w): # 클래스 초기화\n",
    "        self.name = n\n",
    "        self.value = v\n",
    "        self.calories = w\n",
    "    \n",
    "    def getValue(self): # value return\n",
    "        return self.value\n",
    "    def getCost(self): # calories return as cost\n",
    "        return self.calories\n",
    "    def density(self): # density return\n",
    "        return self.getValue()/self.getCost()\n",
    "    def __str__(self): # return str \n",
    "        return self.name + ': <' + str(self.value)\\\n",
    "                 + ', ' + str(self.calories) + '>'"
   ]
  },
  {
   "cell_type": "code",
   "execution_count": 14,
   "metadata": {},
   "outputs": [],
   "source": [
    "def buildMenu(names, values, calories):\n",
    "    \"\"\"names, values, calories lists of same length.\n",
    "       name a list of strings\n",
    "       values and calories lists of numbers\n",
    "       returns list of Foods\"\"\"\n",
    "    \"\"\"names,values,calories 모두 리스트로 입력될것\n",
    "    \"\"\"\n",
    "    menu = []\n",
    "    for i in range(len(values)):\n",
    "        menu.append(Food(names[i], values[i], # loop => menu 리스트에 음식 클래스 객체 생성 # values length만큼\n",
    "                          calories[i]))\n",
    "    return menu # class도 객체이므로 Food객체들을 가진 list return"
   ]
  },
  {
   "cell_type": "code",
   "execution_count": 7,
   "metadata": {},
   "outputs": [],
   "source": [
    "def grAssumeseedy(items, maxCost, keyFunction):\n",
    "    \"\"\" items a list, maxCost >= 0,\n",
    "         keyFunction maps elements of items to numbers\"\"\"\n",
    "    itemsCopy = sorted(items, key = keyFunction, # keyFunction을 sorted의 정렬조건으로\n",
    "                       reverse = True) # reverse True => desc\n",
    "    \n",
    "    result = []\n",
    "    totalValue, totalCost = 0.0, 0.0\n",
    "    \n",
    "    for i in range(len(itemsCopy)):\n",
    "        if (totalCost+itemsCopy[i].getCost()) <= maxCost: # itemsCopy[I].getCost ??? => 이 함수의 인자로 Food 객체가 들어올것\n",
    "            result.append(itemsCopy[i]) # 최대칼로리보다 작다면 추가\n",
    "            totalCost += itemsCopy[i].getCost() # 누적\n",
    "            totalValue += itemsCopy[i].getValue() # 누적\n",
    "    return (result, totalValue)"
   ]
  },
  {
   "cell_type": "markdown",
   "metadata": {},
   "source": [
    "* sorted vs sort\n",
    "    * sorted => 기존의 값을 유지하면서 정렬된값을 반환\n",
    "        * sorted.list(리스트A)\n",
    "        * 리스트A는 그대로 유지하면서 정렬된 리스트를 반환\n",
    "    * sort => 기존리스트를 정렬\n",
    "        * listA.sort()\n",
    "        * listA가 정렬되어있음\n",
    "        * 반환이 NONE이기 때문에 다른 변수로 받아도 NONE임 (ex tmp = listA.sort()의 겨우 tmp는 NONE)\n",
    "        \n",
    "    <br>\n",
    "    \n",
    "    * key parameter\n",
    "        * sorted와 sort 모두 비교를 위한 key 파라미터를 가짐\n",
    "        * 함수여야함"
   ]
  },
  {
   "cell_type": "code",
   "execution_count": 29,
   "metadata": {},
   "outputs": [],
   "source": [
    "def testGreedy(items, constraint, keyFunction):\n",
    "    taken, val = greedy(items, constraint, keyFunction)\n",
    "    print('Total value of items taken =', val)\n",
    "    for item in taken:\n",
    "        print('   ', item)"
   ]
  },
  {
   "cell_type": "code",
   "execution_count": 9,
   "metadata": {},
   "outputs": [],
   "source": [
    "def testGreedys(foods, maxUnits):\n",
    "    print('Use greedy by value to allocate', maxUnits,\n",
    "          'calories')\n",
    "    testGreedy(foods, maxUnits, Food.getValue)\n",
    "    print('\\nUse greedy by cost to allocate', maxUnits,\n",
    "          'calories')\n",
    "    testGreedy(foods, maxUnits,\n",
    "               lambda x: 1/Food.getCost(x))\n",
    "    print('\\nUse greedy by density to allocate', maxUnits,\n",
    "          'calories')\n",
    "    testGreedy(foods, maxUnits, Food.density)"
   ]
  },
  {
   "cell_type": "code",
   "execution_count": 10,
   "metadata": {},
   "outputs": [
    {
     "name": "stdout",
     "output_type": "stream",
     "text": [
      "Use greedy by value to allocate 1000 calories\n",
      "Total value of items taken = 424.0\n",
      "    burger: <100, 354>\n",
      "    pizza: <95, 258>\n",
      "    beer: <90, 154>\n",
      "    wine: <89, 123>\n",
      "    apple: <50, 95>\n",
      "\n",
      "Use greedy by cost to allocate 1000 calories\n",
      "Total value of items taken = 413.0\n",
      "    apple: <50, 95>\n",
      "    wine: <89, 123>\n",
      "    cola: <79, 150>\n",
      "    beer: <90, 154>\n",
      "    donut: <10, 195>\n",
      "    pizza: <95, 258>\n",
      "\n",
      "Use greedy by density to allocate 1000 calories\n",
      "Total value of items taken = 413.0\n",
      "    wine: <89, 123>\n",
      "    beer: <90, 154>\n",
      "    cola: <79, 150>\n",
      "    apple: <50, 95>\n",
      "    pizza: <95, 258>\n",
      "    donut: <10, 195>\n"
     ]
    }
   ],
   "source": [
    "names = ['wine', 'beer', 'pizza', 'burger', 'fries',\n",
    "         'cola', 'apple', 'donut', 'cake']\n",
    "values = [89,90,95,100,90,79,50,10]\n",
    "calories = [123,154,258,354,365,150,95,195]\n",
    "foods = buildMenu(names, values, calories)\n",
    "testGreedys(foods, 1000)\n"
   ]
  },
  {
   "cell_type": "code",
   "execution_count": null,
   "metadata": {},
   "outputs": [],
   "source": []
  },
  {
   "cell_type": "code",
   "execution_count": null,
   "metadata": {},
   "outputs": [],
   "source": []
  }
 ],
 "metadata": {
  "kernelspec": {
   "display_name": "Python 3",
   "language": "python",
   "name": "python3"
  },
  "language_info": {
   "codemirror_mode": {
    "name": "ipython",
    "version": 3
   },
   "file_extension": ".py",
   "mimetype": "text/x-python",
   "name": "python",
   "nbconvert_exporter": "python",
   "pygments_lexer": "ipython3",
   "version": "3.7.4"
  }
 },
 "nbformat": 4,
 "nbformat_minor": 2
}
