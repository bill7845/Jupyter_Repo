{
 "cells": [
  {
   "cell_type": "markdown",
   "metadata": {},
   "source": [
    "## 시계열 예측기법을 활용한 상점별 매출예측\n",
    "\n",
    "* 1. data down sampling\n",
    "* 2. data scaling\n",
    "* 3. ARIMA"
   ]
  },
  {
   "cell_type": "code",
   "execution_count": 1,
   "metadata": {},
   "outputs": [
    {
     "data": {
      "text/plain": [
       "'%.3f'"
      ]
     },
     "execution_count": 1,
     "metadata": {},
     "output_type": "execute_result"
    }
   ],
   "source": [
    "import pandas as pd\n",
    "import numpy as np\n",
    "import scipy as sp\n",
    "\n",
    "import matplotlib.pyplot as plt\n",
    "import seaborn as sns\n",
    "sns.set()\n",
    "\n",
    "import warnings\n",
    "warnings.filterwarnings('ignore')\n",
    "\n",
    "%matplotlib inline\n",
    "%precision 3"
   ]
  },
  {
   "cell_type": "code",
   "execution_count": 2,
   "metadata": {},
   "outputs": [],
   "source": [
    "train = pd.read_csv('C:/Users/KIHyuk/Desktop/dacon_data/Data_상점매출/train.csv')\n",
    "test = pd.read_csv('C:/Users/KIHyuk/Desktop/dacon_data/Data_상점매출/test.csv')\n",
    "submission = pd.read_csv('C:/Users/KIHyuk/Desktop/dacon_data/Data_상점매출/submission.csv')"
   ]
  },
  {
   "cell_type": "code",
   "execution_count": 4,
   "metadata": {},
   "outputs": [],
   "source": [
    "# date,time => python datetime 형식으로 변경\n",
    "test['datetime'] = test['date'] + test['time']\n",
    "\n",
    "# date,time col 합쳐서 datetime으로\n",
    "test['datetime'] = pd.to_datetime(test['datetime'], format='%Y-%m-%d%H:%M:%S', errors='raise')\n",
    "\n",
    "# datetime을 인덱스로\n",
    "test.set_index('datetime',inplace=True)\n",
    "del test['date']\n",
    "del test['time']"
   ]
  },
  {
   "cell_type": "code",
   "execution_count": 42,
   "metadata": {},
   "outputs": [
    {
     "data": {
      "text/html": [
       "<div>\n",
       "<style scoped>\n",
       "    .dataframe tbody tr th:only-of-type {\n",
       "        vertical-align: middle;\n",
       "    }\n",
       "\n",
       "    .dataframe tbody tr th {\n",
       "        vertical-align: top;\n",
       "    }\n",
       "\n",
       "    .dataframe thead th {\n",
       "        text-align: right;\n",
       "    }\n",
       "</style>\n",
       "<table border=\"1\" class=\"dataframe\">\n",
       "  <thead>\n",
       "    <tr style=\"text-align: right;\">\n",
       "      <th></th>\n",
       "      <th>store_id</th>\n",
       "      <th>card_id</th>\n",
       "      <th>amount</th>\n",
       "      <th>installments</th>\n",
       "      <th>days_of_week</th>\n",
       "      <th>holyday</th>\n",
       "    </tr>\n",
       "    <tr>\n",
       "      <th>datetime</th>\n",
       "      <th></th>\n",
       "      <th></th>\n",
       "      <th></th>\n",
       "      <th></th>\n",
       "      <th></th>\n",
       "      <th></th>\n",
       "    </tr>\n",
       "  </thead>\n",
       "  <tbody>\n",
       "    <tr>\n",
       "      <td>2016-08-01 00:28:15</td>\n",
       "      <td>0</td>\n",
       "      <td>bf33518373</td>\n",
       "      <td>125</td>\n",
       "      <td>NaN</td>\n",
       "      <td>0</td>\n",
       "      <td>0</td>\n",
       "    </tr>\n",
       "    <tr>\n",
       "      <td>2016-08-01 01:09:58</td>\n",
       "      <td>0</td>\n",
       "      <td>7a19a3a92f</td>\n",
       "      <td>90</td>\n",
       "      <td>NaN</td>\n",
       "      <td>0</td>\n",
       "      <td>0</td>\n",
       "    </tr>\n",
       "    <tr>\n",
       "      <td>2016-08-01 01:47:24</td>\n",
       "      <td>0</td>\n",
       "      <td>6f9fd7e241</td>\n",
       "      <td>150</td>\n",
       "      <td>NaN</td>\n",
       "      <td>0</td>\n",
       "      <td>0</td>\n",
       "    </tr>\n",
       "    <tr>\n",
       "      <td>2016-08-01 17:54:43</td>\n",
       "      <td>0</td>\n",
       "      <td>8bcf1d61b2</td>\n",
       "      <td>362</td>\n",
       "      <td>NaN</td>\n",
       "      <td>0</td>\n",
       "      <td>0</td>\n",
       "    </tr>\n",
       "    <tr>\n",
       "      <td>2016-08-01 18:48:53</td>\n",
       "      <td>0</td>\n",
       "      <td>6a722ce674</td>\n",
       "      <td>125</td>\n",
       "      <td>NaN</td>\n",
       "      <td>0</td>\n",
       "      <td>0</td>\n",
       "    </tr>\n",
       "  </tbody>\n",
       "</table>\n",
       "</div>"
      ],
      "text/plain": [
       "                     store_id     card_id  amount  installments  days_of_week  \\\n",
       "datetime                                                                        \n",
       "2016-08-01 00:28:15         0  bf33518373     125           NaN             0   \n",
       "2016-08-01 01:09:58         0  7a19a3a92f      90           NaN             0   \n",
       "2016-08-01 01:47:24         0  6f9fd7e241     150           NaN             0   \n",
       "2016-08-01 17:54:43         0  8bcf1d61b2     362           NaN             0   \n",
       "2016-08-01 18:48:53         0  6a722ce674     125           NaN             0   \n",
       "\n",
       "                     holyday  \n",
       "datetime                      \n",
       "2016-08-01 00:28:15        0  \n",
       "2016-08-01 01:09:58        0  \n",
       "2016-08-01 01:47:24        0  \n",
       "2016-08-01 17:54:43        0  \n",
       "2016-08-01 18:48:53        0  "
      ]
     },
     "execution_count": 42,
     "metadata": {},
     "output_type": "execute_result"
    }
   ],
   "source": [
    "test.head()"
   ]
  },
  {
   "cell_type": "code",
   "execution_count": 62,
   "metadata": {},
   "outputs": [],
   "source": [
    "# down sampling\n",
    "\n",
    "# 마지막 거래일로부터 100일의 총 매출을 예측해야함\n",
    "# 1일씩 예측은 위험성이 높으므로, 25일씩 예측\n",
    "# 30 -> 20 -> 10 -> 7\n",
    "\n",
    "a = test.query(\"store_id =='0'\")['amount'].resample('M').sum()"
   ]
  }
 ],
 "metadata": {
  "kernelspec": {
   "display_name": "Python 3",
   "language": "python",
   "name": "python3"
  },
  "language_info": {
   "codemirror_mode": {
    "name": "ipython",
    "version": 3
   },
   "file_extension": ".py",
   "mimetype": "text/x-python",
   "name": "python",
   "nbconvert_exporter": "python",
   "pygments_lexer": "ipython3",
   "version": "3.7.4"
  }
 },
 "nbformat": 4,
 "nbformat_minor": 2
}
