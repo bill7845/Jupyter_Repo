{
 "cells": [
  {
   "cell_type": "code",
   "execution_count": 178,
   "metadata": {},
   "outputs": [
    {
     "data": {
      "text/plain": [
       "'%.3f'"
      ]
     },
     "execution_count": 178,
     "metadata": {},
     "output_type": "execute_result"
    }
   ],
   "source": [
    "import pandas as pd\n",
    "import numpy as np\n",
    "import scipy as sp\n",
    "\n",
    "import matplotlib.pyplot as plt\n",
    "import seaborn as sns\n",
    "sns.set()\n",
    "\n",
    "import warnings\n",
    "warnings.filterwarnings('ignore')\n",
    "\n",
    "%matplotlib inline\n",
    "%precision 3"
   ]
  },
  {
   "cell_type": "code",
   "execution_count": 110,
   "metadata": {},
   "outputs": [],
   "source": [
    "train = pd.read_csv('C:/Users/KIHyuk/Desktop/dacon_data/Data_상점매출/train.csv')\n",
    "test = pd.read_csv('C:/Users/KIHyuk/Desktop/dacon_data/Data_상점매출/test.csv')"
   ]
  },
  {
   "cell_type": "code",
   "execution_count": 111,
   "metadata": {},
   "outputs": [
    {
     "data": {
      "text/html": [
       "<div>\n",
       "<style scoped>\n",
       "    .dataframe tbody tr th:only-of-type {\n",
       "        vertical-align: middle;\n",
       "    }\n",
       "\n",
       "    .dataframe tbody tr th {\n",
       "        vertical-align: top;\n",
       "    }\n",
       "\n",
       "    .dataframe thead th {\n",
       "        text-align: right;\n",
       "    }\n",
       "</style>\n",
       "<table border=\"1\" class=\"dataframe\">\n",
       "  <thead>\n",
       "    <tr style=\"text-align: right;\">\n",
       "      <th></th>\n",
       "      <th>store_id</th>\n",
       "      <th>date</th>\n",
       "      <th>time</th>\n",
       "      <th>card_id</th>\n",
       "      <th>amount</th>\n",
       "      <th>installments</th>\n",
       "      <th>days_of_week</th>\n",
       "      <th>holyday</th>\n",
       "    </tr>\n",
       "  </thead>\n",
       "  <tbody>\n",
       "    <tr>\n",
       "      <td>0</td>\n",
       "      <td>0</td>\n",
       "      <td>2016-12-14</td>\n",
       "      <td>18:05:31</td>\n",
       "      <td>d297bba73f</td>\n",
       "      <td>5</td>\n",
       "      <td>NaN</td>\n",
       "      <td>2</td>\n",
       "      <td>0</td>\n",
       "    </tr>\n",
       "    <tr>\n",
       "      <td>1</td>\n",
       "      <td>0</td>\n",
       "      <td>2016-12-14</td>\n",
       "      <td>18:05:54</td>\n",
       "      <td>d297bba73f</td>\n",
       "      <td>-5</td>\n",
       "      <td>NaN</td>\n",
       "      <td>2</td>\n",
       "      <td>0</td>\n",
       "    </tr>\n",
       "    <tr>\n",
       "      <td>2</td>\n",
       "      <td>0</td>\n",
       "      <td>2016-12-19</td>\n",
       "      <td>12:42:31</td>\n",
       "      <td>0880849c05</td>\n",
       "      <td>144</td>\n",
       "      <td>NaN</td>\n",
       "      <td>0</td>\n",
       "      <td>0</td>\n",
       "    </tr>\n",
       "    <tr>\n",
       "      <td>3</td>\n",
       "      <td>0</td>\n",
       "      <td>2016-12-19</td>\n",
       "      <td>12:48:08</td>\n",
       "      <td>8b4f9e0e95</td>\n",
       "      <td>66</td>\n",
       "      <td>NaN</td>\n",
       "      <td>0</td>\n",
       "      <td>0</td>\n",
       "    </tr>\n",
       "    <tr>\n",
       "      <td>4</td>\n",
       "      <td>0</td>\n",
       "      <td>2016-12-19</td>\n",
       "      <td>13:31:08</td>\n",
       "      <td>7ad237eed0</td>\n",
       "      <td>24</td>\n",
       "      <td>NaN</td>\n",
       "      <td>0</td>\n",
       "      <td>0</td>\n",
       "    </tr>\n",
       "  </tbody>\n",
       "</table>\n",
       "</div>"
      ],
      "text/plain": [
       "   store_id        date      time     card_id  amount  installments  \\\n",
       "0         0  2016-12-14  18:05:31  d297bba73f       5           NaN   \n",
       "1         0  2016-12-14  18:05:54  d297bba73f      -5           NaN   \n",
       "2         0  2016-12-19  12:42:31  0880849c05     144           NaN   \n",
       "3         0  2016-12-19  12:48:08  8b4f9e0e95      66           NaN   \n",
       "4         0  2016-12-19  13:31:08  7ad237eed0      24           NaN   \n",
       "\n",
       "   days_of_week  holyday  \n",
       "0             2        0  \n",
       "1             2        0  \n",
       "2             0        0  \n",
       "3             0        0  \n",
       "4             0        0  "
      ]
     },
     "execution_count": 111,
     "metadata": {},
     "output_type": "execute_result"
    }
   ],
   "source": [
    "# 2016-08-01부터 2018-07-31까지.\n",
    "train.head()"
   ]
  },
  {
   "cell_type": "code",
   "execution_count": 112,
   "metadata": {},
   "outputs": [
    {
     "data": {
      "text/plain": [
       "(3362796, 8)"
      ]
     },
     "execution_count": 112,
     "metadata": {},
     "output_type": "execute_result"
    }
   ],
   "source": [
    "train.shape"
   ]
  },
  {
   "cell_type": "code",
   "execution_count": 113,
   "metadata": {},
   "outputs": [
    {
     "data": {
      "text/plain": [
       "store_id          int64\n",
       "date             object\n",
       "time             object\n",
       "card_id          object\n",
       "amount            int64\n",
       "installments    float64\n",
       "days_of_week      int64\n",
       "holyday           int64\n",
       "dtype: object"
      ]
     },
     "execution_count": 113,
     "metadata": {},
     "output_type": "execute_result"
    }
   ],
   "source": [
    "train.dtypes"
   ]
  },
  {
   "cell_type": "code",
   "execution_count": 114,
   "metadata": {},
   "outputs": [],
   "source": [
    "# date,time => python datetime 형식으로 변경\n",
    "train['datetime'] = train['date'] + train['time']\n",
    "\n",
    "# date,time col 합쳐서 datetime으로\n",
    "train['datetime'] = pd.to_datetime(train['datetime'], format='%Y-%m-%d%H:%M:%S', errors='raise')\n",
    "\n",
    "# datetime을 인덱스로\n",
    "train.set_index('datetime',inplace=True)\n",
    "del train['date']\n",
    "del train['time']"
   ]
  },
  {
   "cell_type": "code",
   "execution_count": 115,
   "metadata": {},
   "outputs": [
    {
     "data": {
      "text/plain": [
       "1775"
      ]
     },
     "execution_count": 115,
     "metadata": {},
     "output_type": "execute_result"
    }
   ],
   "source": [
    "## 변수 하나씩 살펴보자\n",
    "# 상점아이디, 카드번호, 결제금액, 할부개월, 요일, 휴일여부\n",
    "\n",
    "# 1. 상점아이디\n",
    "train['store_id'].nunique() # 총 1775개의 상점 "
   ]
  },
  {
   "cell_type": "code",
   "execution_count": 116,
   "metadata": {},
   "outputs": [
    {
     "data": {
      "text/html": [
       "<div>\n",
       "<style scoped>\n",
       "    .dataframe tbody tr th:only-of-type {\n",
       "        vertical-align: middle;\n",
       "    }\n",
       "\n",
       "    .dataframe tbody tr th {\n",
       "        vertical-align: top;\n",
       "    }\n",
       "\n",
       "    .dataframe thead th {\n",
       "        text-align: right;\n",
       "    }\n",
       "</style>\n",
       "<table border=\"1\" class=\"dataframe\">\n",
       "  <thead>\n",
       "    <tr style=\"text-align: right;\">\n",
       "      <th></th>\n",
       "      <th>sum</th>\n",
       "      <th>mean</th>\n",
       "      <th>std</th>\n",
       "      <th>min</th>\n",
       "      <th>max</th>\n",
       "    </tr>\n",
       "    <tr>\n",
       "      <th>store_id</th>\n",
       "      <th></th>\n",
       "      <th></th>\n",
       "      <th></th>\n",
       "      <th></th>\n",
       "      <th></th>\n",
       "    </tr>\n",
       "  </thead>\n",
       "  <tbody>\n",
       "    <tr>\n",
       "      <td>1600</td>\n",
       "      <td>115500</td>\n",
       "      <td>57750.000000</td>\n",
       "      <td>27223.611076</td>\n",
       "      <td>38500</td>\n",
       "      <td>77000</td>\n",
       "    </tr>\n",
       "    <tr>\n",
       "      <td>847</td>\n",
       "      <td>98000</td>\n",
       "      <td>49000.000000</td>\n",
       "      <td>8485.281374</td>\n",
       "      <td>43000</td>\n",
       "      <td>55000</td>\n",
       "    </tr>\n",
       "    <tr>\n",
       "      <td>334</td>\n",
       "      <td>1258750</td>\n",
       "      <td>21334.745763</td>\n",
       "      <td>16084.958315</td>\n",
       "      <td>-35000</td>\n",
       "      <td>49750</td>\n",
       "    </tr>\n",
       "    <tr>\n",
       "      <td>536</td>\n",
       "      <td>245005</td>\n",
       "      <td>20417.083333</td>\n",
       "      <td>13560.345004</td>\n",
       "      <td>5</td>\n",
       "      <td>50000</td>\n",
       "    </tr>\n",
       "    <tr>\n",
       "      <td>389</td>\n",
       "      <td>102500</td>\n",
       "      <td>14642.857143</td>\n",
       "      <td>20074.267288</td>\n",
       "      <td>-5</td>\n",
       "      <td>42500</td>\n",
       "    </tr>\n",
       "    <tr>\n",
       "      <td>...</td>\n",
       "      <td>...</td>\n",
       "      <td>...</td>\n",
       "      <td>...</td>\n",
       "      <td>...</td>\n",
       "      <td>...</td>\n",
       "    </tr>\n",
       "    <tr>\n",
       "      <td>608</td>\n",
       "      <td>5</td>\n",
       "      <td>5.000000</td>\n",
       "      <td>NaN</td>\n",
       "      <td>5</td>\n",
       "      <td>5</td>\n",
       "    </tr>\n",
       "    <tr>\n",
       "      <td>826</td>\n",
       "      <td>5</td>\n",
       "      <td>2.500000</td>\n",
       "      <td>3.535534</td>\n",
       "      <td>0</td>\n",
       "      <td>5</td>\n",
       "    </tr>\n",
       "    <tr>\n",
       "      <td>988</td>\n",
       "      <td>0</td>\n",
       "      <td>0.000000</td>\n",
       "      <td>133.710775</td>\n",
       "      <td>-250</td>\n",
       "      <td>250</td>\n",
       "    </tr>\n",
       "    <tr>\n",
       "      <td>350</td>\n",
       "      <td>0</td>\n",
       "      <td>0.000000</td>\n",
       "      <td>346.410162</td>\n",
       "      <td>-300</td>\n",
       "      <td>300</td>\n",
       "    </tr>\n",
       "    <tr>\n",
       "      <td>866</td>\n",
       "      <td>0</td>\n",
       "      <td>0.000000</td>\n",
       "      <td>7.071068</td>\n",
       "      <td>-5</td>\n",
       "      <td>5</td>\n",
       "    </tr>\n",
       "  </tbody>\n",
       "</table>\n",
       "<p>1775 rows × 5 columns</p>\n",
       "</div>"
      ],
      "text/plain": [
       "              sum          mean           std    min    max\n",
       "store_id                                                   \n",
       "1600       115500  57750.000000  27223.611076  38500  77000\n",
       "847         98000  49000.000000   8485.281374  43000  55000\n",
       "334       1258750  21334.745763  16084.958315 -35000  49750\n",
       "536        245005  20417.083333  13560.345004      5  50000\n",
       "389        102500  14642.857143  20074.267288     -5  42500\n",
       "...           ...           ...           ...    ...    ...\n",
       "608             5      5.000000           NaN      5      5\n",
       "826             5      2.500000      3.535534      0      5\n",
       "988             0      0.000000    133.710775   -250    250\n",
       "350             0      0.000000    346.410162   -300    300\n",
       "866             0      0.000000      7.071068     -5      5\n",
       "\n",
       "[1775 rows x 5 columns]"
      ]
     },
     "execution_count": 116,
     "metadata": {},
     "output_type": "execute_result"
    }
   ],
   "source": [
    "# 1.1 상점별 매출 요약통계\n",
    "train.groupby('store_id')['amount'].agg(['sum','mean','std','min','max']).sort_values(by='mean',ascending=False)\n",
    "# 매출이 0인 상점들 존재"
   ]
  },
  {
   "cell_type": "code",
   "execution_count": 117,
   "metadata": {},
   "outputs": [
    {
     "data": {
      "text/plain": [
       "922522"
      ]
     },
     "execution_count": 117,
     "metadata": {},
     "output_type": "execute_result"
    }
   ],
   "source": [
    "# 2. 카드번호\n",
    "train['card_id'].nunique() # 총 922522개의 카드"
   ]
  },
  {
   "cell_type": "code",
   "execution_count": 118,
   "metadata": {},
   "outputs": [
    {
     "data": {
      "text/plain": [
       "mean       145.962304\n",
       "std        601.730590\n",
       "min    -250000.000000\n",
       "max     250000.000000\n",
       "Name: amount, dtype: float64"
      ]
     },
     "execution_count": 118,
     "metadata": {},
     "output_type": "execute_result"
    }
   ],
   "source": [
    "# 3. 결제금액\n",
    "\n",
    "# 3.1 결제금액 요약통계\n",
    "train['amount'].agg(['mean','std','min','max'])"
   ]
  },
  {
   "cell_type": "code",
   "execution_count": 119,
   "metadata": {},
   "outputs": [
    {
     "name": "stdout",
     "output_type": "stream",
     "text": [
      "일시불 거래 횟수 3345936\n",
      "할부 거래 횟수 16860\n"
     ]
    }
   ],
   "source": [
    "# 4. 할부\n",
    "\n",
    "# 4.1 일시불과 할부 비율\n",
    "train['installments'].replace(np.nan,\"none_installments\",inplace=True) # nan => str\n",
    "print(\"일시불 거래 횟수\",len(train.query(\"installments =='none_installments'\")))\n",
    "print(\"할부 거래 횟수\",len(train.query(\"installments !='none_installments'\")))\n",
    "# 대부분 일시불거래로, 할부거래의 경우는 금액이 높을때 이루어질까? => 할부거래가 많다면 매상이 높을까"
   ]
  },
  {
   "cell_type": "code",
   "execution_count": 129,
   "metadata": {},
   "outputs": [],
   "source": [
    "# 4.2 일시불과 할부 거래액 비교\n",
    "yes_installments = train.query(\"installments != 'none_installments'\")\n",
    "no_installments = train.query(\"installments == 'none_installments'\")"
   ]
  },
  {
   "cell_type": "code",
   "execution_count": 133,
   "metadata": {},
   "outputs": [
    {
     "name": "stdout",
     "output_type": "stream",
     "text": [
      "할부거래 요약통계\n",
      "mean      1661.198577\n",
      "std       5423.061627\n",
      "min    -250000.000000\n",
      "max     250000.000000\n",
      "Name: amount, dtype: float64\n",
      "##########################################################\n",
      "일시불거래 요약통계\n",
      "mean       138.327106\n",
      "std        451.765501\n",
      "min    -133162.000000\n",
      "max     220000.000000\n",
      "Name: amount, dtype: float64\n"
     ]
    }
   ],
   "source": [
    "print(\"할부거래 요약통계\")\n",
    "print(yes_installments['amount'].agg(['mean','std','min','max']))\n",
    "print(\"##########################################################\")\n",
    "print(\"일시불거래 요약통계\")\n",
    "print(no_installments['amount'].agg(['mean','std','min','max']))\n",
    "\n",
    "# 확실히 할부거래의 거래액이 높다\n",
    "# 할부기간이 길수록 거래액도 높을까?"
   ]
  },
  {
   "cell_type": "code",
   "execution_count": 179,
   "metadata": {},
   "outputs": [
    {
     "name": "stdout",
     "output_type": "stream",
     "text": [
      "3.0     10686\n",
      "2.0      3431\n",
      "5.0      1220\n",
      "6.0       647\n",
      "10.0      252\n",
      "4.0       209\n",
      "12.0      206\n",
      "24.0       96\n",
      "8.0        32\n",
      "7.0        28\n",
      "9.0        25\n",
      "18.0       11\n",
      "20.0        6\n",
      "36.0        5\n",
      "22.0        4\n",
      "15.0        2\n",
      "Name: installments, dtype: int64\n",
      "                   sum         mean\n",
      "installments                       \n",
      "2.0            2656734   774.332265\n",
      "3.0           16624237  1555.702508\n",
      "4.0             429029  2052.770335\n",
      "5.0            2946690  2415.319672\n",
      "6.0            2474926  3825.233385\n",
      "7.0              85121  3040.035714\n",
      "8.0              88719  2772.468750\n",
      "9.0              63919  2556.760000\n",
      "10.0           1272305  5048.829365\n",
      "12.0            920959  4470.674757\n",
      "15.0             10580  5290.000000\n",
      "18.0             29214  2655.818182\n",
      "20.0             29900  4983.333333\n",
      "22.0                 0     0.000000\n",
      "24.0            371173  3866.385417\n",
      "36.0              4302   860.400000\n"
     ]
    },
    {
     "data": {
      "image/png": "[encoded data removed]",
      "text/plain": [
       "<Figure size 864x576 with 1 Axes>"
      ]
     },
     "metadata": {
      "needs_background": "light"
     },
     "output_type": "display_data"
    }
   ],
   "source": [
    "# 4.3 할부거래 살펴보기\n",
    "print(yes_installments['installments'].value_counts())\n",
    "# 총 16개의 할부기간 \n",
    "\n",
    "# 4.4 할부기간 별 매상비교\n",
    "plt.title('할부기간 별 매상 평균')\n",
    "yes_installments.groupby('installments')['amount'].mean().plot(figsize=(12,8))\n",
    "print(yes_installments.groupby('installments')['amount'].agg(['sum','mean']))\n",
    "# 할부개월수가 높아진다고 매상이 높은것은 아님 "
   ]
  },
  {
   "cell_type": "code",
   "execution_count": 180,
   "metadata": {},
   "outputs": [
    {
     "data": {
      "text/html": [
       "<div>\n",
       "<style scoped>\n",
       "    .dataframe tbody tr th:only-of-type {\n",
       "        vertical-align: middle;\n",
       "    }\n",
       "\n",
       "    .dataframe tbody tr th {\n",
       "        vertical-align: top;\n",
       "    }\n",
       "\n",
       "    .dataframe thead th {\n",
       "        text-align: right;\n",
       "    }\n",
       "</style>\n",
       "<table border=\"1\" class=\"dataframe\">\n",
       "  <thead>\n",
       "    <tr style=\"text-align: right;\">\n",
       "      <th></th>\n",
       "      <th>store_id</th>\n",
       "      <th>card_id</th>\n",
       "      <th>amount</th>\n",
       "      <th>installments</th>\n",
       "      <th>days_of_week</th>\n",
       "      <th>holyday</th>\n",
       "    </tr>\n",
       "    <tr>\n",
       "      <th>datetime</th>\n",
       "      <th></th>\n",
       "      <th></th>\n",
       "      <th></th>\n",
       "      <th></th>\n",
       "      <th></th>\n",
       "      <th></th>\n",
       "    </tr>\n",
       "  </thead>\n",
       "  <tbody>\n",
       "    <tr>\n",
       "      <td>2016-12-14 18:05:31</td>\n",
       "      <td>0</td>\n",
       "      <td>d297bba73f</td>\n",
       "      <td>5</td>\n",
       "      <td>none_installments</td>\n",
       "      <td>2</td>\n",
       "      <td>0</td>\n",
       "    </tr>\n",
       "    <tr>\n",
       "      <td>2016-12-14 18:05:54</td>\n",
       "      <td>0</td>\n",
       "      <td>d297bba73f</td>\n",
       "      <td>-5</td>\n",
       "      <td>none_installments</td>\n",
       "      <td>2</td>\n",
       "      <td>0</td>\n",
       "    </tr>\n",
       "    <tr>\n",
       "      <td>2016-12-19 12:42:31</td>\n",
       "      <td>0</td>\n",
       "      <td>0880849c05</td>\n",
       "      <td>144</td>\n",
       "      <td>none_installments</td>\n",
       "      <td>0</td>\n",
       "      <td>0</td>\n",
       "    </tr>\n",
       "    <tr>\n",
       "      <td>2016-12-19 12:48:08</td>\n",
       "      <td>0</td>\n",
       "      <td>8b4f9e0e95</td>\n",
       "      <td>66</td>\n",
       "      <td>none_installments</td>\n",
       "      <td>0</td>\n",
       "      <td>0</td>\n",
       "    </tr>\n",
       "    <tr>\n",
       "      <td>2016-12-19 13:31:08</td>\n",
       "      <td>0</td>\n",
       "      <td>7ad237eed0</td>\n",
       "      <td>24</td>\n",
       "      <td>none_installments</td>\n",
       "      <td>0</td>\n",
       "      <td>0</td>\n",
       "    </tr>\n",
       "    <tr>\n",
       "      <td>...</td>\n",
       "      <td>...</td>\n",
       "      <td>...</td>\n",
       "      <td>...</td>\n",
       "      <td>...</td>\n",
       "      <td>...</td>\n",
       "      <td>...</td>\n",
       "    </tr>\n",
       "    <tr>\n",
       "      <td>2018-07-19 17:58:31</td>\n",
       "      <td>1799</td>\n",
       "      <td>e254bf70d9</td>\n",
       "      <td>600</td>\n",
       "      <td>none_installments</td>\n",
       "      <td>3</td>\n",
       "      <td>0</td>\n",
       "    </tr>\n",
       "    <tr>\n",
       "      <td>2018-07-19 18:54:34</td>\n",
       "      <td>1799</td>\n",
       "      <td>8f41c89891</td>\n",
       "      <td>275</td>\n",
       "      <td>none_installments</td>\n",
       "      <td>3</td>\n",
       "      <td>0</td>\n",
       "    </tr>\n",
       "    <tr>\n",
       "      <td>2018-07-22 14:46:57</td>\n",
       "      <td>1799</td>\n",
       "      <td>aeb64fe1fb</td>\n",
       "      <td>350</td>\n",
       "      <td>none_installments</td>\n",
       "      <td>6</td>\n",
       "      <td>0</td>\n",
       "    </tr>\n",
       "    <tr>\n",
       "      <td>2018-07-25 18:09:13</td>\n",
       "      <td>1799</td>\n",
       "      <td>57932602d6</td>\n",
       "      <td>300</td>\n",
       "      <td>none_installments</td>\n",
       "      <td>2</td>\n",
       "      <td>0</td>\n",
       "    </tr>\n",
       "    <tr>\n",
       "      <td>2018-07-30 10:58:53</td>\n",
       "      <td>1799</td>\n",
       "      <td>42d354807a</td>\n",
       "      <td>325</td>\n",
       "      <td>none_installments</td>\n",
       "      <td>0</td>\n",
       "      <td>0</td>\n",
       "    </tr>\n",
       "  </tbody>\n",
       "</table>\n",
       "<p>3362796 rows × 6 columns</p>\n",
       "</div>"
      ],
      "text/plain": [
       "                     store_id     card_id  amount       installments  \\\n",
       "datetime                                                               \n",
       "2016-12-14 18:05:31         0  d297bba73f       5  none_installments   \n",
       "2016-12-14 18:05:54         0  d297bba73f      -5  none_installments   \n",
       "2016-12-19 12:42:31         0  0880849c05     144  none_installments   \n",
       "2016-12-19 12:48:08         0  8b4f9e0e95      66  none_installments   \n",
       "2016-12-19 13:31:08         0  7ad237eed0      24  none_installments   \n",
       "...                       ...         ...     ...                ...   \n",
       "2018-07-19 17:58:31      1799  e254bf70d9     600  none_installments   \n",
       "2018-07-19 18:54:34      1799  8f41c89891     275  none_installments   \n",
       "2018-07-22 14:46:57      1799  aeb64fe1fb     350  none_installments   \n",
       "2018-07-25 18:09:13      1799  57932602d6     300  none_installments   \n",
       "2018-07-30 10:58:53      1799  42d354807a     325  none_installments   \n",
       "\n",
       "                     days_of_week  holyday  \n",
       "datetime                                    \n",
       "2016-12-14 18:05:31             2        0  \n",
       "2016-12-14 18:05:54             2        0  \n",
       "2016-12-19 12:42:31             0        0  \n",
       "2016-12-19 12:48:08             0        0  \n",
       "2016-12-19 13:31:08             0        0  \n",
       "...                           ...      ...  \n",
       "2018-07-19 17:58:31             3        0  \n",
       "2018-07-19 18:54:34             3        0  \n",
       "2018-07-22 14:46:57             6        0  \n",
       "2018-07-25 18:09:13             2        0  \n",
       "2018-07-30 10:58:53             0        0  \n",
       "\n",
       "[3362796 rows x 6 columns]"
      ]
     },
     "execution_count": 180,
     "metadata": {},
     "output_type": "execute_result"
    }
   ],
   "source": [
    "train"
   ]
  },
  {
   "cell_type": "code",
   "execution_count": null,
   "metadata": {},
   "outputs": [],
   "source": [
    "# 기간별로 살펴보자\n"
   ]
  }
 ],
 "metadata": {
  "kernelspec": {
   "display_name": "Python 3",
   "language": "python",
   "name": "python3"
  },
  "language_info": {
   "codemirror_mode": {
    "name": "ipython",
    "version": 3
   },
   "file_extension": ".py",
   "mimetype": "text/x-python",
   "name": "python",
   "nbconvert_exporter": "python",
   "pygments_lexer": "ipython3",
   "version": "3.7.4"
  }
 },
 "nbformat": 4,
 "nbformat_minor": 2
}
