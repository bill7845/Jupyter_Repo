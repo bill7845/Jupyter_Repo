{
 "cells": [
  {
   "cell_type": "code",
   "execution_count": 39,
   "metadata": {},
   "outputs": [],
   "source": [
    "import pandas as pd\n",
    "import numpy as np\n",
    "\n",
    "df = pd.read_csv('C:/Users/KIHyuk/Desktop/dacon_data/Dacon_청원분류/train.csv')\n",
    "\n",
    "df.head(3)\n",
    "print(len(df))\n",
    "\n",
    "df.isnull().sum()\n",
    "\n",
    "df = df.dropna()\n",
    "\n",
    "from sklearn.model_selection import train_test_split\n",
    "\n",
    "X_features = df['data']\n",
    "target = df['category']\n",
    "\n",
    "X_train,X_test,y_train,y_test = train_test_split(X_features,target,test_size=0.3)\n",
    "\n",
    "from konlpy.tag import Twitter\n",
    "\n",
    "twitter = Twitter()\n",
    "def tw_tokenizer(text):\n",
    "    tokens_ko = twitter.morphs(text)\n",
    "    return tokens_ko\n",
    "\n",
    "from sklearn.feature_extraction.text import TfidfVectorizer\n",
    "from sklearn.linear_model import LogisticRegression\n",
    "from sklearn.model_selection import GridSearchCV\n",
    "\n",
    "tfidf_vect = TfidfVectorizer(tokenizer=tw_tokenizer, ngram_range=(1,2),min_df=3,max_df=0.9)\n",
    "tfidf_vect.fit(X_train)\n",
    "tfidf_matrix_train = tfidf_vect.transform(X_train)\n",
    "\n",
    "lg_clf = LogisticRegression(random_state=0)\n",
    "params = {'C':[1, 3.5, 4.5, 5.5, 10]}\n",
    "\n",
    "grid_cv = GridSearchCV(lg_clf, param_grid=params, cv=3, scoring='accuracy', verbose=1)\n",
    "grid_cv.fit(tfidf_vatrix_train,y_train)\n",
    "print(grid_cv.best_params_,round(grid_cv.best_score_,4))"
   ]
  }
 ],
 "metadata": {
  "kernelspec": {
   "display_name": "Python 3",
   "language": "python",
   "name": "python3"
  },
  "language_info": {
   "codemirror_mode": {
    "name": "ipython",
    "version": 3
   },
   "file_extension": ".py",
   "mimetype": "text/x-python",
   "name": "python",
   "nbconvert_exporter": "python",
   "pygments_lexer": "ipython3",
   "version": "3.7.4"
  }
 },
 "nbformat": 4,
 "nbformat_minor": 2
}
