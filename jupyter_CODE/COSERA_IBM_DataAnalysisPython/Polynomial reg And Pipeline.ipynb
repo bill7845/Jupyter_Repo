{
 "cells": [
  {
   "cell_type": "markdown",
   "metadata": {},
   "source": [
    "## 비선형 회귀"
   ]
  },
  {
   "cell_type": "markdown",
   "metadata": {},
   "source": [
    "![비선형회귀_2](https://user-images.githubusercontent.com/35517797/70027683-05ab5f80-15e6-11ea-959b-b378ab20d631.png)"
   ]
  },
  {
   "cell_type": "markdown",
   "metadata": {},
   "source": [
    "![비선형회귀_3](https://user-images.githubusercontent.com/35517797/70027684-07752300-15e6-11ea-9f40-a639726a81d0.png)"
   ]
  },
  {
   "cell_type": "markdown",
   "metadata": {},
   "source": [
    "![비선형회귀_1](https://user-images.githubusercontent.com/35517797/70027612-de549280-15e5-11ea-8006-1a228ba44c82.png)\n",
    "\n"
   ]
  },
  {
   "cell_type": "markdown",
   "metadata": {},
   "source": [
    "> 첫번째 이미지에서 보이는 데이터들의 패턴을 파악할 경우, 직선(선형)만으로 파악할 경우 패턴을 제대로 따르지 못한다. 따라서 이 경우 선형이 아닌 비선형(곡선)으로 패턴을 파악하여야 한다.\n",
    "\n",
    "* 예를들어 이 패턴의 경우 겨울과 여름철 에어컨 가격 변동이라하자, 선형으로 패턴을 파악할 경우 시간이 지남에 따라 가격이 계속해서 하락하는 패턴으로 잘못파악하게 된다"
   ]
  },
  {
   "cell_type": "code",
   "execution_count": null,
   "metadata": {},
   "outputs": [],
   "source": []
  },
  {
   "cell_type": "code",
   "execution_count": null,
   "metadata": {},
   "outputs": [],
   "source": []
  },
  {
   "cell_type": "code",
   "execution_count": null,
   "metadata": {},
   "outputs": [],
   "source": []
  },
  {
   "cell_type": "markdown",
   "metadata": {},
   "source": [
    "## scikit-learn pipeline"
   ]
  },
  {
   "cell_type": "markdown",
   "metadata": {},
   "source": [
    "여러 변환 단계를 정확한 순서대로 실행할 수 있도록 하는 파이프라인 <br>\n",
    "연속된 변환을 순서대로 처리할 수 있도록 도와주는 scikit-learn의 pipeline 클래스\n",
    "\n",
    "> 전처리 단계를 한번에"
   ]
  },
  {
   "cell_type": "markdown",
   "metadata": {},
   "source": [
    "Pipeline은 연속된 단계를 나타내는 이름/추정기 쌍의 목록을 입력으로 받습니다. 마지막 단계에는 변환기와 추정기를 모두 사용할 수 있고 그 외에는 모두 변환기여야 합니다(즉 fit_transform() 메서드를 가지고 있어야 합니다). 이름은 무엇이든 상관없지만, 이중 밑줄 문자(__)는 포함하지 않아야 합니다. <br>\n",
    "\n",
    "파이프라인의 fit() 메서드를 호출하면 모든 변환기의 fit_transform() 메서드를 순서대로 호출하면서 한 단계의 출력을 다음 단계의 입력으로 전달합니다. 마지막 단계에서는 fit()메서드만 호출합니다. <br>\n",
    "\n",
    "파이프라인 객체는 마지막 추정기와 동일한 메서드를 제공합니다. 이 예에서는 마지막 추정기가 변환기 StandardScaler이므로 파이프라인이 데이터에 대해 모든 변환을 순서대로 적용하는 transform() 메서드를 가지고 있습니다(또한 fit_transform() 메서드도 가지고 있습니다)"
   ]
  },
  {
   "cell_type": "code",
   "execution_count": 6,
   "metadata": {},
   "outputs": [],
   "source": [
    "# 설명 및 코드출처 https://stickie.tistory.com/77"
   ]
  },
  {
   "cell_type": "code",
   "execution_count": 8,
   "metadata": {},
   "outputs": [],
   "source": [
    "from sklearn.pipeline import Pipeline\n",
    "from sklearn.preprocessing import Imputer, StandardScaler\n",
    "from sklearn.preprocessing import OnehotEncoder, CategoricalEncoder\n",
    "\n",
    "# 숫자형 변수를 전처리하는 Pipeline\n",
    "num_pipeline = Pipeline([\n",
    "    ('selector', DataFrameSelector(num_attr)),\n",
    "    ('imputer', Imputer(strategy = 'median')),\n",
    "    ('std_scaler', StandardScaler())\n",
    "])\n",
    "\n",
    "# 범주형 변수를 전처리하는 Pipeline\n",
    "cat_pipeline = Pipeline([\n",
    "    ('selector', DataFrameSelector(cat_attr)),\n",
    "    ('cat_encoder', CategoricalEncoder(encoding = 'onehot-dense'))\n",
    "])"
   ]
  },
  {
   "cell_type": "markdown",
   "metadata": {},
   "source": [
    "위와 같이 하나의 데이터셋에서 수치형 변수, 범주형 변수에 대한 파이프라인을 각각 만들었습니다. <br>\n",
    "어떻게 두 파이프라인을 하나로 합칠 수 있을까요? 정답은 사이킷런의 FeatureUnion입니다. <br>\n",
    "변환기 목록을 전달하고 transform() 메서드를 호출하면 각 변환기의 transform() 메서드를 병렬로 실행합니다.그런 다음 각 변환기의 결과를 합쳐 반환합니다. 숫자형과 범주형 특성을 모두 다루는 전체 파이프라인은 다음과 같습니다."
   ]
  },
  {
   "cell_type": "code",
   "execution_count": null,
   "metadata": {},
   "outputs": [],
   "source": [
    "# num_pipeline과 cat_pipeline을 합치는 FeatureUnion\n",
    "full_pipeline = FeatureUnion(transformer_list = [\n",
    "  ('num_pipeline', num_pipeline),\n",
    "  ('cat_pipeline', cat_pipeline),\n",
    "  ])\n",
    "  \n",
    "# 전체 파이프라인 실행  \n",
    "housing_prepared = full_pipeline.fit_transform(housing)\n",
    "print(housing_prepared)"
   ]
  },
  {
   "cell_type": "code",
   "execution_count": null,
   "metadata": {},
   "outputs": [],
   "source": [
    "### 전체 코드\n",
    "\n",
    "from sklearn.pipeline import Pipeline\n",
    "from sklearn.pipeline import FeatureUnion\n",
    "from sklearn.preprocessing import Imputer, StandardScaler\n",
    "from sklearn.preprocessing import OnehotEncoder, CategoricalEncoder\n",
    "\n",
    "\n",
    "num_attr = list(housing_num)\n",
    "cat_attr = [\"ocean_proximity\"]\n",
    "\n",
    "# 숫자형 변수를 전처리하는 Pipeline\n",
    "num_pipeline = Pipeline([\n",
    "    ('selector', DataFrameSelector(num_attr)),\n",
    "    ('imputer', Imputer(strategy = 'median')),\n",
    "    ('std_scaler', StandardScaler())\n",
    "])\n",
    "\n",
    "# 범주형 변수를 전처리하는 Pipeline\n",
    "cat_pipeline = Pipeline([\n",
    "    ('selector', DataFrameSelector(cat_attr)),\n",
    "    ('cat_encoder', CategoricalEncoder(encoding = 'onehot-dense'))\n",
    "])\n",
    "\n",
    "# num_pipeline과 cat_pipeline을 합치는 FeatureUnion\n",
    "full_pipeline = FeatureUnion(transformer_list = [\n",
    "  ('num_pipeline', num_pipeline),\n",
    "  ('cat_pipeline', cat_pipeline),\n",
    "  ])\n",
    "\n",
    "# 전체 파이프라인 실행  \n",
    "housing_prepared = full_pipeline.fit_transform(housing)\n",
    "print(housing_prepared)"
   ]
  },
  {
   "cell_type": "code",
   "execution_count": null,
   "metadata": {},
   "outputs": [],
   "source": []
  },
  {
   "cell_type": "code",
   "execution_count": null,
   "metadata": {},
   "outputs": [],
   "source": []
  },
  {
   "cell_type": "code",
   "execution_count": null,
   "metadata": {},
   "outputs": [],
   "source": [
    "# 예제2\n",
    "\n",
    "# 데이터에서 패턴을 찾는 일은 종종 기능 선택, 정규화 및 분류와 같은 일련의 데이터 처리 단계에서 진행됩니다. sklearn 에서는이 단계에 대한 파이프 라인이 사용됩니다.\n",
    "# 예를 들어, 다음 코드는 두 단계로 구성된 파이프 라인을 보여줍니다. 첫 번째는 피처의 크기를 조정하고 두 번째는 결과로 생성되는 증분 된 데이터 세트의 분류자를 훈련시킵니다.\n",
    "\n",
    "from sklearn.pipeline import make_pipeline\n",
    "from sklearn.preprocessing import StandardScaler\n",
    "from sklearn.neighbors import KNeighborsClassifier\n",
    "\n",
    "pipeline = make_pipeline(StandardScaler(), KNeighborsClassifier(n_neighbors=4))\n",
    "\n",
    "# 일단 파이프 라인이 생성되면 일반 단계와 같이 사용할 수 있습니다 (구체적인 단계에 따라 다름). 예를 들어, 파이프 라인은 분류 자처럼 작동합니다. 따라서 다음과 같이 사용할 수 있습니다.\n",
    "\n",
    "# fitting a classifier\n",
    "pipeline.fit(X_train, y_train)\n",
    "# getting predictions for the new data sample\n",
    "pipeline.predict_proba(X_test)"
   ]
  }
 ],
 "metadata": {
  "kernelspec": {
   "display_name": "Python 3",
   "language": "python",
   "name": "python3"
  },
  "language_info": {
   "codemirror_mode": {
    "name": "ipython",
    "version": 3
   },
   "file_extension": ".py",
   "mimetype": "text/x-python",
   "name": "python",
   "nbconvert_exporter": "python",
   "pygments_lexer": "ipython3",
   "version": "3.7.4"
  }
 },
 "nbformat": 4,
 "nbformat_minor": 2
}
