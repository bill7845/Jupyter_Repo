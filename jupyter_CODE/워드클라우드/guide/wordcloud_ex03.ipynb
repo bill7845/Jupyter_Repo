{
 "cells": [
  {
   "cell_type": "code",
   "execution_count": 1,
   "metadata": {},
   "outputs": [],
   "source": [
    "import matplotlib.pyplot as plt\n",
    "%matplotlib inline \n",
    "\n",
    "from wordcloud import WordCloud, STOPWORDS\n",
    "\n",
    "text=open(\"a.txt\",\"r\", encoding=\"utf-8\").read()\n",
    "\n",
    "spwords=set(STOPWORDS) ## 기본적으로 많이 쓰는 단어는 제외\n",
    "spwords.add('10월') ##  제외하고 싶은 단어 추가\n",
    "\n",
    "import numpy as np\n",
    "from PIL import Image ##이미지 관련 함수\n",
    "alice_mask=np.array(#TODO ('mask.png')) \n"
   ]
  },
  {
   "cell_type": "code",
   "execution_count": 1,
   "metadata": {},
   "outputs": [],
   "source": [
    "#워드 클라우드를 설정합니다. 한글이 있기 때문에 폰트도 넣어 줍니다.\n",
    "wordcloud = WordCloud(max_font_size=200,font_path='c:/Windows/fonts/malgun.ttf',\n",
    "                      stopwords=spwords,background_color='#FFFFFF',\n",
    "                      #TODO    \n",
    "                      #TODO \n",
    "                      width=1200,height=800).#TODO  \n",
    "\n",
    "plt.figure(figsize=(10,8))\n",
    "plt.imshow(wordcloud)\n",
    "plt.tight_layout(pad=0)\n",
    "plt.axis('off')\n",
    "\n",
    "plt.savefig('wordcloud_image3.png', bbox_inches='tight')\n",
    "plt.show()\n"
   ]
  },
  {
   "cell_type": "code",
   "execution_count": null,
   "metadata": {},
   "outputs": [],
   "source": []
  }
 ],
 "metadata": {
  "kernelspec": {
   "display_name": "Python 3",
   "language": "python",
   "name": "python3"
  },
  "language_info": {
   "codemirror_mode": {
    "name": "ipython",
    "version": 3
   },
   "file_extension": ".py",
   "mimetype": "text/x-python",
   "name": "python",
   "nbconvert_exporter": "python",
   "pygments_lexer": "ipython3",
   "version": "3.7.3"
  }
 },
 "nbformat": 4,
 "nbformat_minor": 2
}
