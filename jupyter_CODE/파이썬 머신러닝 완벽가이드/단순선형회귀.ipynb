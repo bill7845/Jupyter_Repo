{
 "cells": [
  {
   "cell_type": "code",
   "execution_count": 13,
   "metadata": {},
   "outputs": [],
   "source": [
    "import pandas as pd\n",
    "import numpy as np\n",
    "\n",
    "import matplotlib.pyplot as plt\n",
    "import seaborn as sns\n",
    "\n",
    "from scipy import stats\n",
    "from sklearn.datasets import load_boston\n",
    "from sklearn.model_selection import train_test_split\n",
    "from sklearn.linear_model import LinearRegression\n",
    "from sklearn.metrics import mean_squared_error, r2_score\n",
    "\n",
    "%matplotlib inline"
   ]
  },
  {
   "cell_type": "code",
   "execution_count": 11,
   "metadata": {},
   "outputs": [],
   "source": [
    "boston = load_boston()"
   ]
  },
  {
   "cell_type": "code",
   "execution_count": 12,
   "metadata": {},
   "outputs": [
    {
     "name": "stdout",
     "output_type": "stream",
     "text": [
      "(506, 14)\n"
     ]
    }
   ],
   "source": [
    "df = pd.DataFrame(boston.data,columns=boston.feature_names)\n",
    "\n",
    "df['PRICE'] = boston.target\n",
    "print(df.shape)"
   ]
  },
  {
   "cell_type": "code",
   "execution_count": 16,
   "metadata": {},
   "outputs": [],
   "source": [
    "y_target = df['PRICE']\n",
    "x_data = df.drop(['PRICE'],axis=1,inplace=False)\n",
    "\n",
    "X_train,X_test,y_train,y_test = train_test_split(x_data,y_target,test_size=0.3,random_state=156)"
   ]
  },
  {
   "cell_type": "code",
   "execution_count": 18,
   "metadata": {},
   "outputs": [
    {
     "name": "stdout",
     "output_type": "stream",
     "text": [
      "MSE : 17.29691590790215\n",
      "RMSE :  4.158956107955715\n",
      "R2 :  0.7572263323138921\n"
     ]
    }
   ],
   "source": [
    "lr = LinearRegression()\n",
    "lr.fit(X_train,y_train)\n",
    " \n",
    "y_preds = lr.predict(X_test)\n",
    "mse = mean_squared_error(y_test,y_preds)\n",
    "rmse = np.sqrt(mse)\n",
    "\n",
    "print(\"MSE :\",mse)\n",
    "print(\"RMSE : \",rmse)\n",
    "print(\"R2 : \",r2_score(y_test,y_preds))"
   ]
  },
  {
   "cell_type": "code",
   "execution_count": 23,
   "metadata": {},
   "outputs": [
    {
     "name": "stdout",
     "output_type": "stream",
     "text": [
      "절편 값 :  40.995595172164336\n",
      "회귀계수 :  [ -0.1   0.1   0.    3.  -19.8   3.4   0.   -1.7   0.4  -0.   -0.9   0.\n",
      "  -0.6]\n"
     ]
    }
   ],
   "source": [
    "print(\"절편 값 : \",lr.intercept_)\n",
    "print(\"회귀계수 : \",np.round(lr.coef_,1))"
   ]
  },
  {
   "cell_type": "code",
   "execution_count": 25,
   "metadata": {},
   "outputs": [
    {
     "data": {
      "text/plain": [
       "array([-1.12979614e-01,  6.55124002e-02,  3.44366694e-02,  3.04589777e+00,\n",
       "       -1.97958320e+01,  3.35496880e+00,  5.93713290e-03, -1.74185354e+00,\n",
       "        3.55884364e-01, -1.42954516e-02, -9.20180066e-01,  1.03966156e-02,\n",
       "       -5.66182106e-01])"
      ]
     },
     "execution_count": 25,
     "metadata": {},
     "output_type": "execute_result"
    }
   ],
   "source": [
    "lr.coef_"
   ]
  },
  {
   "cell_type": "code",
   "execution_count": 27,
   "metadata": {},
   "outputs": [
    {
     "data": {
      "text/plain": [
       "RM          3.4\n",
       "CHAS        3.0\n",
       "RAD         0.4\n",
       "ZN          0.1\n",
       "B           0.0\n",
       "TAX        -0.0\n",
       "AGE         0.0\n",
       "INDUS       0.0\n",
       "CRIM       -0.1\n",
       "LSTAT      -0.6\n",
       "PTRATIO    -0.9\n",
       "DIS        -1.7\n",
       "NOX       -19.8\n",
       "dtype: float64"
      ]
     },
     "execution_count": 27,
     "metadata": {},
     "output_type": "execute_result"
    }
   ],
   "source": [
    "# 회귀계수 큰 값 순으로 정렬\n",
    "coeff = pd.Series(data=np.round(lr.coef_,1),index=x_data.columns)\n",
    "coeff.sort_values(ascending=False)"
   ]
  },
  {
   "cell_type": "code",
   "execution_count": 30,
   "metadata": {},
   "outputs": [
    {
     "name": "stdout",
     "output_type": "stream",
     "text": [
      "5 folds 의 개별 Negative MSE scores : [-12.46 -26.05 -33.07 -80.76 -33.31]\n",
      "5 folds 의 개별 RMSE scores : [3.53 5.1  5.75 8.99 5.77]\n",
      "5 folds 의 평균 RMSE : 5.828658946215808\n"
     ]
    }
   ],
   "source": [
    "# cross_val_score\n",
    "\n",
    "from sklearn.model_selection import cross_val_score\n",
    "\n",
    "neg_mse_scores = cross_val_score(lr,x_data,y_target,scoring=\"neg_mean_squared_error\",cv=5)\n",
    "rmse_scores = np.sqrt(-1*neg_mse_scores)\n",
    "avg_rmse = np.mean(rmse_scores)\n",
    "\n",
    "# coross_val_score(scoring=\"neg_mean_squared_error\")로 반환된 값은 모두 음수\n",
    "print(\"5 folds 의 개별 Negative MSE scores :\",np.round(neg_mse_scores,2))\n",
    "print(\"5 folds 의 개별 RMSE scores :\",np.round(rmse_scores,2))\n",
    "print(\"5 folds 의 평균 RMSE :\",avg_rmse)"
   ]
  }
 ],
 "metadata": {
  "kernelspec": {
   "display_name": "Python 3",
   "language": "python",
   "name": "python3"
  },
  "language_info": {
   "codemirror_mode": {
    "name": "ipython",
    "version": 3
   },
   "file_extension": ".py",
   "mimetype": "text/x-python",
   "name": "python",
   "nbconvert_exporter": "python",
   "pygments_lexer": "ipython3",
   "version": "3.7.4"
  }
 },
 "nbformat": 4,
 "nbformat_minor": 2
}
