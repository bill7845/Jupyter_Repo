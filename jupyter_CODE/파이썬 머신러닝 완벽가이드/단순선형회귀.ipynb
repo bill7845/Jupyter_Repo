{
 "cells": [
  {
   "cell_type": "code",
   "execution_count": 1,
   "metadata": {},
   "outputs": [],
   "source": [
    "import pandas as pd\n",
    "import numpy as np\n",
    "\n",
    "import matplotlib.pyplot as plt\n",
    "import seaborn as sns\n",
    "\n",
    "from scipy import stats\n",
    "from sklearn.datasets import load_boston\n",
    "from sklearn.model_selection import train_test_split\n",
    "from sklearn.linear_model import LinearRegression\n",
    "from sklearn.metrics import mean_squared_error, r2_score\n",
    "\n",
    "%matplotlib inline"
   ]
  },
  {
   "cell_type": "code",
   "execution_count": 2,
   "metadata": {},
   "outputs": [],
   "source": [
    "boston = load_boston()"
   ]
  },
  {
   "cell_type": "code",
   "execution_count": 3,
   "metadata": {},
   "outputs": [
    {
     "name": "stdout",
     "output_type": "stream",
     "text": [
      "(506, 14)\n"
     ]
    }
   ],
   "source": [
    "df = pd.DataFrame(boston.data,columns=boston.feature_names)\n",
    "\n",
    "df['PRICE'] = boston.target\n",
    "print(df.shape)"
   ]
  },
  {
   "cell_type": "code",
   "execution_count": 4,
   "metadata": {},
   "outputs": [],
   "source": [
    "y_target = df['PRICE']\n",
    "x_data = df.drop(['PRICE'],axis=1,inplace=False)\n",
    "\n",
    "X_train,X_test,y_train,y_test = train_test_split(x_data,y_target,test_size=0.3,random_state=156)"
   ]
  },
  {
   "cell_type": "code",
   "execution_count": 5,
   "metadata": {},
   "outputs": [
    {
     "name": "stdout",
     "output_type": "stream",
     "text": [
      "MSE : 17.29691590790215\n",
      "RMSE :  4.158956107955715\n",
      "R2 :  0.7572263323138921\n"
     ]
    }
   ],
   "source": [
    "lr = LinearRegression()\n",
    "lr.fit(X_train,y_train)\n",
    " \n",
    "y_preds = lr.predict(X_test)\n",
    "mse = mean_squared_error(y_test,y_preds)\n",
    "rmse = np.sqrt(mse)\n",
    "\n",
    "print(\"MSE :\",mse)\n",
    "print(\"RMSE : \",rmse)\n",
    "print(\"R2 : \",r2_score(y_test,y_preds))"
   ]
  },
  {
   "cell_type": "code",
   "execution_count": 6,
   "metadata": {},
   "outputs": [
    {
     "name": "stdout",
     "output_type": "stream",
     "text": [
      "절편 값 :  40.995595172164336\n",
      "회귀계수 :  [ -0.1   0.1   0.    3.  -19.8   3.4   0.   -1.7   0.4  -0.   -0.9   0.\n",
      "  -0.6]\n"
     ]
    }
   ],
   "source": [
    "print(\"절편 값 : \",lr.intercept_)\n",
    "print(\"회귀계수 : \",np.round(lr.coef_,1))"
   ]
  },
  {
   "cell_type": "code",
   "execution_count": 7,
   "metadata": {},
   "outputs": [
    {
     "data": {
      "text/plain": [
       "array([-1.12979614e-01,  6.55124002e-02,  3.44366694e-02,  3.04589777e+00,\n",
       "       -1.97958320e+01,  3.35496880e+00,  5.93713290e-03, -1.74185354e+00,\n",
       "        3.55884364e-01, -1.42954516e-02, -9.20180066e-01,  1.03966156e-02,\n",
       "       -5.66182106e-01])"
      ]
     },
     "execution_count": 7,
     "metadata": {},
     "output_type": "execute_result"
    }
   ],
   "source": [
    "lr.coef_"
   ]
  },
  {
   "cell_type": "code",
   "execution_count": 8,
   "metadata": {},
   "outputs": [
    {
     "data": {
      "text/plain": [
       "RM          3.4\n",
       "CHAS        3.0\n",
       "RAD         0.4\n",
       "ZN          0.1\n",
       "B           0.0\n",
       "TAX        -0.0\n",
       "AGE         0.0\n",
       "INDUS       0.0\n",
       "CRIM       -0.1\n",
       "LSTAT      -0.6\n",
       "PTRATIO    -0.9\n",
       "DIS        -1.7\n",
       "NOX       -19.8\n",
       "dtype: float64"
      ]
     },
     "execution_count": 8,
     "metadata": {},
     "output_type": "execute_result"
    }
   ],
   "source": [
    "# 회귀계수 큰 값 순으로 정렬\n",
    "coeff = pd.Series(data=np.round(lr.coef_,1),index=x_data.columns)\n",
    "coeff.sort_values(ascending=False)"
   ]
  },
  {
   "cell_type": "code",
   "execution_count": 9,
   "metadata": {},
   "outputs": [
    {
     "name": "stdout",
     "output_type": "stream",
     "text": [
      "5 folds 의 개별 Negative MSE scores : [-12.46 -26.05 -33.07 -80.76 -33.31]\n",
      "5 folds 의 개별 RMSE scores : [3.53 5.1  5.75 8.99 5.77]\n",
      "5 folds 의 평균 RMSE : 5.828658946215808\n"
     ]
    }
   ],
   "source": [
    "# cross_val_score\n",
    "\n",
    "from sklearn.model_selection import cross_val_score\n",
    "\n",
    "neg_mse_scores = cross_val_score(lr,x_data,y_target,scoring=\"neg_mean_squared_error\",cv=5)\n",
    "rmse_scores = np.sqrt(-1*neg_mse_scores)\n",
    "avg_rmse = np.mean(rmse_scores)\n",
    "\n",
    "# coross_val_score(scoring=\"neg_mean_squared_error\")로 반환된 값은 모두 음수\n",
    "print(\"5 folds 의 개별 Negative MSE scores :\",np.round(neg_mse_scores,2))\n",
    "print(\"5 folds 의 개별 RMSE scores :\",np.round(rmse_scores,2))\n",
    "print(\"5 folds 의 평균 RMSE :\",avg_rmse)"
   ]
  },
  {
   "cell_type": "markdown",
   "metadata": {},
   "source": [
    "## 선형 회귀 모델을 위한 데이터 변환"
   ]
  },
  {
   "cell_type": "code",
   "execution_count": 29,
   "metadata": {},
   "outputs": [],
   "source": [
    "from sklearn.linear_model import Lasso,ElasticNet,Ridge\n",
    "\n",
    "# alpha값에 따른 회귀 모델의 폴드 평균 RMSE를 출력하고 회귀 계수값들을 DataFrame으로 반환\n",
    "def get_linear_reg_eval(model_name,params=None,X_data_n=None,y_target_n=None,verbose=True):\n",
    "    coeff_df = pd.DataFrame()\n",
    "    \n",
    "    if verbose : print(\"####\",model_name,\"####\")\n",
    "    \n",
    "    for param in params:\n",
    "        if model_name == \"Ridge\" : model = Ridge(alpha=param)\n",
    "        elif model_name == \"Lasso\" : model = Lasso(alpha=param)            \n",
    "        elif model_name == \"ElasticNet\" : model = ElasticNet(alpha=param,l1_ratio=0.7)            \n",
    "        \n",
    "        neg_mse_scores = cross_val_score(model,X_data_n,y_target_n,scoring='neg_mean_squared_error',cv=5)\n",
    "        avg_rmse = np.mean(np.sqrt(-1*neg_mse_scores))\n",
    "        print('alpha {0}일때 5 폴드 세트의 평균 RMSE : {1:3f}'.format(param,avg_rmse))\n",
    "        # cross_val_score 는 evaluation metric만 반환하므로 모델을 다시 학습하여 회귀 계수 추출\n",
    "        model.fit(x_data,y_target)\n",
    "        # alpha에 따른 피처별 회귀 계수를 Series로 변환하고 이를 DataFrame의 칼럼으로 추가\n",
    "        coeff = pd.Series(data=model.coef_,index=x_data.columns)\n",
    "        colname='alpha:'+str(param)\n",
    "        coeff_df[colname] = coeff\n",
    "    return coeff_df"
   ]
  },
  {
   "cell_type": "code",
   "execution_count": 35,
   "metadata": {},
   "outputs": [],
   "source": [
    "# 표준정규분포,최대최소,로그변환 , 다항식\n",
    "\n",
    "from sklearn.preprocessing import StandardScaler,MinMaxScaler,PolynomialFeatures\n",
    "\n",
    "def get_scaled_data(method='None',p_degree=None, input_data=None):\n",
    "    if method == \"Standard\":\n",
    "        scaled_data = StandardScaler().fit_transform(input_data)\n",
    "    elif method == \"MinMax\":\n",
    "        scaled_data = MinMaxScaler().fit_transform(input_data)\n",
    "    elif method == \"Log\":\n",
    "        scaled_data = np.log1p(input_data)\n",
    "    else :\n",
    "        scaled_data = input_data\n",
    "    \n",
    "    if p_degree != None:\n",
    "        scaled_data = PolynomialFeatures(degree=p_degree, include_bias=False).fit_transform(scaled_data)\n",
    "    \n",
    "    return scaled_data"
   ]
  },
  {
   "cell_type": "code",
   "execution_count": 36,
   "metadata": {},
   "outputs": [
    {
     "name": "stdout",
     "output_type": "stream",
     "text": [
      "\n",
      "## 변환 유형:None, Polynomial Degree:None\n",
      "alpha 0.1일때 5 폴드 세트의 평균 RMSE : 5.788487\n",
      "alpha 1일때 5 폴드 세트의 평균 RMSE : 5.652571\n",
      "alpha 10일때 5 폴드 세트의 평균 RMSE : 5.518166\n",
      "alpha 100일때 5 폴드 세트의 평균 RMSE : 5.329590\n",
      "\n",
      "## 변환 유형:Standard, Polynomial Degree:None\n",
      "alpha 0.1일때 5 폴드 세트의 평균 RMSE : 5.825993\n",
      "alpha 1일때 5 폴드 세트의 평균 RMSE : 5.802890\n",
      "alpha 10일때 5 폴드 세트의 평균 RMSE : 5.636831\n",
      "alpha 100일때 5 폴드 세트의 평균 RMSE : 5.421375\n",
      "\n",
      "## 변환 유형:Standard, Polynomial Degree:2\n",
      "alpha 0.1일때 5 폴드 세트의 평균 RMSE : 8.827236\n",
      "alpha 1일때 5 폴드 세트의 평균 RMSE : 6.871288\n",
      "alpha 10일때 5 폴드 세트의 평균 RMSE : 5.484870\n",
      "alpha 100일때 5 폴드 세트의 평균 RMSE : 4.634438\n",
      "\n",
      "## 변환 유형:MinMax, Polynomial Degree:None\n",
      "alpha 0.1일때 5 폴드 세트의 평균 RMSE : 5.763570\n",
      "alpha 1일때 5 폴드 세트의 평균 RMSE : 5.465045\n",
      "alpha 10일때 5 폴드 세트의 평균 RMSE : 5.754164\n",
      "alpha 100일때 5 폴드 세트의 평균 RMSE : 7.634920\n",
      "\n",
      "## 변환 유형:MinMax, Polynomial Degree:2\n",
      "alpha 0.1일때 5 폴드 세트의 평균 RMSE : 5.297560\n",
      "alpha 1일때 5 폴드 세트의 평균 RMSE : 4.322660\n",
      "alpha 10일때 5 폴드 세트의 평균 RMSE : 5.185204\n",
      "alpha 100일때 5 폴드 세트의 평균 RMSE : 6.537867\n",
      "\n",
      "## 변환 유형:Log, Polynomial Degree:None\n",
      "alpha 0.1일때 5 폴드 세트의 평균 RMSE : 4.770430\n",
      "alpha 1일때 5 폴드 세트의 평균 RMSE : 4.676227\n",
      "alpha 10일때 5 폴드 세트의 평균 RMSE : 4.836440\n",
      "alpha 100일때 5 폴드 세트의 평균 RMSE : 6.240916\n"
     ]
    }
   ],
   "source": [
    "# Ridge의 alpha값을 다르게 적용하고 다양한 데이터 변환 방법에 따른 RMSE 추출 \n",
    "alphas = [0.1,1,10,100]\n",
    "\n",
    "scale_methods = [(None,None),('Standard',None),('Standard',2),('MinMax',None),('MinMax',2),('Log',None)]\n",
    "\n",
    "for scale_method in scale_methods:\n",
    "    X_data_scaled = get_scaled_data(method=scale_method[0],p_degree=scale_method[1],input_data=x_data)\n",
    "    \n",
    "    print('\\n## 변환 유형:{0}, Polynomial Degree:{1}'.format(scale_method[0],scale_method[1]))\n",
    "    get_linear_reg_eval('Ridge',params=alphas,X_data_n=X_data_scaled,y_target_n=y_target,verbose=False)"
   ]
  },
  {
   "cell_type": "code",
   "execution_count": null,
   "metadata": {},
   "outputs": [],
   "source": []
  },
  {
   "cell_type": "code",
   "execution_count": null,
   "metadata": {},
   "outputs": [],
   "source": []
  },
  {
   "cell_type": "code",
   "execution_count": null,
   "metadata": {},
   "outputs": [],
   "source": []
  },
  {
   "cell_type": "code",
   "execution_count": null,
   "metadata": {},
   "outputs": [],
   "source": []
  }
 ],
 "metadata": {
  "kernelspec": {
   "display_name": "Python 3",
   "language": "python",
   "name": "python3"
  },
  "language_info": {
   "codemirror_mode": {
    "name": "ipython",
    "version": 3
   },
   "file_extension": ".py",
   "mimetype": "text/x-python",
   "name": "python",
   "nbconvert_exporter": "python",
   "pygments_lexer": "ipython3",
   "version": "3.7.4"
  }
 },
 "nbformat": 4,
 "nbformat_minor": 2
}
