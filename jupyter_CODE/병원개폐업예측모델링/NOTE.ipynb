{
 "cells": [
  {
   "cell_type": "markdown",
   "metadata": {},
   "source": [
    "## 로지스틱 회귀 병원 개/폐업 여부 예측"
   ]
  },
  {
   "cell_type": "code",
   "execution_count": 1,
   "metadata": {},
   "outputs": [
    {
     "data": {
      "text/plain": [
       "'%.3f'"
      ]
     },
     "execution_count": 1,
     "metadata": {},
     "output_type": "execute_result"
    }
   ],
   "source": [
    "import pandas as pd\n",
    "import numpy as np \n",
    "import scipy as sp\n",
    "from scipy import stats\n",
    "import statsmodels.formula.api as smf\n",
    "import statsmodels.api as sm\n",
    "\n",
    "import matplotlib.pyplot as plt\n",
    "import seaborn as sns\n",
    "sns.set()\n",
    "\n",
    "import missingno as msno\n",
    "\n",
    "import warnings\n",
    "warnings.filterwarnings('ignore')\n",
    "\n",
    "%matplotlib inline\n",
    "%precision 3"
   ]
  },
  {
   "cell_type": "code",
   "execution_count": 2,
   "metadata": {},
   "outputs": [],
   "source": [
    "# data set\n",
    "\n",
    "train = pd.read_csv('C:/Users/KIHyuk/Desktop/dacon_data/Data_병원개폐업/train.csv')\n",
    "test = pd.read_csv('C:/Users/KIHyuk/Desktop/dacon_data/Data_병원개폐업/test.csv')\n",
    "submission = pd.read_csv('C:/Users/KIHyuk/Desktop/dacon_data/Data_병원개폐업/submission_sample.csv')"
   ]
  },
  {
   "cell_type": "code",
   "execution_count": 3,
   "metadata": {},
   "outputs": [
    {
     "data": {
      "text/html": [
       "<div>\n",
       "<style scoped>\n",
       "    .dataframe tbody tr th:only-of-type {\n",
       "        vertical-align: middle;\n",
       "    }\n",
       "\n",
       "    .dataframe tbody tr th {\n",
       "        vertical-align: top;\n",
       "    }\n",
       "\n",
       "    .dataframe thead th {\n",
       "        text-align: right;\n",
       "    }\n",
       "</style>\n",
       "<table border=\"1\" class=\"dataframe\">\n",
       "  <thead>\n",
       "    <tr style=\"text-align: right;\">\n",
       "      <th></th>\n",
       "      <th>inst_id</th>\n",
       "      <th>OC</th>\n",
       "      <th>sido</th>\n",
       "      <th>sgg</th>\n",
       "      <th>openDate</th>\n",
       "      <th>bedCount</th>\n",
       "      <th>instkind</th>\n",
       "      <th>revenue1</th>\n",
       "      <th>salescost1</th>\n",
       "      <th>sga1</th>\n",
       "      <th>...</th>\n",
       "      <th>debt2</th>\n",
       "      <th>liquidLiabilities2</th>\n",
       "      <th>shortLoan2</th>\n",
       "      <th>NCLiabilities2</th>\n",
       "      <th>longLoan2</th>\n",
       "      <th>netAsset2</th>\n",
       "      <th>surplus2</th>\n",
       "      <th>employee1</th>\n",
       "      <th>employee2</th>\n",
       "      <th>ownerChange</th>\n",
       "    </tr>\n",
       "  </thead>\n",
       "  <tbody>\n",
       "    <tr>\n",
       "      <td>0</td>\n",
       "      <td>1</td>\n",
       "      <td>open</td>\n",
       "      <td>choongnam</td>\n",
       "      <td>73</td>\n",
       "      <td>20071228</td>\n",
       "      <td>175.0</td>\n",
       "      <td>nursing_hospital</td>\n",
       "      <td>4.217530e+09</td>\n",
       "      <td>0.0</td>\n",
       "      <td>3.961135e+09</td>\n",
       "      <td>...</td>\n",
       "      <td>7.589937e+08</td>\n",
       "      <td>2.228769e+08</td>\n",
       "      <td>0.000000e+00</td>\n",
       "      <td>5.361169e+08</td>\n",
       "      <td>3.900000e+08</td>\n",
       "      <td>2.619290e+09</td>\n",
       "      <td>1.271224e+09</td>\n",
       "      <td>62.0</td>\n",
       "      <td>64.0</td>\n",
       "      <td>same</td>\n",
       "    </tr>\n",
       "    <tr>\n",
       "      <td>1</td>\n",
       "      <td>3</td>\n",
       "      <td>open</td>\n",
       "      <td>gyeongnam</td>\n",
       "      <td>32</td>\n",
       "      <td>19970401</td>\n",
       "      <td>410.0</td>\n",
       "      <td>general_hospital</td>\n",
       "      <td>NaN</td>\n",
       "      <td>NaN</td>\n",
       "      <td>NaN</td>\n",
       "      <td>...</td>\n",
       "      <td>NaN</td>\n",
       "      <td>NaN</td>\n",
       "      <td>NaN</td>\n",
       "      <td>NaN</td>\n",
       "      <td>NaN</td>\n",
       "      <td>NaN</td>\n",
       "      <td>NaN</td>\n",
       "      <td>801.0</td>\n",
       "      <td>813.0</td>\n",
       "      <td>same</td>\n",
       "    </tr>\n",
       "    <tr>\n",
       "      <td>2</td>\n",
       "      <td>4</td>\n",
       "      <td>open</td>\n",
       "      <td>gyeonggi</td>\n",
       "      <td>89</td>\n",
       "      <td>20161228</td>\n",
       "      <td>468.0</td>\n",
       "      <td>nursing_hospital</td>\n",
       "      <td>1.004522e+09</td>\n",
       "      <td>515483669.0</td>\n",
       "      <td>4.472197e+08</td>\n",
       "      <td>...</td>\n",
       "      <td>0.000000e+00</td>\n",
       "      <td>0.000000e+00</td>\n",
       "      <td>0.000000e+00</td>\n",
       "      <td>0.000000e+00</td>\n",
       "      <td>0.000000e+00</td>\n",
       "      <td>0.000000e+00</td>\n",
       "      <td>0.000000e+00</td>\n",
       "      <td>234.0</td>\n",
       "      <td>1.0</td>\n",
       "      <td>same</td>\n",
       "    </tr>\n",
       "    <tr>\n",
       "      <td>3</td>\n",
       "      <td>7</td>\n",
       "      <td>open</td>\n",
       "      <td>incheon</td>\n",
       "      <td>141</td>\n",
       "      <td>20000814</td>\n",
       "      <td>353.0</td>\n",
       "      <td>general_hospital</td>\n",
       "      <td>7.250734e+10</td>\n",
       "      <td>0.0</td>\n",
       "      <td>7.067740e+10</td>\n",
       "      <td>...</td>\n",
       "      <td>3.775501e+10</td>\n",
       "      <td>1.701860e+10</td>\n",
       "      <td>9.219427e+09</td>\n",
       "      <td>2.073641e+10</td>\n",
       "      <td>1.510000e+10</td>\n",
       "      <td>1.295427e+10</td>\n",
       "      <td>7.740829e+09</td>\n",
       "      <td>663.0</td>\n",
       "      <td>663.0</td>\n",
       "      <td>same</td>\n",
       "    </tr>\n",
       "    <tr>\n",
       "      <td>4</td>\n",
       "      <td>9</td>\n",
       "      <td>open</td>\n",
       "      <td>gyeongnam</td>\n",
       "      <td>32</td>\n",
       "      <td>20050901</td>\n",
       "      <td>196.0</td>\n",
       "      <td>general_hospital</td>\n",
       "      <td>4.904354e+10</td>\n",
       "      <td>0.0</td>\n",
       "      <td>4.765605e+10</td>\n",
       "      <td>...</td>\n",
       "      <td>5.143259e+10</td>\n",
       "      <td>3.007259e+10</td>\n",
       "      <td>1.759375e+10</td>\n",
       "      <td>2.136001e+10</td>\n",
       "      <td>1.410803e+10</td>\n",
       "      <td>5.561941e+06</td>\n",
       "      <td>9.025550e+09</td>\n",
       "      <td>206.0</td>\n",
       "      <td>197.0</td>\n",
       "      <td>same</td>\n",
       "    </tr>\n",
       "  </tbody>\n",
       "</table>\n",
       "<p>5 rows × 58 columns</p>\n",
       "</div>"
      ],
      "text/plain": [
       "   inst_id    OC       sido  sgg  openDate  bedCount          instkind  \\\n",
       "0        1  open  choongnam   73  20071228     175.0  nursing_hospital   \n",
       "1        3  open  gyeongnam   32  19970401     410.0  general_hospital   \n",
       "2        4  open   gyeonggi   89  20161228     468.0  nursing_hospital   \n",
       "3        7  open    incheon  141  20000814     353.0  general_hospital   \n",
       "4        9  open  gyeongnam   32  20050901     196.0  general_hospital   \n",
       "\n",
       "       revenue1   salescost1          sga1  ...         debt2  \\\n",
       "0  4.217530e+09          0.0  3.961135e+09  ...  7.589937e+08   \n",
       "1           NaN          NaN           NaN  ...           NaN   \n",
       "2  1.004522e+09  515483669.0  4.472197e+08  ...  0.000000e+00   \n",
       "3  7.250734e+10          0.0  7.067740e+10  ...  3.775501e+10   \n",
       "4  4.904354e+10          0.0  4.765605e+10  ...  5.143259e+10   \n",
       "\n",
       "   liquidLiabilities2    shortLoan2  NCLiabilities2     longLoan2  \\\n",
       "0        2.228769e+08  0.000000e+00    5.361169e+08  3.900000e+08   \n",
       "1                 NaN           NaN             NaN           NaN   \n",
       "2        0.000000e+00  0.000000e+00    0.000000e+00  0.000000e+00   \n",
       "3        1.701860e+10  9.219427e+09    2.073641e+10  1.510000e+10   \n",
       "4        3.007259e+10  1.759375e+10    2.136001e+10  1.410803e+10   \n",
       "\n",
       "      netAsset2      surplus2  employee1  employee2  ownerChange  \n",
       "0  2.619290e+09  1.271224e+09       62.0       64.0         same  \n",
       "1           NaN           NaN      801.0      813.0         same  \n",
       "2  0.000000e+00  0.000000e+00      234.0        1.0         same  \n",
       "3  1.295427e+10  7.740829e+09      663.0      663.0         same  \n",
       "4  5.561941e+06  9.025550e+09      206.0      197.0         same  \n",
       "\n",
       "[5 rows x 58 columns]"
      ]
     },
     "execution_count": 3,
     "metadata": {},
     "output_type": "execute_result"
    }
   ],
   "source": [
    "train.head()"
   ]
  },
  {
   "cell_type": "code",
   "execution_count": 4,
   "metadata": {},
   "outputs": [],
   "source": [
    "## fisrt preprocessing\n",
    "\n",
    "# delete missing value\n",
    "train_copy = train.dropna()"
   ]
  },
  {
   "cell_type": "code",
   "execution_count": 5,
   "metadata": {},
   "outputs": [],
   "source": [
    "# 파생변수 추가\n",
    "\n",
    "train_copy['매출액_증감액'] = train_copy['revenue1'] - train_copy['revenue2']\n",
    "train_copy['매출원가_증감액'] = train_copy['salescost1'] - train_copy['salescost2']\n",
    "train_copy['판매비관리비_증감액'] = train_copy['sga1'] - train_copy['sga2']\n",
    "train_copy['급여_증감액'] = train_copy['salary1'] - train_copy['salary2']\n",
    "train_copy['영업외수익_증감액'] = train_copy['noi1'] - train_copy['noi2']\n",
    "train_copy['영업외비용_증감액'] = train_copy['noe1'] - train_copy['noe2']\n",
    "train_copy['이자비용_증감액'] = train_copy['interest1'] - train_copy['interest2']\n",
    "train_copy['법인세비용_증감액'] = train_copy['ctax1'] - train_copy['ctax2']\n",
    "train_copy['당기순이익_증감액'] = train_copy['profit1'] - train_copy['profit2']\n",
    "train_copy['유동자산_증감액'] = train_copy['liquidAsset1'] - train_copy['liquidAsset2']\n",
    "train_copy['당좌자산_증감액'] = train_copy['quickAsset1'] - train_copy['quickAsset2']\n",
    "train_copy['미수금_증감액'] = train_copy['receivableS1'] - train_copy['receivableS2']\n",
    "train_copy['재고자산_증감액'] = train_copy['inventoryAsset1'] - train_copy['inventoryAsset2']\n",
    "train_copy['비유동자산_증감액'] = train_copy['nonCAsset1'] - train_copy['nonCAsset2']\n",
    "train_copy['유형자산_증감액'] = train_copy['tanAsset1'] - train_copy['tanAsset2']\n",
    "train_copy['기타비유동자산_증감액'] = train_copy['OnonCAsset1'] - train_copy['OnonCAsset2']\n",
    "train_copy['장기미수금_증감액'] = train_copy['receivableL1'] - train_copy['receivableL2']\n",
    "train_copy['부채총계_증감액'] = train_copy['debt1'] - train_copy['debt2']\n",
    "train_copy['유동부채_증감액'] = train_copy['liquidLiabilities1'] - train_copy['liquidLiabilities2']\n",
    "train_copy['단기차입금_증감액'] = train_copy['shortLoan1'] - train_copy['shortLoan2']\n",
    "train_copy['비유동부채_증감액'] = train_copy['NCLiabilities1'] - train_copy['NCLiabilities2']\n",
    "train_copy['장기차입금_증감액'] = train_copy['longLoan1'] - train_copy['longLoan2']\n",
    "train_copy['순자산총계_증감액'] = train_copy['netAsset1'] - train_copy['netAsset2']\n",
    "train_copy['이익잉여금_증감액'] = train_copy['surplus1'] - train_copy['surplus2']"
   ]
  },
  {
   "cell_type": "code",
   "execution_count": 6,
   "metadata": {},
   "outputs": [],
   "source": [
    "# 사용하지 않는 columns delete\n",
    "\n",
    "train_copy = train_copy.drop(['revenue1', 'salescost1', 'sga1',\n",
    "       'salary1', 'noi1', 'noe1', 'interest1', 'ctax1', 'profit1',\n",
    "       'liquidAsset1', 'quickAsset1', 'receivableS1', 'inventoryAsset1',\n",
    "       'nonCAsset1', 'tanAsset1', 'OnonCAsset1', 'receivableL1', 'debt1',\n",
    "       'liquidLiabilities1', 'shortLoan1', 'NCLiabilities1', 'longLoan1',\n",
    "       'netAsset1', 'surplus1', 'revenue2', 'salescost2', 'sga2', 'salary2',\n",
    "       'noi2', 'noe2', 'interest2', 'ctax2', 'profit2', 'liquidAsset2',\n",
    "       'quickAsset2', 'receivableS2', 'inventoryAsset2', 'nonCAsset2',\n",
    "       'tanAsset2', 'OnonCAsset2', 'receivableL2', 'debt2',\n",
    "       'liquidLiabilities2', 'shortLoan2', 'NCLiabilities2', 'longLoan2',\n",
    "       'netAsset2', 'surplus2'],axis=1)\n",
    "\n",
    "# 비재무정보 제거\n",
    "train_copy = train_copy.drop(['inst_id','openDate','employee1','employee2','sgg','sido','bedCount','instkind','ownerChange'],axis=1)"
   ]
  },
  {
   "cell_type": "code",
   "execution_count": 7,
   "metadata": {},
   "outputs": [
    {
     "data": {
      "text/plain": [
       "Index(['OC', '매출액_증감액', '매출원가_증감액', '판매비관리비_증감액', '급여_증감액', '영업외수익_증감액',\n",
       "       '영업외비용_증감액', '이자비용_증감액', '법인세비용_증감액', '당기순이익_증감액', '유동자산_증감액',\n",
       "       '당좌자산_증감액', '미수금_증감액', '재고자산_증감액', '비유동자산_증감액', '유형자산_증감액',\n",
       "       '기타비유동자산_증감액', '장기미수금_증감액', '부채총계_증감액', '유동부채_증감액', '단기차입금_증감액',\n",
       "       '비유동부채_증감액', '장기차입금_증감액', '순자산총계_증감액', '이익잉여금_증감액'],\n",
       "      dtype='object')"
      ]
     },
     "execution_count": 7,
     "metadata": {},
     "output_type": "execute_result"
    }
   ],
   "source": [
    "# columns check\n",
    "\n",
    "train_copy.columns"
   ]
  },
  {
   "cell_type": "code",
   "execution_count": 8,
   "metadata": {},
   "outputs": [],
   "source": [
    "# 다중공선성 check\n",
    "\n",
    "from patsy import dmatrices\n",
    "from statsmodels.stats.outliers_influence import variance_inflation_factor\n",
    "\n",
    "# 10이상 VIF 제거\n",
    "\n",
    "formula = 'OC ~ 매출액_증감액 + 매출원가_증감액 + \\\n",
    "       영업외수익_증감액 + 영업외비용_증감액 + 이자비용_증감액 + 법인세비용_증감액 + 당기순이익_증감액 + \\\n",
    "       유동자산_증감액 + 미수금_증감액 + 재고자산_증감액 + 비유동자산_증감액 + \\\n",
    "       기타비유동자산_증감액 + 부채총계_증감액 + 단기차입금_증감액 + \\\n",
    "       + 장기차입금_증감액'\n",
    "y, X = dmatrices(formula, train_copy, return_type = 'dataframe')"
   ]
  },
  {
   "cell_type": "code",
   "execution_count": 9,
   "metadata": {},
   "outputs": [
    {
     "data": {
      "text/html": [
       "<div>\n",
       "<style scoped>\n",
       "    .dataframe tbody tr th:only-of-type {\n",
       "        vertical-align: middle;\n",
       "    }\n",
       "\n",
       "    .dataframe tbody tr th {\n",
       "        vertical-align: top;\n",
       "    }\n",
       "\n",
       "    .dataframe thead th {\n",
       "        text-align: right;\n",
       "    }\n",
       "</style>\n",
       "<table border=\"1\" class=\"dataframe\">\n",
       "  <thead>\n",
       "    <tr style=\"text-align: right;\">\n",
       "      <th></th>\n",
       "      <th>VIF Factor</th>\n",
       "      <th>features</th>\n",
       "    </tr>\n",
       "  </thead>\n",
       "  <tbody>\n",
       "    <tr>\n",
       "      <td>1</td>\n",
       "      <td>4.0</td>\n",
       "      <td>매출액_증감액</td>\n",
       "    </tr>\n",
       "    <tr>\n",
       "      <td>4</td>\n",
       "      <td>4.0</td>\n",
       "      <td>영업외비용_증감액</td>\n",
       "    </tr>\n",
       "    <tr>\n",
       "      <td>11</td>\n",
       "      <td>3.0</td>\n",
       "      <td>비유동자산_증감액</td>\n",
       "    </tr>\n",
       "    <tr>\n",
       "      <td>13</td>\n",
       "      <td>3.0</td>\n",
       "      <td>부채총계_증감액</td>\n",
       "    </tr>\n",
       "    <tr>\n",
       "      <td>2</td>\n",
       "      <td>2.0</td>\n",
       "      <td>매출원가_증감액</td>\n",
       "    </tr>\n",
       "    <tr>\n",
       "      <td>3</td>\n",
       "      <td>2.0</td>\n",
       "      <td>영업외수익_증감액</td>\n",
       "    </tr>\n",
       "    <tr>\n",
       "      <td>7</td>\n",
       "      <td>2.0</td>\n",
       "      <td>당기순이익_증감액</td>\n",
       "    </tr>\n",
       "    <tr>\n",
       "      <td>8</td>\n",
       "      <td>2.0</td>\n",
       "      <td>유동자산_증감액</td>\n",
       "    </tr>\n",
       "    <tr>\n",
       "      <td>9</td>\n",
       "      <td>2.0</td>\n",
       "      <td>미수금_증감액</td>\n",
       "    </tr>\n",
       "    <tr>\n",
       "      <td>12</td>\n",
       "      <td>2.0</td>\n",
       "      <td>기타비유동자산_증감액</td>\n",
       "    </tr>\n",
       "    <tr>\n",
       "      <td>14</td>\n",
       "      <td>2.0</td>\n",
       "      <td>단기차입금_증감액</td>\n",
       "    </tr>\n",
       "    <tr>\n",
       "      <td>15</td>\n",
       "      <td>2.0</td>\n",
       "      <td>장기차입금_증감액</td>\n",
       "    </tr>\n",
       "    <tr>\n",
       "      <td>0</td>\n",
       "      <td>1.0</td>\n",
       "      <td>Intercept</td>\n",
       "    </tr>\n",
       "    <tr>\n",
       "      <td>5</td>\n",
       "      <td>1.0</td>\n",
       "      <td>이자비용_증감액</td>\n",
       "    </tr>\n",
       "    <tr>\n",
       "      <td>6</td>\n",
       "      <td>1.0</td>\n",
       "      <td>법인세비용_증감액</td>\n",
       "    </tr>\n",
       "    <tr>\n",
       "      <td>10</td>\n",
       "      <td>1.0</td>\n",
       "      <td>재고자산_증감액</td>\n",
       "    </tr>\n",
       "  </tbody>\n",
       "</table>\n",
       "</div>"
      ],
      "text/plain": [
       "    VIF Factor     features\n",
       "1          4.0      매출액_증감액\n",
       "4          4.0    영업외비용_증감액\n",
       "11         3.0    비유동자산_증감액\n",
       "13         3.0     부채총계_증감액\n",
       "2          2.0     매출원가_증감액\n",
       "3          2.0    영업외수익_증감액\n",
       "7          2.0    당기순이익_증감액\n",
       "8          2.0     유동자산_증감액\n",
       "9          2.0      미수금_증감액\n",
       "12         2.0  기타비유동자산_증감액\n",
       "14         2.0    단기차입금_증감액\n",
       "15         2.0    장기차입금_증감액\n",
       "0          1.0    Intercept\n",
       "5          1.0     이자비용_증감액\n",
       "6          1.0    법인세비용_증감액\n",
       "10         1.0     재고자산_증감액"
      ]
     },
     "execution_count": 9,
     "metadata": {},
     "output_type": "execute_result"
    }
   ],
   "source": [
    "vif = pd.DataFrame()\n",
    "vif[\"VIF Factor\"] = [variance_inflation_factor(X.values, i) for i in range(X.shape[1])]\n",
    "vif[\"features\"] = X.columns \n",
    "vif.round(0).sort_values(by='VIF Factor',ascending=False)"
   ]
  },
  {
   "cell_type": "code",
   "execution_count": 10,
   "metadata": {},
   "outputs": [],
   "source": [
    "# 다중공선성 확인 후 2차 변수제거\n",
    "\n",
    "train_res = train_copy.drop(['판매비관리비_증감액','급여_증감액','당좌자산_증감액','유형자산_증감액','유동부채_증감액',\n",
    "                              '비유동부채_증감액','순자산총계_증감액','이익잉여금_증감액','영업외비용_증감액','단기차입금_증감액','부채총계_증감액'],axis=1)\n",
    "\n",
    "formula_res = 'OC ~ 매출액_증감액 + 매출원가_증감액 + \\\n",
    "       영업외수익_증감액 + 법인세비용_증감액 + \\\n",
    "       유동자산_증감액 + 미수금_증감액 + 재고자산_증감액 + 비유동자산_증감액 + \\\n",
    "       기타비유동자산_증감액 + 장기차입금_증감액'"
   ]
  },
  {
   "cell_type": "code",
   "execution_count": 11,
   "metadata": {},
   "outputs": [],
   "source": [
    "from sklearn.preprocessing import LabelEncoder\n",
    "\n",
    "\n",
    "label_encoder = LabelEncoder()\n",
    "train_res['OC'] = label_encoder.fit_transform(train_res['OC'])"
   ]
  },
  {
   "cell_type": "code",
   "execution_count": 12,
   "metadata": {},
   "outputs": [],
   "source": [
    "# SMOTE\n",
    "# 단순 반복이 아닌 KNN을 통해 주변 인공 데이터를 생성하는 SMOTE(Synthetic Minority Oversampling TEchnique)\n",
    "\n",
    "from sklearn.neighbors import NearestNeighbors\n",
    "\n",
    "def load_data_with_SMOTE(df):\n",
    "    rawdata = df\n",
    "    size = 80\n",
    "    small = rawdata[rawdata['OC'] == 0] # 소수 클래스\n",
    "    n_sample = small.shape[0] # 소수 클래스 개수\n",
    "    idx = np.random.randint(0, n_sample, size) # 0~49범위의 랜덤수 150개 생성 \n",
    "    X = small.iloc[idx, range(1,len(df.columns))].values # * 랜덤수150개에 해당하는 1~5 col 정보 추출\n",
    "    y = small.iloc[idx, 0].values # 랜덤수150개에 해당하는 클래스 추출 'B'\n",
    "    \n",
    "    # kneighbors(X) => 두가지 return (distance,index)\n",
    "    knn = NearestNeighbors(n_neighbors=2) # 2개의 최근접 이웃을 찾겠다\n",
    "    knn.fit(X) # 2d array input\n",
    "    _d, i = knn.kneighbors(X) # input 데이터와 최근접 이웃 2가지의 index(학습데이터)와 input데이터와 이웃데이터 사이의 거리를 반환\n",
    "    idx2 = i[:, 1] # train과 input이 같으므로 최근접 이웃 2가지의 return 중 첫번째는 무조건 \"같은\"데이터가나옴. 같은데이터 제외\n",
    "    diff = X - X[idx2]\n",
    "    X = X + np.random.random(len(df.columns)-1) * diff # 최근접 이웃과 비슷한 데이터로 생성\n",
    "    B = np.concatenate([np.transpose(y[np.newaxis]), X], axis=1)\n",
    "    B = pd.DataFrame(B)\n",
    "\n",
    "    n_sample = rawdata[rawdata['OC'] == 1].shape[0]\n",
    "    idx = np.random.randint(0, n_sample, size)\n",
    "    L = rawdata[rawdata['OC'] == 1].iloc[idx]\n",
    "\n",
    "    df = np.concatenate([B.values, L.values])\n",
    "\n",
    "#     le = LabelEncoder()\n",
    "#     X = d[:, 1:31]\n",
    "#     y = le.fit_transform(d[:, 0])\n",
    "    return df"
   ]
  },
  {
   "cell_type": "code",
   "execution_count": 13,
   "metadata": {},
   "outputs": [],
   "source": [
    "df = load_data_with_SMOTE(train_res)\n",
    "train_res = pd.DataFrame(df,columns=train_res.columns)"
   ]
  },
  {
   "cell_type": "code",
   "execution_count": 14,
   "metadata": {},
   "outputs": [],
   "source": [
    "train_res.to_csv(\"train_res\",index=False)"
   ]
  },
  {
   "cell_type": "code",
   "execution_count": 17,
   "metadata": {},
   "outputs": [
    {
     "data": {
      "text/plain": [
       "0      0.0\n",
       "1      0.0\n",
       "2      0.0\n",
       "3      0.0\n",
       "4      0.0\n",
       "      ... \n",
       "155    1.0\n",
       "156    1.0\n",
       "157    1.0\n",
       "158    1.0\n",
       "159    1.0\n",
       "Name: OC, Length: 160, dtype: float64"
      ]
     },
     "execution_count": 17,
     "metadata": {},
     "output_type": "execute_result"
    }
   ],
   "source": [
    "train_res.iloc[:,0]"
   ]
  },
  {
   "cell_type": "code",
   "execution_count": 15,
   "metadata": {},
   "outputs": [
    {
     "name": "stdout",
     "output_type": "stream",
     "text": [
      "독립변수 행 수, 열 수 :  (120, 13)\n",
      "종속변수 행 수, 열 수 :  (120,)\n"
     ]
    }
   ],
   "source": [
    "from sklearn.model_selection import train_test_split\n",
    "\n",
    "X_train,X_test,y_train,y_test = train_test_split(train_res.iloc[:,1:],train_res.iloc[:,0],random_state=2)\n",
    "\n",
    "print(\"독립변수 행 수, 열 수 : \", X_train.shape)\n",
    "print(\"종속변수 행 수, 열 수 : \", y_train.shape)\n",
    "\n",
    "X_train_df = pd.DataFrame(X_train, columns=X_train.columns)\n",
    "y_train_df = pd.DataFrame(y_train, columns=['OC'])\n",
    "model_input_df = pd.concat([y_train_df,X_train_df],axis=1)"
   ]
  },
  {
   "cell_type": "code",
   "execution_count": 16,
   "metadata": {},
   "outputs": [
    {
     "data": {
      "text/plain": [
       "128.616"
      ]
     },
     "execution_count": 16,
     "metadata": {},
     "output_type": "execute_result"
    }
   ],
   "source": [
    "model_1 = smf.glm(\n",
    "    formula = formula_res,\n",
    "    data = model_input_df,\n",
    "    family = sm.families.Binomial()\n",
    ").fit()\n",
    "\n",
    "model_1.aic.round(3)"
   ]
  },
  {
   "cell_type": "code",
   "execution_count": 17,
   "metadata": {},
   "outputs": [
    {
     "data": {
      "text/html": [
       "<table class=\"simpletable\">\n",
       "<tr>\n",
       "       <td></td>          <th>coef</th>     <th>std err</th>      <th>z</th>      <th>P>|z|</th>  <th>[0.025</th>    <th>0.975]</th>  \n",
       "</tr>\n",
       "<tr>\n",
       "  <th>Intercept</th>   <td>    0.7137</td> <td>    0.281</td> <td>    2.538</td> <td> 0.011</td> <td>    0.163</td> <td>    1.265</td>\n",
       "</tr>\n",
       "<tr>\n",
       "  <th>매출액_증감액</th>     <td>-2.113e-10</td> <td> 1.51e-10</td> <td>   -1.398</td> <td> 0.162</td> <td>-5.08e-10</td> <td>  8.5e-11</td>\n",
       "</tr>\n",
       "<tr>\n",
       "  <th>매출원가_증감액</th>    <td> 1.487e-09</td> <td> 1.03e-09</td> <td>    1.449</td> <td> 0.147</td> <td>-5.24e-10</td> <td>  3.5e-09</td>\n",
       "</tr>\n",
       "<tr>\n",
       "  <th>영업외수익_증감액</th>   <td> 2.612e-09</td> <td> 2.01e-09</td> <td>    1.296</td> <td> 0.195</td> <td>-1.34e-09</td> <td> 6.56e-09</td>\n",
       "</tr>\n",
       "<tr>\n",
       "  <th>법인세비용_증감액</th>   <td> 2.424e-09</td> <td> 7.46e-09</td> <td>    0.325</td> <td> 0.745</td> <td>-1.22e-08</td> <td>  1.7e-08</td>\n",
       "</tr>\n",
       "<tr>\n",
       "  <th>유동자산_증감액</th>    <td> 1.468e-09</td> <td> 4.33e-10</td> <td>    3.394</td> <td> 0.001</td> <td>  6.2e-10</td> <td> 2.32e-09</td>\n",
       "</tr>\n",
       "<tr>\n",
       "  <th>미수금_증감액</th>     <td>-2.157e-09</td> <td> 8.96e-10</td> <td>   -2.408</td> <td> 0.016</td> <td>-3.91e-09</td> <td>-4.01e-10</td>\n",
       "</tr>\n",
       "<tr>\n",
       "  <th>재고자산_증감액</th>    <td> 1.054e-08</td> <td> 7.89e-09</td> <td>    1.335</td> <td> 0.182</td> <td>-4.93e-09</td> <td>  2.6e-08</td>\n",
       "</tr>\n",
       "<tr>\n",
       "  <th>비유동자산_증감액</th>   <td>-1.894e-10</td> <td> 1.22e-10</td> <td>   -1.548</td> <td> 0.122</td> <td>-4.29e-10</td> <td> 5.05e-11</td>\n",
       "</tr>\n",
       "<tr>\n",
       "  <th>기타비유동자산_증감액</th> <td>-2.091e-09</td> <td> 8.18e-10</td> <td>   -2.556</td> <td> 0.011</td> <td>-3.69e-09</td> <td>-4.87e-10</td>\n",
       "</tr>\n",
       "<tr>\n",
       "  <th>장기차입금_증감액</th>   <td>-2.678e-10</td> <td> 2.15e-10</td> <td>   -1.248</td> <td> 0.212</td> <td>-6.88e-10</td> <td> 1.53e-10</td>\n",
       "</tr>\n",
       "</table>"
      ],
      "text/plain": [
       "<class 'statsmodels.iolib.table.SimpleTable'>"
      ]
     },
     "execution_count": 17,
     "metadata": {},
     "output_type": "execute_result"
    }
   ],
   "source": [
    "model_1.summary().tables[1]"
   ]
  },
  {
   "cell_type": "code",
   "execution_count": 18,
   "metadata": {
    "scrolled": true
   },
   "outputs": [
    {
     "name": "stdout",
     "output_type": "stream",
     "text": [
      "훈련 데이터 적중률 :  0.7083333333333334\n",
      "테스트 데이터 적중률 :  0.675\n"
     ]
    }
   ],
   "source": [
    "# 피팅 예측\n",
    "logi_fit = model_1.fittedvalues.round(0)\n",
    "logi_pred = model_1.predict(X_test).round(0)\n",
    "\n",
    "# 정답 수\n",
    "true_train = sp.sum(logi_fit == y_train)\n",
    "true_test = sp.sum(logi_pred == y_test)\n",
    "\n",
    "# 적중률\n",
    "result_train = true_train / len(y_train)\n",
    "result_test = true_test / len(y_test)\n",
    "\n",
    "# 결과 출력\n",
    "print(\"훈련 데이터 적중률 : \", result_train)\n",
    "print(\"테스트 데이터 적중률 : \", result_test)"
   ]
  },
  {
   "cell_type": "code",
   "execution_count": 19,
   "metadata": {},
   "outputs": [],
   "source": [
    "# preprocessing function\n",
    "\n",
    "def df_preprocessing(df):\n",
    "    df = df.drop(['OC'],axis=1)\n",
    "    df['매출액_증감액'] = df['revenue1'] - df['revenue2']\n",
    "    df['매출원가_증감액'] = df['salescost1'] - df['salescost2']\n",
    "    df['판매비관리비_증감액'] = df['sga1'] - df['sga2']\n",
    "    df['급여_증감액'] = df['salary1'] - df['salary2']\n",
    "    df['영업외수익_증감액'] = df['noi1'] - df['noi2']\n",
    "    df['영업외비용_증감액'] = df['noe1'] - df['noe2']\n",
    "    df['이자비용_증감액'] = df['interest1'] - df['interest2']\n",
    "    df['법인세비용_증감액'] = df['ctax1'] - df['ctax2']\n",
    "    df['당기순이익_증감액'] = df['profit1'] - df['profit2']\n",
    "    df['유동자산_증감액'] = df['liquidAsset1'] - df['liquidAsset2']\n",
    "    df['당좌자산_증감액'] = df['quickAsset1'] - df['quickAsset2']\n",
    "    df['미수금_증감액'] = df['receivableS1'] - df['receivableS2']\n",
    "    df['재고자산_증감액'] = df['inventoryAsset1'] - df['inventoryAsset2']\n",
    "    df['비유동자산_증감액'] = df['nonCAsset1'] - df['nonCAsset2']\n",
    "    df['유형자산_증감액'] = df['tanAsset1'] - df['tanAsset2']\n",
    "    df['기타비유동자산_증감액'] = df['OnonCAsset1'] - df['OnonCAsset2']\n",
    "    df['장기미수금_증감액'] = df['receivableL1'] - df['receivableL2']\n",
    "    df['부채총계_증감액'] = df['debt1'] - df['debt2']\n",
    "    df['유동부채_증감액'] = df['liquidLiabilities1'] - df['liquidLiabilities2']\n",
    "    df['단기차입금_증감액'] = df['shortLoan1'] - df['shortLoan2']\n",
    "    df['비유동부채_증감액'] = df['NCLiabilities1'] - df['NCLiabilities2']\n",
    "    df['장기차입금_증감액'] = df['longLoan1'] - df['longLoan2']\n",
    "    df['순자산총계_증감액'] = df['netAsset1'] - df['netAsset2']\n",
    "    df['이익잉여금_증감액'] = df['surplus1'] - df['surplus2']\n",
    "    \n",
    "    df = df.drop(['inst_id','openDate','employee1','employee2','sgg','sido','bedCount','instkind','ownerChange'],axis=1)\n",
    "    df = df.drop(['revenue1', 'salescost1', 'sga1',\n",
    "       'salary1', 'noi1', 'noe1', 'interest1', 'ctax1', 'profit1',\n",
    "       'liquidAsset1', 'quickAsset1', 'receivableS1', 'inventoryAsset1',\n",
    "       'nonCAsset1', 'tanAsset1', 'OnonCAsset1', 'receivableL1', 'debt1',\n",
    "       'liquidLiabilities1', 'shortLoan1', 'NCLiabilities1', 'longLoan1',\n",
    "       'netAsset1', 'surplus1', 'revenue2', 'salescost2', 'sga2', 'salary2',\n",
    "       'noi2', 'noe2', 'interest2', 'ctax2', 'profit2', 'liquidAsset2',\n",
    "       'quickAsset2', 'receivableS2', 'inventoryAsset2', 'nonCAsset2',\n",
    "       'tanAsset2', 'OnonCAsset2', 'receivableL2', 'debt2',\n",
    "       'liquidLiabilities2', 'shortLoan2', 'NCLiabilities2', 'longLoan2',\n",
    "       'netAsset2', 'surplus2'],axis=1)\n",
    "    df = df.drop(['판매비관리비_증감액','급여_증감액','당좌자산_증감액','유형자산_증감액','유동부채_증감액',\n",
    "                              '비유동부채_증감액','순자산총계_증감액','이익잉여금_증감액','영업외비용_증감액','부채총계_증감액',\n",
    "                  '단기차입금_증감액'],axis=1)\n",
    "    \n",
    "    return df"
   ]
  },
  {
   "cell_type": "code",
   "execution_count": 20,
   "metadata": {},
   "outputs": [],
   "source": [
    "def result_sub(x):\n",
    "    if x > 0.5 :\n",
    "        return 1\n",
    "    elif x == np.nan :\n",
    "        return 1\n",
    "    else :\n",
    "        return 0"
   ]
  },
  {
   "cell_type": "code",
   "execution_count": 21,
   "metadata": {},
   "outputs": [],
   "source": [
    "test_res = df_preprocessing(test)"
   ]
  },
  {
   "cell_type": "code",
   "execution_count": 22,
   "metadata": {},
   "outputs": [],
   "source": [
    "test_res.to_csv('test_res',index=False)"
   ]
  },
  {
   "cell_type": "code",
   "execution_count": 28,
   "metadata": {},
   "outputs": [],
   "source": [
    "result = model_1.predict(test_res).round(1)"
   ]
  },
  {
   "cell_type": "code",
   "execution_count": 24,
   "metadata": {},
   "outputs": [],
   "source": [
    "result = pd.DataFrame(result, columns=['OC'])\n",
    "result['inst_id'] = submission['inst_id']\n",
    "result = pd.DataFrame(result, columns=['inst_id','OC'])\n",
    "result['OC'] = result['OC'].apply(result_sub)"
   ]
  },
  {
   "cell_type": "code",
   "execution_count": 25,
   "metadata": {},
   "outputs": [],
   "source": [
    "result.to_csv('submission_2.csv',index=False)"
   ]
  }
 ],
 "metadata": {
  "kernelspec": {
   "display_name": "Python 3",
   "language": "python",
   "name": "python3"
  },
  "language_info": {
   "codemirror_mode": {
    "name": "ipython",
    "version": 3
   },
   "file_extension": ".py",
   "mimetype": "text/x-python",
   "name": "python",
   "nbconvert_exporter": "python",
   "pygments_lexer": "ipython3",
   "version": "3.7.4"
  }
 },
 "nbformat": 4,
 "nbformat_minor": 2
}
