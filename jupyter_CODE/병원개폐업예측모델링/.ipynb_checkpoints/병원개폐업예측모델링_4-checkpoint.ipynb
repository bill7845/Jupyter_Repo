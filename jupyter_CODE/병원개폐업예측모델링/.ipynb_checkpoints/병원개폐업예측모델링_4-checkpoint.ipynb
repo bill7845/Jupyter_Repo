{
 "cells": [
  {
   "cell_type": "code",
   "execution_count": 1,
   "metadata": {},
   "outputs": [
    {
     "data": {
      "text/plain": [
       "'%.3f'"
      ]
     },
     "execution_count": 1,
     "metadata": {},
     "output_type": "execute_result"
    }
   ],
   "source": [
    "import pandas as pd\n",
    "import numpy as np \n",
    "import scipy as sp\n",
    "from scipy import stats\n",
    "import statsmodels.formula.api as smf\n",
    "import statsmodels.api as sm\n",
    "\n",
    "import matplotlib.pyplot as plt\n",
    "import seaborn as sns\n",
    "sns.set()\n",
    "\n",
    "import warnings\n",
    "warnings.filterwarnings('ignore')\n",
    "\n",
    "%matplotlib inline\n",
    "%precision 3"
   ]
  },
  {
   "cell_type": "code",
   "execution_count": 2,
   "metadata": {},
   "outputs": [],
   "source": [
    "train = pd.read_csv('C:/Users/KIHyuk/Desktop/dacon_data/Data_병원개폐업/train.csv')\n",
    "test = pd.read_csv('C:/Users/KIHyuk/Desktop/dacon_data/Data_병원개폐업/test.csv')"
   ]
  },
  {
   "cell_type": "code",
   "execution_count": 3,
   "metadata": {},
   "outputs": [
    {
     "data": {
      "text/html": [
       "<div>\n",
       "<style scoped>\n",
       "    .dataframe tbody tr th:only-of-type {\n",
       "        vertical-align: middle;\n",
       "    }\n",
       "\n",
       "    .dataframe tbody tr th {\n",
       "        vertical-align: top;\n",
       "    }\n",
       "\n",
       "    .dataframe thead th {\n",
       "        text-align: right;\n",
       "    }\n",
       "</style>\n",
       "<table border=\"1\" class=\"dataframe\">\n",
       "  <thead>\n",
       "    <tr style=\"text-align: right;\">\n",
       "      <th></th>\n",
       "      <th>inst_id</th>\n",
       "      <th>OC</th>\n",
       "      <th>sido</th>\n",
       "      <th>sgg</th>\n",
       "      <th>openDate</th>\n",
       "      <th>bedCount</th>\n",
       "      <th>instkind</th>\n",
       "      <th>revenue1</th>\n",
       "      <th>salescost1</th>\n",
       "      <th>sga1</th>\n",
       "      <th>...</th>\n",
       "      <th>debt2</th>\n",
       "      <th>liquidLiabilities2</th>\n",
       "      <th>shortLoan2</th>\n",
       "      <th>NCLiabilities2</th>\n",
       "      <th>longLoan2</th>\n",
       "      <th>netAsset2</th>\n",
       "      <th>surplus2</th>\n",
       "      <th>employee1</th>\n",
       "      <th>employee2</th>\n",
       "      <th>ownerChange</th>\n",
       "    </tr>\n",
       "  </thead>\n",
       "  <tbody>\n",
       "    <tr>\n",
       "      <td>0</td>\n",
       "      <td>1</td>\n",
       "      <td>open</td>\n",
       "      <td>choongnam</td>\n",
       "      <td>73</td>\n",
       "      <td>20071228</td>\n",
       "      <td>175.0</td>\n",
       "      <td>nursing_hospital</td>\n",
       "      <td>4.217530e+09</td>\n",
       "      <td>0.0</td>\n",
       "      <td>3.961135e+09</td>\n",
       "      <td>...</td>\n",
       "      <td>7.589937e+08</td>\n",
       "      <td>2.228769e+08</td>\n",
       "      <td>0.000000e+00</td>\n",
       "      <td>5.361169e+08</td>\n",
       "      <td>3.900000e+08</td>\n",
       "      <td>2.619290e+09</td>\n",
       "      <td>1.271224e+09</td>\n",
       "      <td>62.0</td>\n",
       "      <td>64.0</td>\n",
       "      <td>same</td>\n",
       "    </tr>\n",
       "    <tr>\n",
       "      <td>1</td>\n",
       "      <td>3</td>\n",
       "      <td>open</td>\n",
       "      <td>gyeongnam</td>\n",
       "      <td>32</td>\n",
       "      <td>19970401</td>\n",
       "      <td>410.0</td>\n",
       "      <td>general_hospital</td>\n",
       "      <td>NaN</td>\n",
       "      <td>NaN</td>\n",
       "      <td>NaN</td>\n",
       "      <td>...</td>\n",
       "      <td>NaN</td>\n",
       "      <td>NaN</td>\n",
       "      <td>NaN</td>\n",
       "      <td>NaN</td>\n",
       "      <td>NaN</td>\n",
       "      <td>NaN</td>\n",
       "      <td>NaN</td>\n",
       "      <td>801.0</td>\n",
       "      <td>813.0</td>\n",
       "      <td>same</td>\n",
       "    </tr>\n",
       "    <tr>\n",
       "      <td>2</td>\n",
       "      <td>4</td>\n",
       "      <td>open</td>\n",
       "      <td>gyeonggi</td>\n",
       "      <td>89</td>\n",
       "      <td>20161228</td>\n",
       "      <td>468.0</td>\n",
       "      <td>nursing_hospital</td>\n",
       "      <td>1.004522e+09</td>\n",
       "      <td>515483669.0</td>\n",
       "      <td>4.472197e+08</td>\n",
       "      <td>...</td>\n",
       "      <td>0.000000e+00</td>\n",
       "      <td>0.000000e+00</td>\n",
       "      <td>0.000000e+00</td>\n",
       "      <td>0.000000e+00</td>\n",
       "      <td>0.000000e+00</td>\n",
       "      <td>0.000000e+00</td>\n",
       "      <td>0.000000e+00</td>\n",
       "      <td>234.0</td>\n",
       "      <td>1.0</td>\n",
       "      <td>same</td>\n",
       "    </tr>\n",
       "    <tr>\n",
       "      <td>3</td>\n",
       "      <td>7</td>\n",
       "      <td>open</td>\n",
       "      <td>incheon</td>\n",
       "      <td>141</td>\n",
       "      <td>20000814</td>\n",
       "      <td>353.0</td>\n",
       "      <td>general_hospital</td>\n",
       "      <td>7.250734e+10</td>\n",
       "      <td>0.0</td>\n",
       "      <td>7.067740e+10</td>\n",
       "      <td>...</td>\n",
       "      <td>3.775501e+10</td>\n",
       "      <td>1.701860e+10</td>\n",
       "      <td>9.219427e+09</td>\n",
       "      <td>2.073641e+10</td>\n",
       "      <td>1.510000e+10</td>\n",
       "      <td>1.295427e+10</td>\n",
       "      <td>7.740829e+09</td>\n",
       "      <td>663.0</td>\n",
       "      <td>663.0</td>\n",
       "      <td>same</td>\n",
       "    </tr>\n",
       "    <tr>\n",
       "      <td>4</td>\n",
       "      <td>9</td>\n",
       "      <td>open</td>\n",
       "      <td>gyeongnam</td>\n",
       "      <td>32</td>\n",
       "      <td>20050901</td>\n",
       "      <td>196.0</td>\n",
       "      <td>general_hospital</td>\n",
       "      <td>4.904354e+10</td>\n",
       "      <td>0.0</td>\n",
       "      <td>4.765605e+10</td>\n",
       "      <td>...</td>\n",
       "      <td>5.143259e+10</td>\n",
       "      <td>3.007259e+10</td>\n",
       "      <td>1.759375e+10</td>\n",
       "      <td>2.136001e+10</td>\n",
       "      <td>1.410803e+10</td>\n",
       "      <td>5.561941e+06</td>\n",
       "      <td>9.025550e+09</td>\n",
       "      <td>206.0</td>\n",
       "      <td>197.0</td>\n",
       "      <td>same</td>\n",
       "    </tr>\n",
       "  </tbody>\n",
       "</table>\n",
       "<p>5 rows × 58 columns</p>\n",
       "</div>"
      ],
      "text/plain": [
       "   inst_id    OC       sido  sgg  openDate  bedCount          instkind  \\\n",
       "0        1  open  choongnam   73  20071228     175.0  nursing_hospital   \n",
       "1        3  open  gyeongnam   32  19970401     410.0  general_hospital   \n",
       "2        4  open   gyeonggi   89  20161228     468.0  nursing_hospital   \n",
       "3        7  open    incheon  141  20000814     353.0  general_hospital   \n",
       "4        9  open  gyeongnam   32  20050901     196.0  general_hospital   \n",
       "\n",
       "       revenue1   salescost1          sga1  ...         debt2  \\\n",
       "0  4.217530e+09          0.0  3.961135e+09  ...  7.589937e+08   \n",
       "1           NaN          NaN           NaN  ...           NaN   \n",
       "2  1.004522e+09  515483669.0  4.472197e+08  ...  0.000000e+00   \n",
       "3  7.250734e+10          0.0  7.067740e+10  ...  3.775501e+10   \n",
       "4  4.904354e+10          0.0  4.765605e+10  ...  5.143259e+10   \n",
       "\n",
       "   liquidLiabilities2    shortLoan2  NCLiabilities2     longLoan2  \\\n",
       "0        2.228769e+08  0.000000e+00    5.361169e+08  3.900000e+08   \n",
       "1                 NaN           NaN             NaN           NaN   \n",
       "2        0.000000e+00  0.000000e+00    0.000000e+00  0.000000e+00   \n",
       "3        1.701860e+10  9.219427e+09    2.073641e+10  1.510000e+10   \n",
       "4        3.007259e+10  1.759375e+10    2.136001e+10  1.410803e+10   \n",
       "\n",
       "      netAsset2      surplus2  employee1  employee2  ownerChange  \n",
       "0  2.619290e+09  1.271224e+09       62.0       64.0         same  \n",
       "1           NaN           NaN      801.0      813.0         same  \n",
       "2  0.000000e+00  0.000000e+00      234.0        1.0         same  \n",
       "3  1.295427e+10  7.740829e+09      663.0      663.0         same  \n",
       "4  5.561941e+06  9.025550e+09      206.0      197.0         same  \n",
       "\n",
       "[5 rows x 58 columns]"
      ]
     },
     "execution_count": 3,
     "metadata": {},
     "output_type": "execute_result"
    }
   ],
   "source": [
    "train.head()"
   ]
  },
  {
   "cell_type": "code",
   "execution_count": 4,
   "metadata": {},
   "outputs": [
    {
     "data": {
      "text/plain": [
       "(301, 58)"
      ]
     },
     "execution_count": 4,
     "metadata": {},
     "output_type": "execute_result"
    }
   ],
   "source": [
    "train.shape"
   ]
  },
  {
   "cell_type": "markdown",
   "metadata": {},
   "source": [
    "### -목차-\n",
    "\n",
    "#### - 탐색적 데이터 분석 및 전처리\n",
    "#### - 1차 변수 선택 및 목표변수와 설명변수 간 관계 분석\n",
    "#### - 로지스틱 회귀모형 적합 및 모델 평가, 해석"
   ]
  },
  {
   "cell_type": "markdown",
   "metadata": {},
   "source": [
    "<hr></hr>\n",
    "\n",
    "#### 1.탐색적 데이터 분석 및 전처리 \n",
    "\n",
    "* 결측값 확인 및 처리\n",
    "\n",
    "* 목표변수 범주/계급 구성 분포 확인 및 처리\n",
    "\n",
    "* 설명변수 간 다중공선성 확인 및 처리\n",
    "\n",
    "* 표준화, 척도 변환\n"
   ]
  },
  {
   "cell_type": "code",
   "execution_count": 5,
   "metadata": {},
   "outputs": [
    {
     "name": "stdout",
     "output_type": "stream",
     "text": [
      "int64 col :  Index(['inst_id', 'sgg', 'openDate'], dtype='object')\n",
      "object col :  Index(['OC', 'sido', 'instkind', 'ownerChange'], dtype='object')\n",
      "이 외 나머지는 전부 float64 col\n"
     ]
    }
   ],
   "source": [
    "## Data type check\n",
    "\n",
    "print(\"int64 col : \",train.select_dtypes(include = ['int64']).columns)\n",
    "print(\"object col : \",train.select_dtypes(include = ['object']).columns)\n",
    "print(\"이 외 나머지는 전부 float64 col\")"
   ]
  },
  {
   "cell_type": "code",
   "execution_count": 6,
   "metadata": {},
   "outputs": [
    {
     "name": "stdout",
     "output_type": "stream",
     "text": [
      "train data 중 결측값을 가진 행(병원) 수 :  19\n",
      "open 중 결측값 가진 행(병원) 수 :  14\n",
      "close 중 결측값 가진 행(병원) 수 :  5\n"
     ]
    }
   ],
   "source": [
    "## Missing Value check\n",
    "\n",
    "# 분석편의 위해 개/폐업별 데이터 분할\n",
    "train_open = train.query(\"OC == 'open'\")\n",
    "train_close = train.query(\"OC == ' close'\")\n",
    "\n",
    "# 결측값을 가진 행(병원)\n",
    "print(\"train data 중 결측값을 가진 행(병원) 수 : \",len(train.loc[train.isnull().sum(1) > 1, :]))\n",
    "\n",
    "# open 중 결측값 가진 행(병원)\n",
    "print(\"open 중 결측값 가진 행(병원) 수 : \", len(train_open.loc[train_open.isnull().sum(1) > 1, :]))\n",
    "\n",
    "# close 중 결측값 가진 행(병원)\n",
    "print(\"close 중 결측값 가진 행(병원) 수 : \", len(train_close.loc[train_close.isnull().sum(1) >1, :]))"
   ]
  },
  {
   "cell_type": "code",
   "execution_count": 7,
   "metadata": {},
   "outputs": [],
   "source": [
    "# close 중 재무정보 col에는 결측값이 없다.\n",
    "# bedcount,ownerChange,employee 변수는 폐업 여부와 상관이 보이지 않는다."
   ]
  },
  {
   "cell_type": "code",
   "execution_count": 8,
   "metadata": {},
   "outputs": [
    {
     "name": "stdout",
     "output_type": "stream",
     "text": [
      "전체 301개의 병원 데이터 중 open :286개, close : 15개\n",
      "open / close의 비율이 0.950166 대 0.049834\n"
     ]
    }
   ],
   "source": [
    "## 종속변수(OC) 구성/분포 확인\n",
    "\n",
    "print(\"전체 %d개의 병원 데이터 중 open :%d개, close : %d개\" %(len(train),len(train_open),len(train_close)))\n",
    "print(\"open / close의 비율이 %f 대 %f\" %(len(train_open)/len(train),len(train_close)/len(train)))\n",
    "\n",
    "# 클래스 불균형 문제 여부"
   ]
  },
  {
   "cell_type": "code",
   "execution_count": 9,
   "metadata": {},
   "outputs": [],
   "source": [
    "## 설명변수 간 다중공선성 확인 및 처리\n",
    "## 지속년수(*파생변수), 각 재무정보별 증감액(*파생변수), 각 재무정보별 증감율(*파생변수)\n",
    "\n",
    "# 파생변수 생성\n",
    "# 지속년수\n",
    "i=0\n",
    "def cal_year(x):\n",
    "    global i\n",
    "    i += 1\n",
    "    result = 2017 - int(str(train.iloc[:,4].values[i-1])[:4])\n",
    "    return result\n",
    "\n",
    "train['지속년수'] = train['openDate'].apply(cal_year)\n",
    "\n",
    "# 파생변수 생성\n",
    "# 전년대비 증감액\n",
    "\n",
    "index_list = []\n",
    "def drop_func(train): # 재무정보 결측값 제거(open 병원에만 존재)\n",
    "    global index_list\n",
    "    for i in range(len(train)):\n",
    "        if train.loc[i,\"revenue1\":\"surplus2\"].isnull().sum() > 0:\n",
    "            index_list.append(i)\n",
    "    \n",
    "    result = train.drop(index_list)\n",
    "    return result\n",
    "train = drop_func(train)\n",
    "\n",
    "# 중간 copy\n",
    "train_result = train.copy()\n",
    "# 지속년수,재무정보만 train_result에 포함\n",
    "train_result = train[['OC','지속년수','revenue1', 'salescost1', 'sga1', 'salary1', 'noi1', 'noe1',\n",
    "       'interest1', 'ctax1', 'profit1', 'liquidAsset1', 'quickAsset1',\n",
    "       'receivableS1', 'inventoryAsset1', 'nonCAsset1', 'tanAsset1',\n",
    "       'OnonCAsset1', 'receivableL1', 'debt1', 'liquidLiabilities1',\n",
    "       'shortLoan1', 'NCLiabilities1', 'longLoan1', 'netAsset1', 'surplus1',\n",
    "       'revenue2', 'salescost2', 'sga2', 'salary2', 'noi2', 'noe2',\n",
    "       'interest2', 'ctax2', 'profit2', 'liquidAsset2', 'quickAsset2',\n",
    "       'receivableS2', 'inventoryAsset2', 'nonCAsset2', 'tanAsset2',\n",
    "       'OnonCAsset2', 'receivableL2', 'debt2', 'liquidLiabilities2',\n",
    "       'shortLoan2', 'NCLiabilities2', 'longLoan2', 'netAsset2', 'surplus2']]\n",
    "\n",
    "train_result['매출액_증감액'] = train['revenue1'] - train['revenue2']\n",
    "train_result['매출원가_증감액'] = train['salescost1'] - train['salescost2']\n",
    "train_result['판매비관리비_증감액'] = train['sga1'] - train['sga2']\n",
    "train_result['급여_증감액'] = train['salary1'] - train['salary2']\n",
    "train_result['영업외수익_증감액'] = train['noi1'] - train['noi2']\n",
    "train_result['영업외비용_증감액'] = train['noe1'] - train['noe2']\n",
    "train_result['이자비용_증감액'] = train['interest1'] - train['interest2']\n",
    "train_result['법인세비용_증감액'] = train['ctax1'] - train['ctax2']\n",
    "train_result['당기순이익_증감액'] = train['profit1'] - train['profit2']\n",
    "train_result['유동자산_증감액'] = train['liquidAsset1'] - train['liquidAsset2']\n",
    "train_result['당좌자산_증감액'] = train['quickAsset1'] - train['quickAsset2']\n",
    "train_result['미수금_증감액'] = train['receivableS1'] - train['receivableS2']\n",
    "train_result['재고자산_증감액'] = train['inventoryAsset1'] - train['inventoryAsset2']\n",
    "train_result['비유동자산_증감액'] = train['nonCAsset1'] - train['nonCAsset2']\n",
    "train_result['유형자산_증감액'] = train['tanAsset1'] - train['tanAsset2']\n",
    "train_result['기타비유동자산_증감액'] = train['OnonCAsset1'] - train['OnonCAsset2']\n",
    "train_result['장기미수금_증감액'] = train['receivableL1'] - train['receivableL2']\n",
    "train_result['부채총계_증감액'] = train['debt1'] - train['debt2']\n",
    "train_result['유동부채_증감액'] = train['liquidLiabilities1'] - train['liquidLiabilities2']\n",
    "train_result['단기차입금_증감액'] = train['shortLoan1'] - train['shortLoan2']\n",
    "train_result['비유동부채_증감액'] = train['NCLiabilities1'] - train['NCLiabilities2']\n",
    "train_result['장기차입금_증감액'] = train['longLoan1'] - train['longLoan2']\n",
    "train_result['순자산총계_증감액'] = train['netAsset1'] - train['netAsset2']\n",
    "train_result['이익잉여금_증감액'] = train['surplus1'] - train['surplus2']\n",
    "\n",
    "\n",
    "# ## 파생변수 생성\n",
    "# ## 증감율\n",
    "# train_result['매출액_증감율'] = (train['revenue1'] - train['revenue2'])/train['revenue2'] * 100\n",
    "# train_result['매출원가_증감율'] = (train['salescost1'] - train['salescost2'])/train['salescost2'] * 100\n",
    "# train_result['판매비관리비_증감율'] = (train['sga1'] - train['sga2'])/train['sga2'] * 100\n",
    "# train_result['급여_증감율'] = (train['salary1'] - train['salary2'])/train['salary2'] * 100\n",
    "# train_result['영업외수익_증감율'] = (train['noi1'] - train['noi2'])/train['noi2'] * 100\n",
    "# train_result['영업외비용_증감율'] = (train['noe1'] - train['noe2'])/train['noe2'] * 100\n",
    "# train_result['이자비용_증감율'] = (train['interest1'] - train['interest2'])/train['interest2'] * 100\n",
    "# train_result['법인세비용_증감율'] = (train['ctax1'] - train['ctax2'])/train['ctax2'] * 100\n",
    "# train_result['당기순이익_증감율'] = (train['profit1'] - train['profit2'])/train['profit2'] * 100\n",
    "# train_result['유동자산_증감율'] = (train['liquidAsset1'] - train['liquidAsset2'])/train['liquidAsset2'] * 100\n",
    "# train_result['당좌자산_증감율'] = (train['quickAsset1'] - train['quickAsset2'])/train['quickAsset2'] * 100\n",
    "# train_result['미수금_증감율'] = (train['receivableS1'] - train['receivableS2'])/train['receivableS2'] * 100\n",
    "# train_result['재고자산_증감율'] = (train['inventoryAsset1'] - train['inventoryAsset2'])/train['inventoryAsset2'] * 100\n",
    "# train_result['비유동자산_증감율'] = (train['nonCAsset1'] - train['nonCAsset2'])/train['nonCAsset2'] * 100\n",
    "# train_result['유형자산_증감율'] = (train['tanAsset1'] - train['tanAsset2'])/train['tanAsset2'] * 100\n",
    "# train_result['기타비유동자산_증감율'] = (train['OnonCAsset1'] - train['OnonCAsset2'])/train['OnonCAsset2'] * 100\n",
    "# train_result['장기미수금_증감율'] = (train['receivableL1'] - train['receivableL2'])/train['receivableL2'] * 100\n",
    "# train_result['부채총계_증감율'] = (train['debt1'] - train['debt2'])/train['debt2'] * 100\n",
    "# train_result['유동부채_증감율'] = (train['liquidLiabilities1'] - train['liquidLiabilities2'])/train['liquidLiabilities2'] * 100\n",
    "# train_result['단기차입금_증감율'] = (train['shortLoan1'] - train['shortLoan2'])/train['shortLoan2'] * 100\n",
    "# train_result['비유동부채_증감율'] = (train['NCLiabilities1'] - train['NCLiabilities2'])/train['NCLiabilities2'] * 100\n",
    "# train_result['장기차입금_증감율'] = (train['longLoan1'] - train['longLoan2'])/train['longLoan2'] * 100\n",
    "# train_result['순자산총계_증감율'] = (train['netAsset1'] - train['netAsset2'])/train['netAsset2'] * 100\n",
    "# train_result['이익잉여금_증감율'] = (train['surplus1'] - train['surplus2'])/train['surplus2'] * 100\n",
    "\n",
    "train_result = train_result[['OC','지속년수','매출액_증감액', '매출원가_증감액',\n",
    "       '판매비관리비_증감액', '급여_증감액', '영업외수익_증감액', '영업외비용_증감액', '이자비용_증감액',\n",
    "       '법인세비용_증감액', '당기순이익_증감액', '유동자산_증감액', '당좌자산_증감액', '미수금_증감액', '재고자산_증감액',\n",
    "       '비유동자산_증감액', '유형자산_증감액', '기타비유동자산_증감액', '장기미수금_증감액', '부채총계_증감액',\n",
    "       '유동부채_증감액', '단기차입금_증감액', '비유동부채_증감액', '장기차입금_증감액', '순자산총계_증감액',\n",
    "       '이익잉여금_증감액']]\n",
    "\n",
    "# OC => 0,1\n",
    "def func_OC(x):\n",
    "    if x == 'open':\n",
    "        return 1\n",
    "    else :\n",
    "        return 0\n",
    "train_result['OC'] = train_result['OC'].apply(func_OC)"
   ]
  },
  {
   "cell_type": "code",
   "execution_count": 11,
   "metadata": {},
   "outputs": [],
   "source": [
    "## logistic modeling\n",
    "model_1 = smf.glm(\n",
    "    formula = \"OC ~ 지속년수 + 매출액_증감액 + 매출원가_증감액 + \\\n",
    "       영업외수익_증감액 + 영업외비용_증감액 + 이자비용_증감액 + 법인세비용_증감액 + 당기순이익_증감액 + \\\n",
    "       유동자산_증감액 + 미수금_증감액 + 재고자산_증감액 + 비유동자산_증감액 + \\\n",
    "       기타비유동자산_증감액 + 장기미수금_증감액 + 부채총계_증감액 + 유동부채_증감액 + 단기차입금_증감액 + \\\n",
    "       + 장기차입금_증감액 + 이익잉여금_증감액\",\n",
    "    data=train_result,\n",
    "    family = sm.families.Binomial()\n",
    ").fit()"
   ]
  },
  {
   "cell_type": "code",
   "execution_count": 12,
   "metadata": {},
   "outputs": [
    {
     "data": {
      "text/html": [
       "<table class=\"simpletable\">\n",
       "<caption>Generalized Linear Model Regression Results</caption>\n",
       "<tr>\n",
       "  <th>Dep. Variable:</th>          <td>OC</td>        <th>  No. Observations:  </th>  <td>   293</td> \n",
       "</tr>\n",
       "<tr>\n",
       "  <th>Model:</th>                  <td>GLM</td>       <th>  Df Residuals:      </th>  <td>   273</td> \n",
       "</tr>\n",
       "<tr>\n",
       "  <th>Model Family:</th>        <td>Binomial</td>     <th>  Df Model:          </th>  <td>    19</td> \n",
       "</tr>\n",
       "<tr>\n",
       "  <th>Link Function:</th>         <td>logit</td>      <th>  Scale:             </th> <td>  1.0000</td>\n",
       "</tr>\n",
       "<tr>\n",
       "  <th>Method:</th>                <td>IRLS</td>       <th>  Log-Likelihood:    </th> <td> -44.745</td>\n",
       "</tr>\n",
       "<tr>\n",
       "  <th>Date:</th>            <td>Sun, 19 Jan 2020</td> <th>  Deviance:          </th> <td>  89.490</td>\n",
       "</tr>\n",
       "<tr>\n",
       "  <th>Time:</th>                <td>16:35:09</td>     <th>  Pearson chi2:      </th>  <td>  391.</td> \n",
       "</tr>\n",
       "<tr>\n",
       "  <th>No. Iterations:</th>         <td>19</td>        <th>                     </th>     <td> </td>   \n",
       "</tr>\n",
       "<tr>\n",
       "  <th>Covariance Type:</th>     <td>nonrobust</td>    <th>                     </th>     <td> </td>   \n",
       "</tr>\n",
       "</table>\n",
       "<table class=\"simpletable\">\n",
       "<tr>\n",
       "       <td></td>          <th>coef</th>     <th>std err</th>      <th>z</th>      <th>P>|z|</th>  <th>[0.025</th>    <th>0.975]</th>  \n",
       "</tr>\n",
       "<tr>\n",
       "  <th>Intercept</th>   <td>    2.9176</td> <td>    0.591</td> <td>    4.933</td> <td> 0.000</td> <td>    1.758</td> <td>    4.077</td>\n",
       "</tr>\n",
       "<tr>\n",
       "  <th>지속년수</th>        <td>    0.0351</td> <td>    0.043</td> <td>    0.817</td> <td> 0.414</td> <td>   -0.049</td> <td>    0.119</td>\n",
       "</tr>\n",
       "<tr>\n",
       "  <th>매출액_증감액</th>     <td> 8.004e-10</td> <td> 3.94e-10</td> <td>    2.032</td> <td> 0.042</td> <td> 2.84e-11</td> <td> 1.57e-09</td>\n",
       "</tr>\n",
       "<tr>\n",
       "  <th>매출원가_증감액</th>    <td>-1.279e-09</td> <td> 5.11e-10</td> <td>   -2.501</td> <td> 0.012</td> <td>-2.28e-09</td> <td>-2.77e-10</td>\n",
       "</tr>\n",
       "<tr>\n",
       "  <th>영업외수익_증감액</th>   <td> 1.737e-09</td> <td> 1.52e-09</td> <td>    1.144</td> <td> 0.253</td> <td>-1.24e-09</td> <td> 4.71e-09</td>\n",
       "</tr>\n",
       "<tr>\n",
       "  <th>영업외비용_증감액</th>   <td>-6.214e-10</td> <td> 1.02e-09</td> <td>   -0.611</td> <td> 0.541</td> <td>-2.61e-09</td> <td> 1.37e-09</td>\n",
       "</tr>\n",
       "<tr>\n",
       "  <th>이자비용_증감액</th>    <td> 5.593e-11</td> <td> 6.09e-09</td> <td>    0.009</td> <td> 0.993</td> <td>-1.19e-08</td> <td>  1.2e-08</td>\n",
       "</tr>\n",
       "<tr>\n",
       "  <th>법인세비용_증감액</th>   <td>-1.657e-09</td> <td> 3.34e-09</td> <td>   -0.495</td> <td> 0.620</td> <td>-8.21e-09</td> <td>  4.9e-09</td>\n",
       "</tr>\n",
       "<tr>\n",
       "  <th>당기순이익_증감액</th>   <td>-1.642e-09</td> <td> 7.07e-10</td> <td>   -2.323</td> <td> 0.020</td> <td>-3.03e-09</td> <td>-2.57e-10</td>\n",
       "</tr>\n",
       "<tr>\n",
       "  <th>유동자산_증감액</th>    <td> 1.335e-10</td> <td> 5.28e-10</td> <td>    0.253</td> <td> 0.800</td> <td>   -9e-10</td> <td> 1.17e-09</td>\n",
       "</tr>\n",
       "<tr>\n",
       "  <th>미수금_증감액</th>     <td>-1.169e-09</td> <td> 9.44e-10</td> <td>   -1.238</td> <td> 0.216</td> <td>-3.02e-09</td> <td> 6.81e-10</td>\n",
       "</tr>\n",
       "<tr>\n",
       "  <th>재고자산_증감액</th>    <td>-1.115e-08</td> <td> 6.73e-09</td> <td>   -1.656</td> <td> 0.098</td> <td>-2.43e-08</td> <td> 2.04e-09</td>\n",
       "</tr>\n",
       "<tr>\n",
       "  <th>비유동자산_증감액</th>   <td> 3.028e-11</td> <td> 2.47e-10</td> <td>    0.123</td> <td> 0.902</td> <td>-4.54e-10</td> <td> 5.14e-10</td>\n",
       "</tr>\n",
       "<tr>\n",
       "  <th>기타비유동자산_증감액</th> <td>-9.094e-10</td> <td>  9.5e-10</td> <td>   -0.957</td> <td> 0.338</td> <td>-2.77e-09</td> <td> 9.52e-10</td>\n",
       "</tr>\n",
       "<tr>\n",
       "  <th>장기미수금_증감액</th>   <td>-2.504e-06</td> <td>    0.002</td> <td>   -0.001</td> <td> 0.999</td> <td>   -0.004</td> <td>    0.004</td>\n",
       "</tr>\n",
       "<tr>\n",
       "  <th>부채총계_증감액</th>    <td> 3.481e-10</td> <td> 3.14e-10</td> <td>    1.107</td> <td> 0.268</td> <td>-2.68e-10</td> <td> 9.64e-10</td>\n",
       "</tr>\n",
       "<tr>\n",
       "  <th>유동부채_증감액</th>    <td>-8.182e-10</td> <td> 5.16e-10</td> <td>   -1.587</td> <td> 0.112</td> <td>-1.83e-09</td> <td> 1.92e-10</td>\n",
       "</tr>\n",
       "<tr>\n",
       "  <th>단기차입금_증감액</th>   <td> 6.955e-10</td> <td> 4.18e-10</td> <td>    1.665</td> <td> 0.096</td> <td>-1.23e-10</td> <td> 1.51e-09</td>\n",
       "</tr>\n",
       "<tr>\n",
       "  <th>장기차입금_증감액</th>   <td>-6.921e-10</td> <td>  4.9e-10</td> <td>   -1.411</td> <td> 0.158</td> <td>-1.65e-09</td> <td> 2.69e-10</td>\n",
       "</tr>\n",
       "<tr>\n",
       "  <th>이익잉여금_증감액</th>   <td>-6.776e-11</td> <td> 2.46e-10</td> <td>   -0.276</td> <td> 0.783</td> <td>-5.49e-10</td> <td> 4.14e-10</td>\n",
       "</tr>\n",
       "</table>"
      ],
      "text/plain": [
       "<class 'statsmodels.iolib.summary.Summary'>\n",
       "\"\"\"\n",
       "                 Generalized Linear Model Regression Results                  \n",
       "==============================================================================\n",
       "Dep. Variable:                     OC   No. Observations:                  293\n",
       "Model:                            GLM   Df Residuals:                      273\n",
       "Model Family:                Binomial   Df Model:                           19\n",
       "Link Function:                  logit   Scale:                          1.0000\n",
       "Method:                          IRLS   Log-Likelihood:                -44.745\n",
       "Date:                Sun, 19 Jan 2020   Deviance:                       89.490\n",
       "Time:                        16:35:09   Pearson chi2:                     391.\n",
       "No. Iterations:                    19                                         \n",
       "Covariance Type:            nonrobust                                         \n",
       "===============================================================================\n",
       "                  coef    std err          z      P>|z|      [0.025      0.975]\n",
       "-------------------------------------------------------------------------------\n",
       "Intercept       2.9176      0.591      4.933      0.000       1.758       4.077\n",
       "지속년수            0.0351      0.043      0.817      0.414      -0.049       0.119\n",
       "매출액_증감액      8.004e-10   3.94e-10      2.032      0.042    2.84e-11    1.57e-09\n",
       "매출원가_증감액    -1.279e-09   5.11e-10     -2.501      0.012   -2.28e-09   -2.77e-10\n",
       "영업외수익_증감액    1.737e-09   1.52e-09      1.144      0.253   -1.24e-09    4.71e-09\n",
       "영업외비용_증감액   -6.214e-10   1.02e-09     -0.611      0.541   -2.61e-09    1.37e-09\n",
       "이자비용_증감액     5.593e-11   6.09e-09      0.009      0.993   -1.19e-08     1.2e-08\n",
       "법인세비용_증감액   -1.657e-09   3.34e-09     -0.495      0.620   -8.21e-09     4.9e-09\n",
       "당기순이익_증감액   -1.642e-09   7.07e-10     -2.323      0.020   -3.03e-09   -2.57e-10\n",
       "유동자산_증감액     1.335e-10   5.28e-10      0.253      0.800      -9e-10    1.17e-09\n",
       "미수금_증감액     -1.169e-09   9.44e-10     -1.238      0.216   -3.02e-09    6.81e-10\n",
       "재고자산_증감액    -1.115e-08   6.73e-09     -1.656      0.098   -2.43e-08    2.04e-09\n",
       "비유동자산_증감액    3.028e-11   2.47e-10      0.123      0.902   -4.54e-10    5.14e-10\n",
       "기타비유동자산_증감액 -9.094e-10    9.5e-10     -0.957      0.338   -2.77e-09    9.52e-10\n",
       "장기미수금_증감액   -2.504e-06      0.002     -0.001      0.999      -0.004       0.004\n",
       "부채총계_증감액     3.481e-10   3.14e-10      1.107      0.268   -2.68e-10    9.64e-10\n",
       "유동부채_증감액    -8.182e-10   5.16e-10     -1.587      0.112   -1.83e-09    1.92e-10\n",
       "단기차입금_증감액    6.955e-10   4.18e-10      1.665      0.096   -1.23e-10    1.51e-09\n",
       "장기차입금_증감액   -6.921e-10    4.9e-10     -1.411      0.158   -1.65e-09    2.69e-10\n",
       "이익잉여금_증감액   -6.776e-11   2.46e-10     -0.276      0.783   -5.49e-10    4.14e-10\n",
       "===============================================================================\n",
       "\"\"\""
      ]
     },
     "execution_count": 12,
     "metadata": {},
     "output_type": "execute_result"
    }
   ],
   "source": [
    "model_1.summary()"
   ]
  },
  {
   "cell_type": "code",
   "execution_count": 13,
   "metadata": {},
   "outputs": [
    {
     "data": {
      "text/plain": [
       "129.49"
      ]
     },
     "execution_count": 13,
     "metadata": {},
     "output_type": "execute_result"
    }
   ],
   "source": [
    "# AIC\n",
    "model_1.aic.round(3)"
   ]
  },
  {
   "cell_type": "code",
   "execution_count": 15,
   "metadata": {},
   "outputs": [],
   "source": [
    "## 변수선택 후 modeling\n",
    "model_2 = smf.glm(\n",
    "    formula = \"OC~ 매출액_증감액+매출원가_증감액+당기순이익_증감액\",\n",
    "    data=train_result,\n",
    "    family = sm.families.Binomial()\n",
    ").fit()"
   ]
  },
  {
   "cell_type": "code",
   "execution_count": 16,
   "metadata": {},
   "outputs": [
    {
     "data": {
      "text/html": [
       "<table class=\"simpletable\">\n",
       "<caption>Generalized Linear Model Regression Results</caption>\n",
       "<tr>\n",
       "  <th>Dep. Variable:</th>          <td>OC</td>        <th>  No. Observations:  </th>  <td>   293</td> \n",
       "</tr>\n",
       "<tr>\n",
       "  <th>Model:</th>                  <td>GLM</td>       <th>  Df Residuals:      </th>  <td>   289</td> \n",
       "</tr>\n",
       "<tr>\n",
       "  <th>Model Family:</th>        <td>Binomial</td>     <th>  Df Model:          </th>  <td>     3</td> \n",
       "</tr>\n",
       "<tr>\n",
       "  <th>Link Function:</th>         <td>logit</td>      <th>  Scale:             </th> <td>  1.0000</td>\n",
       "</tr>\n",
       "<tr>\n",
       "  <th>Method:</th>                <td>IRLS</td>       <th>  Log-Likelihood:    </th> <td> -55.510</td>\n",
       "</tr>\n",
       "<tr>\n",
       "  <th>Date:</th>            <td>Sun, 19 Jan 2020</td> <th>  Deviance:          </th> <td>  111.02</td>\n",
       "</tr>\n",
       "<tr>\n",
       "  <th>Time:</th>                <td>16:38:30</td>     <th>  Pearson chi2:      </th>  <td>  402.</td> \n",
       "</tr>\n",
       "<tr>\n",
       "  <th>No. Iterations:</th>          <td>7</td>        <th>                     </th>     <td> </td>   \n",
       "</tr>\n",
       "<tr>\n",
       "  <th>Covariance Type:</th>     <td>nonrobust</td>    <th>                     </th>     <td> </td>   \n",
       "</tr>\n",
       "</table>\n",
       "<table class=\"simpletable\">\n",
       "<tr>\n",
       "      <td></td>         <th>coef</th>     <th>std err</th>      <th>z</th>      <th>P>|z|</th>  <th>[0.025</th>    <th>0.975]</th>  \n",
       "</tr>\n",
       "<tr>\n",
       "  <th>Intercept</th> <td>    2.9159</td> <td>    0.295</td> <td>    9.889</td> <td> 0.000</td> <td>    2.338</td> <td>    3.494</td>\n",
       "</tr>\n",
       "<tr>\n",
       "  <th>매출액_증감액</th>   <td> 2.781e-10</td> <td> 2.15e-10</td> <td>    1.296</td> <td> 0.195</td> <td>-1.43e-10</td> <td> 6.99e-10</td>\n",
       "</tr>\n",
       "<tr>\n",
       "  <th>매출원가_증감액</th>  <td>-5.828e-10</td> <td> 3.16e-10</td> <td>   -1.845</td> <td> 0.065</td> <td> -1.2e-09</td> <td> 3.62e-11</td>\n",
       "</tr>\n",
       "<tr>\n",
       "  <th>당기순이익_증감액</th> <td>-7.859e-10</td> <td>  3.2e-10</td> <td>   -2.454</td> <td> 0.014</td> <td>-1.41e-09</td> <td>-1.58e-10</td>\n",
       "</tr>\n",
       "</table>"
      ],
      "text/plain": [
       "<class 'statsmodels.iolib.summary.Summary'>\n",
       "\"\"\"\n",
       "                 Generalized Linear Model Regression Results                  \n",
       "==============================================================================\n",
       "Dep. Variable:                     OC   No. Observations:                  293\n",
       "Model:                            GLM   Df Residuals:                      289\n",
       "Model Family:                Binomial   Df Model:                            3\n",
       "Link Function:                  logit   Scale:                          1.0000\n",
       "Method:                          IRLS   Log-Likelihood:                -55.510\n",
       "Date:                Sun, 19 Jan 2020   Deviance:                       111.02\n",
       "Time:                        16:38:30   Pearson chi2:                     402.\n",
       "No. Iterations:                     7                                         \n",
       "Covariance Type:            nonrobust                                         \n",
       "==============================================================================\n",
       "                 coef    std err          z      P>|z|      [0.025      0.975]\n",
       "------------------------------------------------------------------------------\n",
       "Intercept      2.9159      0.295      9.889      0.000       2.338       3.494\n",
       "매출액_증감액     2.781e-10   2.15e-10      1.296      0.195   -1.43e-10    6.99e-10\n",
       "매출원가_증감액   -5.828e-10   3.16e-10     -1.845      0.065    -1.2e-09    3.62e-11\n",
       "당기순이익_증감액  -7.859e-10    3.2e-10     -2.454      0.014   -1.41e-09   -1.58e-10\n",
       "==============================================================================\n",
       "\"\"\""
      ]
     },
     "execution_count": 16,
     "metadata": {},
     "output_type": "execute_result"
    }
   ],
   "source": [
    "model_2.summary()"
   ]
  },
  {
   "cell_type": "code",
   "execution_count": 18,
   "metadata": {},
   "outputs": [
    {
     "data": {
      "text/plain": [
       "119.02"
      ]
     },
     "execution_count": 18,
     "metadata": {},
     "output_type": "execute_result"
    }
   ],
   "source": [
    "model_2.aic.round(3)"
   ]
  },
  {
   "cell_type": "code",
   "execution_count": 24,
   "metadata": {},
   "outputs": [
    {
     "name": "stdout",
     "output_type": "stream",
     "text": [
      "독립변수의 최적개수 : 2\n",
      "최적 독립변수 : ['유동자산_증감액', '비유동자산_증감액']\n"
     ]
    },
    {
     "data": {
      "image/png": "[encoded data removed]",
      "text/plain": [
       "<Figure size 720x432 with 1 Axes>"
      ]
     },
     "metadata": {
      "needs_background": "light"
     },
     "output_type": "display_data"
    }
   ],
   "source": [
    "# 재귀적 특성제거를 통한 변수선택\n",
    "# search optimal parameter\n",
    "\n",
    "from sklearn.feature_selection import RFE\n",
    "from sklearn.feature_selection import RFECV\n",
    "from sklearn.linear_model import LogisticRegression\n",
    "\n",
    "\n",
    "X = train_result.loc[:,\"지속년수\":]\n",
    "y = train_result['OC']\n",
    "\n",
    "rfecv = RFECV(estimator=LogisticRegression(), step=1, cv=10, scoring='accuracy')\n",
    "rfecv.fit(X, y)\n",
    "\n",
    "print(\"독립변수의 최적개수 : %d\" % rfecv.n_features_)\n",
    "print('최적 독립변수 : %s' % list(X.columns[rfecv.support_]))\n",
    "\n",
    "# Plot number of features VS. cross-validation scores\n",
    "plt.figure(figsize=(10,6))\n",
    "plt.xlabel(\"Number of features selected\")\n",
    "plt.ylabel(\"Cross validation score (nb of correct classifications)\")\n",
    "plt.plot(range(1, len(rfecv.grid_scores_) + 1), rfecv.grid_scores_)\n",
    "plt.show()"
   ]
  },
  {
   "cell_type": "code",
   "execution_count": 25,
   "metadata": {},
   "outputs": [],
   "source": [
    "# RFE 선택법에 따른 모델링\n",
    "model_3 = smf.glm(\n",
    "    formula = \"OC~ 유동자산_증감액 + 비유동자산_증감액\",\n",
    "    data=train_result,\n",
    "    family = sm.families.Binomial()\n",
    ").fit()"
   ]
  },
  {
   "cell_type": "code",
   "execution_count": 26,
   "metadata": {},
   "outputs": [
    {
     "data": {
      "text/plain": [
       "122.348"
      ]
     },
     "execution_count": 26,
     "metadata": {},
     "output_type": "execute_result"
    }
   ],
   "source": [
    "model_3.aic.round(3)"
   ]
  }
 ],
 "metadata": {
  "kernelspec": {
   "display_name": "Python 3",
   "language": "python",
   "name": "python3"
  },
  "language_info": {
   "codemirror_mode": {
    "name": "ipython",
    "version": 3
   },
   "file_extension": ".py",
   "mimetype": "text/x-python",
   "name": "python",
   "nbconvert_exporter": "python",
   "pygments_lexer": "ipython3",
   "version": "3.7.4"
  }
 },
 "nbformat": 4,
 "nbformat_minor": 2
}
