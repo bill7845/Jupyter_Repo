{
 "cells": [
  {
   "cell_type": "code",
   "execution_count": 12,
   "metadata": {},
   "outputs": [],
   "source": [
    "\"\"\" Under sampling and over sampling on imbalanced data\n",
    "Dataset : http://archive.ics.uci.edu/ml/datasets/Balance+Scale\n",
    "Ref : http://bi.snu.ac.kr/Publications/Conferences/Domestic/KIISE2013f_KMKim.pdf\n",
    "\"\"\"\n",
    "import os\n",
    "import pandas as pd\n",
    "import numpy as np\n",
    "import matplotlib.pyplot as plt\n",
    "from mpl_toolkits.mplot3d import Axes3D\n",
    "\n",
    "from sklearn.preprocessing import LabelEncoder\n",
    "from sklearn.linear_model import LogisticRegression\n",
    "from sklearn.ensemble import ExtraTreesClassifier\n",
    "from sklearn.neighbors import NearestNeighbors\n",
    "from sklearn.svm import SVC\n",
    "# from sklearn.cross_validation import cross_val_score, train_test_split\n",
    "from sklearn.model_selection import train_test_split\n",
    "from sklearn.metrics import classification_report\n"
   ]
  },
  {
   "cell_type": "code",
   "execution_count": 13,
   "metadata": {},
   "outputs": [],
   "source": [
    "%matplotlib inline"
   ]
  },
  {
   "cell_type": "code",
   "execution_count": 14,
   "metadata": {},
   "outputs": [],
   "source": [
    "def read_file():\n",
    "    return pd.read_csv('balance-scale.data', delimiter=',',\n",
    "                   names=['class', 'lweight', 'ldist', 'rweight', 'rdist'])\n",
    "\n",
    "def analysis_data():\n",
    "    df = read_file()\n",
    "    X_outlier = df[df['class'] == 'B'] # .ix[idx]\n",
    "    X_train = df[df['class'] == 'L']\n",
    "\n",
    "    fig = plt.figure()\n",
    "    ax = plt.axes(projection='3d')\n",
    "    ax.scatter(X_outlier['lweight'], X_outlier['ldist'],\n",
    "               X_outlier['rweight'], c='r')\n",
    "    ax.scatter(X_train['lweight'], X_train['ldist'],\n",
    "               X_train['rweight'], c='b')\n",
    "    ax.set_xlabel('left weight')\n",
    "    ax.set_ylabel('left dist')\n",
    "    ax.set_zlabel('right weight')\n",
    "    plt.show()"
   ]
  },
  {
   "cell_type": "code",
   "execution_count": 15,
   "metadata": {},
   "outputs": [
    {
     "data": {
      "text/html": [
       "<div>\n",
       "<style scoped>\n",
       "    .dataframe tbody tr th:only-of-type {\n",
       "        vertical-align: middle;\n",
       "    }\n",
       "\n",
       "    .dataframe tbody tr th {\n",
       "        vertical-align: top;\n",
       "    }\n",
       "\n",
       "    .dataframe thead th {\n",
       "        text-align: right;\n",
       "    }\n",
       "</style>\n",
       "<table border=\"1\" class=\"dataframe\">\n",
       "  <thead>\n",
       "    <tr style=\"text-align: right;\">\n",
       "      <th></th>\n",
       "      <th>class</th>\n",
       "      <th>lweight</th>\n",
       "      <th>ldist</th>\n",
       "      <th>rweight</th>\n",
       "      <th>rdist</th>\n",
       "    </tr>\n",
       "  </thead>\n",
       "  <tbody>\n",
       "    <tr>\n",
       "      <td>0</td>\n",
       "      <td>B</td>\n",
       "      <td>1</td>\n",
       "      <td>1</td>\n",
       "      <td>1</td>\n",
       "      <td>1</td>\n",
       "    </tr>\n",
       "    <tr>\n",
       "      <td>1</td>\n",
       "      <td>R</td>\n",
       "      <td>1</td>\n",
       "      <td>1</td>\n",
       "      <td>1</td>\n",
       "      <td>2</td>\n",
       "    </tr>\n",
       "    <tr>\n",
       "      <td>2</td>\n",
       "      <td>R</td>\n",
       "      <td>1</td>\n",
       "      <td>1</td>\n",
       "      <td>1</td>\n",
       "      <td>3</td>\n",
       "    </tr>\n",
       "    <tr>\n",
       "      <td>3</td>\n",
       "      <td>R</td>\n",
       "      <td>1</td>\n",
       "      <td>1</td>\n",
       "      <td>1</td>\n",
       "      <td>4</td>\n",
       "    </tr>\n",
       "    <tr>\n",
       "      <td>4</td>\n",
       "      <td>R</td>\n",
       "      <td>1</td>\n",
       "      <td>1</td>\n",
       "      <td>1</td>\n",
       "      <td>5</td>\n",
       "    </tr>\n",
       "    <tr>\n",
       "      <td>...</td>\n",
       "      <td>...</td>\n",
       "      <td>...</td>\n",
       "      <td>...</td>\n",
       "      <td>...</td>\n",
       "      <td>...</td>\n",
       "    </tr>\n",
       "    <tr>\n",
       "      <td>620</td>\n",
       "      <td>L</td>\n",
       "      <td>5</td>\n",
       "      <td>5</td>\n",
       "      <td>5</td>\n",
       "      <td>1</td>\n",
       "    </tr>\n",
       "    <tr>\n",
       "      <td>621</td>\n",
       "      <td>L</td>\n",
       "      <td>5</td>\n",
       "      <td>5</td>\n",
       "      <td>5</td>\n",
       "      <td>2</td>\n",
       "    </tr>\n",
       "    <tr>\n",
       "      <td>622</td>\n",
       "      <td>L</td>\n",
       "      <td>5</td>\n",
       "      <td>5</td>\n",
       "      <td>5</td>\n",
       "      <td>3</td>\n",
       "    </tr>\n",
       "    <tr>\n",
       "      <td>623</td>\n",
       "      <td>L</td>\n",
       "      <td>5</td>\n",
       "      <td>5</td>\n",
       "      <td>5</td>\n",
       "      <td>4</td>\n",
       "    </tr>\n",
       "    <tr>\n",
       "      <td>624</td>\n",
       "      <td>B</td>\n",
       "      <td>5</td>\n",
       "      <td>5</td>\n",
       "      <td>5</td>\n",
       "      <td>5</td>\n",
       "    </tr>\n",
       "  </tbody>\n",
       "</table>\n",
       "<p>625 rows × 5 columns</p>\n",
       "</div>"
      ],
      "text/plain": [
       "    class  lweight  ldist  rweight  rdist\n",
       "0       B        1      1        1      1\n",
       "1       R        1      1        1      2\n",
       "2       R        1      1        1      3\n",
       "3       R        1      1        1      4\n",
       "4       R        1      1        1      5\n",
       "..    ...      ...    ...      ...    ...\n",
       "620     L        5      5        5      1\n",
       "621     L        5      5        5      2\n",
       "622     L        5      5        5      3\n",
       "623     L        5      5        5      4\n",
       "624     B        5      5        5      5\n",
       "\n",
       "[625 rows x 5 columns]"
      ]
     },
     "execution_count": 15,
     "metadata": {},
     "output_type": "execute_result"
    }
   ],
   "source": [
    "read_file()"
   ]
  },
  {
   "cell_type": "code",
   "execution_count": 16,
   "metadata": {},
   "outputs": [
    {
     "data": {
      "image/png": "[encoded data removed]",
      "text/plain": [
       "<Figure size 432x288 with 1 Axes>"
      ]
     },
     "metadata": {
      "needs_background": "light"
     },
     "output_type": "display_data"
    }
   ],
   "source": [
    "analysis_data()"
   ]
  },
  {
   "cell_type": "code",
   "execution_count": 21,
   "metadata": {},
   "outputs": [
    {
     "data": {
      "text/plain": [
       "R    288\n",
       "L    288\n",
       "B     49\n",
       "Name: class, dtype: int64"
      ]
     },
     "execution_count": 21,
     "metadata": {},
     "output_type": "execute_result"
    }
   ],
   "source": [
    "df = read_file()\n",
    "\n",
    "df['class'].value_counts()\n",
    "\n",
    "# Class B가 다른 범주보다 1/6정도 작다."
   ]
  },
  {
   "cell_type": "code",
   "execution_count": 42,
   "metadata": {},
   "outputs": [],
   "source": [
    "# undersampling\n",
    "# 소수 클래스에 맞추어 다수 클래스 표본추출\n",
    "def load_undersampling():\n",
    "    rawdata = read_file()\n",
    "    n_sample = len(rawdata[rawdata['class']=='B']) # 'B' class 갯수\n",
    "    B = rawdata[rawdata['class'] == 'B'] # 'B' class\n",
    "    L = rawdata[rawdata['class'] == 'L'][:n_sample] # 'L' class 중 49개만\n",
    "    R = rawdata[rawdata['class'] == 'R'][:n_sample] # 'R' class 중 49개만\n",
    "    d = pd. concat([B, L, R]) # 각 클래스별로 49개씩 합침\n",
    "    le = LabelEncoder()\n",
    "    X = d.iloc[:,1:5].values\n",
    "    y = le.fit_transform(d['class'].values)\n",
    "    return X, y"
   ]
  },
  {
   "cell_type": "code",
   "execution_count": 57,
   "metadata": {
    "scrolled": true
   },
   "outputs": [
    {
     "data": {
      "text/plain": [
       "array([13, 31,  1, 22, 24, 19, 39, 45,  2, 40,  7, 39,  3, 26, 38, 23, 37,\n",
       "       45, 38, 32, 10, 36,  3, 43,  9, 35, 43,  0,  3, 46, 29, 43,  8, 38,\n",
       "       37, 22, 19, 47, 44,  6, 32, 30, 19, 18, 18, 42, 35, 28, 44, 15, 30,\n",
       "       21,  7, 34,  1, 41,  1, 36,  0, 46, 41,  0, 46, 45, 34, 22,  3, 37,\n",
       "       36,  8, 27, 31, 24, 25, 24, 47, 13, 34, 35, 37, 17, 37, 29, 13, 27,\n",
       "        7, 19,  1, 30, 16,  7, 37, 29,  6,  4, 31,  7, 19, 13, 17,  1, 46,\n",
       "       14,  3,  3, 17, 36, 27, 34,  1, 43, 35, 13, 37, 34, 28, 33, 20, 46,\n",
       "       14, 14, 38,  5, 43, 43, 12, 37, 14, 27,  6, 34, 37,  0, 44,  2, 30,\n",
       "        1, 14,  8, 31, 45, 25, 35, 28, 25,  4,  3, 10, 29, 30])"
      ]
     },
     "execution_count": 57,
     "metadata": {},
     "output_type": "execute_result"
    }
   ],
   "source": [
    "idx"
   ]
  },
  {
   "cell_type": "code",
   "execution_count": 48,
   "metadata": {},
   "outputs": [],
   "source": [
    "# SMOTE\n",
    "# 단순 반복이 아닌 KNN을 통해 주변 인공 데이터를 생성하는 SMOTE(Synthetic Minority Oversampling TEchnique)\n",
    "\n",
    "def load_data_with_SMOTE():\n",
    "    rawdata = read_file()\n",
    "    size = 150\n",
    "    small = rawdata[rawdata['class'] == 'B'] # 소수 클래스\n",
    "    n_sample = small.shape[0] # 소수 클래스 개수\n",
    "    idx = np.random.randint(0, n_sample, size) # 0~49범위의 랜덤수 150개 생성 \n",
    "    X = small.iloc[idx, range(1, 5)].values # * 랜덤수150개에 해당하는 1~5 col 정보 추출\n",
    "    y = small.iloc[idx, 0].values # 랜덤수150개에 해당하는 클래스 추출\n",
    "    \n",
    "    knn = NearestNeighbors(n_neighbors=2)\n",
    "    knn.fit(X)\n",
    "    _d, i = knn.kneighbors(X)\n",
    "    idx2 = i[:, 1]\n",
    "    diff = X - X[idx2]\n",
    "    X = X + np.random.random(4) * diff\n",
    "    B = np.concatenate([np.transpose(y[np.newaxis]), X], axis=1)\n",
    "    B = pd.DataFrame(B)\n",
    "\n",
    "    n_sample = rawdata[rawdata['class'] == 'L'].shape[0]\n",
    "    idx = np.random.randint(0, n_sample, size)\n",
    "    L = rawdata[rawdata['class'] == 'L'].iloc[idx]\n",
    "\n",
    "    n_sample = rawdata[rawdata['class'] == 'R'].shape[0]\n",
    "    idx = np.random.randint(0, n_sample, size)\n",
    "    R = rawdata[rawdata['class'] == 'R'].iloc[idx]\n",
    "\n",
    "    d = np.concatenate([B.values, L.values, R.values])\n",
    "\n",
    "    le = LabelEncoder()\n",
    "    X = d[:, 1:5]\n",
    "    y = le.fit_transform(d[:, 0])\n",
    "    return X, y"
   ]
  },
  {
   "cell_type": "code",
   "execution_count": 49,
   "metadata": {},
   "outputs": [
    {
     "data": {
      "text/plain": [
       "(array([[4.0, 2.0, 2.0, 4.0],\n",
       "        [2.0, 2.0, 2.0, 2.0],\n",
       "        [3.0, 3.0, 3.0, 3.0],\n",
       "        ...,\n",
       "        [1, 3, 5, 2],\n",
       "        [3, 2, 3, 3],\n",
       "        [3, 1, 5, 4]], dtype=object),\n",
       " array([0, 0, 0, 0, 0, 0, 0, 0, 0, 0, 0, 0, 0, 0, 0, 0, 0, 0, 0, 0, 0, 0,\n",
       "        0, 0, 0, 0, 0, 0, 0, 0, 0, 0, 0, 0, 0, 0, 0, 0, 0, 0, 0, 0, 0, 0,\n",
       "        0, 0, 0, 0, 0, 0, 0, 0, 0, 0, 0, 0, 0, 0, 0, 0, 0, 0, 0, 0, 0, 0,\n",
       "        0, 0, 0, 0, 0, 0, 0, 0, 0, 0, 0, 0, 0, 0, 0, 0, 0, 0, 0, 0, 0, 0,\n",
       "        0, 0, 0, 0, 0, 0, 0, 0, 0, 0, 0, 0, 0, 0, 0, 0, 0, 0, 0, 0, 0, 0,\n",
       "        0, 0, 0, 0, 0, 0, 0, 0, 0, 0, 0, 0, 0, 0, 0, 0, 0, 0, 0, 0, 0, 0,\n",
       "        0, 0, 0, 0, 0, 0, 0, 0, 0, 0, 0, 0, 0, 0, 0, 0, 0, 0, 1, 1, 1, 1,\n",
       "        1, 1, 1, 1, 1, 1, 1, 1, 1, 1, 1, 1, 1, 1, 1, 1, 1, 1, 1, 1, 1, 1,\n",
       "        1, 1, 1, 1, 1, 1, 1, 1, 1, 1, 1, 1, 1, 1, 1, 1, 1, 1, 1, 1, 1, 1,\n",
       "        1, 1, 1, 1, 1, 1, 1, 1, 1, 1, 1, 1, 1, 1, 1, 1, 1, 1, 1, 1, 1, 1,\n",
       "        1, 1, 1, 1, 1, 1, 1, 1, 1, 1, 1, 1, 1, 1, 1, 1, 1, 1, 1, 1, 1, 1,\n",
       "        1, 1, 1, 1, 1, 1, 1, 1, 1, 1, 1, 1, 1, 1, 1, 1, 1, 1, 1, 1, 1, 1,\n",
       "        1, 1, 1, 1, 1, 1, 1, 1, 1, 1, 1, 1, 1, 1, 1, 1, 1, 1, 1, 1, 1, 1,\n",
       "        1, 1, 1, 1, 1, 1, 1, 1, 1, 1, 1, 1, 1, 1, 2, 2, 2, 2, 2, 2, 2, 2,\n",
       "        2, 2, 2, 2, 2, 2, 2, 2, 2, 2, 2, 2, 2, 2, 2, 2, 2, 2, 2, 2, 2, 2,\n",
       "        2, 2, 2, 2, 2, 2, 2, 2, 2, 2, 2, 2, 2, 2, 2, 2, 2, 2, 2, 2, 2, 2,\n",
       "        2, 2, 2, 2, 2, 2, 2, 2, 2, 2, 2, 2, 2, 2, 2, 2, 2, 2, 2, 2, 2, 2,\n",
       "        2, 2, 2, 2, 2, 2, 2, 2, 2, 2, 2, 2, 2, 2, 2, 2, 2, 2, 2, 2, 2, 2,\n",
       "        2, 2, 2, 2, 2, 2, 2, 2, 2, 2, 2, 2, 2, 2, 2, 2, 2, 2, 2, 2, 2, 2,\n",
       "        2, 2, 2, 2, 2, 2, 2, 2, 2, 2, 2, 2, 2, 2, 2, 2, 2, 2, 2, 2, 2, 2,\n",
       "        2, 2, 2, 2, 2, 2, 2, 2, 2, 2]))"
      ]
     },
     "execution_count": 49,
     "metadata": {},
     "output_type": "execute_result"
    }
   ],
   "source": [
    "load_data_with_SMOTE()"
   ]
  },
  {
   "cell_type": "code",
   "execution_count": null,
   "metadata": {},
   "outputs": [],
   "source": []
  }
 ],
 "metadata": {
  "kernelspec": {
   "display_name": "Python 3",
   "language": "python",
   "name": "python3"
  },
  "language_info": {
   "codemirror_mode": {
    "name": "ipython",
    "version": 3
   },
   "file_extension": ".py",
   "mimetype": "text/x-python",
   "name": "python",
   "nbconvert_exporter": "python",
   "pygments_lexer": "ipython3",
   "version": "3.7.4"
  }
 },
 "nbformat": 4,
 "nbformat_minor": 2
}
