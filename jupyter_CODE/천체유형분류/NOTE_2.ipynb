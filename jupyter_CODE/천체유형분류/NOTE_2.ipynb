{
 "cells": [
  {
   "cell_type": "markdown",
   "metadata": {},
   "source": [
    "## PCA 차원축소"
   ]
  },
  {
   "cell_type": "code",
   "execution_count": null,
   "metadata": {},
   "outputs": [],
   "source": [
    "# 참고 유용\n",
    "# https://excelsior-cjh.tistory.com/167"
   ]
  },
  {
   "cell_type": "code",
   "execution_count": 77,
   "metadata": {},
   "outputs": [],
   "source": [
    "import pandas as pd\n",
    "import numpy as np\n",
    "import scipy as sp\n",
    "import mglearn as mgno\n",
    "\n",
    "import matplotlib.pyplot as plt\n",
    "import seaborn as sns\n",
    "from matplotlib.colors import ListedColormap\n",
    "\n",
    "from sklearn.decomposition import PCA\n",
    "from sklearn.decomposition import KernelPCA\n",
    "\n",
    "%matplotlib inline\n",
    "sns.set()"
   ]
  },
  {
   "cell_type": "code",
   "execution_count": 153,
   "metadata": {},
   "outputs": [],
   "source": [
    "train = pd.read_csv('C:/Users/KIHyuk/Desktop/dacon_data/Data_천체유형분류/train.csv',index_col=0)\n",
    "test = pd.read_csv('C:/Users/KIHyuk/Desktop/dacon_data/Data_천체유형분류/test.csv',index_col=0)\n",
    "sample_submission = pd.read_csv('C:/Users/KIHyuk/Desktop/dacon_data/Data_천체유형분류/sample_submission.csv',index_col=0)"
   ]
  },
  {
   "cell_type": "code",
   "execution_count": 144,
   "metadata": {},
   "outputs": [
    {
     "data": {
      "text/html": [
       "<div>\n",
       "<style scoped>\n",
       "    .dataframe tbody tr th:only-of-type {\n",
       "        vertical-align: middle;\n",
       "    }\n",
       "\n",
       "    .dataframe tbody tr th {\n",
       "        vertical-align: top;\n",
       "    }\n",
       "\n",
       "    .dataframe thead th {\n",
       "        text-align: right;\n",
       "    }\n",
       "</style>\n",
       "<table border=\"1\" class=\"dataframe\">\n",
       "  <thead>\n",
       "    <tr style=\"text-align: right;\">\n",
       "      <th></th>\n",
       "      <th>type</th>\n",
       "      <th>fiberID</th>\n",
       "      <th>psfMag_u</th>\n",
       "      <th>psfMag_g</th>\n",
       "      <th>psfMag_r</th>\n",
       "      <th>psfMag_i</th>\n",
       "      <th>psfMag_z</th>\n",
       "      <th>fiberMag_u</th>\n",
       "      <th>fiberMag_g</th>\n",
       "      <th>fiberMag_r</th>\n",
       "      <th>...</th>\n",
       "      <th>petroMag_u</th>\n",
       "      <th>petroMag_g</th>\n",
       "      <th>petroMag_r</th>\n",
       "      <th>petroMag_i</th>\n",
       "      <th>petroMag_z</th>\n",
       "      <th>modelMag_u</th>\n",
       "      <th>modelMag_g</th>\n",
       "      <th>modelMag_r</th>\n",
       "      <th>modelMag_i</th>\n",
       "      <th>modelMag_z</th>\n",
       "    </tr>\n",
       "    <tr>\n",
       "      <th>id</th>\n",
       "      <th></th>\n",
       "      <th></th>\n",
       "      <th></th>\n",
       "      <th></th>\n",
       "      <th></th>\n",
       "      <th></th>\n",
       "      <th></th>\n",
       "      <th></th>\n",
       "      <th></th>\n",
       "      <th></th>\n",
       "      <th></th>\n",
       "      <th></th>\n",
       "      <th></th>\n",
       "      <th></th>\n",
       "      <th></th>\n",
       "      <th></th>\n",
       "      <th></th>\n",
       "      <th></th>\n",
       "      <th></th>\n",
       "      <th></th>\n",
       "      <th></th>\n",
       "    </tr>\n",
       "  </thead>\n",
       "  <tbody>\n",
       "    <tr>\n",
       "      <td>0</td>\n",
       "      <td>QSO</td>\n",
       "      <td>601</td>\n",
       "      <td>23.198224</td>\n",
       "      <td>21.431953</td>\n",
       "      <td>21.314148</td>\n",
       "      <td>21.176553</td>\n",
       "      <td>21.171444</td>\n",
       "      <td>22.581309</td>\n",
       "      <td>21.644453</td>\n",
       "      <td>21.657571</td>\n",
       "      <td>...</td>\n",
       "      <td>22.504317</td>\n",
       "      <td>21.431636</td>\n",
       "      <td>21.478312</td>\n",
       "      <td>21.145409</td>\n",
       "      <td>20.422446</td>\n",
       "      <td>22.749241</td>\n",
       "      <td>21.465534</td>\n",
       "      <td>21.364187</td>\n",
       "      <td>21.020605</td>\n",
       "      <td>21.147340</td>\n",
       "    </tr>\n",
       "    <tr>\n",
       "      <td>1</td>\n",
       "      <td>QSO</td>\n",
       "      <td>788</td>\n",
       "      <td>21.431355</td>\n",
       "      <td>20.708104</td>\n",
       "      <td>20.678850</td>\n",
       "      <td>20.703420</td>\n",
       "      <td>20.473229</td>\n",
       "      <td>21.868797</td>\n",
       "      <td>21.029773</td>\n",
       "      <td>20.967054</td>\n",
       "      <td>...</td>\n",
       "      <td>21.360701</td>\n",
       "      <td>20.778968</td>\n",
       "      <td>20.889705</td>\n",
       "      <td>20.639812</td>\n",
       "      <td>20.646660</td>\n",
       "      <td>21.492955</td>\n",
       "      <td>20.758527</td>\n",
       "      <td>20.753925</td>\n",
       "      <td>20.693389</td>\n",
       "      <td>20.512314</td>\n",
       "    </tr>\n",
       "    <tr>\n",
       "      <td>2</td>\n",
       "      <td>QSO</td>\n",
       "      <td>427</td>\n",
       "      <td>17.851451</td>\n",
       "      <td>16.727898</td>\n",
       "      <td>16.679677</td>\n",
       "      <td>16.694640</td>\n",
       "      <td>16.641788</td>\n",
       "      <td>18.171890</td>\n",
       "      <td>17.033098</td>\n",
       "      <td>16.999682</td>\n",
       "      <td>...</td>\n",
       "      <td>17.867253</td>\n",
       "      <td>16.738784</td>\n",
       "      <td>16.688874</td>\n",
       "      <td>16.744210</td>\n",
       "      <td>16.808006</td>\n",
       "      <td>17.818063</td>\n",
       "      <td>16.697434</td>\n",
       "      <td>16.641249</td>\n",
       "      <td>16.660177</td>\n",
       "      <td>16.688928</td>\n",
       "    </tr>\n",
       "    <tr>\n",
       "      <td>3</td>\n",
       "      <td>QSO</td>\n",
       "      <td>864</td>\n",
       "      <td>20.789900</td>\n",
       "      <td>20.040371</td>\n",
       "      <td>19.926909</td>\n",
       "      <td>19.843840</td>\n",
       "      <td>19.463270</td>\n",
       "      <td>21.039030</td>\n",
       "      <td>20.317165</td>\n",
       "      <td>20.217898</td>\n",
       "      <td>...</td>\n",
       "      <td>20.433907</td>\n",
       "      <td>19.993727</td>\n",
       "      <td>19.985531</td>\n",
       "      <td>19.750917</td>\n",
       "      <td>19.455117</td>\n",
       "      <td>20.770711</td>\n",
       "      <td>20.001699</td>\n",
       "      <td>19.889798</td>\n",
       "      <td>19.758113</td>\n",
       "      <td>19.552855</td>\n",
       "    </tr>\n",
       "    <tr>\n",
       "      <td>4</td>\n",
       "      <td>STAR_RED_DWARF</td>\n",
       "      <td>612</td>\n",
       "      <td>26.454969</td>\n",
       "      <td>23.058767</td>\n",
       "      <td>21.471406</td>\n",
       "      <td>19.504961</td>\n",
       "      <td>18.389096</td>\n",
       "      <td>25.700632</td>\n",
       "      <td>23.629122</td>\n",
       "      <td>21.742750</td>\n",
       "      <td>...</td>\n",
       "      <td>25.859229</td>\n",
       "      <td>22.426929</td>\n",
       "      <td>21.673551</td>\n",
       "      <td>19.610012</td>\n",
       "      <td>18.376141</td>\n",
       "      <td>24.877052</td>\n",
       "      <td>23.147993</td>\n",
       "      <td>21.475342</td>\n",
       "      <td>19.487330</td>\n",
       "      <td>18.375655</td>\n",
       "    </tr>\n",
       "  </tbody>\n",
       "</table>\n",
       "<p>5 rows × 22 columns</p>\n",
       "</div>"
      ],
      "text/plain": [
       "              type  fiberID   psfMag_u   psfMag_g   psfMag_r   psfMag_i  \\\n",
       "id                                                                        \n",
       "0              QSO      601  23.198224  21.431953  21.314148  21.176553   \n",
       "1              QSO      788  21.431355  20.708104  20.678850  20.703420   \n",
       "2              QSO      427  17.851451  16.727898  16.679677  16.694640   \n",
       "3              QSO      864  20.789900  20.040371  19.926909  19.843840   \n",
       "4   STAR_RED_DWARF      612  26.454969  23.058767  21.471406  19.504961   \n",
       "\n",
       "     psfMag_z  fiberMag_u  fiberMag_g  fiberMag_r  ...  petroMag_u  \\\n",
       "id                                                 ...               \n",
       "0   21.171444   22.581309   21.644453   21.657571  ...   22.504317   \n",
       "1   20.473229   21.868797   21.029773   20.967054  ...   21.360701   \n",
       "2   16.641788   18.171890   17.033098   16.999682  ...   17.867253   \n",
       "3   19.463270   21.039030   20.317165   20.217898  ...   20.433907   \n",
       "4   18.389096   25.700632   23.629122   21.742750  ...   25.859229   \n",
       "\n",
       "    petroMag_g  petroMag_r  petroMag_i  petroMag_z  modelMag_u  modelMag_g  \\\n",
       "id                                                                           \n",
       "0    21.431636   21.478312   21.145409   20.422446   22.749241   21.465534   \n",
       "1    20.778968   20.889705   20.639812   20.646660   21.492955   20.758527   \n",
       "2    16.738784   16.688874   16.744210   16.808006   17.818063   16.697434   \n",
       "3    19.993727   19.985531   19.750917   19.455117   20.770711   20.001699   \n",
       "4    22.426929   21.673551   19.610012   18.376141   24.877052   23.147993   \n",
       "\n",
       "    modelMag_r  modelMag_i  modelMag_z  \n",
       "id                                      \n",
       "0    21.364187   21.020605   21.147340  \n",
       "1    20.753925   20.693389   20.512314  \n",
       "2    16.641249   16.660177   16.688928  \n",
       "3    19.889798   19.758113   19.552855  \n",
       "4    21.475342   19.487330   18.375655  \n",
       "\n",
       "[5 rows x 22 columns]"
      ]
     },
     "execution_count": 144,
     "metadata": {},
     "output_type": "execute_result"
    }
   ],
   "source": [
    "train.head()"
   ]
  },
  {
   "cell_type": "code",
   "execution_count": 154,
   "metadata": {},
   "outputs": [],
   "source": [
    "column_number = {}\n",
    "for i, column in enumerate(sample_submission.columns):\n",
    "    column_number[column] = i\n",
    "    \n",
    "def to_number(x, dic):\n",
    "    return dic[x]\n",
    "\n",
    "train['type_num'] = train['type'].apply(lambda x: to_number(x, column_number))\n",
    "\n",
    "train_x = train.drop(columns=['type', 'type_num'], axis=1)\n",
    "train_y = train['type_num']\n",
    "test_x = test\n",
    "\n",
    "# train_x = train_x.drop(['fiberID'],axis=1) \n",
    "# test_x = test_x.drop(['fiberID'],axis=1)"
   ]
  },
  {
   "cell_type": "code",
   "execution_count": 155,
   "metadata": {},
   "outputs": [
    {
     "data": {
      "text/plain": [
       "21"
      ]
     },
     "execution_count": 155,
     "metadata": {},
     "output_type": "execute_result"
    }
   ],
   "source": [
    "len(train_x.columns) # 차원수"
   ]
  },
  {
   "cell_type": "code",
   "execution_count": 156,
   "metadata": {},
   "outputs": [
    {
     "name": "stderr",
     "output_type": "stream",
     "text": [
      "C:\\Anaconda3\\lib\\site-packages\\sklearn\\preprocessing\\data.py:625: DataConversionWarning: Data with input dtype int64, float64 were all converted to float64 by StandardScaler.\n",
      "  return self.partial_fit(X, y)\n",
      "C:\\Anaconda3\\lib\\site-packages\\sklearn\\base.py:462: DataConversionWarning: Data with input dtype int64, float64 were all converted to float64 by StandardScaler.\n",
      "  return self.fit(X, **fit_params).transform(X)\n",
      "C:\\Anaconda3\\lib\\site-packages\\sklearn\\preprocessing\\data.py:625: DataConversionWarning: Data with input dtype int64, float64 were all converted to float64 by StandardScaler.\n",
      "  return self.partial_fit(X, y)\n",
      "C:\\Anaconda3\\lib\\site-packages\\sklearn\\base.py:462: DataConversionWarning: Data with input dtype int64, float64 were all converted to float64 by StandardScaler.\n",
      "  return self.fit(X, **fit_params).transform(X)\n"
     ]
    }
   ],
   "source": [
    "# PCA는 스케일 조정 필수\n",
    "from sklearn.preprocessing import StandardScaler\n",
    "\n",
    "scaler = StandardScaler()\n",
    "train_x = scaler.fit_transform(train_x)\n",
    "test_x = scaler.fit_transform(test_x)"
   ]
  },
  {
   "cell_type": "code",
   "execution_count": 157,
   "metadata": {},
   "outputs": [],
   "source": [
    "pca = PCA(n_components=0.95) \n",
    "# n_components => 2,3,4,5~ 줄일 차원수 지정\n",
    "# 0~1사이 지정 => ex) 0.95 , 분산읜 95%만 유지하도록 차원을 축소\n",
    "\n",
    "train_x_pca = pca.fit_transform(train_x)"
   ]
  },
  {
   "cell_type": "code",
   "execution_count": 151,
   "metadata": {},
   "outputs": [],
   "source": [
    "# print('singular value :', pca.singular_values_)\n",
    "# print('singular vector :\\n', pca.components_.T)"
   ]
  },
  {
   "cell_type": "code",
   "execution_count": 158,
   "metadata": {},
   "outputs": [
    {
     "name": "stdout",
     "output_type": "stream",
     "text": [
      "explained variance ratio : [0.37156574 0.13270829 0.06499101 0.06233279 0.05396813 0.04761794\n",
      " 0.04631057 0.03995411 0.03555699 0.03273236 0.02603151 0.02267698\n",
      " 0.01714533]\n",
      "선택한 차원(픽셀) 수 : 13\n"
     ]
    }
   ],
   "source": [
    "# print('eigen_value :', pca.explained_variance_)\n",
    "print('explained variance ratio :', pca.explained_variance_ratio_) # 주성분별 분산 설명 비율 (*설명비율)\n",
    "print('선택한 차원(픽셀) 수 :', pca.n_components_) # 95%의 분산 설명을 위해 몇개의 차원을 선택했는가"
   ]
  },
  {
   "cell_type": "code",
   "execution_count": 152,
   "metadata": {},
   "outputs": [
    {
     "data": {
      "text/plain": [
       "<matplotlib.colorbar.Colorbar at 0x29b80becd88>"
      ]
     },
     "execution_count": 152,
     "metadata": {},
     "output_type": "execute_result"
    },
    {
     "data": {
      "image/png": "[encoded data removed]",
      "text/plain": [
       "<Figure size 864x576 with 2 Axes>"
      ]
     },
     "metadata": {},
     "output_type": "display_data"
    }
   ],
   "source": [
    "plt.figure(figsize=[12,8])\n",
    "plt.scatter(train_x_pca[:,0], train_x_pca[:,1], c=train_y, s=60)\n",
    "plt.xlabel('PCA1')\n",
    "plt.ylabel('PCA2')\n",
    "plt.axis('equal')\n",
    "plt.colorbar(shrink=0.5)"
   ]
  }
 ],
 "metadata": {
  "kernelspec": {
   "display_name": "Python 3",
   "language": "python",
   "name": "python3"
  },
  "language_info": {
   "codemirror_mode": {
    "name": "ipython",
    "version": 3
   },
   "file_extension": ".py",
   "mimetype": "text/x-python",
   "name": "python",
   "nbconvert_exporter": "python",
   "pygments_lexer": "ipython3",
   "version": "3.7.4"
  }
 },
 "nbformat": 4,
 "nbformat_minor": 2
}
