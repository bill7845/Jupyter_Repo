{
 "cells": [
  {
   "cell_type": "code",
   "execution_count": 30,
   "metadata": {},
   "outputs": [],
   "source": [
    "import pandas as pd\n",
    "\n",
    "\n",
    "import missingno as msno"
   ]
  },
  {
   "cell_type": "code",
   "execution_count": 3,
   "metadata": {},
   "outputs": [],
   "source": [
    "train = pd.read_csv('C:/Users/KIHyuk/Documents/GitHub/Jupyter_Repo/jupyter_CODE\\아파트실거래가예측/train.csv')\n",
    "test = pd.read_csv('C:/Users/KIHyuk/Documents/GitHub/Jupyter_Repo/jupyter_CODE\\아파트실거래가예측/test.csv')\n",
    "park = pd.read_csv('C:/Users/KIHyuk/Documents/GitHub/Jupyter_Repo/jupyter_CODE\\아파트실거래가예측/park.csv')\n",
    "day_care_center = pd.read_csv('C:/Users/KIHyuk/Documents/GitHub/Jupyter_Repo/jupyter_CODE\\아파트실거래가예측/day_care_center.csv')\n",
    "submission = pd.read_csv('C:/Users/KIHyuk/Documents/GitHub/Jupyter_Repo/jupyter_CODE\\아파트실거래가예측/submission.csv')"
   ]
  },
  {
   "cell_type": "code",
   "execution_count": 10,
   "metadata": {},
   "outputs": [
    {
     "data": {
      "text/plain": [
       "(1216553, 13)"
      ]
     },
     "execution_count": 10,
     "metadata": {},
     "output_type": "execute_result"
    }
   ],
   "source": [
    "train.shape"
   ]
  },
  {
   "cell_type": "code",
   "execution_count": null,
   "metadata": {},
   "outputs": [],
   "source": []
  }
 ],
 "metadata": {
  "kernelspec": {
   "display_name": "Python 3",
   "language": "python",
   "name": "python3"
  },
  "language_info": {
   "codemirror_mode": {
    "name": "ipython",
    "version": 3
   },
   "file_extension": ".py",
   "mimetype": "text/x-python",
   "name": "python",
   "nbconvert_exporter": "python",
   "pygments_lexer": "ipython3",
   "version": "3.7.4"
  }
 },
 "nbformat": 4,
 "nbformat_minor": 2
}
