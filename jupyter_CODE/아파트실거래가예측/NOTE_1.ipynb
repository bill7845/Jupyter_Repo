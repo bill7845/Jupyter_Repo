{
 "cells": [
  {
   "cell_type": "code",
   "execution_count": 88,
   "metadata": {},
   "outputs": [],
   "source": [
    "import pandas as pd\n",
    "\n",
    "\n",
    "import missingno as msno\n",
    "\n",
    "from sklearn.preprocessing import OneHotEncoder,LabelEncoder\n",
    "from sklearn.ensemble import RandomForestRegressor"
   ]
  },
  {
   "cell_type": "code",
   "execution_count": 31,
   "metadata": {},
   "outputs": [],
   "source": [
    "train = pd.read_csv('C:/Users/KIHyuk/Desktop/dacon_data/Data_아파트실거래가/train.csv')\n",
    "test = pd.read_csv('C:/Users/KIHyuk/Desktop/dacon_data/Data_아파트실거래가/test.csv')\n",
    "park = pd.read_csv('C:/Users/KIHyuk/Desktop/dacon_data/Data_아파트실거래가/park.csv')\n",
    "day_care_center = pd.read_csv('C:/Users/KIHyuk/Desktop/dacon_data/Data_아파트실거래가/day_care_center.csv')\n",
    "submission = pd.read_csv('C:/Users/KIHyuk/Desktop/dacon_data/Data_아파트실거래가/submission.csv')"
   ]
  },
  {
   "cell_type": "code",
   "execution_count": 32,
   "metadata": {
    "scrolled": true
   },
   "outputs": [
    {
     "data": {
      "text/plain": [
       "(1216553, 13)"
      ]
     },
     "execution_count": 32,
     "metadata": {},
     "output_type": "execute_result"
    }
   ],
   "source": [
    "train.shape"
   ]
  },
  {
   "cell_type": "code",
   "execution_count": 35,
   "metadata": {},
   "outputs": [
    {
     "data": {
      "text/plain": [
       "transaction_id            0\n",
       "apartment_id              0\n",
       "city                      0\n",
       "dong                      0\n",
       "jibun                     0\n",
       "apt                       0\n",
       "addr_kr                   0\n",
       "exclusive_use_area        0\n",
       "year_of_completion        0\n",
       "transaction_year_month    0\n",
       "transaction_date          0\n",
       "floor                     0\n",
       "transaction_real_price    0\n",
       "dtype: int64"
      ]
     },
     "execution_count": 35,
     "metadata": {},
     "output_type": "execute_result"
    }
   ],
   "source": [
    "train.isnull().sum()"
   ]
  },
  {
   "cell_type": "code",
   "execution_count": 43,
   "metadata": {},
   "outputs": [
    {
     "data": {
      "text/html": [
       "<div>\n",
       "<style scoped>\n",
       "    .dataframe tbody tr th:only-of-type {\n",
       "        vertical-align: middle;\n",
       "    }\n",
       "\n",
       "    .dataframe tbody tr th {\n",
       "        vertical-align: top;\n",
       "    }\n",
       "\n",
       "    .dataframe thead th {\n",
       "        text-align: right;\n",
       "    }\n",
       "</style>\n",
       "<table border=\"1\" class=\"dataframe\">\n",
       "  <thead>\n",
       "    <tr style=\"text-align: right;\">\n",
       "      <th></th>\n",
       "      <th>sum</th>\n",
       "      <th>mean</th>\n",
       "      <th>std</th>\n",
       "      <th>min</th>\n",
       "      <th>max</th>\n",
       "    </tr>\n",
       "    <tr>\n",
       "      <th>city</th>\n",
       "      <th></th>\n",
       "      <th></th>\n",
       "      <th></th>\n",
       "      <th></th>\n",
       "      <th></th>\n",
       "    </tr>\n",
       "  </thead>\n",
       "  <tbody>\n",
       "    <tr>\n",
       "      <td>부산광역시</td>\n",
       "      <td>10008025084</td>\n",
       "      <td>21102.045856</td>\n",
       "      <td>14032.400080</td>\n",
       "      <td>100</td>\n",
       "      <td>412787</td>\n",
       "    </tr>\n",
       "    <tr>\n",
       "      <td>서울특별시</td>\n",
       "      <td>36497989640</td>\n",
       "      <td>49169.779317</td>\n",
       "      <td>33868.323394</td>\n",
       "      <td>350</td>\n",
       "      <td>820000</td>\n",
       "    </tr>\n",
       "  </tbody>\n",
       "</table>\n",
       "</div>"
      ],
      "text/plain": [
       "               sum          mean           std  min     max\n",
       "city                                                       \n",
       "부산광역시  10008025084  21102.045856  14032.400080  100  412787\n",
       "서울특별시  36497989640  49169.779317  33868.323394  350  820000"
      ]
     },
     "execution_count": 43,
     "metadata": {},
     "output_type": "execute_result"
    }
   ],
   "source": [
    "train.groupby('city')['transaction_real_price'].agg(['sum','mean','std','min','max'])"
   ]
  },
  {
   "cell_type": "code",
   "execution_count": 44,
   "metadata": {},
   "outputs": [],
   "source": [
    "train_seoul = train.query(\"city == '서울특별시'\")\n",
    "train_busan = train.query(\"city == '부산광역시'\")"
   ]
  },
  {
   "cell_type": "code",
   "execution_count": 53,
   "metadata": {},
   "outputs": [
    {
     "data": {
      "text/html": [
       "<div>\n",
       "<style scoped>\n",
       "    .dataframe tbody tr th:only-of-type {\n",
       "        vertical-align: middle;\n",
       "    }\n",
       "\n",
       "    .dataframe tbody tr th {\n",
       "        vertical-align: top;\n",
       "    }\n",
       "\n",
       "    .dataframe thead th {\n",
       "        text-align: right;\n",
       "    }\n",
       "</style>\n",
       "<table border=\"1\" class=\"dataframe\">\n",
       "  <thead>\n",
       "    <tr style=\"text-align: right;\">\n",
       "      <th></th>\n",
       "      <th>sum</th>\n",
       "      <th>mean</th>\n",
       "      <th>std</th>\n",
       "      <th>min</th>\n",
       "      <th>max</th>\n",
       "      <th>count</th>\n",
       "    </tr>\n",
       "    <tr>\n",
       "      <th>dong</th>\n",
       "      <th></th>\n",
       "      <th></th>\n",
       "      <th></th>\n",
       "      <th></th>\n",
       "      <th></th>\n",
       "      <th></th>\n",
       "    </tr>\n",
       "  </thead>\n",
       "  <tbody>\n",
       "    <tr>\n",
       "      <td>장충동1가</td>\n",
       "      <td>4858000</td>\n",
       "      <td>269888.888889</td>\n",
       "      <td>156299.806100</td>\n",
       "      <td>18530</td>\n",
       "      <td>570000</td>\n",
       "      <td>18</td>\n",
       "    </tr>\n",
       "    <tr>\n",
       "      <td>압구정동</td>\n",
       "      <td>542141912</td>\n",
       "      <td>164534.722914</td>\n",
       "      <td>60204.131327</td>\n",
       "      <td>20000</td>\n",
       "      <td>430000</td>\n",
       "      <td>3295</td>\n",
       "    </tr>\n",
       "    <tr>\n",
       "      <td>청암동</td>\n",
       "      <td>9684222</td>\n",
       "      <td>161403.700000</td>\n",
       "      <td>31031.174487</td>\n",
       "      <td>100000</td>\n",
       "      <td>225000</td>\n",
       "      <td>60</td>\n",
       "    </tr>\n",
       "    <tr>\n",
       "      <td>용산동5가</td>\n",
       "      <td>30085477</td>\n",
       "      <td>153497.331633</td>\n",
       "      <td>49576.810239</td>\n",
       "      <td>80000</td>\n",
       "      <td>565000</td>\n",
       "      <td>196</td>\n",
       "    </tr>\n",
       "    <tr>\n",
       "      <td>회현동2가</td>\n",
       "      <td>7974650</td>\n",
       "      <td>139906.140351</td>\n",
       "      <td>26892.831203</td>\n",
       "      <td>94000</td>\n",
       "      <td>277000</td>\n",
       "      <td>57</td>\n",
       "    </tr>\n",
       "    <tr>\n",
       "      <td>...</td>\n",
       "      <td>...</td>\n",
       "      <td>...</td>\n",
       "      <td>...</td>\n",
       "      <td>...</td>\n",
       "      <td>...</td>\n",
       "      <td>...</td>\n",
       "    </tr>\n",
       "    <tr>\n",
       "      <td>영등포동2가</td>\n",
       "      <td>607700</td>\n",
       "      <td>12402.040816</td>\n",
       "      <td>489.255300</td>\n",
       "      <td>11000</td>\n",
       "      <td>12900</td>\n",
       "      <td>49</td>\n",
       "    </tr>\n",
       "    <tr>\n",
       "      <td>영등포동3가</td>\n",
       "      <td>1059440</td>\n",
       "      <td>11515.652174</td>\n",
       "      <td>569.492360</td>\n",
       "      <td>10290</td>\n",
       "      <td>13000</td>\n",
       "      <td>92</td>\n",
       "    </tr>\n",
       "    <tr>\n",
       "      <td>누상동</td>\n",
       "      <td>21300</td>\n",
       "      <td>10650.000000</td>\n",
       "      <td>919.238816</td>\n",
       "      <td>10000</td>\n",
       "      <td>11300</td>\n",
       "      <td>2</td>\n",
       "    </tr>\n",
       "    <tr>\n",
       "      <td>필동1가</td>\n",
       "      <td>25400</td>\n",
       "      <td>8466.666667</td>\n",
       "      <td>4387.862046</td>\n",
       "      <td>3400</td>\n",
       "      <td>11000</td>\n",
       "      <td>3</td>\n",
       "    </tr>\n",
       "    <tr>\n",
       "      <td>장충동2가</td>\n",
       "      <td>125940</td>\n",
       "      <td>6628.421053</td>\n",
       "      <td>2837.773507</td>\n",
       "      <td>3900</td>\n",
       "      <td>16000</td>\n",
       "      <td>19</td>\n",
       "    </tr>\n",
       "  </tbody>\n",
       "</table>\n",
       "<p>330 rows × 6 columns</p>\n",
       "</div>"
      ],
      "text/plain": [
       "              sum           mean            std     min     max  count\n",
       "dong                                                                  \n",
       "장충동1가     4858000  269888.888889  156299.806100   18530  570000     18\n",
       "압구정동    542141912  164534.722914   60204.131327   20000  430000   3295\n",
       "청암동       9684222  161403.700000   31031.174487  100000  225000     60\n",
       "용산동5가    30085477  153497.331633   49576.810239   80000  565000    196\n",
       "회현동2가     7974650  139906.140351   26892.831203   94000  277000     57\n",
       "...           ...            ...            ...     ...     ...    ...\n",
       "영등포동2가     607700   12402.040816     489.255300   11000   12900     49\n",
       "영등포동3가    1059440   11515.652174     569.492360   10290   13000     92\n",
       "누상동         21300   10650.000000     919.238816   10000   11300      2\n",
       "필동1가        25400    8466.666667    4387.862046    3400   11000      3\n",
       "장충동2가      125940    6628.421053    2837.773507    3900   16000     19\n",
       "\n",
       "[330 rows x 6 columns]"
      ]
     },
     "execution_count": 53,
     "metadata": {},
     "output_type": "execute_result"
    }
   ],
   "source": [
    "train_seoul.groupby('dong')['transaction_real_price'].agg(['sum','mean','std','min','max','count']).sort_values(by='mean',ascending=False)"
   ]
  },
  {
   "cell_type": "code",
   "execution_count": null,
   "metadata": {},
   "outputs": [],
   "source": []
  }
 ],
 "metadata": {
  "kernelspec": {
   "display_name": "Python 3",
   "language": "python",
   "name": "python3"
  },
  "language_info": {
   "codemirror_mode": {
    "name": "ipython",
    "version": 3
   },
   "file_extension": ".py",
   "mimetype": "text/x-python",
   "name": "python",
   "nbconvert_exporter": "python",
   "pygments_lexer": "ipython3",
   "version": "3.7.4"
  }
 },
 "nbformat": 4,
 "nbformat_minor": 2
}
