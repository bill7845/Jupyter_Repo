{
 "cells": [
  {
   "cell_type": "code",
   "execution_count": 56,
   "metadata": {},
   "outputs": [],
   "source": [
    "import pandas as pd"
   ]
  },
  {
   "cell_type": "code",
   "execution_count": 131,
   "metadata": {},
   "outputs": [],
   "source": [
    "df_it = pd.read_csv('Article_IT과학_201801_201909.csv',encoding='euc-kr',names=['날짜','분야','신문사','제목','본문','URL'])\n",
    "df_politic = pd.read_csv('Article_정치_201801_201909.csv',encoding='euc-kr',names=['날짜','분야','신문사','제목','본문','URL'])\n",
    "df_economy = pd.read_csv('Article_경제_201801_201909.csv',encoding='euc-kr',names=['날짜','분야','신문사','제목','본문','URL'])\n",
    "df_life = pd.read_csv('Article_생활문화_201801_201909.csv',encoding='euc-kr',names=['날짜','분야','신문사','제목','본문','URL'])"
   ]
  },
  {
   "cell_type": "code",
   "execution_count": 132,
   "metadata": {},
   "outputs": [],
   "source": [
    "df_it['제목본문'] = df_it['제목'] + df_it['본문']\n",
    "df_politic['제목본문'] = df_politic['제목'] + df_politic['본문']\n",
    "df_economy['제목본문'] = df_economy['제목'] + df_economy['본문']\n",
    "df_life['제목본문'] = df_life['제목'] + df_life['본문']"
   ]
  },
  {
   "cell_type": "code",
   "execution_count": 133,
   "metadata": {},
   "outputs": [],
   "source": [
    "politic_list=[]\n",
    "politic_list.append(df_politic['제목본문'])\n",
    "\n",
    "it_list=[]\n",
    "it_list.append(df_it['제목본문'])\n",
    "\n",
    "economy_list=[]\n",
    "economy_list.append(df_economy['제목본문'])\n",
    "\n",
    "life_list=[]\n",
    "life_list.append(df_life['제목본문'])"
   ]
  },
  {
   "cell_type": "code",
   "execution_count": 134,
   "metadata": {},
   "outputs": [],
   "source": [
    "## res_list_~~가 각 카테고리별 기사들 리스트임\n",
    "\n",
    "res_list_politic = []\n",
    "for i in range(len(politic_list[0])):\n",
    "    res_list_politic.append(politic_list[0][i])\n",
    "    \n",
    "res_list_economy = []\n",
    "for i in range(len(economy_list[0])):\n",
    "    res_list_economy.append(economy_list[0][i])\n",
    "\n",
    "res_list_it = []\n",
    "for i in range(len(it_list[0])):\n",
    "    res_list_it.append(it_list[0][i])\n",
    "    \n",
    "res_list_life = []\n",
    "for i in range(len(life_list[0])):\n",
    "    res_list_life.append(life_list[0][i])"
   ]
  },
  {
   "cell_type": "code",
   "execution_count": 139,
   "metadata": {},
   "outputs": [
    {
     "data": {
      "text/plain": [
       "7297"
      ]
     },
     "execution_count": 139,
     "metadata": {},
     "output_type": "execute_result"
    }
   ],
   "source": [
    "# ex) \n",
    "\n",
    "# len(res_list_politic)\n",
    "# len(res_list_economy)\n",
    "# len(res_list_life)\n",
    "# len(res_list_it)"
   ]
  }
 ],
 "metadata": {
  "kernelspec": {
   "display_name": "Python 3",
   "language": "python",
   "name": "python3"
  },
  "language_info": {
   "codemirror_mode": {
    "name": "ipython",
    "version": 3
   },
   "file_extension": ".py",
   "mimetype": "text/x-python",
   "name": "python",
   "nbconvert_exporter": "python",
   "pygments_lexer": "ipython3",
   "version": "3.7.4"
  }
 },
 "nbformat": 4,
 "nbformat_minor": 2
}
