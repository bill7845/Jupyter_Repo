{
 "cells": [
  {
   "cell_type": "markdown",
   "metadata": {},
   "source": [
    "1.사용자로부터 5개의 숫자를 읽어서 리스트에 저장하고 숫자들의 평균을 계산하여 출력한다.  또 숫자 중에서 평균을 상회하는 숫자가몇 개나 되는지 출력하여 보자."
   ]
  },
  {
   "cell_type": "code",
   "execution_count": 4,
   "metadata": {},
   "outputs": [
    {
     "name": "stdout",
     "output_type": "stream",
     "text": [
      "정수를 입력하세요 :10\n",
      "정수를 입력하세요 :20\n",
      "정수를 입력하세요 :30\n",
      "정수를 입력하세요 :40\n",
      "정수를 입력하세요 :50\n",
      "평균은 30\n",
      "평균을 상회하는 숫자의 개수는 2\n"
     ]
    }
   ],
   "source": [
    "list_a = []\n",
    "list_over = []\n",
    "tmp = 0\n",
    "\n",
    "for i in range(5):\n",
    "    user_num = int(input(\"정수를 입력하세요 :\"))\n",
    "    list_a.append(user_num)\n",
    "    tmp += user_num\n",
    "\n",
    "mean = tmp / len(list_a)\n",
    "\n",
    "print(\"평균은 %d\" %(mean))\n",
    "\n",
    "for j in list_a: ## ?? list_a\n",
    "    if j > mean:\n",
    "         list_over.append(j)\n",
    "\n",
    "# for j in range(5): ## ?? list_a\n",
    "#     if list_a[j] > mean:\n",
    "#          list_over.append(list_a[j])\n",
    "# #         print(list_over)\n",
    "\n",
    "print(\"평균을 상회하는 숫자의 개수는 %d\" %(len(list_over)))\n",
    "\n",
    "    "
   ]
  },
  {
   "cell_type": "markdown",
   "metadata": {},
   "source": [
    "2.정수 리스트를 읽어서 역순으로 반환하는 reverseList() 함수를 작성하고 이것을이용하여서 정수 리스트를 역순으로 출력하는 프로그램을 작성해보자."
   ]
  },
  {
   "cell_type": "code",
   "execution_count": 11,
   "metadata": {},
   "outputs": [
    {
     "name": "stdout",
     "output_type": "stream",
     "text": [
      "[50, 40, 30, 20, 10]\n",
      "<list_reverseiterator object at 0x000001567A0CB898>\n"
     ]
    }
   ],
   "source": [
    "list_a = [50, 40, 30, 20, 10]\n",
    "list_b = []\n",
    "\n",
    "def reverseList(list_a):\n",
    "    print(reversed(list_a))\n",
    "\n",
    "\n",
    "# def reverseList(list_a):\n",
    "#     list_a.reverse()\n",
    "    \n",
    "\n",
    "print(list_a)\n",
    "reverseList(list_a)"
   ]
  },
  {
   "cell_type": "markdown",
   "metadata": {},
   "source": [
    "3.사용자에게서 받은 정수들의 평균과 표준 편차를 계산하여 출력한다. 평균과 표준 편차를 계산하는함수를 작성한 후에 이들 함수들을 호출하도록 하라."
   ]
  },
  {
   "cell_type": "code",
   "execution_count": 43,
   "metadata": {},
   "outputs": [
    {
     "name": "stdout",
     "output_type": "stream",
     "text": [
      "['10', '20', '30']\n",
      "평균은 20\n"
     ]
    }
   ],
   "source": [
    "user_input = input(\"정수를 입력하시오 : / / / \")\n",
    "user_num = []\n",
    "user_num = (user_input.split(\"/\"))\n",
    "\n",
    "\n",
    "print(user_num)\n",
    "\n",
    "def cal(choice , user_num):\n",
    "    if choice == 'mean':\n",
    "        result,hap = 0,0\n",
    "        for i in range(len(user_num)):\n",
    "            hap += int(user_num[i])\n",
    "        result = hap / len(user_num)\n",
    "        return result\n",
    "        \n",
    "\n",
    "print(\"평균은 %d\" %(cal('mean',user_num)))\n"
   ]
  },
  {
   "cell_type": "markdown",
   "metadata": {},
   "source": [
    "4.전화 키패드에는 각 숫자키마다 3개의 문자가 적혀있다. 사용자가입력한 문자열을 전화기의 숫자키로 변환하는 프로그램을 작성해보자."
   ]
  },
  {
   "cell_type": "code",
   "execution_count": 2,
   "metadata": {},
   "outputs": [
    {
     "name": "stdout",
     "output_type": "stream",
     "text": [
      "686237\n"
     ]
    }
   ],
   "source": [
    "user_input = input(\"문자열을 입력하시오: \")\n",
    "\n",
    "def switch(user_input):\n",
    "    comb = \"\"\n",
    "    \n",
    "    for i in range(len(user_input)):\n",
    "        if user_input[i] in ['A','B','C'] :\n",
    "            comb += '2'\n",
    "        elif user_input[i] in ['D','E','F']:\n",
    "            comb += '3'\n",
    "        elif user_input[i] in ['G','H','I']:\n",
    "            comb += '4'\n",
    "        elif user_input[i] in ['J','K','L']:\n",
    "            comb += '5'\n",
    "        elif user_input[i] in ['M','N','O']:\n",
    "            comb += '6'\n",
    "        elif user_input[i] in ['P','Q','R','S']:\n",
    "            comb += '7'\n",
    "        elif user_input[i] in ['T','U','V']:\n",
    "            comb += '8'\n",
    "        elif user_input[i] in ['W','X','Y','Z']:\n",
    "            comb += '9'\n",
    "            \n",
    "    return comb\n",
    "            \n",
    "print(switch(user_input))"
   ]
  },
  {
   "cell_type": "code",
   "execution_count": null,
   "metadata": {},
   "outputs": [],
   "source": []
  },
  {
   "cell_type": "code",
   "execution_count": null,
   "metadata": {},
   "outputs": [],
   "source": []
  },
  {
   "cell_type": "code",
   "execution_count": null,
   "metadata": {},
   "outputs": [],
   "source": []
  },
  {
   "cell_type": "code",
   "execution_count": null,
   "metadata": {},
   "outputs": [],
   "source": []
  },
  {
   "cell_type": "code",
   "execution_count": null,
   "metadata": {},
   "outputs": [],
   "source": []
  },
  {
   "cell_type": "code",
   "execution_count": null,
   "metadata": {},
   "outputs": [],
   "source": []
  },
  {
   "cell_type": "code",
   "execution_count": null,
   "metadata": {},
   "outputs": [],
   "source": []
  }
 ],
 "metadata": {
  "kernelspec": {
   "display_name": "Python 3",
   "language": "python",
   "name": "python3"
  },
  "language_info": {
   "codemirror_mode": {
    "name": "ipython",
    "version": 3
   },
   "file_extension": ".py",
   "mimetype": "text/x-python",
   "name": "python",
   "nbconvert_exporter": "python",
   "pygments_lexer": "ipython3",
   "version": "3.7.3"
  }
 },
 "nbformat": 4,
 "nbformat_minor": 2
}
