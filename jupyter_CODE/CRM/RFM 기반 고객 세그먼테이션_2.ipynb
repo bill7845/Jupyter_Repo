{
 "cells": [
  {
   "cell_type": "markdown",
   "metadata": {},
   "source": [
    "# Recency,Frequency,Monetary 에 따른 고객 세분화 & 클러스터링 \n",
    "<hr>\n",
    "\n",
    "<br>\n",
    "\n",
    "### 개요\n",
    "> RFM, 즉 구매횟수,금액,빈도등의 일정 기준에 맞추어 고객을 세분화하고 비지도적 방법인 클러스터링 기법을 통해 새로운 고객그룹을 찾아낸다.\n",
    "\n",
    "<br>\n",
    "\n",
    "### RFM?\n",
    "> RFM이란 아래와 같다.\n",
    "- Recency(가장 최근 구입 일에서 오늘까지의 시간)\n",
    "- Frequency(상품 구매 횟수)\n",
    "- Monetary(총 구매 금액) <br>\n",
    "\n",
    "> 기업의 입장에서, 현재 자사의 주요 고객층과 잠재적 고객층 등의 고객 분류 작업은 굉장히 중요한 일이다. 적절한 기준에 의해 분류된 고객 그룹들에 대해서 그룹별 Target마케팅을 시도할 수 있으며, 이는 마케팅 효과의 극대화를 이루어낼 수 있다.\n",
    "\n",
    "<br>\n",
    "\n",
    "### Segmentation VS Clustering\n",
    "> 고객 세분화와 군집화는 서로 다른개념이다. 세분화의 경우 마케터가 정한 일정한 '기준'에의한 유사성을 기반으로 고객들을 분류하는것을 의미하며, 군집화는 미리 세워진 기준에 의해 이루어지는것이 아닌, 통계적 방법에 의해 이루어지므로 \n",
    "\n",
    "<br>\n",
    "\n",
    "### Data\n",
    "> 고객 분류하는 요소는 여러 가지가 있다. 지역/결혼 여부/성별/소득과 같은 개인 신상정보에서 부터 고객의 구매이력/선호채널 등의 정보를 활용하여 분류할 수 있다. 기업의 입장에서 더 중요한 분류 요소는 고객이 어떤 상품을 얼마나 많은 비용을 써서 얼마나 자주 사용하는가에 기반한 정보일 것이다. 따라서 여기서는, 고객의 상품 구매이력을 나타내는 RFM데이터에 기반하여 고객분류 및 마케팅 최적화를 진행한다.\n",
    "RFM 분석을 위해 필요한 데이터는 아래와 같다.\n",
    "- 식별 또는 비 식별 고객ID\n",
    "- 구매 일자\n",
    "- 구매 횟수\n",
    "- 구매 금액"
   ]
  },
  {
   "cell_type": "markdown",
   "metadata": {},
   "source": [
    "### <목차>\n",
    "\n",
    "1. Data Load & Library import\n",
    "2. Data Check <br>\n",
    "    2.1 수치형 변수 탐색 <br>\n",
    "    2.2 1차 데이터 정제 후 데이터 탐색 <br>\n",
    "    2.3 고객 출신 국가 탐색\n",
    "3. RFM 기반 데이터 Handling <br>\n",
    "    3.1 R,F,M 분포 탐색 <br>\n",
    "    3.2 R,F,M Grouping <br>\n",
    "    3.3 고객 세그먼테이션\n",
    "4. 클러스터링을 통한 고객군 탐색"
   ]
  },
  {
   "cell_type": "markdown",
   "metadata": {},
   "source": [
    "#### 1. Data & Library Load"
   ]
  },
  {
   "cell_type": "code",
   "execution_count": 2,
   "metadata": {},
   "outputs": [],
   "source": [
    "import pandas as pd\n",
    "import numpy as np\n",
    "\n",
    "import matplotlib.pyplot as plt\n",
    "import seaborn as sns\n",
    "import squarify\n",
    "\n",
    "import warnings\n",
    "warnings.filterwarnings(\"ignore\",category=RuntimeWarning)\n",
    "\n",
    "sns.set()\n",
    "%matplotlib inline\n",
    "\n",
    "from matplotlib import font_manager, rc\n",
    "import matplotlib\n",
    "#한글 폰트 등록\n",
    "font_location = \"c:/Windows/fonts/malgun.ttf\"\n",
    "font_name = font_manager.FontProperties(fname=font_location).get_name()\n",
    "matplotlib.rc('font', family=font_name)\n",
    "\n",
    "# 원본 데이터 저장\n",
    "df_ori = pd.read_excel(io='C:/Users/KIHyuk/Desktop/dacon_data/CRM/UCI_Online_Retail/Online Retail.xlsx')\n",
    "\n",
    "# 복사본으로 진행\n",
    "df = df_ori.copy()"
   ]
  },
  {
   "cell_type": "markdown",
   "metadata": {},
   "source": [
    "#### 2. 데이터 체크"
   ]
  },
  {
   "cell_type": "code",
   "execution_count": 1,
   "metadata": {},
   "outputs": [
    {
     "ename": "NameError",
     "evalue": "name 'df' is not defined",
     "output_type": "error",
     "traceback": [
      "\u001b[1;31m---------------------------------------------------------------------------\u001b[0m",
      "\u001b[1;31mNameError\u001b[0m                                 Traceback (most recent call last)",
      "\u001b[1;32m<ipython-input-1-efcef735ebf7>\u001b[0m in \u001b[0;36m<module>\u001b[1;34m\u001b[0m\n\u001b[1;32m----> 1\u001b[1;33m \u001b[0mprint\u001b[0m\u001b[1;33m(\u001b[0m\u001b[1;34m\"전체 row 수: \"\u001b[0m\u001b[1;33m,\u001b[0m\u001b[0mdf\u001b[0m\u001b[1;33m.\u001b[0m\u001b[0mshape\u001b[0m\u001b[1;33m[\u001b[0m\u001b[1;36m0\u001b[0m\u001b[1;33m]\u001b[0m\u001b[1;33m)\u001b[0m\u001b[1;33m\u001b[0m\u001b[1;33m\u001b[0m\u001b[0m\n\u001b[0m\u001b[0;32m      2\u001b[0m \u001b[0mprint\u001b[0m\u001b[1;33m(\u001b[0m\u001b[1;34m\"전체 column 수: \"\u001b[0m\u001b[1;33m,\u001b[0m\u001b[0mdf\u001b[0m\u001b[1;33m.\u001b[0m\u001b[0mshape\u001b[0m\u001b[1;33m[\u001b[0m\u001b[1;36m1\u001b[0m\u001b[1;33m]\u001b[0m\u001b[1;33m)\u001b[0m\u001b[1;33m\u001b[0m\u001b[1;33m\u001b[0m\u001b[0m\n\u001b[0;32m      3\u001b[0m \u001b[0mdf\u001b[0m\u001b[1;33m.\u001b[0m\u001b[0mhead\u001b[0m\u001b[1;33m(\u001b[0m\u001b[1;36m3\u001b[0m\u001b[1;33m)\u001b[0m\u001b[1;33m\u001b[0m\u001b[1;33m\u001b[0m\u001b[0m\n",
      "\u001b[1;31mNameError\u001b[0m: name 'df' is not defined"
     ]
    }
   ],
   "source": [
    "print(\"전체 row 수: \",df.shape[0])\n",
    "print(\"전체 column 수: \",df.shape[1])\n",
    "df.head(3)"
   ]
  },
  {
   "cell_type": "code",
   "execution_count": 6,
   "metadata": {},
   "outputs": [
    {
     "name": "stdout",
     "output_type": "stream",
     "text": [
      "<class 'pandas.core.frame.DataFrame'>\n",
      "RangeIndex: 541909 entries, 0 to 541908\n",
      "Data columns (total 8 columns):\n",
      "InvoiceNo      541909 non-null object\n",
      "StockCode      541909 non-null object\n",
      "Description    540455 non-null object\n",
      "Quantity       541909 non-null int64\n",
      "InvoiceDate    541909 non-null datetime64[ns]\n",
      "UnitPrice      541909 non-null float64\n",
      "CustomerID     406829 non-null float64\n",
      "Country        541909 non-null object\n",
      "dtypes: datetime64[ns](1), float64(2), int64(1), object(4)\n",
      "memory usage: 33.1+ MB\n"
     ]
    }
   ],
   "source": [
    "df.info()\n",
    "\n",
    "print(\"Customer ID 결측치 : \",df['CustomerID'].isnull().sum())"
   ]
  },
  {
   "cell_type": "markdown",
   "metadata": {},
   "source": [
    "<br>\n",
    "\n",
    "총 541909개의 row와 8개의 컬럼으로 구성되어 있다. 컬럼별 결측값 또한 다수 존재한다. 그 중 CustomerID의 경우 결측값을 채워넣을 방법이 없기 때문에 결측행의 경우 삭제한다. \n",
    "\n",
    "<br>\n"
   ]
  },
  {
   "cell_type": "code",
   "execution_count": 8,
   "metadata": {},
   "outputs": [],
   "source": [
    "# 결측값을 가진 CustomerID 제외\n",
    "df = df[df['CustomerID'].notnull()]"
   ]
  },
  {
   "cell_type": "markdown",
   "metadata": {},
   "source": [
    "#### 수치형 변수에 대한 체크"
   ]
  },
  {
   "cell_type": "code",
   "execution_count": 9,
   "metadata": {},
   "outputs": [
    {
     "name": "stdout",
     "output_type": "stream",
     "text": [
      "count    406829.000000\n",
      "mean         12.061303\n",
      "std         248.693370\n",
      "min      -80995.000000\n",
      "25%           2.000000\n",
      "50%           5.000000\n",
      "75%          12.000000\n",
      "max       80995.000000\n",
      "Name: Quantity, dtype: float64\n",
      "#####################\n",
      "count    406829.000000\n",
      "mean          3.460471\n",
      "std          69.315162\n",
      "min           0.000000\n",
      "25%           1.250000\n",
      "50%           1.950000\n",
      "75%           3.750000\n",
      "max       38970.000000\n",
      "Name: UnitPrice, dtype: float64\n"
     ]
    }
   ],
   "source": [
    "print(df['Quantity'].describe())\n",
    "print(\"#####################\")\n",
    "print(df['UnitPrice'].describe())"
   ]
  },
  {
   "cell_type": "markdown",
   "metadata": {},
   "source": [
    "<br>\n",
    "\n",
    "전체 정보 중 수치형 정보를 나타내는 \"Quantity\"와 \"UnitPrice\"를 살펴보면, -값이 존재하는것을 확인할 수 있다. 이는 취소 거래를 나타내는것으로 보이며 분석의 효율성을 위해 -값을 제거한 후 진행한다.\n",
    "\n",
    "<br>"
   ]
  },
  {
   "cell_type": "code",
   "execution_count": 10,
   "metadata": {},
   "outputs": [],
   "source": [
    "# Quantity, UnitPrice -값 제외\n",
    "df = df[df['Quantity'] > 0]\n",
    "df = df[df['UnitPrice'] > 0]"
   ]
  },
  {
   "cell_type": "markdown",
   "metadata": {},
   "source": [
    "#### 1차 데이터 정제 후 데이터 체크"
   ]
  },
  {
   "cell_type": "code",
   "execution_count": 11,
   "metadata": {},
   "outputs": [
    {
     "name": "stdout",
     "output_type": "stream",
     "text": [
      "(397884, 8)\n",
      "############\n",
      "InvoiceNo      0\n",
      "StockCode      0\n",
      "Description    0\n",
      "Quantity       0\n",
      "InvoiceDate    0\n",
      "UnitPrice      0\n",
      "CustomerID     0\n",
      "Country        0\n",
      "dtype: int64\n"
     ]
    },
    {
     "data": {
      "text/html": [
       "<div>\n",
       "<style scoped>\n",
       "    .dataframe tbody tr th:only-of-type {\n",
       "        vertical-align: middle;\n",
       "    }\n",
       "\n",
       "    .dataframe tbody tr th {\n",
       "        vertical-align: top;\n",
       "    }\n",
       "\n",
       "    .dataframe thead th {\n",
       "        text-align: right;\n",
       "    }\n",
       "</style>\n",
       "<table border=\"1\" class=\"dataframe\">\n",
       "  <thead>\n",
       "    <tr style=\"text-align: right;\">\n",
       "      <th></th>\n",
       "      <th>InvoiceNo</th>\n",
       "      <th>StockCode</th>\n",
       "      <th>Description</th>\n",
       "      <th>Quantity</th>\n",
       "      <th>InvoiceDate</th>\n",
       "      <th>UnitPrice</th>\n",
       "      <th>CustomerID</th>\n",
       "      <th>Country</th>\n",
       "    </tr>\n",
       "  </thead>\n",
       "  <tbody>\n",
       "    <tr>\n",
       "      <td>0</td>\n",
       "      <td>536365</td>\n",
       "      <td>85123A</td>\n",
       "      <td>WHITE HANGING HEART T-LIGHT HOLDER</td>\n",
       "      <td>6</td>\n",
       "      <td>2010-12-01 08:26:00</td>\n",
       "      <td>2.55</td>\n",
       "      <td>17850.0</td>\n",
       "      <td>United Kingdom</td>\n",
       "    </tr>\n",
       "    <tr>\n",
       "      <td>1</td>\n",
       "      <td>536365</td>\n",
       "      <td>71053</td>\n",
       "      <td>WHITE METAL LANTERN</td>\n",
       "      <td>6</td>\n",
       "      <td>2010-12-01 08:26:00</td>\n",
       "      <td>3.39</td>\n",
       "      <td>17850.0</td>\n",
       "      <td>United Kingdom</td>\n",
       "    </tr>\n",
       "    <tr>\n",
       "      <td>2</td>\n",
       "      <td>536365</td>\n",
       "      <td>84406B</td>\n",
       "      <td>CREAM CUPID HEARTS COAT HANGER</td>\n",
       "      <td>8</td>\n",
       "      <td>2010-12-01 08:26:00</td>\n",
       "      <td>2.75</td>\n",
       "      <td>17850.0</td>\n",
       "      <td>United Kingdom</td>\n",
       "    </tr>\n",
       "  </tbody>\n",
       "</table>\n",
       "</div>"
      ],
      "text/plain": [
       "  InvoiceNo StockCode                         Description  Quantity  \\\n",
       "0    536365    85123A  WHITE HANGING HEART T-LIGHT HOLDER         6   \n",
       "1    536365     71053                 WHITE METAL LANTERN         6   \n",
       "2    536365    84406B      CREAM CUPID HEARTS COAT HANGER         8   \n",
       "\n",
       "          InvoiceDate  UnitPrice  CustomerID         Country  \n",
       "0 2010-12-01 08:26:00       2.55     17850.0  United Kingdom  \n",
       "1 2010-12-01 08:26:00       3.39     17850.0  United Kingdom  \n",
       "2 2010-12-01 08:26:00       2.75     17850.0  United Kingdom  "
      ]
     },
     "execution_count": 11,
     "metadata": {},
     "output_type": "execute_result"
    }
   ],
   "source": [
    "print(df.shape)\n",
    "print(\"############\")\n",
    "print(df.isnull().sum())\n",
    "df.head(3)"
   ]
  },
  {
   "cell_type": "markdown",
   "metadata": {},
   "source": [
    "<br>\n",
    "\n",
    "1차 데이터 정제 후 데이터 row수가 541909에서 397884로 줄었음을 확인할 수 있으며 모든 컬럼에서 결측값이 제거되었다.\n",
    "\n",
    "<br>"
   ]
  },
  {
   "cell_type": "markdown",
   "metadata": {},
   "source": [
    "#### 고객의 출신국가 정보 체크"
   ]
  },
  {
   "cell_type": "code",
   "execution_count": 12,
   "metadata": {},
   "outputs": [
    {
     "name": "stdout",
     "output_type": "stream",
     "text": [
      "전체 국가 수 :  37\n"
     ]
    },
    {
     "data": {
      "text/plain": [
       "United Kingdom    354321\n",
       "Germany             9040\n",
       "France              8341\n",
       "EIRE                7236\n",
       "Spain               2484\n",
       "Netherlands         2359\n",
       "Belgium             2031\n",
       "Switzerland         1841\n",
       "Portugal            1462\n",
       "Australia           1182\n",
       "Name: Country, dtype: int64"
      ]
     },
     "execution_count": 12,
     "metadata": {},
     "output_type": "execute_result"
    }
   ],
   "source": [
    "print(\"전체 국가 수 : \",df['Country'].nunique())\n",
    "df['Country'].value_counts()[:10]"
   ]
  },
  {
   "cell_type": "markdown",
   "metadata": {},
   "source": [
    "<br> \n",
    "\n",
    "고객 정보 중, 전체 37개국의 고객이 존재하며, 이 중 영국출신의 고객이 대부분을 차지하는것을 확인할 수 있다. 영국 출신의 고객들을 sampling하여 진행한다.\n",
    "\n",
    "<br>"
   ]
  },
  {
   "cell_type": "code",
   "execution_count": 13,
   "metadata": {},
   "outputs": [],
   "source": [
    "# United Kingdom출신 고객 추출\n",
    "df = df[df['Country'] == 'United Kingdom']"
   ]
  },
  {
   "cell_type": "markdown",
   "metadata": {},
   "source": [
    "#### RFM 기반의 데이터 가공"
   ]
  },
  {
   "cell_type": "markdown",
   "metadata": {},
   "source": [
    "1차 cleansing을 마친 데이터를 RFM의 정보를 담는 데이터로 변환한다"
   ]
  },
  {
   "cell_type": "code",
   "execution_count": 14,
   "metadata": {},
   "outputs": [],
   "source": [
    "# 총 결제금액 정보를 담는 'sale_amount' 컬럼을 추가\n",
    "df['sale_amount'] = df['Quantity'] * df['UnitPrice']"
   ]
  },
  {
   "cell_type": "code",
   "execution_count": 15,
   "metadata": {},
   "outputs": [
    {
     "data": {
      "text/html": [
       "<div>\n",
       "<style scoped>\n",
       "    .dataframe tbody tr th:only-of-type {\n",
       "        vertical-align: middle;\n",
       "    }\n",
       "\n",
       "    .dataframe tbody tr th {\n",
       "        vertical-align: top;\n",
       "    }\n",
       "\n",
       "    .dataframe thead th {\n",
       "        text-align: right;\n",
       "    }\n",
       "</style>\n",
       "<table border=\"1\" class=\"dataframe\">\n",
       "  <thead>\n",
       "    <tr style=\"text-align: right;\">\n",
       "      <th></th>\n",
       "      <th>CustomerID</th>\n",
       "      <th>Recency</th>\n",
       "      <th>Frequency</th>\n",
       "      <th>Monetary</th>\n",
       "    </tr>\n",
       "  </thead>\n",
       "  <tbody>\n",
       "    <tr>\n",
       "      <td>0</td>\n",
       "      <td>12346.0</td>\n",
       "      <td>2011-01-18 10:01:00</td>\n",
       "      <td>1</td>\n",
       "      <td>77183.60</td>\n",
       "    </tr>\n",
       "    <tr>\n",
       "      <td>1</td>\n",
       "      <td>12747.0</td>\n",
       "      <td>2011-12-07 14:34:00</td>\n",
       "      <td>103</td>\n",
       "      <td>4196.01</td>\n",
       "    </tr>\n",
       "    <tr>\n",
       "      <td>2</td>\n",
       "      <td>12748.0</td>\n",
       "      <td>2011-12-09 12:20:00</td>\n",
       "      <td>4595</td>\n",
       "      <td>33719.73</td>\n",
       "    </tr>\n",
       "  </tbody>\n",
       "</table>\n",
       "</div>"
      ],
      "text/plain": [
       "   CustomerID             Recency  Frequency  Monetary\n",
       "0     12346.0 2011-01-18 10:01:00          1  77183.60\n",
       "1     12747.0 2011-12-07 14:34:00        103   4196.01\n",
       "2     12748.0 2011-12-09 12:20:00       4595  33719.73"
      ]
     },
     "execution_count": 15,
     "metadata": {},
     "output_type": "execute_result"
    }
   ],
   "source": [
    "# 개별 고객 기준데이터로 변경\n",
    "\n",
    "aggregations = {\n",
    "    \"InvoiceDate\" : 'max', # 고객별 가장 최근 구매일\n",
    "    \"InvoiceNo\" : 'count', # 고객별 구매 횟수 \n",
    "    \"sale_amount\" : \"sum\" # 고객별 구매합계\n",
    "}\n",
    "\n",
    "cust_df = df.groupby('CustomerID').agg(aggregations)\n",
    "\n",
    "cust_df = cust_df.rename(columns={'InvoiceDate':'Recency', \n",
    "                                 'InvoiceNo':'Frequency',  \n",
    "                                 'sale_amount':'Monetary' \n",
    "                                 }\n",
    "                        )\n",
    "\n",
    "cust_df = cust_df.reset_index()\n",
    "cust_df.head(3)"
   ]
  },
  {
   "cell_type": "markdown",
   "metadata": {},
   "source": [
    "<br>\n",
    "\n",
    "2가지의 처리를 더 해주어야 한다. <br>\n",
    "1. float형식인 CustomerID를 object형식으로 변환한다\n",
    "2. Recency 데이터의 경우 가장 최근 구입 일에서 오늘까지의 시간을 의미함으로, 이에 맞추어 추가적인 변환을 진행한다.\n",
    "\n",
    "<br>"
   ]
  },
  {
   "cell_type": "code",
   "execution_count": 16,
   "metadata": {},
   "outputs": [
    {
     "data": {
      "text/html": [
       "<div>\n",
       "<style scoped>\n",
       "    .dataframe tbody tr th:only-of-type {\n",
       "        vertical-align: middle;\n",
       "    }\n",
       "\n",
       "    .dataframe tbody tr th {\n",
       "        vertical-align: top;\n",
       "    }\n",
       "\n",
       "    .dataframe thead th {\n",
       "        text-align: right;\n",
       "    }\n",
       "</style>\n",
       "<table border=\"1\" class=\"dataframe\">\n",
       "  <thead>\n",
       "    <tr style=\"text-align: right;\">\n",
       "      <th></th>\n",
       "      <th>CustomerID</th>\n",
       "      <th>Recency</th>\n",
       "      <th>Frequency</th>\n",
       "      <th>Monetary</th>\n",
       "    </tr>\n",
       "  </thead>\n",
       "  <tbody>\n",
       "    <tr>\n",
       "      <td>0</td>\n",
       "      <td>12346</td>\n",
       "      <td>326</td>\n",
       "      <td>1</td>\n",
       "      <td>77183.60</td>\n",
       "    </tr>\n",
       "    <tr>\n",
       "      <td>1</td>\n",
       "      <td>12747</td>\n",
       "      <td>3</td>\n",
       "      <td>103</td>\n",
       "      <td>4196.01</td>\n",
       "    </tr>\n",
       "    <tr>\n",
       "      <td>2</td>\n",
       "      <td>12748</td>\n",
       "      <td>1</td>\n",
       "      <td>4595</td>\n",
       "      <td>33719.73</td>\n",
       "    </tr>\n",
       "  </tbody>\n",
       "</table>\n",
       "</div>"
      ],
      "text/plain": [
       "  CustomerID  Recency  Frequency  Monetary\n",
       "0      12346      326          1  77183.60\n",
       "1      12747        3        103   4196.01\n",
       "2      12748        1       4595  33719.73"
      ]
     },
     "execution_count": 16,
     "metadata": {},
     "output_type": "execute_result"
    }
   ],
   "source": [
    "# CustomerID flot -> object\n",
    "cust_df['CustomerID'] = cust_df['CustomerID'].astype('object')\n",
    "\n",
    "# to Recency\n",
    "import datetime as dt\n",
    "\n",
    "cust_df['Recency'] = dt.datetime(2011,12,10) - cust_df['Recency'] \n",
    "cust_df['Recency'] = cust_df['Recency'].apply(lambda x:x.days+1)\n",
    "\n",
    "cust_df.head(3)"
   ]
  },
  {
   "cell_type": "markdown",
   "metadata": {},
   "source": [
    "<br>\n",
    "\n",
    "각 고객Id(식별키)별로 Recency,Frequency,Monetary의 정보를 담는 데이터로 변환이 완료되었다.\n",
    "\n",
    "<br>"
   ]
  },
  {
   "cell_type": "markdown",
   "metadata": {},
   "source": [
    "#### Recency, Frequency, Monetary 분포 체크"
   ]
  },
  {
   "cell_type": "code",
   "execution_count": 17,
   "metadata": {},
   "outputs": [
    {
     "name": "stdout",
     "output_type": "stream",
     "text": [
      "           Recency    Frequency       Monetary\n",
      "count  3920.000000  3920.000000    3920.000000\n",
      "mean     92.742092    90.388010    1864.385601\n",
      "std      99.533485   217.808385    7482.817477\n",
      "min       1.000000     1.000000       3.750000\n",
      "25%      18.000000    17.000000     300.280000\n",
      "50%      51.000000    41.000000     652.280000\n",
      "75%     143.000000    99.250000    1576.585000\n",
      "max     374.000000  7847.000000  259657.300000\n"
     ]
    },
    {
     "data": {
      "image/png": "[encoded data removed]",
      "text/plain": [
       "<Figure size 864x288 with 3 Axes>"
      ]
     },
     "metadata": {
      "needs_background": "light"
     },
     "output_type": "display_data"
    }
   ],
   "source": [
    "fig, (ax1,ax2,ax3) = plt.subplots(figsize=(12,4),nrows=1,ncols=3)\n",
    "ax1.set_title('Recency 분포')\n",
    "ax1.hist(cust_df['Recency'])\n",
    "\n",
    "ax2.set_title('Frequency 분포')\n",
    "ax2.hist(cust_df['Frequency'])\n",
    "\n",
    "ax3.set_title('Monetary 분포')\n",
    "ax3.hist(cust_df['Monetary'])\n",
    "\n",
    "print(cust_df[['Recency','Frequency','Monetary']].describe())"
   ]
  },
  {
   "cell_type": "markdown",
   "metadata": {},
   "source": [
    "<br>\n",
    "\n",
    "R,F,M별로 데이터 분포도 확인결과, 모든 데이터에서 특정 범위에 값이 몰려있는 데이터 왜곡 정도가 매우 심함을 알 수 있다. 이는, 클러스터링 등의 머신러닝 기법을 적용할 경우 결과 왜곡을 발생시킬 가능성이 높으므로 적절한 전처리를 필요로 한다.\n",
    "\n",
    "<br>"
   ]
  },
  {
   "cell_type": "markdown",
   "metadata": {},
   "source": [
    "#### R,F,M Grouping"
   ]
  },
  {
   "cell_type": "markdown",
   "metadata": {},
   "source": [
    "<br> \n",
    "\n",
    "R,F,M을 각각 전체 4개의 등급으로 분할하여 Grouping을 진행하며 RFM 전체의 등급을 알수있는 RFM_segment 정보를 추가한다.\n",
    "\n",
    "<br>"
   ]
  },
  {
   "cell_type": "code",
   "execution_count": 18,
   "metadata": {},
   "outputs": [
    {
     "name": "stdout",
     "output_type": "stream",
     "text": [
      "등급 개수 :  61\n",
      "###############\n"
     ]
    },
    {
     "data": {
      "text/html": [
       "<div>\n",
       "<style scoped>\n",
       "    .dataframe tbody tr th:only-of-type {\n",
       "        vertical-align: middle;\n",
       "    }\n",
       "\n",
       "    .dataframe tbody tr th {\n",
       "        vertical-align: top;\n",
       "    }\n",
       "\n",
       "    .dataframe thead th {\n",
       "        text-align: right;\n",
       "    }\n",
       "</style>\n",
       "<table border=\"1\" class=\"dataframe\">\n",
       "  <thead>\n",
       "    <tr style=\"text-align: right;\">\n",
       "      <th></th>\n",
       "      <th>CustomerID</th>\n",
       "      <th>Recency</th>\n",
       "      <th>Frequency</th>\n",
       "      <th>Monetary</th>\n",
       "      <th>R</th>\n",
       "      <th>F</th>\n",
       "      <th>M</th>\n",
       "      <th>RFM_segment</th>\n",
       "    </tr>\n",
       "  </thead>\n",
       "  <tbody>\n",
       "    <tr>\n",
       "      <td>0</td>\n",
       "      <td>12346</td>\n",
       "      <td>326</td>\n",
       "      <td>1</td>\n",
       "      <td>77183.60</td>\n",
       "      <td>1</td>\n",
       "      <td>1</td>\n",
       "      <td>4</td>\n",
       "      <td>114</td>\n",
       "    </tr>\n",
       "    <tr>\n",
       "      <td>1</td>\n",
       "      <td>12747</td>\n",
       "      <td>3</td>\n",
       "      <td>103</td>\n",
       "      <td>4196.01</td>\n",
       "      <td>4</td>\n",
       "      <td>4</td>\n",
       "      <td>4</td>\n",
       "      <td>444</td>\n",
       "    </tr>\n",
       "    <tr>\n",
       "      <td>2</td>\n",
       "      <td>12748</td>\n",
       "      <td>1</td>\n",
       "      <td>4595</td>\n",
       "      <td>33719.73</td>\n",
       "      <td>4</td>\n",
       "      <td>4</td>\n",
       "      <td>4</td>\n",
       "      <td>444</td>\n",
       "    </tr>\n",
       "  </tbody>\n",
       "</table>\n",
       "</div>"
      ],
      "text/plain": [
       "  CustomerID  Recency  Frequency  Monetary  R  F  M RFM_segment\n",
       "0      12346      326          1  77183.60  1  1  4         114\n",
       "1      12747        3        103   4196.01  4  4  4         444\n",
       "2      12748        1       4595  33719.73  4  4  4         444"
      ]
     },
     "execution_count": 18,
     "metadata": {},
     "output_type": "execute_result"
    }
   ],
   "source": [
    "# R , F , M grouping\n",
    "\n",
    "R_labels = range(4,0,-1)\n",
    "F_labels = range(1,5)\n",
    "M_labels = range(1,5)\n",
    "\n",
    "R_groups = pd.qcut(cust_df['Recency'], q=4, labels=R_labels)\n",
    "F_groups = pd.qcut(cust_df['Frequency'], q=4, labels=F_labels)\n",
    "M_groups = pd.qcut(cust_df['Monetary'], q=4, labels=M_labels)\n",
    "\n",
    "cust_df = cust_df.assign(R=R_groups.values, F=F_groups.values, M=M_groups.values)\n",
    "\n",
    "# join R,F,M => RFM\n",
    "def join_rfm(x): return str(x['R']) + str(x['F']) + str(x['M'])\n",
    "\n",
    "cust_df['RFM_segment'] = cust_df.apply(join_rfm,axis=1)\n",
    "\n",
    "# 61개의 등급\n",
    "print(\"등급 개수 : \",cust_df['RFM_segment'].nunique())\n",
    "print(\"###############\")\n",
    "cust_df.head(3)"
   ]
  },
  {
   "cell_type": "markdown",
   "metadata": {},
   "source": [
    "<br>\n",
    "\n",
    "RFM_segment의 정보를 보면, 총 61개의 등급으로 이루어져있는것을 확인할 수 있다. 이 정보를 바탕으로 \"최우수\",\"우수\",\"충성\",\"잠재\",\"유망\",\"활성화 필요\" 총 7가지의 등급으로 변환한다. \n",
    "\n",
    "<br>"
   ]
  },
  {
   "cell_type": "code",
   "execution_count": 19,
   "metadata": {},
   "outputs": [
    {
     "data": {
      "text/html": [
       "<div>\n",
       "<style scoped>\n",
       "    .dataframe tbody tr th:only-of-type {\n",
       "        vertical-align: middle;\n",
       "    }\n",
       "\n",
       "    .dataframe tbody tr th {\n",
       "        vertical-align: top;\n",
       "    }\n",
       "\n",
       "    .dataframe thead th {\n",
       "        text-align: right;\n",
       "    }\n",
       "</style>\n",
       "<table border=\"1\" class=\"dataframe\">\n",
       "  <thead>\n",
       "    <tr style=\"text-align: right;\">\n",
       "      <th></th>\n",
       "      <th>CustomerID</th>\n",
       "      <th>Recency</th>\n",
       "      <th>Frequency</th>\n",
       "      <th>Monetary</th>\n",
       "      <th>R</th>\n",
       "      <th>F</th>\n",
       "      <th>M</th>\n",
       "      <th>RFM_segment</th>\n",
       "      <th>RFM_score</th>\n",
       "      <th>RFM_level</th>\n",
       "    </tr>\n",
       "  </thead>\n",
       "  <tbody>\n",
       "    <tr>\n",
       "      <td>0</td>\n",
       "      <td>12346</td>\n",
       "      <td>326</td>\n",
       "      <td>1</td>\n",
       "      <td>77183.60</td>\n",
       "      <td>1</td>\n",
       "      <td>1</td>\n",
       "      <td>4</td>\n",
       "      <td>114</td>\n",
       "      <td>6.0</td>\n",
       "      <td>충성</td>\n",
       "    </tr>\n",
       "    <tr>\n",
       "      <td>1</td>\n",
       "      <td>12747</td>\n",
       "      <td>3</td>\n",
       "      <td>103</td>\n",
       "      <td>4196.01</td>\n",
       "      <td>4</td>\n",
       "      <td>4</td>\n",
       "      <td>4</td>\n",
       "      <td>444</td>\n",
       "      <td>12.0</td>\n",
       "      <td>특급</td>\n",
       "    </tr>\n",
       "    <tr>\n",
       "      <td>2</td>\n",
       "      <td>12748</td>\n",
       "      <td>1</td>\n",
       "      <td>4595</td>\n",
       "      <td>33719.73</td>\n",
       "      <td>4</td>\n",
       "      <td>4</td>\n",
       "      <td>4</td>\n",
       "      <td>444</td>\n",
       "      <td>12.0</td>\n",
       "      <td>특급</td>\n",
       "    </tr>\n",
       "  </tbody>\n",
       "</table>\n",
       "</div>"
      ],
      "text/plain": [
       "  CustomerID  Recency  Frequency  Monetary  R  F  M RFM_segment  RFM_score  \\\n",
       "0      12346      326          1  77183.60  1  1  4         114        6.0   \n",
       "1      12747        3        103   4196.01  4  4  4         444       12.0   \n",
       "2      12748        1       4595  33719.73  4  4  4         444       12.0   \n",
       "\n",
       "  RFM_level  \n",
       "0        충성  \n",
       "1        특급  \n",
       "2        특급  "
      ]
     },
     "execution_count": 19,
     "metadata": {},
     "output_type": "execute_result"
    }
   ],
   "source": [
    "# 등급 간소화\n",
    "\n",
    "cust_df['RFM_score'] = cust_df[['R','F','M']].sum(axis=1)\n",
    "\n",
    "def rfm_grouping(df):\n",
    "    if df['RFM_score'] >= 9 : return '특급'\n",
    "    elif (df['RFM_score'] >= 8) and (df['RFM_score'] < 9) : return \"최우수\"\n",
    "    elif (df['RFM_score'] >= 7) and (df['RFM_score'] < 8) : return \"우수\"\n",
    "    elif (df['RFM_score'] >= 6) and (df['RFM_score'] < 7) : return \"충성\"\n",
    "    elif (df['RFM_score'] >= 5) and (df['RFM_score'] < 6) : return \"잠재\"\n",
    "    elif (df['RFM_score'] >= 4) and (df['RFM_score'] < 5) : return \"유망\"\n",
    "    else : return \"활성화 필요\"\n",
    "    \n",
    "cust_df['RFM_level'] = cust_df.apply(rfm_grouping,axis=1)\n",
    "\n",
    "cust_df.head(3)"
   ]
  },
  {
   "cell_type": "markdown",
   "metadata": {},
   "source": [
    "<br>\n",
    "\n",
    "고객 등급별 통계량을 살펴보고 시각화를 통해 주요 고객군을 파악할 수 있다.\n",
    "\n",
    "<br>"
   ]
  },
  {
   "cell_type": "code",
   "execution_count": 20,
   "metadata": {},
   "outputs": [
    {
     "data": {
      "text/html": [
       "<div>\n",
       "<style scoped>\n",
       "    .dataframe tbody tr th:only-of-type {\n",
       "        vertical-align: middle;\n",
       "    }\n",
       "\n",
       "    .dataframe tbody tr th {\n",
       "        vertical-align: top;\n",
       "    }\n",
       "\n",
       "    .dataframe thead tr th {\n",
       "        text-align: left;\n",
       "    }\n",
       "\n",
       "    .dataframe thead tr:last-of-type th {\n",
       "        text-align: right;\n",
       "    }\n",
       "</style>\n",
       "<table border=\"1\" class=\"dataframe\">\n",
       "  <thead>\n",
       "    <tr>\n",
       "      <th></th>\n",
       "      <th>Recency</th>\n",
       "      <th>Frequency</th>\n",
       "      <th colspan=\"2\" halign=\"left\">Monetary</th>\n",
       "    </tr>\n",
       "    <tr>\n",
       "      <th></th>\n",
       "      <th>mean</th>\n",
       "      <th>mean</th>\n",
       "      <th>mean</th>\n",
       "      <th>count</th>\n",
       "    </tr>\n",
       "    <tr>\n",
       "      <th>RFM_level</th>\n",
       "      <th></th>\n",
       "      <th></th>\n",
       "      <th></th>\n",
       "      <th></th>\n",
       "    </tr>\n",
       "  </thead>\n",
       "  <tbody>\n",
       "    <tr>\n",
       "      <td>특급</td>\n",
       "      <td>27.3</td>\n",
       "      <td>188.8</td>\n",
       "      <td>3940.5</td>\n",
       "      <td>1520</td>\n",
       "    </tr>\n",
       "    <tr>\n",
       "      <td>잠재</td>\n",
       "      <td>154.0</td>\n",
       "      <td>21.0</td>\n",
       "      <td>357.0</td>\n",
       "      <td>470</td>\n",
       "    </tr>\n",
       "    <tr>\n",
       "      <td>충성</td>\n",
       "      <td>97.7</td>\n",
       "      <td>28.4</td>\n",
       "      <td>829.5</td>\n",
       "      <td>424</td>\n",
       "    </tr>\n",
       "    <tr>\n",
       "      <td>최우수</td>\n",
       "      <td>61.5</td>\n",
       "      <td>55.4</td>\n",
       "      <td>917.1</td>\n",
       "      <td>408</td>\n",
       "    </tr>\n",
       "    <tr>\n",
       "      <td>우수</td>\n",
       "      <td>79.1</td>\n",
       "      <td>38.5</td>\n",
       "      <td>733.0</td>\n",
       "      <td>393</td>\n",
       "    </tr>\n",
       "    <tr>\n",
       "      <td>유망</td>\n",
       "      <td>175.0</td>\n",
       "      <td>13.7</td>\n",
       "      <td>234.2</td>\n",
       "      <td>362</td>\n",
       "    </tr>\n",
       "    <tr>\n",
       "      <td>활성화 필요</td>\n",
       "      <td>258.9</td>\n",
       "      <td>8.1</td>\n",
       "      <td>152.3</td>\n",
       "      <td>343</td>\n",
       "    </tr>\n",
       "  </tbody>\n",
       "</table>\n",
       "</div>"
      ],
      "text/plain": [
       "          Recency Frequency Monetary      \n",
       "             mean      mean     mean count\n",
       "RFM_level                                 \n",
       "특급           27.3     188.8   3940.5  1520\n",
       "잠재          154.0      21.0    357.0   470\n",
       "충성           97.7      28.4    829.5   424\n",
       "최우수          61.5      55.4    917.1   408\n",
       "우수           79.1      38.5    733.0   393\n",
       "유망          175.0      13.7    234.2   362\n",
       "활성화 필요      258.9       8.1    152.3   343"
      ]
     },
     "execution_count": 20,
     "metadata": {},
     "output_type": "execute_result"
    }
   ],
   "source": [
    "aggregations = {\n",
    "    \"Recency\" : 'mean', # 고객별 가장 최근 구매일\n",
    "    \"Frequency\" : 'mean', # 고객별 구매 횟수 \n",
    "    \"Monetary\" : [\"mean\",\"count\"] # 고객별 구매합계\n",
    "}\n",
    "\n",
    "# .sort_values(by='count').round(1)\n",
    "cust_df.groupby('RFM_level').agg(aggregations).sort_values(by=( 'Monetary', 'count'),ascending=False).round(1)"
   ]
  },
  {
   "cell_type": "code",
   "execution_count": 21,
   "metadata": {
    "scrolled": false
   },
   "outputs": [
    {
     "data": {
      "image/png": "[encoded data removed]",
      "text/plain": [
       "<Figure size 1152x648 with 1 Axes>"
      ]
     },
     "metadata": {
      "needs_background": "light"
     },
     "output_type": "display_data"
    }
   ],
   "source": [
    "rfm_level_agg = cust_df.groupby('RFM_level').agg({\n",
    "    'Recency': 'mean',\n",
    "    'Frequency': 'mean',\n",
    "    'Monetary': ['mean', 'count']\n",
    "}).round(1)\n",
    "\n",
    "rfm_level_agg.columns = rfm_level_agg.columns.droplevel()\n",
    "rfm_level_agg.columns = ['RecencyMean','FrequencyMean','MonetaryMean', 'Count']\n",
    "#Create our plot and resize it.\n",
    "fig = plt.gcf()\n",
    "ax = fig.add_subplot()\n",
    "fig.set_size_inches(16, 9)\n",
    "squarify.plot(sizes=rfm_level_agg['Count'], \n",
    "              label=['우수',\n",
    "                     '유망',\n",
    "                     '잠재',\n",
    "                     '최우수',\n",
    "                     '충성', \n",
    "                     '특급', \n",
    "                     '활성화 필요'], alpha=.6 )\n",
    "plt.title(\"RFM Segments\",fontsize=18,fontweight=\"bold\")\n",
    "plt.axis('off')\n",
    "plt.show()"
   ]
  },
  {
   "cell_type": "markdown",
   "metadata": {},
   "source": [
    "<br>\n",
    "\n",
    "#### 클러스터링을 통한 고객 군집화\n",
    "\n",
    "<br>"
   ]
  },
  {
   "cell_type": "markdown",
   "metadata": {},
   "source": [
    "이제, 미리 세워둔 기준에 의한 고객 세분화 방식이 아닌 비지도 학습방식의 클러스터링 기법을 통해 고객군을 파악 및 발굴해 본다."
   ]
  },
  {
   "cell_type": "markdown",
   "metadata": {},
   "source": [
    "<br>\n",
    "\n",
    "앞서 살펴보았듯 Recency,Frequency,Monetary의 분포가 지나치게 한쪽으로 쏠려있다. 데이터 왜곡의 정도가 심한것인데 이 경우 클러스터링 기법을 적용하여도 왜곡된 결과가 나올 가능성이 높다. 따라서 로그변환을 통한 데이터 왜곡 완화를 실시한다.\n",
    "\n",
    "<br>"
   ]
  },
  {
   "cell_type": "code",
   "execution_count": 28,
   "metadata": {},
   "outputs": [
    {
     "data": {
      "text/plain": [
       "(array([3.887e+03, 1.900e+01, 9.000e+00, 2.000e+00, 0.000e+00, 0.000e+00,\n",
       "        1.000e+00, 1.000e+00, 0.000e+00, 1.000e+00]),\n",
       " array([3.75000000e+00, 2.59691050e+04, 5.19344600e+04, 7.78998150e+04,\n",
       "        1.03865170e+05, 1.29830525e+05, 1.55795880e+05, 1.81761235e+05,\n",
       "        2.07726590e+05, 2.33691945e+05, 2.59657300e+05]),\n",
       " <a list of 10 Patch objects>)"
      ]
     },
     "execution_count": 28,
     "metadata": {},
     "output_type": "execute_result"
    },
    {
     "data": {
      "image/png": "[encoded data removed]",
      "text/plain": [
       "<Figure size 864x288 with 3 Axes>"
      ]
     },
     "metadata": {
      "needs_background": "light"
     },
     "output_type": "display_data"
    }
   ],
   "source": [
    "# 왜곡된 데이터 분포\n",
    "\n",
    "fig, (ax1,ax2,ax3) = plt.subplots(figsize=(12,4),nrows=1,ncols=3)\n",
    "ax1.set_title('Recency 분포')\n",
    "ax1.hist(cust_df['Recency'])\n",
    "\n",
    "ax2.set_title('Frequency 분포')\n",
    "ax2.hist(cust_df['Frequency'])\n",
    "\n",
    "ax3.set_title('Monetary 분포')\n",
    "ax3.hist(cust_df['Monetary'])"
   ]
  },
  {
   "cell_type": "code",
   "execution_count": 31,
   "metadata": {},
   "outputs": [
    {
     "name": "stdout",
     "output_type": "stream",
     "text": [
      "silhouette_score :  0.3033962891425885\n"
     ]
    },
    {
     "data": {
      "image/png": "[encoded data removed]",
      "text/plain": [
       "<Figure size 864x288 with 3 Axes>"
      ]
     },
     "metadata": {
      "needs_background": "light"
     },
     "output_type": "display_data"
    }
   ],
   "source": [
    "# 데이터 로그변환 및 표준화\n",
    "\n",
    "from sklearn.preprocessing import StandardScaler\n",
    "from sklearn.cluster import KMeans\n",
    "from sklearn.metrics import silhouette_score,silhouette_samples\n",
    "\n",
    "# log변환\n",
    "cust_df['Recency_log'] = np.log1p(cust_df['Recency'])\n",
    "cust_df['Frequency_log'] = np.log1p(cust_df['Frequency'])\n",
    "cust_df['Monetary_log'] = np.log1p(cust_df['Monetary'])\n",
    "\n",
    "# 표준화\n",
    "X_features = cust_df[['Recency_log','Frequency_log','Monetary_log']].values\n",
    "X_features_scaled = StandardScaler().fit_transform(X_features)\n",
    "\n",
    "fig, (ax1,ax2,ax3) = plt.subplots(figsize=(12,4),nrows=1,ncols=3)\n",
    "ax1.set_title('log 변환 후 Recency 분포')\n",
    "ax1.hist(cust_df['Recency_log'])\n",
    "\n",
    "ax2.set_title('log 변환 후 Frequency 분포')\n",
    "ax2.hist(cust_df['Frequency_log'])\n",
    "\n",
    "ax3.set_title('log 변환 후 Monetary 분포')\n",
    "ax3.hist(cust_df['Monetary_log'])"
   ]
  },
  {
   "cell_type": "markdown",
   "metadata": {},
   "source": [
    "<br> \n",
    "\n",
    "log변환을 통해 데이터의 왜곡이 개선된것을 확인할 수 있다. 이제, 클러스터링 기법을 적용해 본다. <br>\n",
    "\n",
    "클러스터링 결과에 대한 평가지표로는 \"실루엣 분석(sillhouette analysis)을 사용한다. \n",
    "\n",
    "<br>"
   ]
  },
  {
   "cell_type": "code",
   "execution_count": null,
   "metadata": {},
   "outputs": [],
   "source": [
    "### 여러개의 클러스터링 갯수를 List로 입력 받아 각각의 실루엣 계수를 면적으로 시각화한 함수 작성\n",
    "def visualize_silhouette(cluster_lists, X_features): \n",
    "    \n",
    "    from sklearn.datasets import make_blobs\n",
    "    from sklearn.cluster import KMeans\n",
    "    from sklearn.metrics import silhouette_samples, silhouette_score\n",
    "\n",
    "    import matplotlib.pyplot as plt\n",
    "    import matplotlib.cm as cm\n",
    "    import math\n",
    "    \n",
    "    # 입력값으로 클러스터링 갯수들을 리스트로 받아서, 각 갯수별로 클러스터링을 적용하고 실루엣 개수를 구함\n",
    "    n_cols = len(cluster_lists)\n",
    "    \n",
    "    # plt.subplots()으로 리스트에 기재된 클러스터링 수만큼의 sub figures를 가지는 axs 생성 \n",
    "    fig, axs = plt.subplots(figsize=(4*n_cols, 4), nrows=1, ncols=n_cols)\n",
    "    \n",
    "    # 리스트에 기재된 클러스터링 갯수들을 차례로 iteration 수행하면서 실루엣 개수 시각화\n",
    "    for ind, n_cluster in enumerate(cluster_lists):\n",
    "        \n",
    "        # KMeans 클러스터링 수행하고, 실루엣 스코어와 개별 데이터의 실루엣 값 계산. \n",
    "        clusterer = KMeans(n_clusters = n_cluster, max_iter=500, random_state=0)\n",
    "        cluster_labels = clusterer.fit_predict(X_features)\n",
    "        \n",
    "        sil_avg = silhouette_score(X_features, cluster_labels)\n",
    "        sil_values = silhouette_samples(X_features, cluster_labels)\n",
    "        \n",
    "        y_lower = 10\n",
    "        axs[ind].set_title('Number of Cluster : '+ str(n_cluster)+'\\n' \\\n",
    "                          'Silhouette Score :' + str(round(sil_avg,3)) )\n",
    "        axs[ind].set_xlabel(\"The silhouette coefficient values\")\n",
    "        axs[ind].set_ylabel(\"Cluster label\")\n",
    "        axs[ind].set_xlim([-0.1, 1])\n",
    "        axs[ind].set_ylim([0, len(X_features) + (n_cluster + 1) * 10])\n",
    "        axs[ind].set_yticks([])  # Clear the yaxis labels / ticks\n",
    "        axs[ind].set_xticks([0, 0.2, 0.4, 0.6, 0.8, 1])\n",
    "        \n",
    "        # 클러스터링 갯수별로 fill_betweenx( )형태의 막대 그래프 표현. \n",
    "        for i in range(n_cluster):\n",
    "            ith_cluster_sil_values = sil_values[cluster_labels==i]\n",
    "            ith_cluster_sil_values.sort()\n",
    "            \n",
    "            size_cluster_i = ith_cluster_sil_values.shape[0]\n",
    "            y_upper = y_lower + size_cluster_i\n",
    "            \n",
    "            color = cm.nipy_spectral(float(i) / n_cluster)\n",
    "            axs[ind].fill_betweenx(np.arange(y_lower, y_upper), 0, ith_cluster_sil_values, \\\n",
    "                                facecolor=color, edgecolor=color, alpha=0.7)\n",
    "            axs[ind].text(-0.05, y_lower + 0.5 * size_cluster_i, str(i))\n",
    "            y_lower = y_upper + 10\n",
    "            \n",
    "        axs[ind].axvline(x=sil_avg, color=\"red\", linestyle=\"--\")\n",
    "        \n",
    "### 여러개의 클러스터링 갯수를 List로 입력 받아 각각의 클러스터링 결과를 시각화 \n",
    "def visualize_kmeans_plot_multi(cluster_lists, X_features):\n",
    "    \n",
    "    from sklearn.cluster import KMeans\n",
    "    from sklearn.decomposition import PCA\n",
    "    import pandas as pd\n",
    "    import numpy as np\n",
    "    \n",
    "    # plt.subplots()으로 리스트에 기재된 클러스터링 만큼의 sub figures를 가지는 axs 생성 \n",
    "    n_cols = len(cluster_lists)\n",
    "    fig, axs = plt.subplots(figsize=(4*n_cols, 4), nrows=1, ncols=n_cols)\n",
    "    \n",
    "    # 입력 데이터의 FEATURE가 여러개일 경우 2차원 데이터 시각화가 어려우므로 PCA 변환하여 2차원 시각화\n",
    "    pca = PCA(n_components=2)\n",
    "    pca_transformed = pca.fit_transform(X_features)\n",
    "    dataframe = pd.DataFrame(pca_transformed, columns=['PCA1','PCA2'])\n",
    "    \n",
    "     # 리스트에 기재된 클러스터링 갯수들을 차례로 iteration 수행하면서 KMeans 클러스터링 수행하고 시각화\n",
    "    for ind, n_cluster in enumerate(cluster_lists):\n",
    "        \n",
    "        # KMeans 클러스터링으로 클러스터링 결과를 dataframe에 저장. \n",
    "        clusterer = KMeans(n_clusters = n_cluster, max_iter=500, random_state=0)\n",
    "        cluster_labels = clusterer.fit_predict(pca_transformed)\n",
    "        dataframe['cluster']=cluster_labels\n",
    "        \n",
    "        unique_labels = np.unique(clusterer.labels_)\n",
    "        markers=['o', 's', '^', 'x', '*']\n",
    "       \n",
    "        # 클러스터링 결과값 별로 scatter plot 으로 시각화\n",
    "        for label in unique_labels:\n",
    "            label_df = dataframe[dataframe['cluster']==label]\n",
    "            if label == -1:\n",
    "                cluster_legend = 'Noise'\n",
    "            else :\n",
    "                cluster_legend = 'Cluster '+str(label)           \n",
    "            axs[ind].scatter(x=label_df['PCA1'], y=label_df['PCA2'], s=70,\\\n",
    "                        edgecolor='k', marker=markers[label], label=cluster_legend)\n",
    "\n",
    "        axs[ind].set_title('Number of Cluster : '+ str(n_cluster))    \n",
    "        axs[ind].legend(loc='upper right')\n",
    "    \n",
    "    plt.show()"
   ]
  },
  {
   "cell_type": "code",
   "execution_count": 34,
   "metadata": {},
   "outputs": [
    {
     "data": {
      "image/png": "[encoded data removed]",
      "text/plain": [
       "<Figure size 1152x288 with 4 Axes>"
      ]
     },
     "metadata": {
      "needs_background": "light"
     },
     "output_type": "display_data"
    },
    {
     "data": {
      "image/png": "[encoded data removed]",
      "text/plain": [
       "<Figure size 1152x288 with 4 Axes>"
      ]
     },
     "metadata": {
      "needs_background": "light"
     },
     "output_type": "display_data"
    }
   ],
   "source": [
    "# 클러스터링 갯수에 따른 시각화\n",
    "visualize_silhouette([2,3,4,5],X_features_scaled)\n",
    "visualize_kmeans_plot_multi([2,3,4,5],X_features_scaled)"
   ]
  },
  {
   "cell_type": "code",
   "execution_count": 35,
   "metadata": {},
   "outputs": [
    {
     "name": "stdout",
     "output_type": "stream",
     "text": [
      "silhouette_score :  0.30600621009100515\n"
     ]
    }
   ],
   "source": [
    "kmeans = KMeans(n_clusters=4,random_state=0) # 클러스터링 갯수를 3으로 하였을때\n",
    "labels= kmeans.fit_predict(X_features_scaled)\n",
    "\n",
    "cust_df['cluster_label'] = labels\n",
    "\n",
    "print(\"silhouette_score : \",silhouette_score(X_features_scaled,labels))"
   ]
  },
  {
   "cell_type": "code",
   "execution_count": 36,
   "metadata": {},
   "outputs": [
    {
     "data": {
      "text/html": [
       "<div>\n",
       "<style scoped>\n",
       "    .dataframe tbody tr th:only-of-type {\n",
       "        vertical-align: middle;\n",
       "    }\n",
       "\n",
       "    .dataframe tbody tr th {\n",
       "        vertical-align: top;\n",
       "    }\n",
       "\n",
       "    .dataframe thead th {\n",
       "        text-align: right;\n",
       "    }\n",
       "</style>\n",
       "<table border=\"1\" class=\"dataframe\">\n",
       "  <thead>\n",
       "    <tr style=\"text-align: right;\">\n",
       "      <th></th>\n",
       "      <th>CustomerID</th>\n",
       "      <th>Recency</th>\n",
       "      <th>Frequency</th>\n",
       "      <th>Monetary</th>\n",
       "      <th>R</th>\n",
       "      <th>F</th>\n",
       "      <th>M</th>\n",
       "      <th>RFM_segment</th>\n",
       "      <th>RFM_score</th>\n",
       "      <th>RFM_level</th>\n",
       "      <th>Recency_log</th>\n",
       "      <th>Frequency_log</th>\n",
       "      <th>Monetary_log</th>\n",
       "      <th>cluster_label</th>\n",
       "    </tr>\n",
       "  </thead>\n",
       "  <tbody>\n",
       "    <tr>\n",
       "      <td>0</td>\n",
       "      <td>12346</td>\n",
       "      <td>326</td>\n",
       "      <td>1</td>\n",
       "      <td>77183.60</td>\n",
       "      <td>1</td>\n",
       "      <td>1</td>\n",
       "      <td>4</td>\n",
       "      <td>114</td>\n",
       "      <td>6.0</td>\n",
       "      <td>충성</td>\n",
       "      <td>5.789960</td>\n",
       "      <td>0.693147</td>\n",
       "      <td>11.253955</td>\n",
       "      <td>3</td>\n",
       "    </tr>\n",
       "    <tr>\n",
       "      <td>1</td>\n",
       "      <td>12747</td>\n",
       "      <td>3</td>\n",
       "      <td>103</td>\n",
       "      <td>4196.01</td>\n",
       "      <td>4</td>\n",
       "      <td>4</td>\n",
       "      <td>4</td>\n",
       "      <td>444</td>\n",
       "      <td>12.0</td>\n",
       "      <td>특급</td>\n",
       "      <td>1.386294</td>\n",
       "      <td>4.644391</td>\n",
       "      <td>8.342128</td>\n",
       "      <td>0</td>\n",
       "    </tr>\n",
       "    <tr>\n",
       "      <td>2</td>\n",
       "      <td>12748</td>\n",
       "      <td>1</td>\n",
       "      <td>4595</td>\n",
       "      <td>33719.73</td>\n",
       "      <td>4</td>\n",
       "      <td>4</td>\n",
       "      <td>4</td>\n",
       "      <td>444</td>\n",
       "      <td>12.0</td>\n",
       "      <td>특급</td>\n",
       "      <td>0.693147</td>\n",
       "      <td>8.432942</td>\n",
       "      <td>10.425868</td>\n",
       "      <td>0</td>\n",
       "    </tr>\n",
       "    <tr>\n",
       "      <td>3</td>\n",
       "      <td>12749</td>\n",
       "      <td>4</td>\n",
       "      <td>199</td>\n",
       "      <td>4090.88</td>\n",
       "      <td>4</td>\n",
       "      <td>4</td>\n",
       "      <td>4</td>\n",
       "      <td>444</td>\n",
       "      <td>12.0</td>\n",
       "      <td>특급</td>\n",
       "      <td>1.609438</td>\n",
       "      <td>5.298317</td>\n",
       "      <td>8.316760</td>\n",
       "      <td>0</td>\n",
       "    </tr>\n",
       "    <tr>\n",
       "      <td>4</td>\n",
       "      <td>12820</td>\n",
       "      <td>4</td>\n",
       "      <td>59</td>\n",
       "      <td>942.34</td>\n",
       "      <td>4</td>\n",
       "      <td>3</td>\n",
       "      <td>3</td>\n",
       "      <td>433</td>\n",
       "      <td>10.0</td>\n",
       "      <td>특급</td>\n",
       "      <td>1.609438</td>\n",
       "      <td>4.094345</td>\n",
       "      <td>6.849427</td>\n",
       "      <td>0</td>\n",
       "    </tr>\n",
       "    <tr>\n",
       "      <td>...</td>\n",
       "      <td>...</td>\n",
       "      <td>...</td>\n",
       "      <td>...</td>\n",
       "      <td>...</td>\n",
       "      <td>...</td>\n",
       "      <td>...</td>\n",
       "      <td>...</td>\n",
       "      <td>...</td>\n",
       "      <td>...</td>\n",
       "      <td>...</td>\n",
       "      <td>...</td>\n",
       "      <td>...</td>\n",
       "      <td>...</td>\n",
       "      <td>...</td>\n",
       "    </tr>\n",
       "    <tr>\n",
       "      <td>3915</td>\n",
       "      <td>18280</td>\n",
       "      <td>278</td>\n",
       "      <td>10</td>\n",
       "      <td>180.60</td>\n",
       "      <td>1</td>\n",
       "      <td>1</td>\n",
       "      <td>1</td>\n",
       "      <td>111</td>\n",
       "      <td>3.0</td>\n",
       "      <td>활성화 필요</td>\n",
       "      <td>5.631212</td>\n",
       "      <td>2.397895</td>\n",
       "      <td>5.201806</td>\n",
       "      <td>1</td>\n",
       "    </tr>\n",
       "    <tr>\n",
       "      <td>3916</td>\n",
       "      <td>18281</td>\n",
       "      <td>181</td>\n",
       "      <td>7</td>\n",
       "      <td>80.82</td>\n",
       "      <td>1</td>\n",
       "      <td>1</td>\n",
       "      <td>1</td>\n",
       "      <td>111</td>\n",
       "      <td>3.0</td>\n",
       "      <td>활성화 필요</td>\n",
       "      <td>5.204007</td>\n",
       "      <td>2.079442</td>\n",
       "      <td>4.404522</td>\n",
       "      <td>1</td>\n",
       "    </tr>\n",
       "    <tr>\n",
       "      <td>3917</td>\n",
       "      <td>18282</td>\n",
       "      <td>8</td>\n",
       "      <td>12</td>\n",
       "      <td>178.05</td>\n",
       "      <td>4</td>\n",
       "      <td>1</td>\n",
       "      <td>1</td>\n",
       "      <td>411</td>\n",
       "      <td>6.0</td>\n",
       "      <td>충성</td>\n",
       "      <td>2.197225</td>\n",
       "      <td>2.564949</td>\n",
       "      <td>5.187665</td>\n",
       "      <td>2</td>\n",
       "    </tr>\n",
       "    <tr>\n",
       "      <td>3918</td>\n",
       "      <td>18283</td>\n",
       "      <td>4</td>\n",
       "      <td>756</td>\n",
       "      <td>2094.88</td>\n",
       "      <td>4</td>\n",
       "      <td>4</td>\n",
       "      <td>4</td>\n",
       "      <td>444</td>\n",
       "      <td>12.0</td>\n",
       "      <td>특급</td>\n",
       "      <td>1.609438</td>\n",
       "      <td>6.629363</td>\n",
       "      <td>7.647729</td>\n",
       "      <td>0</td>\n",
       "    </tr>\n",
       "    <tr>\n",
       "      <td>3919</td>\n",
       "      <td>18287</td>\n",
       "      <td>43</td>\n",
       "      <td>70</td>\n",
       "      <td>1837.28</td>\n",
       "      <td>3</td>\n",
       "      <td>3</td>\n",
       "      <td>4</td>\n",
       "      <td>334</td>\n",
       "      <td>10.0</td>\n",
       "      <td>특급</td>\n",
       "      <td>3.784190</td>\n",
       "      <td>4.262680</td>\n",
       "      <td>7.516586</td>\n",
       "      <td>3</td>\n",
       "    </tr>\n",
       "  </tbody>\n",
       "</table>\n",
       "<p>3920 rows × 14 columns</p>\n",
       "</div>"
      ],
      "text/plain": [
       "     CustomerID  Recency  Frequency  Monetary  R  F  M RFM_segment  RFM_score  \\\n",
       "0         12346      326          1  77183.60  1  1  4         114        6.0   \n",
       "1         12747        3        103   4196.01  4  4  4         444       12.0   \n",
       "2         12748        1       4595  33719.73  4  4  4         444       12.0   \n",
       "3         12749        4        199   4090.88  4  4  4         444       12.0   \n",
       "4         12820        4         59    942.34  4  3  3         433       10.0   \n",
       "...         ...      ...        ...       ... .. .. ..         ...        ...   \n",
       "3915      18280      278         10    180.60  1  1  1         111        3.0   \n",
       "3916      18281      181          7     80.82  1  1  1         111        3.0   \n",
       "3917      18282        8         12    178.05  4  1  1         411        6.0   \n",
       "3918      18283        4        756   2094.88  4  4  4         444       12.0   \n",
       "3919      18287       43         70   1837.28  3  3  4         334       10.0   \n",
       "\n",
       "     RFM_level  Recency_log  Frequency_log  Monetary_log  cluster_label  \n",
       "0           충성     5.789960       0.693147     11.253955              3  \n",
       "1           특급     1.386294       4.644391      8.342128              0  \n",
       "2           특급     0.693147       8.432942     10.425868              0  \n",
       "3           특급     1.609438       5.298317      8.316760              0  \n",
       "4           특급     1.609438       4.094345      6.849427              0  \n",
       "...        ...          ...            ...           ...            ...  \n",
       "3915    활성화 필요     5.631212       2.397895      5.201806              1  \n",
       "3916    활성화 필요     5.204007       2.079442      4.404522              1  \n",
       "3917        충성     2.197225       2.564949      5.187665              2  \n",
       "3918        특급     1.609438       6.629363      7.647729              0  \n",
       "3919        특급     3.784190       4.262680      7.516586              3  \n",
       "\n",
       "[3920 rows x 14 columns]"
      ]
     },
     "execution_count": 36,
     "metadata": {},
     "output_type": "execute_result"
    }
   ],
   "source": [
    "cust_df"
   ]
  },
  {
   "cell_type": "code",
   "execution_count": 39,
   "metadata": {},
   "outputs": [
    {
     "data": {
      "text/html": [
       "<div>\n",
       "<style scoped>\n",
       "    .dataframe tbody tr th:only-of-type {\n",
       "        vertical-align: middle;\n",
       "    }\n",
       "\n",
       "    .dataframe tbody tr th {\n",
       "        vertical-align: top;\n",
       "    }\n",
       "\n",
       "    .dataframe thead tr th {\n",
       "        text-align: left;\n",
       "    }\n",
       "\n",
       "    .dataframe thead tr:last-of-type th {\n",
       "        text-align: right;\n",
       "    }\n",
       "</style>\n",
       "<table border=\"1\" class=\"dataframe\">\n",
       "  <thead>\n",
       "    <tr>\n",
       "      <th></th>\n",
       "      <th>Recency</th>\n",
       "      <th>Frequency</th>\n",
       "      <th colspan=\"2\" halign=\"left\">Monetary</th>\n",
       "    </tr>\n",
       "    <tr>\n",
       "      <th></th>\n",
       "      <th>mean</th>\n",
       "      <th>mean</th>\n",
       "      <th>mean</th>\n",
       "      <th>count</th>\n",
       "    </tr>\n",
       "    <tr>\n",
       "      <th>cluster_label</th>\n",
       "      <th></th>\n",
       "      <th></th>\n",
       "      <th></th>\n",
       "      <th></th>\n",
       "    </tr>\n",
       "  </thead>\n",
       "  <tbody>\n",
       "    <tr>\n",
       "      <td>0</td>\n",
       "      <td>12.0</td>\n",
       "      <td>265.0</td>\n",
       "      <td>5980.0</td>\n",
       "      <td>820</td>\n",
       "    </tr>\n",
       "    <tr>\n",
       "      <td>1</td>\n",
       "      <td>200.0</td>\n",
       "      <td>15.0</td>\n",
       "      <td>295.0</td>\n",
       "      <td>1156</td>\n",
       "    </tr>\n",
       "    <tr>\n",
       "      <td>2</td>\n",
       "      <td>26.0</td>\n",
       "      <td>30.0</td>\n",
       "      <td>466.0</td>\n",
       "      <td>791</td>\n",
       "    </tr>\n",
       "    <tr>\n",
       "      <td>3</td>\n",
       "      <td>88.0</td>\n",
       "      <td>83.0</td>\n",
       "      <td>1471.0</td>\n",
       "      <td>1153</td>\n",
       "    </tr>\n",
       "  </tbody>\n",
       "</table>\n",
       "</div>"
      ],
      "text/plain": [
       "              Recency Frequency Monetary      \n",
       "                 mean      mean     mean count\n",
       "cluster_label                                 \n",
       "0                12.0     265.0   5980.0   820\n",
       "1               200.0      15.0    295.0  1156\n",
       "2                26.0      30.0    466.0   791\n",
       "3                88.0      83.0   1471.0  1153"
      ]
     },
     "execution_count": 39,
     "metadata": {},
     "output_type": "execute_result"
    }
   ],
   "source": [
    "# 클러스터 label(0~3)에 따른 통계량\n",
    "\n",
    "cust_df.groupby(['cluster_label']).agg({\n",
    "    'Recency': 'mean',\n",
    "    'Frequency': 'mean',\n",
    "    'Monetary': ['mean','count'],\n",
    "}).round(0)"
   ]
  },
  {
   "cell_type": "code",
   "execution_count": 40,
   "metadata": {},
   "outputs": [
    {
     "data": {
      "text/html": [
       "<div>\n",
       "<style scoped>\n",
       "    .dataframe tbody tr th:only-of-type {\n",
       "        vertical-align: middle;\n",
       "    }\n",
       "\n",
       "    .dataframe tbody tr th {\n",
       "        vertical-align: top;\n",
       "    }\n",
       "\n",
       "    .dataframe thead tr th {\n",
       "        text-align: left;\n",
       "    }\n",
       "\n",
       "    .dataframe thead tr:last-of-type th {\n",
       "        text-align: right;\n",
       "    }\n",
       "</style>\n",
       "<table border=\"1\" class=\"dataframe\">\n",
       "  <thead>\n",
       "    <tr>\n",
       "      <th></th>\n",
       "      <th>Recency</th>\n",
       "      <th>Frequency</th>\n",
       "      <th colspan=\"2\" halign=\"left\">Monetary</th>\n",
       "    </tr>\n",
       "    <tr>\n",
       "      <th></th>\n",
       "      <th>mean</th>\n",
       "      <th>mean</th>\n",
       "      <th>mean</th>\n",
       "      <th>count</th>\n",
       "    </tr>\n",
       "    <tr>\n",
       "      <th>RFM_level</th>\n",
       "      <th></th>\n",
       "      <th></th>\n",
       "      <th></th>\n",
       "      <th></th>\n",
       "    </tr>\n",
       "  </thead>\n",
       "  <tbody>\n",
       "    <tr>\n",
       "      <td>특급</td>\n",
       "      <td>27.3</td>\n",
       "      <td>188.8</td>\n",
       "      <td>3940.5</td>\n",
       "      <td>1520</td>\n",
       "    </tr>\n",
       "    <tr>\n",
       "      <td>잠재</td>\n",
       "      <td>154.0</td>\n",
       "      <td>21.0</td>\n",
       "      <td>357.0</td>\n",
       "      <td>470</td>\n",
       "    </tr>\n",
       "    <tr>\n",
       "      <td>충성</td>\n",
       "      <td>97.7</td>\n",
       "      <td>28.4</td>\n",
       "      <td>829.5</td>\n",
       "      <td>424</td>\n",
       "    </tr>\n",
       "    <tr>\n",
       "      <td>최우수</td>\n",
       "      <td>61.5</td>\n",
       "      <td>55.4</td>\n",
       "      <td>917.1</td>\n",
       "      <td>408</td>\n",
       "    </tr>\n",
       "    <tr>\n",
       "      <td>우수</td>\n",
       "      <td>79.1</td>\n",
       "      <td>38.5</td>\n",
       "      <td>733.0</td>\n",
       "      <td>393</td>\n",
       "    </tr>\n",
       "    <tr>\n",
       "      <td>유망</td>\n",
       "      <td>175.0</td>\n",
       "      <td>13.7</td>\n",
       "      <td>234.2</td>\n",
       "      <td>362</td>\n",
       "    </tr>\n",
       "    <tr>\n",
       "      <td>활성화 필요</td>\n",
       "      <td>258.9</td>\n",
       "      <td>8.1</td>\n",
       "      <td>152.3</td>\n",
       "      <td>343</td>\n",
       "    </tr>\n",
       "  </tbody>\n",
       "</table>\n",
       "</div>"
      ],
      "text/plain": [
       "          Recency Frequency Monetary      \n",
       "             mean      mean     mean count\n",
       "RFM_level                                 \n",
       "특급           27.3     188.8   3940.5  1520\n",
       "잠재          154.0      21.0    357.0   470\n",
       "충성           97.7      28.4    829.5   424\n",
       "최우수          61.5      55.4    917.1   408\n",
       "우수           79.1      38.5    733.0   393\n",
       "유망          175.0      13.7    234.2   362\n",
       "활성화 필요      258.9       8.1    152.3   343"
      ]
     },
     "execution_count": 40,
     "metadata": {},
     "output_type": "execute_result"
    }
   ],
   "source": [
    "aggregations = {\n",
    "    \"Recency\" : 'mean', # 고객별 가장 최근 구매일\n",
    "    \"Frequency\" : 'mean', # 고객별 구매 횟수 \n",
    "    \"Monetary\" : [\"mean\",\"count\"] # 고객별 구매합계\n",
    "}\n",
    "\n",
    "# .sort_values(by='count').round(1)\n",
    "cust_df.groupby('RFM_level').agg(aggregations).sort_values(by=( 'Monetary', 'count'),ascending=False).round(1)"
   ]
  },
  {
   "cell_type": "code",
   "execution_count": 41,
   "metadata": {},
   "outputs": [
    {
     "data": {
      "text/html": [
       "<div>\n",
       "<style scoped>\n",
       "    .dataframe tbody tr th:only-of-type {\n",
       "        vertical-align: middle;\n",
       "    }\n",
       "\n",
       "    .dataframe tbody tr th {\n",
       "        vertical-align: top;\n",
       "    }\n",
       "\n",
       "    .dataframe thead tr th {\n",
       "        text-align: left;\n",
       "    }\n",
       "\n",
       "    .dataframe thead tr:last-of-type th {\n",
       "        text-align: right;\n",
       "    }\n",
       "</style>\n",
       "<table border=\"1\" class=\"dataframe\">\n",
       "  <thead>\n",
       "    <tr>\n",
       "      <th></th>\n",
       "      <th>Recency</th>\n",
       "      <th>Frequency</th>\n",
       "      <th colspan=\"2\" halign=\"left\">Monetary</th>\n",
       "    </tr>\n",
       "    <tr>\n",
       "      <th></th>\n",
       "      <th>mean</th>\n",
       "      <th>mean</th>\n",
       "      <th>mean</th>\n",
       "      <th>count</th>\n",
       "    </tr>\n",
       "    <tr>\n",
       "      <th>cluster_label</th>\n",
       "      <th></th>\n",
       "      <th></th>\n",
       "      <th></th>\n",
       "      <th></th>\n",
       "    </tr>\n",
       "  </thead>\n",
       "  <tbody>\n",
       "    <tr>\n",
       "      <td>0</td>\n",
       "      <td>12.0</td>\n",
       "      <td>265.0</td>\n",
       "      <td>5980.0</td>\n",
       "      <td>820</td>\n",
       "    </tr>\n",
       "    <tr>\n",
       "      <td>1</td>\n",
       "      <td>200.0</td>\n",
       "      <td>15.0</td>\n",
       "      <td>295.0</td>\n",
       "      <td>1156</td>\n",
       "    </tr>\n",
       "    <tr>\n",
       "      <td>2</td>\n",
       "      <td>26.0</td>\n",
       "      <td>30.0</td>\n",
       "      <td>466.0</td>\n",
       "      <td>791</td>\n",
       "    </tr>\n",
       "    <tr>\n",
       "      <td>3</td>\n",
       "      <td>88.0</td>\n",
       "      <td>83.0</td>\n",
       "      <td>1471.0</td>\n",
       "      <td>1153</td>\n",
       "    </tr>\n",
       "  </tbody>\n",
       "</table>\n",
       "</div>"
      ],
      "text/plain": [
       "              Recency Frequency Monetary      \n",
       "                 mean      mean     mean count\n",
       "cluster_label                                 \n",
       "0                12.0     265.0   5980.0   820\n",
       "1               200.0      15.0    295.0  1156\n",
       "2                26.0      30.0    466.0   791\n",
       "3                88.0      83.0   1471.0  1153"
      ]
     },
     "execution_count": 41,
     "metadata": {},
     "output_type": "execute_result"
    }
   ],
   "source": [
    "# 클러스터 label(0~3)에 따른 통계량\n",
    "\n",
    "cust_df.groupby(['cluster_label']).agg({\n",
    "    'Recency': 'mean',\n",
    "    'Frequency': 'mean',\n",
    "    'Monetary': ['mean','count'],\n",
    "}).round(0)"
   ]
  }
 ],
 "metadata": {
  "kernelspec": {
   "display_name": "Python 3",
   "language": "python",
   "name": "python3"
  },
  "language_info": {
   "codemirror_mode": {
    "name": "ipython",
    "version": 3
   },
   "file_extension": ".py",
   "mimetype": "text/x-python",
   "name": "python",
   "nbconvert_exporter": "python",
   "pygments_lexer": "ipython3",
   "version": "3.7.4"
  }
 },
 "nbformat": 4,
 "nbformat_minor": 2
}
