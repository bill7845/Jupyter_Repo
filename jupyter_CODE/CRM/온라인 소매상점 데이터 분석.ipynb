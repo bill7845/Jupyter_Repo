{
 "cells": [
  {
   "cell_type": "markdown",
   "metadata": {},
   "source": [
    "# < 파이썬을 활용한 온라인 소매상점 데이터 분석 >\n",
    "\n",
    "<br>\n",
    "\n",
    "* 1. Cohort 분석\n",
    "* 2. Rolling Retention 분석\n",
    "* 3. RFM기반 고객 세분화\n",
    "* 4. 군집분석\n",
    "\n",
    "\n",
    "\n",
    "### Data Set\n",
    "\n",
    "- 데이터 출처 : http://archive.ics.uci.edu/ml/datasets/Online+Retail/\n",
    "- 데이터 정보 : 2010.12.01 ~ 2011.12.09까지의 online retail shop의 고객 거래 데이터. 주 고객층은 도매업임.\n",
    "- 컬럼 정보 :\n",
    "    * InvoiceNo : 거래식별 번호. 'c'로 시작할 경우 해당 거래는 \"취소\" 거래를 나타냄.\n",
    "    * StockCode : 상품 식별 번호.\n",
    "    * Description : 상품 배송지.\n",
    "    * Quantity : 상품의 주문 개수.\n",
    "    * InvoiceDate : 거래 발생 날짜.\n",
    "    * UnitPrice : 상품의 개당 가격.\n",
    "    * CustomerID : 고객 식별 번호.\n",
    "    * Country : 고객의 국가정보."
   ]
  },
  {
   "cell_type": "markdown",
   "metadata": {},
   "source": [
    "<br>\n",
    "\n",
    "## < EDA >"
   ]
  },
  {
   "cell_type": "code",
   "execution_count": null,
   "metadata": {},
   "outputs": [
    {
     "name": "stderr",
     "output_type": "stream",
     "text": [
      "C:\\Anaconda3\\lib\\site-packages\\statsmodels\\tools\\_testing.py:19: FutureWarning: pandas.util.testing is deprecated. Use the functions in the public API at pandas.testing instead.\n",
      "  import pandas.util.testing as tm\n"
     ]
    }
   ],
   "source": [
    "## libarary import\n",
    "import pandas as pd\n",
    "import numpy as np\n",
    "import seaborn as sns\n",
    "import matplotlib.pyplot as plt\n",
    "import warnings\n",
    "warnings.filterwarnings(\"ignore\",category=RuntimeWarning)\n",
    "sns.set()\n",
    "%matplotlib inline\n",
    "\n",
    "## 한글설정\n",
    "import matplotlib\n",
    "from IPython.display import set_matplotlib_formats\n",
    "matplotlib.rc('font', family='NanumGothic')\n",
    "matplotlib.rc('axes', unicode_minus=False)\n",
    "set_matplotlib_formats('retina')\n",
    "\n",
    "## data load\n",
    "df = pd.read_excel(io='C:/Users/KIHyuk/Desktop/dacon_data/CRM/UCI_Online_Retail/Online Retail.xlsx')"
   ]
  },
  {
   "cell_type": "markdown",
   "metadata": {},
   "source": [
    "<br>\n",
    "\n",
    "* 먼저 데이터의 상위5개row와 데이터타입,결측값 여부를 살펴본다."
   ]
  },
  {
   "cell_type": "code",
   "execution_count": null,
   "metadata": {},
   "outputs": [],
   "source": [
    "display(df.head(5))\n",
    "df.info()"
   ]
  },
  {
   "cell_type": "markdown",
   "metadata": {},
   "source": [
    "* 총 541909개의 row와 8개의 컬럼이 존재한다.\n",
    "* 이는 541909개의 거래정보가 존재하며 각 거래정보는 총8가지의 정보들로 구성되어 있다고 볼 수 있다.\n",
    "* 주문수량,제품가격,고객아이디 정보는 nemeric type이며 Invoice date의 경우 date type으로 지정되어 있다.\n",
    "\n",
    "<br>"
   ]
  },
  {
   "cell_type": "code",
   "execution_count": null,
   "metadata": {},
   "outputs": [],
   "source": [
    "df.isnull().sum()"
   ]
  },
  {
   "cell_type": "markdown",
   "metadata": {},
   "source": [
    "* 결측값의 경우 Description(제품설명)과 CustomerID(고객번호)에만 존재한다.\n",
    "* CustomerID의 경우 고객을 식별해주는 필수정보이다. 이에 대한 결측값 대체가 불가능하므로 결측값을 가질 경우 삭제한다.\n",
    "\n",
    "<br>"
   ]
  },
  {
   "cell_type": "code",
   "execution_count": null,
   "metadata": {},
   "outputs": [],
   "source": [
    "print(\"Customer ID row개수 , 결측치 개수 : \",len(df['CustomerID']) ,df['CustomerID'].isnull().sum())\n",
    "df = df[df['CustomerID'].notnull()] # Coustomer ID 결측치 삭제\n",
    "print(\"결측치 제거 후 Customer ID row개수 : \", len(df['CustomerID']))\n",
    "print(\"Unique Customer ID : \", df['CustomerID'].nunique())"
   ]
  },
  {
   "cell_type": "markdown",
   "metadata": {},
   "source": [
    "* CustomerID에 대한 결측값 제거 완료.\n",
    "* 중복을 제거한 CustomerID는 4372개로 이는 총 4372명에 대한 거래정보를 가지고있음을 의미한다.\n",
    "\n",
    "<br>"
   ]
  },
  {
   "cell_type": "markdown",
   "metadata": {},
   "source": [
    "* 다음으로 고객별 출신 국가정보(Country)를 살펴본다."
   ]
  },
  {
   "cell_type": "code",
   "execution_count": null,
   "metadata": {},
   "outputs": [],
   "source": [
    "plt.figure(figsize=(13,7))\n",
    "df['Country'].value_counts().plot(kind='bar')\n",
    "print(\"전체 국가 수 : \", df['Country'].nunique())\n",
    "print(\"전체 국가중 United Kingdom 비율 : \",len(df[df['Country']== 'United Kingdom'])/len(df))\n",
    "\n",
    "# United Kingdom을 대상으로 진행\n",
    "df = df[df['Country'] == 'United Kingdom']"
   ]
  },
  {
   "cell_type": "markdown",
   "metadata": {},
   "source": [
    "* 고객의 국가정보를 살펴보면 89%의 고객이 영국(UK)에 거주하는것으로 나타난다. 분석의 용이를 위해 영국에 거주하는 고객만을 대상으로 분석을 진행한다.\n",
    "\n",
    "<br>"
   ]
  },
  {
   "cell_type": "markdown",
   "metadata": {},
   "source": [
    "* 상품 주문 개수와, 상품 가격이 음수인 경우가 존재함. 이는 거래취소,할인,환급인 경우로 추정되므로 제거 후 분석을 진행한다."
   ]
  },
  {
   "cell_type": "code",
   "execution_count": null,
   "metadata": {},
   "outputs": [],
   "source": [
    "display(df['Quantity'].describe())\n",
    "#  Quantity가 음수인 row 제외 \n",
    "df = df[df['Quantity'] > 0]\n",
    "\n",
    "print(\"#############################\")\n",
    "\n",
    "display(df.UnitPrice.describe())\n",
    "#  Price가 음수인 row 제외 \n",
    "df = df[df['UnitPrice'] > 0]"
   ]
  },
  {
   "cell_type": "markdown",
   "metadata": {},
   "source": [
    "<br>\n",
    "\n",
    "## < 코호트 분석 >\n",
    "\n",
    "<br>\n",
    "\n",
    "### - Cohort 분석이란?\n",
    "* 코호트 분석이란, 고객을 일정 기준(Time)으로 그룹으로 나누어 고객들의 N경과에 따른 고객 잔존/매출/획득/유지 비교를 통해 신규 고객과 기존 고객의 현황을 파악하는것이다.\n",
    "\n",
    "<br>\n",
    "    \n",
    "### - Cohort를 나누는 기준\n",
    "* `Time Cohort`\n",
    "* `Behaviort Cohort`\n",
    "* `Size Cohort`\n",
    "    \n",
    "* 대부분의 경우 Time Cohort를 사용하며 본 문서에서도 시간에 따른 코호트 분석 방법으로 진행한다.\n",
    "\n",
    "<br>\n",
    "    \n",
    "* 본 문서에서 살펴볼 코호트 분석은 아래와 같다.\n",
    "    * 1. 경과월에 따른 코호트별 고객 유지\n",
    "    * 2. 월별 총 매출 대비 월별 획득 고객에 의해 발생한 매출액 비교\n",
    "\n",
    "<br>"
   ]
  },
  {
   "cell_type": "markdown",
   "metadata": {},
   "source": [
    "* <b> <Cohort - 1. 경과월에 따른 코호트별 고객 유지> </b>"
   ]
  },
  {
   "cell_type": "code",
   "execution_count": null,
   "metadata": {},
   "outputs": [],
   "source": [
    "s"
   ]
  },
  {
   "cell_type": "code",
   "execution_count": null,
   "metadata": {},
   "outputs": [],
   "source": [
    "# 전체 고객수(Unique)\n",
    "print(\"전체 고객수 : \",df['CustomerID'].nunique())\n",
    "\n",
    "# 1. 고객별 최초 구매일 구하기\n",
    "first_purchase = pd.DataFrame()\n",
    "first_purchase['CustomerID'] = df.groupby('CustomerID')['InvoiceDate'].min().index.astype('object') # 각 고객별 최초 구매일 - index\n",
    "first_purchase['최초 구매일'] = df.groupby('CustomerID')['InvoiceDate'].min().values # 각 고객별 최초 구매일 - value\n",
    "first_purchase['최초 구매일'] = first_purchase['최초 구매일'].dt.date # 날짜까지만 출력\n",
    "display(first_purchase.head())\n",
    "\n",
    "df = pd.merge(df,first_purchase,how='left') # 원본 데이터에 병합"
   ]
  },
  {
   "cell_type": "markdown",
   "metadata": {},
   "source": [
    "* 고객수는 3920명이며 각 고객별 최초 구매일자를 구하였다.\n",
    "\n",
    "<br>"
   ]
  },
  {
   "cell_type": "markdown",
   "metadata": {},
   "source": [
    "* `각 거래별` 해당 고객의 최초 구매일로부터 해당 거래발생 시점까지의 기간(월단위)을 구한다."
   ]
  },
  {
   "cell_type": "code",
   "execution_count": null,
   "metadata": {},
   "outputs": [],
   "source": [
    "# 개월수 구하기 위한 함수\n",
    "def get_monthly(df):\n",
    "    start = df['최초 구매일']\n",
    "    end = df['InvoiceDate']\n",
    "    \n",
    "    if start.year == end.year:\n",
    "        result = end.month - start.month\n",
    "        return result\n",
    "    elif start.year < end.year:\n",
    "        result = (end.month+12) - start.month\n",
    "        return result\n",
    "    \n",
    "\n",
    "df['cohortIndex_monthly'] = df.apply(get_monthly,axis=1)\n",
    "df['최초 구매일'] = pd.to_datetime(df['최초 구매일'])\n",
    "display(df[['InvoiceDate','최초 구매일','cohortIndex_monthly']])"
   ]
  },
  {
   "cell_type": "markdown",
   "metadata": {},
   "source": [
    "<br>\n",
    "\n",
    "* 고객의 최초구매일(*구매한 월을 기준으로함)을 기준으로 cohort를 나눔"
   ]
  },
  {
   "cell_type": "code",
   "execution_count": null,
   "metadata": {},
   "outputs": [],
   "source": [
    "# cohort groupping\n",
    "# 구매월별 cohort groupping\n",
    "df['cohort_monthly_group'] = df['최초 구매일'].map(lambda x: x.strftime('%Y-%m'))\n",
    "df[['최초 구매일','cohort_monthly_group']].head()"
   ]
  },
  {
   "cell_type": "code",
   "execution_count": null,
   "metadata": {},
   "outputs": [],
   "source": [
    "pivot_1"
   ]
  },
  {
   "cell_type": "code",
   "execution_count": null,
   "metadata": {},
   "outputs": [],
   "source": [
    "# 같은달 중복구매 여부는 무시한다.\n",
    "monthly_cohort_retention = df.groupby(['cohort_monthly_group','cohortIndex_monthly'])[['CustomerID']].nunique()\n",
    "\n",
    "# pivot 형식으로 변경\n",
    "pivot_1 = monthly_cohort_retention.unstack()\n",
    "display(pivot_1)\n",
    "\n",
    "\n",
    "# pivot 테이블의 값을 retention 비율로 변경한 후 시각화\n",
    "for i in range(len(pivot_1)):\n",
    "    pivot_1.iloc[i] = round(pivot_1.iloc[i] / pivot_1.iloc[i][0],2)\n",
    "\n",
    "import plotly.figure_factory as ff\n",
    "val = pivot_1.values.tolist()\n",
    "val.reverse()\n",
    "\n",
    "x = ['0','1','2','3','4','5','6','7','8','9','10','11','12']\n",
    "y= ['2011년 12월','2011년 11월','2011년 10월','2011년 9월','2011년 8월',\n",
    "    '2011년 7월','2011년 6월','2011년 5월','2011년 4월','2011년 3월','2011년 2월','2011년 1월','2010년 12월']\n",
    "z = val\n",
    "z_text = z\n",
    "\n",
    "# z, x=x, y=y, annotation_text=z_text, colorscale='Viridis', hoverinfo='z'\n",
    "fig = ff.create_annotated_heatmap(z=z,y=y,x=x)\n",
    "\n",
    "fig.show()"
   ]
  },
  {
   "cell_type": "markdown",
   "metadata": {},
   "source": [
    "결과설명"
   ]
  },
  {
   "cell_type": "markdown",
   "metadata": {},
   "source": [
    "* <b> <Cohort - 2. 월별 총 매출 대비 월별 획득 고객에 의해 발생한 매출액 비교> </b>"
   ]
  },
  {
   "cell_type": "code",
   "execution_count": null,
   "metadata": {},
   "outputs": [],
   "source": [
    "## 거래금액 col 추가\n",
    "df['sale_amount'] = df['Quantity'] * df['UnitPrice']"
   ]
  },
  {
   "cell_type": "code",
   "execution_count": null,
   "metadata": {
    "scrolled": false
   },
   "outputs": [],
   "source": [
    "##월별 total sales\n",
    "monthly_total_sales = df.set_index('InvoiceDate').resample('M')['sale_amount'].sum()\n",
    "\n",
    "\n",
    "## 월별 신규고객에 의한 sales\n",
    "# (=각 cohort 그룹별 첫달 구매액)\n",
    "each_cohort_sales = {}\n",
    "\n",
    "for group in df['cohort_monthly_group'].unique():\n",
    "    tmp = df[ (df['cohort_monthly_group'] == group) & (df['cohortIndex_monthly'] == 0) ]['sale_amount'].sum()\n",
    "    each_cohort_sales[group] = tmp\n",
    "\n",
    "monthly_Cohort_sales = pd.DataFrame(data=each_cohort_sales.values(), \n",
    "                                        index=monthly_total_sales.index, \n",
    "                                        columns=['first_sales'])\n",
    "\n",
    "monthly_Cohort_sales['total_sales'] = monthly_total_sales\n",
    "display(monthly_Cohort_sales.head())"
   ]
  },
  {
   "cell_type": "code",
   "execution_count": null,
   "metadata": {},
   "outputs": [],
   "source": [
    "import plotly.offline as pyo\n",
    "from plotly import graph_objs as go\n",
    "\n",
    "trace1 = go.Line(x=monthly_Cohort_sales.index, y=monthly_Cohort_sales['total_sales'].values, name='전체 매출')\n",
    "trace2 = go.Bar(x=monthly_Cohort_sales.index, y=monthly_Cohort_sales['first_sales'].values, name='신규 유저 매출')\n",
    "\n",
    "data = [trace1, trace2]\n",
    "layout = go.Layout(title='월별 전체 매출 대비 신규 유저 매출')\n",
    "fig = go.Figure(data=data, layout=layout)\n",
    "pyo.iplot(fig)"
   ]
  },
  {
   "cell_type": "markdown",
   "metadata": {},
   "source": [
    "## < Retention > "
   ]
  },
  {
   "cell_type": "code",
   "execution_count": null,
   "metadata": {},
   "outputs": [],
   "source": [
    "recent_purchase = pd.DataFrame()\n",
    "\n",
    "# 2. 고객별 가장 최근 구매일 구하기\n",
    "recent_purchase['CustomerID'] = df.groupby('CustomerID')['InvoiceDate'].max().index.astype('object')\n",
    "recent_purchase['최근 구매일'] = df.groupby('CustomerID')['InvoiceDate'].max().values\n",
    "recent_purchase['최근 구매일'] = recent_purchase['최근 구매일'].dt.date \n",
    "display(recent_purchase.head())"
   ]
  },
  {
   "cell_type": "code",
   "execution_count": null,
   "metadata": {},
   "outputs": [],
   "source": [
    "# 전체 데이터, 최근 구매일 병합\n",
    "df = pd.merge(df,recent_purchase,how='left')\n",
    "df['최근 구매일'] = pd.to_datetime(df['최근 구매일'])\n",
    "display(df[['CustomerID','최초 구매일','최근 구매일']].head())"
   ]
  },
  {
   "cell_type": "code",
   "execution_count": null,
   "metadata": {},
   "outputs": [],
   "source": [
    "# 최초 구매일에서 최근 구매일까지의 기간 구하기\n",
    "df['기간'] = df['최근 구매일'] - df['최초 구매일']\n",
    "display(df[['CustomerID','최초 구매일','최근 구매일','기간']].head())\n",
    "\n",
    "# 30Days Rolling Retention\n",
    "def rolling_30(x):\n",
    "    x = x.days\n",
    "    if x >= 30 :\n",
    "        return 1\n",
    "    else :\n",
    "        return 0\n",
    "\n",
    "df['Rolling_Retention_30'] = df['기간'].apply(rolling_30)\n",
    "\n",
    "print(\"전체 고객 수 : \",df['CustomerID'].nunique())\n",
    "print(\"30Days Rolling Retention Customer : \",df[df['Rolling_Retention_30'] == 1]['CustomerID'].nunique())\n",
    "print(\"전체 고객수 대비 30Days Rolling Retention Rate : \", df[df['Rolling_Retention_30'] == 1]['CustomerID'].nunique() / df['CustomerID'].nunique())"
   ]
  },
  {
   "cell_type": "markdown",
   "metadata": {},
   "source": [
    "## < RFM >"
   ]
  },
  {
   "cell_type": "code",
   "execution_count": null,
   "metadata": {},
   "outputs": [],
   "source": [
    "## 거래금액 col 추가\n",
    "df['sale_amount'] = df['Quantity'] * df['UnitPrice']"
   ]
  },
  {
   "cell_type": "code",
   "execution_count": null,
   "metadata": {},
   "outputs": [],
   "source": [
    "# 개별 고객 기준데이터로 변경\n",
    "rfm_aggregations = {\n",
    "    \"InvoiceDate\" : 'max', # 고객별 가장 최근 구매일\n",
    "    \"InvoiceNo\" : 'count', # 고객별 구매 횟수 \n",
    "    \"sale_amount\" : \"sum\" # 고객별 구매합계\n",
    "}\n",
    "\n",
    "rfm_df = df.groupby('CustomerID').agg(rfm_aggregations) # 고객ID 기준으로 Gropby\n",
    "\n",
    "rfm_df = rfm_df.rename(columns={'InvoiceDate':'Recency', \n",
    "                                 'InvoiceNo':'Frequency',  \n",
    "                                 'sale_amount':'Monetary' \n",
    "                                 }\n",
    "                        )\n",
    "\n",
    "import datetime as dt\n",
    "rfm_df['Recency'] = dt.datetime(2011,12,10) - rfm_df['Recency']\n",
    "rfm_df['Recency'] = rfm_df['Recency'].apply(lambda x:x.days+1)\n",
    "\n",
    "rfm_df = rfm_df.reset_index() # index 초기화\n",
    "# CustomerID type 변경\n",
    "rfm_df['CustomerID'] = rfm_df['CustomerID'].astype('object')\n",
    "rfm_df.head(5)"
   ]
  },
  {
   "cell_type": "code",
   "execution_count": null,
   "metadata": {},
   "outputs": [],
   "source": [
    "# 구매빈도 TOP10 확인\n",
    "display(rfm_df[['Frequency']].sort_values(by='Frequency',ascending=False).head(10))\n",
    "\n",
    "fig, (ax1,ax2,ax3) = plt.subplots(figsize=(12,4),nrows=1,ncols=3)\n",
    "ax1.set_title('Recency 분포')\n",
    "ax1.hist(rfm_df['Recency'])\n",
    "\n",
    "ax2.set_title('Frequency 분포')\n",
    "ax2.hist(rfm_df['Frequency'])\n",
    "\n",
    "ax3.set_title('Monetary 분포')\n",
    "ax3.hist(rfm_df['Monetary'])\n",
    "\n",
    "# R,F,M 통계량\n",
    "display(rfm_df[['Recency','Frequency','Monetary']].describe())"
   ]
  },
  {
   "cell_type": "code",
   "execution_count": null,
   "metadata": {},
   "outputs": [],
   "source": [
    "r_labels = range(5, 0, -1) # 4,3,2,1\n",
    "f_labels = range(1, 6) # 1,2,3,4,5\n",
    "m_labels = range(1, 6) # 1,2,3,4,5\n",
    "\n",
    "## qcut => 구간 경계선을 지정하지 않고 데이터 갯수가 같도록 지정한 수의 구간으로 나눈다\n",
    "r_groups = pd.qcut(rfm_df['Recency'], q=5, labels=r_labels) \n",
    "f_groups = pd.qcut(rfm_df['Frequency'], q=5, labels=f_labels)\n",
    "m_groups = pd.qcut(rfm_df['Monetary'], q=5, labels=m_labels)\n",
    "\n",
    "rfm_df = rfm_df.assign(R = r_groups.values, F = f_groups.values,M = m_groups.values)\n",
    "rfm_df.head()"
   ]
  },
  {
   "cell_type": "code",
   "execution_count": null,
   "metadata": {},
   "outputs": [],
   "source": [
    "def join_rfm(x): \n",
    "    return str(x['R']) + str(x['F']) + str(x['M'])\n",
    "\n",
    "rfm_df['RFM_Segment_Concat'] = rfm_df.apply(join_rfm, axis=1)\n",
    "rfm_df = rfm_df\n",
    "\n",
    "rfm_df['RFM_Score'] = rfm_df[['R','F','M']].sum(axis=1)\n",
    "\n",
    "rfm_df.head()"
   ]
  },
  {
   "cell_type": "code",
   "execution_count": null,
   "metadata": {},
   "outputs": [],
   "source": [
    "def rfm_level(df):\n",
    "    if df['RFM_Score'] >= 9:\n",
    "        return 'Can\\'t Loose Them'\n",
    "    elif ((df['RFM_Score'] >= 8) and (df['RFM_Score'] < 9)):\n",
    "        return 'Champions'\n",
    "    elif ((df['RFM_Score'] >= 7) and (df['RFM_Score'] < 8)):\n",
    "        return 'Loyal'\n",
    "    elif ((df['RFM_Score'] >= 6) and (df['RFM_Score'] < 7)):\n",
    "        return 'Potential'\n",
    "    elif ((df['RFM_Score'] >= 5) and (df['RFM_Score'] < 6)):\n",
    "        return 'Promising'\n",
    "    elif ((df['RFM_Score'] >= 4) and (df['RFM_Score'] < 5)):\n",
    "        return 'Needs Attention'\n",
    "    else:\n",
    "        return 'Require Activation'\n",
    "    \n",
    "rfm_df['RFM_Level'] = rfm_df.apply(rfm_level, axis=1)\n",
    "rfm_df.head()"
   ]
  },
  {
   "cell_type": "code",
   "execution_count": null,
   "metadata": {},
   "outputs": [],
   "source": [
    "rfm_level_agg = rfm_df.groupby('RFM_Level').agg({\n",
    "    'Recency': 'mean',\n",
    "    'Frequency': 'mean',\n",
    "    'Monetary': ['mean', 'count']\n",
    "}).round(1)\n",
    "\n",
    "display(rfm_level_agg)"
   ]
  },
  {
   "cell_type": "code",
   "execution_count": null,
   "metadata": {},
   "outputs": [],
   "source": []
  },
  {
   "cell_type": "code",
   "execution_count": null,
   "metadata": {},
   "outputs": [],
   "source": []
  }
 ],
 "metadata": {
  "kernelspec": {
   "display_name": "Python 3",
   "language": "python",
   "name": "python3"
  },
  "language_info": {
   "codemirror_mode": {
    "name": "ipython",
    "version": 3
   },
   "file_extension": ".py",
   "mimetype": "text/x-python",
   "name": "python",
   "nbconvert_exporter": "python",
   "pygments_lexer": "ipython3",
   "version": "3.7.4"
  }
 },
 "nbformat": 4,
 "nbformat_minor": 2
}
