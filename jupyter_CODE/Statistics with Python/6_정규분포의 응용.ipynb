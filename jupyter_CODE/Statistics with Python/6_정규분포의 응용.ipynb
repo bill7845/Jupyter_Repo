{
 "cells": [
  {
   "cell_type": "code",
   "execution_count": 1,
   "metadata": {},
   "outputs": [],
   "source": [
    "import pandas as pd\n",
    "import numpy as np\n",
    "import scipy as sp\n",
    "from scipy import stats\n",
    "\n",
    "import matplotlib.pyplot as plt\n",
    "import seaborn as sns\n",
    "sns.set()"
   ]
  },
  {
   "cell_type": "code",
   "execution_count": 2,
   "metadata": {},
   "outputs": [],
   "source": [
    "%matplotlib inline"
   ]
  },
  {
   "cell_type": "code",
   "execution_count": 3,
   "metadata": {},
   "outputs": [
    {
     "data": {
      "text/plain": [
       "'%.3f'"
      ]
     },
     "execution_count": 3,
     "metadata": {},
     "output_type": "execute_result"
    }
   ],
   "source": [
    "%precision 3"
   ]
  },
  {
   "cell_type": "markdown",
   "metadata": {},
   "source": [
    "#### 확률밀도"
   ]
  },
  {
   "cell_type": "code",
   "execution_count": 5,
   "metadata": {},
   "outputs": [
    {
     "data": {
      "text/plain": [
       "0.2283113567362774"
      ]
     },
     "execution_count": 5,
     "metadata": {},
     "output_type": "execute_result"
    }
   ],
   "source": [
    "# 정규분포의 확률밀도 계산\n",
    "# 평균4, 분산0.64(표준편차0.8)인 정규분포에 대해 확률변수가 3일때의 확률밀도\n",
    "\n",
    "stats.norm.pdf(loc=4, scale=0.8, x=3)"
   ]
  },
  {
   "cell_type": "code",
   "execution_count": 10,
   "metadata": {},
   "outputs": [
    {
     "data": {
      "text/plain": [
       "0.2283113567362774"
      ]
     },
     "execution_count": 10,
     "metadata": {},
     "output_type": "execute_result"
    }
   ],
   "source": [
    "# 평균4, 표준편차0.8인 정규분포의 인스턴스를 생성해 pdf함수 호출하여 동일한 결과얻기\n",
    "norm_dist = stats.norm(loc=4, scale=0.8)\n",
    "norm_dist.pdf(x=3)"
   ]
  },
  {
   "cell_type": "code",
   "execution_count": 14,
   "metadata": {},
   "outputs": [
    {
     "data": {
      "text/plain": [
       "[<matplotlib.lines.Line2D at 0x1ce8f42fec8>]"
      ]
     },
     "execution_count": 14,
     "metadata": {},
     "output_type": "execute_result"
    },
    {
     "data": {
      "image/png": "[encoded data removed]",
      "text/plain": [
       "<Figure size 432x288 with 1 Axes>"
      ]
     },
     "metadata": {
      "needs_background": "light"
     },
     "output_type": "display_data"
    }
   ],
   "source": [
    "# 확률밀도 그래프로\n",
    "x_plot = np.arange(start=1, stop=7.1, step=0.1)\n",
    "plt.plot(\n",
    "    x_plot,\n",
    "    stats.norm.pdf(loc=4, scale=0.8,x=x_plot),\n",
    "    color='black'\n",
    ")"
   ]
  },
  {
   "cell_type": "markdown",
   "metadata": {},
   "source": [
    "#### 표본이 어떤 값 이하가 되는 비율"
   ]
  },
  {
   "cell_type": "code",
   "execution_count": 15,
   "metadata": {},
   "outputs": [
    {
     "data": {
      "text/plain": [
       "array([5.299, 3.511, 3.577, ..., 4.065, 4.275, 3.402])"
      ]
     },
     "execution_count": 15,
     "metadata": {},
     "output_type": "execute_result"
    }
   ],
   "source": [
    "# 표본이 어떤 값 이하가 되는 비율을 구하려면 \"어떤 값 이하가 되는 데이터의 개수 / 샘플사이즈\"\n",
    "\n",
    "np.random.seed(1)\n",
    "simulated_sample = stats.norm.rvs(\n",
    "    loc=4, scale=0.8, size=100000\n",
    ")\n",
    "\n",
    "simulated_sample"
   ]
  },
  {
   "cell_type": "code",
   "execution_count": 17,
   "metadata": {},
   "outputs": [
    {
     "data": {
      "text/plain": [
       "0.10371"
      ]
     },
     "execution_count": 17,
     "metadata": {},
     "output_type": "execute_result"
    }
   ],
   "source": [
    "# 3이하인 데이터의 개수\n",
    "sp.sum(simulated_sample <=3 )\n",
    "\n",
    "# 비율 구하기\n",
    "sp.sum(simulated_sample <= 3) / len(simulated_sample) "
   ]
  },
  {
   "cell_type": "markdown",
   "metadata": {},
   "source": [
    "#### 누적분포함수"
   ]
  },
  {
   "cell_type": "code",
   "execution_count": 18,
   "metadata": {},
   "outputs": [
    {
     "data": {
      "text/plain": [
       "0.10564977366685535"
      ]
     },
     "execution_count": 18,
     "metadata": {},
     "output_type": "execute_result"
    }
   ],
   "source": [
    "# \"어떤값 이하가 되는 확률\"\n",
    "# 적분과 덧셈이 거의 같은 의미라는 것을 생각해보면, ~어떤값 까지의 확률밀도를 전부 더한 것\n",
    "# stats.norm의 cdf 함수 사용\n",
    "\n",
    "# 평균4, 표준편차0.8을 따르는 정규분포에서 확률변수가 3이하가 될 확률\n",
    "stats.norm.cdf(loc=4, scale=0.8, x=3)"
   ]
  },
  {
   "cell_type": "code",
   "execution_count": null,
   "metadata": {},
   "outputs": [],
   "source": [
    "# 데이터를 하나하나 세어보지 않고 적분을 이용해서 확률을 간단히 계산할 수 있다. 모집단을 정규분포로 가정했을경우의 장점"
   ]
  },
  {
   "cell_type": "markdown",
   "metadata": {},
   "source": [
    "#### 하측확률과 퍼센트포인트"
   ]
  },
  {
   "cell_type": "code",
   "execution_count": null,
   "metadata": {},
   "outputs": [],
   "source": [
    "# 하측확률 => 데이터가 어떤 값 이하가 될 확률\n",
    "# 퍼센트포인트 => 어떤 확률이 될 기준치(=하측퍼센트포인트)"
   ]
  },
  {
   "cell_type": "code",
   "execution_count": 19,
   "metadata": {},
   "outputs": [
    {
     "data": {
      "text/plain": [
       "2.4320288123679563"
      ]
     },
     "execution_count": 19,
     "metadata": {},
     "output_type": "execute_result"
    }
   ],
   "source": [
    "# 퍼센트포인트 ex) 확률변수 x가 N보다 낮을 확률 M퍼센트\n",
    "#                  이때 M을 고정하고 N을 구하는경우에 N이 퍼센트 포인트\n",
    "\n",
    "stats.norm.ppf(loc=4, scale=0.8, q=0.025) # 하측확률이 2.5%가 되는 퍼센트포인트"
   ]
  }
 ],
 "metadata": {
  "kernelspec": {
   "display_name": "Python 3",
   "language": "python",
   "name": "python3"
  },
  "language_info": {
   "codemirror_mode": {
    "name": "ipython",
    "version": 3
   },
   "file_extension": ".py",
   "mimetype": "text/x-python",
   "name": "python",
   "nbconvert_exporter": "python",
   "pygments_lexer": "ipython3",
   "version": "3.7.4"
  }
 },
 "nbformat": 4,
 "nbformat_minor": 2
}
