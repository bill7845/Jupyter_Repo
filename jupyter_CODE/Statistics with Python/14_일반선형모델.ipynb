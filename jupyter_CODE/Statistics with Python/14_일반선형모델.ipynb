{
 "cells": [
  {
   "cell_type": "markdown",
   "metadata": {},
   "source": [
    "#### 이항분포"
   ]
  },
  {
   "cell_type": "code",
   "execution_count": 1,
   "metadata": {},
   "outputs": [],
   "source": [
    "import pandas as pd\n",
    "import numpy as np \n",
    "import scipy as sp\n",
    "from scipy import stats\n",
    "\n",
    "import matplotlib.pyplot as plt\n",
    "import seaborn as sns\n",
    "sns.set()\n",
    "\n",
    "%matplotlib inline"
   ]
  },
  {
   "cell_type": "code",
   "execution_count": 2,
   "metadata": {},
   "outputs": [
    {
     "data": {
      "text/plain": [
       "'%.3f'"
      ]
     },
     "execution_count": 2,
     "metadata": {},
     "output_type": "execute_result"
    }
   ],
   "source": [
    "%precision 3"
   ]
  },
  {
   "cell_type": "code",
   "execution_count": 4,
   "metadata": {},
   "outputs": [
    {
     "data": {
      "text/plain": [
       "0.5"
      ]
     },
     "execution_count": 4,
     "metadata": {},
     "output_type": "execute_result"
    }
   ],
   "source": [
    "# 이항분포의 확률질량함수\n",
    "# pmf 함수 이용\n",
    "\n",
    "# 앞이 나올 확률이 50%인 동전을 2번 던져서 그중 1번이 앞면일 확률\n",
    "sp.stats.binom.pmf(k=1, n=2, p=0.5) # 성공횟수, 시행횟수, 성공확률"
   ]
  },
  {
   "cell_type": "code",
   "execution_count": 6,
   "metadata": {},
   "outputs": [
    {
     "data": {
      "text/plain": [
       "array([2, 3, 0, 1, 1])"
      ]
     },
     "execution_count": 6,
     "metadata": {},
     "output_type": "execute_result"
    }
   ],
   "source": [
    "# 난수생성\n",
    "np.random.seed(1)\n",
    "# 앞이 나올 확률이 20%인 동전을 10번 던져서 앞이 나온 수를 세는 시행을 5번 반복\n",
    "sp.stats.binom.rvs(n=10, p=0.2, size=5)"
   ]
  },
  {
   "cell_type": "code",
   "execution_count": 7,
   "metadata": {},
   "outputs": [
    {
     "data": {
      "text/plain": [
       "[<matplotlib.lines.Line2D at 0x1c389f65f88>]"
      ]
     },
     "execution_count": 7,
     "metadata": {},
     "output_type": "execute_result"
    },
    {
     "data": {
      "image/png": "[encoded data removed]",
      "text/plain": [
       "<Figure size 432x288 with 1 Axes>"
      ]
     },
     "metadata": {
      "needs_background": "light"
     },
     "output_type": "display_data"
    }
   ],
   "source": [
    "# 난수의 히스토그램과 이항분포의 확률질량함수에서 계산된 확률을 그래프로\n",
    "\n",
    "# N=10, p=0.2인 이항분포\n",
    "binomial = sp.stats.binom(n=10, p=0.2)\n",
    "\n",
    "# 난수\n",
    "np.random.seed(1)\n",
    "rvs_binomial = binomial.rvs(size=10000)\n",
    "\n",
    "# 확률밀도함수\n",
    "m = np.arange(0,10,1)\n",
    "pmf_binomial = binomial.pmf(k=m)\n",
    "\n",
    "# 난수의 히스토그램과 확률질량함수를 겹쳐서 그리기\n",
    "sns.distplot(rvs_binomial, bins=m, kde=False, norm_hist=True, color='gray')\n",
    "plt.plot(m, pmf_binomial, color='black')"
   ]
  },
  {
   "cell_type": "markdown",
   "metadata": {},
   "source": [
    "#### 푸아송 분포"
   ]
  },
  {
   "cell_type": "code",
   "execution_count": null,
   "metadata": {},
   "outputs": [],
   "source": [
    "# 푸아송 분포는 1개 또는 2개, 1회 또는 2회 등의 카운트 데이터가 따르는 이산형 확률분포                               "
   ]
  },
  {
   "cell_type": "code",
   "execution_count": 9,
   "metadata": {},
   "outputs": [
    {
     "data": {
      "text/plain": [
       "0.08422433748856832"
      ]
     },
     "execution_count": 9,
     "metadata": {},
     "output_type": "execute_result"
    }
   ],
   "source": [
    "# 푸아송 분포의 확률질량함수는 sp.stats.poisson.pmf를 사용\n",
    "\n",
    "# 강도가 5인 푸아송분포에서 어떤 값(k) 2를 얻는 확률\n",
    "sp.stats.poisson.pmf(k=2, mu=5)"
   ]
  },
  {
   "cell_type": "code",
   "execution_count": 10,
   "metadata": {},
   "outputs": [
    {
     "data": {
      "text/plain": [
       "array([2, 1, 0, 1, 2])"
      ]
     },
     "execution_count": 10,
     "metadata": {},
     "output_type": "execute_result"
    }
   ],
   "source": [
    "# 강도가 2인 푸아송 분포를 따르는 난수생성\n",
    "np.random.seed(1)\n",
    "sp.stats.poisson.rvs(mu=2, size=5)"
   ]
  },
  {
   "cell_type": "code",
   "execution_count": 12,
   "metadata": {},
   "outputs": [
    {
     "data": {
      "text/plain": [
       "[<matplotlib.lines.Line2D at 0x1c38b228e08>]"
      ]
     },
     "execution_count": 12,
     "metadata": {},
     "output_type": "execute_result"
    },
    {
     "data": {
      "image/png": "[encoded data removed]",
      "text/plain": [
       "<Figure size 432x288 with 1 Axes>"
      ]
     },
     "metadata": {
      "needs_background": "light"
     },
     "output_type": "display_data"
    }
   ],
   "source": [
    "# 난수의 히스토그램과 확률질량함수 비교\n",
    "\n",
    "# 강도=2인 푸아송 분포\n",
    "poisson = sp.stats.poisson(mu=2)\n",
    "\n",
    "# 난수\n",
    "np.random.seed(1)\n",
    "rvs_poisson = poisson.rvs(size=10000)\n",
    "\n",
    "# 확률질량함수\n",
    "pmf_poisson = poisson.pmf(k=m)\n",
    "\n",
    "#난수의 히스토그램과 확률질량함수를 겹쳐서 그리기\n",
    "sns.distplot(rvs_poisson, bins=m, kde=False, norm_hist=True, color='gray')\n",
    "\n",
    "plt.plot(m, pmf_poisson, color='black')"
   ]
  },
  {
   "cell_type": "markdown",
   "metadata": {},
   "source": [
    "#### 푸아송 분포와 이항분포의 관계"
   ]
  },
  {
   "cell_type": "code",
   "execution_count": 14,
   "metadata": {},
   "outputs": [
    {
     "data": {
      "text/plain": [
       "[<matplotlib.lines.Line2D at 0x1c38b4a4dc8>]"
      ]
     },
     "execution_count": 14,
     "metadata": {},
     "output_type": "execute_result"
    },
    {
     "data": {
      "image/png": "[encoded data removed]",
      "text/plain": [
       "<Figure size 432x288 with 1 Axes>"
      ]
     },
     "metadata": {
      "needs_background": "light"
     },
     "output_type": "display_data"
    }
   ],
   "source": [
    "# N이 크고 p가 작은 이항분포\n",
    "N = 10000000000\n",
    "p = 0.000000002\n",
    "binomial_2 = sp.stats.binom(n=N, p=p)\n",
    "\n",
    "# 확률질량함수\n",
    "pmf_binomial_2 = binomial_2.pmf(k=m)\n",
    "\n",
    "# 확률질량의 그래프\n",
    "plt.plot(m, pmf_poisson, color='gray')\n",
    "plt.plot(m, pmf_poisson, color='black', linestyle='dotted')\n",
    "\n",
    "# 거의 일치"
   ]
  }
 ],
 "metadata": {
  "kernelspec": {
   "display_name": "Python 3",
   "language": "python",
   "name": "python3"
  },
  "language_info": {
   "codemirror_mode": {
    "name": "ipython",
    "version": 3
   },
   "file_extension": ".py",
   "mimetype": "text/x-python",
   "name": "python",
   "nbconvert_exporter": "python",
   "pygments_lexer": "ipython3",
   "version": "3.7.4"
  }
 },
 "nbformat": 4,
 "nbformat_minor": 2
}
