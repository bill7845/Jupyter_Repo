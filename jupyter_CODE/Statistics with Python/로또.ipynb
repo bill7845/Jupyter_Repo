{
 "cells": [
  {
   "cell_type": "code",
   "execution_count": 1,
   "metadata": {},
   "outputs": [],
   "source": [
    "import numpy as np"
   ]
  },
  {
   "cell_type": "code",
   "execution_count": 2,
   "metadata": {},
   "outputs": [],
   "source": [
    "num = np.arange(1,46)"
   ]
  },
  {
   "cell_type": "code",
   "execution_count": 3,
   "metadata": {},
   "outputs": [
    {
     "name": "stdout",
     "output_type": "stream",
     "text": [
      "[24  1 37 11  9  3]\n",
      "[ 9 31  4 34  7 41]\n",
      "[12 16 18 31 13 33]\n",
      "[ 8 19 11  4 28 24]\n",
      "[31 14  5 37  8 20]\n"
     ]
    }
   ],
   "source": [
    "result_list = []\n",
    "for i in range(5):\n",
    "    a_1 = np.random.choice(num,size=6,replace=False)\n",
    "    print(a_1)"
   ]
  }
 ],
 "metadata": {
  "kernelspec": {
   "display_name": "Python 3",
   "language": "python",
   "name": "python3"
  },
  "language_info": {
   "codemirror_mode": {
    "name": "ipython",
    "version": 3
   },
   "file_extension": ".py",
   "mimetype": "text/x-python",
   "name": "python",
   "nbconvert_exporter": "python",
   "pygments_lexer": "ipython3",
   "version": "3.7.4"
  }
 },
 "nbformat": 4,
 "nbformat_minor": 2
}
