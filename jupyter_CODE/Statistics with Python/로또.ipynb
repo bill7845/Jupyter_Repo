{
 "cells": [
  {
   "cell_type": "code",
   "execution_count": 34,
   "metadata": {},
   "outputs": [],
   "source": [
    "import numpy as np"
   ]
  },
  {
   "cell_type": "code",
   "execution_count": 35,
   "metadata": {},
   "outputs": [],
   "source": [
    "num = np.arange(1,46)"
   ]
  },
  {
   "cell_type": "code",
   "execution_count": 50,
   "metadata": {},
   "outputs": [
    {
     "name": "stdout",
     "output_type": "stream",
     "text": [
      "[20 34 23 11 18 10]\n",
      "[24 36 21  3 44 30]\n",
      "[ 9  8 45 32 37 10]\n",
      "[25 42  5 11 32 36]\n",
      "[26 24 14 44 32 25]\n"
     ]
    }
   ],
   "source": [
    "result_list = []\n",
    "for i in range(5):\n",
    "    a_1 = np.random.choice(num,size=6,replace=False)\n",
    "    print(a_1)"
   ]
  }
 ],
 "metadata": {
  "kernelspec": {
   "display_name": "Python 3",
   "language": "python",
   "name": "python3"
  },
  "language_info": {
   "codemirror_mode": {
    "name": "ipython",
    "version": 3
   },
   "file_extension": ".py",
   "mimetype": "text/x-python",
   "name": "python",
   "nbconvert_exporter": "python",
   "pygments_lexer": "ipython3",
   "version": "3.7.4"
  }
 },
 "nbformat": 4,
 "nbformat_minor": 2
}
