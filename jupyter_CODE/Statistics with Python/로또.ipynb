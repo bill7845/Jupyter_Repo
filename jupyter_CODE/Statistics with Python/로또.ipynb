{
 "cells": [
  {
   "cell_type": "code",
   "execution_count": 1,
   "metadata": {},
   "outputs": [],
   "source": [
    "import numpy as np"
   ]
  },
  {
   "cell_type": "code",
   "execution_count": 2,
   "metadata": {},
   "outputs": [],
   "source": [
    "num = np.arange(1,46)"
   ]
  },
  {
   "cell_type": "code",
   "execution_count": 3,
   "metadata": {},
   "outputs": [
    {
     "name": "stdout",
     "output_type": "stream",
     "text": [
      "[16 36 18  4 20 27]\n",
      "[18 11 17 15 43 32]\n",
      "[44  8  4 26 12 13]\n",
      "[31 20 28  3 14  8]\n",
      "[ 3  6 19 44  4 21]\n"
     ]
    }
   ],
   "source": [
    "result_list = []\n",
    "for i in range(5):\n",
    "    a_1 = np.random.choice(num,size=6,replace=False)\n",
    "    print(a_1)"
   ]
  }
 ],
 "metadata": {
  "kernelspec": {
   "display_name": "Python 3",
   "language": "python",
   "name": "python3"
  },
  "language_info": {
   "codemirror_mode": {
    "name": "ipython",
    "version": 3
   },
   "file_extension": ".py",
   "mimetype": "text/x-python",
   "name": "python",
   "nbconvert_exporter": "python",
   "pygments_lexer": "ipython3",
   "version": "3.7.4"
  }
 },
 "nbformat": 4,
 "nbformat_minor": 2
}
