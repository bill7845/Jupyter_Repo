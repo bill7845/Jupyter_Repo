{
 "cells": [
  {
   "cell_type": "code",
   "execution_count": 301,
   "metadata": {},
   "outputs": [],
   "source": [
    "import requests\n",
    "from bs4 import BeautifulSoup\n",
    "\n",
    "from selenium import webdriver\n",
    "from selenium.webdriver.common.by import By\n",
    "from selenium.webdriver.common.keys import Keys\n",
    "from selenium.webdriver.support.ui import Select\n",
    "from selenium.webdriver.support.ui import WebDriverWait\n",
    "from selenium.common.exceptions import TimeoutException\n",
    "from selenium.webdriver.support import expected_conditions as EC\n",
    "from selenium.common.exceptions import NoSuchElementException\n",
    "from selenium.common.exceptions import NoAlertPresentException\n",
    "from selenium.webdriver.chrome.options import Options\n",
    "\n",
    "import pandas as pd"
   ]
  },
  {
   "cell_type": "code",
   "execution_count": 302,
   "metadata": {},
   "outputs": [],
   "source": [
    "# selenium 속도향상위해 불필요한 옵션을 사용하지 않게하는 코드\n",
    "\n",
    "options = Options()\n",
    "prefs = {'profile.default_content_setting_values': {'cookies' : 2, 'images': 2, \n",
    "                                                    'plugins' : 2, 'popups': 2, 'geolocation': 2,\n",
    "                                                    'notifications' : 2, 'auto_select_certificate': 2,\n",
    "                                                    'fullscreen' : 2,\n",
    "                                                    'mouselock' : 2, 'mixed_script': 2, \n",
    "                                                    'media_stream' : 2, 'media_stream_mic' : 2,\n",
    "                                                    'media_stream_camera': 2, 'protocol_handlers' : 2,\n",
    "                                                    'ppapi_broker' : 2, 'automatic_downloads': 2, 'midi_sysex' : 2,\n",
    "                                                    'push_messaging' : 2, 'ssl_cert_decisions': 2, 'metro_switch_to_desktop' : 2,\n",
    "                                                    'protected_media_identifier': 2, 'app_banner': 2, 'site_engagement' : 2,\n",
    "                                                    'durable_storage' : 2}}\n",
    "\n",
    "options.add_experimental_option('prefs', prefs) \n",
    "options.add_argument(\"start-maximized\") \n",
    "options.add_argument(\"disable-infobars\") \n",
    "options.add_argument(\"--disable-extensions\")"
   ]
  },
  {
   "cell_type": "code",
   "execution_count": 303,
   "metadata": {},
   "outputs": [],
   "source": [
    "import time\n",
    "\n",
    "def get_user_list(base_url):\n",
    "    chromedriver = 'C:/selenium/chromedriver.exe' \n",
    "    driver = webdriver.Chrome(chromedriver) # 크롬드라이버 작동\n",
    "    base_url = base_url\n",
    "    \n",
    "    driver.get(base_url)\n",
    "    \n",
    "    SCROLL_PAUSE_TIME = 10\n",
    "\n",
    "    # Get scroll height\n",
    "    last_height = driver.execute_script(\"return document.body.scrollHeight\")\n",
    "    while True:\n",
    "        # Scroll down to bottom                                                      \n",
    "        driver.execute_script(\"window.scrollTo(0, document.body.scrollHeight);\")\n",
    "\n",
    "        # Wait to load page\n",
    "        time.sleep(SCROLL_PAUSE_TIME)                                                \n",
    "        driver.execute_script(\"window.scrollTo(0, document.body.scrollHeight-50);\")  \n",
    "        time.sleep(SCROLL_PAUSE_TIME)\n",
    "\n",
    "        # Calculate new scroll height and compare with last scroll height            \n",
    "        new_height = driver.execute_script(\"return document.body.scrollHeight\")\n",
    "\n",
    "        if new_height == last_height:                                                \n",
    "            break\n",
    "        last_height = new_height\n",
    "        \n",
    "    html = driver.page_source\n",
    "    soup = BeautifulSoup(html,'html.parser')\n",
    "    userId_parsing = soup.select('div.list-item > a')\n",
    "    \n",
    "    user_id_list = []\n",
    "    for user_id in userId_parsing:\n",
    "        user_id_list.append(user_id['href'].split('/')[3].split('?')[0])\n",
    "        \n",
    "    driver.close()\n",
    "    \n",
    "    return user_id_list"
   ]
  },
  {
   "cell_type": "code",
   "execution_count": 304,
   "metadata": {},
   "outputs": [],
   "source": [
    "base_url_list = ['https://soomgo.com/search/pro/service/address/%EB%A0%88%EC%8A%A8/last_login',\n",
    "                 'https://soomgo.com/search/pro/service/address/%ED%99%88-%EB%A6%AC%EB%B9%99/last_login',\n",
    "                 'https://soomgo.com/search/pro/service/address/%EC%9D%B4%EB%B2%A4%ED%8A%B8/last_login',\n",
    "                 'https://soomgo.com/search/pro/service/address/%EB%B9%84%EC%A6%88%EB%8B%88%EC%8A%A4/last_login',\n",
    "                 'https://soomgo.com/search/pro/service/address/%EB%94%94%EC%9E%90%EC%9D%B8-%EA%B0%9C%EB%B0%9C/last_login',\n",
    "                 'https://soomgo.com/search/pro/service/address/%EA%B1%B4%EA%B0%95-%EB%AF%B8%EC%9A%A9/last_login',\n",
    "                 'https://soomgo.com/search/pro/service/address/%EC%95%8C%EB%B0%94/last_login',\n",
    "                 'https://soomgo.com/search/pro/service/address/%EA%B8%B0%ED%83%80/last_login']"
   ]
  },
  {
   "cell_type": "code",
   "execution_count": 305,
   "metadata": {},
   "outputs": [],
   "source": [
    "tmp_user_list = []\n",
    "for url in base_url_list:\n",
    "    tmp_user_list.append(get_user_list(url))"
   ]
  },
  {
   "cell_type": "code",
   "execution_count": 314,
   "metadata": {},
   "outputs": [],
   "source": [
    "res_user_id_list = sum(tmp_user_list,[])\n",
    "res_user_id_list= list(set(res_user_id_list))"
   ]
  },
  {
   "cell_type": "code",
   "execution_count": 413,
   "metadata": {},
   "outputs": [],
   "source": [
    "tmp_data = []\n",
    "tmp_dict = {}\n",
    "\n",
    "def main_parsing(user_id_list):\n",
    "    \n",
    "    global tmp_data\n",
    "    global tmp_dict\n",
    "    \n",
    "    for user_id in user_id_list:\n",
    "        print(user_id)\n",
    "        res = requests.get(\"https://soomgo.com/profile/users/\" + user_id + \"?from=%EC%A7%80%EC%A0%95%EC%9A%94%EC%B2%AD%EC%84%9C\")\n",
    "        soup = BeautifulSoup(res.content, 'html.parser')\n",
    "        \n",
    "        categories = soup.select('div.view ul li')\n",
    "        category = []\n",
    "        for c in categories:\n",
    "            category.append(c.text)\n",
    "            \n",
    "        hired_cnt = 0\n",
    "        if soup.select_one('span.badge') == 'None' : hired_cnt = soup.select_one('li.hired').text.split(\"회\")[0]\n",
    "        else : hired_cnt = \"신규고수\"\n",
    "            \n",
    "        career = 0\n",
    "        if soup.select_one('li.career') == None : career = 0\n",
    "        else : career = soup.select_one('li.career').text.split(\" \")[1][:-1]\n",
    "\n",
    "        \n",
    "        auth_business = ''\n",
    "        if soup.select_one('li.auth-business') == None : auth_business = None\n",
    "        else : auth_business = \"사업자등록증 등록완료\"\n",
    "            \n",
    "        auth_personal = ''\n",
    "        if soup.select_one('li.auth-personal') == None : auth_personal = None\n",
    "        else : auth_personal = \"본인 인증\"\n",
    "        \n",
    "            \n",
    "        business_size = 0\n",
    "        if soup.select_one('li.business-size') == None : business_size = None\n",
    "        else : business_size = soup.select_one('li.business-size').text.split(\" \")[1][:-1]\n",
    "            \n",
    "        payment = ''\n",
    "        if soup.select_one('li.payment') == None : payment = None\n",
    "        else : payment = soup.select_one('li.payment').text\n",
    "        \n",
    "        tmp_dict['user_id'] = user_id\n",
    "        tmp_dict['category'] = category\n",
    "        tmp_dict['grade'] = soup.select_one('span.point').text\n",
    "        tmp_dict['hired_cnt'] = hired_cnt\n",
    "        tmp_dict['review_cnt'] = soup.select_one('span.review_count').text.split(\"개\")[0].split(\"(\")[1]\n",
    "        tmp_dict['address'] = soup.select_one('li.address').text\n",
    "        tmp_dict['career'] = career\n",
    "        tmp_dict['business_size'] = business_size\n",
    "        tmp_dict['auth_business'] = auth_business\n",
    "        tmp_dict['auth_personal'] = auth_personal\n",
    "        tmp_dict['payment'] = payment\n",
    "        \n",
    "        tmp_data.append(tmp_dict)\n",
    "        tmp_dict = {}\n",
    "        \n",
    "    return tmp_data"
   ]
  },
  {
   "cell_type": "code",
   "execution_count": 424,
   "metadata": {},
   "outputs": [],
   "source": [
    "# res_data_1 = main_parsing(res_user_id_list[:5000])\n",
    "# tmp_data = []\n",
    "\n",
    "# res_data_2 = main_parsing(res_user_id_list[5000:10000])\n",
    "# tmp_data = []\n",
    "\n",
    "# res_data_3 = main_parsing(res_user_id_list[10000:])\n",
    "# tmp_data = []"
   ]
  },
  {
   "cell_type": "code",
   "execution_count": 422,
   "metadata": {},
   "outputs": [],
   "source": [
    "import json\n",
    "from collections import OrderedDict\n",
    "\n",
    "# Ready for data\n",
    "# OrderDict => 딕셔너리 key 자동정렬 방지\n",
    "to_json = OrderedDict() \n",
    "\n",
    "to_json['name'] = \"유저별 정보\" # 카테고리명으로 지정 \n",
    "to_json['version'] = \"200310\" # 날짜\n",
    "to_json['data'] = res_data_3\n",
    "\n",
    "# Write JSON\n",
    "# json 저장 부분. 이름 바꿔서 저장해야함\n",
    "# brunch_json_category_날짜+버전 형식으로 저장할것\n",
    "with open('유저별정보_200310_3', 'w', encoding=\"utf-8\") as make_file: \n",
    "    json.dump(to_json, make_file, ensure_ascii=False, indent=\"\\t\")"
   ]
  },
  {
   "cell_type": "code",
   "execution_count": 405,
   "metadata": {},
   "outputs": [],
   "source": [
    "with open('유저별정보_200310_2',encoding='utf-8') as json_file:\n",
    "    json_data = json.load(json_file)"
   ]
  },
  {
   "cell_type": "code",
   "execution_count": 436,
   "metadata": {},
   "outputs": [
    {
     "data": {
      "text/plain": [
       "{'user_id': '1870002',\n",
       " 'category': [' 원룸/소형 이사 ', ' 가정이사 (투룸 이상) ', ' 사무실/상업공간 이사 '],\n",
       " 'grade': '5.0',\n",
       " 'hired_cnt': '신규고수',\n",
       " 'review_cnt': '5',\n",
       " 'address': ' 인천 서구 ',\n",
       " 'career': '15',\n",
       " 'business_size': '3',\n",
       " 'auth_business': '사업자등록증 등록완료',\n",
       " 'auth_personal': '본인 인증',\n",
       " 'payment': '안전거래, 카드결제, 계좌이체, 현금결제 가능'}"
      ]
     },
     "execution_count": 436,
     "metadata": {},
     "output_type": "execute_result"
    }
   ],
   "source": [
    "json_data['data'][0]"
   ]
  }
 ],
 "metadata": {
  "kernelspec": {
   "display_name": "Python 3",
   "language": "python",
   "name": "python3"
  },
  "language_info": {
   "codemirror_mode": {
    "name": "ipython",
    "version": 3
   },
   "file_extension": ".py",
   "mimetype": "text/x-python",
   "name": "python",
   "nbconvert_exporter": "python",
   "pygments_lexer": "ipython3",
   "version": "3.7.4"
  }
 },
 "nbformat": 4,
 "nbformat_minor": 2
}
