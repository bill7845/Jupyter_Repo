{
 "cells": [
  {
   "cell_type": "code",
   "execution_count": 3,
   "metadata": {},
   "outputs": [
    {
     "name": "stderr",
     "output_type": "stream",
     "text": [
      "UsageError: Line magic function `%matplotlib.inline` not found.\n"
     ]
    }
   ],
   "source": [
    "import pandas as pd\n",
    "import json\n",
    "\n",
    "import matplotlib.pyplot as plt\n",
    "import seaborn as sns\n",
    "\n",
    "%matplotlib.inline\n",
    "sns.set()"
   ]
  },
  {
   "cell_type": "markdown",
   "metadata": {},
   "source": [
    "#### 크롤링하여 저장해놓은 데이터를 불러온다"
   ]
  },
  {
   "cell_type": "code",
   "execution_count": 4,
   "metadata": {},
   "outputs": [],
   "source": [
    "# read json\n",
    "\n",
    "with open('유저별정보_200310_1',encoding='utf-8') as json_file:\n",
    "    json_data_1 = json.load(json_file)\n",
    "with open('유저별정보_200310_2',encoding='utf-8') as json_file:\n",
    "    json_data_2 = json.load(json_file)\n",
    "with open('유저별정보_200310_3',encoding='utf-8') as json_file:\n",
    "    json_data_3 = json.load(json_file)"
   ]
  },
  {
   "cell_type": "code",
   "execution_count": 7,
   "metadata": {},
   "outputs": [],
   "source": [
    "# json to DataFrame\n",
    "\n",
    "df_1 = pd.DataFrame(json_data_1['data'])\n",
    "df_2 = pd.DataFrame(json_data_2['data'])\n",
    "df_3 = pd.DataFrame(json_data_3['data'])"
   ]
  },
  {
   "cell_type": "markdown",
   "metadata": {},
   "source": [
    "#### 로드해온 총 3개의 데이터프레임을 하나로 이어붙인다."
   ]
  },
  {
   "cell_type": "code",
   "execution_count": 11,
   "metadata": {},
   "outputs": [],
   "source": [
    "df = pd.concat([df_1,df_2,df_3])\n",
    "\n",
    "# change index\n",
    "df.set_index('user_id',inplace=True)"
   ]
  },
  {
   "cell_type": "code",
   "execution_count": 13,
   "metadata": {},
   "outputs": [
    {
     "data": {
      "text/html": [
       "<div>\n",
       "<style scoped>\n",
       "    .dataframe tbody tr th:only-of-type {\n",
       "        vertical-align: middle;\n",
       "    }\n",
       "\n",
       "    .dataframe tbody tr th {\n",
       "        vertical-align: top;\n",
       "    }\n",
       "\n",
       "    .dataframe thead th {\n",
       "        text-align: right;\n",
       "    }\n",
       "</style>\n",
       "<table border=\"1\" class=\"dataframe\">\n",
       "  <thead>\n",
       "    <tr style=\"text-align: right;\">\n",
       "      <th></th>\n",
       "      <th>category</th>\n",
       "      <th>grade</th>\n",
       "      <th>hired_cnt</th>\n",
       "      <th>review_cnt</th>\n",
       "      <th>address</th>\n",
       "      <th>career</th>\n",
       "      <th>business_size</th>\n",
       "      <th>auth_business</th>\n",
       "      <th>auth_personal</th>\n",
       "      <th>payment</th>\n",
       "    </tr>\n",
       "    <tr>\n",
       "      <th>user_id</th>\n",
       "      <th></th>\n",
       "      <th></th>\n",
       "      <th></th>\n",
       "      <th></th>\n",
       "      <th></th>\n",
       "      <th></th>\n",
       "      <th></th>\n",
       "      <th></th>\n",
       "      <th></th>\n",
       "      <th></th>\n",
       "    </tr>\n",
       "  </thead>\n",
       "  <tbody>\n",
       "    <tr>\n",
       "      <td>1177731</td>\n",
       "      <td>[ 일본어(일어) 과외 ]</td>\n",
       "      <td>0.0</td>\n",
       "      <td>신규고수</td>\n",
       "      <td>0</td>\n",
       "      <td>강원 원주시</td>\n",
       "      <td>5</td>\n",
       "      <td>2</td>\n",
       "      <td>None</td>\n",
       "      <td>본인 인증</td>\n",
       "      <td>안전거래, 계좌이체, 현금결제 가능</td>\n",
       "    </tr>\n",
       "    <tr>\n",
       "      <td>1699997</td>\n",
       "      <td>[ 퍼스널 컬러/이미지 메이킹 ,  뷰티/미용 레슨 ,  속눈썹 연장/파마 ]</td>\n",
       "      <td>0.0</td>\n",
       "      <td>신규고수</td>\n",
       "      <td>0</td>\n",
       "      <td>세종특별자치시 시청대로</td>\n",
       "      <td>20</td>\n",
       "      <td>2</td>\n",
       "      <td>None</td>\n",
       "      <td>None</td>\n",
       "      <td>카드결제, 계좌이체, 현금결제 가능</td>\n",
       "    </tr>\n",
       "    <tr>\n",
       "      <td>807658</td>\n",
       "      <td>[ 축구 레슨 ]</td>\n",
       "      <td>0.0</td>\n",
       "      <td>신규고수</td>\n",
       "      <td>0</td>\n",
       "      <td>서울특별시 마포구</td>\n",
       "      <td>4</td>\n",
       "      <td>None</td>\n",
       "      <td>None</td>\n",
       "      <td>본인 인증</td>\n",
       "      <td>None</td>\n",
       "    </tr>\n",
       "  </tbody>\n",
       "</table>\n",
       "</div>"
      ],
      "text/plain": [
       "                                            category grade hired_cnt  \\\n",
       "user_id                                                                \n",
       "1177731                               [ 일본어(일어) 과외 ]   0.0      신규고수   \n",
       "1699997  [ 퍼스널 컬러/이미지 메이킹 ,  뷰티/미용 레슨 ,  속눈썹 연장/파마 ]   0.0      신규고수   \n",
       "807658                                     [ 축구 레슨 ]   0.0      신규고수   \n",
       "\n",
       "        review_cnt         address career business_size auth_business  \\\n",
       "user_id                                                                 \n",
       "1177731          0         강원 원주시       5             2          None   \n",
       "1699997          0   세종특별자치시 시청대로      20             2          None   \n",
       "807658           0      서울특별시 마포구       4          None          None   \n",
       "\n",
       "        auth_personal              payment  \n",
       "user_id                                     \n",
       "1177731         본인 인증  안전거래, 계좌이체, 현금결제 가능  \n",
       "1699997          None  카드결제, 계좌이체, 현금결제 가능  \n",
       "807658          본인 인증                 None  "
      ]
     },
     "execution_count": 13,
     "metadata": {},
     "output_type": "execute_result"
    }
   ],
   "source": [
    "df.head(3)"
   ]
  },
  {
   "cell_type": "markdown",
   "metadata": {},
   "source": [
    "#### 만들어진 데이터프레임의 모양을 살펴본다."
   ]
  },
  {
   "cell_type": "code",
   "execution_count": 14,
   "metadata": {},
   "outputs": [
    {
     "data": {
      "text/plain": [
       "(15827, 10)"
      ]
     },
     "execution_count": 14,
     "metadata": {},
     "output_type": "execute_result"
    }
   ],
   "source": [
    "df.shape # 총 15827개의 row와 10개"
   ]
  },
  {
   "cell_type": "code",
   "execution_count": null,
   "metadata": {},
   "outputs": [],
   "source": []
  },
  {
   "cell_type": "code",
   "execution_count": null,
   "metadata": {},
   "outputs": [],
   "source": []
  },
  {
   "cell_type": "code",
   "execution_count": null,
   "metadata": {},
   "outputs": [],
   "source": []
  }
 ],
 "metadata": {
  "kernelspec": {
   "display_name": "Python 3",
   "language": "python",
   "name": "python3"
  },
  "language_info": {
   "codemirror_mode": {
    "name": "ipython",
    "version": 3
   },
   "file_extension": ".py",
   "mimetype": "text/x-python",
   "name": "python",
   "nbconvert_exporter": "python",
   "pygments_lexer": "ipython3",
   "version": "3.7.4"
  }
 },
 "nbformat": 4,
 "nbformat_minor": 2
}
