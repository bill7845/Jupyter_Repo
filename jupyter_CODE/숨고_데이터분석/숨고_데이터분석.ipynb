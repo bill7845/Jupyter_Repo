{
 "cells": [
  {
   "cell_type": "markdown",
   "metadata": {},
   "source": [
    "# 숨고 데이터 분석\n",
    "\n",
    "#### 숨고_비즈니스 데이터 분석_박기혁 <br>\n",
    "\n",
    "* <b> 1. 데이터 수집[(크롤링 코드 링크)](https://github.com/bill7845/Jupyter_Repo/blob/master/jupyter_CODE/%EC%88%A8%EA%B3%A0_%EB%8D%B0%EC%9D%B4%ED%84%B0%EB%B6%84%EC%84%9D/%ED%81%AC%EB%A1%A4%EB%A7%81.ipynb) </b>\n",
    "* <b> 2. 데이터 전처리 </b>\n",
    "* <b> 3. 데이터 분석(간단한 현황 분석 및 시각화) </b>"
   ]
  },
  {
   "cell_type": "code",
   "execution_count": 1,
   "metadata": {},
   "outputs": [
    {
     "data": {
      "text/html": [
       "        <script type=\"text/javascript\">\n",
       "        window.PlotlyConfig = {MathJaxConfig: 'local'};\n",
       "        if (window.MathJax) {MathJax.Hub.Config({SVG: {font: \"STIX-Web\"}});}\n",
       "        if (typeof require !== 'undefined') {\n",
       "        require.undef(\"plotly\");\n",
       "        requirejs.config({\n",
       "            paths: {\n",
       "                'plotly': ['https://cdn.plot.ly/plotly-latest.min']\n",
       "            }\n",
       "        });\n",
       "        require(['plotly'], function(Plotly) {\n",
       "            window._Plotly = Plotly;\n",
       "        });\n",
       "        }\n",
       "        </script>\n",
       "        "
      ]
     },
     "metadata": {},
     "output_type": "display_data"
    }
   ],
   "source": [
    "# 필요 라이브러리 import\n",
    "import pandas as pd\n",
    "import numpy as np\n",
    "import json\n",
    "import pickle\n",
    "\n",
    "import matplotlib.pyplot as plt\n",
    "import seaborn as sns\n",
    "\n",
    "# # Standard plotly \n",
    "import plotly\n",
    "import plotly.graph_objs as go\n",
    "import plotly.express as px\n",
    "plotly.offline.init_notebook_mode(connected=True)\n",
    "\n",
    "%matplotlib inline\n",
    "sns.set()"
   ]
  },
  {
   "cell_type": "markdown",
   "metadata": {},
   "source": [
    "#### 크롤링하여 저장해놓은 데이터를 불러온다"
   ]
  },
  {
   "cell_type": "code",
   "execution_count": 2,
   "metadata": {},
   "outputs": [],
   "source": [
    "# read json\n",
    "\n",
    "with open('유저별정보_200310_1',encoding='utf-8') as json_file:\n",
    "    json_data_1 = json.load(json_file)\n",
    "with open('유저별정보_200310_2',encoding='utf-8') as json_file:\n",
    "    json_data_2 = json.load(json_file)\n",
    "with open('유저별정보_200310_3',encoding='utf-8') as json_file:\n",
    "    json_data_3 = json.load(json_file)"
   ]
  },
  {
   "cell_type": "code",
   "execution_count": 3,
   "metadata": {},
   "outputs": [],
   "source": [
    "# json to DataFrame\n",
    "\n",
    "df_1 = pd.DataFrame(json_data_1['data'])\n",
    "df_2 = pd.DataFrame(json_data_2['data'])\n",
    "df_3 = pd.DataFrame(json_data_3['data'])"
   ]
  },
  {
   "cell_type": "markdown",
   "metadata": {},
   "source": [
    "#### 로드해온 총 3개의 데이터프레임을 하나로 이어붙인다."
   ]
  },
  {
   "cell_type": "code",
   "execution_count": 4,
   "metadata": {},
   "outputs": [],
   "source": [
    "df = pd.concat([df_1,df_2,df_3])"
   ]
  },
  {
   "cell_type": "code",
   "execution_count": 5,
   "metadata": {},
   "outputs": [
    {
     "data": {
      "text/html": [
       "<div>\n",
       "<style scoped>\n",
       "    .dataframe tbody tr th:only-of-type {\n",
       "        vertical-align: middle;\n",
       "    }\n",
       "\n",
       "    .dataframe tbody tr th {\n",
       "        vertical-align: top;\n",
       "    }\n",
       "\n",
       "    .dataframe thead th {\n",
       "        text-align: right;\n",
       "    }\n",
       "</style>\n",
       "<table border=\"1\" class=\"dataframe\">\n",
       "  <thead>\n",
       "    <tr style=\"text-align: right;\">\n",
       "      <th></th>\n",
       "      <th>user_id</th>\n",
       "      <th>category</th>\n",
       "      <th>grade</th>\n",
       "      <th>hired_cnt</th>\n",
       "      <th>review_cnt</th>\n",
       "      <th>address</th>\n",
       "      <th>career</th>\n",
       "      <th>business_size</th>\n",
       "      <th>auth_business</th>\n",
       "      <th>auth_personal</th>\n",
       "      <th>payment</th>\n",
       "    </tr>\n",
       "  </thead>\n",
       "  <tbody>\n",
       "    <tr>\n",
       "      <td>0</td>\n",
       "      <td>2458907</td>\n",
       "      <td>[ 수학 과외 ,  논술 과외 ]</td>\n",
       "      <td>0.0</td>\n",
       "      <td>신규고수</td>\n",
       "      <td>0</td>\n",
       "      <td>경기 안산시</td>\n",
       "      <td>1</td>\n",
       "      <td>1</td>\n",
       "      <td>None</td>\n",
       "      <td>본인 인증</td>\n",
       "      <td>안전거래, 계좌이체, 현금결제 가능</td>\n",
       "    </tr>\n",
       "  </tbody>\n",
       "</table>\n",
       "</div>"
      ],
      "text/plain": [
       "   user_id            category grade hired_cnt review_cnt   address career  \\\n",
       "0  2458907  [ 수학 과외 ,  논술 과외 ]   0.0      신규고수          0   경기 안산시       1   \n",
       "\n",
       "  business_size auth_business auth_personal              payment  \n",
       "0             1          None         본인 인증  안전거래, 계좌이체, 현금결제 가능  "
      ]
     },
     "execution_count": 5,
     "metadata": {},
     "output_type": "execute_result"
    }
   ],
   "source": [
    "df.head(1)"
   ]
  },
  {
   "cell_type": "markdown",
   "metadata": {},
   "source": [
    "#### 유저별 메인카테고리 정보를 추가해준다."
   ]
  },
  {
   "cell_type": "code",
   "execution_count": 6,
   "metadata": {},
   "outputs": [],
   "source": [
    "with open('1st_user_list.txt', 'rb') as f:\n",
    "    user = pickle.load(f)\n",
    "\n",
    "answer = ['레슨','홈/리빙','이벤트','비즈니스','디자인/개발','건강/미용','알바','기타']\n",
    "\n",
    "def main_category(x):\n",
    "    result = []\n",
    "    for  i in range(8):\n",
    "        if x in user[i] : result.append(answer[i])\n",
    "    \n",
    "    return result\n",
    "\n",
    "df['main_category'] = df['user_id'].apply(main_category)\n",
    "\n",
    "# # change index\n",
    "df.set_index('user_id',inplace=True)"
   ]
  },
  {
   "cell_type": "code",
   "execution_count": 7,
   "metadata": {},
   "outputs": [
    {
     "data": {
      "text/html": [
       "<div>\n",
       "<style scoped>\n",
       "    .dataframe tbody tr th:only-of-type {\n",
       "        vertical-align: middle;\n",
       "    }\n",
       "\n",
       "    .dataframe tbody tr th {\n",
       "        vertical-align: top;\n",
       "    }\n",
       "\n",
       "    .dataframe thead th {\n",
       "        text-align: right;\n",
       "    }\n",
       "</style>\n",
       "<table border=\"1\" class=\"dataframe\">\n",
       "  <thead>\n",
       "    <tr style=\"text-align: right;\">\n",
       "      <th></th>\n",
       "      <th>category</th>\n",
       "      <th>grade</th>\n",
       "      <th>hired_cnt</th>\n",
       "      <th>review_cnt</th>\n",
       "      <th>address</th>\n",
       "      <th>career</th>\n",
       "      <th>business_size</th>\n",
       "      <th>auth_business</th>\n",
       "      <th>auth_personal</th>\n",
       "      <th>payment</th>\n",
       "      <th>main_category</th>\n",
       "    </tr>\n",
       "    <tr>\n",
       "      <th>user_id</th>\n",
       "      <th></th>\n",
       "      <th></th>\n",
       "      <th></th>\n",
       "      <th></th>\n",
       "      <th></th>\n",
       "      <th></th>\n",
       "      <th></th>\n",
       "      <th></th>\n",
       "      <th></th>\n",
       "      <th></th>\n",
       "      <th></th>\n",
       "    </tr>\n",
       "  </thead>\n",
       "  <tbody>\n",
       "    <tr>\n",
       "      <td>2458907</td>\n",
       "      <td>[ 수학 과외 ,  논술 과외 ]</td>\n",
       "      <td>0.0</td>\n",
       "      <td>신규고수</td>\n",
       "      <td>0</td>\n",
       "      <td>경기 안산시</td>\n",
       "      <td>1</td>\n",
       "      <td>1</td>\n",
       "      <td>None</td>\n",
       "      <td>본인 인증</td>\n",
       "      <td>안전거래, 계좌이체, 현금결제 가능</td>\n",
       "      <td>[레슨]</td>\n",
       "    </tr>\n",
       "    <tr>\n",
       "      <td>1690162</td>\n",
       "      <td>[ 중국어 과외 ,  TSC 과외 ]</td>\n",
       "      <td>5.0</td>\n",
       "      <td>1</td>\n",
       "      <td>6</td>\n",
       "      <td>경기도 성남시</td>\n",
       "      <td>20</td>\n",
       "      <td>1</td>\n",
       "      <td>사업자등록증 등록완료</td>\n",
       "      <td>본인 인증</td>\n",
       "      <td>카드결제 가능</td>\n",
       "      <td>[레슨]</td>\n",
       "    </tr>\n",
       "    <tr>\n",
       "      <td>1799917</td>\n",
       "      <td>[ 집 인테리어 ,  상업공간 인테리어 ,  철거 ,  아파트 인테리어 ,  인테리...</td>\n",
       "      <td>0.0</td>\n",
       "      <td>신규고수</td>\n",
       "      <td>0</td>\n",
       "      <td>경기도 구리시</td>\n",
       "      <td>5</td>\n",
       "      <td>5</td>\n",
       "      <td>사업자등록증 등록완료</td>\n",
       "      <td>본인 인증</td>\n",
       "      <td>계좌이체, 현금결제 가능</td>\n",
       "      <td>[홈/리빙, 디자인/개발]</td>\n",
       "    </tr>\n",
       "  </tbody>\n",
       "</table>\n",
       "</div>"
      ],
      "text/plain": [
       "                                                  category grade hired_cnt  \\\n",
       "user_id                                                                      \n",
       "2458907                                 [ 수학 과외 ,  논술 과외 ]   0.0      신규고수   \n",
       "1690162                               [ 중국어 과외 ,  TSC 과외 ]   5.0         1   \n",
       "1799917  [ 집 인테리어 ,  상업공간 인테리어 ,  철거 ,  아파트 인테리어 ,  인테리...   0.0      신규고수   \n",
       "\n",
       "        review_cnt    address career business_size auth_business  \\\n",
       "user_id                                                            \n",
       "2458907          0    경기 안산시       1             1          None   \n",
       "1690162          6   경기도 성남시      20             1   사업자등록증 등록완료   \n",
       "1799917          0   경기도 구리시       5             5   사업자등록증 등록완료   \n",
       "\n",
       "        auth_personal              payment   main_category  \n",
       "user_id                                                     \n",
       "2458907         본인 인증  안전거래, 계좌이체, 현금결제 가능            [레슨]  \n",
       "1690162         본인 인증              카드결제 가능            [레슨]  \n",
       "1799917         본인 인증        계좌이체, 현금결제 가능  [홈/리빙, 디자인/개발]  "
      ]
     },
     "execution_count": 7,
     "metadata": {},
     "output_type": "execute_result"
    }
   ],
   "source": [
    "df.head(3)"
   ]
  },
  {
   "cell_type": "markdown",
   "metadata": {},
   "source": [
    "#### 만들어진 데이터프레임의 모양을 살펴본다."
   ]
  },
  {
   "cell_type": "code",
   "execution_count": 8,
   "metadata": {},
   "outputs": [
    {
     "data": {
      "text/plain": [
       "(14247, 11)"
      ]
     },
     "execution_count": 8,
     "metadata": {},
     "output_type": "execute_result"
    }
   ],
   "source": [
    "df.shape \n",
    "# 총 14247 row와 13개의 컬럼으로 구성\n",
    "# 14247명의 user 정보"
   ]
  },
  {
   "cell_type": "markdown",
   "metadata": {},
   "source": [
    "<br>\n",
    "\n",
    "## 1. 수월한 데이터 분석을 위한 데이터 다듬기\n",
    "\n",
    "<br>"
   ]
  },
  {
   "cell_type": "code",
   "execution_count": 9,
   "metadata": {},
   "outputs": [],
   "source": [
    "## 주소정보에서 시와 나머지 주소를 분리\n",
    "\n",
    "df['city_address'] = df['address'].str.split(\" \").str[1]\n",
    "df['sub_address'] = df['address'].str.split(\" \").str[2]"
   ]
  },
  {
   "cell_type": "code",
   "execution_count": 10,
   "metadata": {},
   "outputs": [
    {
     "data": {
      "text/plain": [
       "array(['경기', '경기도', '서울', '인천', '전북', '제주', '부산', '인천광역시', '대구', '광주',\n",
       "       '세종특별자치시', '경남', '제주특별자치도', '전라북도', '세종', '대구광역시', '대전광역시',\n",
       "       '서울특별시', '대전', '부산광역시', '울산광역시', '충남', '충청남도', '충북', '충청북도', '울산',\n",
       "       '광주광역시', '강원', '경상남도', '전라남도', '경북', '전남', '경상북도', '서울시', '강원도',\n",
       "       '경남도'], dtype=object)"
      ]
     },
     "execution_count": 10,
     "metadata": {},
     "output_type": "execute_result"
    }
   ],
   "source": [
    "df['city_address'].unique()\n",
    "## 지역명의 경우 통일되어 있지 않음 ex) 서울특별시, 서울시, 서울"
   ]
  },
  {
   "cell_type": "code",
   "execution_count": 11,
   "metadata": {},
   "outputs": [],
   "source": [
    "## 지역명을 통일\n",
    "city_dict = {'서울':'서울시','서울특별자치시':'서울시','서울특별시':'서울시','서울시':'서울시',\n",
    "            '강원':'강원도','강원도':'강원도',\n",
    "            '대구광역시':'대구시','대구':'대구시','대구시':'대구시',\n",
    "            '울산광역시':'울산시','울산':'울산시','울산시':'울산시',\n",
    "            '경기':'경기도','경기도':'경기도',\n",
    "            '충남':'충청남도','충청남도':'충청남도','충북':'충청북도','충청북도':'충청북도',\n",
    "            '경남':'경상남도','경남도':'경상남도','경상남도':'경삼남도','경북':'경상북도','경상북도':'경상북도',\n",
    "            '광주광역시':'광주시','광주':'광주시','광주시':'광주시',\n",
    "            '제주특별자치도':'제주시','제주':'제주시','제주시':\"제주시\",\n",
    "            '인천':'인천시','인천광역시':'인천시','인천시':'인천시',\n",
    "            '대전':'대전시','대전광역시':'대전시','대전시':'대전시',\n",
    "            '세종':'세종시','세종특별자치시':'세종시','세종시':'세종시',\n",
    "            '전북':'전라북도','전라북도':'전라북도','전남':'전라남도','전라남도':'전라남도',\n",
    "            '부산':'부산시','부산광역시':'부산시','부산시':'부산시'}\n",
    "\n",
    "df['city_address'] = df['city_address'].map(city_dict)"
   ]
  },
  {
   "cell_type": "code",
   "execution_count": 12,
   "metadata": {},
   "outputs": [],
   "source": [
    "## '신규고수'의 경우 hired_cnt에서 분리하여 '신규고수' 여부를 구분하는 컬럼을 추가해준다.\n",
    "def new_user(x):\n",
    "    if x == '신규고수' : return '신규고수'\n",
    "    else : return np.nan\n",
    "df['신규고수'] = df['hired_cnt'].apply(new_user)\n",
    "\n",
    "\n",
    "df['business_size'] = df['business_size'].replace(np.nan,0)"
   ]
  },
  {
   "cell_type": "code",
   "execution_count": 13,
   "metadata": {},
   "outputs": [
    {
     "data": {
      "text/plain": [
       "Index(['category', 'grade', 'hired_cnt', 'review_cnt', 'address', 'career',\n",
       "       'business_size', 'auth_business', 'auth_personal', 'payment',\n",
       "       'main_category', 'city_address', 'sub_address', '신규고수'],\n",
       "      dtype='object')"
      ]
     },
     "execution_count": 13,
     "metadata": {},
     "output_type": "execute_result"
    }
   ],
   "source": [
    "## 정수형이여야할 컬럼들도 문자열로 되어있다.\n",
    "df.select_dtypes('object').columns"
   ]
  },
  {
   "cell_type": "code",
   "execution_count": 14,
   "metadata": {},
   "outputs": [],
   "source": [
    "## 정수형으로 변경\n",
    "df['grade'] = df['grade'].astype('float')\n",
    "df['hired_cnt'] = df['hired_cnt'].apply(pd.to_numeric,errors = 'coerce') # 숫자형 제외한 나머지 nan으로\n",
    "df['review_cnt'] = df['review_cnt'].astype('int')\n",
    "df['career'] = df['career'].astype('int')\n",
    "df['business_size'] = df['business_size'].astype('int')"
   ]
  },
  {
   "cell_type": "code",
   "execution_count": 15,
   "metadata": {},
   "outputs": [],
   "source": [
    "# full address 삭제 \n",
    "df.drop(['address'],axis=1,inplace=True)"
   ]
  },
  {
   "cell_type": "code",
   "execution_count": 16,
   "metadata": {},
   "outputs": [],
   "source": [
    "# category 데이터 전처리\n",
    "# [' 서비스명 '] => ['서비스명'] 앞뒤 공백제거\n",
    "def del_strip(x):\n",
    "    stripped_list = []\n",
    "    for i in range(len(x)):\n",
    "        stripped_list.append(x[i].strip())\n",
    "    \n",
    "    return stripped_list\n",
    "\n",
    "df['category'] = df['category'].apply(del_strip)"
   ]
  },
  {
   "cell_type": "code",
   "execution_count": 17,
   "metadata": {},
   "outputs": [
    {
     "data": {
      "text/html": [
       "<div>\n",
       "<style scoped>\n",
       "    .dataframe tbody tr th:only-of-type {\n",
       "        vertical-align: middle;\n",
       "    }\n",
       "\n",
       "    .dataframe tbody tr th {\n",
       "        vertical-align: top;\n",
       "    }\n",
       "\n",
       "    .dataframe thead th {\n",
       "        text-align: right;\n",
       "    }\n",
       "</style>\n",
       "<table border=\"1\" class=\"dataframe\">\n",
       "  <thead>\n",
       "    <tr style=\"text-align: right;\">\n",
       "      <th></th>\n",
       "      <th>category</th>\n",
       "      <th>grade</th>\n",
       "      <th>hired_cnt</th>\n",
       "      <th>review_cnt</th>\n",
       "      <th>career</th>\n",
       "      <th>business_size</th>\n",
       "      <th>auth_business</th>\n",
       "      <th>auth_personal</th>\n",
       "      <th>payment</th>\n",
       "      <th>main_category</th>\n",
       "      <th>city_address</th>\n",
       "      <th>sub_address</th>\n",
       "      <th>신규고수</th>\n",
       "    </tr>\n",
       "    <tr>\n",
       "      <th>user_id</th>\n",
       "      <th></th>\n",
       "      <th></th>\n",
       "      <th></th>\n",
       "      <th></th>\n",
       "      <th></th>\n",
       "      <th></th>\n",
       "      <th></th>\n",
       "      <th></th>\n",
       "      <th></th>\n",
       "      <th></th>\n",
       "      <th></th>\n",
       "      <th></th>\n",
       "      <th></th>\n",
       "    </tr>\n",
       "  </thead>\n",
       "  <tbody>\n",
       "    <tr>\n",
       "      <td>2458907</td>\n",
       "      <td>[수학 과외, 논술 과외]</td>\n",
       "      <td>0.0</td>\n",
       "      <td>NaN</td>\n",
       "      <td>0</td>\n",
       "      <td>1</td>\n",
       "      <td>1</td>\n",
       "      <td>None</td>\n",
       "      <td>본인 인증</td>\n",
       "      <td>안전거래, 계좌이체, 현금결제 가능</td>\n",
       "      <td>[레슨]</td>\n",
       "      <td>경기도</td>\n",
       "      <td>안산시</td>\n",
       "      <td>신규고수</td>\n",
       "    </tr>\n",
       "    <tr>\n",
       "      <td>1690162</td>\n",
       "      <td>[중국어 과외, TSC 과외]</td>\n",
       "      <td>5.0</td>\n",
       "      <td>1.0</td>\n",
       "      <td>6</td>\n",
       "      <td>20</td>\n",
       "      <td>1</td>\n",
       "      <td>사업자등록증 등록완료</td>\n",
       "      <td>본인 인증</td>\n",
       "      <td>카드결제 가능</td>\n",
       "      <td>[레슨]</td>\n",
       "      <td>경기도</td>\n",
       "      <td>성남시</td>\n",
       "      <td>NaN</td>\n",
       "    </tr>\n",
       "    <tr>\n",
       "      <td>1799917</td>\n",
       "      <td>[집 인테리어, 상업공간 인테리어, 철거, 아파트 인테리어, 인테리어 도면 (캐드/...</td>\n",
       "      <td>0.0</td>\n",
       "      <td>NaN</td>\n",
       "      <td>0</td>\n",
       "      <td>5</td>\n",
       "      <td>5</td>\n",
       "      <td>사업자등록증 등록완료</td>\n",
       "      <td>본인 인증</td>\n",
       "      <td>계좌이체, 현금결제 가능</td>\n",
       "      <td>[홈/리빙, 디자인/개발]</td>\n",
       "      <td>경기도</td>\n",
       "      <td>구리시</td>\n",
       "      <td>신규고수</td>\n",
       "    </tr>\n",
       "    <tr>\n",
       "      <td>1811216</td>\n",
       "      <td>[중국어 과외]</td>\n",
       "      <td>0.0</td>\n",
       "      <td>4.0</td>\n",
       "      <td>0</td>\n",
       "      <td>8</td>\n",
       "      <td>0</td>\n",
       "      <td>None</td>\n",
       "      <td>본인 인증</td>\n",
       "      <td>안전거래, 계좌이체 가능</td>\n",
       "      <td>[레슨]</td>\n",
       "      <td>서울시</td>\n",
       "      <td>광진구</td>\n",
       "      <td>NaN</td>\n",
       "    </tr>\n",
       "    <tr>\n",
       "      <td>1173470</td>\n",
       "      <td>[일본어 (일어) 번역, 일본어(일어) 과외, 비즈니스 일본어]</td>\n",
       "      <td>5.0</td>\n",
       "      <td>13.0</td>\n",
       "      <td>18</td>\n",
       "      <td>3</td>\n",
       "      <td>1</td>\n",
       "      <td>None</td>\n",
       "      <td>본인 인증</td>\n",
       "      <td>안전거래, 계좌이체, 현금결제 가능</td>\n",
       "      <td>[레슨]</td>\n",
       "      <td>서울시</td>\n",
       "      <td>광진구</td>\n",
       "      <td>NaN</td>\n",
       "    </tr>\n",
       "  </tbody>\n",
       "</table>\n",
       "</div>"
      ],
      "text/plain": [
       "                                                  category  grade  hired_cnt  \\\n",
       "user_id                                                                        \n",
       "2458907                                     [수학 과외, 논술 과외]    0.0        NaN   \n",
       "1690162                                   [중국어 과외, TSC 과외]    5.0        1.0   \n",
       "1799917  [집 인테리어, 상업공간 인테리어, 철거, 아파트 인테리어, 인테리어 도면 (캐드/...    0.0        NaN   \n",
       "1811216                                           [중국어 과외]    0.0        4.0   \n",
       "1173470                [일본어 (일어) 번역, 일본어(일어) 과외, 비즈니스 일본어]    5.0       13.0   \n",
       "\n",
       "         review_cnt  career  business_size auth_business auth_personal  \\\n",
       "user_id                                                                  \n",
       "2458907           0       1              1          None         본인 인증   \n",
       "1690162           6      20              1   사업자등록증 등록완료         본인 인증   \n",
       "1799917           0       5              5   사업자등록증 등록완료         본인 인증   \n",
       "1811216           0       8              0          None         본인 인증   \n",
       "1173470          18       3              1          None         본인 인증   \n",
       "\n",
       "                     payment   main_category city_address sub_address  신규고수  \n",
       "user_id                                                                      \n",
       "2458907  안전거래, 계좌이체, 현금결제 가능            [레슨]          경기도         안산시  신규고수  \n",
       "1690162              카드결제 가능            [레슨]          경기도         성남시   NaN  \n",
       "1799917        계좌이체, 현금결제 가능  [홈/리빙, 디자인/개발]          경기도         구리시  신규고수  \n",
       "1811216        안전거래, 계좌이체 가능            [레슨]          서울시         광진구   NaN  \n",
       "1173470  안전거래, 계좌이체, 현금결제 가능            [레슨]          서울시         광진구   NaN  "
      ]
     },
     "execution_count": 17,
     "metadata": {},
     "output_type": "execute_result"
    }
   ],
   "source": [
    "df.head()"
   ]
  },
  {
   "cell_type": "code",
   "execution_count": 18,
   "metadata": {},
   "outputs": [],
   "source": [
    "# 컬럼 순서변경\n",
    "df = df[['main_category','category','city_address','sub_address','신규고수','hired_cnt','grade','review_cnt','career','business_size','auth_business','auth_personal','payment']]"
   ]
  },
  {
   "cell_type": "markdown",
   "metadata": {},
   "source": [
    "<br>\n",
    "\n",
    "## 2. 간단한 서비스 현황 파악\n",
    "\n",
    "<br>"
   ]
  },
  {
   "cell_type": "markdown",
   "metadata": {},
   "source": [
    "* <b> 크롤링 한 데이터를 숨고의 서비스 현황 파악 </b>\n",
    "    * 1. 고수 고용횟수 현항 파악\n",
    "    * 2. 고수별 도시정보 \n",
    "    * 3. 서비스 카테고리 분포"
   ]
  },
  {
   "cell_type": "markdown",
   "metadata": {},
   "source": [
    "> 1. `고용횟수 현황 파악`"
   ]
  },
  {
   "cell_type": "code",
   "execution_count": 19,
   "metadata": {},
   "outputs": [
    {
     "data": {
      "text/plain": [
       "count    8401.000000\n",
       "mean       13.697893\n",
       "std        44.657809\n",
       "min         0.000000\n",
       "25%         1.000000\n",
       "50%         4.000000\n",
       "75%        11.000000\n",
       "max      1749.000000\n",
       "Name: hired_cnt, dtype: float64"
      ]
     },
     "execution_count": 19,
     "metadata": {},
     "output_type": "execute_result"
    }
   ],
   "source": [
    "df.hired_cnt.dropna().describe()"
   ]
  },
  {
   "cell_type": "markdown",
   "metadata": {},
   "source": [
    "> 신규고수를 제외하고 총 8401명 고수의 고용횟수를 살펴보면, 평균 13회 표준편차 44회로 고수별로 편차가 큰것을 확인할수 있다.\n",
    "\n",
    "> 고용횟수의 편차가 매우 크므로 아래와 같이 1~300회 사이로 범위를 좁혀 시각화 해본다.\n",
    "\n",
    "> 신규고수 제외 8401명의 고수들 중 7918명이 50회 이내의 고용횟수를 가지는것을 확인할 수 있다."
   ]
  },
  {
   "cell_type": "code",
   "execution_count": 33,
   "metadata": {
    "scrolled": false
   },
   "outputs": [],
   "source": [
    "# df = px.data.tips()\n",
    "# create the bins\n",
    "counts, bins = np.histogram(df.hired_cnt.dropna(), bins=range(1, 300, 50))\n",
    "bins = 0.5 * (bins[:-1] + bins[1:])\n",
    "\n",
    "fig = px.bar(x=bins, y=counts, labels={'x':'고용횟수', 'y':'count'},title='고용횟수 분포',text=counts)\n",
    "fig.show()"
   ]
  },
  {
   "cell_type": "markdown",
   "metadata": {},
   "source": [
    "![img_1](https://user-images.githubusercontent.com/35517797/76479451-25f18280-644f-11ea-82cf-1310bc485f96.png)"
   ]
  },
  {
   "cell_type": "markdown",
   "metadata": {},
   "source": [
    "> 2. `고수들의 도시정보 현황`\n",
    "\n",
    "> 아래의 그래프로 보면, 서울,경기를 연고지로하는 고수가 70퍼센트 가까이 되는것을 확인할 수 있다."
   ]
  },
  {
   "cell_type": "code",
   "execution_count": 39,
   "metadata": {
    "scrolled": false
   },
   "outputs": [],
   "source": [
    "city_count = pd.DataFrame(df.city_address.value_counts()).reset_index()\n",
    "city_count['city'] = city_count['index']\n",
    "city_count['count'] = city_count['city_address']\n",
    "\n",
    "fig = px.pie(city_count, values='count', names='city',title='도시분포')\n",
    "fig.show()"
   ]
  },
  {
   "cell_type": "markdown",
   "metadata": {},
   "source": [
    "![img_2](https://user-images.githubusercontent.com/35517797/76479463-330e7180-644f-11ea-859f-53b5c4918067.png)"
   ]
  },
  {
   "cell_type": "markdown",
   "metadata": {},
   "source": [
    "> 3. `서비스 카테고리별 현황`\n",
    "\n",
    "> 고수별 카테고리 데이터의 경우 한명의 고수가 여러개의 카테고리를 가질 수 있다는점에 주의한다.\n",
    "\n",
    "> 메인 카테고리 분류 기준은 8개의 메인 서비스 카테고리를 참고한다."
   ]
  },
  {
   "cell_type": "code",
   "execution_count": 22,
   "metadata": {},
   "outputs": [],
   "source": [
    "# 각 row에 list형식으로 된 메인카테고리 데이터를 핸들링하기 위한 함수 추가\n",
    "mainCategory_dict = {}\n",
    "mainCategory_dict = {'레슨':0,'홈/리빙':0,'이벤트':0,'비즈니스':0,'디자인/개발':0,'건강/미용':0,'알바':0,'기타':0}\n",
    "\n",
    "def cnt_mainCategory(x):\n",
    "    cnt = 0\n",
    "    global mainCategory_dict\n",
    "    mainCategory_list = ['레슨','홈/리빙','이벤트','비즈니스','디자인/개발','건강/미용','알바','기타']\n",
    "    \n",
    "    for i in x:\n",
    "        if i == mainCategory_list[0] : mainCategory_dict[mainCategory_list[0]] +=1\n",
    "        elif i == mainCategory_list[1] : mainCategory_dict[mainCategory_list[1]] +=1\n",
    "        elif i == mainCategory_list[2] : mainCategory_dict[mainCategory_list[2]] +=1\n",
    "        elif i == mainCategory_list[3] : mainCategory_dict[mainCategory_list[3]] +=1\n",
    "        elif i == mainCategory_list[4] : mainCategory_dict[mainCategory_list[4]] +=1\n",
    "        elif i == mainCategory_list[5] : mainCategory_dict[mainCategory_list[5]] +=1\n",
    "        elif i == mainCategory_list[6] : mainCategory_dict[mainCategory_list[6]] +=1\n",
    "        elif i == mainCategory_list[7] : mainCategory_dict[mainCategory_list[7]] +=1\n",
    "#     print(mainCategory_dict)\n",
    "#     mainCate_df = pd.DataFrame(mainCategory_dict.values(), columns=['count'], index=mainCategory_dict.keys())\n",
    "    \n",
    "#     return mainCate_df\n",
    "\n",
    "df['main_category'].apply(cnt_mainCategory) # global 변수인 mainCategory_dict를 변경시키기 위해 실행\n",
    "\n",
    "mainCate_df = pd.DataFrame(mainCategory_dict.values(), columns=['count'], index=mainCategory_dict.keys()).reset_index()"
   ]
  },
  {
   "cell_type": "code",
   "execution_count": 23,
   "metadata": {},
   "outputs": [
    {
     "data": {
      "text/html": [
       "<div>\n",
       "<style scoped>\n",
       "    .dataframe tbody tr th:only-of-type {\n",
       "        vertical-align: middle;\n",
       "    }\n",
       "\n",
       "    .dataframe tbody tr th {\n",
       "        vertical-align: top;\n",
       "    }\n",
       "\n",
       "    .dataframe thead th {\n",
       "        text-align: right;\n",
       "    }\n",
       "</style>\n",
       "<table border=\"1\" class=\"dataframe\">\n",
       "  <thead>\n",
       "    <tr style=\"text-align: right;\">\n",
       "      <th></th>\n",
       "      <th>index</th>\n",
       "      <th>count</th>\n",
       "    </tr>\n",
       "  </thead>\n",
       "  <tbody>\n",
       "    <tr>\n",
       "      <td>0</td>\n",
       "      <td>레슨</td>\n",
       "      <td>9334</td>\n",
       "    </tr>\n",
       "    <tr>\n",
       "      <td>1</td>\n",
       "      <td>홈/리빙</td>\n",
       "      <td>2720</td>\n",
       "    </tr>\n",
       "    <tr>\n",
       "      <td>2</td>\n",
       "      <td>이벤트</td>\n",
       "      <td>1614</td>\n",
       "    </tr>\n",
       "    <tr>\n",
       "      <td>3</td>\n",
       "      <td>비즈니스</td>\n",
       "      <td>680</td>\n",
       "    </tr>\n",
       "    <tr>\n",
       "      <td>4</td>\n",
       "      <td>디자인/개발</td>\n",
       "      <td>875</td>\n",
       "    </tr>\n",
       "    <tr>\n",
       "      <td>5</td>\n",
       "      <td>건강/미용</td>\n",
       "      <td>1240</td>\n",
       "    </tr>\n",
       "    <tr>\n",
       "      <td>6</td>\n",
       "      <td>알바</td>\n",
       "      <td>230</td>\n",
       "    </tr>\n",
       "    <tr>\n",
       "      <td>7</td>\n",
       "      <td>기타</td>\n",
       "      <td>778</td>\n",
       "    </tr>\n",
       "  </tbody>\n",
       "</table>\n",
       "</div>"
      ],
      "text/plain": [
       "    index  count\n",
       "0      레슨   9334\n",
       "1    홈/리빙   2720\n",
       "2     이벤트   1614\n",
       "3    비즈니스    680\n",
       "4  디자인/개발    875\n",
       "5   건강/미용   1240\n",
       "6      알바    230\n",
       "7      기타    778"
      ]
     },
     "execution_count": 23,
     "metadata": {},
     "output_type": "execute_result"
    }
   ],
   "source": [
    "mainCate_df"
   ]
  },
  {
   "cell_type": "markdown",
   "metadata": {},
   "source": [
    "> 전체 고수 중 53.4퍼센트의 고수가 '레슨' 서비스에 분포하고있으며 그 뒤로 홈리빙,이벤트.. 순으로 분포한다."
   ]
  },
  {
   "cell_type": "code",
   "execution_count": 36,
   "metadata": {},
   "outputs": [],
   "source": [
    "mainCate_df =mainCate_df.reset_index()\n",
    "\n",
    "fig = px.pie(mainCate_df, values='count', names='index',title='메인 카테고리 분포 현황<고수 제공 서비스>')\n",
    "fig.show()"
   ]
  },
  {
   "cell_type": "markdown",
   "metadata": {},
   "source": [
    "![img_3](https://user-images.githubusercontent.com/35517797/76479509-5cc79880-644f-11ea-8f8b-d52e2ef60c07.png)"
   ]
  },
  {
   "cell_type": "markdown",
   "metadata": {},
   "source": [
    "> 신규고수를 제외하고 실제로 고용을 경험한 고수들을 대상으로 살펴본다.\n",
    "\n",
    "> 아래 그래프를 살펴보면, 마찬가지로 레슨,홈리빙 부문에 많은 고수들이 존재하는것을 확인할 수 있다."
   ]
  },
  {
   "cell_type": "code",
   "execution_count": 25,
   "metadata": {},
   "outputs": [],
   "source": [
    "mainCategory_dict = {}\n",
    "mainCategory_dict = {'레슨':0,'홈/리빙':0,'이벤트':0,'비즈니스':0,'디자인/개발':0,'건강/미용':0,'알바':0,'기타':0}\n",
    "\n",
    "df.dropna(subset=['hired_cnt'])['main_category'].apply(cnt_mainCategory) # global 변수인 mainCategory_dict를 변경시키기 위해 실행\n",
    "mainCate_df = pd.DataFrame(mainCategory_dict.values(), columns=['count'], index=mainCategory_dict.keys()).reset_index()"
   ]
  },
  {
   "cell_type": "code",
   "execution_count": 37,
   "metadata": {
    "scrolled": false
   },
   "outputs": [],
   "source": [
    "mainCate_df =mainCate_df.reset_index()\n",
    "\n",
    "fig = px.pie(mainCate_df, values='count', names='index',title='메인 카테고리 분포 현황<신규고수 제외>')\n",
    "fig.show()"
   ]
  },
  {
   "cell_type": "markdown",
   "metadata": {},
   "source": [
    "![img_4](https://user-images.githubusercontent.com/35517797/76479517-65b86a00-644f-11ea-99eb-01b895febd62.png)"
   ]
  }
 ],
 "metadata": {
  "kernelspec": {
   "display_name": "Python 3",
   "language": "python",
   "name": "python3"
  },
  "language_info": {
   "codemirror_mode": {
    "name": "ipython",
    "version": 3
   },
   "file_extension": ".py",
   "mimetype": "text/x-python",
   "name": "python",
   "nbconvert_exporter": "python",
   "pygments_lexer": "ipython3",
   "version": "3.7.4"
  }
 },
 "nbformat": 4,
 "nbformat_minor": 2
}
