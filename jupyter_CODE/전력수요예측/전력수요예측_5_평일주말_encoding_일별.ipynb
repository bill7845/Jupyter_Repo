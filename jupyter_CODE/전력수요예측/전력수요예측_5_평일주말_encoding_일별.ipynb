{
 "cells": [
  {
   "cell_type": "code",
   "execution_count": 1,
   "metadata": {},
   "outputs": [],
   "source": [
    "%matplotlib inline\n",
    "import matplotlib.pyplot as plt\n",
    "import tensorflow as tf\n",
    "import numpy as np\n",
    "import pandas as pd\n",
    "import os\n",
    "from sklearn.preprocessing import MinMaxScaler"
   ]
  },
  {
   "cell_type": "code",
   "execution_count": 2,
   "metadata": {},
   "outputs": [],
   "source": [
    "# from tf.keras.models import Sequential # This does not work!\n",
    "from tensorflow.python.keras.models import Sequential\n",
    "from tensorflow.python.keras.layers import Input, Dense, GRU, Embedding\n",
    "from tensorflow.python.keras.optimizers import RMSprop\n",
    "from tensorflow.python.keras.callbacks import EarlyStopping, TensorBoard, ReduceLROnPlateau\n",
    "\n",
    "# ModelCheckpoint"
   ]
  },
  {
   "cell_type": "code",
   "execution_count": 3,
   "metadata": {},
   "outputs": [],
   "source": [
    "from tslearn.clustering import TimeSeriesKMeans\n",
    "from tslearn.datasets import CachedDatasets\n",
    "from tslearn.preprocessing import TimeSeriesScalerMeanVariance, \\\n",
    "    TimeSeriesResampler\n",
    "from tslearn.utils import to_time_series\n",
    "from tslearn.utils import to_time_series_dataset\n",
    "from tslearn.datasets import UCR_UEA_datasets\n",
    "from tslearn.clustering import TimeSeriesKMeans"
   ]
  },
  {
   "cell_type": "code",
   "execution_count": 4,
   "metadata": {},
   "outputs": [],
   "source": [
    "from matplotlib import font_manager, rc\n",
    "import matplotlib\n",
    "\n",
    "#한글 폰트 등록\n",
    "font_location = \"c:/Windows/fonts/malgun.ttf\"\n",
    "font_name = font_manager.FontProperties(fname=font_location).get_name()\n",
    "matplotlib.rc('font', family=font_name)"
   ]
  },
  {
   "cell_type": "code",
   "execution_count": 5,
   "metadata": {},
   "outputs": [],
   "source": [
    "# import pandas as pd\n",
    "\n",
    "# # 판다스 데이터프레임(DataFrame)을 출력할 때, 최대 출력할 수 있는 컬럼을 100개로 늘려줍니다.\n",
    "# # 이렇게 해야 데이터를 분석할 때 출력해서 확인하기 편합니다.\n",
    "pd.options.display.max_columns = 150\n",
    "pd.options.display.max_rows = 150"
   ]
  },
  {
   "cell_type": "code",
   "execution_count": 6,
   "metadata": {},
   "outputs": [],
   "source": [
    "train = pd.read_csv('C:/Users/KIHyuk/Desktop/전력수요예측/train.csv')\n",
    "test = pd.read_csv('C:/Users/KIHyuk/Desktop/전력수요예측/test.csv')"
   ]
  },
  {
   "cell_type": "code",
   "execution_count": 7,
   "metadata": {},
   "outputs": [],
   "source": [
    "weather_time = pd.read_csv('C:/Users/KIHyuk/Desktop/전력수요예측/인천_시간별_기상자료.csv',encoding='euc-kr',index_col='일시',parse_dates=True)\n",
    "del weather_time['지점']"
   ]
  },
  {
   "cell_type": "code",
   "execution_count": 8,
   "metadata": {},
   "outputs": [
    {
     "name": "stdout",
     "output_type": "stream",
     "text": [
      "50 번째 실행중\n",
      "100 번째 실행중\n",
      "150 번째 실행중\n",
      "200 번째 실행중\n",
      "250 번째 실행중\n",
      "300 번째 실행중\n",
      "350 번째 실행중\n",
      "400 번째 실행중\n",
      "450 번째 실행중\n",
      "500 번째 실행중\n",
      "550 번째 실행중\n",
      "600 번째 실행중\n",
      "650 번째 실행중\n",
      "700 번째 실행중\n",
      "750 번째 실행중\n",
      "800 번째 실행중\n",
      "850 번째 실행중\n",
      "900 번째 실행중\n",
      "950 번째 실행중\n",
      "1000 번째 실행중\n",
      "1050 번째 실행중\n",
      "1100 번째 실행중\n",
      "1150 번째 실행중\n",
      "1200 번째 실행중\n",
      "1250 번째 실행중\n",
      "1300 번째 실행중\n"
     ]
    }
   ],
   "source": [
    "for k in range(1,len(train.columns) ): #시간을 제외한 1열부터 마지막 열까지를 for문으로 작동시킵니다.\n",
    "    train_median=train.iloc[:,k].median() #값을 대체하는 과정에서 값이 변경 될 것을 대비해 해당 세대의 중앙값을 미리 계산하고 시작합니다.\n",
    "    counting=train.loc[ train.iloc[:,k].isnull()==False ][ train.columns[k] ].index\n",
    "\n",
    "    df=pd.DataFrame( list( zip( counting[:-1], counting[1:] - counting[:-1] -1  ) ), columns=['index','count'] )\n",
    "    \n",
    "    df2= df[ (df['count'] > 0) ] #결측치가 존재하는 부분만 추출\n",
    "    df2=df2.reset_index(drop=True) #기존에 존재하는 index를 초기화 하여 이후 for문에 사용함\n",
    "\n",
    "    for i,j in zip( df2['index'], df2['count'] ) : # i = 해당 세대에서 값이 존재하는 index, j = 현재 index 밑의 결측치 갯수\n",
    "        if train.iloc[i,k]>=train_median: #현재 index에 존재하는 값이 해당 세대의 중앙 값 이상일때만 분산처리 실행\n",
    "            train.iloc[ i : i+j+1 , k] = train.iloc[i,k] / (j+1) \n",
    "            #현재 index 및 결측치의 갯수 만큼 지정을 하여, 현재 index에 있는 값을 해당 갯수만큼 나누어 줍니다\n",
    "        else:\n",
    "            pass\n",
    "            #현재 index에 존재하는 값이 중앙 값 미만이면 pass를 실행\n",
    "    if k%50==0: #for문 진행정도 확인용\n",
    "            print(k,\"번째 실행중\")"
   ]
  },
  {
   "cell_type": "code",
   "execution_count": 9,
   "metadata": {},
   "outputs": [
    {
     "name": "stdout",
     "output_type": "stream",
     "text": [
      "50 번째 실행중\n",
      "100 번째 실행중\n",
      "150 번째 실행중\n",
      "200 번째 실행중\n"
     ]
    }
   ],
   "source": [
    "for k in range(1,len(test.columns) ): #시간을 제외한 1열부터 마지막 열까지를 for문으로 작동시킵니다.\n",
    "    test_median=test.iloc[:,k].median() #값을 대체하는 과정에서 값이 변경 될 것을 대비해 해당 세대의 중앙값을 미리 계산하고 시작합니다.\n",
    "    counting=test.loc[ test.iloc[:,k].isnull()==False ][ test.columns[k] ].index\n",
    "\n",
    "    df=pd.DataFrame( list( zip( counting[:-1], counting[1:] - counting[:-1] -1  ) ), columns=['index','count'] )\n",
    "    \n",
    "    df2= df[ (df['count'] > 0) ] #결측치가 존재하는 부분만 추출\n",
    "    df2=df2.reset_index(drop=True) #기존에 존재하는 index를 초기화 하여 이후 for문에 사용함\n",
    "\n",
    "    for i,j in zip( df2['index'], df2['count'] ) : # i = 해당 세대에서 값이 존재하는 index, j = 현재 index 밑의 결측치 갯수\n",
    "        if test.iloc[i,k]>=test_median: #현재 indetestx에 존재하는 값이 해당 세대의 중앙 값 이상일때만 분산처리 실행\n",
    "            test.iloc[ i : i+j+1 , k] = test.iloc[i,k] / (j+1) \n",
    "            #현재 index 및 결측치의 갯수 만큼 지정을 하여, 현재 index에 있는 값을 해당 갯수만큼 나누어 줍니다\n",
    "        else:\n",
    "            pass\n",
    "            #현재 index에 존재하는 값이 중앙 값 미만이면 pass를 실행\n",
    "    if k%50==0: #for문 진행정도 확인용\n",
    "            print(k,\"번째 실행중\")"
   ]
  },
  {
   "cell_type": "code",
   "execution_count": 10,
   "metadata": {
    "scrolled": true
   },
   "outputs": [],
   "source": [
    "train['Time'] = train['Time'].apply(pd.to_datetime)\n",
    "train.set_index('Time',inplace=True)\n",
    "\n",
    "test['Time'] = test['Time'].apply(pd.to_datetime)\n",
    "test.set_index('Time',inplace=True)"
   ]
  },
  {
   "cell_type": "code",
   "execution_count": 11,
   "metadata": {},
   "outputs": [],
   "source": [
    "train_sample = train['2018-02-15':]\n",
    "train_sample = train_sample.interpolate(method='values')\n",
    "\n",
    "test_sample = test['2018-02-15':]\n",
    "test_sample = test_sample.interpolate(method='values')"
   ]
  },
  {
   "cell_type": "code",
   "execution_count": 12,
   "metadata": {},
   "outputs": [],
   "source": [
    "# 결측값 가진 행 제거 - 데이터가 아예 없는 경우\n",
    "# train_sample.loc[:,train_sample.isnull().sum() >= 1].columns"
   ]
  },
  {
   "cell_type": "code",
   "execution_count": 13,
   "metadata": {
    "scrolled": true
   },
   "outputs": [],
   "source": [
    "# #결측값 가진 행 제거 - 데이터가 아예 없는 경우\n",
    "# test_sample.loc[:,test_sample.isnull().sum() >= 1].columns"
   ]
  },
  {
   "cell_type": "code",
   "execution_count": 14,
   "metadata": {},
   "outputs": [],
   "source": [
    "train_sample.drop(['X4', 'X127', 'X9', 'X65', 'X54', 'X13', 'X53', 'X24', 'X17', 'X14',\n",
    "       'X48', 'X2', 'X19', 'X36', 'X28', 'X63', 'X38', 'X39', 'X8', 'X64',\n",
    "       'X29', 'X57', 'X705', 'X71', 'X3', 'X27', 'X22', 'X21', 'X118', 'X6',\n",
    "       'X45', 'X40', 'X66', 'X52', 'X12', 'X49', 'X1', 'X33', 'X60', 'X46',\n",
    "       'X963', 'X56', 'X15', 'X11', 'X25', 'X34', 'X23', 'X58'], axis=1, inplace=True)\n",
    "\n",
    "test_sample.drop(['X26', 'X16', 'X7', 'X18', 'X41', 'X55', 'X5', 'X43', 'X59', 'X10',\n",
    "       'X62', 'X61', 'X32', 'X31', 'X30', 'X51', 'X35', 'X44', 'X37', 'X42',\n",
    "       'X50', 'X47', 'X20'],axis=1,inplace=True)"
   ]
  },
  {
   "cell_type": "code",
   "execution_count": 15,
   "metadata": {},
   "outputs": [],
   "source": [
    "# train_sample = pd.read_csv('train_sample',index_col='Time',parse_dates=True)\n",
    "# test_sample = pd.read_csv('test_sample',index_col='Time',parse_dates=True)"
   ]
  },
  {
   "cell_type": "markdown",
   "metadata": {},
   "source": [
    "> 입력신호 추가"
   ]
  },
  {
   "cell_type": "code",
   "execution_count": 16,
   "metadata": {},
   "outputs": [],
   "source": [
    "train_sample = train_sample.resample('D').sum()\n",
    "test_sample = test_sample.resample('D').sum()"
   ]
  },
  {
   "cell_type": "code",
   "execution_count": 17,
   "metadata": {
    "scrolled": true
   },
   "outputs": [],
   "source": [
    "train_sample['temp'] = weather_time['기온(°C)']['2018-02-15':].resample('D').mean() \n",
    "train_sample['humidity'] = weather_time['습도(%)']['2018-02-15':].resample('D').mean() \n",
    "train_sample[['temp','humidity']] = train_sample[['temp','humidity']].interpolate(method='values')  # 온도 결측값을 시간에 따른 보간법으로 채움\n",
    "train_sample['DayOfWeek'] = train_sample.index.dayofweek\n",
    "\n",
    "\n",
    "test_sample['temp'] = weather_time['기온(°C)']['2018-02-15':].resample('D').mean()\n",
    "test_sample['humidity'] = weather_time['습도(%)']['2018-02-15':].resample('D').mean() \n",
    "test_sample[['temp','humidity']] = test_sample[['temp','humidity']].interpolate(method='values')  # 온도 결측값을 시간에 따른 보간법으로 채움\n",
    "test_sample['DayOfWeek'] = train_sample.index.dayofweek"
   ]
  },
  {
   "cell_type": "code",
   "execution_count": 18,
   "metadata": {},
   "outputs": [],
   "source": [
    "# 공휴일 목록\n",
    "holiday_list=['2018-02-15','2018-02-16','2018-02-17','2018-03-01','2018-05-05','2018-05-07','2018-05-22','2018-06-06','2018-06-13']\n",
    "\n",
    "# 토요일/일요일 \n",
    "\n",
    "a= train_sample['2018-02-17':].index\n",
    "b= train_sample['2018-02-19':].resample('B').sum().index\n",
    "\n",
    "list_a = []\n",
    "for i in range(len(a.values)):\n",
    "    list_a.append(a.values[i])\n",
    "list_b = []\n",
    "for i in range(len(b.values)):\n",
    "    list_b.append(b.values[i])\n",
    "\n",
    "list_tmp = []\n",
    "for i in list_a:\n",
    "    if i not in list_b:\n",
    "        list_tmp.append(i)\n",
    "      \n",
    "    \n",
    "# list_tmp # 토요일/일요일\n",
    "saturday_sunday = np.array(list_tmp) # 툐요일/일요일 index => ndarray\n",
    "\n",
    "# # 주말목록 / 주말색인 구한 뒤 합침\n",
    "for i in range(len(saturday_sunday)):\n",
    "    holiday_list.append(str(saturday_sunday[i])[:10])"
   ]
  },
  {
   "cell_type": "markdown",
   "metadata": {},
   "source": [
    "> Input 형식\n",
    "\n",
    ">  (전체세대시간, 24시간, 2 )"
   ]
  },
  {
   "cell_type": "code",
   "execution_count": 19,
   "metadata": {},
   "outputs": [
    {
     "name": "stderr",
     "output_type": "stream",
     "text": [
      "C:\\Anaconda3\\lib\\site-packages\\sklearn\\preprocessing\\data.py:323: DataConversionWarning: Data with input dtype int64 were all converted to float64 by MinMaxScaler.\n",
      "  return self.partial_fit(X, y)\n"
     ]
    }
   ],
   "source": [
    "from sklearn.preprocessing import MinMaxScaler\n",
    "\n",
    "sc_train = MinMaxScaler() # trainSet scaler\n",
    "sc_test = MinMaxScaler() # testSet scaler\n",
    "sc_temp = MinMaxScaler() # temp scaler\n",
    "sc_humidity = MinMaxScaler()\n",
    "sc_DayOfWeek = MinMaxScaler()\n",
    "\n",
    "train_sample_sc = sc_train.fit_transform(train_sample.iloc[:,:-3])\n",
    "test_sample_sc = sc_test.fit_transform(test_sample.iloc[:,:-3])\n",
    "temp_sc = sc_temp.fit_transform(train_sample[['temp']])\n",
    "humidity_sc = sc_humidity.fit_transform(train_sample[['humidity']])\n",
    "DayOfWeek_sc = sc_DayOfWeek.fit_transform(train_sample[['DayOfWeek']])\n",
    "\n",
    "\n",
    "train_sample_sc = np.concatenate((train_sample_sc, temp_sc), axis=1)\n",
    "train_sample_sc = np.concatenate((train_sample_sc, humidity_sc), axis=1)\n",
    "train_sample_sc = np.concatenate((train_sample_sc, DayOfWeek_sc), axis=1)\n",
    "\n",
    "\n",
    "\n",
    "test_sample_sc = np.concatenate((test_sample_sc, temp_sc), axis=1)\n",
    "test_sample_sc = np.concatenate((test_sample_sc, humidity_sc), axis=1)\n",
    "test_sample_sc = np.concatenate((test_sample_sc, DayOfWeek_sc), axis=1)"
   ]
  },
  {
   "cell_type": "code",
   "execution_count": 20,
   "metadata": {},
   "outputs": [],
   "source": [
    "train_sample = pd.DataFrame(train_sample_sc, columns=train_sample.columns,index=train_sample.index)\n",
    "test_sample = pd.DataFrame(test_sample_sc, columns=test_sample.columns,index=test_sample.index)"
   ]
  },
  {
   "cell_type": "code",
   "execution_count": 21,
   "metadata": {},
   "outputs": [
    {
     "name": "stderr",
     "output_type": "stream",
     "text": [
      "C:\\Anaconda3\\lib\\site-packages\\pandas\\core\\indexing.py:205: SettingWithCopyWarning: \n",
      "A value is trying to be set on a copy of a slice from a DataFrame\n",
      "\n",
      "See the caveats in the documentation: http://pandas.pydata.org/pandas-docs/stable/user_guide/indexing.html#returning-a-view-versus-a-copy\n",
      "  self._setitem_with_indexer(indexer, value)\n"
     ]
    }
   ],
   "source": [
    "train_sample['holiDay'] = 0 # holiday feature 추가 / 우선 0으로 \n",
    "\n",
    "for i in range(len(train_sample)):\n",
    "    if str(train_sample.index[i])[:10] in holiday_list :\n",
    "        train_sample['holiDay'].iloc[i] = 1 # 쉬는날이면 1\n",
    "    else:\n",
    "        train_sample['holiDay'].iloc[i] = 0 # 쉬는날 아니면 0\n",
    "        \n",
    "# 같은방법으로 test_sample도\n",
    "\n",
    "test_sample['holiDay'] = 0 # holiday feature 추가 / 우선 0으로 \n",
    "\n",
    "for i in range(len(test_sample)):\n",
    "    if str(test_sample.index[i])[:10] in holiday_list :\n",
    "        test_sample['holiDay'].iloc[i] = 1 # 쉬는날이면 1\n",
    "    else:\n",
    "        test_sample['holiDay'].iloc[i] = 0 # 쉬는날 아니면 0"
   ]
  },
  {
   "cell_type": "code",
   "execution_count": 22,
   "metadata": {},
   "outputs": [],
   "source": [
    "# train_sample = pd.read_csv('train_sample_forecast_일별',index_col='Time',parse_dates=True) # scaling 된거\n",
    "# test_sample = pd.read_csv('test_sample_forecast_일별',index_col='Time',parse_dates=True)"
   ]
  },
  {
   "cell_type": "code",
   "execution_count": 23,
   "metadata": {},
   "outputs": [],
   "source": [
    "shift_step = 10"
   ]
  },
  {
   "cell_type": "code",
   "execution_count": 24,
   "metadata": {
    "scrolled": true
   },
   "outputs": [],
   "source": [
    "tmp_list = [] \n",
    "for i in train_sample.columns[:-4]:\n",
    "    tmp_list.append(train_sample[[i,'temp','DayOfWeek','holiDay','humidity']][\"2018-02-21\":].values[:-shift_step].reshape(12,10,5)) \n",
    "\n",
    "to_formatted_x = np.array(tmp_list)"
   ]
  },
  {
   "cell_type": "code",
   "execution_count": 25,
   "metadata": {},
   "outputs": [
    {
     "data": {
      "text/plain": [
       "(15024, 10, 5)"
      ]
     },
     "execution_count": 25,
     "metadata": {},
     "output_type": "execute_result"
    }
   ],
   "source": [
    "res_x = to_formatted_x.reshape(to_formatted_x.shape[0]*to_formatted_x.shape[1],10,5)\n",
    "\n",
    "res_x.shape"
   ]
  },
  {
   "cell_type": "code",
   "execution_count": 26,
   "metadata": {},
   "outputs": [],
   "source": [
    "for_shifting_y = train_sample.shift(-10)\n",
    "# for_shifting_y=for_shifting_y.dropna()\n",
    "\n",
    "tmp_shift_list = []\n",
    "for i in train_sample.columns[:-4]:\n",
    "    tmp_shift_list.append(for_shifting_y[i]['2018-02-21':].values[:-shift_step].reshape(12,10,1))\n",
    "\n",
    "to_formatted_y = np.array(tmp_shift_list)"
   ]
  },
  {
   "cell_type": "code",
   "execution_count": 27,
   "metadata": {},
   "outputs": [
    {
     "data": {
      "text/plain": [
       "(15024, 10, 1)"
      ]
     },
     "execution_count": 27,
     "metadata": {},
     "output_type": "execute_result"
    }
   ],
   "source": [
    "res_y = to_formatted_y.reshape(to_formatted_x.shape[0]*to_formatted_x.shape[1],10,1)\n",
    "\n",
    "res_y.shape"
   ]
  },
  {
   "cell_type": "code",
   "execution_count": 28,
   "metadata": {},
   "outputs": [],
   "source": [
    "############################################### TEST DATA #############################################################"
   ]
  },
  {
   "cell_type": "code",
   "execution_count": 29,
   "metadata": {},
   "outputs": [],
   "source": [
    "tmp_test_list = [] \n",
    "for i in test_sample.columns[:-4]:\n",
    "    tmp_test_list.append(test_sample[[i,'temp','DayOfWeek','holiDay','humidity']]['2018-02-21':].values[:-shift_step].reshape(12,10,5)) \n",
    "\n",
    "to_formatted_test_x = np.array(tmp_test_list)"
   ]
  },
  {
   "cell_type": "code",
   "execution_count": 30,
   "metadata": {},
   "outputs": [
    {
     "data": {
      "text/plain": [
       "(2124, 10, 5)"
      ]
     },
     "execution_count": 30,
     "metadata": {},
     "output_type": "execute_result"
    }
   ],
   "source": [
    "res_test_x = to_formatted_test_x.reshape(to_formatted_test_x.shape[0]*to_formatted_test_x.shape[1],10,5)\n",
    "\n",
    "res_test_x.shape"
   ]
  },
  {
   "cell_type": "code",
   "execution_count": 31,
   "metadata": {},
   "outputs": [],
   "source": [
    "for_shifting_y = test_sample.shift(-10)\n",
    "\n",
    "tmp_test_shift_list = []\n",
    "for i in test_sample.columns[:-4]:\n",
    "    tmp_test_shift_list.append(for_shifting_y[i]['2018-02-21':].values[:-shift_step].reshape(12,10,1))\n",
    "\n",
    "to_formatted_test_y = np.array(tmp_test_shift_list)"
   ]
  },
  {
   "cell_type": "code",
   "execution_count": 32,
   "metadata": {},
   "outputs": [],
   "source": [
    "# to_formatted_test_y.shape"
   ]
  },
  {
   "cell_type": "code",
   "execution_count": 33,
   "metadata": {},
   "outputs": [
    {
     "data": {
      "text/plain": [
       "(2124, 10, 1)"
      ]
     },
     "execution_count": 33,
     "metadata": {},
     "output_type": "execute_result"
    }
   ],
   "source": [
    "res_test_y = to_formatted_test_y.reshape(to_formatted_test_x.shape[0]*to_formatted_test_x.shape[1],10,1)\n",
    "\n",
    "res_test_y.shape"
   ]
  },
  {
   "cell_type": "code",
   "execution_count": 34,
   "metadata": {
    "scrolled": true
   },
   "outputs": [
    {
     "name": "stderr",
     "output_type": "stream",
     "text": [
      "Using TensorFlow backend.\n"
     ]
    },
    {
     "name": "stdout",
     "output_type": "stream",
     "text": [
      "Model: \"sequential_1\"\n",
      "_________________________________________________________________\n",
      "Layer (type)                 Output Shape              Param #   \n",
      "=================================================================\n",
      "lstm_1 (LSTM)                (None, 10, 128)           68608     \n",
      "_________________________________________________________________\n",
      "time_distributed_1 (TimeDist (None, 10, 1)             129       \n",
      "=================================================================\n",
      "Total params: 68,737\n",
      "Trainable params: 68,737\n",
      "Non-trainable params: 0\n",
      "_________________________________________________________________\n"
     ]
    }
   ],
   "source": [
    "from keras.layers import LSTM \n",
    "from keras.models import Sequential \n",
    "from keras.layers import Dense \n",
    "import keras.backend as K \n",
    "from keras.callbacks import EarlyStopping \n",
    "from keras.layers import TimeDistributed\n",
    "K.clear_session()\n",
    "\n",
    "model = Sequential() # Sequeatial Model \n",
    "model.add(LSTM(128, input_shape=(10, 5),return_sequences=True)) # (timestep, feature)\n",
    "model.add(TimeDistributed(Dense(1, activation=\"linear\")))\n",
    "model.compile(loss='mean_squared_error', optimizer='adam') \n",
    "model.summary()"
   ]
  },
  {
   "cell_type": "code",
   "execution_count": 35,
   "metadata": {
    "scrolled": true
   },
   "outputs": [
    {
     "name": "stdout",
     "output_type": "stream",
     "text": [
      "WARNING:tensorflow:From C:\\Anaconda3\\lib\\site-packages\\keras\\backend\\tensorflow_backend.py:422: The name tf.global_variables is deprecated. Please use tf.compat.v1.global_variables instead.\n",
      "\n",
      "Train on 12019 samples, validate on 3005 samples\n",
      "Epoch 1/50\n",
      "12019/12019 [==============================] - 2s 208us/step - loss: 0.1080 - val_loss: 0.0659\n",
      "Epoch 2/50\n",
      "12019/12019 [==============================] - 2s 173us/step - loss: 0.0547 - val_loss: 0.0464\n",
      "Epoch 3/50\n",
      "12019/12019 [==============================] - 2s 171us/step - loss: 0.0432 - val_loss: 0.0392\n",
      "Epoch 4/50\n",
      "12019/12019 [==============================] - 2s 169us/step - loss: 0.0372 - val_loss: 0.0343\n",
      "Epoch 5/50\n",
      "12019/12019 [==============================] - 2s 175us/step - loss: 0.0335 - val_loss: 0.0312\n",
      "Epoch 6/50\n",
      "12019/12019 [==============================] - 2s 171us/step - loss: 0.0313 - val_loss: 0.0296\n",
      "Epoch 7/50\n",
      "12019/12019 [==============================] - 2s 171us/step - loss: 0.0299 - val_loss: 0.0283\n",
      "Epoch 8/50\n",
      "12019/12019 [==============================] - 2s 172us/step - loss: 0.0289 - val_loss: 0.0274\n",
      "Epoch 9/50\n",
      "12019/12019 [==============================] - 2s 172us/step - loss: 0.0281 - val_loss: 0.0267\n",
      "Epoch 10/50\n",
      "12019/12019 [==============================] - 2s 177us/step - loss: 0.0274 - val_loss: 0.0261\n",
      "Epoch 11/50\n",
      "12019/12019 [==============================] - 2s 176us/step - loss: 0.0269 - val_loss: 0.0256\n",
      "Epoch 12/50\n",
      "12019/12019 [==============================] - 2s 178us/step - loss: 0.0264 - val_loss: 0.0252\n",
      "Epoch 13/50\n",
      "12019/12019 [==============================] - 2s 177us/step - loss: 0.0261 - val_loss: 0.0252\n",
      "Epoch 14/50\n",
      "12019/12019 [==============================] - 2s 179us/step - loss: 0.0258 - val_loss: 0.0248\n",
      "Epoch 15/50\n",
      "12019/12019 [==============================] - 2s 171us/step - loss: 0.0256 - val_loss: 0.0245\n",
      "Epoch 16/50\n",
      "12019/12019 [==============================] - 2s 174us/step - loss: 0.0255 - val_loss: 0.0248\n",
      "Epoch 17/50\n",
      "12019/12019 [==============================] - 2s 171us/step - loss: 0.0255 - val_loss: 0.0242\n",
      "Epoch 18/50\n",
      "12019/12019 [==============================] - 2s 171us/step - loss: 0.0253 - val_loss: 0.0243\n",
      "Epoch 19/50\n",
      "12019/12019 [==============================] - 2s 172us/step - loss: 0.0252 - val_loss: 0.0241\n",
      "Epoch 20/50\n",
      "12019/12019 [==============================] - 2s 174us/step - loss: 0.0251 - val_loss: 0.0240\n",
      "Epoch 21/50\n",
      "12019/12019 [==============================] - 2s 170us/step - loss: 0.0251 - val_loss: 0.0239\n",
      "Epoch 22/50\n",
      "12019/12019 [==============================] - 2s 173us/step - loss: 0.0249 - val_loss: 0.0239\n",
      "Epoch 23/50\n",
      "12019/12019 [==============================] - 2s 178us/step - loss: 0.0249 - val_loss: 0.0241\n",
      "Epoch 24/50\n",
      "12019/12019 [==============================] - 2s 173us/step - loss: 0.0249 - val_loss: 0.0243\n",
      "Epoch 25/50\n",
      "12019/12019 [==============================] - 2s 171us/step - loss: 0.0248 - val_loss: 0.0238\n",
      "Epoch 26/50\n",
      "12019/12019 [==============================] - 2s 172us/step - loss: 0.0248 - val_loss: 0.0238\n",
      "Epoch 27/50\n",
      "12019/12019 [==============================] - 2s 183us/step - loss: 0.0247 - val_loss: 0.0236\n",
      "Epoch 28/50\n",
      "12019/12019 [==============================] - 2s 182us/step - loss: 0.0246 - val_loss: 0.0236\n",
      "Epoch 29/50\n",
      "12019/12019 [==============================] - 2s 183us/step - loss: 0.0246 - val_loss: 0.0235\n",
      "Epoch 30/50\n",
      "12019/12019 [==============================] - 2s 185us/step - loss: 0.0245 - val_loss: 0.0234\n",
      "Epoch 31/50\n",
      "12019/12019 [==============================] - 2s 184us/step - loss: 0.0244 - val_loss: 0.0234\n",
      "Epoch 32/50\n",
      "12019/12019 [==============================] - 2s 187us/step - loss: 0.0244 - val_loss: 0.0235\n",
      "Epoch 33/50\n",
      "12019/12019 [==============================] - 2s 188us/step - loss: 0.0243 - val_loss: 0.0232\n",
      "Epoch 34/50\n",
      "12019/12019 [==============================] - 2s 189us/step - loss: 0.0242 - val_loss: 0.0233\n",
      "Epoch 35/50\n",
      "12019/12019 [==============================] - 2s 189us/step - loss: 0.0244 - val_loss: 0.0234\n",
      "Epoch 36/50\n",
      "12019/12019 [==============================] - 2s 188us/step - loss: 0.0242 - val_loss: 0.0235\n",
      "Epoch 37/50\n",
      "12019/12019 [==============================] - 2s 182us/step - loss: 0.0241 - val_loss: 0.0230\n",
      "Epoch 38/50\n",
      "12019/12019 [==============================] - 2s 178us/step - loss: 0.0240 - val_loss: 0.0230\n",
      "Epoch 39/50\n",
      "12019/12019 [==============================] - 2s 179us/step - loss: 0.0239 - val_loss: 0.0228\n",
      "Epoch 40/50\n",
      "12019/12019 [==============================] - 2s 178us/step - loss: 0.0240 - val_loss: 0.0229\n",
      "Epoch 41/50\n",
      "12019/12019 [==============================] - 2s 179us/step - loss: 0.0238 - val_loss: 0.0229\n",
      "Epoch 42/50\n",
      "12019/12019 [==============================] - 2s 177us/step - loss: 0.0239 - val_loss: 0.0226\n",
      "Epoch 43/50\n",
      "12019/12019 [==============================] - 2s 180us/step - loss: 0.0237 - val_loss: 0.0226\n",
      "Epoch 44/50\n",
      "12019/12019 [==============================] - 2s 181us/step - loss: 0.0236 - val_loss: 0.0225\n",
      "Epoch 45/50\n",
      "12019/12019 [==============================] - 2s 182us/step - loss: 0.0235 - val_loss: 0.0226\n",
      "Epoch 46/50\n",
      "12019/12019 [==============================] - 2s 191us/step - loss: 0.0235 - val_loss: 0.0227\n",
      "Epoch 47/50\n",
      "12019/12019 [==============================] - 2s 193us/step - loss: 0.0235 - val_loss: 0.0231\n",
      "Epoch 48/50\n",
      "12019/12019 [==============================] - 2s 190us/step - loss: 0.0235 - val_loss: 0.0223\n",
      "Epoch 49/50\n",
      "12019/12019 [==============================] - 2s 189us/step - loss: 0.0234 - val_loss: 0.0223\n",
      "Epoch 50/50\n",
      "12019/12019 [==============================] - 2s 185us/step - loss: 0.0232 - val_loss: 0.0223\n"
     ]
    }
   ],
   "source": [
    "# 모델 학습\n",
    "early_stop = EarlyStopping(monitor='loss',patience=4, verbose=1)\n",
    "\n",
    "history = model.fit(res_x,res_y,epochs=50,batch_size=512,verbose=1,validation_split=0.2,shuffle=True,callbacks=[early_stop])"
   ]
  },
  {
   "cell_type": "code",
   "execution_count": 36,
   "metadata": {
    "scrolled": false
   },
   "outputs": [
    {
     "data": {
      "image/png": "[encoded data removed]",
      "text/plain": [
       "<Figure size 432x288 with 1 Axes>"
      ]
     },
     "metadata": {
      "needs_background": "light"
     },
     "output_type": "display_data"
    }
   ],
   "source": [
    "history_dict = history.history\n",
    "history_dict.keys()\n",
    "\n",
    "import matplotlib.pyplot as plt\n",
    "%matplotlib inline\n",
    "\n",
    "loss = history.history['loss']\n",
    "val_loss = history.history['val_loss']\n",
    "\n",
    "epochs = range(1, len(loss) + 1)\n",
    "plt.plot(epochs, loss, 'bo', label='Training loss')# ‘bo’는 파란색 점\n",
    "plt.plot(epochs, val_loss, 'b', label='Validation loss')# ‘b’는 파란색 실선\n",
    "plt.title('Training and validation loss')\n",
    "plt.xlabel('Epochs')\n",
    "plt.ylabel('Loss')\n",
    "plt.legend()\n",
    "plt.show()"
   ]
  },
  {
   "cell_type": "code",
   "execution_count": 37,
   "metadata": {},
   "outputs": [],
   "source": [
    "pred = model.predict(res_test_x)"
   ]
  },
  {
   "cell_type": "code",
   "execution_count": 38,
   "metadata": {},
   "outputs": [
    {
     "data": {
      "text/plain": [
       "Index(['X303', 'X241', 'X435', 'X402', 'X352', 'X305', 'X350', 'X326', 'X299',\n",
       "       'X160',\n",
       "       ...\n",
       "       'X266', 'X443', 'X347', 'X75', 'X107', 'X230', 'temp', 'humidity',\n",
       "       'DayOfWeek', 'holiDay'],\n",
       "      dtype='object', length=181)"
      ]
     },
     "execution_count": 38,
     "metadata": {},
     "output_type": "execute_result"
    }
   ],
   "source": [
    "test_sample.columns"
   ]
  },
  {
   "cell_type": "code",
   "execution_count": 39,
   "metadata": {
    "scrolled": true
   },
   "outputs": [],
   "source": [
    "## to inverse minmax scale\n",
    "\n",
    "col_list = test_sample.columns.insert(0,'임시')\n",
    "tt_index = test_sample['2018-03-03':'2018-06-30'].index\n",
    "\n",
    "test_inverse_df = pd.DataFrame()\n",
    "\n",
    "for i in range(1,len(test_sample.columns)-3):# feature 제외\n",
    "    tmp = i*120\n",
    "    tt = pred.reshape(21240  ,1)[tmp-120:tmp]    \n",
    "    test_inverse_df[col_list[i]] = tt.reshape(120,)\n",
    "    \n",
    "test_inverse_df = test_inverse_df.set_index(tt_index)\n",
    "test_inverse_df_array = sc_test.inverse_transform(test_inverse_df)"
   ]
  },
  {
   "cell_type": "code",
   "execution_count": 40,
   "metadata": {
    "scrolled": true
   },
   "outputs": [],
   "source": [
    "# inverse minmax scale DataFrame \n",
    "\n",
    "res_test_df = pd.DataFrame(test_inverse_df_array, columns=test_inverse_df.columns,index=tt_index)"
   ]
  },
  {
   "cell_type": "code",
   "execution_count": 41,
   "metadata": {},
   "outputs": [],
   "source": [
    "# 예측한 결과물 DataFrame\n",
    "# res_test_df"
   ]
  },
  {
   "cell_type": "code",
   "execution_count": 42,
   "metadata": {},
   "outputs": [],
   "source": [
    "# 결과물과 원본 DataFrame 모두 inverse scaling "
   ]
  },
  {
   "cell_type": "code",
   "execution_count": 43,
   "metadata": {},
   "outputs": [],
   "source": [
    "test_none_scale = pd.read_csv('test_sample',index_col='Time',parse_dates=True)"
   ]
  },
  {
   "cell_type": "code",
   "execution_count": 44,
   "metadata": {},
   "outputs": [],
   "source": [
    "test_none_scale = test_none_scale.loc[:,:'X230']['2018-03-03':'2018-06-30'].resample('D').sum()"
   ]
  },
  {
   "cell_type": "code",
   "execution_count": 45,
   "metadata": {},
   "outputs": [
    {
     "data": {
      "text/plain": [
       "Index(['X303', 'X241', 'X435', 'X402', 'X352', 'X305', 'X350', 'X326', 'X299',\n",
       "       'X160',\n",
       "       ...\n",
       "       'X266', 'X443', 'X347', 'X75', 'X107', 'X230', 'temp', 'humidity',\n",
       "       'DayOfWeek', 'holiDay'],\n",
       "      dtype='object', length=181)"
      ]
     },
     "execution_count": 45,
     "metadata": {},
     "output_type": "execute_result"
    }
   ],
   "source": [
    "test_sample.columns"
   ]
  },
  {
   "cell_type": "markdown",
   "metadata": {},
   "source": [
    "> 결과 체크"
   ]
  },
  {
   "cell_type": "code",
   "execution_count": 46,
   "metadata": {
    "scrolled": false
   },
   "outputs": [
    {
     "data": {
      "text/plain": [
       "<matplotlib.legend.Legend at 0x19e17649c88>"
      ]
     },
     "execution_count": 46,
     "metadata": {},
     "output_type": "execute_result"
    },
    {
     "data": {
      "image/png": "[encoded data removed]",
      "text/plain": [
       "<Figure size 720x576 with 1 Axes>"
      ]
     },
     "metadata": {
      "needs_background": "light"
     },
     "output_type": "display_data"
    }
   ],
   "source": [
    "# 일별\n",
    "\n",
    "test_none_scale['X303'].plot(figsize=(10,8),color='red',label='관측값')\n",
    "res_test_df['X303'].plot(figsize=(10,8),color='blue',label='예측값')\n",
    "plt.legend()"
   ]
  },
  {
   "cell_type": "code",
   "execution_count": null,
   "metadata": {},
   "outputs": [],
   "source": []
  },
  {
   "cell_type": "code",
   "execution_count": null,
   "metadata": {},
   "outputs": [],
   "source": []
  },
  {
   "cell_type": "code",
   "execution_count": null,
   "metadata": {},
   "outputs": [],
   "source": [
    "#################### forecast#########################"
   ]
  },
  {
   "cell_type": "code",
   "execution_count": 69,
   "metadata": {},
   "outputs": [],
   "source": [
    "forecast_test = pd.read_csv('forecast_test',index_col='Time',parse_dates=True)"
   ]
  },
  {
   "cell_type": "code",
   "execution_count": 71,
   "metadata": {},
   "outputs": [
    {
     "name": "stderr",
     "output_type": "stream",
     "text": [
      "C:\\Anaconda3\\lib\\site-packages\\pandas\\core\\indexing.py:205: SettingWithCopyWarning: \n",
      "A value is trying to be set on a copy of a slice from a DataFrame\n",
      "\n",
      "See the caveats in the documentation: http://pandas.pydata.org/pandas-docs/stable/user_guide/indexing.html#returning-a-view-versus-a-copy\n",
      "  self._setitem_with_indexer(indexer, value)\n"
     ]
    }
   ],
   "source": [
    "from sklearn.preprocessing import MinMaxScaler\n",
    "\n",
    "sc_test = MinMaxScaler() # testSet scaler\n",
    "sc_temp = MinMaxScaler() # temp scaler\n",
    "sc_humidity = MinMaxScaler()\n",
    "sc_DayOfWeek = MinMaxScaler()\n",
    "\n",
    "forecast_test_sc = sc_test.fit_transform(forecast_test.iloc[:,:-4])\n",
    "temp_sc = sc_temp.fit_transform(forecast_test[['temp']])\n",
    "humidity_sc = sc_humidity.fit_transform(forecast_test[['humidity']])\n",
    "DayOfWeek_sc = sc_DayOfWeek.fit_transform(forecast_test[['DayOfWeek']])\n",
    "\n",
    "forecast_test_sc = np.concatenate((forecast_test_sc, temp_sc), axis=1)\n",
    "forecast_test_sc = np.concatenate((forecast_test_sc, humidity_sc), axis=1)\n",
    "forecast_test_sc = np.concatenate((forecast_test_sc, DayOfWeek_sc), axis=1)\n",
    "\n",
    "forecast_test = pd.DataFrame(forecast_test_sc, columns=forecast_test.columns[:-1],index=forecast_test.index)\n",
    "\n",
    "forecast_test['holiDay'] = 0 # holiday feature 추가 / 우선 0으로 \n",
    "\n",
    "for i in range(len(forecast_test)):\n",
    "    if str(forecast_test.index[i])[:10] in holiday_list :\n",
    "        forecast_test['holiDay'].iloc[i] = 1 # 쉬는날이면 1\n",
    "    else:\n",
    "        forecast_test['holiDay'].iloc[i] = 0 # 쉬는날 아니면 0"
   ]
  },
  {
   "cell_type": "code",
   "execution_count": 72,
   "metadata": {},
   "outputs": [],
   "source": [
    "tmp_test_list = [] \n",
    "for i in forecast_test.columns[:-4]:\n",
    "    tmp_test_list.append(forecast_test[[i,'temp','DayOfWeek','holiDay','humidity']]['2018-06-21':'2018-06-30'].values) \n",
    "\n",
    "to_formatted_test_x = np.array(tmp_test_list)"
   ]
  },
  {
   "cell_type": "code",
   "execution_count": 73,
   "metadata": {},
   "outputs": [],
   "source": [
    "forecast_x = to_formatted_test_x"
   ]
  },
  {
   "cell_type": "code",
   "execution_count": 74,
   "metadata": {},
   "outputs": [],
   "source": [
    "pred = model.predict(forecast_x)"
   ]
  },
  {
   "cell_type": "code",
   "execution_count": null,
   "metadata": {
    "scrolled": true
   },
   "outputs": [],
   "source": [
    "# forecast_test"
   ]
  },
  {
   "cell_type": "code",
   "execution_count": 75,
   "metadata": {},
   "outputs": [],
   "source": [
    "## to inverse minmax scale\n",
    "\n",
    "col_list = forecast_test.columns.insert(0,'임시')\n",
    "tt_index = forecast_test['2018-06-01':'2018-06-10'].index # 07/01 ~ 07/10\n",
    "\n",
    "test_inverse_df = pd.DataFrame()\n",
    "\n",
    "for i in range(1,len(forecast_test.columns)-3):# temp col 제외\n",
    "    tmp = i*10\n",
    "    tt = pred.reshape(2000 ,1)[tmp-10:tmp]    \n",
    "    test_inverse_df[col_list[i]] = tt.reshape(10,)\n",
    "    \n",
    "test_inverse_df = test_inverse_df.set_index(tt_index)\n",
    "test_inverse_df_array = sc_test.inverse_transform(test_inverse_df)"
   ]
  },
  {
   "cell_type": "code",
   "execution_count": 76,
   "metadata": {},
   "outputs": [],
   "source": [
    "# inverse minmax scale DataFrame \n",
    "\n",
    "res_forecast = pd.DataFrame(test_inverse_df_array, columns=test_inverse_df.columns,index=tt_index)"
   ]
  },
  {
   "cell_type": "code",
   "execution_count": 82,
   "metadata": {
    "scrolled": true
   },
   "outputs": [],
   "source": [
    "res_forecast.to_csv(\"10일 일별 예측 결과\") # 07/01 24시간"
   ]
  }
 ],
 "metadata": {
  "kernelspec": {
   "display_name": "Python 3",
   "language": "python",
   "name": "python3"
  },
  "language_info": {
   "codemirror_mode": {
    "name": "ipython",
    "version": 3
   },
   "file_extension": ".py",
   "mimetype": "text/x-python",
   "name": "python",
   "nbconvert_exporter": "python",
   "pygments_lexer": "ipython3",
   "version": "3.7.4"
  }
 },
 "nbformat": 4,
 "nbformat_minor": 2
}
