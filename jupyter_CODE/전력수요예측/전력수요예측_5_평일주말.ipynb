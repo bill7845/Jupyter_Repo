{
 "cells": [
  {
   "cell_type": "code",
   "execution_count": 1,
   "metadata": {},
   "outputs": [],
   "source": [
    "%matplotlib inline\n",
    "import matplotlib.pyplot as plt\n",
    "import tensorflow as tf\n",
    "import numpy as np\n",
    "import pandas as pd\n",
    "import os\n",
    "from sklearn.preprocessing import MinMaxScaler"
   ]
  },
  {
   "cell_type": "code",
   "execution_count": 2,
   "metadata": {},
   "outputs": [],
   "source": [
    "# from tf.keras.models import Sequential # This does not work!\n",
    "from tensorflow.python.keras.models import Sequential\n",
    "from tensorflow.python.keras.layers import Input, Dense, GRU, Embedding\n",
    "from tensorflow.python.keras.optimizers import RMSprop\n",
    "from tensorflow.python.keras.callbacks import EarlyStopping, TensorBoard, ReduceLROnPlateau\n",
    "\n",
    "# ModelCheckpoint"
   ]
  },
  {
   "cell_type": "code",
   "execution_count": 3,
   "metadata": {},
   "outputs": [],
   "source": [
    "from tslearn.clustering import TimeSeriesKMeans\n",
    "from tslearn.datasets import CachedDatasets\n",
    "from tslearn.preprocessing import TimeSeriesScalerMeanVariance, \\\n",
    "    TimeSeriesResampler\n",
    "from tslearn.utils import to_time_series\n",
    "from tslearn.utils import to_time_series_dataset\n",
    "from tslearn.datasets import UCR_UEA_datasets\n",
    "from tslearn.clustering import TimeSeriesKMeans"
   ]
  },
  {
   "cell_type": "code",
   "execution_count": 4,
   "metadata": {},
   "outputs": [],
   "source": [
    "from matplotlib import font_manager, rc\n",
    "import matplotlib\n",
    "\n",
    "#한글 폰트 등록\n",
    "font_location = \"c:/Windows/fonts/malgun.ttf\"\n",
    "font_name = font_manager.FontProperties(fname=font_location).get_name()\n",
    "matplotlib.rc('font', family=font_name)"
   ]
  },
  {
   "cell_type": "code",
   "execution_count": 5,
   "metadata": {},
   "outputs": [],
   "source": [
    "# import pandas as pd\n",
    "\n",
    "# # 판다스 데이터프레임(DataFrame)을 출력할 때, 최대 출력할 수 있는 컬럼을 100개로 늘려줍니다.\n",
    "# # 이렇게 해야 데이터를 분석할 때 출력해서 확인하기 편합니다.\n",
    "pd.options.display.max_columns = 100\n",
    "pd.options.display.max_rows = 100"
   ]
  },
  {
   "cell_type": "code",
   "execution_count": 6,
   "metadata": {},
   "outputs": [],
   "source": [
    "# train_sample = pd.read_csv('train_sample_addFeature',index_col='Time',parse_dates=True)\n",
    "# test_sample = pd.read_csv('test_sample_addFeature',index_col='Time',parse_dates=True)"
   ]
  },
  {
   "cell_type": "code",
   "execution_count": 7,
   "metadata": {},
   "outputs": [],
   "source": [
    "# train = pd.read_csv('C:/Users/KIHyuk/Desktop/전력수요예측/train.csv',index_col='Time',parse_dates=True)\n",
    "# test = pd.read_csv('C:/Users/KIHyuk/Desktop/전력수요예측/test.csv',index_col='Time',parse_dates=True)"
   ]
  },
  {
   "cell_type": "code",
   "execution_count": 8,
   "metadata": {},
   "outputs": [],
   "source": [
    "# weather_time = pd.read_csv('C:/Users/KIHyuk/Desktop/전력수요예측/인천_시간별_기상자료.csv',encoding='euc-kr',index_col='일시',parse_dates=True)\n",
    "# del weather_time['지점']\n",
    "\n",
    "# weather_day = pd.read_csv('C:/Users/KIHyuk/Desktop/전력수요예측/인천_일별_기상자료.csv',encoding='euc-kr',index_col='일시',parse_dates=True)\n",
    "# del weather_day['지점']"
   ]
  },
  {
   "cell_type": "code",
   "execution_count": 9,
   "metadata": {},
   "outputs": [],
   "source": [
    "# for k in range(1,len(train.columns) ): #시간을 제외한 1열부터 마지막 열까지를 for문으로 작동시킵니다.\n",
    "#     train_median=train.iloc[:,k].median() #값을 대체하는 과정에서 값이 변경 될 것을 대비해 해당 세대의 중앙값을 미리 계산하고 시작합니다.\n",
    "#     counting=train.loc[ train.iloc[:,k].isnull()==False ][ train.columns[k] ].index\n",
    "\n",
    "#     df=pd.DataFrame( list( zip( counting[:-1], counting[1:] - counting[:-1] -1  ) ), columns=['index','count'] )\n",
    "    \n",
    "#     df2= df[ (df['count'] > 0) ] #결측치가 존재하는 부분만 추출\n",
    "#     df2=df2.reset_index(drop=True) #기존에 존재하는 index를 초기화 하여 이후 for문에 사용함\n",
    "\n",
    "#     for i,j in zip( df2['index'], df2['count'] ) : # i = 해당 세대에서 값이 존재하는 index, j = 현재 index 밑의 결측치 갯수\n",
    "#         if train.iloc[i,k]>=train_median: #현재 index에 존재하는 값이 해당 세대의 중앙 값 이상일때만 분산처리 실행\n",
    "#             train.iloc[ i : i+j+1 , k] = train.iloc[i,k] / (j+1) \n",
    "#             #현재 index 및 결측치의 갯수 만큼 지정을 하여, 현재 index에 있는 값을 해당 갯수만큼 나누어 줍니다\n",
    "#         else:\n",
    "#             pass\n",
    "#             #현재 index에 존재하는 값이 중앙 값 미만이면 pass를 실행\n",
    "#     if k%50==0: #for문 진행정도 확인용\n",
    "#             print(k,\"번째 실행중\")"
   ]
  },
  {
   "cell_type": "code",
   "execution_count": 10,
   "metadata": {},
   "outputs": [],
   "source": [
    "# for k in range(1,len(test.columns) ): #시간을 제외한 1열부터 마지막 열까지를 for문으로 작동시킵니다.\n",
    "#     test_median=test.iloc[:,k].median() #값을 대체하는 과정에서 값이 변경 될 것을 대비해 해당 세대의 중앙값을 미리 계산하고 시작합니다.\n",
    "#     counting=test.loc[ test.iloc[:,k].isnull()==False ][ test.columns[k] ].index\n",
    "\n",
    "#     df=pd.DataFrame( list( zip( counting[:-1], counting[1:] - counting[:-1] -1  ) ), columns=['index','count'] )\n",
    "    \n",
    "#     df2= df[ (df['count'] > 0) ] #결측치가 존재하는 부분만 추출\n",
    "#     df2=df2.reset_index(drop=True) #기존에 존재하는 index를 초기화 하여 이후 for문에 사용함\n",
    "\n",
    "#     for i,j in zip( df2['index'], df2['count'] ) : # i = 해당 세대에서 값이 존재하는 index, j = 현재 index 밑의 결측치 갯수\n",
    "#         if test.iloc[i,k]>=test_median: #현재 indetestx에 존재하는 값이 해당 세대의 중앙 값 이상일때만 분산처리 실행\n",
    "#             test.iloc[ i : i+j+1 , k] = test.iloc[i,k] / (j+1) \n",
    "#             #현재 index 및 결측치의 갯수 만큼 지정을 하여, 현재 index에 있는 값을 해당 갯수만큼 나누어 줍니다\n",
    "#         else:\n",
    "#             pass\n",
    "#             #현재 index에 존재하는 값이 중앙 값 미만이면 pass를 실행\n",
    "#     if k%50==0: #for문 진행정도 확인용\n",
    "#             print(k,\"번째 실행중\")"
   ]
  },
  {
   "cell_type": "code",
   "execution_count": 11,
   "metadata": {},
   "outputs": [],
   "source": [
    "# train['Time'] = train['Time'].apply(pd.to_datetime)\n",
    "# train.set_index('Time',inplace=True)\n",
    "\n",
    "# test['Time'] = test['Time'].apply(pd.to_datetime)\n",
    "# test.set_index('Time',inplace=True)"
   ]
  },
  {
   "cell_type": "code",
   "execution_count": 12,
   "metadata": {},
   "outputs": [],
   "source": [
    "# train_sample = train['2018-02-15':]\n",
    "# train_sample = train_sample.interpolate(method='values')\n",
    "\n",
    "# test_sample = test['2018-02-15':]\n",
    "# test_sample = test_sample.interpolate(method='values')"
   ]
  },
  {
   "cell_type": "code",
   "execution_count": 13,
   "metadata": {},
   "outputs": [],
   "source": [
    "# #결측값 가진 행 제거 - 데이터가 아예 없는 경우\n",
    "# train_sample.loc[:,train_sample.isnull().sum() >= 1].columns"
   ]
  },
  {
   "cell_type": "code",
   "execution_count": 14,
   "metadata": {
    "scrolled": true
   },
   "outputs": [],
   "source": [
    "# #결측값 가진 행 제거 - 데이터가 아예 없는 경우\n",
    "# test_sample.loc[:,test_sample.isnull().sum() >= 1].columns"
   ]
  },
  {
   "cell_type": "code",
   "execution_count": 15,
   "metadata": {},
   "outputs": [],
   "source": [
    "# train_sample.drop(['X4', 'X127', 'X9', 'X65', 'X54', 'X13', 'X53', 'X24', 'X17', 'X14',\n",
    "#        'X48', 'X2', 'X19', 'X36', 'X28', 'X63', 'X38', 'X39', 'X8', 'X64',\n",
    "#        'X29', 'X57', 'X705', 'X71', 'X3', 'X27', 'X22', 'X21', 'X118', 'X6',\n",
    "#        'X45', 'X40', 'X66', 'X52', 'X12', 'X49', 'X1', 'X33', 'X60', 'X46',\n",
    "#        'X963', 'X56', 'X15', 'X11', 'X25', 'X34', 'X23', 'X58'], axis=1, inplace=True)\n",
    "\n",
    "# test_sample.drop(['X26', 'X16', 'X7', 'X18', 'X41', 'X55', 'X5', 'X43', 'X59', 'X10',\n",
    "#        'X62', 'X61', 'X32', 'X31', 'X30', 'X51', 'X35', 'X44', 'X37', 'X42',\n",
    "#        'X50', 'X47', 'X20'],axis=1,inplace=True)"
   ]
  },
  {
   "cell_type": "markdown",
   "metadata": {},
   "source": [
    "> 입력신호 추가"
   ]
  },
  {
   "cell_type": "code",
   "execution_count": 16,
   "metadata": {
    "scrolled": true
   },
   "outputs": [],
   "source": [
    "# train_sample['temp'] = weather_time['기온(°C)']['2018-02-15':'2018-06-30'] \n",
    "# train_sample['humidity'] = weather_time['습도(%)']['2018-02-15':'2018-06-30'] \n",
    "# train_sample[['temp','humidity']] = train_sample[['temp','humidity']].interpolate(method='values')  # 온도 결측값을 시간에 따른 보간법으로 채움\n",
    "# train_sample['Day'] = train_sample.index.dayofyear\n",
    "# train_sample['Hour'] = train_sample.index.hour\n",
    "\n",
    "\n",
    "\n",
    "\n",
    "# test_sample['temp'] = weather_time['기온(°C)']['2018-02-15':'2018-06-30']\n",
    "# test_sample['humidity'] = weather_time['습도(%)']['2018-02-15':'2018-06-30'] \n",
    "# test_sample[['temp','humidity']] = test_sample[['temp','humidity']].interpolate(method='values')  # 온도 결측값을 시간에 따른 보간법으로 채움\n",
    "# test_sample['Day'] = test_sample.index.dayofyear\n",
    "# test_sample['Hour'] = test_sample.index.hour"
   ]
  },
  {
   "cell_type": "code",
   "execution_count": 17,
   "metadata": {},
   "outputs": [],
   "source": [
    "# train_sample.to_csv('train_sample_addFeature')\n",
    "# test_sample.to_csv('test_sample_addFeature')"
   ]
  },
  {
   "cell_type": "markdown",
   "metadata": {},
   "source": [
    "> Input 형식\n",
    "\n",
    ">  (전체세대시간, 24시간, 2 )"
   ]
  },
  {
   "cell_type": "code",
   "execution_count": 18,
   "metadata": {},
   "outputs": [],
   "source": [
    "train_sample = pd.read_csv('train_sample_addFeature',index_col='Time',parse_dates=True)\n",
    "test_sample = pd.read_csv('test_sample_addFeature',index_col='Time',parse_dates=True)"
   ]
  },
  {
   "cell_type": "code",
   "execution_count": 19,
   "metadata": {},
   "outputs": [],
   "source": [
    "train_B_index = train_sample['2018-02-19':].resample('B').sum().index\n",
    "test_B_index = test_sample['2018-02-19':].resample('B').sum().index\n",
    "\n",
    "train_sample = train_sample.resample('D').sum().reindex(train_B_index)\n",
    "test_sample = test_sample.resample('D').sum().reindex(test_B_index)"
   ]
  },
  {
   "cell_type": "code",
   "execution_count": 20,
   "metadata": {},
   "outputs": [],
   "source": [
    "from sklearn.preprocessing import MinMaxScaler\n",
    "\n",
    "sc_train = MinMaxScaler() # trainSet scaler\n",
    "sc_test = MinMaxScaler() # testSet scaler\n",
    "sc_temp = MinMaxScaler() # temp scaler\n",
    "sc_humidity = MinMaxScaler() # temp scaler\n",
    "\n",
    "\n",
    "train_sample_sc = sc_train.fit_transform(train_sample.iloc[:,:-4])\n",
    "test_sample_sc = sc_test.fit_transform(test_sample.iloc[:,:-4])\n",
    "temp_sc = sc_temp.fit_transform(train_sample[['temp']])\n",
    "humidity_sc = sc_humidity.fit_transform(train_sample[['humidity']])\n",
    "\n",
    "\n",
    "train_sample_sc = np.concatenate((train_sample_sc, temp_sc), axis=1)\n",
    "train_sample_sc = np.concatenate((train_sample_sc, humidity_sc), axis=1)\n",
    "\n",
    "\n",
    "\n",
    "\n",
    "test_sample_sc = np.concatenate((test_sample_sc, temp_sc), axis=1)\n",
    "test_sample_sc = np.concatenate((test_sample_sc, humidity_sc), axis=1)"
   ]
  },
  {
   "cell_type": "code",
   "execution_count": 21,
   "metadata": {},
   "outputs": [],
   "source": [
    "train_sample = pd.DataFrame(train_sample_sc, columns=train_sample.columns[:-2],index=train_sample.index)\n",
    "test_sample = pd.DataFrame(test_sample_sc, columns=test_sample.columns[:-2],index=test_sample.index)"
   ]
  },
  {
   "cell_type": "code",
   "execution_count": 22,
   "metadata": {},
   "outputs": [],
   "source": [
    "shift_step = 5\n",
    "feature_len = 3"
   ]
  },
  {
   "cell_type": "code",
   "execution_count": 23,
   "metadata": {
    "scrolled": true
   },
   "outputs": [],
   "source": [
    "tmp_list = [] \n",
    "for i in train_sample.columns[:-2]:\n",
    "    tmp_list.append(train_sample[[i,'temp','humidity']].values[:-shift_step].reshape(18,5,3)) \n",
    "\n",
    "to_formatted_x = np.array(tmp_list)"
   ]
  },
  {
   "cell_type": "code",
   "execution_count": 24,
   "metadata": {},
   "outputs": [
    {
     "data": {
      "text/plain": [
       "(22536, 5, 3)"
      ]
     },
     "execution_count": 24,
     "metadata": {},
     "output_type": "execute_result"
    }
   ],
   "source": [
    "res_x = to_formatted_x.reshape(to_formatted_x.shape[0]*to_formatted_x.shape[1],shift_step,feature_len)\n",
    "\n",
    "res_x.shape"
   ]
  },
  {
   "cell_type": "code",
   "execution_count": 25,
   "metadata": {},
   "outputs": [],
   "source": [
    "for_shifting_y = train_sample.shift(-shift_step)\n",
    "# for_shifting_y=for_shifting_y.dropna()\n",
    "\n",
    "tmp_shift_list = []\n",
    "for i in train_sample.columns[:-2]:\n",
    "    tmp_shift_list.append(for_shifting_y[i].values[:-shift_step].reshape(18,5,1))\n",
    "\n",
    "to_formatted_y = np.array(tmp_shift_list)"
   ]
  },
  {
   "cell_type": "code",
   "execution_count": 26,
   "metadata": {},
   "outputs": [
    {
     "data": {
      "text/plain": [
       "(22536, 5, 1)"
      ]
     },
     "execution_count": 26,
     "metadata": {},
     "output_type": "execute_result"
    }
   ],
   "source": [
    "res_y = to_formatted_y.reshape(to_formatted_x.shape[0]*to_formatted_x.shape[1],shift_step,1)\n",
    "\n",
    "res_y.shape"
   ]
  },
  {
   "cell_type": "code",
   "execution_count": 27,
   "metadata": {},
   "outputs": [],
   "source": [
    "############################################### TEST DATA #############################################################"
   ]
  },
  {
   "cell_type": "code",
   "execution_count": 28,
   "metadata": {},
   "outputs": [],
   "source": [
    "tmp_test_list = [] \n",
    "for i in test_sample.columns[:-2]:\n",
    "    tmp_test_list.append(test_sample[[i,'temp','humidity']].values[:-shift_step].reshape(18,5,3)) \n",
    "\n",
    "to_formatted_test_x = np.array(tmp_test_list)"
   ]
  },
  {
   "cell_type": "code",
   "execution_count": 29,
   "metadata": {},
   "outputs": [
    {
     "data": {
      "text/plain": [
       "(3186, 5, 3)"
      ]
     },
     "execution_count": 29,
     "metadata": {},
     "output_type": "execute_result"
    }
   ],
   "source": [
    "res_test_x = to_formatted_test_x.reshape(to_formatted_test_x.shape[0]*to_formatted_test_x.shape[1],shift_step,feature_len)\n",
    "\n",
    "res_test_x.shape"
   ]
  },
  {
   "cell_type": "code",
   "execution_count": 30,
   "metadata": {},
   "outputs": [],
   "source": [
    "for_shifting_y = test_sample.shift(-shift_step)\n",
    "\n",
    "tmp_test_shift_list = []\n",
    "for i in test_sample.columns[:-2]:\n",
    "    tmp_test_shift_list.append(for_shifting_y[i].values[:-shift_step].reshape(18,5,1))\n",
    "\n",
    "to_formatted_test_y = np.array(tmp_test_shift_list)"
   ]
  },
  {
   "cell_type": "code",
   "execution_count": 31,
   "metadata": {},
   "outputs": [],
   "source": [
    "# to_formatted_test_y.shape"
   ]
  },
  {
   "cell_type": "code",
   "execution_count": 32,
   "metadata": {},
   "outputs": [
    {
     "data": {
      "text/plain": [
       "(3186, 5, 1)"
      ]
     },
     "execution_count": 32,
     "metadata": {},
     "output_type": "execute_result"
    }
   ],
   "source": [
    "res_test_y = to_formatted_test_y.reshape(to_formatted_test_x.shape[0]*to_formatted_test_x.shape[1],5,1)\n",
    "\n",
    "res_test_y.shape"
   ]
  },
  {
   "cell_type": "code",
   "execution_count": 33,
   "metadata": {},
   "outputs": [
    {
     "name": "stderr",
     "output_type": "stream",
     "text": [
      "Using TensorFlow backend.\n"
     ]
    },
    {
     "name": "stdout",
     "output_type": "stream",
     "text": [
      "Model: \"sequential_1\"\n",
      "_________________________________________________________________\n",
      "Layer (type)                 Output Shape              Param #   \n",
      "=================================================================\n",
      "lstm_1 (LSTM)                (None, 5, 64)             17408     \n",
      "_________________________________________________________________\n",
      "time_distributed_1 (TimeDist (None, 5, 1)              65        \n",
      "=================================================================\n",
      "Total params: 17,473\n",
      "Trainable params: 17,473\n",
      "Non-trainable params: 0\n",
      "_________________________________________________________________\n"
     ]
    }
   ],
   "source": [
    "from keras.layers import LSTM \n",
    "from keras.models import Sequential \n",
    "from keras.layers import Dense \n",
    "import keras.backend as K \n",
    "from keras.callbacks import EarlyStopping \n",
    "from keras.layers import TimeDistributed\n",
    "K.clear_session()\n",
    "\n",
    "model = Sequential() # Sequeatial Model \n",
    "model.add(LSTM(64, input_shape=(5, 3),return_sequences=True)) # (timestep, feature)\n",
    "model.add(TimeDistributed(Dense(1, activation=\"linear\")))\n",
    "model.compile(loss='mean_squared_error', optimizer='adam') \n",
    "model.summary()"
   ]
  },
  {
   "cell_type": "code",
   "execution_count": 34,
   "metadata": {
    "scrolled": true
   },
   "outputs": [
    {
     "name": "stdout",
     "output_type": "stream",
     "text": [
      "WARNING:tensorflow:From C:\\Anaconda3\\lib\\site-packages\\keras\\backend\\tensorflow_backend.py:422: The name tf.global_variables is deprecated. Please use tf.compat.v1.global_variables instead.\n",
      "\n",
      "Train on 18028 samples, validate on 4508 samples\n",
      "Epoch 1/100\n",
      "18028/18028 [==============================] - 1s 64us/step - loss: 0.2206 - val_loss: 0.1108\n",
      "Epoch 2/100\n",
      "18028/18028 [==============================] - 1s 39us/step - loss: 0.1030 - val_loss: 0.0891\n",
      "Epoch 3/100\n",
      "18028/18028 [==============================] - 1s 38us/step - loss: 0.0815 - val_loss: 0.0753\n",
      "Epoch 4/100\n",
      "18028/18028 [==============================] - 1s 38us/step - loss: 0.0684 - val_loss: 0.0631\n",
      "Epoch 5/100\n",
      "18028/18028 [==============================] - 1s 39us/step - loss: 0.0579 - val_loss: 0.0537\n",
      "Epoch 6/100\n",
      "18028/18028 [==============================] - 1s 37us/step - loss: 0.0496 - val_loss: 0.0466\n",
      "Epoch 7/100\n",
      "18028/18028 [==============================] - 1s 37us/step - loss: 0.0443 - val_loss: 0.0428\n",
      "Epoch 8/100\n",
      "18028/18028 [==============================] - 1s 38us/step - loss: 0.0414 - val_loss: 0.0404\n",
      "Epoch 9/100\n",
      "18028/18028 [==============================] - 1s 39us/step - loss: 0.0394 - val_loss: 0.0385\n",
      "Epoch 10/100\n",
      "18028/18028 [==============================] - 1s 38us/step - loss: 0.0378 - val_loss: 0.0370\n",
      "Epoch 11/100\n",
      "18028/18028 [==============================] - 1s 38us/step - loss: 0.0365 - val_loss: 0.0356\n",
      "Epoch 12/100\n",
      "18028/18028 [==============================] - 1s 38us/step - loss: 0.0354 - val_loss: 0.0346\n",
      "Epoch 13/100\n",
      "18028/18028 [==============================] - 1s 38us/step - loss: 0.0345 - val_loss: 0.0337\n",
      "Epoch 14/100\n",
      "18028/18028 [==============================] - 1s 38us/step - loss: 0.0339 - val_loss: 0.0331\n",
      "Epoch 15/100\n",
      "18028/18028 [==============================] - 1s 38us/step - loss: 0.0334 - val_loss: 0.0327\n",
      "Epoch 16/100\n",
      "18028/18028 [==============================] - 1s 38us/step - loss: 0.0331 - val_loss: 0.0324\n",
      "Epoch 17/100\n",
      "18028/18028 [==============================] - 1s 37us/step - loss: 0.0329 - val_loss: 0.0322\n",
      "Epoch 18/100\n",
      "18028/18028 [==============================] - 1s 38us/step - loss: 0.0327 - val_loss: 0.0320\n",
      "Epoch 19/100\n",
      "18028/18028 [==============================] - 1s 38us/step - loss: 0.0325 - val_loss: 0.0318\n",
      "Epoch 20/100\n",
      "18028/18028 [==============================] - 1s 38us/step - loss: 0.0324 - val_loss: 0.0317\n",
      "Epoch 21/100\n",
      "18028/18028 [==============================] - 1s 37us/step - loss: 0.0322 - val_loss: 0.0315\n",
      "Epoch 22/100\n",
      "18028/18028 [==============================] - 1s 38us/step - loss: 0.0321 - val_loss: 0.0314\n",
      "Epoch 23/100\n",
      "18028/18028 [==============================] - 1s 38us/step - loss: 0.0319 - val_loss: 0.0313\n",
      "Epoch 24/100\n",
      "18028/18028 [==============================] - 1s 39us/step - loss: 0.0318 - val_loss: 0.0312\n",
      "Epoch 25/100\n",
      "18028/18028 [==============================] - 1s 39us/step - loss: 0.0317 - val_loss: 0.0310\n",
      "Epoch 26/100\n",
      "18028/18028 [==============================] - 1s 38us/step - loss: 0.0316 - val_loss: 0.0309\n",
      "Epoch 27/100\n",
      "18028/18028 [==============================] - 1s 38us/step - loss: 0.0315 - val_loss: 0.0309\n",
      "Epoch 28/100\n",
      "18028/18028 [==============================] - 1s 37us/step - loss: 0.0314 - val_loss: 0.0307\n",
      "Epoch 29/100\n",
      "18028/18028 [==============================] - 1s 37us/step - loss: 0.0313 - val_loss: 0.0307\n",
      "Epoch 30/100\n",
      "18028/18028 [==============================] - 1s 38us/step - loss: 0.0312 - val_loss: 0.0305\n",
      "Epoch 31/100\n",
      "18028/18028 [==============================] - 1s 38us/step - loss: 0.0311 - val_loss: 0.0305\n",
      "Epoch 32/100\n",
      "18028/18028 [==============================] - 1s 38us/step - loss: 0.0310 - val_loss: 0.0304\n",
      "Epoch 33/100\n",
      "18028/18028 [==============================] - 1s 38us/step - loss: 0.0309 - val_loss: 0.0303\n",
      "Epoch 34/100\n",
      "18028/18028 [==============================] - 1s 38us/step - loss: 0.0308 - val_loss: 0.0302\n",
      "Epoch 35/100\n",
      "18028/18028 [==============================] - 1s 38us/step - loss: 0.0307 - val_loss: 0.0302\n",
      "Epoch 36/100\n",
      "18028/18028 [==============================] - 1s 39us/step - loss: 0.0307 - val_loss: 0.0300\n",
      "Epoch 37/100\n",
      "18028/18028 [==============================] - 1s 38us/step - loss: 0.0306 - val_loss: 0.0300\n",
      "Epoch 38/100\n",
      "18028/18028 [==============================] - 1s 40us/step - loss: 0.0305 - val_loss: 0.0300\n",
      "Epoch 39/100\n",
      "18028/18028 [==============================] - 1s 39us/step - loss: 0.0305 - val_loss: 0.0298\n",
      "Epoch 40/100\n",
      "18028/18028 [==============================] - 1s 39us/step - loss: 0.0304 - val_loss: 0.0300\n",
      "Epoch 41/100\n",
      "18028/18028 [==============================] - 1s 38us/step - loss: 0.0304 - val_loss: 0.0297\n",
      "Epoch 42/100\n",
      "18028/18028 [==============================] - 1s 38us/step - loss: 0.0303 - val_loss: 0.0297\n",
      "Epoch 43/100\n",
      "18028/18028 [==============================] - 1s 38us/step - loss: 0.0302 - val_loss: 0.0296\n",
      "Epoch 44/100\n",
      "18028/18028 [==============================] - 1s 37us/step - loss: 0.0302 - val_loss: 0.0295\n",
      "Epoch 45/100\n",
      "18028/18028 [==============================] - 1s 38us/step - loss: 0.0301 - val_loss: 0.0294\n",
      "Epoch 46/100\n",
      "18028/18028 [==============================] - 1s 38us/step - loss: 0.0301 - val_loss: 0.0295\n",
      "Epoch 47/100\n",
      "18028/18028 [==============================] - 1s 38us/step - loss: 0.0300 - val_loss: 0.0293\n",
      "Epoch 48/100\n",
      "18028/18028 [==============================] - 1s 38us/step - loss: 0.0299 - val_loss: 0.0294\n",
      "Epoch 49/100\n",
      "18028/18028 [==============================] - 1s 39us/step - loss: 0.0299 - val_loss: 0.0292\n",
      "Epoch 50/100\n",
      "18028/18028 [==============================] - 1s 38us/step - loss: 0.0298 - val_loss: 0.0291\n",
      "Epoch 51/100\n",
      "18028/18028 [==============================] - 1s 38us/step - loss: 0.0298 - val_loss: 0.0291\n",
      "Epoch 52/100\n",
      "18028/18028 [==============================] - 1s 38us/step - loss: 0.0297 - val_loss: 0.0290\n",
      "Epoch 53/100\n",
      "18028/18028 [==============================] - 1s 37us/step - loss: 0.0297 - val_loss: 0.0291\n",
      "Epoch 54/100\n",
      "18028/18028 [==============================] - 1s 39us/step - loss: 0.0297 - val_loss: 0.0289\n",
      "Epoch 55/100\n",
      "18028/18028 [==============================] - 1s 38us/step - loss: 0.0295 - val_loss: 0.0289\n",
      "Epoch 56/100\n",
      "18028/18028 [==============================] - 1s 38us/step - loss: 0.0295 - val_loss: 0.0288\n",
      "Epoch 57/100\n",
      "18028/18028 [==============================] - 1s 39us/step - loss: 0.0295 - val_loss: 0.0287\n",
      "Epoch 58/100\n",
      "18028/18028 [==============================] - 1s 40us/step - loss: 0.0294 - val_loss: 0.0286\n",
      "Epoch 59/100\n",
      "18028/18028 [==============================] - 1s 39us/step - loss: 0.0293 - val_loss: 0.0286\n",
      "Epoch 60/100\n",
      "18028/18028 [==============================] - 1s 38us/step - loss: 0.0293 - val_loss: 0.0285\n",
      "Epoch 61/100\n",
      "18028/18028 [==============================] - 1s 39us/step - loss: 0.0293 - val_loss: 0.0285\n",
      "Epoch 62/100\n",
      "18028/18028 [==============================] - 1s 38us/step - loss: 0.0292 - val_loss: 0.0284\n",
      "Epoch 63/100\n",
      "18028/18028 [==============================] - 1s 39us/step - loss: 0.0292 - val_loss: 0.0284\n",
      "Epoch 64/100\n",
      "18028/18028 [==============================] - 1s 39us/step - loss: 0.0291 - val_loss: 0.0283\n",
      "Epoch 65/100\n",
      "18028/18028 [==============================] - 1s 38us/step - loss: 0.0291 - val_loss: 0.0283\n",
      "Epoch 66/100\n",
      "18028/18028 [==============================] - 1s 38us/step - loss: 0.0290 - val_loss: 0.0283\n",
      "Epoch 67/100\n",
      "18028/18028 [==============================] - 1s 39us/step - loss: 0.0290 - val_loss: 0.0282\n",
      "Epoch 68/100\n",
      "18028/18028 [==============================] - 1s 38us/step - loss: 0.0289 - val_loss: 0.0283\n",
      "Epoch 69/100\n",
      "18028/18028 [==============================] - 1s 38us/step - loss: 0.0289 - val_loss: 0.0281\n",
      "Epoch 70/100\n",
      "18028/18028 [==============================] - 1s 38us/step - loss: 0.0288 - val_loss: 0.0281\n",
      "Epoch 71/100\n",
      "18028/18028 [==============================] - 1s 38us/step - loss: 0.0288 - val_loss: 0.0281\n",
      "Epoch 72/100\n",
      "18028/18028 [==============================] - 1s 39us/step - loss: 0.0287 - val_loss: 0.0279\n",
      "Epoch 73/100\n",
      "18028/18028 [==============================] - 1s 39us/step - loss: 0.0287 - val_loss: 0.0280\n",
      "Epoch 74/100\n",
      "18028/18028 [==============================] - 1s 38us/step - loss: 0.0286 - val_loss: 0.0279\n",
      "Epoch 75/100\n"
     ]
    },
    {
     "name": "stdout",
     "output_type": "stream",
     "text": [
      "18028/18028 [==============================] - 1s 38us/step - loss: 0.0286 - val_loss: 0.0278\n",
      "Epoch 76/100\n",
      "18028/18028 [==============================] - 1s 38us/step - loss: 0.0286 - val_loss: 0.0278\n",
      "Epoch 77/100\n",
      "18028/18028 [==============================] - 1s 38us/step - loss: 0.0285 - val_loss: 0.0276\n",
      "Epoch 78/100\n",
      "18028/18028 [==============================] - 1s 38us/step - loss: 0.0284 - val_loss: 0.0276\n",
      "Epoch 79/100\n",
      "18028/18028 [==============================] - 1s 39us/step - loss: 0.0284 - val_loss: 0.0276\n",
      "Epoch 80/100\n",
      "18028/18028 [==============================] - 1s 39us/step - loss: 0.0283 - val_loss: 0.0274\n",
      "Epoch 81/100\n",
      "18028/18028 [==============================] - 1s 39us/step - loss: 0.0282 - val_loss: 0.0274\n",
      "Epoch 82/100\n",
      "18028/18028 [==============================] - 1s 38us/step - loss: 0.0282 - val_loss: 0.0274\n",
      "Epoch 83/100\n",
      "18028/18028 [==============================] - 1s 38us/step - loss: 0.0281 - val_loss: 0.0273\n",
      "Epoch 84/100\n",
      "18028/18028 [==============================] - 1s 37us/step - loss: 0.0280 - val_loss: 0.0273\n",
      "Epoch 85/100\n",
      "18028/18028 [==============================] - 1s 38us/step - loss: 0.0280 - val_loss: 0.0272\n",
      "Epoch 86/100\n",
      "18028/18028 [==============================] - 1s 38us/step - loss: 0.0279 - val_loss: 0.0271\n",
      "Epoch 87/100\n",
      "18028/18028 [==============================] - 1s 38us/step - loss: 0.0278 - val_loss: 0.0270\n",
      "Epoch 88/100\n",
      "18028/18028 [==============================] - 1s 38us/step - loss: 0.0277 - val_loss: 0.0270\n",
      "Epoch 89/100\n",
      "18028/18028 [==============================] - 1s 38us/step - loss: 0.0277 - val_loss: 0.0268\n",
      "Epoch 90/100\n",
      "18028/18028 [==============================] - 1s 39us/step - loss: 0.0276 - val_loss: 0.0267\n",
      "Epoch 91/100\n",
      "18028/18028 [==============================] - 1s 38us/step - loss: 0.0275 - val_loss: 0.0266\n",
      "Epoch 92/100\n",
      "18028/18028 [==============================] - 1s 38us/step - loss: 0.0274 - val_loss: 0.0266\n",
      "Epoch 93/100\n",
      "18028/18028 [==============================] - 1s 40us/step - loss: 0.0273 - val_loss: 0.0265\n",
      "Epoch 94/100\n",
      "18028/18028 [==============================] - 1s 41us/step - loss: 0.0272 - val_loss: 0.0266\n",
      "Epoch 95/100\n",
      "18028/18028 [==============================] - 1s 40us/step - loss: 0.0271 - val_loss: 0.0263\n",
      "Epoch 96/100\n",
      "18028/18028 [==============================] - 1s 40us/step - loss: 0.0271 - val_loss: 0.0263\n",
      "Epoch 97/100\n",
      "18028/18028 [==============================] - 1s 40us/step - loss: 0.0270 - val_loss: 0.0262\n",
      "Epoch 98/100\n",
      "18028/18028 [==============================] - 1s 40us/step - loss: 0.0269 - val_loss: 0.0262\n",
      "Epoch 99/100\n",
      "18028/18028 [==============================] - 1s 40us/step - loss: 0.0269 - val_loss: 0.0261\n",
      "Epoch 100/100\n",
      "18028/18028 [==============================] - 1s 40us/step - loss: 0.0268 - val_loss: 0.0263\n"
     ]
    }
   ],
   "source": [
    "# 모델 학습\n",
    "early_stop = EarlyStopping(monitor='loss',patience=4, verbose=1)\n",
    "\n",
    "history = model.fit(res_x,res_y,epochs=100,batch_size=1024,verbose=1,validation_split=0.2,shuffle=True,callbacks=[early_stop])"
   ]
  },
  {
   "cell_type": "code",
   "execution_count": 35,
   "metadata": {},
   "outputs": [
    {
     "data": {
      "image/png": "[encoded data removed]",
      "text/plain": [
       "<Figure size 432x288 with 1 Axes>"
      ]
     },
     "metadata": {
      "needs_background": "light"
     },
     "output_type": "display_data"
    }
   ],
   "source": [
    "history_dict = history.history\n",
    "history_dict.keys()\n",
    "\n",
    "import matplotlib.pyplot as plt\n",
    "%matplotlib inline\n",
    "\n",
    "loss = history.history['loss']\n",
    "val_loss = history.history['val_loss']\n",
    "\n",
    "epochs = range(1, len(loss) + 1)\n",
    "plt.plot(epochs, loss, 'bo', label='Training loss')# ‘bo’는 파란색 점\n",
    "plt.plot(epochs, val_loss, 'b', label='Validation loss')# ‘b’는 파란색 실선\n",
    "plt.title('Training and validation loss')\n",
    "plt.xlabel('Epochs')\n",
    "plt.ylabel('Loss')\n",
    "plt.legend()\n",
    "plt.show()"
   ]
  },
  {
   "cell_type": "code",
   "execution_count": 36,
   "metadata": {},
   "outputs": [],
   "source": [
    "pred = model.predict(res_test_x)"
   ]
  },
  {
   "cell_type": "code",
   "execution_count": 37,
   "metadata": {
    "scrolled": true
   },
   "outputs": [],
   "source": [
    "## to inverse minmax scale\n",
    "\n",
    "col_list = test_sample.columns.insert(0,'임시')\n",
    "tt_index = test_sample[:'2018-06-22'].index # -shfit index\n",
    "\n",
    "test_inverse_df = pd.DataFrame()\n",
    "\n",
    "for i in range(1,len(test_sample.columns)-1):# temp col 제외 # 1부터 시작임\n",
    "    tmp = i*90\n",
    "    tt = pred.reshape(15930,1)[tmp-90:tmp]    \n",
    "    test_inverse_df[col_list[i]] = tt.reshape(90,)\n",
    "    \n",
    "test_inverse_df = test_inverse_df.set_index(tt_index)\n",
    "test_inverse_df_array = sc_test.inverse_transform(test_inverse_df)"
   ]
  },
  {
   "cell_type": "code",
   "execution_count": 38,
   "metadata": {
    "scrolled": true
   },
   "outputs": [],
   "source": [
    "# inverse minmax scale DataFrame \n",
    "\n",
    "res_test_df_B = pd.DataFrame(test_inverse_df_array, columns=test_inverse_df.columns,index=tt_index)"
   ]
  },
  {
   "cell_type": "code",
   "execution_count": 39,
   "metadata": {},
   "outputs": [],
   "source": [
    "# 예측한 결과물 DataFrame\n",
    "# res_test_df"
   ]
  },
  {
   "cell_type": "code",
   "execution_count": 40,
   "metadata": {},
   "outputs": [],
   "source": [
    "# 결과물과 원본 DataFrame 모두 inverse scaling "
   ]
  },
  {
   "cell_type": "code",
   "execution_count": 41,
   "metadata": {},
   "outputs": [],
   "source": [
    "test_none_scale = pd.read_csv('test_sample',index_col='Time',parse_dates=True)"
   ]
  },
  {
   "cell_type": "code",
   "execution_count": 42,
   "metadata": {},
   "outputs": [],
   "source": [
    "# 평일의 index만 추출\n",
    "B_index = test_none_scale['2018-02-19':].loc[:,:'X230'].resample('B').sum().index"
   ]
  },
  {
   "cell_type": "code",
   "execution_count": 43,
   "metadata": {},
   "outputs": [],
   "source": [
    "test_none_scale = test_none_scale.loc[:,:'X230'].resample('D').sum()"
   ]
  },
  {
   "cell_type": "code",
   "execution_count": 44,
   "metadata": {},
   "outputs": [],
   "source": [
    "test_none_scale = test_none_scale.reindex(B_index)"
   ]
  },
  {
   "cell_type": "code",
   "execution_count": 45,
   "metadata": {},
   "outputs": [],
   "source": [
    "test_none_scale_B = test_none_scale.shift(-5).dropna()"
   ]
  },
  {
   "cell_type": "markdown",
   "metadata": {},
   "source": [
    "> 결과 체크"
   ]
  },
  {
   "cell_type": "code",
   "execution_count": 46,
   "metadata": {},
   "outputs": [
    {
     "data": {
      "text/plain": [
       "Index(['X303', 'X241', 'X435', 'X402', 'X352', 'X305', 'X350', 'X326', 'X299',\n",
       "       'X160',\n",
       "       ...\n",
       "       'X192', 'X283', 'X329', 'X223', 'X266', 'X443', 'X347', 'X75', 'X107',\n",
       "       'X230'],\n",
       "      dtype='object', length=177)"
      ]
     },
     "execution_count": 46,
     "metadata": {},
     "output_type": "execute_result"
    }
   ],
   "source": [
    "test_none_scale_B.columns"
   ]
  },
  {
   "cell_type": "code",
   "execution_count": 82,
   "metadata": {},
   "outputs": [
    {
     "data": {
      "text/plain": [
       "<matplotlib.legend.Legend at 0x23fbe17b1c8>"
      ]
     },
     "execution_count": 82,
     "metadata": {},
     "output_type": "execute_result"
    },
    {
     "data": {
      "image/png": "[encoded data removed]",
      "text/plain": [
       "<Figure size 720x576 with 1 Axes>"
      ]
     },
     "metadata": {
      "needs_background": "light"
     },
     "output_type": "display_data"
    }
   ],
   "source": [
    "# 일별 예측(평일만)\n",
    "\n",
    "test_none_scale_B['X241'].plot(figsize=(10,8),color='red',label='관측값')\n",
    "res_test_df_B['X241'].plot(figsize=(10,8),color='blue',label='예측값')\n",
    "plt.legend()"
   ]
  },
  {
   "cell_type": "code",
   "execution_count": 48,
   "metadata": {},
   "outputs": [],
   "source": [
    "##################################### 주말 #################################################################"
   ]
  },
  {
   "cell_type": "code",
   "execution_count": 49,
   "metadata": {},
   "outputs": [],
   "source": [
    "train_sample = pd.read_csv('train_sample_addFeature',index_col='Time',parse_dates=True)\n",
    "test_sample = pd.read_csv('test_sample_addFeature',index_col='Time',parse_dates=True)"
   ]
  },
  {
   "cell_type": "code",
   "execution_count": 50,
   "metadata": {},
   "outputs": [],
   "source": [
    "train_sample = train_sample.resample('D').sum()\n",
    "test_sample = test_sample.resample('D').sum()"
   ]
  },
  {
   "cell_type": "code",
   "execution_count": 51,
   "metadata": {},
   "outputs": [],
   "source": [
    "# 토요일/일요일 \n",
    "\n",
    "a= train_sample['2018-02-17':].index\n",
    "b= train_sample['2018-02-19':].resample('B').sum().index\n",
    "\n",
    "list_a = []\n",
    "for i in range(len(a.values)):\n",
    "    list_a.append(a.values[i])\n",
    "list_b = []\n",
    "for i in range(len(b.values)):\n",
    "    list_b.append(b.values[i])\n",
    "\n",
    "list_tmp = []\n",
    "for i in list_a:\n",
    "    if i not in list_b:\n",
    "        list_tmp.append(i)"
   ]
  },
  {
   "cell_type": "code",
   "execution_count": 52,
   "metadata": {},
   "outputs": [],
   "source": [
    "list_tmp # 토요일/일요일\n",
    "saturday_sunday = np.array(list_tmp) # 툐요일/일요일 index => ndarray"
   ]
  },
  {
   "cell_type": "code",
   "execution_count": 53,
   "metadata": {},
   "outputs": [],
   "source": [
    "a_test= test_sample['2018-02-17':].index\n",
    "b_test= test_sample['2018-02-19':].resample('B').sum().index\n",
    "\n",
    "list_a_test = []\n",
    "for i in range(len(a_test.values)):\n",
    "    list_a_test.append(a_test.values[i])\n",
    "list_b_test = []\n",
    "for i in range(len(b_test.values)):\n",
    "    list_b_test.append(b_test.values[i])\n",
    "\n",
    "list_tmp_test = []\n",
    "for i in list_a_test:\n",
    "    if i not in list_b_test:\n",
    "        list_tmp_test.append(i)"
   ]
  },
  {
   "cell_type": "code",
   "execution_count": 54,
   "metadata": {},
   "outputs": [],
   "source": [
    "train_sample = train_sample.reindex(saturday_sunday) # 토요일/일요일 인덱스로 df 재설정\n",
    "test_sample = test_sample.reindex(saturday_sunday) # 토요일/일요일 인덱스로 df 재설정\n",
    "\n",
    "train_sample = train_sample[:'2018-06-24']\n",
    "test_sample = test_sample[:'2018-06-24']"
   ]
  },
  {
   "cell_type": "code",
   "execution_count": 55,
   "metadata": {},
   "outputs": [],
   "source": [
    "from sklearn.preprocessing import MinMaxScaler\n",
    "\n",
    "sc_train = MinMaxScaler() # trainSet scaler\n",
    "sc_test = MinMaxScaler() # testSet scaler\n",
    "sc_temp = MinMaxScaler() # temp scaler\n",
    "sc_humidity = MinMaxScaler() # temp scaler\n",
    "\n",
    "\n",
    "train_sample_sc = sc_train.fit_transform(train_sample.iloc[:,:-4])\n",
    "test_sample_sc = sc_test.fit_transform(test_sample.iloc[:,:-4])\n",
    "temp_sc = sc_temp.fit_transform(train_sample[['temp']])\n",
    "humidity_sc = sc_humidity.fit_transform(train_sample[['humidity']])\n",
    "\n",
    "\n",
    "train_sample_sc = np.concatenate((train_sample_sc, temp_sc), axis=1)\n",
    "train_sample_sc = np.concatenate((train_sample_sc, humidity_sc), axis=1)\n",
    "\n",
    "\n",
    "\n",
    "\n",
    "test_sample_sc = np.concatenate((test_sample_sc, temp_sc), axis=1)\n",
    "test_sample_sc = np.concatenate((test_sample_sc, humidity_sc), axis=1)"
   ]
  },
  {
   "cell_type": "code",
   "execution_count": 56,
   "metadata": {},
   "outputs": [],
   "source": [
    "train_sample = pd.DataFrame(train_sample_sc, columns=train_sample.columns[:-2],index=train_sample.index)\n",
    "test_sample = pd.DataFrame(test_sample_sc, columns=test_sample.columns[:-2],index=test_sample.index)"
   ]
  },
  {
   "cell_type": "code",
   "execution_count": 57,
   "metadata": {},
   "outputs": [],
   "source": [
    "shift_step = 2\n",
    "feature_len = 3"
   ]
  },
  {
   "cell_type": "code",
   "execution_count": 58,
   "metadata": {},
   "outputs": [],
   "source": [
    "tmp_list = [] \n",
    "for i in train_sample.columns[:-2]:\n",
    "    tmp_list.append(train_sample[[i,'temp','humidity']].values[:-shift_step].reshape(18,2,3)) \n",
    "\n",
    "to_formatted_x = np.array(tmp_list)"
   ]
  },
  {
   "cell_type": "code",
   "execution_count": 59,
   "metadata": {},
   "outputs": [
    {
     "data": {
      "text/plain": [
       "(22536, 2, 3)"
      ]
     },
     "execution_count": 59,
     "metadata": {},
     "output_type": "execute_result"
    }
   ],
   "source": [
    "res_x = to_formatted_x.reshape(to_formatted_x.shape[0]*to_formatted_x.shape[1],shift_step,feature_len)\n",
    "\n",
    "res_x.shape"
   ]
  },
  {
   "cell_type": "code",
   "execution_count": 60,
   "metadata": {},
   "outputs": [],
   "source": [
    "for_shifting_y = train_sample.shift(-shift_step)\n",
    "# for_shifting_y=for_shifting_y.dropna()\n",
    "\n",
    "tmp_shift_list = []\n",
    "for i in train_sample.columns[:-2]:\n",
    "    tmp_shift_list.append(for_shifting_y[i].values[:-shift_step].reshape(18,2,1))\n",
    "\n",
    "to_formatted_y = np.array(tmp_shift_list)"
   ]
  },
  {
   "cell_type": "code",
   "execution_count": 61,
   "metadata": {},
   "outputs": [
    {
     "data": {
      "text/plain": [
       "(22536, 2, 1)"
      ]
     },
     "execution_count": 61,
     "metadata": {},
     "output_type": "execute_result"
    }
   ],
   "source": [
    "res_y = to_formatted_y.reshape(to_formatted_x.shape[0]*to_formatted_x.shape[1],shift_step,1)\n",
    "\n",
    "res_y.shape"
   ]
  },
  {
   "cell_type": "code",
   "execution_count": 62,
   "metadata": {},
   "outputs": [],
   "source": [
    "tmp_test_list = [] \n",
    "for i in test_sample.columns[:-2]:\n",
    "    tmp_test_list.append(test_sample[[i,'temp','humidity']].values[:-shift_step].reshape(18,2,3)) \n",
    "\n",
    "to_formatted_test_x = np.array(tmp_test_list)"
   ]
  },
  {
   "cell_type": "code",
   "execution_count": 63,
   "metadata": {},
   "outputs": [
    {
     "data": {
      "text/plain": [
       "(3186, 2, 3)"
      ]
     },
     "execution_count": 63,
     "metadata": {},
     "output_type": "execute_result"
    }
   ],
   "source": [
    "res_test_x = to_formatted_test_x.reshape(to_formatted_test_x.shape[0]*to_formatted_test_x.shape[1],shift_step,feature_len)\n",
    "\n",
    "res_test_x.shape"
   ]
  },
  {
   "cell_type": "code",
   "execution_count": 64,
   "metadata": {},
   "outputs": [],
   "source": [
    "for_shifting_y = test_sample.shift(-shift_step)\n",
    "\n",
    "tmp_test_shift_list = []\n",
    "for i in test_sample.columns[:-2]:\n",
    "    tmp_test_shift_list.append(for_shifting_y[i].values[:-shift_step].reshape(18,2,1))\n",
    "\n",
    "to_formatted_test_y = np.array(tmp_test_shift_list)"
   ]
  },
  {
   "cell_type": "code",
   "execution_count": 65,
   "metadata": {},
   "outputs": [
    {
     "data": {
      "text/plain": [
       "(3186, 2, 1)"
      ]
     },
     "execution_count": 65,
     "metadata": {},
     "output_type": "execute_result"
    }
   ],
   "source": [
    "res_test_y = to_formatted_test_y.reshape(to_formatted_test_x.shape[0]*to_formatted_test_x.shape[1],shift_step,1)\n",
    "\n",
    "res_test_y.shape"
   ]
  },
  {
   "cell_type": "code",
   "execution_count": 66,
   "metadata": {},
   "outputs": [
    {
     "name": "stdout",
     "output_type": "stream",
     "text": [
      "Model: \"sequential_1\"\n",
      "_________________________________________________________________\n",
      "Layer (type)                 Output Shape              Param #   \n",
      "=================================================================\n",
      "lstm_1 (LSTM)                (None, 2, 128)            67584     \n",
      "_________________________________________________________________\n",
      "time_distributed_1 (TimeDist (None, 2, 1)              129       \n",
      "=================================================================\n",
      "Total params: 67,713\n",
      "Trainable params: 67,713\n",
      "Non-trainable params: 0\n",
      "_________________________________________________________________\n"
     ]
    }
   ],
   "source": [
    "from keras.layers import LSTM \n",
    "from keras.models import Sequential \n",
    "from keras.layers import Dense \n",
    "import keras.backend as K \n",
    "from keras.callbacks import EarlyStopping \n",
    "from keras.layers import TimeDistributed\n",
    "K.clear_session()\n",
    "\n",
    "model = Sequential() # Sequeatial Model \n",
    "model.add(LSTM(128, input_shape=(2, 3),return_sequences=True)) # (timestep, feature)\n",
    "model.add(TimeDistributed(Dense(1, activation=\"linear\")))\n",
    "model.compile(loss='mean_squared_error', optimizer='adam') \n",
    "model.summary()"
   ]
  },
  {
   "cell_type": "code",
   "execution_count": 67,
   "metadata": {},
   "outputs": [
    {
     "name": "stdout",
     "output_type": "stream",
     "text": [
      "Train on 18028 samples, validate on 4508 samples\n",
      "Epoch 1/130\n",
      "18028/18028 [==============================] - 1s 59us/step - loss: 0.1701 - val_loss: 0.1027\n",
      "Epoch 2/130\n",
      "18028/18028 [==============================] - 1s 35us/step - loss: 0.0870 - val_loss: 0.0722\n",
      "Epoch 3/130\n",
      "18028/18028 [==============================] - 1s 37us/step - loss: 0.0656 - val_loss: 0.0606\n",
      "Epoch 4/130\n",
      "18028/18028 [==============================] - 1s 39us/step - loss: 0.0601 - val_loss: 0.0582\n",
      "Epoch 5/130\n",
      "18028/18028 [==============================] - 1s 38us/step - loss: 0.0583 - val_loss: 0.0569\n",
      "Epoch 6/130\n",
      "18028/18028 [==============================] - 1s 39us/step - loss: 0.0573 - val_loss: 0.0563\n",
      "Epoch 7/130\n",
      "18028/18028 [==============================] - 1s 38us/step - loss: 0.0566 - val_loss: 0.0556\n",
      "Epoch 8/130\n",
      "18028/18028 [==============================] - 1s 40us/step - loss: 0.0561 - val_loss: 0.0552\n",
      "Epoch 9/130\n",
      "18028/18028 [==============================] - 1s 39us/step - loss: 0.0557 - val_loss: 0.0551\n",
      "Epoch 10/130\n",
      "18028/18028 [==============================] - 1s 39us/step - loss: 0.0554 - val_loss: 0.0546\n",
      "Epoch 11/130\n",
      "18028/18028 [==============================] - 1s 38us/step - loss: 0.0551 - val_loss: 0.0544\n",
      "Epoch 12/130\n",
      "18028/18028 [==============================] - 1s 38us/step - loss: 0.0549 - val_loss: 0.0544\n",
      "Epoch 13/130\n",
      "18028/18028 [==============================] - 1s 38us/step - loss: 0.0547 - val_loss: 0.0540\n",
      "Epoch 14/130\n",
      "18028/18028 [==============================] - 1s 41us/step - loss: 0.0546 - val_loss: 0.0539\n",
      "Epoch 15/130\n",
      "18028/18028 [==============================] - 1s 43us/step - loss: 0.0543 - val_loss: 0.0537\n",
      "Epoch 16/130\n",
      "18028/18028 [==============================] - 1s 40us/step - loss: 0.0542 - val_loss: 0.0536\n",
      "Epoch 17/130\n",
      "18028/18028 [==============================] - 1s 40us/step - loss: 0.0540 - val_loss: 0.0533\n",
      "Epoch 18/130\n",
      "18028/18028 [==============================] - 1s 39us/step - loss: 0.0538 - val_loss: 0.0534\n",
      "Epoch 19/130\n",
      "18028/18028 [==============================] - 1s 39us/step - loss: 0.0536 - val_loss: 0.0531\n",
      "Epoch 20/130\n",
      "18028/18028 [==============================] - 1s 38us/step - loss: 0.0534 - val_loss: 0.0533\n",
      "Epoch 21/130\n",
      "18028/18028 [==============================] - 1s 38us/step - loss: 0.0532 - val_loss: 0.0527\n",
      "Epoch 22/130\n",
      "18028/18028 [==============================] - 1s 39us/step - loss: 0.0529 - val_loss: 0.0522\n",
      "Epoch 23/130\n",
      "18028/18028 [==============================] - 1s 38us/step - loss: 0.0526 - val_loss: 0.0523\n",
      "Epoch 24/130\n",
      "18028/18028 [==============================] - 1s 38us/step - loss: 0.0522 - val_loss: 0.0516\n",
      "Epoch 25/130\n",
      "18028/18028 [==============================] - 1s 38us/step - loss: 0.0518 - val_loss: 0.0510\n",
      "Epoch 26/130\n",
      "18028/18028 [==============================] - 1s 39us/step - loss: 0.0514 - val_loss: 0.0506\n",
      "Epoch 27/130\n",
      "18028/18028 [==============================] - 1s 38us/step - loss: 0.0510 - val_loss: 0.0504\n",
      "Epoch 28/130\n",
      "18028/18028 [==============================] - 1s 38us/step - loss: 0.0506 - val_loss: 0.0500\n",
      "Epoch 29/130\n",
      "18028/18028 [==============================] - 1s 39us/step - loss: 0.0504 - val_loss: 0.0498\n",
      "Epoch 30/130\n",
      "18028/18028 [==============================] - 1s 42us/step - loss: 0.0503 - val_loss: 0.0500\n",
      "Epoch 31/130\n",
      "18028/18028 [==============================] - 1s 39us/step - loss: 0.0502 - val_loss: 0.0500\n",
      "Epoch 32/130\n",
      "18028/18028 [==============================] - 1s 40us/step - loss: 0.0501 - val_loss: 0.0496\n",
      "Epoch 33/130\n",
      "18028/18028 [==============================] - 1s 39us/step - loss: 0.0501 - val_loss: 0.0496\n",
      "Epoch 34/130\n",
      "18028/18028 [==============================] - 1s 39us/step - loss: 0.0502 - val_loss: 0.0497\n",
      "Epoch 35/130\n",
      "18028/18028 [==============================] - 1s 40us/step - loss: 0.0501 - val_loss: 0.0495\n",
      "Epoch 36/130\n",
      "18028/18028 [==============================] - 1s 39us/step - loss: 0.0500 - val_loss: 0.0498\n",
      "Epoch 37/130\n",
      "18028/18028 [==============================] - 1s 39us/step - loss: 0.0500 - val_loss: 0.0494\n",
      "Epoch 38/130\n",
      "18028/18028 [==============================] - 1s 38us/step - loss: 0.0500 - val_loss: 0.0495\n",
      "Epoch 39/130\n",
      "18028/18028 [==============================] - 1s 39us/step - loss: 0.0499 - val_loss: 0.0495\n",
      "Epoch 40/130\n",
      "18028/18028 [==============================] - 1s 39us/step - loss: 0.0499 - val_loss: 0.0493\n",
      "Epoch 41/130\n",
      "18028/18028 [==============================] - 1s 44us/step - loss: 0.0499 - val_loss: 0.0493\n",
      "Epoch 42/130\n",
      "18028/18028 [==============================] - 1s 41us/step - loss: 0.0497 - val_loss: 0.0493\n",
      "Epoch 43/130\n",
      "18028/18028 [==============================] - 1s 45us/step - loss: 0.0497 - val_loss: 0.0492\n",
      "Epoch 44/130\n",
      "18028/18028 [==============================] - 1s 40us/step - loss: 0.0497 - val_loss: 0.0491\n",
      "Epoch 45/130\n",
      "18028/18028 [==============================] - 1s 40us/step - loss: 0.0497 - val_loss: 0.0490\n",
      "Epoch 46/130\n",
      "18028/18028 [==============================] - 1s 40us/step - loss: 0.0495 - val_loss: 0.0492\n",
      "Epoch 47/130\n",
      "18028/18028 [==============================] - 1s 41us/step - loss: 0.0495 - val_loss: 0.0491\n",
      "Epoch 48/130\n",
      "18028/18028 [==============================] - 1s 40us/step - loss: 0.0496 - val_loss: 0.0490\n",
      "Epoch 49/130\n",
      "18028/18028 [==============================] - 1s 40us/step - loss: 0.0494 - val_loss: 0.0490\n",
      "Epoch 50/130\n",
      "18028/18028 [==============================] - 1s 40us/step - loss: 0.0494 - val_loss: 0.0491\n",
      "Epoch 51/130\n",
      "18028/18028 [==============================] - 1s 40us/step - loss: 0.0494 - val_loss: 0.0491\n",
      "Epoch 52/130\n",
      "18028/18028 [==============================] - 1s 41us/step - loss: 0.0493 - val_loss: 0.0489\n",
      "Epoch 53/130\n",
      "18028/18028 [==============================] - 1s 41us/step - loss: 0.0492 - val_loss: 0.0488\n",
      "Epoch 54/130\n",
      "18028/18028 [==============================] - 1s 41us/step - loss: 0.0492 - val_loss: 0.0488\n",
      "Epoch 55/130\n",
      "18028/18028 [==============================] - 1s 40us/step - loss: 0.0491 - val_loss: 0.0486\n",
      "Epoch 56/130\n",
      "18028/18028 [==============================] - 1s 41us/step - loss: 0.0491 - val_loss: 0.0489\n",
      "Epoch 57/130\n",
      "18028/18028 [==============================] - 1s 40us/step - loss: 0.0490 - val_loss: 0.0484\n",
      "Epoch 58/130\n",
      "18028/18028 [==============================] - 1s 39us/step - loss: 0.0490 - val_loss: 0.0484\n",
      "Epoch 59/130\n",
      "18028/18028 [==============================] - 1s 40us/step - loss: 0.0490 - val_loss: 0.0483\n",
      "Epoch 60/130\n",
      "18028/18028 [==============================] - ETA: 0s - loss: 0.048 - 1s 45us/step - loss: 0.0488 - val_loss: 0.0485\n",
      "Epoch 61/130\n",
      "18028/18028 [==============================] - 1s 44us/step - loss: 0.0488 - val_loss: 0.0482\n",
      "Epoch 62/130\n",
      "18028/18028 [==============================] - 1s 41us/step - loss: 0.0487 - val_loss: 0.0481\n",
      "Epoch 63/130\n",
      "18028/18028 [==============================] - 1s 40us/step - loss: 0.0486 - val_loss: 0.0482\n",
      "Epoch 64/130\n",
      "18028/18028 [==============================] - 1s 40us/step - loss: 0.0485 - val_loss: 0.0480\n",
      "Epoch 65/130\n",
      "18028/18028 [==============================] - 1s 36us/step - loss: 0.0484 - val_loss: 0.0481\n",
      "Epoch 66/130\n",
      "18028/18028 [==============================] - 1s 35us/step - loss: 0.0485 - val_loss: 0.0477\n",
      "Epoch 67/130\n",
      "18028/18028 [==============================] - 1s 36us/step - loss: 0.0483 - val_loss: 0.0476\n",
      "Epoch 68/130\n",
      "18028/18028 [==============================] - 1s 35us/step - loss: 0.0482 - val_loss: 0.0480\n",
      "Epoch 69/130\n",
      "18028/18028 [==============================] - 1s 36us/step - loss: 0.0481 - val_loss: 0.0475\n",
      "Epoch 70/130\n",
      "18028/18028 [==============================] - 1s 36us/step - loss: 0.0480 - val_loss: 0.0479\n",
      "Epoch 71/130\n",
      "18028/18028 [==============================] - 1s 37us/step - loss: 0.0480 - val_loss: 0.0475\n",
      "Epoch 72/130\n",
      "18028/18028 [==============================] - 1s 36us/step - loss: 0.0477 - val_loss: 0.0477\n",
      "Epoch 73/130\n",
      "18028/18028 [==============================] - 1s 36us/step - loss: 0.0477 - val_loss: 0.0470\n",
      "Epoch 74/130\n",
      "18028/18028 [==============================] - 1s 37us/step - loss: 0.0475 - val_loss: 0.0467\n",
      "Epoch 75/130\n",
      "18028/18028 [==============================] - 1s 36us/step - loss: 0.0473 - val_loss: 0.0464\n",
      "Epoch 76/130\n",
      "18028/18028 [==============================] - 1s 36us/step - loss: 0.0470 - val_loss: 0.0462\n"
     ]
    },
    {
     "name": "stdout",
     "output_type": "stream",
     "text": [
      "Epoch 77/130\n",
      "18028/18028 [==============================] - 1s 36us/step - loss: 0.0468 - val_loss: 0.0464\n",
      "Epoch 78/130\n",
      "18028/18028 [==============================] - 1s 36us/step - loss: 0.0466 - val_loss: 0.0457\n",
      "Epoch 79/130\n",
      "18028/18028 [==============================] - 1s 35us/step - loss: 0.0464 - val_loss: 0.0454\n",
      "Epoch 80/130\n",
      "18028/18028 [==============================] - 1s 35us/step - loss: 0.0461 - val_loss: 0.0456\n",
      "Epoch 81/130\n",
      "18028/18028 [==============================] - 1s 36us/step - loss: 0.0459 - val_loss: 0.0456\n",
      "Epoch 82/130\n",
      "18028/18028 [==============================] - 1s 35us/step - loss: 0.0456 - val_loss: 0.0447\n",
      "Epoch 83/130\n",
      "18028/18028 [==============================] - 1s 38us/step - loss: 0.0453 - val_loss: 0.0443\n",
      "Epoch 84/130\n",
      "18028/18028 [==============================] - 1s 36us/step - loss: 0.0452 - val_loss: 0.0442\n",
      "Epoch 85/130\n",
      "18028/18028 [==============================] - 1s 36us/step - loss: 0.0450 - val_loss: 0.0441\n",
      "Epoch 86/130\n",
      "18028/18028 [==============================] - 1s 37us/step - loss: 0.0450 - val_loss: 0.0441\n",
      "Epoch 87/130\n",
      "18028/18028 [==============================] - 1s 36us/step - loss: 0.0448 - val_loss: 0.0439\n",
      "Epoch 88/130\n",
      "18028/18028 [==============================] - 1s 36us/step - loss: 0.0447 - val_loss: 0.0436\n",
      "Epoch 89/130\n",
      "18028/18028 [==============================] - 1s 37us/step - loss: 0.0446 - val_loss: 0.0436\n",
      "Epoch 90/130\n",
      "18028/18028 [==============================] - 1s 36us/step - loss: 0.0446 - val_loss: 0.0436\n",
      "Epoch 91/130\n",
      "18028/18028 [==============================] - 1s 35us/step - loss: 0.0444 - val_loss: 0.0434\n",
      "Epoch 92/130\n",
      "18028/18028 [==============================] - 1s 35us/step - loss: 0.0446 - val_loss: 0.0436\n",
      "Epoch 93/130\n",
      "18028/18028 [==============================] - 1s 36us/step - loss: 0.0445 - val_loss: 0.0433\n",
      "Epoch 94/130\n",
      "18028/18028 [==============================] - 1s 35us/step - loss: 0.0443 - val_loss: 0.0433\n",
      "Epoch 95/130\n",
      "18028/18028 [==============================] - 1s 35us/step - loss: 0.0442 - val_loss: 0.0433\n",
      "Epoch 96/130\n",
      "18028/18028 [==============================] - 1s 35us/step - loss: 0.0441 - val_loss: 0.0436\n",
      "Epoch 97/130\n",
      "18028/18028 [==============================] - 1s 35us/step - loss: 0.0443 - val_loss: 0.0431\n",
      "Epoch 98/130\n",
      "18028/18028 [==============================] - 1s 35us/step - loss: 0.0440 - val_loss: 0.0431\n",
      "Epoch 99/130\n",
      "18028/18028 [==============================] - 1s 35us/step - loss: 0.0439 - val_loss: 0.0430\n",
      "Epoch 100/130\n",
      "18028/18028 [==============================] - 1s 34us/step - loss: 0.0439 - val_loss: 0.0428\n",
      "Epoch 101/130\n",
      "18028/18028 [==============================] - 1s 35us/step - loss: 0.0439 - val_loss: 0.0429\n",
      "Epoch 102/130\n",
      "18028/18028 [==============================] - 1s 35us/step - loss: 0.0438 - val_loss: 0.0427\n",
      "Epoch 103/130\n",
      "18028/18028 [==============================] - 1s 35us/step - loss: 0.0437 - val_loss: 0.0426\n",
      "Epoch 104/130\n",
      "18028/18028 [==============================] - 1s 34us/step - loss: 0.0437 - val_loss: 0.0428\n",
      "Epoch 105/130\n",
      "18028/18028 [==============================] - 1s 36us/step - loss: 0.0436 - val_loss: 0.0425\n",
      "Epoch 106/130\n",
      "18028/18028 [==============================] - 1s 35us/step - loss: 0.0436 - val_loss: 0.0426\n",
      "Epoch 107/130\n",
      "18028/18028 [==============================] - 1s 35us/step - loss: 0.0436 - val_loss: 0.0426\n",
      "Epoch 108/130\n",
      "18028/18028 [==============================] - 1s 35us/step - loss: 0.0436 - val_loss: 0.0424\n",
      "Epoch 109/130\n",
      "18028/18028 [==============================] - 1s 35us/step - loss: 0.0435 - val_loss: 0.0425\n",
      "Epoch 110/130\n",
      "18028/18028 [==============================] - 1s 35us/step - loss: 0.0434 - val_loss: 0.0422\n",
      "Epoch 111/130\n",
      "18028/18028 [==============================] - 1s 36us/step - loss: 0.0434 - val_loss: 0.0422\n",
      "Epoch 112/130\n",
      "18028/18028 [==============================] - 1s 36us/step - loss: 0.0434 - val_loss: 0.0424\n",
      "Epoch 113/130\n",
      "18028/18028 [==============================] - 1s 35us/step - loss: 0.0433 - val_loss: 0.0422\n",
      "Epoch 114/130\n",
      "18028/18028 [==============================] - 1s 35us/step - loss: 0.0432 - val_loss: 0.0424\n",
      "Epoch 115/130\n",
      "18028/18028 [==============================] - 1s 35us/step - loss: 0.0433 - val_loss: 0.0421\n",
      "Epoch 116/130\n",
      "18028/18028 [==============================] - 1s 36us/step - loss: 0.0431 - val_loss: 0.0421\n",
      "Epoch 117/130\n",
      "18028/18028 [==============================] - 1s 36us/step - loss: 0.0431 - val_loss: 0.0419\n",
      "Epoch 118/130\n",
      "18028/18028 [==============================] - 1s 36us/step - loss: 0.0432 - val_loss: 0.0420\n",
      "Epoch 119/130\n",
      "18028/18028 [==============================] - 1s 36us/step - loss: 0.0432 - val_loss: 0.0418\n",
      "Epoch 120/130\n",
      "18028/18028 [==============================] - 1s 36us/step - loss: 0.0431 - val_loss: 0.0420\n",
      "Epoch 121/130\n",
      "18028/18028 [==============================] - 1s 36us/step - loss: 0.0430 - val_loss: 0.0420\n",
      "Epoch 122/130\n",
      "18028/18028 [==============================] - 1s 37us/step - loss: 0.0431 - val_loss: 0.0424\n",
      "Epoch 123/130\n",
      "18028/18028 [==============================] - 1s 37us/step - loss: 0.0431 - val_loss: 0.0421\n",
      "Epoch 124/130\n",
      "18028/18028 [==============================] - 1s 35us/step - loss: 0.0432 - val_loss: 0.0419\n",
      "Epoch 125/130\n",
      "18028/18028 [==============================] - 1s 36us/step - loss: 0.0429 - val_loss: 0.0418\n",
      "Epoch 126/130\n",
      "18028/18028 [==============================] - 1s 36us/step - loss: 0.0429 - val_loss: 0.0420\n",
      "Epoch 127/130\n",
      "18028/18028 [==============================] - 1s 36us/step - loss: 0.0431 - val_loss: 0.0420\n",
      "Epoch 128/130\n",
      "18028/18028 [==============================] - 1s 36us/step - loss: 0.0429 - val_loss: 0.0423\n",
      "Epoch 129/130\n",
      "18028/18028 [==============================] - 1s 36us/step - loss: 0.0430 - val_loss: 0.0418\n",
      "Epoch 130/130\n",
      "18028/18028 [==============================] - 1s 35us/step - loss: 0.0429 - val_loss: 0.0417\n"
     ]
    }
   ],
   "source": [
    "# 모델 학습\n",
    "early_stop = EarlyStopping(monitor='loss',patience=4, verbose=1)\n",
    "\n",
    "history = model.fit(res_x,res_y,epochs=130,batch_size=512,verbose=1,validation_split=0.2,shuffle=True,callbacks=[early_stop])"
   ]
  },
  {
   "cell_type": "code",
   "execution_count": 68,
   "metadata": {},
   "outputs": [
    {
     "data": {
      "image/png": "[encoded data removed]",
      "text/plain": [
       "<Figure size 432x288 with 1 Axes>"
      ]
     },
     "metadata": {
      "needs_background": "light"
     },
     "output_type": "display_data"
    }
   ],
   "source": [
    "history_dict = history.history\n",
    "history_dict.keys()\n",
    "\n",
    "import matplotlib.pyplot as plt\n",
    "%matplotlib inline\n",
    "\n",
    "loss = history.history['loss']\n",
    "val_loss = history.history['val_loss']\n",
    "\n",
    "epochs = range(1, len(loss) + 1)\n",
    "plt.plot(epochs, loss, 'bo', label='Training loss')# ‘bo’는 파란색 점\n",
    "plt.plot(epochs, val_loss, 'b', label='Validation loss')# ‘b’는 파란색 실선\n",
    "plt.title('Training and validation loss')\n",
    "plt.xlabel('Epochs')\n",
    "plt.ylabel('Loss')\n",
    "plt.legend()\n",
    "plt.show()"
   ]
  },
  {
   "cell_type": "code",
   "execution_count": 69,
   "metadata": {},
   "outputs": [],
   "source": [
    "pred = model.predict(res_test_x)"
   ]
  },
  {
   "cell_type": "code",
   "execution_count": 70,
   "metadata": {},
   "outputs": [
    {
     "data": {
      "text/plain": [
       "Index(['X303', 'X241', 'X435', 'X402', 'X352', 'X305', 'X350', 'X326', 'X299',\n",
       "       'X160',\n",
       "       ...\n",
       "       'X329', 'X223', 'X266', 'X443', 'X347', 'X75', 'X107', 'X230', 'temp',\n",
       "       'humidity'],\n",
       "      dtype='object', length=179)"
      ]
     },
     "execution_count": 70,
     "metadata": {},
     "output_type": "execute_result"
    }
   ],
   "source": [
    "test_sample.columns"
   ]
  },
  {
   "cell_type": "code",
   "execution_count": 71,
   "metadata": {},
   "outputs": [
    {
     "data": {
      "text/plain": [
       "(3186, 2, 1)"
      ]
     },
     "execution_count": 71,
     "metadata": {},
     "output_type": "execute_result"
    }
   ],
   "source": [
    "pred.shape"
   ]
  },
  {
   "cell_type": "code",
   "execution_count": 72,
   "metadata": {},
   "outputs": [],
   "source": [
    "## to inverse minmax scale\n",
    "\n",
    "col_list = test_sample.columns.insert(0,'임시')\n",
    "tt_index = test_sample[:'2018-06-17'].index # -shift 인덱스 반영\n",
    "\n",
    "test_inverse_df = pd.DataFrame()\n",
    "\n",
    "for i in range(1,len(test_sample.columns)-1): # 1부터시작\n",
    "    tmp = i*36\n",
    "    tt = pred.reshape(6372,1)[tmp-36:tmp]    \n",
    "    test_inverse_df[col_list[i]] = tt.reshape(36,)\n",
    "    \n",
    "test_inverse_df = test_inverse_df.set_index(tt_index)\n",
    "test_inverse_df_array = sc_test.inverse_transform(test_inverse_df)"
   ]
  },
  {
   "cell_type": "code",
   "execution_count": 73,
   "metadata": {},
   "outputs": [],
   "source": [
    "# inverse minmax scale DataFrame \n",
    "\n",
    "res_test_df_W = pd.DataFrame(test_inverse_df_array, columns=test_inverse_df.columns,index=tt_index)"
   ]
  },
  {
   "cell_type": "code",
   "execution_count": 74,
   "metadata": {},
   "outputs": [],
   "source": [
    "test_none_scale = pd.read_csv('test_sample',index_col='Time',parse_dates=True)"
   ]
  },
  {
   "cell_type": "code",
   "execution_count": 75,
   "metadata": {},
   "outputs": [],
   "source": [
    "# 주말 비교용\n",
    "test_none_scale_W = test_none_scale[:\"2018-06-24\"].loc[:,:'X230'].resample('D').sum()"
   ]
  },
  {
   "cell_type": "code",
   "execution_count": 76,
   "metadata": {},
   "outputs": [],
   "source": [
    "test_none_scale_W = test_none_scale_W.reindex(saturday_sunday)"
   ]
  },
  {
   "cell_type": "code",
   "execution_count": 77,
   "metadata": {},
   "outputs": [],
   "source": [
    "test_none_scale_W = test_none_scale_W.shift(-2).dropna()"
   ]
  },
  {
   "cell_type": "code",
   "execution_count": 78,
   "metadata": {
    "scrolled": false
   },
   "outputs": [
    {
     "data": {
      "text/plain": [
       "<matplotlib.legend.Legend at 0x23fb5b2fcc8>"
      ]
     },
     "execution_count": 78,
     "metadata": {},
     "output_type": "execute_result"
    },
    {
     "data": {
      "image/png": "[encoded data removed]",
      "text/plain": [
       "<Figure size 720x576 with 1 Axes>"
      ]
     },
     "metadata": {
      "needs_background": "light"
     },
     "output_type": "display_data"
    }
   ],
   "source": [
    "# 일별 예측(주말만)\n",
    "test_none_scale_W['X305'].plot(figsize=(10,8),color='red',label='관측값')\n",
    "res_test_df_W['X305'].plot(figsize=(10,8),color='blue',label='예측값')\n",
    "plt.legend()"
   ]
  },
  {
   "cell_type": "code",
   "execution_count": 79,
   "metadata": {},
   "outputs": [],
   "source": [
    "##################################평일 주말 DataFrame 병합 ########################################################"
   ]
  },
  {
   "cell_type": "code",
   "execution_count": 80,
   "metadata": {},
   "outputs": [],
   "source": [
    "res_test_df_Full = pd.concat([res_test_df_B, res_test_df_W]).sort_index()\n",
    "test_none_scale_Full = pd.concat([test_none_scale_B, test_none_scale_W]).sort_index()"
   ]
  },
  {
   "cell_type": "code",
   "execution_count": 81,
   "metadata": {
    "scrolled": false
   },
   "outputs": [
    {
     "data": {
      "text/plain": [
       "<matplotlib.legend.Legend at 0x23fbe2c5888>"
      ]
     },
     "execution_count": 81,
     "metadata": {},
     "output_type": "execute_result"
    },
    {
     "data": {
      "image/png": "[encoded data removed]",
      "text/plain": [
       "<Figure size 720x576 with 1 Axes>"
      ]
     },
     "metadata": {
      "needs_background": "light"
     },
     "output_type": "display_data"
    }
   ],
   "source": [
    "test_none_scale_Full['X303'].plot(figsize=(10,8),color='red',label=\"관측값\")\n",
    "res_test_df_Full['X303'].plot(figsize=(10,8),color='blue',label=\"예측값\")\n",
    "plt.legend()"
   ]
  }
 ],
 "metadata": {
  "kernelspec": {
   "display_name": "Python 3",
   "language": "python",
   "name": "python3"
  },
  "language_info": {
   "codemirror_mode": {
    "name": "ipython",
    "version": 3
   },
   "file_extension": ".py",
   "mimetype": "text/x-python",
   "name": "python",
   "nbconvert_exporter": "python",
   "pygments_lexer": "ipython3",
   "version": "3.7.4"
  }
 },
 "nbformat": 4,
 "nbformat_minor": 2
}
