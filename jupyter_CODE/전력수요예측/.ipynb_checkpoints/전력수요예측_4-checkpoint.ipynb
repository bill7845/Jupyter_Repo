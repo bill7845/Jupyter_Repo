{
 "cells": [
  {
   "cell_type": "code",
   "execution_count": 1,
   "metadata": {},
   "outputs": [],
   "source": [
    "import pandas as pd"
   ]
  },
  {
   "cell_type": "code",
   "execution_count": 2,
   "metadata": {},
   "outputs": [],
   "source": [
    "train = pd.read_csv('C:/Users/KIHyuk/Desktop/전력수요예측/train.csv')\n",
    "test = pd.read_csv('C:/Users/KIHyuk/Desktop/전력수요예측/test.csv')\n",
    "submission = pd.read_csv('C:/Users/KIHyuk/Desktop/전력수요예측/submission.csv')"
   ]
  },
  {
   "cell_type": "code",
   "execution_count": null,
   "metadata": {},
   "outputs": [],
   "source": [
    "import pandas as pd\n",
    "import matplotlib.pyplot as plt\n",
    "import numpy as np\n",
    "%matplotlib inline\n",
    "\n",
    "# 데이터는 월별 항공 승객 수를 가지고 있습니다. (천단위 절삭)\n",
    "path_data = \"../datasets/international-airline-passengers.csv\"\n",
    "columns = ['Month', 'Passengers']\n",
    "df_data = pd.read_csv(path_data, names=columns, skiprows=1, nrows=144)\n",
    "print(df_data.head(12))\n",
    "print(df_data.tail(12))\n",
    "#plt.plot(df_data[\"Passengers\"], 'ro')\n",
    "plt.plot(df_data[\"Passengers\"])\n",
    "plt.show()\n",
    "\n",
    "# 이전 12 개월치 승객 수(x) 를 이용해서 \n",
    "# 다음달 승객 수(y) 를 추측할 수 있도록 데이터를 변형해 줍니다.\n",
    "len_data = len(df_data[\"Passengers\"])\n",
    "columns = []\n",
    "column_names = []\n",
    "months = 12\n",
    "for i in range(0, months + 1):\n",
    "    shift = (months - i)\n",
    "    column = df_data[\"Passengers\"][i:len_data - shift].reset_index(drop=True)\n",
    "    columns.append(column)\n",
    "    column_names.append(\"t-%s\" % shift)\n",
    "xy = pd.concat(columns, keys=column_names, axis=1)\n",
    "    \n",
    "print(xy.shape)\n",
    "plt.plot(xy)\n",
    "print(xy.head(6))\n",
    "print(xy.tail(6))\n",
    "\n",
    "# 훈련과 평가를 위해 데이터 셋을 대략 7:3 정도로 훈련/테스트용으로 나누어 줍니다.\n",
    "train_data = xy[:][0:100].reset_index(drop=True)\n",
    "test_data = xy[:][100:-1].reset_index(drop=True)\n",
    "print(train_data.shape)\n",
    "print(test_data.shape)"
   ]
  },
  {
   "cell_type": "code",
   "execution_count": null,
   "metadata": {},
   "outputs": [],
   "source": []
  }
 ],
 "metadata": {
  "kernelspec": {
   "display_name": "Python 3",
   "language": "python",
   "name": "python3"
  },
  "language_info": {
   "codemirror_mode": {
    "name": "ipython",
    "version": 3
   },
   "file_extension": ".py",
   "mimetype": "text/x-python",
   "name": "python",
   "nbconvert_exporter": "python",
   "pygments_lexer": "ipython3",
   "version": "3.7.4"
  }
 },
 "nbformat": 4,
 "nbformat_minor": 2
}
