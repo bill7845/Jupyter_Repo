{
 "cells": [
  {
   "cell_type": "code",
   "execution_count": 1,
   "metadata": {},
   "outputs": [],
   "source": [
    "import pandas as pd # 데이터 전처리\n",
    "import numpy as np # 데이터 전처리\n",
    "import matplotlib.pyplot as plt # 데이터 시각화\n",
    "import itertools\n",
    "from datetime import datetime, timedelta # 시간 데이터 처리\n",
    "from statsmodels.tsa.arima_model import ARIMA # ARIMA 모델\n",
    "%matplotlib inline\n"
   ]
  },
  {
   "cell_type": "code",
   "execution_count": 2,
   "metadata": {},
   "outputs": [],
   "source": [
    "train = pd.read_csv('C:/Users/KIHyuk/Desktop/전력수요예측/train.csv')\n",
    "test = pd.read_csv('C:/Users/KIHyuk/Desktop/전력수요예측/test.csv')\n",
    "submission = pd.read_csv('C:/Users/KIHyuk/Desktop/전력수요예측/submission_1002.csv')\n",
    "\n",
    "test['Time'] = pd.to_datetime(test['Time']) \n",
    "test = test.set_index('Time')"
   ]
  },
  {
   "cell_type": "code",
   "execution_count": 3,
   "metadata": {},
   "outputs": [
    {
     "data": {
      "text/html": [
       "<div>\n",
       "<style scoped>\n",
       "    .dataframe tbody tr th:only-of-type {\n",
       "        vertical-align: middle;\n",
       "    }\n",
       "\n",
       "    .dataframe tbody tr th {\n",
       "        vertical-align: top;\n",
       "    }\n",
       "\n",
       "    .dataframe thead th {\n",
       "        text-align: right;\n",
       "    }\n",
       "</style>\n",
       "<table border=\"1\" class=\"dataframe\">\n",
       "  <thead>\n",
       "    <tr style=\"text-align: right;\">\n",
       "      <th></th>\n",
       "      <th>place_id</th>\n",
       "      <th>target</th>\n",
       "    </tr>\n",
       "    <tr>\n",
       "      <th>time</th>\n",
       "      <th></th>\n",
       "      <th></th>\n",
       "    </tr>\n",
       "  </thead>\n",
       "  <tbody>\n",
       "    <tr>\n",
       "      <td>2018-04-18 19:00:00</td>\n",
       "      <td>X26</td>\n",
       "      <td>2.527</td>\n",
       "    </tr>\n",
       "    <tr>\n",
       "      <td>2018-04-18 20:00:00</td>\n",
       "      <td>X26</td>\n",
       "      <td>2.641</td>\n",
       "    </tr>\n",
       "    <tr>\n",
       "      <td>2018-04-18 21:00:00</td>\n",
       "      <td>X26</td>\n",
       "      <td>2.368</td>\n",
       "    </tr>\n",
       "    <tr>\n",
       "      <td>2018-04-18 22:00:00</td>\n",
       "      <td>X26</td>\n",
       "      <td>1.899</td>\n",
       "    </tr>\n",
       "    <tr>\n",
       "      <td>2018-04-18 23:00:00</td>\n",
       "      <td>X26</td>\n",
       "      <td>1.956</td>\n",
       "    </tr>\n",
       "  </tbody>\n",
       "</table>\n",
       "</div>"
      ],
      "text/plain": [
       "                    place_id  target\n",
       "time                                \n",
       "2018-04-18 19:00:00      X26   2.527\n",
       "2018-04-18 20:00:00      X26   2.641\n",
       "2018-04-18 21:00:00      X26   2.368\n",
       "2018-04-18 22:00:00      X26   1.899\n",
       "2018-04-18 23:00:00      X26   1.956"
      ]
     },
     "execution_count": 3,
     "metadata": {},
     "output_type": "execute_result"
    }
   ],
   "source": [
    "place_id=[]; time=[] ; target=[] # 빈 리스트를 생성합니다.\n",
    "for i in test.columns:\n",
    "    for j in range(len(test)):\n",
    "        place_id.append(i) # place_id에 미터 ID를 정리합니다.\n",
    "        time.append(test.index[j]) # time에 시간대를 정리합니다.\n",
    "        target.append(test[i].iloc[j]) # target에 전력량을 정리합니다.\n",
    "\n",
    "new_df=pd.DataFrame({'place_id':place_id,'time':time,'target':target})\n",
    "new_df=new_df.dropna() # 결측치를 제거합니다.\n",
    "new_df=new_df.set_index('time') # time을 인덱스로 저장합니다.\n",
    "new_df.head()"
   ]
  },
  {
   "cell_type": "code",
   "execution_count": 4,
   "metadata": {},
   "outputs": [
    {
     "data": {
      "text/plain": [
       "[(0, 0, 0),\n",
       " (0, 0, 1),\n",
       " (0, 1, 0),\n",
       " (0, 1, 1),\n",
       " (1, 0, 0),\n",
       " (1, 0, 1),\n",
       " (1, 1, 0),\n",
       " (1, 1, 1)]"
      ]
     },
     "execution_count": 4,
     "metadata": {},
     "output_type": "execute_result"
    }
   ],
   "source": [
    "p = d = q = range(0, 2)\n",
    "pdq = list(itertools.product(p, d, q))\n",
    "pdq"
   ]
  },
  {
   "cell_type": "code",
   "execution_count": 5,
   "metadata": {},
   "outputs": [],
   "source": [
    "def get_optimal_params(y):\n",
    "\n",
    "    param_dict = {}\n",
    "    for param in pdq:\n",
    "        try:\n",
    "            model = ARIMA(y, order=param)\n",
    "            results_ARIMA = model.fit(disp=-1)\n",
    "            param_dict[results_ARIMA.aic] = param\n",
    "        except:\n",
    "            continue\n",
    "\n",
    "    min_aic = min(param_dict.keys())\n",
    "    optimal_params = param_dict[min_aic]\n",
    "    return optimal_params"
   ]
  },
  {
   "cell_type": "code",
   "execution_count": 6,
   "metadata": {},
   "outputs": [
    {
     "name": "stderr",
     "output_type": "stream",
     "text": [
      "C:\\Anaconda3\\lib\\site-packages\\scipy\\signal\\signaltools.py:1341: FutureWarning: Using a non-tuple sequence for multidimensional indexing is deprecated; use `arr[tuple(seq)]` instead of `arr[seq]`. In the future this will be interpreted as an array index, `arr[np.array(seq)]`, which will result either in an error or a different result.\n",
      "  out_full[ind] += zi\n",
      "C:\\Anaconda3\\lib\\site-packages\\scipy\\signal\\signaltools.py:1344: FutureWarning: Using a non-tuple sequence for multidimensional indexing is deprecated; use `arr[tuple(seq)]` instead of `arr[seq]`. In the future this will be interpreted as an array index, `arr[np.array(seq)]`, which will result either in an error or a different result.\n",
      "  out = out_full[ind]\n",
      "C:\\Anaconda3\\lib\\site-packages\\scipy\\signal\\signaltools.py:1350: FutureWarning: Using a non-tuple sequence for multidimensional indexing is deprecated; use `arr[tuple(seq)]` instead of `arr[seq]`. In the future this will be interpreted as an array index, `arr[np.array(seq)]`, which will result either in an error or a different result.\n",
      "  zf = out_full[ind]\n"
     ]
    },
    {
     "name": "stdout",
     "output_type": "stream",
     "text": [
      "X26\n",
      "X303\n",
      "X241\n",
      "X435\n",
      "X402\n",
      "X352\n",
      "X305\n",
      "X350\n",
      "X326\n",
      "X299\n",
      "X160\n",
      "X125\n",
      "X211\n",
      "X349\n",
      "X407\n",
      "X330\n",
      "X132\n",
      "X231\n",
      "X225\n",
      "X16\n",
      "X286\n",
      "X354\n",
      "X353\n",
      "X76\n"
     ]
    },
    {
     "name": "stderr",
     "output_type": "stream",
     "text": [
      "C:\\Anaconda3\\lib\\site-packages\\statsmodels\\base\\model.py:512: ConvergenceWarning: Maximum Likelihood optimization failed to converge. Check mle_retvals\n",
      "  \"Check mle_retvals\", ConvergenceWarning)\n"
     ]
    },
    {
     "name": "stdout",
     "output_type": "stream",
     "text": [
      "X255\n",
      "X106\n",
      "X393\n",
      "X157\n",
      "X323\n",
      "X130\n",
      "X269\n",
      "X94\n",
      "X172\n",
      "X289\n",
      "X216\n",
      "X123\n",
      "X398\n",
      "X233\n",
      "X214\n",
      "X270\n",
      "X371\n",
      "X200\n",
      "X111\n",
      "X163\n",
      "X364\n",
      "X378\n",
      "X271\n",
      "X462\n",
      "X427\n",
      "X73\n",
      "X7\n",
      "X263\n"
     ]
    },
    {
     "name": "stderr",
     "output_type": "stream",
     "text": [
      "C:\\Anaconda3\\lib\\site-packages\\statsmodels\\base\\model.py:512: ConvergenceWarning: Maximum Likelihood optimization failed to converge. Check mle_retvals\n",
      "  \"Check mle_retvals\", ConvergenceWarning)\n"
     ]
    },
    {
     "name": "stdout",
     "output_type": "stream",
     "text": [
      "X450\n",
      "X18\n",
      "X206\n",
      "X133\n",
      "X41\n",
      "X195\n"
     ]
    },
    {
     "name": "stderr",
     "output_type": "stream",
     "text": [
      "C:\\Anaconda3\\lib\\site-packages\\statsmodels\\base\\model.py:512: ConvergenceWarning: Maximum Likelihood optimization failed to converge. Check mle_retvals\n",
      "  \"Check mle_retvals\", ConvergenceWarning)\n"
     ]
    },
    {
     "name": "stdout",
     "output_type": "stream",
     "text": [
      "X155\n",
      "X134\n",
      "X297\n",
      "X175\n",
      "X254\n",
      "X196\n",
      "X481\n",
      "X412\n",
      "X337\n",
      "X406\n",
      "X67\n",
      "X414\n",
      "X55\n",
      "X91\n",
      "X260\n",
      "X252\n"
     ]
    },
    {
     "name": "stderr",
     "output_type": "stream",
     "text": [
      "C:\\Anaconda3\\lib\\site-packages\\statsmodels\\base\\model.py:512: ConvergenceWarning: Maximum Likelihood optimization failed to converge. Check mle_retvals\n",
      "  \"Check mle_retvals\", ConvergenceWarning)\n"
     ]
    },
    {
     "name": "stdout",
     "output_type": "stream",
     "text": [
      "X5\n",
      "X455\n",
      "X43\n"
     ]
    },
    {
     "name": "stderr",
     "output_type": "stream",
     "text": [
      "C:\\Anaconda3\\lib\\site-packages\\statsmodels\\base\\model.py:512: ConvergenceWarning: Maximum Likelihood optimization failed to converge. Check mle_retvals\n",
      "  \"Check mle_retvals\", ConvergenceWarning)\n"
     ]
    },
    {
     "name": "stdout",
     "output_type": "stream",
     "text": [
      "X320\n",
      "X276\n",
      "X423\n",
      "X218\n",
      "X399\n",
      "X213\n",
      "X379\n",
      "X468\n",
      "X253\n"
     ]
    },
    {
     "name": "stderr",
     "output_type": "stream",
     "text": [
      "C:\\Anaconda3\\lib\\site-packages\\statsmodels\\base\\model.py:512: ConvergenceWarning: Maximum Likelihood optimization failed to converge. Check mle_retvals\n",
      "  \"Check mle_retvals\", ConvergenceWarning)\n"
     ]
    },
    {
     "name": "stdout",
     "output_type": "stream",
     "text": [
      "X247\n",
      "X262\n"
     ]
    },
    {
     "name": "stderr",
     "output_type": "stream",
     "text": [
      "C:\\Anaconda3\\lib\\site-packages\\statsmodels\\base\\model.py:512: ConvergenceWarning: Maximum Likelihood optimization failed to converge. Check mle_retvals\n",
      "  \"Check mle_retvals\", ConvergenceWarning)\n"
     ]
    },
    {
     "name": "stdout",
     "output_type": "stream",
     "text": [
      "X248\n"
     ]
    },
    {
     "name": "stderr",
     "output_type": "stream",
     "text": [
      "C:\\Anaconda3\\lib\\site-packages\\statsmodels\\base\\model.py:492: HessianInversionWarning: Inverting hessian failed, no bse or cov_params available\n",
      "  'available', HessianInversionWarning)\n"
     ]
    },
    {
     "name": "stdout",
     "output_type": "stream",
     "text": [
      "X357\n"
     ]
    },
    {
     "name": "stderr",
     "output_type": "stream",
     "text": [
      "C:\\Anaconda3\\lib\\site-packages\\statsmodels\\base\\model.py:512: ConvergenceWarning: Maximum Likelihood optimization failed to converge. Check mle_retvals\n",
      "  \"Check mle_retvals\", ConvergenceWarning)\n"
     ]
    },
    {
     "name": "stdout",
     "output_type": "stream",
     "text": [
      "X215\n",
      "X177\n",
      "X228\n",
      "X59\n",
      "X10\n",
      "X187\n",
      "X245\n",
      "X87\n",
      "X242\n",
      "X376\n",
      "X166\n",
      "X472\n",
      "X275\n",
      "X126\n",
      "X120\n",
      "X313\n"
     ]
    },
    {
     "name": "stderr",
     "output_type": "stream",
     "text": [
      "C:\\Anaconda3\\lib\\site-packages\\statsmodels\\base\\model.py:512: ConvergenceWarning: Maximum Likelihood optimization failed to converge. Check mle_retvals\n",
      "  \"Check mle_retvals\", ConvergenceWarning)\n"
     ]
    },
    {
     "name": "stdout",
     "output_type": "stream",
     "text": [
      "X201\n",
      "X110\n",
      "X408\n",
      "X62\n",
      "X419\n",
      "X460\n",
      "X367\n",
      "X143\n",
      "X312\n",
      "X410\n",
      "X389\n",
      "X300\n",
      "X61\n",
      "X470\n",
      "X445\n",
      "X158\n",
      "X421\n",
      "X105\n",
      "X32\n",
      "X178\n",
      "X308\n",
      "X217\n",
      "X229\n",
      "X358\n",
      "X31\n",
      "X148\n",
      "X397\n",
      "X363\n"
     ]
    },
    {
     "name": "stderr",
     "output_type": "stream",
     "text": [
      "C:\\Anaconda3\\lib\\site-packages\\statsmodels\\base\\model.py:512: ConvergenceWarning: Maximum Likelihood optimization failed to converge. Check mle_retvals\n",
      "  \"Check mle_retvals\", ConvergenceWarning)\n"
     ]
    },
    {
     "name": "stdout",
     "output_type": "stream",
     "text": [
      "X165\n",
      "X30\n",
      "X88\n",
      "X296\n",
      "X219\n"
     ]
    },
    {
     "name": "stderr",
     "output_type": "stream",
     "text": [
      "C:\\Anaconda3\\lib\\site-packages\\statsmodels\\base\\model.py:512: ConvergenceWarning: Maximum Likelihood optimization failed to converge. Check mle_retvals\n",
      "  \"Check mle_retvals\", ConvergenceWarning)\n"
     ]
    },
    {
     "name": "stdout",
     "output_type": "stream",
     "text": [
      "X116\n",
      "X68\n",
      "X431\n",
      "X302\n",
      "X314\n",
      "X124\n"
     ]
    },
    {
     "name": "stderr",
     "output_type": "stream",
     "text": [
      "C:\\Anaconda3\\lib\\site-packages\\statsmodels\\base\\model.py:512: ConvergenceWarning: Maximum Likelihood optimization failed to converge. Check mle_retvals\n",
      "  \"Check mle_retvals\", ConvergenceWarning)\n"
     ]
    },
    {
     "name": "stdout",
     "output_type": "stream",
     "text": [
      "X405\n",
      "X315\n",
      "X51\n",
      "X176\n",
      "X396\n",
      "X449\n",
      "X383\n",
      "X473\n",
      "X205\n"
     ]
    },
    {
     "name": "stderr",
     "output_type": "stream",
     "text": [
      "C:\\Anaconda3\\lib\\site-packages\\statsmodels\\base\\model.py:512: ConvergenceWarning: Maximum Likelihood optimization failed to converge. Check mle_retvals\n",
      "  \"Check mle_retvals\", ConvergenceWarning)\n"
     ]
    },
    {
     "name": "stdout",
     "output_type": "stream",
     "text": [
      "X35\n",
      "X161\n",
      "X403\n",
      "X341\n",
      "X149\n",
      "X82\n",
      "X377\n",
      "X232\n",
      "X333\n",
      "X140\n",
      "X44\n",
      "X37\n",
      "X42\n",
      "X422\n",
      "X50\n"
     ]
    },
    {
     "name": "stderr",
     "output_type": "stream",
     "text": [
      "C:\\Anaconda3\\lib\\site-packages\\statsmodels\\base\\model.py:512: ConvergenceWarning: Maximum Likelihood optimization failed to converge. Check mle_retvals\n",
      "  \"Check mle_retvals\", ConvergenceWarning)\n"
     ]
    },
    {
     "name": "stdout",
     "output_type": "stream",
     "text": [
      "X386\n",
      "X80\n",
      "X250\n",
      "X142\n",
      "X235\n",
      "X446\n"
     ]
    },
    {
     "name": "stderr",
     "output_type": "stream",
     "text": [
      "C:\\Anaconda3\\lib\\site-packages\\statsmodels\\base\\model.py:512: ConvergenceWarning: Maximum Likelihood optimization failed to converge. Check mle_retvals\n",
      "  \"Check mle_retvals\", ConvergenceWarning)\n"
     ]
    },
    {
     "name": "stdout",
     "output_type": "stream",
     "text": [
      "X331\n",
      "X102\n"
     ]
    },
    {
     "name": "stderr",
     "output_type": "stream",
     "text": [
      "C:\\Anaconda3\\lib\\site-packages\\statsmodels\\base\\model.py:512: ConvergenceWarning: Maximum Likelihood optimization failed to converge. Check mle_retvals\n",
      "  \"Check mle_retvals\", ConvergenceWarning)\n"
     ]
    },
    {
     "name": "stdout",
     "output_type": "stream",
     "text": [
      "X186\n",
      "X243\n",
      "X194\n"
     ]
    },
    {
     "name": "stderr",
     "output_type": "stream",
     "text": [
      "C:\\Anaconda3\\lib\\site-packages\\statsmodels\\tsa\\tsatools.py:668: RuntimeWarning: invalid value encountered in true_divide\n",
      "  newparams = ((1-np.exp(-params))/(1+np.exp(-params))).copy()\n",
      "C:\\Anaconda3\\lib\\site-packages\\statsmodels\\tsa\\tsatools.py:669: RuntimeWarning: invalid value encountered in true_divide\n",
      "  tmp = ((1-np.exp(-params))/(1+np.exp(-params))).copy()\n"
     ]
    },
    {
     "name": "stdout",
     "output_type": "stream",
     "text": [
      "X183\n",
      "X139\n",
      "X459\n"
     ]
    },
    {
     "name": "stderr",
     "output_type": "stream",
     "text": [
      "C:\\Anaconda3\\lib\\site-packages\\statsmodels\\base\\model.py:512: ConvergenceWarning: Maximum Likelihood optimization failed to converge. Check mle_retvals\n",
      "  \"Check mle_retvals\", ConvergenceWarning)\n"
     ]
    },
    {
     "name": "stdout",
     "output_type": "stream",
     "text": [
      "X457\n",
      "X70\n"
     ]
    },
    {
     "name": "stderr",
     "output_type": "stream",
     "text": [
      "C:\\Anaconda3\\lib\\site-packages\\statsmodels\\base\\model.py:512: ConvergenceWarning: Maximum Likelihood optimization failed to converge. Check mle_retvals\n",
      "  \"Check mle_retvals\", ConvergenceWarning)\n"
     ]
    },
    {
     "name": "stdout",
     "output_type": "stream",
     "text": [
      "X368\n",
      "X282\n",
      "X426\n"
     ]
    },
    {
     "name": "stderr",
     "output_type": "stream",
     "text": [
      "C:\\Anaconda3\\lib\\site-packages\\statsmodels\\tsa\\kalmanf\\kalmanfilter.py:221: RuntimeWarning: divide by zero encountered in true_divide\n",
      "  Z_mat, R_mat, T_mat)\n"
     ]
    },
    {
     "name": "stdout",
     "output_type": "stream",
     "text": [
      "X47\n",
      "X192\n",
      "X283\n",
      "X329\n",
      "X223\n",
      "X266\n",
      "X20\n",
      "X443\n"
     ]
    },
    {
     "name": "stderr",
     "output_type": "stream",
     "text": [
      "C:\\Anaconda3\\lib\\site-packages\\statsmodels\\base\\model.py:512: ConvergenceWarning: Maximum Likelihood optimization failed to converge. Check mle_retvals\n",
      "  \"Check mle_retvals\", ConvergenceWarning)\n"
     ]
    },
    {
     "name": "stdout",
     "output_type": "stream",
     "text": [
      "X347\n",
      "X75\n",
      "X107\n",
      "X230\n",
      "---- Modeling Done ----\n"
     ]
    }
   ],
   "source": [
    "agg={}\n",
    "for key in new_df['place_id'].unique(): # 미터ID 200개의 리스트를 unique()함수를 통해 추출합니다.\n",
    "    temp = new_df.loc[new_df['place_id']==key] # 미터ID 하나를 할당합니다.\n",
    "    temp_1h=temp.resample('1h').sum() # 1시간 단위로 정리합니다.\n",
    "    temp_1day=temp.resample('D').sum() # 1일 단위로 정리합니다.\n",
    "\n",
    "    # 시간별 예측\n",
    "    model = ARIMA(temp_1h['target'], order=get_optimal_params(temp_1h['target'])) # AIC를 최소화하는 최적의 파라미터로 모델링합니다.\n",
    "    results_ARIMA = model.fit(disp=-1)\n",
    "    fcst = results_ARIMA.forecast(24) # 24시간을 예측합니다.\n",
    "\n",
    "    a = pd.DataFrame() # a라는 데이터프레임에 예측값을 정리합니다.\n",
    "    \n",
    "    for i in range(24):\n",
    "        a['X2018_7_1_'+str(i+1)+'h']=[fcst[0][i]] # column명을 submission 형태에 맞게 지정합니다.\n",
    "\n",
    "        \n",
    "    # 일별 예측\n",
    "    model = ARIMA(temp_1day['target'], order=get_optimal_params(temp_1day['target'])) # AIC를 최소화하는 최적의 파라미터로 모델링합니다.\n",
    "    results_ARIMA = model.fit(disp=-1)\n",
    "    fcst = results_ARIMA.forecast(10) # 10일을 예측합니다.\n",
    "\n",
    "    for i in range(10):\n",
    "        a['X2018_7_'+str(i+1)+'_d']=[fcst[0][i]] # column명을 submission 형태에 맞게 지정합니다.\n",
    "    \n",
    "    \n",
    "    # 월별 예측\n",
    "    # 일별로 예측하여 7월 ~ 11월의 일 수에 맞게 나누어 합산합니다.\n",
    "    fcst = results_ARIMA.forecast(153)\n",
    "    a['X2018_7_m'] = [np.sum(fcst[0][:31])] # 7월 \n",
    "    a['X2018_8_m'] = [np.sum(fcst[0][31:62])] # 8월\n",
    "    a['X2018_9_m'] = [np.sum(fcst[0][62:92])] # 9월\n",
    "    a['X2018_10_m'] = [np.sum(fcst[0][92:123])] # 10월\n",
    "    a['X2018_11_m'] = [np.sum(fcst[0][123:153])] # 11월\n",
    "    \n",
    "    a['meter_id'] = key \n",
    "    agg[key] = a[submission.columns.tolist()]\n",
    "    print(key)\n",
    "print('---- Modeling Done ----')"
   ]
  },
  {
   "cell_type": "code",
   "execution_count": 7,
   "metadata": {},
   "outputs": [],
   "source": [
    "output1 = pd.concat(agg, ignore_index=False)\n",
    "output2 = output1.reset_index().drop(['level_0','level_1'], axis=1)\n",
    "output2['id'] = output2['meter_id'].str.replace('X','').astype(int)\n",
    "output2 =  output2.sort_values(by='id', ascending=True).drop(['id'], axis=1).reset_index(drop=True)\n",
    "output2.to_csv('sub_baseline.csv', index=False)"
   ]
  },
  {
   "cell_type": "code",
   "execution_count": 8,
   "metadata": {
    "scrolled": true
   },
   "outputs": [
    {
     "data": {
      "text/html": [
       "<div>\n",
       "<style scoped>\n",
       "    .dataframe tbody tr th:only-of-type {\n",
       "        vertical-align: middle;\n",
       "    }\n",
       "\n",
       "    .dataframe tbody tr th {\n",
       "        vertical-align: top;\n",
       "    }\n",
       "\n",
       "    .dataframe thead th {\n",
       "        text-align: right;\n",
       "    }\n",
       "</style>\n",
       "<table border=\"1\" class=\"dataframe\">\n",
       "  <thead>\n",
       "    <tr style=\"text-align: right;\">\n",
       "      <th></th>\n",
       "      <th>meter_id</th>\n",
       "      <th>X2018_7_1_1h</th>\n",
       "      <th>X2018_7_1_2h</th>\n",
       "      <th>X2018_7_1_3h</th>\n",
       "      <th>X2018_7_1_4h</th>\n",
       "      <th>X2018_7_1_5h</th>\n",
       "      <th>X2018_7_1_6h</th>\n",
       "      <th>X2018_7_1_7h</th>\n",
       "      <th>X2018_7_1_8h</th>\n",
       "      <th>X2018_7_1_9h</th>\n",
       "      <th>...</th>\n",
       "      <th>X2018_7_6_d</th>\n",
       "      <th>X2018_7_7_d</th>\n",
       "      <th>X2018_7_8_d</th>\n",
       "      <th>X2018_7_9_d</th>\n",
       "      <th>X2018_7_10_d</th>\n",
       "      <th>X2018_7_m</th>\n",
       "      <th>X2018_8_m</th>\n",
       "      <th>X2018_9_m</th>\n",
       "      <th>X2018_10_m</th>\n",
       "      <th>X2018_11_m</th>\n",
       "    </tr>\n",
       "  </thead>\n",
       "  <tbody>\n",
       "    <tr>\n",
       "      <td>0</td>\n",
       "      <td>X5</td>\n",
       "      <td>6.799337</td>\n",
       "      <td>6.608445</td>\n",
       "      <td>6.502227</td>\n",
       "      <td>6.443250</td>\n",
       "      <td>6.410630</td>\n",
       "      <td>6.392714</td>\n",
       "      <td>6.383002</td>\n",
       "      <td>6.377867</td>\n",
       "      <td>6.375286</td>\n",
       "      <td>...</td>\n",
       "      <td>165.487123</td>\n",
       "      <td>167.240644</td>\n",
       "      <td>168.994164</td>\n",
       "      <td>170.747685</td>\n",
       "      <td>172.501205</td>\n",
       "      <td>5673.692192</td>\n",
       "      <td>7358.825438</td>\n",
       "      <td>8725.915274</td>\n",
       "      <td>10674.732795</td>\n",
       "      <td>11934.857877</td>\n",
       "    </tr>\n",
       "    <tr>\n",
       "      <td>1</td>\n",
       "      <td>X7</td>\n",
       "      <td>1.308541</td>\n",
       "      <td>1.318726</td>\n",
       "      <td>1.327311</td>\n",
       "      <td>1.334546</td>\n",
       "      <td>1.340644</td>\n",
       "      <td>1.345784</td>\n",
       "      <td>1.350116</td>\n",
       "      <td>1.353767</td>\n",
       "      <td>1.356845</td>\n",
       "      <td>...</td>\n",
       "      <td>40.907214</td>\n",
       "      <td>40.910783</td>\n",
       "      <td>41.008957</td>\n",
       "      <td>41.155804</td>\n",
       "      <td>41.327690</td>\n",
       "      <td>1340.126366</td>\n",
       "      <td>1507.873415</td>\n",
       "      <td>1640.785691</td>\n",
       "      <td>1883.083680</td>\n",
       "      <td>2003.892400</td>\n",
       "    </tr>\n",
       "    <tr>\n",
       "      <td>2</td>\n",
       "      <td>X10</td>\n",
       "      <td>2.245585</td>\n",
       "      <td>2.397961</td>\n",
       "      <td>2.522193</td>\n",
       "      <td>2.623480</td>\n",
       "      <td>2.706059</td>\n",
       "      <td>2.773387</td>\n",
       "      <td>2.828279</td>\n",
       "      <td>2.873032</td>\n",
       "      <td>2.909520</td>\n",
       "      <td>...</td>\n",
       "      <td>86.185403</td>\n",
       "      <td>86.498657</td>\n",
       "      <td>86.820665</td>\n",
       "      <td>87.145067</td>\n",
       "      <td>87.470123</td>\n",
       "      <td>2787.029755</td>\n",
       "      <td>3084.692493</td>\n",
       "      <td>3282.837727</td>\n",
       "      <td>3699.838809</td>\n",
       "      <td>3878.140613</td>\n",
       "    </tr>\n",
       "    <tr>\n",
       "      <td>3</td>\n",
       "      <td>X16</td>\n",
       "      <td>3.314387</td>\n",
       "      <td>3.423443</td>\n",
       "      <td>3.510585</td>\n",
       "      <td>3.580217</td>\n",
       "      <td>3.635857</td>\n",
       "      <td>3.680316</td>\n",
       "      <td>3.715842</td>\n",
       "      <td>3.744229</td>\n",
       "      <td>3.766913</td>\n",
       "      <td>...</td>\n",
       "      <td>115.646262</td>\n",
       "      <td>116.092716</td>\n",
       "      <td>116.606807</td>\n",
       "      <td>117.153744</td>\n",
       "      <td>117.716633</td>\n",
       "      <td>3774.673963</td>\n",
       "      <td>4311.681047</td>\n",
       "      <td>4701.416845</td>\n",
       "      <td>5404.580433</td>\n",
       "      <td>5759.061412</td>\n",
       "    </tr>\n",
       "    <tr>\n",
       "      <td>4</td>\n",
       "      <td>X18</td>\n",
       "      <td>2.495492</td>\n",
       "      <td>2.500715</td>\n",
       "      <td>2.504917</td>\n",
       "      <td>2.508293</td>\n",
       "      <td>2.511005</td>\n",
       "      <td>2.513180</td>\n",
       "      <td>2.514922</td>\n",
       "      <td>2.516315</td>\n",
       "      <td>2.517427</td>\n",
       "      <td>...</td>\n",
       "      <td>69.132699</td>\n",
       "      <td>69.842315</td>\n",
       "      <td>70.551932</td>\n",
       "      <td>71.261548</td>\n",
       "      <td>71.971164</td>\n",
       "      <td>2363.094753</td>\n",
       "      <td>3045.036151</td>\n",
       "      <td>3596.108219</td>\n",
       "      <td>4386.920836</td>\n",
       "      <td>4894.706301</td>\n",
       "    </tr>\n",
       "    <tr>\n",
       "      <td>...</td>\n",
       "      <td>...</td>\n",
       "      <td>...</td>\n",
       "      <td>...</td>\n",
       "      <td>...</td>\n",
       "      <td>...</td>\n",
       "      <td>...</td>\n",
       "      <td>...</td>\n",
       "      <td>...</td>\n",
       "      <td>...</td>\n",
       "      <td>...</td>\n",
       "      <td>...</td>\n",
       "      <td>...</td>\n",
       "      <td>...</td>\n",
       "      <td>...</td>\n",
       "      <td>...</td>\n",
       "      <td>...</td>\n",
       "      <td>...</td>\n",
       "      <td>...</td>\n",
       "      <td>...</td>\n",
       "      <td>...</td>\n",
       "      <td>...</td>\n",
       "    </tr>\n",
       "    <tr>\n",
       "      <td>195</td>\n",
       "      <td>X468</td>\n",
       "      <td>0.212631</td>\n",
       "      <td>0.211561</td>\n",
       "      <td>0.210810</td>\n",
       "      <td>0.210282</td>\n",
       "      <td>0.209911</td>\n",
       "      <td>0.209650</td>\n",
       "      <td>0.209467</td>\n",
       "      <td>0.209338</td>\n",
       "      <td>0.209248</td>\n",
       "      <td>...</td>\n",
       "      <td>5.020131</td>\n",
       "      <td>5.019469</td>\n",
       "      <td>5.019271</td>\n",
       "      <td>5.019212</td>\n",
       "      <td>5.019194</td>\n",
       "      <td>156.157243</td>\n",
       "      <td>155.594776</td>\n",
       "      <td>150.575589</td>\n",
       "      <td>155.594776</td>\n",
       "      <td>150.575589</td>\n",
       "    </tr>\n",
       "    <tr>\n",
       "      <td>196</td>\n",
       "      <td>X470</td>\n",
       "      <td>0.392912</td>\n",
       "      <td>0.390465</td>\n",
       "      <td>0.388141</td>\n",
       "      <td>0.385933</td>\n",
       "      <td>0.383836</td>\n",
       "      <td>0.381844</td>\n",
       "      <td>0.379952</td>\n",
       "      <td>0.378154</td>\n",
       "      <td>0.376447</td>\n",
       "      <td>...</td>\n",
       "      <td>8.250216</td>\n",
       "      <td>8.242835</td>\n",
       "      <td>8.238558</td>\n",
       "      <td>8.236079</td>\n",
       "      <td>8.234642</td>\n",
       "      <td>255.851157</td>\n",
       "      <td>255.212527</td>\n",
       "      <td>246.979865</td>\n",
       "      <td>255.212527</td>\n",
       "      <td>246.979865</td>\n",
       "    </tr>\n",
       "    <tr>\n",
       "      <td>197</td>\n",
       "      <td>X472</td>\n",
       "      <td>0.325834</td>\n",
       "      <td>0.331651</td>\n",
       "      <td>0.333931</td>\n",
       "      <td>0.334824</td>\n",
       "      <td>0.335172</td>\n",
       "      <td>0.335307</td>\n",
       "      <td>0.335358</td>\n",
       "      <td>0.335376</td>\n",
       "      <td>0.335381</td>\n",
       "      <td>...</td>\n",
       "      <td>6.119211</td>\n",
       "      <td>6.022374</td>\n",
       "      <td>5.951018</td>\n",
       "      <td>5.898439</td>\n",
       "      <td>5.859696</td>\n",
       "      <td>184.724749</td>\n",
       "      <td>178.287836</td>\n",
       "      <td>172.536133</td>\n",
       "      <td>178.287338</td>\n",
       "      <td>172.536133</td>\n",
       "    </tr>\n",
       "    <tr>\n",
       "      <td>198</td>\n",
       "      <td>X473</td>\n",
       "      <td>0.208976</td>\n",
       "      <td>0.195155</td>\n",
       "      <td>0.192387</td>\n",
       "      <td>0.191834</td>\n",
       "      <td>0.191723</td>\n",
       "      <td>0.191702</td>\n",
       "      <td>0.191698</td>\n",
       "      <td>0.191698</td>\n",
       "      <td>0.191698</td>\n",
       "      <td>...</td>\n",
       "      <td>4.194343</td>\n",
       "      <td>4.178976</td>\n",
       "      <td>4.166687</td>\n",
       "      <td>4.156858</td>\n",
       "      <td>4.148998</td>\n",
       "      <td>128.815960</td>\n",
       "      <td>127.646984</td>\n",
       "      <td>123.528231</td>\n",
       "      <td>127.645837</td>\n",
       "      <td>123.528230</td>\n",
       "    </tr>\n",
       "    <tr>\n",
       "      <td>199</td>\n",
       "      <td>X481</td>\n",
       "      <td>0.241268</td>\n",
       "      <td>0.242149</td>\n",
       "      <td>0.242827</td>\n",
       "      <td>0.243350</td>\n",
       "      <td>0.243752</td>\n",
       "      <td>0.244062</td>\n",
       "      <td>0.244301</td>\n",
       "      <td>0.244485</td>\n",
       "      <td>0.244626</td>\n",
       "      <td>...</td>\n",
       "      <td>5.857727</td>\n",
       "      <td>5.857988</td>\n",
       "      <td>5.858066</td>\n",
       "      <td>5.858089</td>\n",
       "      <td>5.858096</td>\n",
       "      <td>181.374654</td>\n",
       "      <td>181.601065</td>\n",
       "      <td>175.742966</td>\n",
       "      <td>181.601065</td>\n",
       "      <td>175.742966</td>\n",
       "    </tr>\n",
       "  </tbody>\n",
       "</table>\n",
       "<p>200 rows × 40 columns</p>\n",
       "</div>"
      ],
      "text/plain": [
       "    meter_id  X2018_7_1_1h  X2018_7_1_2h  X2018_7_1_3h  X2018_7_1_4h  \\\n",
       "0         X5      6.799337      6.608445      6.502227      6.443250   \n",
       "1         X7      1.308541      1.318726      1.327311      1.334546   \n",
       "2        X10      2.245585      2.397961      2.522193      2.623480   \n",
       "3        X16      3.314387      3.423443      3.510585      3.580217   \n",
       "4        X18      2.495492      2.500715      2.504917      2.508293   \n",
       "..       ...           ...           ...           ...           ...   \n",
       "195     X468      0.212631      0.211561      0.210810      0.210282   \n",
       "196     X470      0.392912      0.390465      0.388141      0.385933   \n",
       "197     X472      0.325834      0.331651      0.333931      0.334824   \n",
       "198     X473      0.208976      0.195155      0.192387      0.191834   \n",
       "199     X481      0.241268      0.242149      0.242827      0.243350   \n",
       "\n",
       "     X2018_7_1_5h  X2018_7_1_6h  X2018_7_1_7h  X2018_7_1_8h  X2018_7_1_9h  \\\n",
       "0        6.410630      6.392714      6.383002      6.377867      6.375286   \n",
       "1        1.340644      1.345784      1.350116      1.353767      1.356845   \n",
       "2        2.706059      2.773387      2.828279      2.873032      2.909520   \n",
       "3        3.635857      3.680316      3.715842      3.744229      3.766913   \n",
       "4        2.511005      2.513180      2.514922      2.516315      2.517427   \n",
       "..            ...           ...           ...           ...           ...   \n",
       "195      0.209911      0.209650      0.209467      0.209338      0.209248   \n",
       "196      0.383836      0.381844      0.379952      0.378154      0.376447   \n",
       "197      0.335172      0.335307      0.335358      0.335376      0.335381   \n",
       "198      0.191723      0.191702      0.191698      0.191698      0.191698   \n",
       "199      0.243752      0.244062      0.244301      0.244485      0.244626   \n",
       "\n",
       "     ...  X2018_7_6_d  X2018_7_7_d  X2018_7_8_d  X2018_7_9_d  X2018_7_10_d  \\\n",
       "0    ...   165.487123   167.240644   168.994164   170.747685    172.501205   \n",
       "1    ...    40.907214    40.910783    41.008957    41.155804     41.327690   \n",
       "2    ...    86.185403    86.498657    86.820665    87.145067     87.470123   \n",
       "3    ...   115.646262   116.092716   116.606807   117.153744    117.716633   \n",
       "4    ...    69.132699    69.842315    70.551932    71.261548     71.971164   \n",
       "..   ...          ...          ...          ...          ...           ...   \n",
       "195  ...     5.020131     5.019469     5.019271     5.019212      5.019194   \n",
       "196  ...     8.250216     8.242835     8.238558     8.236079      8.234642   \n",
       "197  ...     6.119211     6.022374     5.951018     5.898439      5.859696   \n",
       "198  ...     4.194343     4.178976     4.166687     4.156858      4.148998   \n",
       "199  ...     5.857727     5.857988     5.858066     5.858089      5.858096   \n",
       "\n",
       "       X2018_7_m    X2018_8_m    X2018_9_m    X2018_10_m    X2018_11_m  \n",
       "0    5673.692192  7358.825438  8725.915274  10674.732795  11934.857877  \n",
       "1    1340.126366  1507.873415  1640.785691   1883.083680   2003.892400  \n",
       "2    2787.029755  3084.692493  3282.837727   3699.838809   3878.140613  \n",
       "3    3774.673963  4311.681047  4701.416845   5404.580433   5759.061412  \n",
       "4    2363.094753  3045.036151  3596.108219   4386.920836   4894.706301  \n",
       "..           ...          ...          ...           ...           ...  \n",
       "195   156.157243   155.594776   150.575589    155.594776    150.575589  \n",
       "196   255.851157   255.212527   246.979865    255.212527    246.979865  \n",
       "197   184.724749   178.287836   172.536133    178.287338    172.536133  \n",
       "198   128.815960   127.646984   123.528231    127.645837    123.528230  \n",
       "199   181.374654   181.601065   175.742966    181.601065    175.742966  \n",
       "\n",
       "[200 rows x 40 columns]"
      ]
     },
     "execution_count": 8,
     "metadata": {},
     "output_type": "execute_result"
    }
   ],
   "source": [
    "output2"
   ]
  }
 ],
 "metadata": {
  "kernelspec": {
   "display_name": "Python 3",
   "language": "python",
   "name": "python3"
  },
  "language_info": {
   "codemirror_mode": {
    "name": "ipython",
    "version": 3
   },
   "file_extension": ".py",
   "mimetype": "text/x-python",
   "name": "python",
   "nbconvert_exporter": "python",
   "pygments_lexer": "ipython3",
   "version": "3.7.4"
  }
 },
 "nbformat": 4,
 "nbformat_minor": 2
}
