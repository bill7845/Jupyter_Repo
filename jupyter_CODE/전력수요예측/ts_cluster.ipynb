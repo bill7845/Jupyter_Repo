{
 "cells": [
  {
   "cell_type": "code",
   "execution_count": 1,
   "metadata": {},
   "outputs": [],
   "source": [
    "import pandas as pd\n",
    "import matplotlib.pyplot as plt\n",
    "import numpy as np\n",
    "%matplotlib inline\n",
    "\n",
    "from tslearn.clustering import TimeSeriesKMeans\n",
    "from tslearn.datasets import CachedDatasets\n",
    "from tslearn.preprocessing import TimeSeriesScalerMeanVariance, \\\n",
    "    TimeSeriesResampler\n",
    "from tslearn.utils import to_time_series\n",
    "from tslearn.utils import to_time_series_dataset\n",
    "from tslearn.datasets import UCR_UEA_datasets\n",
    "from tslearn.clustering import TimeSeriesKMeans"
   ]
  },
  {
   "cell_type": "code",
   "execution_count": 2,
   "metadata": {},
   "outputs": [],
   "source": [
    "from matplotlib import font_manager, rc\n",
    "import matplotlib\n",
    "\n",
    "#한글 폰트 등록\n",
    "font_location = \"c:/Windows/fonts/malgun.ttf\"\n",
    "font_name = font_manager.FontProperties(fname=font_location).get_name()\n",
    "matplotlib.rc('font', family=font_name)"
   ]
  },
  {
   "cell_type": "code",
   "execution_count": 3,
   "metadata": {},
   "outputs": [],
   "source": [
    "# import pandas as pd\n",
    "\n",
    "# # 판다스 데이터프레임(DataFrame)을 출력할 때, 최대 출력할 수 있는 컬럼을 100개로 늘려줍니다.\n",
    "# # 이렇게 해야 데이터를 분석할 때 출력해서 확인하기 편합니다.\n",
    "pd.options.display.max_columns = 100\n",
    "pd.options.display.max_rows = 100"
   ]
  },
  {
   "cell_type": "code",
   "execution_count": 4,
   "metadata": {},
   "outputs": [],
   "source": [
    "train = pd.read_csv('C:/Users/KIHyuk/Desktop/전력수요예측/train.csv')\n",
    "test = pd.read_csv('C:/Users/KIHyuk/Desktop/전력수요예측/test.csv')"
   ]
  },
  {
   "cell_type": "code",
   "execution_count": 5,
   "metadata": {
    "scrolled": false
   },
   "outputs": [
    {
     "data": {
      "text/plain": [
       "<matplotlib.axes._subplots.AxesSubplot at 0x2277db23348>"
      ]
     },
     "execution_count": 5,
     "metadata": {},
     "output_type": "execute_result"
    },
    {
     "data": {
      "image/png": "[encoded data removed]",
      "text/plain": [
       "<Figure size 1080x720 with 1 Axes>"
      ]
     },
     "metadata": {
      "needs_background": "light"
     },
     "output_type": "display_data"
    }
   ],
   "source": [
    "# 결측치 갯수 시각화\n",
    "test.isnull().sum().sort_values(ascending=True).plot(kind='bar',figsize=(15,10))"
   ]
  },
  {
   "cell_type": "code",
   "execution_count": 6,
   "metadata": {},
   "outputs": [],
   "source": [
    "##### train 결측치 채우기"
   ]
  },
  {
   "cell_type": "markdown",
   "metadata": {},
   "source": [
    "> 직전시간대의 전력수요량이 과다측정된경우의 결측값 처리"
   ]
  },
  {
   "cell_type": "code",
   "execution_count": 7,
   "metadata": {
    "scrolled": false
   },
   "outputs": [
    {
     "name": "stdout",
     "output_type": "stream",
     "text": [
      "50 번째 실행중\n",
      "100 번째 실행중\n",
      "150 번째 실행중\n",
      "200 번째 실행중\n",
      "250 번째 실행중\n",
      "300 번째 실행중\n",
      "350 번째 실행중\n",
      "400 번째 실행중\n",
      "450 번째 실행중\n",
      "500 번째 실행중\n",
      "550 번째 실행중\n",
      "600 번째 실행중\n",
      "650 번째 실행중\n",
      "700 번째 실행중\n",
      "750 번째 실행중\n",
      "800 번째 실행중\n",
      "850 번째 실행중\n",
      "900 번째 실행중\n",
      "950 번째 실행중\n",
      "1000 번째 실행중\n",
      "1050 번째 실행중\n",
      "1100 번째 실행중\n",
      "1150 번째 실행중\n",
      "1200 번째 실행중\n",
      "1250 번째 실행중\n",
      "1300 번째 실행중\n"
     ]
    }
   ],
   "source": [
    "for k in range(1,len(train.columns) ): #시간을 제외한 1열부터 마지막 열까지를 for문으로 작동시킵니다.\n",
    "    train_median=train.iloc[:,k].median() #값을 대체하는 과정에서 값이 변경 될 것을 대비해 해당 세대의 중앙값을 미리 계산하고 시작합니다.\n",
    "    counting=train.loc[ train.iloc[:,k].isnull()==False ][ train.columns[k] ].index\n",
    "\n",
    "    df=pd.DataFrame( list( zip( counting[:-1], counting[1:] - counting[:-1] -1  ) ), columns=['index','count'] )\n",
    "    \n",
    "    df2= df[ (df['count'] > 0) ] #결측치가 존재하는 부분만 추출\n",
    "    df2=df2.reset_index(drop=True) #기존에 존재하는 index를 초기화 하여 이후 for문에 사용함\n",
    "\n",
    "    for i,j in zip( df2['index'], df2['count'] ) : # i = 해당 세대에서 값이 존재하는 index, j = 현재 index 밑의 결측치 갯수\n",
    "        if train.iloc[i,k]>=train_median: #현재 index에 존재하는 값이 해당 세대의 중앙 값 이상일때만 분산처리 실행\n",
    "            train.iloc[ i : i+j+1 , k] = train.iloc[i,k] / (j+1) \n",
    "            #현재 index 및 결측치의 갯수 만큼 지정을 하여, 현재 index에 있는 값을 해당 갯수만큼 나누어 줍니다\n",
    "        else:\n",
    "            pass\n",
    "            #현재 index에 존재하는 값이 중앙 값 미만이면 pass를 실행\n",
    "    if k%50==0: #for문 진행정도 확인용\n",
    "            print(k,\"번째 실행중\")"
   ]
  },
  {
   "cell_type": "code",
   "execution_count": 8,
   "metadata": {
    "scrolled": true
   },
   "outputs": [
    {
     "name": "stdout",
     "output_type": "stream",
     "text": [
      "50 번째 실행중\n",
      "100 번째 실행중\n",
      "150 번째 실행중\n",
      "200 번째 실행중\n"
     ]
    }
   ],
   "source": [
    "for k in range(1,len(test.columns) ): #시간을 제외한 1열부터 마지막 열까지를 for문으로 작동시킵니다.\n",
    "    test_median=test.iloc[:,k].median() #값을 대체하는 과정에서 값이 변경 될 것을 대비해 해당 세대의 중앙값을 미리 계산하고 시작합니다.\n",
    "    counting=test.loc[ test.iloc[:,k].isnull()==False ][ test.columns[k] ].index\n",
    "\n",
    "    df=pd.DataFrame( list( zip( counting[:-1], counting[1:] - counting[:-1] -1  ) ), columns=['index','count'] )\n",
    "    \n",
    "    df2= df[ (df['count'] > 0) ] #결측치가 존재하는 부분만 추출\n",
    "    df2=df2.reset_index(drop=True) #기존에 존재하는 index를 초기화 하여 이후 for문에 사용함\n",
    "\n",
    "    for i,j in zip( df2['index'], df2['count'] ) : # i = 해당 세대에서 값이 존재하는 index, j = 현재 index 밑의 결측치 갯수\n",
    "        if test.iloc[i,k]>=test_median: #현재 indetestx에 존재하는 값이 해당 세대의 중앙 값 이상일때만 분산처리 실행\n",
    "            test.iloc[ i : i+j+1 , k] = test.iloc[i,k] / (j+1) \n",
    "            #현재 index 및 결측치의 갯수 만큼 지정을 하여, 현재 index에 있는 값을 해당 갯수만큼 나누어 줍니다\n",
    "        else:\n",
    "            pass\n",
    "            #현재 index에 존재하는 값이 중앙 값 미만이면 pass를 실행\n",
    "    if k%50==0: #for문 진행정도 확인용\n",
    "            print(k,\"번째 실행중\")"
   ]
  },
  {
   "cell_type": "code",
   "execution_count": 9,
   "metadata": {},
   "outputs": [],
   "source": [
    "train['Time'] = train['Time'].apply(pd.to_datetime)\n",
    "train.set_index('Time',inplace=True)\n",
    "\n",
    "test['Time'] = test['Time'].apply(pd.to_datetime)\n",
    "test.set_index('Time',inplace=True)"
   ]
  },
  {
   "cell_type": "markdown",
   "metadata": {},
   "source": [
    "> 1,2차 결측치 처리 후 온전한 데이터인 2/15일 이후 부터의 데이터로 모델링 진행"
   ]
  },
  {
   "cell_type": "code",
   "execution_count": 10,
   "metadata": {},
   "outputs": [],
   "source": [
    "train_sample = train['2018-02-15':]\n",
    "train_sample = train_sample.interpolate(method='time')\n",
    "\n",
    "test_sample = test['2018-02-15':]\n",
    "test_sample = test_sample.interpolate(method='time')"
   ]
  },
  {
   "cell_type": "code",
   "execution_count": 11,
   "metadata": {
    "scrolled": true
   },
   "outputs": [
    {
     "data": {
      "text/plain": [
       "Index(['X4', 'X127', 'X9', 'X65', 'X54', 'X13', 'X53', 'X24', 'X17', 'X14',\n",
       "       'X48', 'X2', 'X19', 'X36', 'X28', 'X63', 'X38', 'X39', 'X8', 'X64',\n",
       "       'X29', 'X57', 'X705', 'X71', 'X3', 'X27', 'X22', 'X21', 'X118', 'X6',\n",
       "       'X45', 'X40', 'X66', 'X52', 'X12', 'X49', 'X1', 'X33', 'X60', 'X46',\n",
       "       'X963', 'X56', 'X15', 'X11', 'X25', 'X34', 'X23', 'X58'],\n",
       "      dtype='object')"
      ]
     },
     "execution_count": 11,
     "metadata": {},
     "output_type": "execute_result"
    }
   ],
   "source": [
    "#결측값 가진 행 제거 - 데이터가 아예 없는 경우\n",
    "train_sample.loc[:,train_sample.isnull().sum() >= 1].columns"
   ]
  },
  {
   "cell_type": "code",
   "execution_count": 12,
   "metadata": {
    "scrolled": true
   },
   "outputs": [
    {
     "data": {
      "text/plain": [
       "Index(['X26', 'X16', 'X7', 'X18', 'X41', 'X55', 'X5', 'X43', 'X59', 'X10',\n",
       "       'X62', 'X61', 'X32', 'X31', 'X30', 'X51', 'X35', 'X44', 'X37', 'X42',\n",
       "       'X50', 'X47', 'X20'],\n",
       "      dtype='object')"
      ]
     },
     "execution_count": 12,
     "metadata": {},
     "output_type": "execute_result"
    }
   ],
   "source": [
    "#결측값 가진 행 제거 - 데이터가 아예 없는 경우\n",
    "test_sample.loc[:,test_sample.isnull().sum() >= 1].columns"
   ]
  },
  {
   "cell_type": "code",
   "execution_count": 13,
   "metadata": {},
   "outputs": [],
   "source": [
    "train_sample.drop(['X4', 'X127', 'X9', 'X65', 'X54', 'X13', 'X53', 'X24', 'X17', 'X14',\n",
    "       'X48', 'X2', 'X19', 'X36', 'X28', 'X63', 'X38', 'X39', 'X8', 'X64',\n",
    "       'X29', 'X57', 'X705', 'X71', 'X3', 'X27', 'X22', 'X21', 'X118', 'X6',\n",
    "       'X45', 'X40', 'X66', 'X52', 'X12', 'X49', 'X1', 'X33', 'X60', 'X46',\n",
    "       'X963', 'X56', 'X15', 'X11', 'X25', 'X34', 'X23', 'X58'], axis=1, inplace=True)\n",
    "\n",
    "test_sample.drop(['X26', 'X16', 'X7', 'X18', 'X41', 'X55', 'X5', 'X43', 'X59', 'X10',\n",
    "       'X62', 'X61', 'X32', 'X31', 'X30', 'X51', 'X35', 'X44', 'X37', 'X42',\n",
    "       'X50', 'X47', 'X20'],axis=1,inplace=True)"
   ]
  },
  {
   "cell_type": "markdown",
   "metadata": {},
   "source": [
    "> 시계열 패턴 분류 및 분석을 위한 데이터 전처리 <br>\n",
    "> tslearn 패키지 사용 kmeans.cluster 사용"
   ]
  },
  {
   "cell_type": "code",
   "execution_count": 14,
   "metadata": {},
   "outputs": [],
   "source": [
    "tmp_list = []\n",
    "\n",
    "for i in range(len(train_sample.columns)):\n",
    "    tmp_list.append(train_sample.iloc[:,i].values)\n",
    "\n",
    "to_formatted = np.array(tmp_list)\n",
    "\n",
    "formatted = to_time_series_dataset(to_formatted)"
   ]
  },
  {
   "cell_type": "code",
   "execution_count": 15,
   "metadata": {},
   "outputs": [
    {
     "data": {
      "text/plain": [
       "(1252, 3264, 1)"
      ]
     },
     "execution_count": 15,
     "metadata": {},
     "output_type": "execute_result"
    }
   ],
   "source": [
    "# tslearn input data\n",
    "formatted.shape"
   ]
  },
  {
   "cell_type": "markdown",
   "metadata": {},
   "source": [
    "> train_sample 데이터를 10개의 군집으로 분류"
   ]
  },
  {
   "cell_type": "code",
   "execution_count": 16,
   "metadata": {
    "scrolled": false
   },
   "outputs": [
    {
     "name": "stdout",
     "output_type": "stream",
     "text": [
      "Init 1\n",
      "248.286 --> 167.315 --> 162.079 --> 160.984 --> 160.588 --> 160.259 --> 160.021 --> 159.866 --> 159.805 --> 159.767 --> 159.740 --> 159.724 --> 159.716 --> 159.712 --> 159.711 --> 159.710 --> 159.710 --> \n",
      "Init 2\n",
      "254.454 --> 181.319 --> 176.362 --> 175.428 --> 174.889 --> 174.623 --> 174.470 --> 174.366 --> 174.272 --> 174.093 --> 173.105 --> 171.588 --> 170.854 --> 170.502 --> 170.298 --> 170.074 --> 169.921 --> 169.799 --> 169.739 --> 169.716 --> 169.684 --> 169.660 --> 169.633 --> 169.602 --> 169.578 --> 169.543 --> 169.500 --> 169.478 --> 169.461 --> 169.451 --> 169.442 --> 169.430 --> 169.418 --> 169.412 --> 169.404 --> 169.397 --> 169.391 --> 169.382 --> 169.373 --> 169.363 --> 169.349 --> 169.342 --> 169.339 --> 169.336 --> 169.334 --> 169.334 --> 169.334 --> \n",
      "Init 3\n",
      "264.931 --> 186.308 --> 184.771 --> 183.943 --> 182.191 --> 180.594 --> 178.526 --> 177.178 --> 176.898 --> 176.717 --> 176.674 --> 176.647 --> 176.637 --> 176.633 --> 176.629 --> 176.628 --> 176.628 --> \n",
      "Init 4\n",
      "271.426 --> 180.525 --> 177.374 --> 176.348 --> 175.702 --> 175.189 --> 174.693 --> 174.346 --> 174.145 --> 173.993 --> 173.792 --> 173.620 --> 173.400 --> 173.245 --> 173.172 --> 173.125 --> 173.065 --> 173.003 --> 172.975 --> 172.954 --> 172.930 --> 172.884 --> 172.822 --> 172.761 --> 172.726 --> 172.697 --> 172.683 --> 172.674 --> 172.667 --> 172.658 --> 172.651 --> 172.640 --> 172.634 --> 172.631 --> 172.631 --> 172.629 --> 172.629 --> \n",
      "Init 5\n",
      "241.216 --> 175.302 --> 170.573 --> 168.802 --> 168.577 --> 168.497 --> 168.460 --> 168.451 --> 168.450 --> 168.450 --> \n",
      "Init 6\n",
      "253.989 --> 160.477 --> 158.407 --> 157.649 --> 157.611 --> 157.580 --> 157.535 --> 157.483 --> 157.449 --> 157.436 --> 157.421 --> 157.405 --> 157.383 --> 157.362 --> 157.348 --> 157.334 --> 157.311 --> 157.281 --> 157.274 --> 157.269 --> 157.267 --> 157.267 --> 157.267 --> \n",
      "Init 7\n",
      "260.441 --> 183.974 --> 180.411 --> 178.590 --> 175.762 --> 172.947 --> 171.687 --> 171.340 --> 171.051 --> 170.676 --> 170.140 --> 169.702 --> 169.453 --> 169.332 --> 169.234 --> 169.179 --> 169.128 --> 169.096 --> 169.067 --> 169.036 --> 168.999 --> 168.953 --> 168.920 --> 168.891 --> 168.840 --> 168.808 --> 168.782 --> 168.755 --> 168.740 --> 168.730 --> 168.725 --> 168.717 --> 168.715 --> 168.713 --> 168.711 --> 168.706 --> 168.703 --> 168.703 --> 168.702 --> 168.701 --> 168.701 --> \n",
      "Init 8\n",
      "259.889 --> 182.598 --> 178.193 --> 175.775 --> 172.612 --> 171.397 --> 169.721 --> 167.099 --> 166.603 --> 166.074 --> 165.590 --> 165.172 --> 165.012 --> 164.882 --> 164.779 --> 164.693 --> 164.638 --> 164.605 --> 164.582 --> 164.571 --> 164.566 --> 164.563 --> 164.559 --> 164.556 --> 164.556 --> 164.555 --> 164.554 --> 164.553 --> 164.549 --> 164.549 --> \n",
      "Init 9\n",
      "260.050 --> 163.846 --> 159.121 --> 158.761 --> 158.600 --> 158.551 --> 158.533 --> 158.517 --> 158.509 --> 158.506 --> 158.505 --> 158.503 --> 158.501 --> 158.500 --> 158.500 --> 158.500 --> \n",
      "Init 10\n",
      "255.712 --> 176.501 --> 173.426 --> 172.588 --> 171.096 --> 169.980 --> 169.745 --> 169.586 --> 169.477 --> 169.430 --> 169.407 --> 169.377 --> 169.352 --> 169.325 --> 169.294 --> 169.265 --> 169.220 --> 169.188 --> 169.171 --> 169.154 --> 169.144 --> 169.136 --> 169.124 --> 169.113 --> 169.108 --> 169.100 --> 169.092 --> 169.086 --> 169.077 --> 169.068 --> 169.058 --> 169.044 --> 169.037 --> 169.034 --> 169.032 --> 169.029 --> 169.029 --> 169.029 --> \n"
     ]
    }
   ],
   "source": [
    "km = TimeSeriesKMeans(n_clusters=10,verbose=True,n_init=10,random_state=0)\n",
    "y_pred = km.fit_predict(formatted)"
   ]
  },
  {
   "cell_type": "markdown",
   "metadata": {},
   "source": [
    "> 분류된 trains_sample 데이터의 군집별 패턴 파악"
   ]
  },
  {
   "cell_type": "code",
   "execution_count": 17,
   "metadata": {
    "scrolled": false
   },
   "outputs": [
    {
     "data": {
      "image/png": "[encoded data removed]",
      "text/plain": [
       "<Figure size 864x576 with 10 Axes>"
      ]
     },
     "metadata": {
      "needs_background": "light"
     },
     "output_type": "display_data"
    }
   ],
   "source": [
    "plt.figure(figsize=(12,8))\n",
    "for yi in range(10):\n",
    "    plt.subplot(10,1, yi+1)\n",
    "    plt.plot(km.cluster_centers_[yi].ravel(), \"r-\")"
   ]
  },
  {
   "cell_type": "code",
   "execution_count": 18,
   "metadata": {},
   "outputs": [],
   "source": [
    "# predict = pd.DataFrame(km.predict(formatted))\n",
    "# predict.columns=['predict']"
   ]
  },
  {
   "cell_type": "code",
   "execution_count": 19,
   "metadata": {},
   "outputs": [],
   "source": [
    "data = {'target' : train_sample.columns,\n",
    "       'cluster' : km.predict(formatted)\n",
    "       }\n",
    "\n",
    "cluster_frame = pd.DataFrame(data)"
   ]
  },
  {
   "cell_type": "code",
   "execution_count": 20,
   "metadata": {
    "scrolled": true
   },
   "outputs": [
    {
     "data": {
      "text/html": [
       "<div>\n",
       "<style scoped>\n",
       "    .dataframe tbody tr th:only-of-type {\n",
       "        vertical-align: middle;\n",
       "    }\n",
       "\n",
       "    .dataframe tbody tr th {\n",
       "        vertical-align: top;\n",
       "    }\n",
       "\n",
       "    .dataframe thead th {\n",
       "        text-align: right;\n",
       "    }\n",
       "</style>\n",
       "<table border=\"1\" class=\"dataframe\">\n",
       "  <thead>\n",
       "    <tr style=\"text-align: right;\">\n",
       "      <th></th>\n",
       "      <th>target</th>\n",
       "      <th>cluster</th>\n",
       "    </tr>\n",
       "  </thead>\n",
       "  <tbody>\n",
       "    <tr>\n",
       "      <td>0</td>\n",
       "      <td>X692</td>\n",
       "      <td>8</td>\n",
       "    </tr>\n",
       "    <tr>\n",
       "      <td>1</td>\n",
       "      <td>X1272</td>\n",
       "      <td>8</td>\n",
       "    </tr>\n",
       "    <tr>\n",
       "      <td>2</td>\n",
       "      <td>X553</td>\n",
       "      <td>4</td>\n",
       "    </tr>\n",
       "    <tr>\n",
       "      <td>3</td>\n",
       "      <td>X1299</td>\n",
       "      <td>0</td>\n",
       "    </tr>\n",
       "    <tr>\n",
       "      <td>4</td>\n",
       "      <td>X598</td>\n",
       "      <td>0</td>\n",
       "    </tr>\n",
       "  </tbody>\n",
       "</table>\n",
       "</div>"
      ],
      "text/plain": [
       "  target  cluster\n",
       "0   X692        8\n",
       "1  X1272        8\n",
       "2   X553        4\n",
       "3  X1299        0\n",
       "4   X598        0"
      ]
     },
     "execution_count": 20,
     "metadata": {},
     "output_type": "execute_result"
    }
   ],
   "source": [
    "cluster_frame.head()"
   ]
  },
  {
   "cell_type": "code",
   "execution_count": 21,
   "metadata": {
    "scrolled": false
   },
   "outputs": [
    {
     "data": {
      "text/plain": [
       "cluster\n",
       "0    365\n",
       "1      1\n",
       "2      1\n",
       "3     12\n",
       "4    249\n",
       "5      1\n",
       "6      2\n",
       "7      1\n",
       "8    618\n",
       "9      2\n",
       "dtype: int64"
      ]
     },
     "execution_count": 21,
     "metadata": {},
     "output_type": "execute_result"
    }
   ],
   "source": [
    "# 군집별 갯수 파악\n",
    "cluster_frame.groupby('cluster').size()"
   ]
  },
  {
   "cell_type": "markdown",
   "metadata": {},
   "source": [
    "> 0 군집을 대상으로 모델링 진행"
   ]
  },
  {
   "cell_type": "code",
   "execution_count": 22,
   "metadata": {},
   "outputs": [],
   "source": [
    "cluster_0 = cluster_frame[cluster_frame.cluster ==0]['target'].values"
   ]
  },
  {
   "cell_type": "markdown",
   "metadata": {},
   "source": [
    "> train_sample의 패턴별 군집에 맞추어 test 세대를 군집 분류 <br>\n",
    "> train세대와 test세대는 서로 다른 세대임(중복x)"
   ]
  },
  {
   "cell_type": "code",
   "execution_count": 23,
   "metadata": {},
   "outputs": [],
   "source": [
    "## cluster test set"
   ]
  },
  {
   "cell_type": "code",
   "execution_count": 24,
   "metadata": {},
   "outputs": [],
   "source": [
    "tmp_test_list = []\n",
    "\n",
    "for i in range(len(test_sample.columns)):\n",
    "    tmp_test_list.append(test_sample.iloc[:,i].values)\n",
    "\n",
    "to_test_formatted = np.array(tmp_test_list)\n",
    "\n",
    "test_formatted = to_time_series_dataset(to_test_formatted)"
   ]
  },
  {
   "cell_type": "code",
   "execution_count": 25,
   "metadata": {},
   "outputs": [],
   "source": [
    "data = {'target' : test_sample.columns,\n",
    "       'cluster' : km.predict(test_formatted)\n",
    "       }\n",
    "\n",
    "cluster_test_frame = pd.DataFrame(data)"
   ]
  },
  {
   "cell_type": "code",
   "execution_count": 26,
   "metadata": {},
   "outputs": [
    {
     "data": {
      "text/html": [
       "<div>\n",
       "<style scoped>\n",
       "    .dataframe tbody tr th:only-of-type {\n",
       "        vertical-align: middle;\n",
       "    }\n",
       "\n",
       "    .dataframe tbody tr th {\n",
       "        vertical-align: top;\n",
       "    }\n",
       "\n",
       "    .dataframe thead th {\n",
       "        text-align: right;\n",
       "    }\n",
       "</style>\n",
       "<table border=\"1\" class=\"dataframe\">\n",
       "  <thead>\n",
       "    <tr style=\"text-align: right;\">\n",
       "      <th></th>\n",
       "      <th>target</th>\n",
       "      <th>cluster</th>\n",
       "    </tr>\n",
       "  </thead>\n",
       "  <tbody>\n",
       "    <tr>\n",
       "      <td>0</td>\n",
       "      <td>X303</td>\n",
       "      <td>4</td>\n",
       "    </tr>\n",
       "    <tr>\n",
       "      <td>1</td>\n",
       "      <td>X241</td>\n",
       "      <td>0</td>\n",
       "    </tr>\n",
       "    <tr>\n",
       "      <td>2</td>\n",
       "      <td>X435</td>\n",
       "      <td>8</td>\n",
       "    </tr>\n",
       "    <tr>\n",
       "      <td>3</td>\n",
       "      <td>X402</td>\n",
       "      <td>8</td>\n",
       "    </tr>\n",
       "    <tr>\n",
       "      <td>4</td>\n",
       "      <td>X352</td>\n",
       "      <td>0</td>\n",
       "    </tr>\n",
       "  </tbody>\n",
       "</table>\n",
       "</div>"
      ],
      "text/plain": [
       "  target  cluster\n",
       "0   X303        4\n",
       "1   X241        0\n",
       "2   X435        8\n",
       "3   X402        8\n",
       "4   X352        0"
      ]
     },
     "execution_count": 26,
     "metadata": {},
     "output_type": "execute_result"
    }
   ],
   "source": [
    "cluster_test_frame.head()"
   ]
  },
  {
   "cell_type": "code",
   "execution_count": 27,
   "metadata": {},
   "outputs": [
    {
     "data": {
      "text/plain": [
       "cluster\n",
       "0    92\n",
       "1     1\n",
       "3    11\n",
       "4    15\n",
       "7     1\n",
       "8    57\n",
       "dtype: int64"
      ]
     },
     "execution_count": 27,
     "metadata": {},
     "output_type": "execute_result"
    }
   ],
   "source": [
    "# 군집별 개수 파악\n",
    "cluster_test_frame.groupby('cluster').size()"
   ]
  },
  {
   "cell_type": "code",
   "execution_count": 28,
   "metadata": {},
   "outputs": [],
   "source": [
    "cluster_test_0 = cluster_test_frame[cluster_test_frame.cluster == 0]['target'].values"
   ]
  },
  {
   "cell_type": "code",
   "execution_count": 29,
   "metadata": {},
   "outputs": [],
   "source": [
    "# 0,1,3,4,7,8 군집별 모델 생성"
   ]
  },
  {
   "cell_type": "code",
   "execution_count": 30,
   "metadata": {
    "scrolled": true
   },
   "outputs": [],
   "source": [
    "# RNN 네트워크에 input 형식으로 넣기위한 과정 \n",
    "# RNN의 input shape은 (timestep,feature)\n",
    "\n",
    "def to_X_train(target):\n",
    "    \n",
    "    train_sc_df = pd.DataFrame(target , columns=['Scaled'], index=train_sample.index)\n",
    "    for s in range(1, 7):\n",
    "        train_sc_df['shift_{}'.format(s)] = train_sc_df['Scaled'].shift(s)\n",
    "    X_train = train_sc_df.dropna().drop('Scaled', axis=1)\n",
    "    y_train = train_sc_df.dropna()[['Scaled']]    \n",
    "    X_train = X_train.values\n",
    "    y_train = y_train.values\n",
    "    \n",
    "    X_train_s = X_train.reshape(X_train.shape[0], 6, 1) # 6 기간의 시간씩, feature는 전력수요량 1차원\n",
    "    return X_train_s,y_train \n",
    "    "
   ]
  },
  {
   "cell_type": "code",
   "execution_count": 31,
   "metadata": {},
   "outputs": [],
   "source": [
    "ss = []\n",
    "for idx,k in enumerate(cluster_0):\n",
    "    x,y = to_X_train(train_sample[k].values)\n",
    "    ss.append([x,y])"
   ]
  },
  {
   "cell_type": "code",
   "execution_count": 32,
   "metadata": {
    "scrolled": true
   },
   "outputs": [
    {
     "name": "stderr",
     "output_type": "stream",
     "text": [
      "Using TensorFlow backend.\n"
     ]
    },
    {
     "name": "stdout",
     "output_type": "stream",
     "text": [
      "Model: \"sequential_1\"\n",
      "_________________________________________________________________\n",
      "Layer (type)                 Output Shape              Param #   \n",
      "=================================================================\n",
      "lstm_1 (LSTM)                (None, 6, 32)             4352      \n",
      "_________________________________________________________________\n",
      "lstm_2 (LSTM)                (None, 32)                8320      \n",
      "_________________________________________________________________\n",
      "dense_1 (Dense)              (None, 1)                 33        \n",
      "=================================================================\n",
      "Total params: 12,705\n",
      "Trainable params: 12,705\n",
      "Non-trainable params: 0\n",
      "_________________________________________________________________\n"
     ]
    }
   ],
   "source": [
    "from keras.layers import LSTM \n",
    "from keras.models import Sequential \n",
    "from keras.layers import Dense \n",
    "import keras.backend as K \n",
    "from keras.callbacks import EarlyStopping \n",
    "K.clear_session()\n",
    "\n",
    "model = Sequential() # Sequeatial Model \n",
    "model.add(LSTM(32, input_shape=(6, 1),return_sequences=True)) # (timestep, feature)\n",
    "# model.add(Dropout(0.1)) # overfitting을 막기 위해 10% 가량 drop\n",
    "model.add(LSTM(32, input_shape=(6, 1))) # (timestep, feature)\n",
    "# model.add(Dropout(0.1)) # overfitting을 막기 위해 10% 가량 drop\n",
    "model.add(Dense(1)) # output = 1 \n",
    "model.compile(loss='mean_squared_error', optimizer='adam') \n",
    "model.summary()"
   ]
  },
  {
   "cell_type": "code",
   "execution_count": 33,
   "metadata": {
    "scrolled": true
   },
   "outputs": [
    {
     "name": "stdout",
     "output_type": "stream",
     "text": [
      "WARNING:tensorflow:From C:\\Anaconda3\\lib\\site-packages\\keras\\backend\\tensorflow_backend.py:422: The name tf.global_variables is deprecated. Please use tf.compat.v1.global_variables instead.\n",
      "\n",
      "Epoch 1/30\n",
      "3258/3258 [==============================] - 2s 651us/step - loss: 0.0333\n",
      "Epoch 2/30\n",
      "3258/3258 [==============================] - 1s 203us/step - loss: 0.0226\n",
      "Epoch 3/30\n",
      "3258/3258 [==============================] - 1s 212us/step - loss: 0.0208\n",
      "Epoch 4/30\n",
      "3258/3258 [==============================] - 1s 208us/step - loss: 0.0194\n",
      "Epoch 5/30\n",
      "3258/3258 [==============================] - 1s 210us/step - loss: 0.0188\n",
      "Epoch 6/30\n",
      "3258/3258 [==============================] - 1s 202us/step - loss: 0.0183\n",
      "Epoch 7/30\n",
      "3258/3258 [==============================] - 1s 198us/step - loss: 0.0182\n",
      "Epoch 8/30\n",
      "3258/3258 [==============================] - 1s 215us/step - loss: 0.0179\n",
      "Epoch 9/30\n",
      "3258/3258 [==============================] - 1s 183us/step - loss: 0.0181\n",
      "Epoch 10/30\n",
      "3258/3258 [==============================] - 1s 208us/step - loss: 0.0178\n",
      "Epoch 11/30\n",
      "3258/3258 [==============================] - 1s 219us/step - loss: 0.0175\n",
      "Epoch 12/30\n",
      "3258/3258 [==============================] - 1s 203us/step - loss: 0.0176\n",
      "Epoch 13/30\n",
      "3258/3258 [==============================] - 1s 208us/step - loss: 0.0175\n",
      "Epoch 14/30\n",
      "3258/3258 [==============================] - 1s 208us/step - loss: 0.0174\n",
      "Epoch 15/30\n",
      "3258/3258 [==============================] - 1s 202us/step - loss: 0.0175\n",
      "Epoch 16/30\n",
      "3258/3258 [==============================] - 1s 211us/step - loss: 0.0177\n",
      "Epoch 17/30\n",
      "3258/3258 [==============================] - 1s 202us/step - loss: 0.0179\n",
      "Epoch 18/30\n",
      "3258/3258 [==============================] - 1s 209us/step - loss: 0.0176\n",
      "Epoch 19/30\n",
      "3258/3258 [==============================] - 1s 210us/step - loss: 0.0175\n",
      "Epoch 20/30\n",
      "3258/3258 [==============================] - 1s 206us/step - loss: 0.0178\n",
      "Epoch 21/30\n",
      "3258/3258 [==============================] - 1s 209us/step - loss: 0.0174\n",
      "Epoch 00021: early stopping\n",
      "Epoch 1/30\n",
      "3258/3258 [==============================] - 1s 208us/step - loss: 0.0095\n",
      "Epoch 2/30\n",
      "3258/3258 [==============================] - 1s 206us/step - loss: 0.0094\n",
      "Epoch 3/30\n",
      "3258/3258 [==============================] - 1s 210us/step - loss: 0.0092\n",
      "Epoch 4/30\n",
      "3258/3258 [==============================] - 1s 208us/step - loss: 0.0092\n",
      "Epoch 5/30\n",
      "3258/3258 [==============================] - 1s 209us/step - loss: 0.0092\n",
      "Epoch 6/30\n",
      "3258/3258 [==============================] - 1s 213us/step - loss: 0.0091\n",
      "Epoch 7/30\n",
      "3258/3258 [==============================] - 1s 208us/step - loss: 0.0091\n",
      "Epoch 8/30\n",
      "3258/3258 [==============================] - 1s 209us/step - loss: 0.0091\n",
      "Epoch 9/30\n",
      "3258/3258 [==============================] - 1s 207us/step - loss: 0.0091\n",
      "Epoch 10/30\n",
      "3258/3258 [==============================] - 1s 209us/step - loss: 0.0090\n",
      "Epoch 11/30\n",
      "3258/3258 [==============================] - 1s 209us/step - loss: 0.0090\n",
      "Epoch 12/30\n",
      "3258/3258 [==============================] - 1s 209us/step - loss: 0.0091\n",
      "Epoch 13/30\n",
      "3258/3258 [==============================] - 1s 217us/step - loss: 0.0091\n",
      "Epoch 14/30\n",
      "3258/3258 [==============================] - 1s 215us/step - loss: 0.0090\n",
      "Epoch 15/30\n",
      "3258/3258 [==============================] - 1s 202us/step - loss: 0.0090\n",
      "Epoch 16/30\n",
      "3258/3258 [==============================] - 1s 212us/step - loss: 0.0091\n",
      "Epoch 17/30\n",
      "3258/3258 [==============================] - 1s 209us/step - loss: 0.0090\n",
      "Epoch 18/30\n",
      "3258/3258 [==============================] - 1s 179us/step - loss: 0.0090\n",
      "Epoch 19/30\n",
      "3258/3258 [==============================] - 1s 179us/step - loss: 0.0089\n",
      "Epoch 20/30\n",
      "3258/3258 [==============================] - 1s 217us/step - loss: 0.0092\n",
      "Epoch 21/30\n",
      "3258/3258 [==============================] - 1s 211us/step - loss: 0.0090\n",
      "Epoch 22/30\n",
      "3258/3258 [==============================] - 1s 191us/step - loss: 0.0091\n",
      "Epoch 23/30\n",
      "3258/3258 [==============================] - 1s 188us/step - loss: 0.0090\n",
      "Epoch 24/30\n",
      "3258/3258 [==============================] - 1s 209us/step - loss: 0.0089\n",
      "Epoch 25/30\n",
      "3258/3258 [==============================] - 1s 193us/step - loss: 0.0089\n",
      "Epoch 26/30\n",
      "3258/3258 [==============================] - 1s 193us/step - loss: 0.0092\n",
      "Epoch 27/30\n",
      "3258/3258 [==============================] - 1s 205us/step - loss: 0.0090\n",
      "Epoch 28/30\n",
      "3258/3258 [==============================] - 1s 181us/step - loss: 0.0089\n",
      "Epoch 29/30\n",
      "3258/3258 [==============================] - 1s 186us/step - loss: 0.0089\n",
      "Epoch 30/30\n",
      "3258/3258 [==============================] - 1s 206us/step - loss: 0.0090\n",
      "Epoch 1/30\n",
      "3258/3258 [==============================] - 1s 196us/step - loss: 0.0102\n",
      "Epoch 2/30\n",
      "3258/3258 [==============================] - 1s 198us/step - loss: 0.0099\n",
      "Epoch 3/30\n",
      "3258/3258 [==============================] - 1s 197us/step - loss: 0.0100\n",
      "Epoch 4/30\n",
      "3258/3258 [==============================] - 1s 219us/step - loss: 0.0099\n",
      "Epoch 5/30\n",
      "3258/3258 [==============================] - 1s 201us/step - loss: 0.0099\n",
      "Epoch 6/30\n",
      "3258/3258 [==============================] - 1s 217us/step - loss: 0.0099\n",
      "Epoch 7/30\n",
      "3258/3258 [==============================] - 1s 193us/step - loss: 0.0099\n",
      "Epoch 8/30\n",
      "3258/3258 [==============================] - 1s 202us/step - loss: 0.0100\n",
      "Epoch 9/30\n",
      "3258/3258 [==============================] - 1s 198us/step - loss: 0.0099\n",
      "Epoch 10/30\n",
      "3258/3258 [==============================] - 1s 198us/step - loss: 0.0100\n",
      "Epoch 11/30\n",
      "3258/3258 [==============================] - 1s 196us/step - loss: 0.0099\n",
      "Epoch 12/30\n",
      "3258/3258 [==============================] - 1s 204us/step - loss: 0.0100\n",
      "Epoch 13/30\n",
      "3258/3258 [==============================] - 1s 196us/step - loss: 0.0099\n",
      "Epoch 14/30\n",
      "3258/3258 [==============================] - 1s 197us/step - loss: 0.0099\n",
      "Epoch 15/30\n",
      "3258/3258 [==============================] - 1s 197us/step - loss: 0.0100\n",
      "Epoch 16/30\n",
      "3258/3258 [==============================] - 1s 205us/step - loss: 0.0099\n",
      "Epoch 17/30\n",
      "3258/3258 [==============================] - 1s 196us/step - loss: 0.0099\n",
      "Epoch 18/30\n",
      "3258/3258 [==============================] - 1s 197us/step - loss: 0.0098\n",
      "Epoch 19/30\n",
      "3258/3258 [==============================] - 1s 196us/step - loss: 0.0097\n",
      "Epoch 20/30\n",
      "3258/3258 [==============================] - 1s 196us/step - loss: 0.0099\n",
      "Epoch 21/30\n",
      "3258/3258 [==============================] - 1s 197us/step - loss: 0.0099\n",
      "Epoch 22/30\n",
      "3258/3258 [==============================] - 1s 198us/step - loss: 0.0099\n",
      "Epoch 23/30\n",
      "3258/3258 [==============================] - 1s 201us/step - loss: 0.0098\n",
      "Epoch 24/30\n",
      "3258/3258 [==============================] - 1s 195us/step - loss: 0.0098\n",
      "Epoch 25/30\n",
      "3258/3258 [==============================] - 1s 199us/step - loss: 0.0098\n",
      "Epoch 26/30\n",
      "3258/3258 [==============================] - 1s 201us/step - loss: 0.0100\n",
      "Epoch 00026: early stopping\n",
      "Epoch 1/30\n",
      "3258/3258 [==============================] - 1s 189us/step - loss: 0.0178\n",
      "Epoch 2/30\n",
      "3258/3258 [==============================] - 1s 198us/step - loss: 0.0173\n",
      "Epoch 3/30\n",
      "3258/3258 [==============================] - 1s 196us/step - loss: 0.0171\n",
      "Epoch 4/30\n",
      "3258/3258 [==============================] - 1s 197us/step - loss: 0.0165\n",
      "Epoch 5/30\n",
      "3258/3258 [==============================] - 1s 204us/step - loss: 0.0168\n",
      "Epoch 6/30\n",
      "3258/3258 [==============================] - 1s 197us/step - loss: 0.0165\n",
      "Epoch 7/30\n",
      "3258/3258 [==============================] - 1s 198us/step - loss: 0.0167\n",
      "Epoch 8/30\n",
      "3258/3258 [==============================] - 1s 204us/step - loss: 0.0166\n",
      "Epoch 9/30\n",
      "3258/3258 [==============================] - 1s 196us/step - loss: 0.0166\n",
      "Epoch 10/30\n",
      "3258/3258 [==============================] - 1s 194us/step - loss: 0.0165\n",
      "Epoch 11/30\n",
      "3258/3258 [==============================] - 1s 194us/step - loss: 0.0166\n",
      "Epoch 12/30\n",
      "3258/3258 [==============================] - 1s 195us/step - loss: 0.0165\n",
      "Epoch 13/30\n",
      "3258/3258 [==============================] - 1s 199us/step - loss: 0.0166\n",
      "Epoch 14/30\n",
      "3258/3258 [==============================] - 1s 205us/step - loss: 0.0165\n",
      "Epoch 15/30\n",
      "3258/3258 [==============================] - 1s 205us/step - loss: 0.0165\n",
      "Epoch 16/30\n"
     ]
    },
    {
     "name": "stdout",
     "output_type": "stream",
     "text": [
      "3258/3258 [==============================] - 1s 199us/step - loss: 0.0164\n",
      "Epoch 17/30\n",
      "3258/3258 [==============================] - 1s 197us/step - loss: 0.0165\n",
      "Epoch 18/30\n",
      "3258/3258 [==============================] - 1s 198us/step - loss: 0.0167\n",
      "Epoch 19/30\n",
      "3258/3258 [==============================] - 1s 195us/step - loss: 0.0167\n",
      "Epoch 20/30\n",
      "3258/3258 [==============================] - 1s 204us/step - loss: 0.0166\n",
      "Epoch 21/30\n",
      "3258/3258 [==============================] - 1s 195us/step - loss: 0.0166\n",
      "Epoch 22/30\n",
      "3258/3258 [==============================] - 1s 205us/step - loss: 0.0165\n",
      "Epoch 23/30\n",
      "3258/3258 [==============================] - 1s 199us/step - loss: 0.0164\n",
      "Epoch 00023: early stopping\n",
      "Epoch 1/30\n",
      "3258/3258 [==============================] - 1s 196us/step - loss: 0.0054\n",
      "Epoch 2/30\n",
      "3258/3258 [==============================] - 1s 199us/step - loss: 0.0052\n",
      "Epoch 3/30\n",
      "3258/3258 [==============================] - 1s 200us/step - loss: 0.0051\n",
      "Epoch 4/30\n",
      "3258/3258 [==============================] - 1s 195us/step - loss: 0.0051\n",
      "Epoch 5/30\n",
      "3258/3258 [==============================] - 1s 197us/step - loss: 0.0051\n",
      "Epoch 6/30\n",
      "3258/3258 [==============================] - 1s 204us/step - loss: 0.0051\n",
      "Epoch 7/30\n",
      "3258/3258 [==============================] - 1s 194us/step - loss: 0.0050\n",
      "Epoch 8/30\n",
      "3258/3258 [==============================] - 1s 196us/step - loss: 0.0050\n",
      "Epoch 9/30\n",
      "3258/3258 [==============================] - 1s 198us/step - loss: 0.0050\n",
      "Epoch 10/30\n",
      "3258/3258 [==============================] - 1s 203us/step - loss: 0.0050\n",
      "Epoch 11/30\n",
      "3258/3258 [==============================] - 1s 192us/step - loss: 0.0050\n",
      "Epoch 12/30\n",
      "3258/3258 [==============================] - 1s 192us/step - loss: 0.0050\n",
      "Epoch 13/30\n",
      "3258/3258 [==============================] - 1s 190us/step - loss: 0.0050\n",
      "Epoch 14/30\n",
      "3258/3258 [==============================] - 1s 186us/step - loss: 0.0049\n",
      "Epoch 15/30\n",
      "3258/3258 [==============================] - 1s 199us/step - loss: 0.0049\n",
      "Epoch 16/30\n",
      "3258/3258 [==============================] - 1s 178us/step - loss: 0.0049\n",
      "Epoch 17/30\n",
      "3258/3258 [==============================] - 1s 176us/step - loss: 0.0049\n",
      "Epoch 18/30\n",
      "3258/3258 [==============================] - 1s 200us/step - loss: 0.0050\n",
      "Epoch 19/30\n",
      "3258/3258 [==============================] - 1s 180us/step - loss: 0.0049\n",
      "Epoch 20/30\n",
      "3258/3258 [==============================] - 1s 171us/step - loss: 0.0050\n",
      "Epoch 21/30\n",
      "3258/3258 [==============================] - 1s 177us/step - loss: 0.0049\n",
      "Epoch 22/30\n",
      "3258/3258 [==============================] - 1s 162us/step - loss: 0.0050\n",
      "Epoch 23/30\n",
      "3258/3258 [==============================] - 1s 188us/step - loss: 0.0049\n",
      "Epoch 24/30\n",
      "3258/3258 [==============================] - 1s 186us/step - loss: 0.0049\n",
      "Epoch 25/30\n",
      "3258/3258 [==============================] - 1s 181us/step - loss: 0.0049\n",
      "Epoch 26/30\n",
      "3258/3258 [==============================] - 1s 181us/step - loss: 0.0049\n",
      "Epoch 27/30\n",
      "3258/3258 [==============================] - 1s 191us/step - loss: 0.0050\n",
      "Epoch 28/30\n",
      "3258/3258 [==============================] - 1s 198us/step - loss: 0.0049\n",
      "Epoch 29/30\n",
      "3258/3258 [==============================] - 1s 191us/step - loss: 0.0049\n",
      "Epoch 30/30\n",
      "3258/3258 [==============================] - 1s 168us/step - loss: 0.0049\n"
     ]
    }
   ],
   "source": [
    "# 모델 학습\n",
    "early_stop = EarlyStopping(monitor='loss', patience=7, verbose=1)\n",
    "\n",
    "for i in range(5):\n",
    "    model.fit(ss[i][0],ss[i][1], epochs=30, batch_size=52, verbose=1, callbacks=[early_stop])"
   ]
  },
  {
   "cell_type": "code",
   "execution_count": 34,
   "metadata": {},
   "outputs": [],
   "source": [
    "def to_X_test(target):\n",
    "    \n",
    "    test_sc_df = pd.DataFrame(target , columns=['Scaled'], index=test_sample.index)\n",
    "    for s in range(1, 7):\n",
    "        test_sc_df['shift_{}'.format(s)] = test_sc_df['Scaled'].shift(s)\n",
    "    X_test = test_sc_df.dropna().drop('Scaled', axis=1)\n",
    "    y_test = test_sc_df.dropna()[['Scaled']]    \n",
    "    X_test = X_test.values\n",
    "    y_test = y_test.values\n",
    "    \n",
    "    X_test_t = X_test.reshape(X_test.shape[0], 6, 1)\n",
    "    return X_test_t,y_test"
   ]
  },
  {
   "cell_type": "code",
   "execution_count": 35,
   "metadata": {},
   "outputs": [],
   "source": [
    "ss_test = []\n",
    "for idx,k in enumerate(cluster_test_0):\n",
    "    x,y = to_X_test(test_sample[k].values)\n",
    "    ss_test.append([x,y])"
   ]
  },
  {
   "cell_type": "code",
   "execution_count": 43,
   "metadata": {},
   "outputs": [
    {
     "name": "stdout",
     "output_type": "stream",
     "text": [
      "[[0.09487619]\n",
      " [0.08623376]\n",
      " [0.08568147]\n",
      " ...\n",
      " [0.21115771]\n",
      " [0.19647005]\n",
      " [0.25871256]]\n"
     ]
    }
   ],
   "source": [
    "y_pred = model.predict(ss_test[1][0])\n",
    "print(y_pred)"
   ]
  },
  {
   "cell_type": "code",
   "execution_count": 44,
   "metadata": {},
   "outputs": [
    {
     "data": {
      "text/plain": [
       "[<matplotlib.lines.Line2D at 0x22724df3b88>]"
      ]
     },
     "execution_count": 44,
     "metadata": {},
     "output_type": "execute_result"
    },
    {
     "data": {
      "image/png": "[encoded data removed]",
      "text/plain": [
       "<Figure size 432x288 with 1 Axes>"
      ]
     },
     "metadata": {
      "needs_background": "light"
     },
     "output_type": "display_data"
    }
   ],
   "source": [
    "plt.figure()\n",
    "plt.plot(ss_test[1][1])"
   ]
  },
  {
   "cell_type": "code",
   "execution_count": 45,
   "metadata": {
    "scrolled": false
   },
   "outputs": [
    {
     "data": {
      "text/plain": [
       "[<matplotlib.lines.Line2D at 0x22725258d08>]"
      ]
     },
     "execution_count": 45,
     "metadata": {},
     "output_type": "execute_result"
    },
    {
     "data": {
      "image/png": "[encoded data removed]",
      "text/plain": [
       "<Figure size 432x288 with 1 Axes>"
      ]
     },
     "metadata": {
      "needs_background": "light"
     },
     "output_type": "display_data"
    }
   ],
   "source": [
    "plt.figure()\n",
    "plt.plot(y_pred)"
   ]
  },
  {
   "cell_type": "code",
   "execution_count": null,
   "metadata": {},
   "outputs": [],
   "source": []
  },
  {
   "cell_type": "code",
   "execution_count": null,
   "metadata": {},
   "outputs": [],
   "source": []
  },
  {
   "cell_type": "code",
   "execution_count": null,
   "metadata": {},
   "outputs": [],
   "source": []
  },
  {
   "cell_type": "code",
   "execution_count": null,
   "metadata": {},
   "outputs": [],
   "source": []
  },
  {
   "cell_type": "code",
   "execution_count": null,
   "metadata": {},
   "outputs": [],
   "source": []
  },
  {
   "cell_type": "code",
   "execution_count": null,
   "metadata": {},
   "outputs": [],
   "source": []
  },
  {
   "cell_type": "code",
   "execution_count": null,
   "metadata": {},
   "outputs": [],
   "source": []
  },
  {
   "cell_type": "code",
   "execution_count": null,
   "metadata": {},
   "outputs": [],
   "source": []
  },
  {
   "cell_type": "code",
   "execution_count": null,
   "metadata": {},
   "outputs": [],
   "source": []
  },
  {
   "cell_type": "code",
   "execution_count": null,
   "metadata": {},
   "outputs": [],
   "source": []
  },
  {
   "cell_type": "code",
   "execution_count": null,
   "metadata": {},
   "outputs": [],
   "source": []
  },
  {
   "cell_type": "markdown",
   "metadata": {},
   "source": [
    "# 1. 문제의 정의\n",
    "\n",
    "> 시계열 데이터를 활용한 예측 모델링을 구현하는 문제이다 <br>\n",
    "> 주어진 시계열 데이터를 사용할 모델의 형식에 맞추어 처리한 후 모델들중 가장 성능이 우수한 모델을 채택하였다. <br>\n",
    "> 사용한 모델은 SMA,WMA,HOLT,ARIMA등 전통적 시계열 분석 기법과 RNN 기법 등 최대한 많은 모델을 직접 다루어 본다. <br>\n",
    "> 어떤 Feature, 즉 전력수요량에 영향을 미치는 요소를 찾아내는것과 그 요소를 모델링에 반영하는것이 중요한 과제이다.\n",
    "> 이 문제에서 특이한 점은 <b>첫째,</b> 결측값이 굉장히 많다.(본문 그래프 참조) 따라서 결측값을 어떻게 다룰것인가 또한 중요한 변수이다. <br> <b>둘째,</b> Train과 Test에서의 예측되어야하는 세대가 다르다는점이다. 즉, A세대의 수요량 예측모델을 활용하여 B세대의 수요량을 예측해야한다.\n",
    "\n",
    "<br>\n",
    "\n",
    "# 2. 데이터 탐색\n",
    "\n",
    ">  주어진 데이터는 인천시 소재 1300세대의 2016/07/20 ~ 2018/06/30까지 시간당 전력수요량 데이터(Trian)와 2017/07/01~2018/06/30까지의 인천시 소재 200세대의 시간당 전력 수요량 데이터(Test)로 구성되어있다. 앞서 말한것처럼 Train의 1300세대와 Test의 200세대는 서로 겹치지 않는 다른 세대이다.\n",
    "\n",
    "> 첫번째 특이점으로 지적하였던, 다수의 결측값에대한 고민이 필요하다. 결측값의 경우 크게, <br>\n",
    ">  <b> 1. 미터링 시스템 부재에 의한 결측치 </b> <br>\n",
    ">  <b> 2. 직전 시간대 전력 사용량 값이 높아 이후 값들이 결측치가 되는 문제 (미터링 데이터 수집 시스템의 특징) 두가지로 볼 수 있다.</b> <br>\n",
    "\n",
    ">직전 시간대 과대사용에 의한 결측값의 경우, 해당 세대의 전체 수요량 평균값에 비해 관측치가 지나치게 큰 구간을 파악하여 이후의 값이 결측값이면 두번째 요인에 의한 결측값이라 판단, 결측구간을 직전과대값/결측구간 길이의 값으로 결측값을 채워 넣었다.\n",
    "<br>\n",
    "\n",
    "> 주어진 데이터에는 각기 다른 총 1500세대의 2년간 전력수요량 데이터가 존재한다. 1500세대(아파트 or 상가)는 각 세대만의 수요패턴을 갖고있을것이라는 생각을 해보았다. 예를들어, A세대는 주말에만 수요량이 높아지는 경향, B세대는 월,금에 수요량이 높아지는 경향등 세대별로 다양한 전력수요 패턴을 가질것이다. 따라서 예측 모델링 이전에 <b> 시간단위 전력사용량에 대한 시계열 패턴의 군집 및 분류분석</b>이 선행되어야 한다고 생각하였다.\n",
    "\n",
    "\n",
    "# 3. 모델링\n",
    "\n",
    "> 모델링의 경우 시계열 분석기법 전반에 대한 학습을 위해 가능한 모델들을 모두 사용해 본 뒤 가장 성능이 우수한 모델을 채택하였다.\n",
    "> 결과적으로 가장 성능이 우수했던 RNN기반 모델의 프로세스는 아래와 같다\n",
    "> 1. 세대별 수요 패턴에 따른 군집 분류 (Train 1300세대에 대한)\n",
    "> 2. 군집별 모델 생성 및 학습\n",
    "> 3. Test 200세대를 Train 1300세대의 군집에 맞추어 분류\n",
    "> 4. Test 200세대의 군집별 예측\n",
    "\n",
    "# 4. 나는 프로젝트를 통해 무엇을 배우고 느꼈는가\n",
    "> 연습용 데이터셋이나 캐글의 가이드라인이 있는 데이터분석 문제가 아닌 스스로의 능력으로 진행해본 프로젝트는 처음이다. 아직 100%의 완성을 시키지 못했고 만족도 또한 높지 않지만 스스로 진행하며 느낀점과 성장도는 매우 높다고 생각한다. 느낀점을 정리해보자면, <br><br>\n",
    "> <b>첫째,</b> 계획없는 분석은 산으로가는 지름길이라는 점이다. 데이터를 무작정 다루어보기 보다는, 반드시 내가 해결해야하는 과제를 정확히 파악한 후 탑다운 방식으로 최종 산출물을 그려보는 접근법이 필요하다는것을 절실히 느꼈다. 시작점과 끝점에 대한 명확한 기준이 설립되어야 중간 과정에서 온길을 되돌아가는 수고를 덜 수 있겠다른 생각이 절실히 들었다. <br><br>\n",
    "> <b>둘째로,</b> 데이터를 모델링에 맞추는것이아닌 데이터에 맞는 모델링이 필요하다는것을 느꼈다. 연습용 데이터와 실제의 데이터는 당황스러울정도로 달랐다. 무자비한 결측값과 기존 상식과는 다른 상관관계는 보이는 중간 결과물들을 보며 데이터를 전처리하는 과정도 중요하지만 그것이 불가능한 경우에 유연한 모델링 능력 또한 반드시 필요한 능력일것이라는 생각이 들었다. <br><br>\n",
    "> <b>마지막으로는,</b> 어려움을 겪더라도 실제로 데이터분석 프로젝트를 진행해보는 과정은 성장하는데 있어서 반드시 필요한 부분이라는점이다. 이번 프로젝트가시계열 데이터를 직접(예제 데이터가아닌) 다루어본 첫번째인데, 그 동안 책이나 예제를 통한 학습에서는 왜 저런 전처리과정과 prameter가 사용되는가에 대한 이해가 잘 되지 않았지만 실제 프로젝트를 진행하는동안 이해가 가지않던 부분이 명확히 이해되는 순간을 여럿 겪었다. 충분한 학습과 적절한 프로젝트의 병행은 성장을 위한 지름길이라는것을 다시한번 배울 수 있었다.\n",
    "\n",
    "\n",
    "# 5. 이 프로젝트를 지속한다면, 다음 단계는 무엇인가?\n",
    "> 앞서 말한데로, 이 프로젝트는 100% 완성된것이 아니다. 예측 모델링 부부은 어느정도 완성되었지만 이 예측모델을 활용하는 활용사례 까지 진행할 계획이다. 이 모델링 프로젝트의 의의는 <b>\"각 세대,상가,건물별로의 세분화된 예측이 가능해짐\"</b>에 있다. 기존의 전체를 다루는 수요예측이 아닌 사물인터넷,센서데이터를 활용한 더 정교하고 세분화된 예측이 가능해지는 것이다. <br>\n",
    "> 각 세대,상가,건물별로의 전력수요량 예측이 가능해진다면 이는 세대별 맞춤 서비스 혹은 관리자(ex한국전력)의 입장에서는 target 맞춤 관리 시스템을 구현할 수 있다는 점이다. <b>예측모델을 통한 세대별 통합 수요관리시스템이 이 프로젝트의 최종 목표이다.</b>"
   ]
  },
  {
   "cell_type": "code",
   "execution_count": null,
   "metadata": {},
   "outputs": [],
   "source": []
  },
  {
   "cell_type": "code",
   "execution_count": null,
   "metadata": {},
   "outputs": [],
   "source": []
  },
  {
   "cell_type": "code",
   "execution_count": null,
   "metadata": {},
   "outputs": [],
   "source": []
  },
  {
   "cell_type": "code",
   "execution_count": null,
   "metadata": {},
   "outputs": [],
   "source": []
  },
  {
   "cell_type": "code",
   "execution_count": null,
   "metadata": {},
   "outputs": [],
   "source": []
  },
  {
   "cell_type": "code",
   "execution_count": null,
   "metadata": {},
   "outputs": [],
   "source": []
  }
 ],
 "metadata": {
  "kernelspec": {
   "display_name": "Python 3",
   "language": "python",
   "name": "python3"
  },
  "language_info": {
   "codemirror_mode": {
    "name": "ipython",
    "version": 3
   },
   "file_extension": ".py",
   "mimetype": "text/x-python",
   "name": "python",
   "nbconvert_exporter": "python",
   "pygments_lexer": "ipython3",
   "version": "3.7.4"
  }
 },
 "nbformat": 4,
 "nbformat_minor": 2
}
