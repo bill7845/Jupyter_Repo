{
 "cells": [
  {
   "cell_type": "code",
   "execution_count": 1,
   "metadata": {},
   "outputs": [],
   "source": [
    "import pandas as pd\n",
    "import matplotlib.pyplot as plt\n",
    "import numpy as np\n",
    "%matplotlib inline\n",
    "\n",
    "from tslearn.clustering import TimeSeriesKMeans\n",
    "from tslearn.datasets import CachedDatasets\n",
    "from tslearn.preprocessing import TimeSeriesScalerMeanVariance, \\\n",
    "    TimeSeriesResampler\n",
    "from tslearn.utils import to_time_series\n",
    "from tslearn.utils import to_time_series_dataset\n",
    "from tslearn.datasets import UCR_UEA_datasets\n",
    "from tslearn.clustering import TimeSeriesKMeans"
   ]
  },
  {
   "cell_type": "code",
   "execution_count": 2,
   "metadata": {},
   "outputs": [],
   "source": [
    "from matplotlib import font_manager, rc\n",
    "import matplotlib\n",
    "\n",
    "#한글 폰트 등록\n",
    "font_location = \"c:/Windows/fonts/malgun.ttf\"\n",
    "font_name = font_manager.FontProperties(fname=font_location).get_name()\n",
    "matplotlib.rc('font', family=font_name)"
   ]
  },
  {
   "cell_type": "code",
   "execution_count": 3,
   "metadata": {},
   "outputs": [],
   "source": [
    "# import pandas as pd\n",
    "\n",
    "# # 판다스 데이터프레임(DataFrame)을 출력할 때, 최대 출력할 수 있는 컬럼을 100개로 늘려줍니다.\n",
    "# # 이렇게 해야 데이터를 분석할 때 출력해서 확인하기 편합니다.\n",
    "pd.options.display.max_columns = 100\n",
    "pd.options.display.max_rows = 100"
   ]
  },
  {
   "cell_type": "code",
   "execution_count": 4,
   "metadata": {},
   "outputs": [],
   "source": [
    "train = pd.read_csv('C:/Users/KIHyuk/Desktop/전력수요예측/train.csv')\n",
    "test = pd.read_csv('C:/Users/KIHyuk/Desktop/전력수요예측/test.csv')"
   ]
  },
  {
   "cell_type": "code",
   "execution_count": 5,
   "metadata": {},
   "outputs": [],
   "source": [
    "##### train 결측치 채우기"
   ]
  },
  {
   "cell_type": "code",
   "execution_count": 6,
   "metadata": {
    "scrolled": false
   },
   "outputs": [
    {
     "name": "stdout",
     "output_type": "stream",
     "text": [
      "50 번째 실행중\n",
      "100 번째 실행중\n",
      "150 번째 실행중\n",
      "200 번째 실행중\n",
      "250 번째 실행중\n",
      "300 번째 실행중\n",
      "350 번째 실행중\n",
      "400 번째 실행중\n",
      "450 번째 실행중\n",
      "500 번째 실행중\n",
      "550 번째 실행중\n",
      "600 번째 실행중\n",
      "650 번째 실행중\n",
      "700 번째 실행중\n",
      "750 번째 실행중\n",
      "800 번째 실행중\n",
      "850 번째 실행중\n",
      "900 번째 실행중\n",
      "950 번째 실행중\n",
      "1000 번째 실행중\n",
      "1050 번째 실행중\n",
      "1100 번째 실행중\n",
      "1150 번째 실행중\n",
      "1200 번째 실행중\n",
      "1250 번째 실행중\n",
      "1300 번째 실행중\n"
     ]
    }
   ],
   "source": [
    "for k in range(1,len(train.columns) ): #시간을 제외한 1열부터 마지막 열까지를 for문으로 작동시킵니다.\n",
    "    train_median=train.iloc[:,k].median() #값을 대체하는 과정에서 값이 변경 될 것을 대비해 해당 세대의 중앙값을 미리 계산하고 시작합니다.\n",
    "    counting=train.loc[ train.iloc[:,k].isnull()==False ][ train.columns[k] ].index\n",
    "\n",
    "    df=pd.DataFrame( list( zip( counting[:-1], counting[1:] - counting[:-1] -1  ) ), columns=['index','count'] )\n",
    "    \n",
    "    df2= df[ (df['count'] > 0) ] #결측치가 존재하는 부분만 추출\n",
    "    df2=df2.reset_index(drop=True) #기존에 존재하는 index를 초기화 하여 이후 for문에 사용함\n",
    "\n",
    "    for i,j in zip( df2['index'], df2['count'] ) : # i = 해당 세대에서 값이 존재하는 index, j = 현재 index 밑의 결측치 갯수\n",
    "        if train.iloc[i,k]>=train_median: #현재 index에 존재하는 값이 해당 세대의 중앙 값 이상일때만 분산처리 실행\n",
    "            train.iloc[ i : i+j+1 , k] = train.iloc[i,k] / (j+1) \n",
    "            #현재 index 및 결측치의 갯수 만큼 지정을 하여, 현재 index에 있는 값을 해당 갯수만큼 나누어 줍니다\n",
    "        else:\n",
    "            pass\n",
    "            #현재 index에 존재하는 값이 중앙 값 미만이면 pass를 실행\n",
    "    if k%50==0: #for문 진행정도 확인용\n",
    "            print(k,\"번째 실행중\")"
   ]
  },
  {
   "cell_type": "code",
   "execution_count": 7,
   "metadata": {
    "scrolled": true
   },
   "outputs": [
    {
     "name": "stdout",
     "output_type": "stream",
     "text": [
      "50 번째 실행중\n",
      "100 번째 실행중\n",
      "150 번째 실행중\n",
      "200 번째 실행중\n"
     ]
    }
   ],
   "source": [
    "for k in range(1,len(test.columns) ): #시간을 제외한 1열부터 마지막 열까지를 for문으로 작동시킵니다.\n",
    "    test_median=test.iloc[:,k].median() #값을 대체하는 과정에서 값이 변경 될 것을 대비해 해당 세대의 중앙값을 미리 계산하고 시작합니다.\n",
    "    counting=test.loc[ test.iloc[:,k].isnull()==False ][ test.columns[k] ].index\n",
    "\n",
    "    df=pd.DataFrame( list( zip( counting[:-1], counting[1:] - counting[:-1] -1  ) ), columns=['index','count'] )\n",
    "    \n",
    "    df2= df[ (df['count'] > 0) ] #결측치가 존재하는 부분만 추출\n",
    "    df2=df2.reset_index(drop=True) #기존에 존재하는 index를 초기화 하여 이후 for문에 사용함\n",
    "\n",
    "    for i,j in zip( df2['index'], df2['count'] ) : # i = 해당 세대에서 값이 존재하는 index, j = 현재 index 밑의 결측치 갯수\n",
    "        if test.iloc[i,k]>=test_median: #현재 indetestx에 존재하는 값이 해당 세대의 중앙 값 이상일때만 분산처리 실행\n",
    "            test.iloc[ i : i+j+1 , k] = test.iloc[i,k] / (j+1) \n",
    "            #현재 index 및 결측치의 갯수 만큼 지정을 하여, 현재 index에 있는 값을 해당 갯수만큼 나누어 줍니다\n",
    "        else:\n",
    "            pass\n",
    "            #현재 index에 존재하는 값이 중앙 값 미만이면 pass를 실행\n",
    "    if k%50==0: #for문 진행정도 확인용\n",
    "            print(k,\"번째 실행중\")"
   ]
  },
  {
   "cell_type": "code",
   "execution_count": 8,
   "metadata": {},
   "outputs": [],
   "source": [
    "train['Time'] = train['Time'].apply(pd.to_datetime)\n",
    "train.set_index('Time',inplace=True)\n",
    "\n",
    "test['Time'] = test['Time'].apply(pd.to_datetime)\n",
    "test.set_index('Time',inplace=True)"
   ]
  },
  {
   "cell_type": "code",
   "execution_count": 9,
   "metadata": {},
   "outputs": [],
   "source": [
    "train_sample = train['2018-02-15':]\n",
    "train_sample = train_sample.interpolate(method='time')\n",
    "\n",
    "test_sample = test['2018-02-15':]\n",
    "test_sample = test_sample.interpolate(method='time')"
   ]
  },
  {
   "cell_type": "code",
   "execution_count": 10,
   "metadata": {
    "scrolled": true
   },
   "outputs": [
    {
     "data": {
      "text/plain": [
       "Index(['X4', 'X127', 'X9', 'X65', 'X54', 'X13', 'X53', 'X24', 'X17', 'X14',\n",
       "       'X48', 'X2', 'X19', 'X36', 'X28', 'X63', 'X38', 'X39', 'X8', 'X64',\n",
       "       'X29', 'X57', 'X705', 'X71', 'X3', 'X27', 'X22', 'X21', 'X118', 'X6',\n",
       "       'X45', 'X40', 'X66', 'X52', 'X12', 'X49', 'X1', 'X33', 'X60', 'X46',\n",
       "       'X963', 'X56', 'X15', 'X11', 'X25', 'X34', 'X23', 'X58'],\n",
       "      dtype='object')"
      ]
     },
     "execution_count": 10,
     "metadata": {},
     "output_type": "execute_result"
    }
   ],
   "source": [
    "#결측값 가진 행 제거 - 데이터가 아예 없는 경우\n",
    "train_sample.loc[:,train_sample.isnull().sum() >= 1].columns"
   ]
  },
  {
   "cell_type": "code",
   "execution_count": 11,
   "metadata": {
    "scrolled": true
   },
   "outputs": [
    {
     "data": {
      "text/plain": [
       "Index(['X26', 'X16', 'X7', 'X18', 'X41', 'X55', 'X5', 'X43', 'X59', 'X10',\n",
       "       'X62', 'X61', 'X32', 'X31', 'X30', 'X51', 'X35', 'X44', 'X37', 'X42',\n",
       "       'X50', 'X47', 'X20'],\n",
       "      dtype='object')"
      ]
     },
     "execution_count": 11,
     "metadata": {},
     "output_type": "execute_result"
    }
   ],
   "source": [
    "#결측값 가진 행 제거 - 데이터가 아예 없는 경우\n",
    "test_sample.loc[:,test_sample.isnull().sum() >= 1].columns"
   ]
  },
  {
   "cell_type": "code",
   "execution_count": 12,
   "metadata": {},
   "outputs": [],
   "source": [
    "train_sample.drop(['X4', 'X127', 'X9', 'X65', 'X54', 'X13', 'X53', 'X24', 'X17', 'X14',\n",
    "       'X48', 'X2', 'X19', 'X36', 'X28', 'X63', 'X38', 'X39', 'X8', 'X64',\n",
    "       'X29', 'X57', 'X705', 'X71', 'X3', 'X27', 'X22', 'X21', 'X118', 'X6',\n",
    "       'X45', 'X40', 'X66', 'X52', 'X12', 'X49', 'X1', 'X33', 'X60', 'X46',\n",
    "       'X963', 'X56', 'X15', 'X11', 'X25', 'X34', 'X23', 'X58'], axis=1, inplace=True)\n",
    "\n",
    "test_sample.drop(['X26', 'X16', 'X7', 'X18', 'X41', 'X55', 'X5', 'X43', 'X59', 'X10',\n",
    "       'X62', 'X61', 'X32', 'X31', 'X30', 'X51', 'X35', 'X44', 'X37', 'X42',\n",
    "       'X50', 'X47', 'X20'],axis=1,inplace=True)"
   ]
  },
  {
   "cell_type": "code",
   "execution_count": 13,
   "metadata": {},
   "outputs": [],
   "source": [
    "tmp_list = []\n",
    "\n",
    "for i in range(len(train_sample.columns)):\n",
    "    tmp_list.append(train_sample.iloc[:,i].values)\n",
    "\n",
    "to_formatted = np.array(tmp_list)\n",
    "\n",
    "formatted = to_time_series_dataset(to_formatted)"
   ]
  },
  {
   "cell_type": "code",
   "execution_count": 14,
   "metadata": {
    "scrolled": true
   },
   "outputs": [
    {
     "name": "stdout",
     "output_type": "stream",
     "text": [
      "Init 1\n",
      "248.286 --> 167.315 --> 162.079 --> 160.984 --> 160.588 --> 160.259 --> 160.021 --> 159.866 --> 159.805 --> 159.767 --> 159.740 --> 159.724 --> 159.716 --> 159.712 --> 159.711 --> 159.710 --> 159.710 --> \n",
      "Init 2\n",
      "254.454 --> 181.319 --> 176.362 --> 175.428 --> 174.889 --> 174.623 --> 174.470 --> 174.366 --> 174.272 --> 174.093 --> 173.105 --> 171.588 --> 170.854 --> 170.502 --> 170.298 --> 170.074 --> 169.921 --> 169.799 --> 169.739 --> 169.716 --> 169.684 --> 169.660 --> 169.633 --> 169.602 --> 169.578 --> 169.543 --> 169.500 --> 169.478 --> 169.461 --> 169.451 --> 169.442 --> 169.430 --> 169.418 --> 169.412 --> 169.404 --> 169.397 --> 169.391 --> 169.382 --> 169.373 --> 169.363 --> 169.349 --> 169.342 --> 169.339 --> 169.336 --> 169.334 --> 169.334 --> 169.334 --> \n",
      "Init 3\n",
      "264.931 --> 186.308 --> 184.771 --> 183.943 --> 182.191 --> 180.594 --> 178.526 --> 177.178 --> 176.898 --> 176.717 --> 176.674 --> 176.647 --> 176.637 --> 176.633 --> 176.629 --> 176.628 --> 176.628 --> \n",
      "Init 4\n",
      "271.426 --> 180.525 --> 177.374 --> 176.348 --> 175.702 --> 175.189 --> 174.693 --> 174.346 --> 174.145 --> 173.993 --> 173.792 --> 173.620 --> 173.400 --> 173.245 --> 173.172 --> 173.125 --> 173.065 --> 173.003 --> 172.975 --> 172.954 --> 172.930 --> 172.884 --> 172.822 --> 172.761 --> 172.726 --> 172.697 --> 172.683 --> 172.674 --> 172.667 --> 172.658 --> 172.651 --> 172.640 --> 172.634 --> 172.631 --> 172.631 --> 172.629 --> 172.629 --> \n",
      "Init 5\n",
      "241.216 --> 175.302 --> 170.573 --> 168.802 --> 168.577 --> 168.497 --> 168.460 --> 168.451 --> 168.450 --> 168.450 --> \n",
      "Init 6\n",
      "253.989 --> 160.477 --> 158.407 --> 157.649 --> 157.611 --> 157.580 --> 157.535 --> 157.483 --> 157.449 --> 157.436 --> 157.421 --> 157.405 --> 157.383 --> 157.362 --> 157.348 --> 157.334 --> 157.311 --> 157.281 --> 157.274 --> 157.269 --> 157.267 --> 157.267 --> 157.267 --> \n",
      "Init 7\n",
      "260.441 --> 183.974 --> 180.411 --> 178.590 --> 175.762 --> 172.947 --> 171.687 --> 171.340 --> 171.051 --> 170.676 --> 170.140 --> 169.702 --> 169.453 --> 169.332 --> 169.234 --> 169.179 --> 169.128 --> 169.096 --> 169.067 --> 169.036 --> 168.999 --> 168.953 --> 168.920 --> 168.891 --> 168.840 --> 168.808 --> 168.782 --> 168.755 --> 168.740 --> 168.730 --> 168.725 --> 168.717 --> 168.715 --> 168.713 --> 168.711 --> 168.706 --> 168.703 --> 168.703 --> 168.702 --> 168.701 --> 168.701 --> \n",
      "Init 8\n",
      "259.889 --> 182.598 --> 178.193 --> 175.775 --> 172.612 --> 171.397 --> 169.721 --> 167.099 --> 166.603 --> 166.074 --> 165.590 --> 165.172 --> 165.012 --> 164.882 --> 164.779 --> 164.693 --> 164.638 --> 164.605 --> 164.582 --> 164.571 --> 164.566 --> 164.563 --> 164.559 --> 164.556 --> 164.556 --> 164.555 --> 164.554 --> 164.553 --> 164.549 --> 164.549 --> \n",
      "Init 9\n",
      "260.050 --> 163.846 --> 159.121 --> 158.761 --> 158.600 --> 158.551 --> 158.533 --> 158.517 --> 158.509 --> 158.506 --> 158.505 --> 158.503 --> 158.501 --> 158.500 --> 158.500 --> 158.500 --> \n",
      "Init 10\n",
      "255.712 --> 176.501 --> 173.426 --> 172.588 --> 171.096 --> 169.980 --> 169.745 --> 169.586 --> 169.477 --> 169.430 --> 169.407 --> 169.377 --> 169.352 --> 169.325 --> 169.294 --> 169.265 --> 169.220 --> 169.188 --> 169.171 --> 169.154 --> 169.144 --> 169.136 --> 169.124 --> 169.113 --> 169.108 --> 169.100 --> 169.092 --> 169.086 --> 169.077 --> 169.068 --> 169.058 --> 169.044 --> 169.037 --> 169.034 --> 169.032 --> 169.029 --> 169.029 --> 169.029 --> \n",
      "Init 11\n",
      "243.859 --> 173.784 --> 170.905 --> 168.259 --> 167.542 --> 167.438 --> 167.409 --> 167.393 --> 167.377 --> 167.364 --> 167.355 --> 167.347 --> 167.346 --> 167.345 --> 167.343 --> 167.341 --> 167.335 --> 167.330 --> 167.323 --> 167.306 --> 167.290 --> 167.277 --> 167.269 --> 167.263 --> 167.261 --> 167.260 --> 167.260 --> \n",
      "Init 12\n",
      "257.036 --> 174.551 --> 172.135 --> 170.464 --> 169.436 --> 169.074 --> 168.735 --> 168.425 --> 168.293 --> 168.242 --> 168.223 --> 168.208 --> 168.197 --> 168.193 --> 168.191 --> 168.190 --> 168.189 --> 168.187 --> 168.187 --> 168.187 --> \n",
      "Init 13\n",
      "243.025 --> 171.920 --> 168.312 --> 167.220 --> 166.867 --> 166.722 --> 166.660 --> 166.639 --> 166.624 --> 166.618 --> 166.616 --> 166.614 --> 166.612 --> 166.611 --> 166.610 --> 166.609 --> 166.609 --> \n",
      "Init 14\n",
      "227.538 --> 170.712 --> 168.067 --> 165.839 --> 165.441 --> 164.968 --> 164.374 --> 163.771 --> 163.401 --> 163.141 --> 163.004 --> 162.956 --> 162.945 --> 162.936 --> 162.925 --> 162.908 --> 162.905 --> 162.902 --> 162.901 --> 162.899 --> 162.898 --> 162.897 --> 162.895 --> 162.894 --> 162.893 --> 162.892 --> 162.891 --> 162.890 --> 162.890 --> 162.890 --> 162.890 --> \n",
      "Init 15\n",
      "235.780 --> 173.274 --> 168.824 --> 167.277 --> 166.880 --> 166.152 --> 165.710 --> 165.704 --> 165.694 --> 165.693 --> 165.692 --> 165.691 --> 165.691 --> \n"
     ]
    }
   ],
   "source": [
    "km = TimeSeriesKMeans(n_clusters=10,verbose=True,n_init=15,random_state=0)\n",
    "y_pred = km.fit_predict(formatted)"
   ]
  },
  {
   "cell_type": "code",
   "execution_count": 15,
   "metadata": {
    "scrolled": false
   },
   "outputs": [
    {
     "data": {
      "image/png": "[encoded data removed]",
      "text/plain": [
       "<Figure size 864x576 with 10 Axes>"
      ]
     },
     "metadata": {
      "needs_background": "light"
     },
     "output_type": "display_data"
    }
   ],
   "source": [
    "plt.figure(figsize=(12,8))\n",
    "for yi in range(10):\n",
    "    plt.subplot(10,1, yi+1)\n",
    "    plt.plot(km.cluster_centers_[yi].ravel(), \"r-\")"
   ]
  },
  {
   "cell_type": "code",
   "execution_count": 16,
   "metadata": {},
   "outputs": [],
   "source": [
    "# predict = pd.DataFrame(km.predict(formatted))\n",
    "# predict.columns=['predict']"
   ]
  },
  {
   "cell_type": "code",
   "execution_count": 17,
   "metadata": {},
   "outputs": [],
   "source": [
    "data = {'target' : train_sample.columns,\n",
    "       'cluster' : km.predict(formatted)\n",
    "       }\n",
    "\n",
    "cluster_frame = pd.DataFrame(data)"
   ]
  },
  {
   "cell_type": "code",
   "execution_count": 18,
   "metadata": {
    "scrolled": true
   },
   "outputs": [
    {
     "data": {
      "text/html": [
       "<div>\n",
       "<style scoped>\n",
       "    .dataframe tbody tr th:only-of-type {\n",
       "        vertical-align: middle;\n",
       "    }\n",
       "\n",
       "    .dataframe tbody tr th {\n",
       "        vertical-align: top;\n",
       "    }\n",
       "\n",
       "    .dataframe thead th {\n",
       "        text-align: right;\n",
       "    }\n",
       "</style>\n",
       "<table border=\"1\" class=\"dataframe\">\n",
       "  <thead>\n",
       "    <tr style=\"text-align: right;\">\n",
       "      <th></th>\n",
       "      <th>target</th>\n",
       "      <th>cluster</th>\n",
       "    </tr>\n",
       "  </thead>\n",
       "  <tbody>\n",
       "    <tr>\n",
       "      <td>0</td>\n",
       "      <td>X692</td>\n",
       "      <td>8</td>\n",
       "    </tr>\n",
       "    <tr>\n",
       "      <td>1</td>\n",
       "      <td>X1272</td>\n",
       "      <td>8</td>\n",
       "    </tr>\n",
       "    <tr>\n",
       "      <td>2</td>\n",
       "      <td>X553</td>\n",
       "      <td>4</td>\n",
       "    </tr>\n",
       "    <tr>\n",
       "      <td>3</td>\n",
       "      <td>X1299</td>\n",
       "      <td>0</td>\n",
       "    </tr>\n",
       "    <tr>\n",
       "      <td>4</td>\n",
       "      <td>X598</td>\n",
       "      <td>0</td>\n",
       "    </tr>\n",
       "  </tbody>\n",
       "</table>\n",
       "</div>"
      ],
      "text/plain": [
       "  target  cluster\n",
       "0   X692        8\n",
       "1  X1272        8\n",
       "2   X553        4\n",
       "3  X1299        0\n",
       "4   X598        0"
      ]
     },
     "execution_count": 18,
     "metadata": {},
     "output_type": "execute_result"
    }
   ],
   "source": [
    "cluster_frame.head()"
   ]
  },
  {
   "cell_type": "code",
   "execution_count": 19,
   "metadata": {},
   "outputs": [
    {
     "data": {
      "text/plain": [
       "cluster\n",
       "0    365\n",
       "1      1\n",
       "2      1\n",
       "3     12\n",
       "4    249\n",
       "5      1\n",
       "6      2\n",
       "7      1\n",
       "8    618\n",
       "9      2\n",
       "dtype: int64"
      ]
     },
     "execution_count": 19,
     "metadata": {},
     "output_type": "execute_result"
    }
   ],
   "source": [
    "cluster_frame.groupby('cluster').size()"
   ]
  },
  {
   "cell_type": "code",
   "execution_count": 20,
   "metadata": {},
   "outputs": [],
   "source": [
    "cluster_0 = cluster_frame[cluster_frame.cluster ==0]['target'].values"
   ]
  },
  {
   "cell_type": "code",
   "execution_count": 21,
   "metadata": {},
   "outputs": [],
   "source": [
    "## cluster test set"
   ]
  },
  {
   "cell_type": "code",
   "execution_count": 22,
   "metadata": {},
   "outputs": [],
   "source": [
    "tmp_test_list = []\n",
    "\n",
    "for i in range(len(test_sample.columns)):\n",
    "    tmp_test_list.append(test_sample.iloc[:,i].values)\n",
    "\n",
    "to_test_formatted = np.array(tmp_test_list)\n",
    "\n",
    "test_formatted = to_time_series_dataset(to_test_formatted)"
   ]
  },
  {
   "cell_type": "code",
   "execution_count": 23,
   "metadata": {},
   "outputs": [],
   "source": [
    "data = {'target' : test_sample.columns,\n",
    "       'cluster' : km.predict(test_formatted)\n",
    "       }\n",
    "\n",
    "cluster_test_frame = pd.DataFrame(data)"
   ]
  },
  {
   "cell_type": "code",
   "execution_count": 24,
   "metadata": {},
   "outputs": [
    {
     "data": {
      "text/html": [
       "<div>\n",
       "<style scoped>\n",
       "    .dataframe tbody tr th:only-of-type {\n",
       "        vertical-align: middle;\n",
       "    }\n",
       "\n",
       "    .dataframe tbody tr th {\n",
       "        vertical-align: top;\n",
       "    }\n",
       "\n",
       "    .dataframe thead th {\n",
       "        text-align: right;\n",
       "    }\n",
       "</style>\n",
       "<table border=\"1\" class=\"dataframe\">\n",
       "  <thead>\n",
       "    <tr style=\"text-align: right;\">\n",
       "      <th></th>\n",
       "      <th>target</th>\n",
       "      <th>cluster</th>\n",
       "    </tr>\n",
       "  </thead>\n",
       "  <tbody>\n",
       "    <tr>\n",
       "      <td>0</td>\n",
       "      <td>X303</td>\n",
       "      <td>4</td>\n",
       "    </tr>\n",
       "    <tr>\n",
       "      <td>1</td>\n",
       "      <td>X241</td>\n",
       "      <td>0</td>\n",
       "    </tr>\n",
       "    <tr>\n",
       "      <td>2</td>\n",
       "      <td>X435</td>\n",
       "      <td>8</td>\n",
       "    </tr>\n",
       "    <tr>\n",
       "      <td>3</td>\n",
       "      <td>X402</td>\n",
       "      <td>8</td>\n",
       "    </tr>\n",
       "    <tr>\n",
       "      <td>4</td>\n",
       "      <td>X352</td>\n",
       "      <td>0</td>\n",
       "    </tr>\n",
       "  </tbody>\n",
       "</table>\n",
       "</div>"
      ],
      "text/plain": [
       "  target  cluster\n",
       "0   X303        4\n",
       "1   X241        0\n",
       "2   X435        8\n",
       "3   X402        8\n",
       "4   X352        0"
      ]
     },
     "execution_count": 24,
     "metadata": {},
     "output_type": "execute_result"
    }
   ],
   "source": [
    "cluster_test_frame.head()"
   ]
  },
  {
   "cell_type": "code",
   "execution_count": 25,
   "metadata": {},
   "outputs": [
    {
     "data": {
      "text/plain": [
       "cluster\n",
       "0    92\n",
       "1     1\n",
       "3    11\n",
       "4    15\n",
       "7     1\n",
       "8    57\n",
       "dtype: int64"
      ]
     },
     "execution_count": 25,
     "metadata": {},
     "output_type": "execute_result"
    }
   ],
   "source": [
    "cluster_test_frame.groupby('cluster').size()"
   ]
  },
  {
   "cell_type": "code",
   "execution_count": 26,
   "metadata": {},
   "outputs": [],
   "source": [
    "cluster_test_0 = cluster_test_frame[cluster_test_frame.cluster == 0]['target'].values"
   ]
  },
  {
   "cell_type": "code",
   "execution_count": 27,
   "metadata": {},
   "outputs": [],
   "source": [
    "# 0,1,3,4,7,8 군집별 모델 생성"
   ]
  },
  {
   "cell_type": "code",
   "execution_count": 28,
   "metadata": {
    "scrolled": true
   },
   "outputs": [],
   "source": [
    "def to_X_train(target):\n",
    "    \n",
    "    train_sc_df = pd.DataFrame(target , columns=['Scaled'], index=train_sample.index)\n",
    "    for s in range(1, 7):\n",
    "        train_sc_df['shift_{}'.format(s)] = train_sc_df['Scaled'].shift(s)\n",
    "    X_train = train_sc_df.dropna().drop('Scaled', axis=1)\n",
    "    y_train = train_sc_df.dropna()[['Scaled']]    \n",
    "    X_train = X_train.values\n",
    "    y_train = y_train.values\n",
    "    \n",
    "    X_train_s = X_train.reshape(X_train.shape[0], 6, 1)\n",
    "    return X_train_s,y_train\n",
    "    "
   ]
  },
  {
   "cell_type": "code",
   "execution_count": 29,
   "metadata": {},
   "outputs": [],
   "source": [
    "ss = []\n",
    "for idx,k in enumerate(cluster_0):\n",
    "    x,y = to_X_train(train_sample[k].values)\n",
    "    ss.append([x,y])"
   ]
  },
  {
   "cell_type": "code",
   "execution_count": 36,
   "metadata": {
    "scrolled": true
   },
   "outputs": [
    {
     "name": "stdout",
     "output_type": "stream",
     "text": [
      "Model: \"sequential_1\"\n",
      "_________________________________________________________________\n",
      "Layer (type)                 Output Shape              Param #   \n",
      "=================================================================\n",
      "lstm_1 (LSTM)                (None, 6, 32)             4352      \n",
      "_________________________________________________________________\n",
      "lstm_2 (LSTM)                (None, 32)                8320      \n",
      "_________________________________________________________________\n",
      "dense_1 (Dense)              (None, 1)                 33        \n",
      "=================================================================\n",
      "Total params: 12,705\n",
      "Trainable params: 12,705\n",
      "Non-trainable params: 0\n",
      "_________________________________________________________________\n"
     ]
    }
   ],
   "source": [
    "from keras.layers import LSTM \n",
    "from keras.models import Sequential \n",
    "from keras.layers import Dense \n",
    "import keras.backend as K \n",
    "from keras.callbacks import EarlyStopping \n",
    "K.clear_session()\n",
    "\n",
    "model = Sequential() # Sequeatial Model \n",
    "model.add(LSTM(32, input_shape=(6, 1),return_sequences=True)) # (timestep, feature)\n",
    "# model.add(Dropout(0.1)) # overfitting을 막기 위해 10% 가량 drop\n",
    "model.add(LSTM(32, input_shape=(6, 1))) # (timestep, feature)\n",
    "# model.add(Dropout(0.1)) # overfitting을 막기 위해 10% 가량 drop\n",
    "model.add(Dense(1)) # output = 1 \n",
    "model.compile(loss='mean_squared_error', optimizer='adam') \n",
    "model.summary()"
   ]
  },
  {
   "cell_type": "code",
   "execution_count": 62,
   "metadata": {
    "scrolled": true
   },
   "outputs": [
    {
     "name": "stdout",
     "output_type": "stream",
     "text": [
      "Epoch 1/100\n",
      "3258/3258 [==============================] - 1s 343us/step - loss: 0.0193\n",
      "Epoch 2/100\n",
      "3258/3258 [==============================] - 1s 332us/step - loss: 0.0165\n",
      "Epoch 3/100\n",
      "3258/3258 [==============================] - 1s 348us/step - loss: 0.0160\n",
      "Epoch 4/100\n",
      "3258/3258 [==============================] - 1s 343us/step - loss: 0.0158\n",
      "Epoch 5/100\n",
      "3258/3258 [==============================] - 1s 348us/step - loss: 0.0156\n",
      "Epoch 6/100\n",
      "3258/3258 [==============================] - 1s 345us/step - loss: 0.0155\n",
      "Epoch 7/100\n",
      "3258/3258 [==============================] - 1s 344us/step - loss: 0.0154\n",
      "Epoch 8/100\n",
      "3258/3258 [==============================] - 1s 346us/step - loss: 0.0154\n",
      "Epoch 9/100\n",
      "3258/3258 [==============================] - 1s 336us/step - loss: 0.0153\n",
      "Epoch 10/100\n",
      "3258/3258 [==============================] - 1s 346us/step - loss: 0.0154\n",
      "Epoch 11/100\n",
      "3258/3258 [==============================] - 1s 349us/step - loss: 0.0151\n",
      "Epoch 12/100\n",
      "3258/3258 [==============================] - 1s 332us/step - loss: 0.0150\n",
      "Epoch 13/100\n",
      "3258/3258 [==============================] - 1s 346us/step - loss: 0.0149\n",
      "Epoch 14/100\n",
      "3258/3258 [==============================] - 1s 345us/step - loss: 0.0149\n",
      "Epoch 15/100\n",
      "3258/3258 [==============================] - 1s 346us/step - loss: 0.0148\n",
      "Epoch 16/100\n",
      "3258/3258 [==============================] - 1s 346us/step - loss: 0.0148\n",
      "Epoch 17/100\n",
      "3258/3258 [==============================] - 1s 345us/step - loss: 0.0148\n",
      "Epoch 18/100\n",
      "3258/3258 [==============================] - 1s 346us/step - loss: 0.0147\n",
      "Epoch 19/100\n",
      "3258/3258 [==============================] - 1s 345us/step - loss: 0.0146\n",
      "Epoch 20/100\n",
      "3258/3258 [==============================] - 1s 342us/step - loss: 0.0145\n",
      "Epoch 21/100\n",
      "3258/3258 [==============================] - 1s 345us/step - loss: 0.0145\n",
      "Epoch 22/100\n",
      "3258/3258 [==============================] - 1s 346us/step - loss: 0.0145\n",
      "Epoch 23/100\n",
      "3258/3258 [==============================] - 1s 345us/step - loss: 0.0145\n",
      "Epoch 24/100\n",
      "3258/3258 [==============================] - 1s 347us/step - loss: 0.0145\n",
      "Epoch 25/100\n",
      "3258/3258 [==============================] - 1s 355us/step - loss: 0.0144\n",
      "Epoch 26/100\n",
      "3258/3258 [==============================] - 1s 342us/step - loss: 0.0143\n",
      "Epoch 27/100\n",
      "3258/3258 [==============================] - 1s 332us/step - loss: 0.0144\n",
      "Epoch 28/100\n",
      "3258/3258 [==============================] - 1s 305us/step - loss: 0.0143\n",
      "Epoch 29/100\n",
      "3258/3258 [==============================] - 1s 304us/step - loss: 0.0142\n",
      "Epoch 30/100\n",
      "3258/3258 [==============================] - 1s 322us/step - loss: 0.0142\n",
      "Epoch 31/100\n",
      "3258/3258 [==============================] - 1s 303us/step - loss: 0.0144\n",
      "Epoch 32/100\n",
      "3258/3258 [==============================] - 1s 315us/step - loss: 0.0143\n",
      "Epoch 33/100\n",
      "3258/3258 [==============================] - 1s 315us/step - loss: 0.0142\n",
      "Epoch 34/100\n",
      "3258/3258 [==============================] - 1s 301us/step - loss: 0.0141\n",
      "Epoch 35/100\n",
      "3258/3258 [==============================] - 1s 311us/step - loss: 0.0141\n",
      "Epoch 36/100\n",
      "3258/3258 [==============================] - 1s 318us/step - loss: 0.0141\n",
      "Epoch 37/100\n",
      "3258/3258 [==============================] - 1s 329us/step - loss: 0.0142\n",
      "Epoch 38/100\n",
      "3258/3258 [==============================] - 1s 347us/step - loss: 0.0141\n",
      "Epoch 39/100\n",
      "3258/3258 [==============================] - 1s 348us/step - loss: 0.0142\n",
      "Epoch 40/100\n",
      "3258/3258 [==============================] - 1s 349us/step - loss: 0.0141\n",
      "Epoch 41/100\n",
      "3258/3258 [==============================] - 1s 352us/step - loss: 0.0141\n",
      "Epoch 42/100\n",
      "3258/3258 [==============================] - 1s 347us/step - loss: 0.0140\n",
      "Epoch 43/100\n",
      "3258/3258 [==============================] - 1s 348us/step - loss: 0.0140\n",
      "Epoch 44/100\n",
      "3258/3258 [==============================] - 1s 337us/step - loss: 0.0141\n",
      "Epoch 45/100\n",
      "3258/3258 [==============================] - 1s 345us/step - loss: 0.0140\n",
      "Epoch 46/100\n",
      "3258/3258 [==============================] - 1s 348us/step - loss: 0.0140\n",
      "Epoch 47/100\n",
      "3258/3258 [==============================] - 1s 349us/step - loss: 0.0141\n",
      "Epoch 48/100\n",
      "3258/3258 [==============================] - 1s 352us/step - loss: 0.0140\n",
      "Epoch 49/100\n",
      "3258/3258 [==============================] - 1s 345us/step - loss: 0.0138\n",
      "Epoch 50/100\n",
      "3258/3258 [==============================] - 1s 349us/step - loss: 0.0138\n",
      "Epoch 51/100\n",
      "3258/3258 [==============================] - 1s 356us/step - loss: 0.0138\n",
      "Epoch 52/100\n",
      "3258/3258 [==============================] - 1s 346us/step - loss: 0.0138\n",
      "Epoch 53/100\n",
      "3258/3258 [==============================] - 1s 349us/step - loss: 0.0139\n",
      "Epoch 54/100\n",
      "3258/3258 [==============================] - 1s 342us/step - loss: 0.0138\n",
      "Epoch 55/100\n",
      "3258/3258 [==============================] - 1s 352us/step - loss: 0.0139\n",
      "Epoch 56/100\n",
      "3258/3258 [==============================] - 1s 348us/step - loss: 0.0138\n",
      "Epoch 57/100\n",
      "3258/3258 [==============================] - 1s 352us/step - loss: 0.0139\n",
      "Epoch 58/100\n",
      "3258/3258 [==============================] - 1s 349us/step - loss: 0.0138\n",
      "Epoch 59/100\n",
      "3258/3258 [==============================] - 1s 353us/step - loss: 0.0138\n",
      "Epoch 60/100\n",
      "3258/3258 [==============================] - 1s 339us/step - loss: 0.0137\n",
      "Epoch 61/100\n",
      "3258/3258 [==============================] - 1s 345us/step - loss: 0.0137\n",
      "Epoch 62/100\n",
      "3258/3258 [==============================] - 1s 344us/step - loss: 0.0138\n",
      "Epoch 63/100\n",
      "3258/3258 [==============================] - 1s 347us/step - loss: 0.0138\n",
      "Epoch 64/100\n",
      "3258/3258 [==============================] - 1s 349us/step - loss: 0.0136\n",
      "Epoch 65/100\n",
      "3258/3258 [==============================] - 1s 342us/step - loss: 0.0136\n",
      "Epoch 66/100\n",
      "3258/3258 [==============================] - 1s 348us/step - loss: 0.0136\n",
      "Epoch 67/100\n",
      "3258/3258 [==============================] - 1s 350us/step - loss: 0.0136\n",
      "Epoch 68/100\n",
      "3258/3258 [==============================] - 1s 347us/step - loss: 0.0138\n",
      "Epoch 69/100\n",
      "3258/3258 [==============================] - 1s 346us/step - loss: 0.0137\n",
      "Epoch 70/100\n",
      "3258/3258 [==============================] - 1s 346us/step - loss: 0.0136\n",
      "Epoch 71/100\n",
      "3258/3258 [==============================] - 1s 329us/step - loss: 0.0135\n",
      "Epoch 72/100\n",
      "3258/3258 [==============================] - 1s 350us/step - loss: 0.0135\n",
      "Epoch 73/100\n",
      "3258/3258 [==============================] - 1s 345us/step - loss: 0.0135\n",
      "Epoch 74/100\n",
      "3258/3258 [==============================] - 1s 357us/step - loss: 0.0135\n",
      "Epoch 75/100\n",
      "3258/3258 [==============================] - 1s 350us/step - loss: 0.0135\n",
      "Epoch 76/100\n",
      "3258/3258 [==============================] - 1s 354us/step - loss: 0.0135\n",
      "Epoch 77/100\n",
      "3258/3258 [==============================] - 1s 348us/step - loss: 0.0135\n",
      "Epoch 78/100\n",
      "3258/3258 [==============================] - 1s 348us/step - loss: 0.0135\n",
      "Epoch 79/100\n",
      "3258/3258 [==============================] - 1s 347us/step - loss: 0.0135\n",
      "Epoch 80/100\n",
      "3258/3258 [==============================] - 1s 347us/step - loss: 0.0133\n",
      "Epoch 81/100\n",
      "3258/3258 [==============================] - 1s 353us/step - loss: 0.0134\n",
      "Epoch 82/100\n",
      "3258/3258 [==============================] - 1s 346us/step - loss: 0.0134\n",
      "Epoch 83/100\n",
      "3258/3258 [==============================] - 1s 350us/step - loss: 0.0135\n",
      "Epoch 84/100\n",
      "3258/3258 [==============================] - 1s 336us/step - loss: 0.0133\n",
      "Epoch 85/100\n",
      "3258/3258 [==============================] - 1s 346us/step - loss: 0.0134\n",
      "Epoch 86/100\n",
      "3258/3258 [==============================] - 1s 352us/step - loss: 0.0132\n",
      "Epoch 87/100\n",
      "3258/3258 [==============================] - 1s 335us/step - loss: 0.0132\n",
      "Epoch 88/100\n",
      "3258/3258 [==============================] - 1s 351us/step - loss: 0.0133\n",
      "Epoch 89/100\n",
      "3258/3258 [==============================] - 1s 348us/step - loss: 0.0134\n",
      "Epoch 90/100\n",
      "3258/3258 [==============================] - 1s 342us/step - loss: 0.0132\n",
      "Epoch 91/100\n",
      "3258/3258 [==============================] - 1s 347us/step - loss: 0.0133\n",
      "Epoch 92/100\n",
      "3258/3258 [==============================] - 1s 349us/step - loss: 0.0132\n",
      "Epoch 93/100\n",
      "3258/3258 [==============================] - 1s 347us/step - loss: 0.0133\n",
      "Epoch 94/100\n",
      "3258/3258 [==============================] - 1s 349us/step - loss: 0.0131\n",
      "Epoch 95/100\n"
     ]
    },
    {
     "name": "stdout",
     "output_type": "stream",
     "text": [
      "3258/3258 [==============================] - 1s 343us/step - loss: 0.0130\n",
      "Epoch 96/100\n",
      "3258/3258 [==============================] - 1s 345us/step - loss: 0.0132\n",
      "Epoch 97/100\n",
      "3258/3258 [==============================] - 1s 341us/step - loss: 0.0131\n",
      "Epoch 98/100\n",
      "3258/3258 [==============================] - 1s 348us/step - loss: 0.0131\n",
      "Epoch 99/100\n",
      "3258/3258 [==============================] - 1s 346us/step - loss: 0.0130\n",
      "Epoch 100/100\n",
      "3258/3258 [==============================] - 1s 346us/step - loss: 0.0131\n",
      "Epoch 1/100\n",
      "3258/3258 [==============================] - 1s 340us/step - loss: 0.0091\n",
      "Epoch 2/100\n",
      "3258/3258 [==============================] - 1s 343us/step - loss: 0.0087\n",
      "Epoch 3/100\n",
      "3258/3258 [==============================] - 1s 342us/step - loss: 0.0085\n",
      "Epoch 4/100\n",
      "3258/3258 [==============================] - 1s 350us/step - loss: 0.0084\n",
      "Epoch 5/100\n",
      "3258/3258 [==============================] - 1s 340us/step - loss: 0.0083\n",
      "Epoch 6/100\n",
      "3258/3258 [==============================] - 1s 340us/step - loss: 0.0083\n",
      "Epoch 7/100\n",
      "3258/3258 [==============================] - 1s 347us/step - loss: 0.0084\n",
      "Epoch 8/100\n",
      "3258/3258 [==============================] - 1s 343us/step - loss: 0.0083\n",
      "Epoch 9/100\n",
      "3258/3258 [==============================] - 1s 339us/step - loss: 0.0083\n",
      "Epoch 10/100\n",
      "3258/3258 [==============================] - 1s 342us/step - loss: 0.0082\n",
      "Epoch 11/100\n",
      "3258/3258 [==============================] - 1s 343us/step - loss: 0.0083\n",
      "Epoch 12/100\n",
      "3258/3258 [==============================] - 1s 351us/step - loss: 0.0082\n",
      "Epoch 13/100\n",
      "3258/3258 [==============================] - 1s 342us/step - loss: 0.0083\n",
      "Epoch 14/100\n",
      "3258/3258 [==============================] - 1s 344us/step - loss: 0.0083\n",
      "Epoch 15/100\n",
      "3258/3258 [==============================] - 1s 343us/step - loss: 0.0082\n",
      "Epoch 16/100\n",
      "3258/3258 [==============================] - 1s 342us/step - loss: 0.0082\n",
      "Epoch 17/100\n",
      "3258/3258 [==============================] - 1s 344us/step - loss: 0.0082\n",
      "Epoch 18/100\n",
      "3258/3258 [==============================] - 1s 351us/step - loss: 0.0082\n",
      "Epoch 19/100\n",
      "3258/3258 [==============================] - 1s 343us/step - loss: 0.0082\n",
      "Epoch 20/100\n",
      "3258/3258 [==============================] - 1s 346us/step - loss: 0.0081\n",
      "Epoch 21/100\n",
      "3258/3258 [==============================] - 1s 343us/step - loss: 0.0082\n",
      "Epoch 22/100\n",
      "3258/3258 [==============================] - 1s 342us/step - loss: 0.0081\n",
      "Epoch 23/100\n",
      "3258/3258 [==============================] - 1s 336us/step - loss: 0.0082\n",
      "Epoch 24/100\n",
      "3258/3258 [==============================] - 1s 342us/step - loss: 0.0082\n",
      "Epoch 25/100\n",
      "3258/3258 [==============================] - 1s 344us/step - loss: 0.0082\n",
      "Epoch 26/100\n",
      "3258/3258 [==============================] - 1s 350us/step - loss: 0.0082\n",
      "Epoch 27/100\n",
      "3258/3258 [==============================] - 1s 344us/step - loss: 0.0082\n",
      "Epoch 00027: early stopping\n",
      "Epoch 1/100\n",
      "3258/3258 [==============================] - 1s 342us/step - loss: 0.0100\n",
      "Epoch 2/100\n",
      "3258/3258 [==============================] - 1s 350us/step - loss: 0.0097\n",
      "Epoch 3/100\n",
      "3258/3258 [==============================] - 1s 355us/step - loss: 0.0097\n",
      "Epoch 4/100\n",
      "3258/3258 [==============================] - 1s 331us/step - loss: 0.0096\n",
      "Epoch 5/100\n",
      "3258/3258 [==============================] - 1s 299us/step - loss: 0.0096\n",
      "Epoch 6/100\n",
      "3258/3258 [==============================] - 1s 312us/step - loss: 0.0096\n",
      "Epoch 7/100\n",
      "3258/3258 [==============================] - 1s 303us/step - loss: 0.0096\n",
      "Epoch 8/100\n",
      "3258/3258 [==============================] - 1s 298us/step - loss: 0.0095\n",
      "Epoch 9/100\n",
      "3258/3258 [==============================] - 1s 292us/step - loss: 0.0095\n",
      "Epoch 10/100\n",
      "3258/3258 [==============================] - 1s 298us/step - loss: 0.0095\n",
      "Epoch 11/100\n",
      "3258/3258 [==============================] - 1s 295us/step - loss: 0.0095\n",
      "Epoch 12/100\n",
      "3258/3258 [==============================] - 1s 306us/step - loss: 0.0094\n",
      "Epoch 13/100\n",
      "3258/3258 [==============================] - 1s 305us/step - loss: 0.0094\n",
      "Epoch 14/100\n",
      "3258/3258 [==============================] - 1s 306us/step - loss: 0.0094\n",
      "Epoch 15/100\n",
      "3258/3258 [==============================] - 1s 341us/step - loss: 0.0094\n",
      "Epoch 16/100\n",
      "3258/3258 [==============================] - 1s 352us/step - loss: 0.0094\n",
      "Epoch 17/100\n",
      "3258/3258 [==============================] - 1s 269us/step - loss: 0.0094\n",
      "Epoch 18/100\n",
      "3258/3258 [==============================] - 1s 313us/step - loss: 0.0094\n",
      "Epoch 19/100\n",
      "3258/3258 [==============================] - 1s 339us/step - loss: 0.0094\n",
      "Epoch 20/100\n",
      "3258/3258 [==============================] - 1s 309us/step - loss: 0.0094\n",
      "Epoch 21/100\n",
      "3258/3258 [==============================] - 1s 347us/step - loss: 0.0093\n",
      "Epoch 22/100\n",
      "3258/3258 [==============================] - 1s 345us/step - loss: 0.0093\n",
      "Epoch 23/100\n",
      "3258/3258 [==============================] - 1s 334us/step - loss: 0.0094\n",
      "Epoch 24/100\n",
      "3258/3258 [==============================] - 1s 348us/step - loss: 0.0093\n",
      "Epoch 25/100\n",
      "3258/3258 [==============================] - 1s 344us/step - loss: 0.0093\n",
      "Epoch 26/100\n",
      "3258/3258 [==============================] - 1s 340us/step - loss: 0.0093\n",
      "Epoch 27/100\n",
      "3258/3258 [==============================] - 1s 342us/step - loss: 0.0093\n",
      "Epoch 28/100\n",
      "3258/3258 [==============================] - 1s 332us/step - loss: 0.0093\n",
      "Epoch 29/100\n",
      "3258/3258 [==============================] - 1s 348us/step - loss: 0.0092\n",
      "Epoch 30/100\n",
      "3258/3258 [==============================] - 1s 351us/step - loss: 0.0092\n",
      "Epoch 31/100\n",
      "3258/3258 [==============================] - 1s 352us/step - loss: 0.0092\n",
      "Epoch 32/100\n",
      "3258/3258 [==============================] - 1s 348us/step - loss: 0.0092\n",
      "Epoch 33/100\n",
      "3258/3258 [==============================] - 1s 344us/step - loss: 0.0092\n",
      "Epoch 34/100\n",
      "3258/3258 [==============================] - 1s 326us/step - loss: 0.0092\n",
      "Epoch 35/100\n",
      "3258/3258 [==============================] - 1s 337us/step - loss: 0.0091\n",
      "Epoch 36/100\n",
      "3258/3258 [==============================] - 1s 348us/step - loss: 0.0090\n",
      "Epoch 37/100\n",
      "3258/3258 [==============================] - 1s 352us/step - loss: 0.0090\n",
      "Epoch 38/100\n",
      "3258/3258 [==============================] - 1s 344us/step - loss: 0.0091\n",
      "Epoch 39/100\n",
      "3258/3258 [==============================] - 1s 346us/step - loss: 0.0090\n",
      "Epoch 40/100\n",
      "3258/3258 [==============================] - 1s 338us/step - loss: 0.0091\n",
      "Epoch 41/100\n",
      "3258/3258 [==============================] - 1s 346us/step - loss: 0.0090\n",
      "Epoch 42/100\n",
      "3258/3258 [==============================] - 1s 349us/step - loss: 0.0090\n",
      "Epoch 43/100\n",
      "3258/3258 [==============================] - 1s 347us/step - loss: 0.0090\n",
      "Epoch 44/100\n",
      "3258/3258 [==============================] - 1s 350us/step - loss: 0.0090\n",
      "Epoch 45/100\n",
      "3258/3258 [==============================] - 1s 352us/step - loss: 0.0089\n",
      "Epoch 46/100\n",
      "3258/3258 [==============================] - 1s 322us/step - loss: 0.0090\n",
      "Epoch 47/100\n",
      "3258/3258 [==============================] - 1s 343us/step - loss: 0.0089\n",
      "Epoch 48/100\n",
      "3258/3258 [==============================] - 1s 346us/step - loss: 0.0089\n",
      "Epoch 49/100\n",
      "3258/3258 [==============================] - 1s 346us/step - loss: 0.0088\n",
      "Epoch 50/100\n",
      "3258/3258 [==============================] - 1s 348us/step - loss: 0.0089\n",
      "Epoch 51/100\n",
      "3258/3258 [==============================] - 1s 330us/step - loss: 0.0089\n",
      "Epoch 52/100\n",
      "3258/3258 [==============================] - 1s 345us/step - loss: 0.0089\n",
      "Epoch 53/100\n",
      "3258/3258 [==============================] - 1s 350us/step - loss: 0.0088\n",
      "Epoch 54/100\n",
      "3258/3258 [==============================] - 1s 344us/step - loss: 0.0089\n",
      "Epoch 55/100\n",
      "3258/3258 [==============================] - 1s 335us/step - loss: 0.0089\n",
      "Epoch 56/100\n",
      "3258/3258 [==============================] - 1s 347us/step - loss: 0.0089\n",
      "Epoch 00056: early stopping\n",
      "Epoch 1/100\n",
      "3258/3258 [==============================] - 1s 348us/step - loss: 0.0173\n",
      "Epoch 2/100\n",
      "3258/3258 [==============================] - 1s 343us/step - loss: 0.0164\n",
      "Epoch 3/100\n",
      "3258/3258 [==============================] - 1s 341us/step - loss: 0.0162\n",
      "Epoch 4/100\n",
      "3258/3258 [==============================] - 1s 345us/step - loss: 0.0161\n",
      "Epoch 5/100\n",
      "3258/3258 [==============================] - 1s 348us/step - loss: 0.0161\n"
     ]
    },
    {
     "name": "stdout",
     "output_type": "stream",
     "text": [
      "Epoch 6/100\n",
      "3258/3258 [==============================] - 1s 343us/step - loss: 0.0159\n",
      "Epoch 7/100\n",
      "3258/3258 [==============================] - 1s 344us/step - loss: 0.0159\n",
      "Epoch 8/100\n",
      "3258/3258 [==============================] - 1s 338us/step - loss: 0.0158\n",
      "Epoch 9/100\n",
      "3258/3258 [==============================] - 1s 341us/step - loss: 0.0157\n",
      "Epoch 10/100\n",
      "3258/3258 [==============================] - 1s 343us/step - loss: 0.0159\n",
      "Epoch 11/100\n",
      "3258/3258 [==============================] - 1s 341us/step - loss: 0.0156\n",
      "Epoch 12/100\n",
      "3258/3258 [==============================] - 1s 342us/step - loss: 0.0157\n",
      "Epoch 13/100\n",
      "3258/3258 [==============================] - 1s 329us/step - loss: 0.0158\n",
      "Epoch 14/100\n",
      "3258/3258 [==============================] - 1s 346us/step - loss: 0.0157\n",
      "Epoch 15/100\n",
      "3258/3258 [==============================] - 1s 337us/step - loss: 0.0159\n",
      "Epoch 16/100\n",
      "3258/3258 [==============================] - 1s 346us/step - loss: 0.0157\n",
      "Epoch 17/100\n",
      "3258/3258 [==============================] - 1s 349us/step - loss: 0.0155\n",
      "Epoch 18/100\n",
      "3258/3258 [==============================] - 1s 343us/step - loss: 0.0156\n",
      "Epoch 19/100\n",
      "3258/3258 [==============================] - 1s 343us/step - loss: 0.0156\n",
      "Epoch 20/100\n",
      "3258/3258 [==============================] - 1s 352us/step - loss: 0.0155\n",
      "Epoch 21/100\n",
      "3258/3258 [==============================] - 1s 343us/step - loss: 0.0156\n",
      "Epoch 22/100\n",
      "3258/3258 [==============================] - 1s 344us/step - loss: 0.0156\n",
      "Epoch 23/100\n",
      "3258/3258 [==============================] - 1s 338us/step - loss: 0.0154\n",
      "Epoch 24/100\n",
      "3258/3258 [==============================] - 1s 345us/step - loss: 0.0155\n",
      "Epoch 25/100\n",
      "3258/3258 [==============================] - 1s 337us/step - loss: 0.0154\n",
      "Epoch 26/100\n",
      "3258/3258 [==============================] - 1s 255us/step - loss: 0.0154\n",
      "Epoch 27/100\n",
      "3258/3258 [==============================] - 1s 328us/step - loss: 0.0155\n",
      "Epoch 28/100\n",
      "3258/3258 [==============================] - 1s 343us/step - loss: 0.0153\n",
      "Epoch 29/100\n",
      "3258/3258 [==============================] - 1s 336us/step - loss: 0.0154\n",
      "Epoch 30/100\n",
      "3258/3258 [==============================] - 1s 346us/step - loss: 0.0154\n",
      "Epoch 31/100\n",
      "3258/3258 [==============================] - 1s 339us/step - loss: 0.0154\n",
      "Epoch 32/100\n",
      "3258/3258 [==============================] - 1s 343us/step - loss: 0.0154\n",
      "Epoch 33/100\n",
      "3258/3258 [==============================] - 1s 346us/step - loss: 0.0153\n",
      "Epoch 34/100\n",
      "3258/3258 [==============================] - 1s 341us/step - loss: 0.0154\n",
      "Epoch 35/100\n",
      "3258/3258 [==============================] - 1s 342us/step - loss: 0.0152\n",
      "Epoch 36/100\n",
      "3258/3258 [==============================] - 1s 343us/step - loss: 0.0152\n",
      "Epoch 37/100\n",
      "3258/3258 [==============================] - 1s 342us/step - loss: 0.0153\n",
      "Epoch 38/100\n",
      "3258/3258 [==============================] - 1s 345us/step - loss: 0.0152\n",
      "Epoch 39/100\n",
      "3258/3258 [==============================] - 1s 346us/step - loss: 0.0150\n",
      "Epoch 40/100\n",
      "3258/3258 [==============================] - 1s 352us/step - loss: 0.0154\n",
      "Epoch 41/100\n",
      "3258/3258 [==============================] - 1s 346us/step - loss: 0.0152\n",
      "Epoch 42/100\n",
      "3258/3258 [==============================] - 1s 341us/step - loss: 0.0152\n",
      "Epoch 43/100\n",
      "3258/3258 [==============================] - 1s 346us/step - loss: 0.0152\n",
      "Epoch 44/100\n",
      "3258/3258 [==============================] - 1s 348us/step - loss: 0.0151\n",
      "Epoch 45/100\n",
      "3258/3258 [==============================] - 1s 351us/step - loss: 0.0150\n",
      "Epoch 46/100\n",
      "3258/3258 [==============================] - 1s 346us/step - loss: 0.0151\n",
      "Epoch 47/100\n",
      "3258/3258 [==============================] - 1s 345us/step - loss: 0.0150\n",
      "Epoch 48/100\n",
      "3258/3258 [==============================] - 1s 336us/step - loss: 0.0151\n",
      "Epoch 49/100\n",
      "3258/3258 [==============================] - 1s 345us/step - loss: 0.0150\n",
      "Epoch 50/100\n",
      "3258/3258 [==============================] - 1s 347us/step - loss: 0.0151\n",
      "Epoch 51/100\n",
      "3258/3258 [==============================] - 1s 336us/step - loss: 0.0151\n",
      "Epoch 52/100\n",
      "3258/3258 [==============================] - 1s 346us/step - loss: 0.0149\n",
      "Epoch 53/100\n",
      "3258/3258 [==============================] - 1s 352us/step - loss: 0.0149\n",
      "Epoch 54/100\n",
      "3258/3258 [==============================] - 1s 342us/step - loss: 0.0151\n",
      "Epoch 55/100\n",
      "3258/3258 [==============================] - 1s 339us/step - loss: 0.0148\n",
      "Epoch 56/100\n",
      "3258/3258 [==============================] - 1s 350us/step - loss: 0.0149\n",
      "Epoch 57/100\n",
      "3258/3258 [==============================] - 1s 348us/step - loss: 0.0149\n",
      "Epoch 58/100\n",
      "3258/3258 [==============================] - 1s 344us/step - loss: 0.0148\n",
      "Epoch 59/100\n",
      "3258/3258 [==============================] - 1s 351us/step - loss: 0.0146\n",
      "Epoch 60/100\n",
      "3258/3258 [==============================] - 1s 346us/step - loss: 0.0148\n",
      "Epoch 61/100\n",
      "3258/3258 [==============================] - 1s 342us/step - loss: 0.0149\n",
      "Epoch 62/100\n",
      "3258/3258 [==============================] - 1s 349us/step - loss: 0.0146\n",
      "Epoch 63/100\n",
      "3258/3258 [==============================] - 1s 346us/step - loss: 0.0147\n",
      "Epoch 64/100\n",
      "3258/3258 [==============================] - 1s 347us/step - loss: 0.0150\n",
      "Epoch 65/100\n",
      "3258/3258 [==============================] - 1s 327us/step - loss: 0.0146\n",
      "Epoch 66/100\n",
      "3258/3258 [==============================] - 1s 350us/step - loss: 0.0146\n",
      "Epoch 00066: early stopping\n",
      "Epoch 1/100\n",
      "3258/3258 [==============================] - 1s 337us/step - loss: 0.0052\n",
      "Epoch 2/100\n",
      "3258/3258 [==============================] - 1s 346us/step - loss: 0.0048\n",
      "Epoch 3/100\n",
      "3258/3258 [==============================] - 1s 354us/step - loss: 0.0048\n",
      "Epoch 4/100\n",
      "3258/3258 [==============================] - 1s 347us/step - loss: 0.0047\n",
      "Epoch 5/100\n",
      "3258/3258 [==============================] - 1s 346us/step - loss: 0.0047\n",
      "Epoch 6/100\n",
      "3258/3258 [==============================] - 1s 346us/step - loss: 0.0047\n",
      "Epoch 7/100\n",
      "3258/3258 [==============================] - 1s 338us/step - loss: 0.0047\n",
      "Epoch 8/100\n",
      "3258/3258 [==============================] - 1s 341us/step - loss: 0.0047\n",
      "Epoch 9/100\n",
      "3258/3258 [==============================] - 1s 340us/step - loss: 0.0047\n",
      "Epoch 10/100\n",
      "3258/3258 [==============================] - 1s 342us/step - loss: 0.0047\n",
      "Epoch 11/100\n",
      "3258/3258 [==============================] - 1s 347us/step - loss: 0.0047\n",
      "Epoch 12/100\n",
      "3258/3258 [==============================] - 1s 345us/step - loss: 0.0047\n",
      "Epoch 13/100\n",
      "3258/3258 [==============================] - 1s 348us/step - loss: 0.0047\n",
      "Epoch 14/100\n",
      "3258/3258 [==============================] - 1s 345us/step - loss: 0.0047\n",
      "Epoch 15/100\n",
      "3258/3258 [==============================] - 1s 354us/step - loss: 0.0047\n",
      "Epoch 16/100\n",
      "3258/3258 [==============================] - 1s 342us/step - loss: 0.0047\n",
      "Epoch 17/100\n",
      "3258/3258 [==============================] - 1s 349us/step - loss: 0.0047\n",
      "Epoch 18/100\n",
      "3258/3258 [==============================] - 1s 350us/step - loss: 0.0047\n",
      "Epoch 19/100\n",
      "3258/3258 [==============================] - 1s 350us/step - loss: 0.0047\n",
      "Epoch 20/100\n",
      "3258/3258 [==============================] - 1s 347us/step - loss: 0.0047\n",
      "Epoch 21/100\n",
      "3258/3258 [==============================] - 1s 354us/step - loss: 0.0047\n",
      "Epoch 22/100\n",
      "3258/3258 [==============================] - 1s 351us/step - loss: 0.0047\n",
      "Epoch 23/100\n",
      "3258/3258 [==============================] - 1s 350us/step - loss: 0.0047\n",
      "Epoch 24/100\n",
      "3258/3258 [==============================] - 1s 340us/step - loss: 0.0047\n",
      "Epoch 00024: early stopping\n"
     ]
    }
   ],
   "source": [
    "# 모델 학습\n",
    "early_stop = EarlyStopping(monitor='loss', patience=7, verbose=1)\n",
    "\n",
    "for i in range(5):\n",
    "    model.fit(ss[i][0],ss[i][1], epochs=100, batch_size=30, verbose=1, callbacks=[early_stop])\n",
    "    \n",
    "    \n",
    "# # 모델 학습\n",
    "# for i in range(10):  \n",
    "#     hist = model.fit(x_train, y_train, epochs=100, batch_size=batch_size, validation_data=(x_val, y_val))\n",
    "#     with open(home_path + 'model/seq/trade_count_save_state_lstm.history_'+str(i), 'wb') as f :   \n",
    "#         pickle.dump(hist, f)\n",
    "#     model.save(home_path + 'model/seq/trade_count_save_state_lstm.hdf5_'+str(i))\n",
    "# model.save(home_path + 'model/trade_count_save_state_lstm.hdf5') "
   ]
  },
  {
   "cell_type": "code",
   "execution_count": 38,
   "metadata": {},
   "outputs": [],
   "source": [
    "def to_X_test(target):\n",
    "    \n",
    "    test_sc_df = pd.DataFrame(target , columns=['Scaled'], index=test_sample.index)\n",
    "    for s in range(1, 7):\n",
    "        test_sc_df['shift_{}'.format(s)] = test_sc_df['Scaled'].shift(s)\n",
    "    X_test = test_sc_df.dropna().drop('Scaled', axis=1)\n",
    "    y_test = test_sc_df.dropna()[['Scaled']]    \n",
    "    X_test = X_test.values\n",
    "    y_test = y_test.values\n",
    "    \n",
    "    X_test_t = X_test.reshape(X_test.shape[0], 6, 1)\n",
    "    return X_test_t,y_test"
   ]
  },
  {
   "cell_type": "code",
   "execution_count": 39,
   "metadata": {},
   "outputs": [],
   "source": [
    "ss_test = []\n",
    "for idx,k in enumerate(cluster_test_0):\n",
    "    x,y = to_X_test(test_sample[k].values)\n",
    "    ss_test.append([x,y])"
   ]
  },
  {
   "cell_type": "code",
   "execution_count": 91,
   "metadata": {},
   "outputs": [
    {
     "name": "stdout",
     "output_type": "stream",
     "text": [
      "[[0.08531763]\n",
      " [0.08176323]\n",
      " [0.07672185]\n",
      " ...\n",
      " [0.16591433]\n",
      " [0.18059567]\n",
      " [0.29377154]]\n"
     ]
    }
   ],
   "source": [
    "y_pred = model.predict(ss_test[1][0],2)\n",
    "print(y_pred)"
   ]
  },
  {
   "cell_type": "code",
   "execution_count": 90,
   "metadata": {},
   "outputs": [
    {
     "data": {
      "text/plain": [
       "3258"
      ]
     },
     "execution_count": 90,
     "metadata": {},
     "output_type": "execute_result"
    }
   ],
   "source": [
    "len(y_pred)"
   ]
  },
  {
   "cell_type": "code",
   "execution_count": 74,
   "metadata": {
    "scrolled": false
   },
   "outputs": [
    {
     "data": {
      "text/plain": [
       "[<matplotlib.lines.Line2D at 0x22a185d6e08>]"
      ]
     },
     "execution_count": 74,
     "metadata": {},
     "output_type": "execute_result"
    },
    {
     "data": {
      "image/png": "[encoded data removed]",
      "text/plain": [
       "<Figure size 720x576 with 1 Axes>"
      ]
     },
     "metadata": {
      "needs_background": "light"
     },
     "output_type": "display_data"
    }
   ],
   "source": [
    "plt.figure(figsize=(10,8))\n",
    "plt.plot(y_pred)\n",
    "# plt.plot(ss_test[1][1])"
   ]
  },
  {
   "cell_type": "code",
   "execution_count": null,
   "metadata": {},
   "outputs": [],
   "source": []
  },
  {
   "cell_type": "code",
   "execution_count": null,
   "metadata": {},
   "outputs": [],
   "source": []
  },
  {
   "cell_type": "code",
   "execution_count": null,
   "metadata": {},
   "outputs": [],
   "source": []
  },
  {
   "cell_type": "code",
   "execution_count": null,
   "metadata": {},
   "outputs": [],
   "source": []
  },
  {
   "cell_type": "markdown",
   "metadata": {},
   "source": [
    "# 1. 문제의 정의\n",
    "\n",
    "> 시계열 데이터를 활용한 예측 모델링을 구현하는 문제이다 <br>\n",
    "> 주어진 시계열 데이터를 사용할 모델의 형식에 맞추어 처리한 후 모델들중 가장 성능이 우수한 모델을 채택하였다. <br>\n",
    "> 사용한 모델은 SMA,WMA,HOLT,ARIMA등 전통적 시계열 분석 기법과 RNN 기법 등 최대한 많은 모델을 직접 다루어 본다. <br>\n",
    "> 어떤 Feature, 즉 전력수요량에 영향을 미치는 요소를 찾아내는것과 그 요소를 모델링에 반영하는것이 중요한 과제이다.\n",
    "> 이 문제에서 특이한 점은 <b>첫째,</b> 결측값이 굉장히 많다.(본문 그래프 참조) 따라서 결측값을 어떻게 다룰것인가 또한 중요한 변수이다. <br> <b>둘째,</b> Train과 Test에서의 예측되어야하는 세대가 다르다는점이다. 즉, A세대의 수요량 예측모델을 활용하여 B세대의 수요량을 예측해야한다.\n",
    "\n",
    "<br>\n",
    "\n",
    "# 2. 데이터 탐색\n",
    "\n",
    ">  주어진 데이터는 인천시 소재 1300세대의 2016/07/20 ~ 2018/06/30까지 시간당 전력수요량 데이터(Trian)와 2017/07/01~2018/06/30까지의 인천시 소재 200세대의 시간당 전력 수요량 데이터(Test)로 구성되어있다. 앞서 말한것처럼 Train의 1300세대와 Test의 200세대는 서로 겹치지 않는 다른 세대이다.\n",
    "\n",
    "> 첫번째 특이점으로 지적하였던, 다수의 결측값에대한 고민이 필요하다. 결측값의 경우 크게, <br>\n",
    ">  <b> 1. 미터링 시스템 부재에 의한 결측치 </b> <br>\n",
    ">  <b> 2. 직전 시간대 전력 사용량 값이 높아 이후 값들이 결측치가 되는 문제 (미터링 데이터 수집 시스템의 특징) 두가지로 볼 수 있다.</b> <br>\n",
    "\n",
    ">직전 시간대 과대사용에 의한 결측값의 경우, 해당 세대의 전체 수요량 평균값에 비해 관측치가 지나치게 큰 구간을 파악하여 이후의 값이 결측값이면 두번째 요인에 의한 결측값이라 판단, 결측구간을 직전과대값/결측구간 길이의 값으로 결측값을 채워 넣었다.\n",
    "<br>\n",
    "\n",
    "> 1번 요인에 의한 결측구간은 ~~~~ <br>\n",
    "\n",
    "> 주어진 데이터에는 각기 다른 총 1500세대의 2년간 전력수요량 데이터가 존재한다. 1500세대(아파트 or 상가)는 각 세대만의 수요패턴을 갖고있을것이라는 생각을 해보았다. 예를들어, A세대는 주말에만 수요량이 높아지는 경향, B세대는 월,금에 수요량이 높아지는 경향등 세대별로 다양한 전력수요 패턴을 가질것이다. 따라서 예측 모델링 이전에 <b> 시간단위 전력사용량에 대한 시계열 패턴의 군집 및 분류분석</b>이 선행되어야 한다고 생각하였다.\n",
    "\n",
    "\n",
    "# 3. 모델링\n",
    "\n",
    "> 모델링의 경우 시계열 분석기법 전반에 대한 학습을 위해 가능한 모델들을 모두 사용해 본 뒤 가장 성능이 우수한 모델을 채택하였다.\n",
    "> 결과적으로 가장 성능이 우수했던 RNN기반 모델의 프로세스는\n",
    "> 1. 세대별 수요 패턴에 따른 군집 분류 (Train 1300세대에 대한)\n",
    "> 2. 군집별 모델 생성 및 학습\n",
    "> 3. Test 200세대를 Train 1300세대의 군집에 맞추어 분류\n",
    "> 4. Test 200세대의 군집별 예측\n",
    "\n",
    "# 4. 나는 무엇을 배웠으며, 다시 프로젝트를 진행한다면 어떤 부분을 다르게 할 것인가\n",
    "\n",
    "\n",
    "\n",
    "# 5. 이 프로젝트를 지속한다면, 다음 단계는 무엇인가?"
   ]
  },
  {
   "cell_type": "code",
   "execution_count": null,
   "metadata": {},
   "outputs": [],
   "source": []
  },
  {
   "cell_type": "code",
   "execution_count": null,
   "metadata": {},
   "outputs": [],
   "source": []
  },
  {
   "cell_type": "code",
   "execution_count": null,
   "metadata": {},
   "outputs": [],
   "source": []
  },
  {
   "cell_type": "code",
   "execution_count": null,
   "metadata": {},
   "outputs": [],
   "source": []
  },
  {
   "cell_type": "code",
   "execution_count": null,
   "metadata": {},
   "outputs": [],
   "source": []
  },
  {
   "cell_type": "code",
   "execution_count": null,
   "metadata": {},
   "outputs": [],
   "source": []
  }
 ],
 "metadata": {
  "kernelspec": {
   "display_name": "Python 3",
   "language": "python",
   "name": "python3"
  },
  "language_info": {
   "codemirror_mode": {
    "name": "ipython",
    "version": 3
   },
   "file_extension": ".py",
   "mimetype": "text/x-python",
   "name": "python",
   "nbconvert_exporter": "python",
   "pygments_lexer": "ipython3",
   "version": "3.7.4"
  }
 },
 "nbformat": 4,
 "nbformat_minor": 2
}
