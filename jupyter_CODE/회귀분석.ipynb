{
 "cells": [
  {
   "cell_type": "markdown",
   "metadata": {},
   "source": [
    "# 회귀분석\n",
    "\n",
    "<br>\n",
    "\n",
    "#### 1. 단순 회귀분석\n",
    "#### 2. 다중 회귀분석\n",
    "\n",
    "> <b> 참고 </b> <br/>\n",
    ": 데이터과학을 위한 통계 - 피터 브루스, 앤드류 부르스 지음 , 한빛미디어 <br/>\n",
    ": 밑바닥부터 시작하는 데이터 과학 조엘 그르수 지음, 한빛비디어 <br/>\n",
    ": https://no17.tistory.com/195\n"
   ]
  },
  {
   "cell_type": "markdown",
   "metadata": {},
   "source": [
    "\n",
    "<b> 회귀분석이란 <b/>\n",
    "\n",
    " <p> 회귀분석이란 수치형 종속변수와 수치형 독립변수사이의 영향 또는 인과관계를 알 수 있는 분석이다. 언뜻 보면 상관관계분석과 비슷한 것 같다. 하지만 상관관계분석은 두 변수간의 상관관계를 수치화할 뿐 각 독립변수가 종속변수에 미치는 영향 또는 관계는 측정이 불가능하다. 우리는 회귀분석을 통해 종속변수에 대한 독립변수의 영향을 알려주는 회귀식을 도출해 낼 수 있다. </p> \n",
    " \n",
    "<br><br>\n",
    "\n",
    "> <b> 회귀분석의 전제조건 </b> <br>\n",
    "\n",
    "첫번째, 독립변수는 동일한 분산을 가져야한다는 등분산성이다.\n",
    "\n",
    "두번째, 독립변수와 종속변수는 선형관계에 있어야한다.\n",
    "\n",
    "세번째, 독립변수가 여러개인 경우, 독립변수간이 독립적이여야한다.\n",
    "\n",
    "네번째, 평균이 0이고 분산이 시그마제곱인 정규성을 가져야한다."
   ]
  },
  {
   "cell_type": "markdown",
   "metadata": {},
   "source": [
    "#### 1. 단순회귀분석\n",
    "\n",
    "> 단순회귀분석이란 하나의 수치형 설명변수가 하나의 수치형 종속변수에 어떤 인과관계 또는 영향을 미치는지에 대한 분석을 말한다. 많은 변수는 고려하지않고 오직 하나의 종속변수(Y)와 하나의 독립변수(X)에 의해서만 시행\n",
    "\n",
    "> 단순회귀분석을 통해 X가 얼만큼 변하면 Y가 어느 정도 변하는지를 정확히 <b> 추정 </b> 할 수 있다.\n",
    "\n",
    "> 적합값 (Y Hat)은 예측값을 지칭한다 \n",
    "\n",
    "> Hat 표기볍은 추정치와 미리 알고 있는 값을 구분하기 위해 사용한다\n",
    "\n",
    "> 잔차 ei는 원래 값에서 예측한 값을 뺀 값이다\n",
    "\n",
    "> 회귀분석에서 회귀 모형 추정을 하기 위한 회귀 직선을 구하는 방법 중 하나로 <b> 최소제곱법 </b>이 있다. 최소제곱법은 잔차들의 제곱합인 잔차제곱합(RSS)을 최소화하는 선을 말한다\n",
    "\n",
    "> 회귀식의 적합도를 측정하는 척도로 결정계수(R 제곱 통계량)이 있다. 결정계수의 범위는 0에서 1까지이며 <b> 1에 가까울수록 </b> 모형의 설명력이 높다고 판단한다.(모델 데이터의 변동률 측정 , 모델이 데이터에 얼마나 적합한가) 결정계수의 값이 너무 낮은경우의 모형 해석은 의미가 없다. \n",
    "\n",
    "> 회귀분석결과 도출된 회귀식이 유의하지 않다면 해석을 하는 의미가 없을 것이다. 따라서, 도출된 회귀식이 통계적으로 유의한지 확인해야한다. t통계량( * p값)은 계수가 <b> 통계적으로 유의미한 정도 </b> 즉, 예측변수와 목표변수를 랜덤하게 재배치했을 경우 우연히 얻을 수 있는 범위를 어느 정도 벗어났는지를 측정한다. t 통계량이 높을수록 (p 값이 낮을수록) 예측변수는 더욱 유의미하다. "
   ]
  },
  {
   "cell_type": "code",
   "execution_count": 1,
   "metadata": {},
   "outputs": [],
   "source": [
    "## 단순회귀분석 실습(\n",
    "\n",
    "# DataSet => 먼지(Exposure)에 노출된 연수와 폐활량(PEFR) 사이의 관계 분석\n",
    "\n",
    "import numpy as np\n",
    "import statsmodels.api as sm\n",
    "import statsmodels.formula.api as smf\n",
    "import pandas as pd\n",
    "data = pd.read_csv('C:/Users/KIHyuk/Documents/GitHub/Jupyter_Repo/Data/LungDisease.csv', engine='python')"
   ]
  },
  {
   "cell_type": "code",
   "execution_count": 2,
   "metadata": {},
   "outputs": [
    {
     "data": {
      "image/png": "[encoded data removed]",
      "text/plain": [
       "<Figure size 432x288 with 1 Axes>"
      ]
     },
     "metadata": {},
     "output_type": "display_data"
    }
   ],
   "source": [
    "## 산점도\n",
    "\n",
    "data_scatter = data.plot.scatter(x='Exposure',y='PEFR')"
   ]
  },
  {
   "cell_type": "code",
   "execution_count": 3,
   "metadata": {},
   "outputs": [
    {
     "data": {
      "text/html": [
       "<table class=\"simpletable\">\n",
       "<caption>OLS Regression Results</caption>\n",
       "<tr>\n",
       "  <th>Dep. Variable:</th>          <td>PEFR</td>       <th>  R-squared:         </th> <td>   0.077</td>\n",
       "</tr>\n",
       "<tr>\n",
       "  <th>Model:</th>                   <td>OLS</td>       <th>  Adj. R-squared:    </th> <td>   0.069</td>\n",
       "</tr>\n",
       "<tr>\n",
       "  <th>Method:</th>             <td>Least Squares</td>  <th>  F-statistic:       </th> <td>   9.974</td>\n",
       "</tr>\n",
       "<tr>\n",
       "  <th>Date:</th>             <td>Fri, 02 Aug 2019</td> <th>  Prob (F-statistic):</th>  <td>0.00201</td>\n",
       "</tr>\n",
       "<tr>\n",
       "  <th>Time:</th>                 <td>16:14:04</td>     <th>  Log-Likelihood:    </th> <td> -735.68</td>\n",
       "</tr>\n",
       "<tr>\n",
       "  <th>No. Observations:</th>      <td>   122</td>      <th>  AIC:               </th> <td>   1475.</td>\n",
       "</tr>\n",
       "<tr>\n",
       "  <th>Df Residuals:</th>          <td>   120</td>      <th>  BIC:               </th> <td>   1481.</td>\n",
       "</tr>\n",
       "<tr>\n",
       "  <th>Df Model:</th>              <td>     1</td>      <th>                     </th>     <td> </td>   \n",
       "</tr>\n",
       "<tr>\n",
       "  <th>Covariance Type:</th>      <td>nonrobust</td>    <th>                     </th>     <td> </td>   \n",
       "</tr>\n",
       "</table>\n",
       "<table class=\"simpletable\">\n",
       "<tr>\n",
       "      <td></td>         <th>coef</th>     <th>std err</th>      <th>t</th>      <th>P>|t|</th>  <th>[0.025</th>    <th>0.975]</th>  \n",
       "</tr>\n",
       "<tr>\n",
       "  <th>Intercept</th> <td>  424.5828</td> <td>   20.796</td> <td>   20.417</td> <td> 0.000</td> <td>  383.408</td> <td>  465.757</td>\n",
       "</tr>\n",
       "<tr>\n",
       "  <th>Exposure</th>  <td>   -4.1846</td> <td>    1.325</td> <td>   -3.158</td> <td> 0.002</td> <td>   -6.808</td> <td>   -1.561</td>\n",
       "</tr>\n",
       "</table>\n",
       "<table class=\"simpletable\">\n",
       "<tr>\n",
       "  <th>Omnibus:</th>       <td> 0.767</td> <th>  Durbin-Watson:     </th> <td>   1.111</td>\n",
       "</tr>\n",
       "<tr>\n",
       "  <th>Prob(Omnibus):</th> <td> 0.681</td> <th>  Jarque-Bera (JB):  </th> <td>   0.891</td>\n",
       "</tr>\n",
       "<tr>\n",
       "  <th>Skew:</th>          <td>-0.162</td> <th>  Prob(JB):          </th> <td>   0.641</td>\n",
       "</tr>\n",
       "<tr>\n",
       "  <th>Kurtosis:</th>      <td> 2.734</td> <th>  Cond. No.          </th> <td>    35.7</td>\n",
       "</tr>\n",
       "</table><br/><br/>Warnings:<br/>[1] Standard Errors assume that the covariance matrix of the errors is correctly specified."
      ],
      "text/plain": [
       "<class 'statsmodels.iolib.summary.Summary'>\n",
       "\"\"\"\n",
       "                            OLS Regression Results                            \n",
       "==============================================================================\n",
       "Dep. Variable:                   PEFR   R-squared:                       0.077\n",
       "Model:                            OLS   Adj. R-squared:                  0.069\n",
       "Method:                 Least Squares   F-statistic:                     9.974\n",
       "Date:                Fri, 02 Aug 2019   Prob (F-statistic):            0.00201\n",
       "Time:                        16:14:04   Log-Likelihood:                -735.68\n",
       "No. Observations:                 122   AIC:                             1475.\n",
       "Df Residuals:                     120   BIC:                             1481.\n",
       "Df Model:                           1                                         \n",
       "Covariance Type:            nonrobust                                         \n",
       "==============================================================================\n",
       "                 coef    std err          t      P>|t|      [0.025      0.975]\n",
       "------------------------------------------------------------------------------\n",
       "Intercept    424.5828     20.796     20.417      0.000     383.408     465.757\n",
       "Exposure      -4.1846      1.325     -3.158      0.002      -6.808      -1.561\n",
       "==============================================================================\n",
       "Omnibus:                        0.767   Durbin-Watson:                   1.111\n",
       "Prob(Omnibus):                  0.681   Jarque-Bera (JB):                0.891\n",
       "Skew:                          -0.162   Prob(JB):                        0.641\n",
       "Kurtosis:                       2.734   Cond. No.                         35.7\n",
       "==============================================================================\n",
       "\n",
       "Warnings:\n",
       "[1] Standard Errors assume that the covariance matrix of the errors is correctly specified.\n",
       "\"\"\""
      ]
     },
     "execution_count": 3,
     "metadata": {},
     "output_type": "execute_result"
    }
   ],
   "source": [
    "## 다양한 통계 모델을 평가하고 통계 테스트를 수행하고 통계 데이터를 탐색하는 데 필요한 클래스와 함수를 제공하는 Python모듈 \n",
    "## 최소제곱법을 활용한 선형회귀분석\n",
    "# import statsmodels.api as sm\n",
    "# import statsmodels.formula.api as smf\n",
    "\n",
    "model = smf.ols(formula = 'PEFR ~ Exposure ', data = data) # smf(statsmodel의 ols(최소제곱법)을 사용하여 회귀모형 생성 ) #Formula = '종속변수 ~ 독립변수\n",
    "result = model.fit() # 모형 적합화\n",
    "result.summary()"
   ]
  },
  {
   "cell_type": "markdown",
   "metadata": {},
   "source": [
    "> <b>단순회귀분석 결과의 해석 </b>\n",
    "\n",
    "1. 결정계수 확인\n",
    "2. 모형의 적합도 확인\n",
    "3. 회귀계수 확인\n",
    "4. t값과 t값의 유의확률 확인\n",
    "\n",
    "<br>\n",
    "\n",
    "* 결정계수의 경우(R-squared)의 경우 0.077로 이는, 회귀모형의 설명력이 7.7%라는것을 의미 (매우 낮음)\n",
    "* F값 9.974 와 P>|t|(유의확률) 0.000으로 ???\n",
    "* 기울기(방문빈도)는 -4.1846    # P>|t| 0.002 유의\n",
    "* Intercept는 424.5828          # P>|t| 0.000 유의\n",
    "\n",
    "<b> 먼지에 노출되는 연수가 1씩 증가할 때마다, PEFR은 -4.185의 비율로 줄어든다 </b>\n",
    "\n"
   ]
  },
  {
   "cell_type": "markdown",
   "metadata": {},
   "source": [
    "#### 2. 다중회귀분석\n",
    "\n",
    "> 다중회귀분석이란 하나의 <b> 수치형 종속변수와 2개이상의 수치형 독립변수 사이의 영향 또는 인과관계를 설명 </b> 하는 분석을 말한다\n",
    "\n",
    "> 단순회귀모형에서와 마찬가지로 잔차제곱합을 최소화하는 최소제곱법에 의해 회귀모형을 추정할 수 있다(회귀 직선)\n",
    "\n",
    "> 다중회귀분석은 단순회귀분석과는 달리 독립변수가 2개이상 들어간다. 독립변수의 수는 그 수가 많을 수록 결정계수 값이 올라가는 특성이 있다. 이를 보완한 것이 <b> 수정된 결정계수(Adjusted R-squared) </b> 이다. 즉, 다중회귀분석 시 \"수정된 결정계수를 통해 모형의 설명력을 판단한다\n",
    "\n",
    "<b> 다중공선성 </b>\n",
    "* <b> 다중공선성이란 </b> 독립변수들 간의 완전한 선형종속의 관계를 말한다. 다중회귀분석시 독립변수를 선택을 했다면 이 독립변수들 간에 상관관계가 존재하는지 확인해야한다\n",
    "* 즉, 다중공선성이 존재한다면 독립변수들이 독립적이지 못하다는것을 의미하므로 회귀모형 예측이 불가능하다 <br><br>\n",
    "\n",
    "![title](../img/다중공선성 존재 판단기준.jpg)\n",
    "\n",
    "<br><br>\n",
    "\n",
    "<b> < 다중공선성 문제 해결 방안 > </b>\n",
    "* 다중공선성이 의심되는 변수를 제거한다\n",
    "* 독립변수 입력방식을 바꿔본다\n",
    "* 독립변수들을 요인으로 묶어 분석을 한다\n",
    "    \n",
    "<br><br>\n",
    "\n",
    "<b> 독립변수의 선택 </b>\n",
    "\n",
    "![title](../img/다중회귀분석 독립변수 선택 방법.png)"
   ]
  },
  {
   "cell_type": "code",
   "execution_count": 23,
   "metadata": {
    "scrolled": true
   },
   "outputs": [
    {
     "data": {
      "text/html": [
       "<table class=\"simpletable\">\n",
       "<caption>OLS Regression Results</caption>\n",
       "<tr>\n",
       "  <th>Dep. Variable:</th>           <td>OPS</td>       <th>  R-squared:         </th> <td>   0.858</td>\n",
       "</tr>\n",
       "<tr>\n",
       "  <th>Model:</th>                   <td>OLS</td>       <th>  Adj. R-squared:    </th> <td>   0.857</td>\n",
       "</tr>\n",
       "<tr>\n",
       "  <th>Method:</th>             <td>Least Squares</td>  <th>  F-statistic:       </th> <td>   4865.</td>\n",
       "</tr>\n",
       "<tr>\n",
       "  <th>Date:</th>             <td>Fri, 02 Aug 2019</td> <th>  Prob (F-statistic):</th>  <td>  0.00</td> \n",
       "</tr>\n",
       "<tr>\n",
       "  <th>Time:</th>                 <td>17:48:33</td>     <th>  Log-Likelihood:    </th> <td>  2176.7</td>\n",
       "</tr>\n",
       "<tr>\n",
       "  <th>No. Observations:</th>      <td>  2428</td>      <th>  AIC:               </th> <td>  -4345.</td>\n",
       "</tr>\n",
       "<tr>\n",
       "  <th>Df Residuals:</th>          <td>  2424</td>      <th>  BIC:               </th> <td>  -4322.</td>\n",
       "</tr>\n",
       "<tr>\n",
       "  <th>Df Model:</th>              <td>     3</td>      <th>                     </th>     <td> </td>   \n",
       "</tr>\n",
       "<tr>\n",
       "  <th>Covariance Type:</th>      <td>nonrobust</td>    <th>                     </th>     <td> </td>   \n",
       "</tr>\n",
       "</table>\n",
       "<table class=\"simpletable\">\n",
       "<tr>\n",
       "      <td></td>         <th>coef</th>     <th>std err</th>      <th>t</th>      <th>P>|t|</th>  <th>[0.025</th>    <th>0.975]</th>  \n",
       "</tr>\n",
       "<tr>\n",
       "  <th>Intercept</th> <td>    0.0729</td> <td>    0.006</td> <td>   12.772</td> <td> 0.000</td> <td>    0.062</td> <td>    0.084</td>\n",
       "</tr>\n",
       "<tr>\n",
       "  <th>AB</th>        <td> 6.698e-05</td> <td>    7e-05</td> <td>    0.957</td> <td> 0.339</td> <td>-7.02e-05</td> <td>    0.000</td>\n",
       "</tr>\n",
       "<tr>\n",
       "  <th>avg</th>       <td>    2.2723</td> <td>    0.024</td> <td>   94.251</td> <td> 0.000</td> <td>    2.225</td> <td>    2.320</td>\n",
       "</tr>\n",
       "<tr>\n",
       "  <th>H</th>         <td>    0.0004</td> <td>    0.000</td> <td>    1.806</td> <td> 0.071</td> <td>-3.58e-05</td> <td>    0.001</td>\n",
       "</tr>\n",
       "</table>\n",
       "<table class=\"simpletable\">\n",
       "<tr>\n",
       "  <th>Omnibus:</th>       <td>1323.456</td> <th>  Durbin-Watson:     </th>  <td>   1.569</td> \n",
       "</tr>\n",
       "<tr>\n",
       "  <th>Prob(Omnibus):</th>  <td> 0.000</td>  <th>  Jarque-Bera (JB):  </th> <td>198211.683</td>\n",
       "</tr>\n",
       "<tr>\n",
       "  <th>Skew:</th>           <td> 1.534</td>  <th>  Prob(JB):          </th>  <td>    0.00</td> \n",
       "</tr>\n",
       "<tr>\n",
       "  <th>Kurtosis:</th>       <td>47.157</td>  <th>  Cond. No.          </th>  <td>3.37e+03</td> \n",
       "</tr>\n",
       "</table><br/><br/>Warnings:<br/>[1] Standard Errors assume that the covariance matrix of the errors is correctly specified.<br/>[2] The condition number is large, 3.37e+03. This might indicate that there are<br/>strong multicollinearity or other numerical problems."
      ],
      "text/plain": [
       "<class 'statsmodels.iolib.summary.Summary'>\n",
       "\"\"\"\n",
       "                            OLS Regression Results                            \n",
       "==============================================================================\n",
       "Dep. Variable:                    OPS   R-squared:                       0.858\n",
       "Model:                            OLS   Adj. R-squared:                  0.857\n",
       "Method:                 Least Squares   F-statistic:                     4865.\n",
       "Date:                Fri, 02 Aug 2019   Prob (F-statistic):               0.00\n",
       "Time:                        17:48:33   Log-Likelihood:                 2176.7\n",
       "No. Observations:                2428   AIC:                            -4345.\n",
       "Df Residuals:                    2424   BIC:                            -4322.\n",
       "Df Model:                           3                                         \n",
       "Covariance Type:            nonrobust                                         \n",
       "==============================================================================\n",
       "                 coef    std err          t      P>|t|      [0.025      0.975]\n",
       "------------------------------------------------------------------------------\n",
       "Intercept      0.0729      0.006     12.772      0.000       0.062       0.084\n",
       "AB          6.698e-05      7e-05      0.957      0.339   -7.02e-05       0.000\n",
       "avg            2.2723      0.024     94.251      0.000       2.225       2.320\n",
       "H              0.0004      0.000      1.806      0.071   -3.58e-05       0.001\n",
       "==============================================================================\n",
       "Omnibus:                     1323.456   Durbin-Watson:                   1.569\n",
       "Prob(Omnibus):                  0.000   Jarque-Bera (JB):           198211.683\n",
       "Skew:                           1.534   Prob(JB):                         0.00\n",
       "Kurtosis:                      47.157   Cond. No.                     3.37e+03\n",
       "==============================================================================\n",
       "\n",
       "Warnings:\n",
       "[1] Standard Errors assume that the covariance matrix of the errors is correctly specified.\n",
       "[2] The condition number is large, 3.37e+03. This might indicate that there are\n",
       "strong multicollinearity or other numerical problems.\n",
       "\"\"\""
      ]
     },
     "execution_count": 23,
     "metadata": {},
     "output_type": "execute_result"
    }
   ],
   "source": [
    "##다중회귀분석 실습\n",
    "\n",
    "# DataSet => OPS 추정, AB(타석),avg(타율), H(홈런)\n",
    "\n",
    "tmp = pd.read_csv('C:/Users/KIHyuk/Documents/GitHub/Jupyter_Repo/Data/Regular_Season_Batter.csv')\n",
    "data_2 = tmp[['OPS','AB','avg','H']]\n",
    "\n",
    "model_2 = smf.ols(formula = 'OPS ~ AB+avg+H', data = data_2) # smf(statsmodel의 ols(최소제곱법)을 사용하여 회귀모형 생성 ) #Formula = '종속변수 ~ 독립변수\n",
    "result = model_2.fit() # 모형 적합화\n",
    "result.summary()\n"
   ]
  },
  {
   "cell_type": "code",
   "execution_count": 28,
   "metadata": {},
   "outputs": [
    {
     "data": {
      "text/html": [
       "<div>\n",
       "<style scoped>\n",
       "    .dataframe tbody tr th:only-of-type {\n",
       "        vertical-align: middle;\n",
       "    }\n",
       "\n",
       "    .dataframe tbody tr th {\n",
       "        vertical-align: top;\n",
       "    }\n",
       "\n",
       "    .dataframe thead th {\n",
       "        text-align: right;\n",
       "    }\n",
       "</style>\n",
       "<table border=\"1\" class=\"dataframe\">\n",
       "  <thead>\n",
       "    <tr style=\"text-align: right;\">\n",
       "      <th></th>\n",
       "      <th>VIF Factor</th>\n",
       "      <th>features</th>\n",
       "    </tr>\n",
       "  </thead>\n",
       "  <tbody>\n",
       "    <tr>\n",
       "      <th>0</th>\n",
       "      <td>8.1</td>\n",
       "      <td>Intercept</td>\n",
       "    </tr>\n",
       "    <tr>\n",
       "      <th>1</th>\n",
       "      <td>34.8</td>\n",
       "      <td>AB</td>\n",
       "    </tr>\n",
       "    <tr>\n",
       "      <th>2</th>\n",
       "      <td>1.4</td>\n",
       "      <td>avg</td>\n",
       "    </tr>\n",
       "    <tr>\n",
       "      <th>3</th>\n",
       "      <td>36.2</td>\n",
       "      <td>H</td>\n",
       "    </tr>\n",
       "  </tbody>\n",
       "</table>\n",
       "</div>"
      ],
      "text/plain": [
       "   VIF Factor   features\n",
       "0         8.1  Intercept\n",
       "1        34.8         AB\n",
       "2         1.4        avg\n",
       "3        36.2          H"
      ]
     },
     "execution_count": 28,
     "metadata": {},
     "output_type": "execute_result"
    }
   ],
   "source": [
    "## 다중공선성 여부 확인\n",
    "\n",
    "from patsy import dmatrices\n",
    "from statsmodels.stats.outliers_influence import variance_inflation_factor\n",
    "\n",
    "features = \"AB + avg + H\"\n",
    "\n",
    "vif = pd.DataFrame()\n",
    "vif[\"VIF Factor\"] = [variance_inflation_factor(X.values, i) for i in range(X.shape[1])]\n",
    "vif[\"features\"] = X.columns\n",
    "vif.round(1)"
   ]
  },
  {
   "cell_type": "markdown",
   "metadata": {},
   "source": [
    "<b>  다중공선성 여부 확인 </b>\n",
    "\n",
    "* AB와 H의 경우 10 이상으로 다중공선성을 보인다. 따라서 해당 독립변수가 독립적이지 않다고 볼 수 있다."
   ]
  },
  {
   "cell_type": "code",
   "execution_count": null,
   "metadata": {},
   "outputs": [],
   "source": []
  },
  {
   "cell_type": "code",
   "execution_count": null,
   "metadata": {},
   "outputs": [],
   "source": []
  },
  {
   "cell_type": "code",
   "execution_count": null,
   "metadata": {},
   "outputs": [],
   "source": []
  },
  {
   "cell_type": "code",
   "execution_count": null,
   "metadata": {},
   "outputs": [],
   "source": []
  },
  {
   "cell_type": "code",
   "execution_count": null,
   "metadata": {},
   "outputs": [],
   "source": []
  },
  {
   "cell_type": "code",
   "execution_count": null,
   "metadata": {},
   "outputs": [],
   "source": []
  }
 ],
 "metadata": {
  "kernelspec": {
   "display_name": "Python 3",
   "language": "python",
   "name": "python3"
  },
  "language_info": {
   "codemirror_mode": {
    "name": "ipython",
    "version": 3
   },
   "file_extension": ".py",
   "mimetype": "text/x-python",
   "name": "python",
   "nbconvert_exporter": "python",
   "pygments_lexer": "ipython3",
   "version": "3.6.5"
  }
 },
 "nbformat": 4,
 "nbformat_minor": 2
}
