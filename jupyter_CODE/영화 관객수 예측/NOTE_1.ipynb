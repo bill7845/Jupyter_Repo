{
 "cells": [
  {
   "cell_type": "code",
   "execution_count": 24,
   "metadata": {},
   "outputs": [],
   "source": [
    "## libarary import\n",
    "import pandas as pd\n",
    "import numpy as np\n",
    "\n",
    "import\n",
    "\n",
    "## data load\n",
    "train = pd.read_csv('./data/movies_train.csv')\n",
    "test = pd.read_csv('./data/movies_test.csv')\n",
    "submission = pd.read_csv('./data/submission.csv')"
   ]
  },
  {
   "cell_type": "code",
   "execution_count": 27,
   "metadata": {},
   "outputs": [
    {
     "data": {
      "text/plain": [
       "count    6.000000e+02\n",
       "mean     7.081818e+05\n",
       "std      1.828006e+06\n",
       "min      1.000000e+00\n",
       "25%      1.297250e+03\n",
       "50%      1.259100e+04\n",
       "75%      4.798868e+05\n",
       "max      1.426277e+07\n",
       "Name: box_off_num, dtype: float64"
      ]
     },
     "execution_count": 27,
     "metadata": {},
     "output_type": "execute_result"
    }
   ],
   "source": [
    "## check data\n",
    "train['box_off_num'].plot(kind='bar')\n",
    "train['box_off_num'].describe()"
   ]
  }
 ],
 "metadata": {
  "kernelspec": {
   "display_name": "Python 3",
   "language": "python",
   "name": "python3"
  },
  "language_info": {
   "codemirror_mode": {
    "name": "ipython",
    "version": 3
   },
   "file_extension": ".py",
   "mimetype": "text/x-python",
   "name": "python",
   "nbconvert_exporter": "python",
   "pygments_lexer": "ipython3",
   "version": "3.7.4"
  }
 },
 "nbformat": 4,
 "nbformat_minor": 2
}
