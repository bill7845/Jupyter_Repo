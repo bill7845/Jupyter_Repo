{
 "cells": [
  {
   "cell_type": "markdown",
   "metadata": {},
   "source": [
    "# Description\n",
    "---\n",
    "\n",
    "<br>\n",
    "통계청에 따르면 한국인의 절반은 아파트에 살고 있습니다. 아파트에 대한 선호도가 매우 높으며 부의 증식 수단으로 생각하기 때문에 아파트의 가격에 관심이 많습니다.\n",
    "<br>\n",
    "본대회에서는 서울/부산 지역의 아파트와 실거래가 데이터를 기반으로한 예측모델을 통해 아파트 구매자들의 정보 비대칭성을 해결하고자 합니다. "
   ]
  },
  {
   "cell_type": "markdown",
   "metadata": {},
   "source": [
    "# Index\n",
    "---\n",
    "\n",
    "### Step1.  Data Load & Check\n",
    "\n",
    "변수타입 및 결측값 확인 <br>\n",
    "date type의 데이터 type 변환 <br>\n",
    "\n",
    "### Step2. EDA\n",
    "\n",
    "변수별 분포 확인 <br>\n",
    "지역변수(서울/부산)가 실거래가에 미치는 영향 확인 => t-test <br>\n",
    "지역별로(서울/부산) 나누어 진행 <br>\n",
    "실거래가와 변수간 상관관계 확인 <br>\n",
    "\n",
    "### Step3. Modeling\n",
    "\n",
    "RandomForest Regressor <br>\n",
    "XGBoost Regressor <br>\n",
    "LightGBM Regressor"
   ]
  }
 ],
 "metadata": {
  "kernelspec": {
   "display_name": "Python 3",
   "language": "python",
   "name": "python3"
  },
  "language_info": {
   "codemirror_mode": {
    "name": "ipython",
    "version": 3
   },
   "file_extension": ".py",
   "mimetype": "text/x-python",
   "name": "python",
   "nbconvert_exporter": "python",
   "pygments_lexer": "ipython3",
   "version": "3.7.4"
  }
 },
 "nbformat": 4,
 "nbformat_minor": 2
}
