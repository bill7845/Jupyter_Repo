{
 "cells": [
  {
   "cell_type": "markdown",
   "metadata": {},
   "source": [
    "### 전체 쿼리\n",
    "\n",
    "~~~sql\n",
    "CREATE TABLE CHARACTERS (\n",
    "    NAME VARCHAR2(20),\n",
    "    SPEED INT,\n",
    "    BOOST_SPEED INT,\n",
    "    BOOST_TIME INT,\n",
    "    PRICE INT\n",
    "    );\n",
    "    \n",
    "CREATE TABLE PURCHASES (\n",
    "    ID INT,\n",
    "    USER_ID VARCHAR2(20),\n",
    "    PURCHASE_DATE DATE,\n",
    "    ITEM VARCHAR2(20)\n",
    "    );\n",
    "    \n",
    "INSERT INTO CHARACTERS VALUES('Albatross',198,447,12,1000);\n",
    "INSERT INTO CHARACTERS VALUES('Bee',201,472,7,3000);\n",
    "INSERT INTO PURCHASES VALUES(1,'user2',sysdate,'Bee');\n",
    "INSERT INTO PURCHASES VALUES(2,'user1',sysdate,'Bee');\n",
    "\n",
    "SELECT c.NAME, c.PRICE*NVL(p.CNT,0) as CNT\n",
    "FROM (SELECT NAME,PRICE FROM CHARACTERS) c LEFT OUTER JOIN (SELECT ITEM,COUNT(ITEM) CNT FROM PURCHASES GROUP BY ITEM) p \n",
    "ON c.NAME  = p.ITEM\n",
    "ORDER BY CNT ASC;\n",
    "~~~\n"
   ]
  },
  {
   "cell_type": "markdown",
   "metadata": {},
   "source": [
    "#### 1. CREATE TABLE\n",
    "\n",
    "<br>\n",
    "\n",
    "* CHARACTERS 테이블 생성\n",
    "![테이블생성1](https://user-images.githubusercontent.com/35517797/68262874-db6a8e80-0087-11ea-913a-10ac5a13707c.PNG)\n",
    "\n",
    "<br>\n",
    "\n",
    "* PURCHASES 테이블 생성\n",
    "![테이블생성2](https://user-images.githubusercontent.com/35517797/68262880-df96ac00-0087-11ea-8b7a-e9562b588823.PNG)"
   ]
  },
  {
   "cell_type": "markdown",
   "metadata": {},
   "source": [
    "#### 2. INSERT DATA\n",
    "\n",
    "<br>\n",
    "\n",
    "* INSERT DATA\n",
    "![데이터 INSERT](https://user-images.githubusercontent.com/35517797/68262976-284e6500-0088-11ea-9e8b-9315b3958deb.PNG)"
   ]
  },
  {
   "cell_type": "markdown",
   "metadata": {},
   "source": [
    "#### 3. TABLE 확인\n",
    "\n",
    "<br>\n",
    "\n",
    "* 테이블 생성 확인\n",
    "![테이블1](https://user-images.githubusercontent.com/35517797/68263045-5a5fc700-0088-11ea-8e8c-a7f6259908ee.PNG)\n",
    "![테이블2](https://user-images.githubusercontent.com/35517797/68263051-5cc22100-0088-11ea-83c6-5eff7a7d251f.PNG)"
   ]
  },
  {
   "cell_type": "markdown",
   "metadata": {},
   "source": [
    "#### 4. 쿼리 실행\n",
    "\n",
    "* 쿼리실행 결과\n",
    "![쿼리실행](https://user-images.githubusercontent.com/35517797/68263175-ad397e80-0088-11ea-8b57-93698fde82e8.PNG)"
   ]
  }
 ],
 "metadata": {
  "kernelspec": {
   "display_name": "Python 3",
   "language": "python",
   "name": "python3"
  },
  "language_info": {
   "codemirror_mode": {
    "name": "ipython",
    "version": 3
   },
   "file_extension": ".py",
   "mimetype": "text/x-python",
   "name": "python",
   "nbconvert_exporter": "python",
   "pygments_lexer": "ipython3",
   "version": "3.7.4"
  }
 },
 "nbformat": 4,
 "nbformat_minor": 2
}
