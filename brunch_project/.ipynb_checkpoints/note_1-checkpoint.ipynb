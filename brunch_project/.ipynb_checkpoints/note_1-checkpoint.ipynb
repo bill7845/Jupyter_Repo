{
 "cells": [
  {
   "cell_type": "code",
   "execution_count": 60,
   "metadata": {},
   "outputs": [],
   "source": [
    "import pandas as pd\n",
    "import json\n",
    "import os"
   ]
  },
  {
   "cell_type": "code",
   "execution_count": 67,
   "metadata": {},
   "outputs": [],
   "source": [
    "with open('../brunch_craw/그림·웹툰.json',encoding='UTF8') as json_file:\n",
    "    json_data = json.load(json_file)"
   ]
  },
  {
   "cell_type": "code",
   "execution_count": 5,
   "metadata": {},
   "outputs": [
    {
     "data": {
      "text/plain": [
       "dict_keys(['name', 'version', 'data'])"
      ]
     },
     "execution_count": 5,
     "metadata": {},
     "output_type": "execute_result"
    }
   ],
   "source": [
    "json_data.keys()"
   ]
  },
  {
   "cell_type": "code",
   "execution_count": 4,
   "metadata": {},
   "outputs": [],
   "source": [
    "# data :\n",
    "# 'title', 'nickname', 'publish_date', 'keyword[]', 'like', 'share', 'comment', 'url', 'url_plink', 'text[]'"
   ]
  },
  {
   "cell_type": "code",
   "execution_count": 68,
   "metadata": {},
   "outputs": [
    {
     "data": {
      "text/plain": [
       "6298"
      ]
     },
     "execution_count": 68,
     "metadata": {},
     "output_type": "execute_result"
    }
   ],
   "source": [
    "len(json_data['data'])"
   ]
  },
  {
   "cell_type": "code",
   "execution_count": 47,
   "metadata": {
    "scrolled": true
   },
   "outputs": [],
   "source": [
    "# 건강.운동\n",
    "df = pd.DataFrame(json_data['data'],\n",
    "                  columns=['title','keyword','text','nickname','publish_date','likes','share','comment','url','url_plink'])"
   ]
  },
  {
   "cell_type": "code",
   "execution_count": 48,
   "metadata": {},
   "outputs": [
    {
     "data": {
      "text/html": [
       "<div>\n",
       "<style scoped>\n",
       "    .dataframe tbody tr th:only-of-type {\n",
       "        vertical-align: middle;\n",
       "    }\n",
       "\n",
       "    .dataframe tbody tr th {\n",
       "        vertical-align: top;\n",
       "    }\n",
       "\n",
       "    .dataframe thead th {\n",
       "        text-align: right;\n",
       "    }\n",
       "</style>\n",
       "<table border=\"1\" class=\"dataframe\">\n",
       "  <thead>\n",
       "    <tr style=\"text-align: right;\">\n",
       "      <th></th>\n",
       "      <th>title</th>\n",
       "      <th>keyword</th>\n",
       "      <th>text</th>\n",
       "      <th>nickname</th>\n",
       "      <th>publish_date</th>\n",
       "      <th>likes</th>\n",
       "      <th>share</th>\n",
       "      <th>comment</th>\n",
       "      <th>url</th>\n",
       "      <th>url_plink</th>\n",
       "    </tr>\n",
       "  </thead>\n",
       "  <tbody>\n",
       "    <tr>\n",
       "      <td>0</td>\n",
       "      <td>마요르카의 자가 격리자 쇼팽</td>\n",
       "      <td>[쇼팽\\n                        , 마요르카\\n         ...</td>\n",
       "      <td>[이 칼럼은 네이버여행+ 발행 중인 '정은주의 클래식 음악 여행 14회' 전문 입니...</td>\n",
       "      <td>클래식컨시어지</td>\n",
       "      <td>2020-03-27T23:57+0900</td>\n",
       "      <td>NaN</td>\n",
       "      <td>None</td>\n",
       "      <td></td>\n",
       "      <td>https://brunch.co.kr/@cello0413/91</td>\n",
       "      <td>https://brunch.co.kr/@@8pcq/91</td>\n",
       "    </tr>\n",
       "    <tr>\n",
       "      <td>1</td>\n",
       "      <td>[Austria] 중간점검 - 일상</td>\n",
       "      <td>[그림일기\\n                        , 해외여행\\n       ...</td>\n",
       "      <td>[1. 2020년 시작!,  새해를 알리는 신호탄은 언제나 그랬든 각종 사건사고로 ...</td>\n",
       "      <td>Justrip</td>\n",
       "      <td>2020-03-27T22:56+0900</td>\n",
       "      <td>NaN</td>\n",
       "      <td>None</td>\n",
       "      <td></td>\n",
       "      <td>https://brunch.co.kr/@jhk4685/36</td>\n",
       "      <td>https://brunch.co.kr/@@7N4r/36</td>\n",
       "    </tr>\n",
       "    <tr>\n",
       "      <td>2</td>\n",
       "      <td>말라가</td>\n",
       "      <td>[디자인\\n                        , 드로잉\\n         ...</td>\n",
       "      <td>[그곳의 햇살 아래 있다 보니, 피카소의 재능이, 내 것 같은 착각마저 들었다.]</td>\n",
       "      <td>개꽃뽁</td>\n",
       "      <td>2020-03-27T22:51+0900</td>\n",
       "      <td>NaN</td>\n",
       "      <td>1</td>\n",
       "      <td></td>\n",
       "      <td>https://brunch.co.kr/@dogflower/77</td>\n",
       "      <td>https://brunch.co.kr/@@779K/77</td>\n",
       "    </tr>\n",
       "    <tr>\n",
       "      <td>3</td>\n",
       "      <td>남아프리카공화국, 여행 1화</td>\n",
       "      <td>[여행\\n                        , 아프리카여행\\n       ...</td>\n",
       "      <td>[철컹.. 철컹... 겉은 멀쩡한데 안으로 들어갈수록 구치소 들어가는 느낌이다. 가...</td>\n",
       "      <td>혜윰</td>\n",
       "      <td>2020-03-27T22:19+0900</td>\n",
       "      <td>NaN</td>\n",
       "      <td>None</td>\n",
       "      <td></td>\n",
       "      <td>https://brunch.co.kr/@heyum/160</td>\n",
       "      <td>https://brunch.co.kr/@@3gM/160</td>\n",
       "    </tr>\n",
       "    <tr>\n",
       "      <td>4</td>\n",
       "      <td>방구석에서 세계 여행하는 방법, 무료 주의!</td>\n",
       "      <td>[세계여행\\n                        , 공감에세이\\n      ...</td>\n",
       "      <td>[세계가 단절됐다. 코로나 19가 세계인들을 각자의 집에 감금을 시켰다. 답답해서 ...</td>\n",
       "      <td>쩌리초이</td>\n",
       "      <td>2020-03-27T20:34+0900</td>\n",
       "      <td>NaN</td>\n",
       "      <td>None</td>\n",
       "      <td>2</td>\n",
       "      <td>https://brunch.co.kr/@choijh0309/47</td>\n",
       "      <td>https://brunch.co.kr/@@8h08/47</td>\n",
       "    </tr>\n",
       "  </tbody>\n",
       "</table>\n",
       "</div>"
      ],
      "text/plain": [
       "                      title  \\\n",
       "0           마요르카의 자가 격리자 쇼팽   \n",
       "1       [Austria] 중간점검 - 일상   \n",
       "2                       말라가   \n",
       "3           남아프리카공화국, 여행 1화   \n",
       "4  방구석에서 세계 여행하는 방법, 무료 주의!   \n",
       "\n",
       "                                             keyword  \\\n",
       "0  [쇼팽\\n                        , 마요르카\\n         ...   \n",
       "1  [그림일기\\n                        , 해외여행\\n       ...   \n",
       "2  [디자인\\n                        , 드로잉\\n         ...   \n",
       "3  [여행\\n                        , 아프리카여행\\n       ...   \n",
       "4  [세계여행\\n                        , 공감에세이\\n      ...   \n",
       "\n",
       "                                                text nickname  \\\n",
       "0  [이 칼럼은 네이버여행+ 발행 중인 '정은주의 클래식 음악 여행 14회' 전문 입니...  클래식컨시어지   \n",
       "1  [1. 2020년 시작!,  새해를 알리는 신호탄은 언제나 그랬든 각종 사건사고로 ...  Justrip   \n",
       "2      [그곳의 햇살 아래 있다 보니, 피카소의 재능이, 내 것 같은 착각마저 들었다.]      개꽃뽁   \n",
       "3  [철컹.. 철컹... 겉은 멀쩡한데 안으로 들어갈수록 구치소 들어가는 느낌이다. 가...       혜윰   \n",
       "4  [세계가 단절됐다. 코로나 19가 세계인들을 각자의 집에 감금을 시켰다. 답답해서 ...     쩌리초이   \n",
       "\n",
       "            publish_date  likes share comment  \\\n",
       "0  2020-03-27T23:57+0900    NaN  None           \n",
       "1  2020-03-27T22:56+0900    NaN  None           \n",
       "2  2020-03-27T22:51+0900    NaN     1           \n",
       "3  2020-03-27T22:19+0900    NaN  None           \n",
       "4  2020-03-27T20:34+0900    NaN  None       2   \n",
       "\n",
       "                                   url                       url_plink  \n",
       "0   https://brunch.co.kr/@cello0413/91  https://brunch.co.kr/@@8pcq/91  \n",
       "1     https://brunch.co.kr/@jhk4685/36  https://brunch.co.kr/@@7N4r/36  \n",
       "2   https://brunch.co.kr/@dogflower/77  https://brunch.co.kr/@@779K/77  \n",
       "3      https://brunch.co.kr/@heyum/160  https://brunch.co.kr/@@3gM/160  \n",
       "4  https://brunch.co.kr/@choijh0309/47  https://brunch.co.kr/@@8h08/47  "
      ]
     },
     "execution_count": 48,
     "metadata": {},
     "output_type": "execute_result"
    }
   ],
   "source": [
    "df.head(5)"
   ]
  },
  {
   "cell_type": "markdown",
   "metadata": {},
   "source": [
    "## preprocessing"
   ]
  },
  {
   "cell_type": "code",
   "execution_count": 49,
   "metadata": {},
   "outputs": [
    {
     "name": "stdout",
     "output_type": "stream",
     "text": [
      "text nan 제거 전 :  137049\n",
      "text nan인 경우 :  2213\n",
      "text nan 제거 후 :  134836\n"
     ]
    }
   ],
   "source": [
    "# text nan 개수\n",
    "print(\"text nan 제거 전 : \",len(df))\n",
    "print(\"text nan인 경우 : \",df['text'].isnull().sum())\n",
    "\n",
    "# text nan 제거\n",
    "df = df.dropna(subset=['text'])\n",
    "\n",
    "print(\"text nan 제거 후 : \",len(df))"
   ]
  },
  {
   "cell_type": "code",
   "execution_count": 50,
   "metadata": {},
   "outputs": [
    {
     "data": {
      "text/plain": [
       "['쇼팽', '마요르카', '해외여행']"
      ]
     },
     "execution_count": 50,
     "metadata": {},
     "output_type": "execute_result"
    }
   ],
   "source": [
    "# keyword \n",
    "def pre_keyword(x):\n",
    "    tmp = []\n",
    "    for val in x:\n",
    "        tmp.append(val.replace(\"\\n\",\"\").replace(\" \",\"\"))\n",
    "    return tmp\n",
    "\n",
    "df['keyword'] = df['keyword'].apply(pre_keyword)\n",
    "\n",
    "df['keyword'][0]"
   ]
  },
  {
   "cell_type": "code",
   "execution_count": 51,
   "metadata": {},
   "outputs": [],
   "source": [
    "def pre_comment(x):\n",
    "    if len(x) == 0:\n",
    "        return None\n",
    "    else :\n",
    "        return x\n",
    "\n",
    "df['comment'] = df['comment'].apply(pre_comment)"
   ]
  },
  {
   "cell_type": "code",
   "execution_count": 52,
   "metadata": {},
   "outputs": [],
   "source": [
    "all_category = pd.DataFrame()"
   ]
  },
  {
   "cell_type": "code",
   "execution_count": 53,
   "metadata": {},
   "outputs": [
    {
     "data": {
      "text/html": [
       "<div>\n",
       "<style scoped>\n",
       "    .dataframe tbody tr th:only-of-type {\n",
       "        vertical-align: middle;\n",
       "    }\n",
       "\n",
       "    .dataframe tbody tr th {\n",
       "        vertical-align: top;\n",
       "    }\n",
       "\n",
       "    .dataframe thead th {\n",
       "        text-align: right;\n",
       "    }\n",
       "</style>\n",
       "<table border=\"1\" class=\"dataframe\">\n",
       "  <thead>\n",
       "    <tr style=\"text-align: right;\">\n",
       "      <th></th>\n",
       "      <th>title</th>\n",
       "      <th>keyword</th>\n",
       "      <th>text</th>\n",
       "      <th>nickname</th>\n",
       "      <th>publish_date</th>\n",
       "      <th>likes</th>\n",
       "      <th>share</th>\n",
       "      <th>comment</th>\n",
       "      <th>url</th>\n",
       "      <th>url_plink</th>\n",
       "    </tr>\n",
       "  </thead>\n",
       "  <tbody>\n",
       "    <tr>\n",
       "      <td>0</td>\n",
       "      <td>마요르카의 자가 격리자 쇼팽</td>\n",
       "      <td>[쇼팽, 마요르카, 해외여행]</td>\n",
       "      <td>[이 칼럼은 네이버여행+ 발행 중인 '정은주의 클래식 음악 여행 14회' 전문 입니...</td>\n",
       "      <td>클래식컨시어지</td>\n",
       "      <td>2020-03-27T23:57+0900</td>\n",
       "      <td>NaN</td>\n",
       "      <td>None</td>\n",
       "      <td>None</td>\n",
       "      <td>https://brunch.co.kr/@cello0413/91</td>\n",
       "      <td>https://brunch.co.kr/@@8pcq/91</td>\n",
       "    </tr>\n",
       "    <tr>\n",
       "      <td>1</td>\n",
       "      <td>[Austria] 중간점검 - 일상</td>\n",
       "      <td>[그림일기, 해외여행, 철학]</td>\n",
       "      <td>[1. 2020년 시작!,  새해를 알리는 신호탄은 언제나 그랬든 각종 사건사고로 ...</td>\n",
       "      <td>Justrip</td>\n",
       "      <td>2020-03-27T22:56+0900</td>\n",
       "      <td>NaN</td>\n",
       "      <td>None</td>\n",
       "      <td>None</td>\n",
       "      <td>https://brunch.co.kr/@jhk4685/36</td>\n",
       "      <td>https://brunch.co.kr/@@7N4r/36</td>\n",
       "    </tr>\n",
       "    <tr>\n",
       "      <td>2</td>\n",
       "      <td>말라가</td>\n",
       "      <td>[디자인, 드로잉, 해외여행]</td>\n",
       "      <td>[그곳의 햇살 아래 있다 보니, 피카소의 재능이, 내 것 같은 착각마저 들었다.]</td>\n",
       "      <td>개꽃뽁</td>\n",
       "      <td>2020-03-27T22:51+0900</td>\n",
       "      <td>NaN</td>\n",
       "      <td>1</td>\n",
       "      <td>None</td>\n",
       "      <td>https://brunch.co.kr/@dogflower/77</td>\n",
       "      <td>https://brunch.co.kr/@@779K/77</td>\n",
       "    </tr>\n",
       "    <tr>\n",
       "      <td>3</td>\n",
       "      <td>남아프리카공화국, 여행 1화</td>\n",
       "      <td>[여행, 아프리카여행, 에세이]</td>\n",
       "      <td>[철컹.. 철컹... 겉은 멀쩡한데 안으로 들어갈수록 구치소 들어가는 느낌이다. 가...</td>\n",
       "      <td>혜윰</td>\n",
       "      <td>2020-03-27T22:19+0900</td>\n",
       "      <td>NaN</td>\n",
       "      <td>None</td>\n",
       "      <td>None</td>\n",
       "      <td>https://brunch.co.kr/@heyum/160</td>\n",
       "      <td>https://brunch.co.kr/@@3gM/160</td>\n",
       "    </tr>\n",
       "    <tr>\n",
       "      <td>4</td>\n",
       "      <td>방구석에서 세계 여행하는 방법, 무료 주의!</td>\n",
       "      <td>[세계여행, 공감에세이, 비정상회담]</td>\n",
       "      <td>[세계가 단절됐다. 코로나 19가 세계인들을 각자의 집에 감금을 시켰다. 답답해서 ...</td>\n",
       "      <td>쩌리초이</td>\n",
       "      <td>2020-03-27T20:34+0900</td>\n",
       "      <td>NaN</td>\n",
       "      <td>None</td>\n",
       "      <td>2</td>\n",
       "      <td>https://brunch.co.kr/@choijh0309/47</td>\n",
       "      <td>https://brunch.co.kr/@@8h08/47</td>\n",
       "    </tr>\n",
       "    <tr>\n",
       "      <td>...</td>\n",
       "      <td>...</td>\n",
       "      <td>...</td>\n",
       "      <td>...</td>\n",
       "      <td>...</td>\n",
       "      <td>...</td>\n",
       "      <td>...</td>\n",
       "      <td>...</td>\n",
       "      <td>...</td>\n",
       "      <td>...</td>\n",
       "      <td>...</td>\n",
       "    </tr>\n",
       "    <tr>\n",
       "      <td>137044</td>\n",
       "      <td>낙망 (落望)</td>\n",
       "      <td>[시, 사진, 에세이]</td>\n",
       "      <td>[낙엽 기어가는 모습만이 닮은휘어가는 의자 나무는 다른아주 가시지 않는 여운고개를 ...</td>\n",
       "      <td>HarborBoat</td>\n",
       "      <td>2020-01-07T00:32+0900</td>\n",
       "      <td>NaN</td>\n",
       "      <td>None</td>\n",
       "      <td>None</td>\n",
       "      <td>https://brunch.co.kr/@kongssi/37</td>\n",
       "      <td>https://brunch.co.kr/@@7W6I/37</td>\n",
       "    </tr>\n",
       "    <tr>\n",
       "      <td>137045</td>\n",
       "      <td>5년 지기들의 재회</td>\n",
       "      <td>[친구, 우정, 감성에세이]</td>\n",
       "      <td>[, , 종강 직후, 크리스마스의 여운이 채 가시기도 전에 집 앞 번화가에서 오랜만...</td>\n",
       "      <td>옆집의대생</td>\n",
       "      <td>2020-01-07T00:05+0900</td>\n",
       "      <td>NaN</td>\n",
       "      <td>None</td>\n",
       "      <td>None</td>\n",
       "      <td>https://brunch.co.kr/@xmrj4/9</td>\n",
       "      <td>https://brunch.co.kr/@@8HCn/9</td>\n",
       "    </tr>\n",
       "    <tr>\n",
       "      <td>137046</td>\n",
       "      <td>당신에게 일기란 무엇인가요?</td>\n",
       "      <td>[에세이, 글쓰기, 일기]</td>\n",
       "      <td>[\"참 잘했어요\", 어린 시절 일기나 숙제를 하면 찍어주던 도장 속에 담긴 문구였다...</td>\n",
       "      <td>정이정이</td>\n",
       "      <td>2020-01-06T23:59+0900</td>\n",
       "      <td>NaN</td>\n",
       "      <td>None</td>\n",
       "      <td>14</td>\n",
       "      <td>https://brunch.co.kr/@fuwarinet/58</td>\n",
       "      <td>https://brunch.co.kr/@@8hVt/58</td>\n",
       "    </tr>\n",
       "    <tr>\n",
       "      <td>137047</td>\n",
       "      <td>20200106 이숭이의 하루</td>\n",
       "      <td>[월요일, 일상, 하루]</td>\n",
       "      <td>[__1월 6일 월요일,극과 극이었던 우리.눕자마자 곯아떨어졌던 나와는 달리 남편은...</td>\n",
       "      <td>이숭이</td>\n",
       "      <td>2020-01-06T23:32+0900</td>\n",
       "      <td>NaN</td>\n",
       "      <td>None</td>\n",
       "      <td>None</td>\n",
       "      <td>https://brunch.co.kr/@wiwidayss/274</td>\n",
       "      <td>https://brunch.co.kr/@@6eT2/274</td>\n",
       "    </tr>\n",
       "    <tr>\n",
       "      <td>137048</td>\n",
       "      <td>선택</td>\n",
       "      <td>[글쓰기, 일상]</td>\n",
       "      <td>[1., 엉뚱한 일과 사람과 상황에 마음을 쏟지 않도록 조심조심, , 2., 소중한...</td>\n",
       "      <td>노란클립</td>\n",
       "      <td>2020-01-06T23:27+0900</td>\n",
       "      <td>NaN</td>\n",
       "      <td>None</td>\n",
       "      <td>None</td>\n",
       "      <td>https://brunch.co.kr/@yellowclip/179</td>\n",
       "      <td>https://brunch.co.kr/@@4Y1X/179</td>\n",
       "    </tr>\n",
       "  </tbody>\n",
       "</table>\n",
       "<p>134836 rows × 10 columns</p>\n",
       "</div>"
      ],
      "text/plain": [
       "                           title               keyword  \\\n",
       "0                마요르카의 자가 격리자 쇼팽      [쇼팽, 마요르카, 해외여행]   \n",
       "1            [Austria] 중간점검 - 일상      [그림일기, 해외여행, 철학]   \n",
       "2                            말라가      [디자인, 드로잉, 해외여행]   \n",
       "3                남아프리카공화국, 여행 1화     [여행, 아프리카여행, 에세이]   \n",
       "4       방구석에서 세계 여행하는 방법, 무료 주의!  [세계여행, 공감에세이, 비정상회담]   \n",
       "...                          ...                   ...   \n",
       "137044                   낙망 (落望)          [시, 사진, 에세이]   \n",
       "137045                5년 지기들의 재회       [친구, 우정, 감성에세이]   \n",
       "137046          당신에게 일기란 무엇인가요?         [에세이, 글쓰기, 일기]   \n",
       "137047          20200106 이숭이의 하루         [월요일, 일상, 하루]   \n",
       "137048                        선택             [글쓰기, 일상]   \n",
       "\n",
       "                                                     text    nickname  \\\n",
       "0       [이 칼럼은 네이버여행+ 발행 중인 '정은주의 클래식 음악 여행 14회' 전문 입니...     클래식컨시어지   \n",
       "1       [1. 2020년 시작!,  새해를 알리는 신호탄은 언제나 그랬든 각종 사건사고로 ...     Justrip   \n",
       "2           [그곳의 햇살 아래 있다 보니, 피카소의 재능이, 내 것 같은 착각마저 들었다.]         개꽃뽁   \n",
       "3       [철컹.. 철컹... 겉은 멀쩡한데 안으로 들어갈수록 구치소 들어가는 느낌이다. 가...          혜윰   \n",
       "4       [세계가 단절됐다. 코로나 19가 세계인들을 각자의 집에 감금을 시켰다. 답답해서 ...        쩌리초이   \n",
       "...                                                   ...         ...   \n",
       "137044  [낙엽 기어가는 모습만이 닮은휘어가는 의자 나무는 다른아주 가시지 않는 여운고개를 ...  HarborBoat   \n",
       "137045  [, , 종강 직후, 크리스마스의 여운이 채 가시기도 전에 집 앞 번화가에서 오랜만...       옆집의대생   \n",
       "137046  [\"참 잘했어요\", 어린 시절 일기나 숙제를 하면 찍어주던 도장 속에 담긴 문구였다...        정이정이   \n",
       "137047  [__1월 6일 월요일,극과 극이었던 우리.눕자마자 곯아떨어졌던 나와는 달리 남편은...         이숭이   \n",
       "137048  [1., 엉뚱한 일과 사람과 상황에 마음을 쏟지 않도록 조심조심, , 2., 소중한...        노란클립   \n",
       "\n",
       "                 publish_date  likes share comment  \\\n",
       "0       2020-03-27T23:57+0900    NaN  None    None   \n",
       "1       2020-03-27T22:56+0900    NaN  None    None   \n",
       "2       2020-03-27T22:51+0900    NaN     1    None   \n",
       "3       2020-03-27T22:19+0900    NaN  None    None   \n",
       "4       2020-03-27T20:34+0900    NaN  None       2   \n",
       "...                       ...    ...   ...     ...   \n",
       "137044  2020-01-07T00:32+0900    NaN  None    None   \n",
       "137045  2020-01-07T00:05+0900    NaN  None    None   \n",
       "137046  2020-01-06T23:59+0900    NaN  None      14   \n",
       "137047  2020-01-06T23:32+0900    NaN  None    None   \n",
       "137048  2020-01-06T23:27+0900    NaN  None    None   \n",
       "\n",
       "                                         url                        url_plink  \n",
       "0         https://brunch.co.kr/@cello0413/91   https://brunch.co.kr/@@8pcq/91  \n",
       "1           https://brunch.co.kr/@jhk4685/36   https://brunch.co.kr/@@7N4r/36  \n",
       "2         https://brunch.co.kr/@dogflower/77   https://brunch.co.kr/@@779K/77  \n",
       "3            https://brunch.co.kr/@heyum/160   https://brunch.co.kr/@@3gM/160  \n",
       "4        https://brunch.co.kr/@choijh0309/47   https://brunch.co.kr/@@8h08/47  \n",
       "...                                      ...                              ...  \n",
       "137044      https://brunch.co.kr/@kongssi/37   https://brunch.co.kr/@@7W6I/37  \n",
       "137045         https://brunch.co.kr/@xmrj4/9    https://brunch.co.kr/@@8HCn/9  \n",
       "137046    https://brunch.co.kr/@fuwarinet/58   https://brunch.co.kr/@@8hVt/58  \n",
       "137047   https://brunch.co.kr/@wiwidayss/274  https://brunch.co.kr/@@6eT2/274  \n",
       "137048  https://brunch.co.kr/@yellowclip/179  https://brunch.co.kr/@@4Y1X/179  \n",
       "\n",
       "[134836 rows x 10 columns]"
      ]
     },
     "execution_count": 53,
     "metadata": {},
     "output_type": "execute_result"
    }
   ],
   "source": [
    "df"
   ]
  },
  {
   "cell_type": "code",
   "execution_count": 54,
   "metadata": {},
   "outputs": [
    {
     "data": {
      "text/plain": [
       "113588"
      ]
     },
     "execution_count": 54,
     "metadata": {},
     "output_type": "execute_result"
    }
   ],
   "source": [
    "df['url_plink'].nunique()"
   ]
  },
  {
   "cell_type": "code",
   "execution_count": 55,
   "metadata": {},
   "outputs": [
    {
     "data": {
      "text/plain": [
       "134836"
      ]
     },
     "execution_count": 55,
     "metadata": {},
     "output_type": "execute_result"
    }
   ],
   "source": [
    "len(df)"
   ]
  }
 ],
 "metadata": {
  "kernelspec": {
   "display_name": "Python 3",
   "language": "python",
   "name": "python3"
  },
  "language_info": {
   "codemirror_mode": {
    "name": "ipython",
    "version": 3
   },
   "file_extension": ".py",
   "mimetype": "text/x-python",
   "name": "python",
   "nbconvert_exporter": "python",
   "pygments_lexer": "ipython3",
   "version": "3.7.4"
  }
 },
 "nbformat": 4,
 "nbformat_minor": 2
}
