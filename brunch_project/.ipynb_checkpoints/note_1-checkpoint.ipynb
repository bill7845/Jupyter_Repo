{
 "cells": [
  {
   "cell_type": "code",
   "execution_count": 2,
   "metadata": {},
   "outputs": [],
   "source": [
    "import pandas as pd\n",
    "import json"
   ]
  },
  {
   "cell_type": "code",
   "execution_count": 196,
   "metadata": {},
   "outputs": [],
   "source": [
    "with open('C:/Users/KIHyuk/Desktop/brunch_data/json/건강·운동.json',encoding='UTF8') as json_file:\n",
    "    json_data = json.load(json_file)"
   ]
  },
  {
   "cell_type": "code",
   "execution_count": 12,
   "metadata": {},
   "outputs": [
    {
     "data": {
      "text/plain": [
       "dict_keys(['name', 'version', 'data'])"
      ]
     },
     "execution_count": 12,
     "metadata": {},
     "output_type": "execute_result"
    }
   ],
   "source": [
    "json_data.keys()"
   ]
  },
  {
   "cell_type": "code",
   "execution_count": 117,
   "metadata": {},
   "outputs": [],
   "source": [
    "# data :\n",
    "# 'title', 'nickname', 'publish_date', 'keyword[]', 'like', 'share', 'comment', 'url', 'url_plink', 'text[]'"
   ]
  },
  {
   "cell_type": "code",
   "execution_count": 197,
   "metadata": {
    "scrolled": true
   },
   "outputs": [],
   "source": [
    "# 건강.운동\n",
    "df = pd.DataFrame(json_data['data'],\n",
    "                  columns=['title','keyword','text','nickname','publish_date','likes','share','comment','url','url_plink'])"
   ]
  },
  {
   "cell_type": "code",
   "execution_count": 67,
   "metadata": {},
   "outputs": [
    {
     "data": {
      "text/html": [
       "<div>\n",
       "<style scoped>\n",
       "    .dataframe tbody tr th:only-of-type {\n",
       "        vertical-align: middle;\n",
       "    }\n",
       "\n",
       "    .dataframe tbody tr th {\n",
       "        vertical-align: top;\n",
       "    }\n",
       "\n",
       "    .dataframe thead th {\n",
       "        text-align: right;\n",
       "    }\n",
       "</style>\n",
       "<table border=\"1\" class=\"dataframe\">\n",
       "  <thead>\n",
       "    <tr style=\"text-align: right;\">\n",
       "      <th></th>\n",
       "      <th>title</th>\n",
       "      <th>keyword</th>\n",
       "      <th>text</th>\n",
       "      <th>nickname</th>\n",
       "      <th>publish_date</th>\n",
       "      <th>likes</th>\n",
       "      <th>share</th>\n",
       "      <th>comment</th>\n",
       "      <th>url</th>\n",
       "      <th>url_plink</th>\n",
       "    </tr>\n",
       "  </thead>\n",
       "  <tbody>\n",
       "    <tr>\n",
       "      <td>0</td>\n",
       "      <td>왜 내 주변에는 밉상밖에 없는 거죠</td>\n",
       "      <td>[성찰\\n                        , 공감에세이\\n        ...</td>\n",
       "      <td>[행복으로 추억할 시절이 하나만 있어도 인생은 살만 한 것이라고 그러더라.,  , ...</td>\n",
       "      <td>추세경</td>\n",
       "      <td>2020-03-30T17:53+0900</td>\n",
       "      <td>NaN</td>\n",
       "      <td>None</td>\n",
       "      <td>2</td>\n",
       "      <td>https://brunch.co.kr/@chubk90/37</td>\n",
       "      <td>https://brunch.co.kr/@@4cxe/37</td>\n",
       "    </tr>\n",
       "    <tr>\n",
       "      <td>1</td>\n",
       "      <td>양극성 장애 완치할 수 있을까 (25)</td>\n",
       "      <td>[심리상담\\n                        , 양극성장애\\n      ...</td>\n",
       "      <td>[ 나는 정신과에 다니기 전 심리상담을 받았었다. 병원에 갈 용기가 안 났었기 때문...</td>\n",
       "      <td>안유진</td>\n",
       "      <td>2020-03-30T16:35+0900</td>\n",
       "      <td>NaN</td>\n",
       "      <td>None</td>\n",
       "      <td></td>\n",
       "      <td>https://brunch.co.kr/@yooj38/84</td>\n",
       "      <td>https://brunch.co.kr/@@8Y7Z/84</td>\n",
       "    </tr>\n",
       "    <tr>\n",
       "      <td>2</td>\n",
       "      <td>코로나에도 잘 놀아보기</td>\n",
       "      <td>[코로나\\n                        , 놀이\\n          ...</td>\n",
       "      <td>[에센셜리즘 : 더 좋은 것들을 추려내어 그것들에 역량을 집중하는 방식  에센셜리스...</td>\n",
       "      <td>기뮨</td>\n",
       "      <td>2020-03-30T14:26+0900</td>\n",
       "      <td>NaN</td>\n",
       "      <td>3</td>\n",
       "      <td>2</td>\n",
       "      <td>https://brunch.co.kr/@nager128/298</td>\n",
       "      <td>https://brunch.co.kr/@@7X3N/298</td>\n",
       "    </tr>\n",
       "    <tr>\n",
       "      <td>3</td>\n",
       "      <td>NaN</td>\n",
       "      <td>NaN</td>\n",
       "      <td>NaN</td>\n",
       "      <td>NaN</td>\n",
       "      <td>NaN</td>\n",
       "      <td>NaN</td>\n",
       "      <td>NaN</td>\n",
       "      <td>NaN</td>\n",
       "      <td>NaN</td>\n",
       "      <td>NaN</td>\n",
       "    </tr>\n",
       "    <tr>\n",
       "      <td>4</td>\n",
       "      <td>불안하지 않은 사람은 없다</td>\n",
       "      <td>[불안\\n                        , 심리\\n           ...</td>\n",
       "      <td>[불안(不安)은 &amp;lsquo;안전 하지 않다&amp;rsquo;는 의미입니다. 사람은 태어...</td>\n",
       "      <td>생각속의집</td>\n",
       "      <td>2020-03-30T10:55+0900</td>\n",
       "      <td>NaN</td>\n",
       "      <td>7</td>\n",
       "      <td></td>\n",
       "      <td>https://brunch.co.kr/@houseinmind/69</td>\n",
       "      <td>https://brunch.co.kr/@@1EbB/69</td>\n",
       "    </tr>\n",
       "  </tbody>\n",
       "</table>\n",
       "</div>"
      ],
      "text/plain": [
       "                   title                                            keyword  \\\n",
       "0    왜 내 주변에는 밉상밖에 없는 거죠  [성찰\\n                        , 공감에세이\\n        ...   \n",
       "1  양극성 장애 완치할 수 있을까 (25)  [심리상담\\n                        , 양극성장애\\n      ...   \n",
       "2           코로나에도 잘 놀아보기  [코로나\\n                        , 놀이\\n          ...   \n",
       "3                    NaN                                                NaN   \n",
       "4         불안하지 않은 사람은 없다  [불안\\n                        , 심리\\n           ...   \n",
       "\n",
       "                                                text nickname  \\\n",
       "0  [행복으로 추억할 시절이 하나만 있어도 인생은 살만 한 것이라고 그러더라.,  , ...      추세경   \n",
       "1  [ 나는 정신과에 다니기 전 심리상담을 받았었다. 병원에 갈 용기가 안 났었기 때문...      안유진   \n",
       "2  [에센셜리즘 : 더 좋은 것들을 추려내어 그것들에 역량을 집중하는 방식  에센셜리스...       기뮨   \n",
       "3                                                NaN      NaN   \n",
       "4  [불안(不安)은 &lsquo;안전 하지 않다&rsquo;는 의미입니다. 사람은 태어...    생각속의집   \n",
       "\n",
       "            publish_date  likes share comment  \\\n",
       "0  2020-03-30T17:53+0900    NaN  None       2   \n",
       "1  2020-03-30T16:35+0900    NaN  None           \n",
       "2  2020-03-30T14:26+0900    NaN     3       2   \n",
       "3                    NaN    NaN   NaN     NaN   \n",
       "4  2020-03-30T10:55+0900    NaN     7           \n",
       "\n",
       "                                    url                        url_plink  \n",
       "0      https://brunch.co.kr/@chubk90/37   https://brunch.co.kr/@@4cxe/37  \n",
       "1       https://brunch.co.kr/@yooj38/84   https://brunch.co.kr/@@8Y7Z/84  \n",
       "2    https://brunch.co.kr/@nager128/298  https://brunch.co.kr/@@7X3N/298  \n",
       "3                                   NaN                              NaN  \n",
       "4  https://brunch.co.kr/@houseinmind/69   https://brunch.co.kr/@@1EbB/69  "
      ]
     },
     "execution_count": 67,
     "metadata": {},
     "output_type": "execute_result"
    }
   ],
   "source": [
    "df.head(5)"
   ]
  },
  {
   "cell_type": "markdown",
   "metadata": {},
   "source": [
    "## preprocessing"
   ]
  },
  {
   "cell_type": "code",
   "execution_count": 198,
   "metadata": {},
   "outputs": [
    {
     "name": "stdout",
     "output_type": "stream",
     "text": [
      "text nan 제거 전 :  86509\n",
      "text nan인 경우 :  4334\n",
      "text nan 제거 후 :  82175\n"
     ]
    }
   ],
   "source": [
    "# text nan 개수\n",
    "print(\"text nan 제거 전 : \",len(df))\n",
    "print(\"text nan인 경우 : \",df['text'].isnull().sum())\n",
    "\n",
    "# text nan 제거\n",
    "df = df.dropna(subset=['text'])\n",
    "\n",
    "print(\"text nan 제거 후 : \",len(df))"
   ]
  },
  {
   "cell_type": "code",
   "execution_count": 199,
   "metadata": {},
   "outputs": [
    {
     "data": {
      "text/plain": [
       "['성찰', '공감에세이', '심리학']"
      ]
     },
     "execution_count": 199,
     "metadata": {},
     "output_type": "execute_result"
    }
   ],
   "source": [
    "# keyword \n",
    "def pre_keyword(x):\n",
    "    tmp = []\n",
    "    for val in x:\n",
    "        tmp.append(val.replace(\"\\n\",\"\").replace(\" \",\"\"))\n",
    "    return tmp\n",
    "\n",
    "df['keyword'] = df['keyword'].apply(pre_keyword)\n",
    "\n",
    "df['keyword'][0]"
   ]
  },
  {
   "cell_type": "code",
   "execution_count": 200,
   "metadata": {},
   "outputs": [],
   "source": [
    "def pre_comment(x):\n",
    "    if len(x) == 0:\n",
    "        return None\n",
    "    else :\n",
    "        return x\n",
    "\n",
    "df['comment'] = df['comment'].apply(pre_comment)"
   ]
  }
 ],
 "metadata": {
  "kernelspec": {
   "display_name": "Python 3",
   "language": "python",
   "name": "python3"
  },
  "language_info": {
   "codemirror_mode": {
    "name": "ipython",
    "version": 3
   },
   "file_extension": ".py",
   "mimetype": "text/x-python",
   "name": "python",
   "nbconvert_exporter": "python",
   "pygments_lexer": "ipython3",
   "version": "3.7.4"
  }
 },
 "nbformat": 4,
 "nbformat_minor": 2
}
