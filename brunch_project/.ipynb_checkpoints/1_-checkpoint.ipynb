{
 "cells": [
  {
   "cell_type": "code",
   "execution_count": 98,
   "metadata": {},
   "outputs": [],
   "source": [
    "import pandas as pd\n",
    "import numpy as np\n",
    "\n",
    "import matplotlib.pyplot as plt\n",
    "%matplotlib inline"
   ]
  },
  {
   "cell_type": "code",
   "execution_count": 150,
   "metadata": {},
   "outputs": [],
   "source": [
    "# import pandas as pd\n",
    "\n",
    "# # 판다스 데이터프레임(DataFrame)을 출력할 때, 최대 출력할 수 있는 컬럼을 100개로 늘려줍니다.\n",
    "# # 이렇게 해야 데이터를 분석할 때 출력해서 확인하기 편합니다.\n",
    "pd.options.display.max_columns = 300\n",
    "pd.options.display.max_rows = 300"
   ]
  },
  {
   "cell_type": "code",
   "execution_count": 104,
   "metadata": {},
   "outputs": [],
   "source": [
    "# read_raw => 바탕화면 / 브런치데이터 / \n",
    "\n",
    "read_raw = pd.read_csv('read_raw')"
   ]
  },
  {
   "cell_type": "code",
   "execution_count": 109,
   "metadata": {},
   "outputs": [],
   "source": [
    "read_raw['datetime'] = pd.to_datetime(read_raw['datetime'])"
   ]
  },
  {
   "cell_type": "code",
   "execution_count": 111,
   "metadata": {},
   "outputs": [],
   "source": [
    "read_raw.set_index('datetime',inplace=True)"
   ]
  },
  {
   "cell_type": "code",
   "execution_count": 131,
   "metadata": {},
   "outputs": [],
   "source": [
    "fall = read_raw['2018-10':'2018-11']"
   ]
  },
  {
   "cell_type": "code",
   "execution_count": 153,
   "metadata": {
    "scrolled": true
   },
   "outputs": [],
   "source": [
    "fall_gowork_time = fall[(fall.index.hour == 6) | (fall.index.hour == 7) | (fall.index.hour == 8) | (fall.index.hour == 9)]['article_id'].values\n",
    "fall_lunch_time = fall[(fall.index.hour == 12) | (fall.index.hour == 13) | (fall.index.hour == 14)]['article_id'].values\n",
    "fall_dinner_time = fall[(fall.index.hour == 18) | (fall.index.hour == 19)]['article_id'].values\n",
    "fall_sentimental_time = fall[(fall.index.hour == 1) | (fall.index.hour == 2)]['article_id'].values\n",
    "fall_free_time = fall[(fall.index.hour == 14) | (fall.index.hour == 15) | (fall.index.hour == 16)]['article_id'].values"
   ]
  },
  {
   "cell_type": "code",
   "execution_count": 155,
   "metadata": {},
   "outputs": [],
   "source": [
    "winter = read_raw['2018-12':'2019-03-01']"
   ]
  },
  {
   "cell_type": "code",
   "execution_count": 156,
   "metadata": {},
   "outputs": [],
   "source": [
    "winter_gowork_time = winter[ (winter.index.hour == 6) | (winter.index.hour == 7) | (winter.index.hour == 8) | (winter.index.hour == 9)]['article_id'].values\n",
    "\n",
    "winter_lunch_time = winter[ (winter.index.hour == 12) | (winter.index.hour == 13) | (winter.index.hour == 14)]['article_id'].values\n",
    "\n",
    "winter_dinner_time = winter[ (winter.index.hour == 18) | (winter.index.hour == 19)]['article_id'].values\n",
    "\n",
    "winter_sentimental_time = winter[ (winter.index.hour == 1) | (winter.index.hour == 2)]['article_id'].values\n",
    "\n",
    "winter_forsleep_time =winter[ (winter.index.hour == 10) | (winter.index.hour == 11) | (winter.index.hour == 0)]['article_id'].values\n",
    "\n",
    "winter_free_time = winter[ (winter.index.hour == 14) | (winter.index.hour == 15) | (winter.index.hour ==16)]['article_id'].values"
   ]
  },
  {
   "cell_type": "code",
   "execution_count": 189,
   "metadata": {},
   "outputs": [
    {
     "data": {
      "text/plain": [
       "array(['@allstay_811', '@jang2699_391', '@jang2699_391', ...,\n",
       "       '@daljasee_230', '@daljasee_230', '@brunch_151'], dtype=object)"
      ]
     },
     "execution_count": 189,
     "metadata": {},
     "output_type": "execute_result"
    }
   ],
   "source": [
    "winter_gowork_time"
   ]
  },
  {
   "cell_type": "code",
   "execution_count": 164,
   "metadata": {},
   "outputs": [],
   "source": [
    "sky = pd.read_csv('C:/Users/KIHyuk/Desktop/브런치 데이터/기상데이터/하늘상태.csv')"
   ]
  },
  {
   "cell_type": "code",
   "execution_count": 168,
   "metadata": {},
   "outputs": [],
   "source": [
    "# del sky['forecast']"
   ]
  },
  {
   "cell_type": "code",
   "execution_count": 165,
   "metadata": {},
   "outputs": [],
   "source": [
    "sky = sky[sky.forecast == 4.0]"
   ]
  },
  {
   "cell_type": "code",
   "execution_count": 171,
   "metadata": {},
   "outputs": [],
   "source": [
    "sky.loc[0,'date'] = datetime.datetime(2018, 10, 1, 3, 0, 0)"
   ]
  },
  {
   "cell_type": "code",
   "execution_count": 172,
   "metadata": {},
   "outputs": [],
   "source": [
    "sky = sky.reset_index(drop=True)"
   ]
  },
  {
   "cell_type": "code",
   "execution_count": 173,
   "metadata": {},
   "outputs": [],
   "source": [
    "for i in range(1, len(sky)):\n",
    "    sky.loc[i, 'date'] = sky.loc[i-1, 'date'] + datetime.timedelta(hours=3)"
   ]
  },
  {
   "cell_type": "code",
   "execution_count": 174,
   "metadata": {},
   "outputs": [],
   "source": [
    "sky.set_index('date',inplace=True)"
   ]
  },
  {
   "cell_type": "code",
   "execution_count": 176,
   "metadata": {},
   "outputs": [],
   "source": [
    "# del sky['forecast']\n",
    "# del sky['hour']\n",
    "# del sky[' format: day']"
   ]
  },
  {
   "cell_type": "code",
   "execution_count": 186,
   "metadata": {},
   "outputs": [
    {
     "data": {
      "text/html": [
       "<div>\n",
       "<style scoped>\n",
       "    .dataframe tbody tr th:only-of-type {\n",
       "        vertical-align: middle;\n",
       "    }\n",
       "\n",
       "    .dataframe tbody tr th {\n",
       "        vertical-align: top;\n",
       "    }\n",
       "\n",
       "    .dataframe thead th {\n",
       "        text-align: right;\n",
       "    }\n",
       "</style>\n",
       "<table border=\"1\" class=\"dataframe\">\n",
       "  <thead>\n",
       "    <tr style=\"text-align: right;\">\n",
       "      <th></th>\n",
       "      <th>value  location:61_125 Start : 20181001</th>\n",
       "    </tr>\n",
       "    <tr>\n",
       "      <th>date</th>\n",
       "      <th></th>\n",
       "    </tr>\n",
       "  </thead>\n",
       "  <tbody>\n",
       "    <tr>\n",
       "      <td>2018-10-01 03:00:00</td>\n",
       "      <td>3.0</td>\n",
       "    </tr>\n",
       "    <tr>\n",
       "      <td>2018-10-01 06:00:00</td>\n",
       "      <td>3.0</td>\n",
       "    </tr>\n",
       "    <tr>\n",
       "      <td>2018-10-01 09:00:00</td>\n",
       "      <td>3.0</td>\n",
       "    </tr>\n",
       "    <tr>\n",
       "      <td>2018-10-01 12:00:00</td>\n",
       "      <td>3.0</td>\n",
       "    </tr>\n",
       "    <tr>\n",
       "      <td>2018-10-01 15:00:00</td>\n",
       "      <td>3.0</td>\n",
       "    </tr>\n",
       "    <tr>\n",
       "      <td>...</td>\n",
       "      <td>...</td>\n",
       "    </tr>\n",
       "    <tr>\n",
       "      <td>2019-02-28 12:00:00</td>\n",
       "      <td>1.0</td>\n",
       "    </tr>\n",
       "    <tr>\n",
       "      <td>2019-02-28 15:00:00</td>\n",
       "      <td>1.0</td>\n",
       "    </tr>\n",
       "    <tr>\n",
       "      <td>2019-02-28 18:00:00</td>\n",
       "      <td>1.0</td>\n",
       "    </tr>\n",
       "    <tr>\n",
       "      <td>2019-02-28 21:00:00</td>\n",
       "      <td>1.0</td>\n",
       "    </tr>\n",
       "    <tr>\n",
       "      <td>2019-03-01 00:00:00</td>\n",
       "      <td>1.0</td>\n",
       "    </tr>\n",
       "  </tbody>\n",
       "</table>\n",
       "<p>1208 rows × 1 columns</p>\n",
       "</div>"
      ],
      "text/plain": [
       "                     value  location:61_125 Start : 20181001 \n",
       "date                                                         \n",
       "2018-10-01 03:00:00                                       3.0\n",
       "2018-10-01 06:00:00                                       3.0\n",
       "2018-10-01 09:00:00                                       3.0\n",
       "2018-10-01 12:00:00                                       3.0\n",
       "2018-10-01 15:00:00                                       3.0\n",
       "...                                                       ...\n",
       "2019-02-28 12:00:00                                       1.0\n",
       "2019-02-28 15:00:00                                       1.0\n",
       "2019-02-28 18:00:00                                       1.0\n",
       "2019-02-28 21:00:00                                       1.0\n",
       "2019-03-01 00:00:00                                       1.0\n",
       "\n",
       "[1208 rows x 1 columns]"
      ]
     },
     "execution_count": 186,
     "metadata": {},
     "output_type": "execute_result"
    }
   ],
   "source": [
    "sky"
   ]
  },
  {
   "cell_type": "code",
   "execution_count": 190,
   "metadata": {},
   "outputs": [
    {
     "data": {
      "text/plain": [
       "1870953"
      ]
     },
     "execution_count": 190,
     "metadata": {},
     "output_type": "execute_result"
    }
   ],
   "source": [
    "len(winter_gowork_time)"
   ]
  },
  {
   "cell_type": "code",
   "execution_count": null,
   "metadata": {},
   "outputs": [],
   "source": []
  },
  {
   "cell_type": "code",
   "execution_count": null,
   "metadata": {},
   "outputs": [],
   "source": []
  },
  {
   "cell_type": "code",
   "execution_count": null,
   "metadata": {},
   "outputs": [],
   "source": []
  },
  {
   "cell_type": "code",
   "execution_count": null,
   "metadata": {},
   "outputs": [],
   "source": []
  },
  {
   "cell_type": "code",
   "execution_count": null,
   "metadata": {},
   "outputs": [],
   "source": []
  },
  {
   "cell_type": "code",
   "execution_count": null,
   "metadata": {},
   "outputs": [],
   "source": []
  },
  {
   "cell_type": "code",
   "execution_count": null,
   "metadata": {},
   "outputs": [],
   "source": []
  },
  {
   "cell_type": "code",
   "execution_count": null,
   "metadata": {},
   "outputs": [],
   "source": []
  },
  {
   "cell_type": "code",
   "execution_count": null,
   "metadata": {},
   "outputs": [],
   "source": []
  },
  {
   "cell_type": "code",
   "execution_count": null,
   "metadata": {},
   "outputs": [],
   "source": []
  },
  {
   "cell_type": "code",
   "execution_count": null,
   "metadata": {},
   "outputs": [],
   "source": []
  },
  {
   "cell_type": "code",
   "execution_count": null,
   "metadata": {},
   "outputs": [],
   "source": []
  },
  {
   "cell_type": "code",
   "execution_count": null,
   "metadata": {},
   "outputs": [],
   "source": []
  },
  {
   "cell_type": "code",
   "execution_count": null,
   "metadata": {},
   "outputs": [],
   "source": []
  },
  {
   "cell_type": "code",
   "execution_count": null,
   "metadata": {},
   "outputs": [],
   "source": []
  },
  {
   "cell_type": "code",
   "execution_count": 158,
   "metadata": {},
   "outputs": [],
   "source": [
    "# weather = pd.read_csv('C:/Users/KIHyuk/Desktop/브런치 데이터/기상데이터/하늘상태.csv')\n",
    "\n",
    "# # import pandas as pd\n",
    "\n",
    "# # # 판다스 데이터프레임(DataFrame)을 출력할 때, 최대 출력할 수 있는 컬럼을 100개로 늘려줍니다.\n",
    "# # # 이렇게 해야 데이터를 분석할 때 출력해서 확인하기 편합니다.\n",
    "# pd.options.display.max_columns = 5000\n",
    "# pd.options.display.max_rows = 5000\n",
    "\n",
    "# weather.columns\n",
    "\n",
    "# weather[' format: day'][0:216] = \"2018-10-0\" + weather[' format: day'][0:216]\n",
    "# weather[' format: day'][216:745] = \"2018-10-\" + weather[' format: day'][216:745]\n",
    "\n",
    "# weather[' format: day'][745:961] = \"2018-11-0\" + weather[' format: day'][745:961]\n",
    "# weather[' format: day'][961:1465] = \"2018-11-\" + weather[' format: day'][961:1465]\n",
    "\n",
    "# weather[' format: day'][1466:1682] = \"2018-12-0\" + weather[' format: day'][1466:1682]\n",
    "# weather[' format: day'][1682:2210] = \"2018-12-\" + weather[' format: day'][1682:2210]\n",
    "\n",
    "# weather[' format: day'][2211:2427] = \"2019-01-0\" + weather[' format: day'][2211:2427]\n",
    "# weather[' format: day'][2427:2955] = \"2019-01-\" + weather[' format: day'][2427:2955]\n",
    "\n",
    "# weather[' format: day'][2956:3172] = \"2019-02-0\" + weather[' format: day'][2956:3172]\n",
    "# weather[' format: day'][3172:] = \"2019-02-\" + weather[' format: day'][3172:]\n",
    "\n",
    "# weather.drop([744,1465,2210,2955], inplace=True)\n",
    "\n",
    "# def trim(x):\n",
    "#     result = x.replace(\" \",\"\")\n",
    "#     res_result = result.replace(\"-\",\"\")\n",
    "#     return res_result\n",
    "\n",
    "# weather[' format: day'] = weather[' format: day'].apply(trim)\n",
    "\n",
    "\n",
    "\n",
    "# weather[' format: day'] = pd.to_datetime(weather[' format: day'])\n",
    "\n",
    "# weather = weather.set_index(' format: day')\n",
    "\n",
    "\n",
    "# weather[weather['value location:60_127 Start : 20181001 ']==1.0]\n",
    "\n",
    "# # weather"
   ]
  },
  {
   "cell_type": "code",
   "execution_count": null,
   "metadata": {},
   "outputs": [],
   "source": []
  },
  {
   "cell_type": "code",
   "execution_count": null,
   "metadata": {},
   "outputs": [],
   "source": []
  },
  {
   "cell_type": "code",
   "execution_count": null,
   "metadata": {},
   "outputs": [],
   "source": []
  },
  {
   "cell_type": "code",
   "execution_count": null,
   "metadata": {},
   "outputs": [],
   "source": []
  },
  {
   "cell_type": "code",
   "execution_count": null,
   "metadata": {},
   "outputs": [],
   "source": []
  },
  {
   "cell_type": "code",
   "execution_count": null,
   "metadata": {},
   "outputs": [],
   "source": []
  },
  {
   "cell_type": "code",
   "execution_count": null,
   "metadata": {},
   "outputs": [],
   "source": []
  }
 ],
 "metadata": {
  "kernelspec": {
   "display_name": "Python 3",
   "language": "python",
   "name": "python3"
  },
  "language_info": {
   "codemirror_mode": {
    "name": "ipython",
    "version": 3
   },
   "file_extension": ".py",
   "mimetype": "text/x-python",
   "name": "python",
   "nbconvert_exporter": "python",
   "pygments_lexer": "ipython3",
   "version": "3.7.4"
  }
 },
 "nbformat": 4,
 "nbformat_minor": 2
}
