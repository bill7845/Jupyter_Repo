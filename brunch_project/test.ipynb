{
 "cells": [
  {
   "cell_type": "code",
   "execution_count": 6,
   "metadata": {},
   "outputs": [],
   "source": [
    "from collections import Counter\n",
    "from datetime import timedelta, datetime\n",
    "import glob\n",
    "from itertools import chain\n",
    "import json\n",
    "import os\n",
    "import re"
   ]
  },
  {
   "cell_type": "code",
   "execution_count": 7,
   "metadata": {},
   "outputs": [],
   "source": [
    "import matplotlib.pyplot as plt\n",
    "import numpy as np\n",
    "import pandas as pd\n",
    "from pandas.plotting import register_matplotlib_converters\n",
    "import seaborn as sns"
   ]
  },
  {
   "cell_type": "code",
   "execution_count": 56,
   "metadata": {},
   "outputs": [],
   "source": [
    "# import pandas as pd\n",
    "\n",
    "# # 판다스 데이터프레임(DataFrame)을 출력할 때, 최대 출력할 수 있는 컬럼을 100개로 늘려줍니다.\n",
    "# # 이렇게 해야 데이터를 분석할 때 출력해서 확인하기 편합니다.\n",
    "pd.options.display.max_columns = 300\n",
    "pd.options.display.max_rows = 300"
   ]
  },
  {
   "cell_type": "code",
   "execution_count": 19,
   "metadata": {},
   "outputs": [],
   "source": [
    "read_file_lst = glob.glob('C:/Users/KIHyuk/Desktop/브런치 데이터/read/*')"
   ]
  },
  {
   "cell_type": "code",
   "execution_count": 20,
   "metadata": {},
   "outputs": [],
   "source": [
    "exclude_file_lst = ['read.tar']"
   ]
  },
  {
   "cell_type": "code",
   "execution_count": 42,
   "metadata": {},
   "outputs": [],
   "source": [
    "read_df_lst = []\n",
    "for f in read_file_lst:\n",
    "    file_name = os.path.basename(f)\n",
    "    if file_name in exclude_file_lst:\n",
    "        print(file_name)\n",
    "    else:\n",
    "        df_temp = pd.read_csv(f, header=None, names=['raw'])\n",
    "        df_temp['dt'] = file_name[:8]\n",
    "        df_temp['hr'] = file_name[8:10]\n",
    "        df_temp['user_id'] = df_temp['raw'].str.split(' ').str[0]\n",
    "        df_temp['article_id'] = df_temp['raw'].str.split(' ').str[1:].str.join(' ').str.strip()\n",
    "        df_temp['datetime'] = file_name[:4] + \"/\" + file_name[4:6] + \"/\" + file_name[6:8] + \"/\" + file_name[8:10]\n",
    "        read_df_lst.append(df_temp)"
   ]
  },
  {
   "cell_type": "code",
   "execution_count": 43,
   "metadata": {},
   "outputs": [],
   "source": [
    "read = pd.concat(read_df_lst)"
   ]
  },
  {
   "cell_type": "code",
   "execution_count": 44,
   "metadata": {
    "scrolled": true
   },
   "outputs": [
    {
     "data": {
      "text/plain": [
       "(3507097, 6)"
      ]
     },
     "execution_count": 44,
     "metadata": {},
     "output_type": "execute_result"
    }
   ],
   "source": [
    "read.shape"
   ]
  },
  {
   "cell_type": "code",
   "execution_count": 45,
   "metadata": {
    "scrolled": false
   },
   "outputs": [
    {
     "data": {
      "text/html": [
       "<div>\n",
       "<style scoped>\n",
       "    .dataframe tbody tr th:only-of-type {\n",
       "        vertical-align: middle;\n",
       "    }\n",
       "\n",
       "    .dataframe tbody tr th {\n",
       "        vertical-align: top;\n",
       "    }\n",
       "\n",
       "    .dataframe thead th {\n",
       "        text-align: right;\n",
       "    }\n",
       "</style>\n",
       "<table border=\"1\" class=\"dataframe\">\n",
       "  <thead>\n",
       "    <tr style=\"text-align: right;\">\n",
       "      <th></th>\n",
       "      <th>raw</th>\n",
       "      <th>dt</th>\n",
       "      <th>hr</th>\n",
       "      <th>user_id</th>\n",
       "      <th>article_id</th>\n",
       "      <th>datetime</th>\n",
       "    </tr>\n",
       "  </thead>\n",
       "  <tbody>\n",
       "    <tr>\n",
       "      <td>0</td>\n",
       "      <td>#e208be4ffea19b1ceb5cea2e3c4dc32c @kty0613_91</td>\n",
       "      <td>20181001</td>\n",
       "      <td>00</td>\n",
       "      <td>#e208be4ffea19b1ceb5cea2e3c4dc32c</td>\n",
       "      <td>@kty0613_91</td>\n",
       "      <td>2018/10/01/00</td>\n",
       "    </tr>\n",
       "    <tr>\n",
       "      <td>1</td>\n",
       "      <td>#0a3d493f3b2318be80f391eaa00bfd1c @miamiyoung_...</td>\n",
       "      <td>20181001</td>\n",
       "      <td>00</td>\n",
       "      <td>#0a3d493f3b2318be80f391eaa00bfd1c</td>\n",
       "      <td>@miamiyoung_31 @banksalad_49 @rlfrjsdn_95 @rea...</td>\n",
       "      <td>2018/10/01/00</td>\n",
       "    </tr>\n",
       "    <tr>\n",
       "      <td>2</td>\n",
       "      <td>#b90d3ee7ed0d7d827aae168e159749f1 @joeunha_4 @...</td>\n",
       "      <td>20181001</td>\n",
       "      <td>00</td>\n",
       "      <td>#b90d3ee7ed0d7d827aae168e159749f1</td>\n",
       "      <td>@joeunha_4 @yoonvi_3</td>\n",
       "      <td>2018/10/01/00</td>\n",
       "    </tr>\n",
       "    <tr>\n",
       "      <td>3</td>\n",
       "      <td>#b8b9d09fe2961fd62edc94912bf75a90 @hyejinchoi_...</td>\n",
       "      <td>20181001</td>\n",
       "      <td>00</td>\n",
       "      <td>#b8b9d09fe2961fd62edc94912bf75a90</td>\n",
       "      <td>@hyejinchoi_122 @hyejinchoi_86 @hyejinchoi_42 ...</td>\n",
       "      <td>2018/10/01/00</td>\n",
       "    </tr>\n",
       "    <tr>\n",
       "      <td>4</td>\n",
       "      <td>#072f742eda9359cdac03ad080193c11d @doyeonsunim...</td>\n",
       "      <td>20181001</td>\n",
       "      <td>00</td>\n",
       "      <td>#072f742eda9359cdac03ad080193c11d</td>\n",
       "      <td>@doyeonsunim_240 @k52524_297 @bule13_33 @kwong...</td>\n",
       "      <td>2018/10/01/00</td>\n",
       "    </tr>\n",
       "    <tr>\n",
       "      <td>...</td>\n",
       "      <td>...</td>\n",
       "      <td>...</td>\n",
       "      <td>...</td>\n",
       "      <td>...</td>\n",
       "      <td>...</td>\n",
       "      <td>...</td>\n",
       "    </tr>\n",
       "    <tr>\n",
       "      <td>245</td>\n",
       "      <td>#38fbb915feb3cbe5015ccf6afdd3936e @masism_334 ...</td>\n",
       "      <td>20181001</td>\n",
       "      <td>00</td>\n",
       "      <td>#38fbb915feb3cbe5015ccf6afdd3936e</td>\n",
       "      <td>@masism_334 @wikitree_2604 @masism_334 @2hanan...</td>\n",
       "      <td>2018/10/01/00</td>\n",
       "    </tr>\n",
       "    <tr>\n",
       "      <td>246</td>\n",
       "      <td>#c5dbc3fed1c8c1c52e5cb2065a0d4b69 @jonnaalive_...</td>\n",
       "      <td>20181001</td>\n",
       "      <td>00</td>\n",
       "      <td>#c5dbc3fed1c8c1c52e5cb2065a0d4b69</td>\n",
       "      <td>@jonnaalive_288 @jonnaalive_288 @bookguru_29 @...</td>\n",
       "      <td>2018/10/01/00</td>\n",
       "    </tr>\n",
       "    <tr>\n",
       "      <td>247</td>\n",
       "      <td>#13b3009a8698e9d5e892534d9dcdac62 @onthepaper_...</td>\n",
       "      <td>20181001</td>\n",
       "      <td>00</td>\n",
       "      <td>#13b3009a8698e9d5e892534d9dcdac62</td>\n",
       "      <td>@onthepaper_51 @onthepaper_52 @onthepaper_51 @...</td>\n",
       "      <td>2018/10/01/00</td>\n",
       "    </tr>\n",
       "    <tr>\n",
       "      <td>248</td>\n",
       "      <td>#ceaa727b363eb14a913bb5292b054894 @dryjshin_22...</td>\n",
       "      <td>20181001</td>\n",
       "      <td>00</td>\n",
       "      <td>#ceaa727b363eb14a913bb5292b054894</td>\n",
       "      <td>@dryjshin_227 @yjwoo_66 @syc1025_72</td>\n",
       "      <td>2018/10/01/00</td>\n",
       "    </tr>\n",
       "    <tr>\n",
       "      <td>249</td>\n",
       "      <td>#f057b364bab696eb4ce3713c4b90eb2d @tenbody_138...</td>\n",
       "      <td>20181001</td>\n",
       "      <td>00</td>\n",
       "      <td>#f057b364bab696eb4ce3713c4b90eb2d</td>\n",
       "      <td>@tenbody_1386 @tenbody_1410</td>\n",
       "      <td>2018/10/01/00</td>\n",
       "    </tr>\n",
       "  </tbody>\n",
       "</table>\n",
       "<p>250 rows × 6 columns</p>\n",
       "</div>"
      ],
      "text/plain": [
       "                                                   raw        dt  hr  \\\n",
       "0       #e208be4ffea19b1ceb5cea2e3c4dc32c @kty0613_91   20181001  00   \n",
       "1    #0a3d493f3b2318be80f391eaa00bfd1c @miamiyoung_...  20181001  00   \n",
       "2    #b90d3ee7ed0d7d827aae168e159749f1 @joeunha_4 @...  20181001  00   \n",
       "3    #b8b9d09fe2961fd62edc94912bf75a90 @hyejinchoi_...  20181001  00   \n",
       "4    #072f742eda9359cdac03ad080193c11d @doyeonsunim...  20181001  00   \n",
       "..                                                 ...       ...  ..   \n",
       "245  #38fbb915feb3cbe5015ccf6afdd3936e @masism_334 ...  20181001  00   \n",
       "246  #c5dbc3fed1c8c1c52e5cb2065a0d4b69 @jonnaalive_...  20181001  00   \n",
       "247  #13b3009a8698e9d5e892534d9dcdac62 @onthepaper_...  20181001  00   \n",
       "248  #ceaa727b363eb14a913bb5292b054894 @dryjshin_22...  20181001  00   \n",
       "249  #f057b364bab696eb4ce3713c4b90eb2d @tenbody_138...  20181001  00   \n",
       "\n",
       "                               user_id  \\\n",
       "0    #e208be4ffea19b1ceb5cea2e3c4dc32c   \n",
       "1    #0a3d493f3b2318be80f391eaa00bfd1c   \n",
       "2    #b90d3ee7ed0d7d827aae168e159749f1   \n",
       "3    #b8b9d09fe2961fd62edc94912bf75a90   \n",
       "4    #072f742eda9359cdac03ad080193c11d   \n",
       "..                                 ...   \n",
       "245  #38fbb915feb3cbe5015ccf6afdd3936e   \n",
       "246  #c5dbc3fed1c8c1c52e5cb2065a0d4b69   \n",
       "247  #13b3009a8698e9d5e892534d9dcdac62   \n",
       "248  #ceaa727b363eb14a913bb5292b054894   \n",
       "249  #f057b364bab696eb4ce3713c4b90eb2d   \n",
       "\n",
       "                                            article_id       datetime  \n",
       "0                                          @kty0613_91  2018/10/01/00  \n",
       "1    @miamiyoung_31 @banksalad_49 @rlfrjsdn_95 @rea...  2018/10/01/00  \n",
       "2                                 @joeunha_4 @yoonvi_3  2018/10/01/00  \n",
       "3    @hyejinchoi_122 @hyejinchoi_86 @hyejinchoi_42 ...  2018/10/01/00  \n",
       "4    @doyeonsunim_240 @k52524_297 @bule13_33 @kwong...  2018/10/01/00  \n",
       "..                                                 ...            ...  \n",
       "245  @masism_334 @wikitree_2604 @masism_334 @2hanan...  2018/10/01/00  \n",
       "246  @jonnaalive_288 @jonnaalive_288 @bookguru_29 @...  2018/10/01/00  \n",
       "247  @onthepaper_51 @onthepaper_52 @onthepaper_51 @...  2018/10/01/00  \n",
       "248                @dryjshin_227 @yjwoo_66 @syc1025_72  2018/10/01/00  \n",
       "249                        @tenbody_1386 @tenbody_1410  2018/10/01/00  \n",
       "\n",
       "[250 rows x 6 columns]"
      ]
     },
     "execution_count": 45,
     "metadata": {},
     "output_type": "execute_result"
    }
   ],
   "source": [
    "read.head(250)"
   ]
  },
  {
   "cell_type": "code",
   "execution_count": 46,
   "metadata": {},
   "outputs": [],
   "source": [
    "def chainer(s):\n",
    "    return list(chain.from_iterable(s.str.split(' ')))"
   ]
  },
  {
   "cell_type": "code",
   "execution_count": 47,
   "metadata": {},
   "outputs": [],
   "source": [
    "read_cnt_by_user = read['article_id'].str.split(' ').map(len)"
   ]
  },
  {
   "cell_type": "code",
   "execution_count": 48,
   "metadata": {},
   "outputs": [],
   "source": [
    "read_raw = pd.DataFrame({'dt': np.repeat(read['dt'], read_cnt_by_user),\n",
    "                         'hr': np.repeat(read['hr'], read_cnt_by_user),\n",
    "                         'datetime' : np.repeat(read['datetime'],read_cnt_by_user),\n",
    "                         'user_id': np.repeat(read['user_id'], read_cnt_by_user),\n",
    "                         'article_id': chainer(read['article_id'])})"
   ]
  },
  {
   "cell_type": "code",
   "execution_count": 49,
   "metadata": {},
   "outputs": [
    {
     "data": {
      "text/plain": [
       "(22110706, 5)"
      ]
     },
     "execution_count": 49,
     "metadata": {},
     "output_type": "execute_result"
    }
   ],
   "source": [
    "read_raw.shape"
   ]
  },
  {
   "cell_type": "code",
   "execution_count": 36,
   "metadata": {
    "scrolled": true
   },
   "outputs": [
    {
     "name": "stdout",
     "output_type": "stream",
     "text": [
      "전체 데이터 건수: (22110706, 4)\n",
      "중복 소비를 제외한 데이터 건수: (12597878, 2)\n",
      "Unique 독자 수: 306222\n",
      "소비된 Unique 글 수: 505841\n"
     ]
    }
   ],
   "source": [
    "print(\"전체 데이터 건수:\", read_raw.shape)\n",
    "print(\"중복 소비를 제외한 데이터 건수:\", read_raw[['user_id', 'article_id']].drop_duplicates().shape)\n",
    "print(\"Unique 독자 수:\", len(read_raw['user_id'].unique()))\n",
    "print(\"소비된 Unique 글 수:\", len(read_raw['article_id'].unique()))"
   ]
  },
  {
   "cell_type": "code",
   "execution_count": 55,
   "metadata": {},
   "outputs": [],
   "source": [
    "read_raw.to_csv('read_raw')"
   ]
  },
  {
   "cell_type": "code",
   "execution_count": 51,
   "metadata": {},
   "outputs": [],
   "source": [
    "# read_raw = pd.read_csv('read_raw',index_col='datetime', parse_dates=True)"
   ]
  },
  {
   "cell_type": "code",
   "execution_count": 52,
   "metadata": {},
   "outputs": [
    {
     "data": {
      "text/html": [
       "<div>\n",
       "<style scoped>\n",
       "    .dataframe tbody tr th:only-of-type {\n",
       "        vertical-align: middle;\n",
       "    }\n",
       "\n",
       "    .dataframe tbody tr th {\n",
       "        vertical-align: top;\n",
       "    }\n",
       "\n",
       "    .dataframe thead th {\n",
       "        text-align: right;\n",
       "    }\n",
       "</style>\n",
       "<table border=\"1\" class=\"dataframe\">\n",
       "  <thead>\n",
       "    <tr style=\"text-align: right;\">\n",
       "      <th></th>\n",
       "      <th>Unnamed: 0</th>\n",
       "      <th>dt</th>\n",
       "      <th>hr</th>\n",
       "      <th>user_id</th>\n",
       "      <th>article_id</th>\n",
       "    </tr>\n",
       "    <tr>\n",
       "      <th>datetime</th>\n",
       "      <th></th>\n",
       "      <th></th>\n",
       "      <th></th>\n",
       "      <th></th>\n",
       "      <th></th>\n",
       "    </tr>\n",
       "  </thead>\n",
       "  <tbody>\n",
       "    <tr>\n",
       "      <td>2018-10-01 00:00:00</td>\n",
       "      <td>0</td>\n",
       "      <td>20181001</td>\n",
       "      <td>0</td>\n",
       "      <td>#e208be4ffea19b1ceb5cea2e3c4dc32c</td>\n",
       "      <td>@kty0613_91</td>\n",
       "    </tr>\n",
       "    <tr>\n",
       "      <td>2018-10-01 00:00:00</td>\n",
       "      <td>1</td>\n",
       "      <td>20181001</td>\n",
       "      <td>0</td>\n",
       "      <td>#0a3d493f3b2318be80f391eaa00bfd1c</td>\n",
       "      <td>@miamiyoung_31</td>\n",
       "    </tr>\n",
       "    <tr>\n",
       "      <td>2018-10-01 00:00:00</td>\n",
       "      <td>1</td>\n",
       "      <td>20181001</td>\n",
       "      <td>0</td>\n",
       "      <td>#0a3d493f3b2318be80f391eaa00bfd1c</td>\n",
       "      <td>@banksalad_49</td>\n",
       "    </tr>\n",
       "    <tr>\n",
       "      <td>2018-10-01 00:00:00</td>\n",
       "      <td>1</td>\n",
       "      <td>20181001</td>\n",
       "      <td>0</td>\n",
       "      <td>#0a3d493f3b2318be80f391eaa00bfd1c</td>\n",
       "      <td>@rlfrjsdn_95</td>\n",
       "    </tr>\n",
       "    <tr>\n",
       "      <td>2018-10-01 00:00:00</td>\n",
       "      <td>1</td>\n",
       "      <td>20181001</td>\n",
       "      <td>0</td>\n",
       "      <td>#0a3d493f3b2318be80f391eaa00bfd1c</td>\n",
       "      <td>@readme999_140</td>\n",
       "    </tr>\n",
       "    <tr>\n",
       "      <td>...</td>\n",
       "      <td>...</td>\n",
       "      <td>...</td>\n",
       "      <td>...</td>\n",
       "      <td>...</td>\n",
       "      <td>...</td>\n",
       "    </tr>\n",
       "    <tr>\n",
       "      <td>2019-02-28 23:00:00</td>\n",
       "      <td>1229</td>\n",
       "      <td>20190228</td>\n",
       "      <td>23</td>\n",
       "      <td>#3eec960b2ad12fc41ec986032effc8b2</td>\n",
       "      <td>@leewoosview_189</td>\n",
       "    </tr>\n",
       "    <tr>\n",
       "      <td>2019-02-28 23:00:00</td>\n",
       "      <td>1230</td>\n",
       "      <td>20190228</td>\n",
       "      <td>23</td>\n",
       "      <td>#1eab0886c0f0f32156f9ab1e5d0fffab</td>\n",
       "      <td>@rory_7</td>\n",
       "    </tr>\n",
       "    <tr>\n",
       "      <td>2019-02-28 23:00:00</td>\n",
       "      <td>1230</td>\n",
       "      <td>20190228</td>\n",
       "      <td>23</td>\n",
       "      <td>#1eab0886c0f0f32156f9ab1e5d0fffab</td>\n",
       "      <td>@rory_7</td>\n",
       "    </tr>\n",
       "    <tr>\n",
       "      <td>2019-02-28 23:00:00</td>\n",
       "      <td>1231</td>\n",
       "      <td>20190228</td>\n",
       "      <td>23</td>\n",
       "      <td>#005be6888ba3f083eed1806ba427cc3a</td>\n",
       "      <td>@cliche-cliche_1</td>\n",
       "    </tr>\n",
       "    <tr>\n",
       "      <td>2019-02-28 23:00:00</td>\n",
       "      <td>1231</td>\n",
       "      <td>20190228</td>\n",
       "      <td>23</td>\n",
       "      <td>#005be6888ba3f083eed1806ba427cc3a</td>\n",
       "      <td>@cliche-cliche_5</td>\n",
       "    </tr>\n",
       "  </tbody>\n",
       "</table>\n",
       "<p>22110706 rows × 5 columns</p>\n",
       "</div>"
      ],
      "text/plain": [
       "                     Unnamed: 0        dt  hr  \\\n",
       "datetime                                        \n",
       "2018-10-01 00:00:00           0  20181001   0   \n",
       "2018-10-01 00:00:00           1  20181001   0   \n",
       "2018-10-01 00:00:00           1  20181001   0   \n",
       "2018-10-01 00:00:00           1  20181001   0   \n",
       "2018-10-01 00:00:00           1  20181001   0   \n",
       "...                         ...       ...  ..   \n",
       "2019-02-28 23:00:00        1229  20190228  23   \n",
       "2019-02-28 23:00:00        1230  20190228  23   \n",
       "2019-02-28 23:00:00        1230  20190228  23   \n",
       "2019-02-28 23:00:00        1231  20190228  23   \n",
       "2019-02-28 23:00:00        1231  20190228  23   \n",
       "\n",
       "                                               user_id        article_id  \n",
       "datetime                                                                  \n",
       "2018-10-01 00:00:00  #e208be4ffea19b1ceb5cea2e3c4dc32c       @kty0613_91  \n",
       "2018-10-01 00:00:00  #0a3d493f3b2318be80f391eaa00bfd1c    @miamiyoung_31  \n",
       "2018-10-01 00:00:00  #0a3d493f3b2318be80f391eaa00bfd1c     @banksalad_49  \n",
       "2018-10-01 00:00:00  #0a3d493f3b2318be80f391eaa00bfd1c      @rlfrjsdn_95  \n",
       "2018-10-01 00:00:00  #0a3d493f3b2318be80f391eaa00bfd1c    @readme999_140  \n",
       "...                                                ...               ...  \n",
       "2019-02-28 23:00:00  #3eec960b2ad12fc41ec986032effc8b2  @leewoosview_189  \n",
       "2019-02-28 23:00:00  #1eab0886c0f0f32156f9ab1e5d0fffab           @rory_7  \n",
       "2019-02-28 23:00:00  #1eab0886c0f0f32156f9ab1e5d0fffab           @rory_7  \n",
       "2019-02-28 23:00:00  #005be6888ba3f083eed1806ba427cc3a  @cliche-cliche_1  \n",
       "2019-02-28 23:00:00  #005be6888ba3f083eed1806ba427cc3a  @cliche-cliche_5  \n",
       "\n",
       "[22110706 rows x 5 columns]"
      ]
     },
     "execution_count": 52,
     "metadata": {},
     "output_type": "execute_result"
    }
   ],
   "source": [
    "# read_raw"
   ]
  },
  {
   "cell_type": "code",
   "execution_count": 54,
   "metadata": {},
   "outputs": [],
   "source": [
    "# del read_raw['Unnamed: 0']"
   ]
  }
 ],
 "metadata": {
  "kernelspec": {
   "display_name": "Python 3",
   "language": "python",
   "name": "python3"
  },
  "language_info": {
   "codemirror_mode": {
    "name": "ipython",
    "version": 3
   },
   "file_extension": ".py",
   "mimetype": "text/x-python",
   "name": "python",
   "nbconvert_exporter": "python",
   "pygments_lexer": "ipython3",
   "version": "3.7.4"
  }
 },
 "nbformat": 4,
 "nbformat_minor": 2
}
