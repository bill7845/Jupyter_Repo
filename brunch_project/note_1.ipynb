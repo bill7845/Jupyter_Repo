{
 "cells": [
  {
   "cell_type": "code",
   "execution_count": 36,
   "metadata": {},
   "outputs": [
    {
     "data": {
      "text/html": [
       "<div>\n",
       "<style scoped>\n",
       "    .dataframe tbody tr th:only-of-type {\n",
       "        vertical-align: middle;\n",
       "    }\n",
       "\n",
       "    .dataframe tbody tr th {\n",
       "        vertical-align: top;\n",
       "    }\n",
       "\n",
       "    .dataframe thead th {\n",
       "        text-align: right;\n",
       "    }\n",
       "</style>\n",
       "<table border=\"1\" class=\"dataframe\">\n",
       "  <thead>\n",
       "    <tr style=\"text-align: right;\">\n",
       "      <th></th>\n",
       "      <th>title</th>\n",
       "      <th>keyword</th>\n",
       "      <th>text</th>\n",
       "      <th>nickname</th>\n",
       "      <th>publish_date</th>\n",
       "      <th>likes</th>\n",
       "      <th>share</th>\n",
       "      <th>comment</th>\n",
       "      <th>url</th>\n",
       "      <th>url_plink</th>\n",
       "    </tr>\n",
       "  </thead>\n",
       "  <tbody>\n",
       "    <tr>\n",
       "      <td>0</td>\n",
       "      <td>4월</td>\n",
       "      <td>[캘리에세이\\n                        , 캘리그라피\\n     ...</td>\n",
       "      <td>[, , , 날도 좋고 나도 좋고오늘따라 더 보고싶으니까 괜히 날씨 핑계삼아 전화해...</td>\n",
       "      <td>캘리에세이 CALLIESSAY</td>\n",
       "      <td>2020-04-01T23:54+0900</td>\n",
       "      <td>NaN</td>\n",
       "      <td>None</td>\n",
       "      <td></td>\n",
       "      <td>https://brunch.co.kr/@calliessay/90</td>\n",
       "      <td>https://brunch.co.kr/@@sUs/90</td>\n",
       "    </tr>\n",
       "    <tr>\n",
       "      <td>1</td>\n",
       "      <td>취미가 기적이 되던 그 처음의 순간</td>\n",
       "      <td>[1인기업\\n                        , 캘리그래피\\n      ...</td>\n",
       "      <td>[, 나는 사람들에게 , 취미가 기적이 되는 삶을 살고 전하는 , 취미 기적 메신저...</td>\n",
       "      <td>소담</td>\n",
       "      <td>2020-04-01T18:33+0900</td>\n",
       "      <td>NaN</td>\n",
       "      <td>None</td>\n",
       "      <td></td>\n",
       "      <td>https://brunch.co.kr/@sodamday/132</td>\n",
       "      <td>https://brunch.co.kr/@@jUs/132</td>\n",
       "    </tr>\n",
       "    <tr>\n",
       "      <td>2</td>\n",
       "      <td>이어즈 앤 이어즈</td>\n",
       "      <td>[SF\\n                        , 손글씨\\n          ...</td>\n",
       "      <td>['이어즈 앤 이어즈'는 영국의 한 가정을 중심으로 2019년부터 2034년까지의 ...</td>\n",
       "      <td>양보</td>\n",
       "      <td>2020-04-01T15:17+0900</td>\n",
       "      <td>NaN</td>\n",
       "      <td>None</td>\n",
       "      <td></td>\n",
       "      <td>https://brunch.co.kr/@prorange/648</td>\n",
       "      <td>https://brunch.co.kr/@@4D6/648</td>\n",
       "    </tr>\n",
       "  </tbody>\n",
       "</table>\n",
       "</div>"
      ],
      "text/plain": [
       "                 title                                            keyword  \\\n",
       "0                   4월  [캘리에세이\\n                        , 캘리그라피\\n     ...   \n",
       "1  취미가 기적이 되던 그 처음의 순간  [1인기업\\n                        , 캘리그래피\\n      ...   \n",
       "2            이어즈 앤 이어즈  [SF\\n                        , 손글씨\\n          ...   \n",
       "\n",
       "                                                text          nickname  \\\n",
       "0  [, , , 날도 좋고 나도 좋고오늘따라 더 보고싶으니까 괜히 날씨 핑계삼아 전화해...  캘리에세이 CALLIESSAY   \n",
       "1  [, 나는 사람들에게 , 취미가 기적이 되는 삶을 살고 전하는 , 취미 기적 메신저...                소담   \n",
       "2  ['이어즈 앤 이어즈'는 영국의 한 가정을 중심으로 2019년부터 2034년까지의 ...                양보   \n",
       "\n",
       "            publish_date  likes share comment  \\\n",
       "0  2020-04-01T23:54+0900    NaN  None           \n",
       "1  2020-04-01T18:33+0900    NaN  None           \n",
       "2  2020-04-01T15:17+0900    NaN  None           \n",
       "\n",
       "                                   url                       url_plink  \n",
       "0  https://brunch.co.kr/@calliessay/90   https://brunch.co.kr/@@sUs/90  \n",
       "1   https://brunch.co.kr/@sodamday/132  https://brunch.co.kr/@@jUs/132  \n",
       "2   https://brunch.co.kr/@prorange/648  https://brunch.co.kr/@@4D6/648  "
      ]
     },
     "execution_count": 36,
     "metadata": {},
     "output_type": "execute_result"
    }
   ],
   "source": [
    "import pandas as pd\n",
    "import json\n",
    "import os\n",
    "\n",
    "with open('C:/Users/KIHyuk/Desktop/brunch_data/json/멋진_캘리그래피.json',encoding='UTF8') as json_file:\n",
    "    json_data = json.load(json_file)\n",
    "\n",
    "df = pd.DataFrame(json_data['data'],\n",
    "                  columns=['title','keyword','text','nickname','publish_date','likes','share','comment','url','url_plink'])\n",
    "\n",
    "df.head(3)"
   ]
  },
  {
   "cell_type": "markdown",
   "metadata": {},
   "source": [
    "## preprocessing"
   ]
  },
  {
   "cell_type": "code",
   "execution_count": 37,
   "metadata": {},
   "outputs": [
    {
     "name": "stdout",
     "output_type": "stream",
     "text": [
      "text nan 제거 전 :  3587\n",
      "text nan인 경우 :  84\n",
      "text nan 제거 후 :  3503\n"
     ]
    }
   ],
   "source": [
    "# text nan 개수\n",
    "print(\"text nan 제거 전 : \",len(df))\n",
    "print(\"text nan인 경우 : \",df['text'].isnull().sum())\n",
    "\n",
    "# text nan 제거\n",
    "df = df.dropna(subset=['text'])\n",
    "\n",
    "print(\"text nan 제거 후 : \",len(df))"
   ]
  },
  {
   "cell_type": "code",
   "execution_count": 38,
   "metadata": {},
   "outputs": [
    {
     "name": "stdout",
     "output_type": "stream",
     "text": [
      "['캘리에세이', '캘리그라피', '4월']\n"
     ]
    }
   ],
   "source": [
    "# keyword \n",
    "def pre_keyword(x):\n",
    "    tmp = []\n",
    "    for val in x:\n",
    "        tmp.append(val.replace(\"\\n\",\"\").replace(\" \",\"\"))\n",
    "    return tmp\n",
    "\n",
    "df['keyword'] = df['keyword'].apply(pre_keyword)\n",
    "print(df['keyword'][0])"
   ]
  },
  {
   "cell_type": "code",
   "execution_count": 39,
   "metadata": {},
   "outputs": [],
   "source": [
    "def pre_comment(x):\n",
    "    if len(x) == 0:\n",
    "        return None\n",
    "    else :\n",
    "        return x\n",
    "\n",
    "df['comment'] = df['comment'].apply(pre_comment)"
   ]
  },
  {
   "cell_type": "code",
   "execution_count": 35,
   "metadata": {},
   "outputs": [
    {
     "data": {
      "text/plain": [
       "0       ['', '', '', '날도 좋고 나도 좋고오늘따라 더 보고싶으니까\\xa0괜히 날...\n",
       "1       ['', '나는 사람들에게 ', '취미가 기적이 되는 삶을 살고 전하는 ', '취미...\n",
       "2       [\"'이어즈 앤 이어즈'는 영국의 한 가정을 중심으로 2019년부터 2034년까지의...\n",
       "3       ['해당 이야기는 워크어웨이(Workaway)를 통해 다녀온 여행 에세이를 담고 있...\n",
       "4       ['4월 - 나태주', '<너만 모르는 그리움>', '', '', '#손글씨 , #...\n",
       "                              ...                        \n",
       "3582    ['', '누군가를 만났을때-', \"'잘'지내냐고 묻지 않기로 했다.\", '꼭 잘 ...\n",
       "3583    ['', '틀렸다와 다르다의 차이는 여러 책들과 강연 등을 통해서 확실히 구분 지어...\n",
       "3584    ['스물여덞 하고도 절반이 지난가을에 사표를 냈다. 출판부서로 옮긴 지 일 년 만이...\n",
       "3585    ['\\xa0\\xa0선물을 할 때 나는 되도록이면 편지를 함께 주려고 노력한다.', ...\n",
       "3586    [\"아이들과 함께 할 수 있는 시간이 얼마 안남았다는 것을 생각하게 된\\xa0건 큰...\n",
       "Name: text, Length: 3503, dtype: object"
      ]
     },
     "execution_count": 35,
     "metadata": {},
     "output_type": "execute_result"
    }
   ],
   "source": [
    "def pre_text(x):\n",
    "    return str(x)\n",
    "\n",
    "df['text'] = df['text'].apply(pre_text)\n",
    "df['text']"
   ]
  }
 ],
 "metadata": {
  "kernelspec": {
   "display_name": "Python 3",
   "language": "python",
   "name": "python3"
  },
  "language_info": {
   "codemirror_mode": {
    "name": "ipython",
    "version": 3
   },
   "file_extension": ".py",
   "mimetype": "text/x-python",
   "name": "python",
   "nbconvert_exporter": "python",
   "pygments_lexer": "ipython3",
   "version": "3.7.4"
  }
 },
 "nbformat": 4,
 "nbformat_minor": 2
}
