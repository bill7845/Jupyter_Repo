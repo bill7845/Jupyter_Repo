{
 "cells": [
  {
   "cell_type": "code",
   "execution_count": 1,
   "metadata": {},
   "outputs": [],
   "source": [
    "import pandas as pd\n",
    "import json\n",
    "import os"
   ]
  },
  {
   "cell_type": "code",
   "execution_count": 2,
   "metadata": {},
   "outputs": [],
   "source": [
    "with open('C:/Users/KIHyuk/Desktop/brunch_data/json/IT_트렌드.json',encoding='UTF8') as json_file:\n",
    "    json_data = json.load(json_file)"
   ]
  },
  {
   "cell_type": "code",
   "execution_count": 3,
   "metadata": {},
   "outputs": [
    {
     "data": {
      "text/plain": [
       "dict_keys(['name', 'version', 'data'])"
      ]
     },
     "execution_count": 3,
     "metadata": {},
     "output_type": "execute_result"
    }
   ],
   "source": [
    "json_data.keys()"
   ]
  },
  {
   "cell_type": "code",
   "execution_count": 4,
   "metadata": {},
   "outputs": [],
   "source": [
    "# data :\n",
    "# 'title', 'nickname', 'publish_date', 'keyword[]', 'like', 'share', 'comment', 'url', 'url_plink', 'text[]'"
   ]
  },
  {
   "cell_type": "code",
   "execution_count": 5,
   "metadata": {
    "scrolled": true
   },
   "outputs": [],
   "source": [
    "# 건강.운동\n",
    "df = pd.DataFrame(json_data['data'],\n",
    "                  columns=['title','keyword','text','nickname','publish_date','likes','share','comment','url','url_plink'])"
   ]
  },
  {
   "cell_type": "code",
   "execution_count": 17,
   "metadata": {},
   "outputs": [
    {
     "data": {
      "text/html": [
       "<div>\n",
       "<style scoped>\n",
       "    .dataframe tbody tr th:only-of-type {\n",
       "        vertical-align: middle;\n",
       "    }\n",
       "\n",
       "    .dataframe tbody tr th {\n",
       "        vertical-align: top;\n",
       "    }\n",
       "\n",
       "    .dataframe thead th {\n",
       "        text-align: right;\n",
       "    }\n",
       "</style>\n",
       "<table border=\"1\" class=\"dataframe\">\n",
       "  <thead>\n",
       "    <tr style=\"text-align: right;\">\n",
       "      <th></th>\n",
       "      <th>title</th>\n",
       "      <th>keyword</th>\n",
       "      <th>text</th>\n",
       "      <th>nickname</th>\n",
       "      <th>publish_date</th>\n",
       "      <th>likes</th>\n",
       "      <th>share</th>\n",
       "      <th>comment</th>\n",
       "      <th>url</th>\n",
       "      <th>url_plink</th>\n",
       "    </tr>\n",
       "  </thead>\n",
       "  <tbody>\n",
       "    <tr>\n",
       "      <td>0</td>\n",
       "      <td>넷플릭스에서 길을 잃는 시간이 길어졌다</td>\n",
       "      <td>[서핑\\n                        , 넷플릭스\\n         ...</td>\n",
       "      <td>[요즘 집콕하는 시간이 길어지다 보니 넷플릭스에 접속하는 시간이 길어졌다. 그렇다....</td>\n",
       "      <td>오늘강세인</td>\n",
       "      <td>2020-03-30T18:52+0900</td>\n",
       "      <td>NaN</td>\n",
       "      <td>None</td>\n",
       "      <td></td>\n",
       "      <td>https://brunch.co.kr/@todaykangsein/69</td>\n",
       "      <td>https://brunch.co.kr/@@VKz/69</td>\n",
       "    </tr>\n",
       "    <tr>\n",
       "      <td>1</td>\n",
       "      <td>NaN</td>\n",
       "      <td>NaN</td>\n",
       "      <td>NaN</td>\n",
       "      <td>NaN</td>\n",
       "      <td>NaN</td>\n",
       "      <td>NaN</td>\n",
       "      <td>NaN</td>\n",
       "      <td>NaN</td>\n",
       "      <td>NaN</td>\n",
       "      <td>NaN</td>\n",
       "    </tr>\n",
       "    <tr>\n",
       "      <td>2</td>\n",
       "      <td>미래는 예측할 수 없기에 만드는 것이 빠르다</td>\n",
       "      <td>[코로나\\n                        , 재택근무\\n        ...</td>\n",
       "      <td>[, 타겟 유저, 타겟 시장이라는 용어를 흔히들 씁니다. 신사업을 기획하거나 회사의...</td>\n",
       "      <td>킹홍</td>\n",
       "      <td>2020-03-30T16:35+0900</td>\n",
       "      <td>NaN</td>\n",
       "      <td>None</td>\n",
       "      <td></td>\n",
       "      <td>https://brunch.co.kr/@kinghong/97</td>\n",
       "      <td>https://brunch.co.kr/@@16KU/97</td>\n",
       "    </tr>\n",
       "    <tr>\n",
       "      <td>3</td>\n",
       "      <td>[UIUX] 드리블(Dribbble) 리디자인 -1</td>\n",
       "      <td>[디자인\\n                        , UX\\n          ...</td>\n",
       "      <td>[, -지난글 보기-, https://brunch.co.kr/@sei0/8, , ,...</td>\n",
       "      <td>Seiyoung Park</td>\n",
       "      <td>2020-03-30T16:00+0900</td>\n",
       "      <td>NaN</td>\n",
       "      <td>7</td>\n",
       "      <td></td>\n",
       "      <td>https://brunch.co.kr/@sei0/9</td>\n",
       "      <td>https://brunch.co.kr/@@8uXR/9</td>\n",
       "    </tr>\n",
       "    <tr>\n",
       "      <td>4</td>\n",
       "      <td>라이다 센서를 통해 그려본 애플 AR 글래스</td>\n",
       "      <td>[애플\\n                        , 안경\\n           ...</td>\n",
       "      <td>[텐서플로우 개발자 서밋에 이어 두 번째로 인공지능 기조연설 시리즈를 이어가겠습니다...</td>\n",
       "      <td>시나브로의 테크산책</td>\n",
       "      <td>2020-03-30T15:46+0900</td>\n",
       "      <td>NaN</td>\n",
       "      <td>139</td>\n",
       "      <td></td>\n",
       "      <td>https://brunch.co.kr/@synabreu/56</td>\n",
       "      <td>https://brunch.co.kr/@@Zvf/56</td>\n",
       "    </tr>\n",
       "  </tbody>\n",
       "</table>\n",
       "</div>"
      ],
      "text/plain": [
       "                          title  \\\n",
       "0         넷플릭스에서 길을 잃는 시간이 길어졌다   \n",
       "1                           NaN   \n",
       "2      미래는 예측할 수 없기에 만드는 것이 빠르다   \n",
       "3  [UIUX] 드리블(Dribbble) 리디자인 -1   \n",
       "4      라이다 센서를 통해 그려본 애플 AR 글래스   \n",
       "\n",
       "                                             keyword  \\\n",
       "0  [서핑\\n                        , 넷플릭스\\n         ...   \n",
       "1                                                NaN   \n",
       "2  [코로나\\n                        , 재택근무\\n        ...   \n",
       "3  [디자인\\n                        , UX\\n          ...   \n",
       "4  [애플\\n                        , 안경\\n           ...   \n",
       "\n",
       "                                                text       nickname  \\\n",
       "0  [요즘 집콕하는 시간이 길어지다 보니 넷플릭스에 접속하는 시간이 길어졌다. 그렇다....          오늘강세인   \n",
       "1                                                NaN            NaN   \n",
       "2  [, 타겟 유저, 타겟 시장이라는 용어를 흔히들 씁니다. 신사업을 기획하거나 회사의...             킹홍   \n",
       "3  [, -지난글 보기-, https://brunch.co.kr/@sei0/8, , ,...  Seiyoung Park   \n",
       "4  [텐서플로우 개발자 서밋에 이어 두 번째로 인공지능 기조연설 시리즈를 이어가겠습니다...     시나브로의 테크산책   \n",
       "\n",
       "            publish_date  likes share comment  \\\n",
       "0  2020-03-30T18:52+0900    NaN  None           \n",
       "1                    NaN    NaN   NaN     NaN   \n",
       "2  2020-03-30T16:35+0900    NaN  None           \n",
       "3  2020-03-30T16:00+0900    NaN     7           \n",
       "4  2020-03-30T15:46+0900    NaN   139           \n",
       "\n",
       "                                      url                       url_plink  \n",
       "0  https://brunch.co.kr/@todaykangsein/69   https://brunch.co.kr/@@VKz/69  \n",
       "1                                     NaN                             NaN  \n",
       "2       https://brunch.co.kr/@kinghong/97  https://brunch.co.kr/@@16KU/97  \n",
       "3            https://brunch.co.kr/@sei0/9   https://brunch.co.kr/@@8uXR/9  \n",
       "4       https://brunch.co.kr/@synabreu/56   https://brunch.co.kr/@@Zvf/56  "
      ]
     },
     "execution_count": 17,
     "metadata": {},
     "output_type": "execute_result"
    }
   ],
   "source": [
    "df.head(5)"
   ]
  },
  {
   "cell_type": "markdown",
   "metadata": {},
   "source": [
    "## preprocessing"
   ]
  },
  {
   "cell_type": "code",
   "execution_count": 7,
   "metadata": {},
   "outputs": [
    {
     "name": "stdout",
     "output_type": "stream",
     "text": [
      "text nan 제거 전 :  6057\n",
      "text nan인 경우 :  0\n",
      "text nan 제거 후 :  6057\n"
     ]
    }
   ],
   "source": [
    "# text nan 개수\n",
    "print(\"text nan 제거 전 : \",len(df))\n",
    "print(\"text nan인 경우 : \",df['text'].isnull().sum())\n",
    "\n",
    "# text nan 제거\n",
    "df = df.dropna(subset=['text'])\n",
    "\n",
    "print(\"text nan 제거 후 : \",len(df))"
   ]
  },
  {
   "cell_type": "code",
   "execution_count": 8,
   "metadata": {},
   "outputs": [
    {
     "data": {
      "text/plain": [
       "['서핑', '넷플릭스', '모바일']"
      ]
     },
     "execution_count": 8,
     "metadata": {},
     "output_type": "execute_result"
    }
   ],
   "source": [
    "# keyword \n",
    "def pre_keyword(x):\n",
    "    tmp = []\n",
    "    for val in x:\n",
    "        tmp.append(val.replace(\"\\n\",\"\").replace(\" \",\"\"))\n",
    "    return tmp\n",
    "\n",
    "df['keyword'] = df['keyword'].apply(pre_keyword)\n",
    "\n",
    "df['keyword'][0]"
   ]
  },
  {
   "cell_type": "code",
   "execution_count": 9,
   "metadata": {},
   "outputs": [],
   "source": [
    "def pre_comment(x):\n",
    "    if len(x) == 0:\n",
    "        return None\n",
    "    else :\n",
    "        return x\n",
    "\n",
    "df['comment'] = df['comment'].apply(pre_comment)"
   ]
  },
  {
   "cell_type": "code",
   "execution_count": 10,
   "metadata": {},
   "outputs": [
    {
     "data": {
      "text/plain": [
       "['요즘 집콕하는 시간이 길어지다 보니 넷플릭스에 접속하는 시간이 길어졌다. 그렇다. 정확히 접속하는 시간이 늘어난 것이지 무언가를 보는 시간이 늘어난 것은 아니다.\\xa0그냥 휙휙 넘기다 무언가 볼만한 것이 발견되기를 기대하는 마음으로 넷플릭스를 휘젓고 다닌다.',\n",
       " '',\n",
       " '',\n",
       " '생각해보니 넷플릭스뿐만 아니라 유튜브, 페이스북, 인스타그램 등 내가 요즘 모바일로 제일 많이 쓰는 앱들이 모두 목적지 없는 모바일 서핑의\\xa0패턴이었다. 특정한 알고리즘에 의해 정의된 나의 페르소나에 맞춰 각 플랫폼이 찔러주는 콘텐츠를, 파도에 몸 맡기듯 소비하는 형태인 것이다.',\n",
       " '',\n",
       " '그 과정에 나의 목적의식은 철저히 배제되어있다. 그리고 더 나아가 자유의지도 일정 부분 박탈된 상태로 모바일 공간을 유영한다. 물론 플랫폼에서 이탈하거나 댓글을 다는 등의 행위를 스스로 할 수 있으니 자유의지가 박탈되지 않은 상태라고 정의할 수 있겠으나 콘텐츠를 볼지 말지를 결정하기 전에 이미 플랫폼이 보여주는 콘텐츠에 노출되는 형태이니 콘텐츠를 골라서 볼 수 있는 자유의지는 박탈당한 것이나 다름없다.',\n",
       " '',\n",
       " '이런 수동적인 콘텐츠 소비가 계속해서 이어지면 종국에는 시간 대비 양질의 콘텐츠를 소비할 수 있는 가성비가 0에 수렴하게 될지도 모른다. 이렇다 할 목적지가 없기 때문에 탐색에 90% 이상의 시간을 할애하게 되는 것이다.\\xa0',\n",
       " '',\n",
       " '그래서 만약 목적지 없는 모바일 서핑이 반복되고 있는 정황을 나처럼 자각하게 됐다면 우선 이 플랫폼에서 내가 무엇을 보고 싶은지에 대한 고민을 하고, 그에 맞춰서 피드를 정리해야 한다(팔로우하고 있는 채널). 그리고 플랫폼에 접속할 때는 팔로우하고 있는 채널의 정보를 우선으로 소비하겠다는 마음가짐 혹은 새로운 채널을 발견하고 싶다는 목적 등을 가지려는 노력이 필요하다. 그런 노력들이 쌓이면 모바일 서핑의 가성비는 올라가게 되고 탐색보다 발견의 시간이 더 길어지게 된다.',\n",
       " '',\n",
       " '',\n",
       " '',\n",
       " '']"
      ]
     },
     "execution_count": 10,
     "metadata": {},
     "output_type": "execute_result"
    }
   ],
   "source": [
    "df['text'][0]"
   ]
  },
  {
   "cell_type": "code",
   "execution_count": 11,
   "metadata": {},
   "outputs": [],
   "source": [
    "def pre_text(x):\n",
    "    return str(x)\n",
    "\n",
    "df['text'] = df['text'].apply(pre_text)"
   ]
  }
 ],
 "metadata": {
  "kernelspec": {
   "display_name": "Python 3",
   "language": "python",
   "name": "python3"
  },
  "language_info": {
   "codemirror_mode": {
    "name": "ipython",
    "version": 3
   },
   "file_extension": ".py",
   "mimetype": "text/x-python",
   "name": "python",
   "nbconvert_exporter": "python",
   "pygments_lexer": "ipython3",
   "version": "3.7.4"
  }
 },
 "nbformat": 4,
 "nbformat_minor": 2
}
