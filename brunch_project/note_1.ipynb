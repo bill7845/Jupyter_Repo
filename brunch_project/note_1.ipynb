{
 "cells": [
  {
   "cell_type": "code",
   "execution_count": 2,
   "metadata": {},
   "outputs": [
    {
     "data": {
      "text/html": [
       "<div>\n",
       "<style scoped>\n",
       "    .dataframe tbody tr th:only-of-type {\n",
       "        vertical-align: middle;\n",
       "    }\n",
       "\n",
       "    .dataframe tbody tr th {\n",
       "        vertical-align: top;\n",
       "    }\n",
       "\n",
       "    .dataframe thead th {\n",
       "        text-align: right;\n",
       "    }\n",
       "</style>\n",
       "<table border=\"1\" class=\"dataframe\">\n",
       "  <thead>\n",
       "    <tr style=\"text-align: right;\">\n",
       "      <th></th>\n",
       "      <th>title</th>\n",
       "      <th>keyword</th>\n",
       "      <th>text</th>\n",
       "      <th>nickname</th>\n",
       "      <th>publish_date</th>\n",
       "      <th>likes</th>\n",
       "      <th>share</th>\n",
       "      <th>comment</th>\n",
       "      <th>url</th>\n",
       "      <th>url_plink</th>\n",
       "    </tr>\n",
       "  </thead>\n",
       "  <tbody>\n",
       "    <tr>\n",
       "      <th>0</th>\n",
       "      <td>잡스가 애플에서 쫓겨난 이유</td>\n",
       "      <td>[잡스\\n                        , 애플\\n           ...</td>\n",
       "      <td>[잡스 때문에 유능한 직원들이 회사를 나가다, , 잡스가 1985년 애플에서 쫓겨난...</td>\n",
       "      <td>김선준</td>\n",
       "      <td>2020-05-12T10:14+0900</td>\n",
       "      <td>NaN</td>\n",
       "      <td>None</td>\n",
       "      <td></td>\n",
       "      <td>https://brunch.co.kr/@namu4th/74</td>\n",
       "      <td>https://brunch.co.kr/@@15hM/74</td>\n",
       "    </tr>\n",
       "    <tr>\n",
       "      <th>1</th>\n",
       "      <td>미국 실리콘밸리 정규직 UX 디자이너 취직 - 2편</td>\n",
       "      <td>[실리콘밸리\\n                        , UX\\n        ...</td>\n",
       "      <td>[안녕하세요, 이번 주에 드디어 카네기멜론대학교를 졸업한 안토입니다., 2014년부...</td>\n",
       "      <td>안토</td>\n",
       "      <td>2020-05-12T07:28+0900</td>\n",
       "      <td>NaN</td>\n",
       "      <td>3</td>\n",
       "      <td>3</td>\n",
       "      <td>https://brunch.co.kr/@antoniosong/3</td>\n",
       "      <td>https://brunch.co.kr/@@8URf/3</td>\n",
       "    </tr>\n",
       "    <tr>\n",
       "      <th>2</th>\n",
       "      <td>NaN</td>\n",
       "      <td>NaN</td>\n",
       "      <td>NaN</td>\n",
       "      <td>NaN</td>\n",
       "      <td>NaN</td>\n",
       "      <td>NaN</td>\n",
       "      <td>NaN</td>\n",
       "      <td>NaN</td>\n",
       "      <td>NaN</td>\n",
       "      <td>NaN</td>\n",
       "    </tr>\n",
       "  </tbody>\n",
       "</table>\n",
       "</div>"
      ],
      "text/plain": [
       "                          title  \\\n",
       "0               잡스가 애플에서 쫓겨난 이유   \n",
       "1  미국 실리콘밸리 정규직 UX 디자이너 취직 - 2편   \n",
       "2                           NaN   \n",
       "\n",
       "                                             keyword  \\\n",
       "0  [잡스\\n                        , 애플\\n           ...   \n",
       "1  [실리콘밸리\\n                        , UX\\n        ...   \n",
       "2                                                NaN   \n",
       "\n",
       "                                                text nickname  \\\n",
       "0  [잡스 때문에 유능한 직원들이 회사를 나가다, , 잡스가 1985년 애플에서 쫓겨난...      김선준   \n",
       "1  [안녕하세요, 이번 주에 드디어 카네기멜론대학교를 졸업한 안토입니다., 2014년부...       안토   \n",
       "2                                                NaN      NaN   \n",
       "\n",
       "            publish_date  likes share comment  \\\n",
       "0  2020-05-12T10:14+0900    NaN  None           \n",
       "1  2020-05-12T07:28+0900    NaN     3       3   \n",
       "2                    NaN    NaN   NaN     NaN   \n",
       "\n",
       "                                   url                       url_plink  \n",
       "0     https://brunch.co.kr/@namu4th/74  https://brunch.co.kr/@@15hM/74  \n",
       "1  https://brunch.co.kr/@antoniosong/3   https://brunch.co.kr/@@8URf/3  \n",
       "2                                  NaN                             NaN  "
      ]
     },
     "execution_count": 2,
     "metadata": {},
     "output_type": "execute_result"
    }
   ],
   "source": [
    "import pandas as pd\n",
    "import json\n",
    "import os\n",
    "\n",
    "with open('C:/Users/KIHyuk/Desktop/brunch_data/json/IT_트렌드.json',encoding='UTF8') as json_file:\n",
    "    json_data = json.load(json_file)\n",
    "\n",
    "df = pd.DataFrame(json_data['data'],\n",
    "                  columns=['title','keyword','text','nickname','publish_date','likes','share','comment','url','url_plink'])\n",
    "\n",
    "df.head(3)"
   ]
  },
  {
   "cell_type": "markdown",
   "metadata": {},
   "source": [
    "## preprocessing"
   ]
  },
  {
   "cell_type": "code",
   "execution_count": 37,
   "metadata": {},
   "outputs": [
    {
     "name": "stdout",
     "output_type": "stream",
     "text": [
      "text nan 제거 전 :  3587\n",
      "text nan인 경우 :  84\n",
      "text nan 제거 후 :  3503\n"
     ]
    }
   ],
   "source": [
    "# text nan 개수\n",
    "print(\"text nan 제거 전 : \",len(df))\n",
    "print(\"text nan인 경우 : \",df['text'].isnull().sum())\n",
    "\n",
    "# text nan 제거\n",
    "df = df.dropna(subset=['text'])\n",
    "\n",
    "print(\"text nan 제거 후 : \",len(df))"
   ]
  },
  {
   "cell_type": "code",
   "execution_count": 38,
   "metadata": {},
   "outputs": [
    {
     "name": "stdout",
     "output_type": "stream",
     "text": [
      "['캘리에세이', '캘리그라피', '4월']\n"
     ]
    }
   ],
   "source": [
    "# keyword \n",
    "def pre_keyword(x):\n",
    "    tmp = []\n",
    "    for val in x:\n",
    "        tmp.append(val.replace(\"\\n\",\"\").replace(\" \",\"\"))\n",
    "    return tmp\n",
    "\n",
    "df['keyword'] = df['keyword'].apply(pre_keyword)\n",
    "print(df['keyword'][0])"
   ]
  },
  {
   "cell_type": "code",
   "execution_count": 39,
   "metadata": {},
   "outputs": [],
   "source": [
    "def pre_comment(x):\n",
    "    if len(x) == 0:\n",
    "        return None\n",
    "    else :\n",
    "        return x\n",
    "\n",
    "df['comment'] = df['comment'].apply(pre_comment)"
   ]
  },
  {
   "cell_type": "code",
   "execution_count": 35,
   "metadata": {},
   "outputs": [
    {
     "data": {
      "text/plain": [
       "0       ['', '', '', '날도 좋고 나도 좋고오늘따라 더 보고싶으니까\\xa0괜히 날...\n",
       "1       ['', '나는 사람들에게 ', '취미가 기적이 되는 삶을 살고 전하는 ', '취미...\n",
       "2       [\"'이어즈 앤 이어즈'는 영국의 한 가정을 중심으로 2019년부터 2034년까지의...\n",
       "3       ['해당 이야기는 워크어웨이(Workaway)를 통해 다녀온 여행 에세이를 담고 있...\n",
       "4       ['4월 - 나태주', '<너만 모르는 그리움>', '', '', '#손글씨 , #...\n",
       "                              ...                        \n",
       "3582    ['', '누군가를 만났을때-', \"'잘'지내냐고 묻지 않기로 했다.\", '꼭 잘 ...\n",
       "3583    ['', '틀렸다와 다르다의 차이는 여러 책들과 강연 등을 통해서 확실히 구분 지어...\n",
       "3584    ['스물여덞 하고도 절반이 지난가을에 사표를 냈다. 출판부서로 옮긴 지 일 년 만이...\n",
       "3585    ['\\xa0\\xa0선물을 할 때 나는 되도록이면 편지를 함께 주려고 노력한다.', ...\n",
       "3586    [\"아이들과 함께 할 수 있는 시간이 얼마 안남았다는 것을 생각하게 된\\xa0건 큰...\n",
       "Name: text, Length: 3503, dtype: object"
      ]
     },
     "execution_count": 35,
     "metadata": {},
     "output_type": "execute_result"
    }
   ],
   "source": [
    "def pre_text(x):\n",
    "    return str(x)\n",
    "\n",
    "df['text'] = df['text'].apply(pre_text)\n",
    "df['text']"
   ]
  }
 ],
 "metadata": {
  "kernelspec": {
   "display_name": "Python 3",
   "language": "python",
   "name": "python3"
  },
  "language_info": {
   "codemirror_mode": {
    "name": "ipython",
    "version": 3
   },
   "file_extension": ".py",
   "mimetype": "text/x-python",
   "name": "python",
   "nbconvert_exporter": "python",
   "pygments_lexer": "ipython3",
   "version": "3.7.4"
  }
 },
 "nbformat": 4,
 "nbformat_minor": 2
}
