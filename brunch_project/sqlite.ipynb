{
 "cells": [
  {
   "cell_type": "code",
   "execution_count": 3,
   "metadata": {},
   "outputs": [
    {
     "ename": "OperationalError",
     "evalue": "no such table: main_table",
     "output_type": "error",
     "traceback": [
      "\u001b[1;31m---------------------------------------------------------------------------\u001b[0m",
      "\u001b[1;31mOperationalError\u001b[0m                          Traceback (most recent call last)",
      "\u001b[1;32m<ipython-input-3-145f602506f5>\u001b[0m in \u001b[0;36m<module>\u001b[1;34m\u001b[0m\n\u001b[0;32m      8\u001b[0m \u001b[1;31m#          ' (id INTEGER PRIMARY KEY, text TEXT, category INTEGER, date TEXT)')\u001b[0m\u001b[1;33m\u001b[0m\u001b[1;33m\u001b[0m\u001b[1;33m\u001b[0m\u001b[0m\n\u001b[0;32m      9\u001b[0m \u001b[1;33m\u001b[0m\u001b[0m\n\u001b[1;32m---> 10\u001b[1;33m \u001b[0mc\u001b[0m\u001b[1;33m.\u001b[0m\u001b[0mexecute\u001b[0m\u001b[1;33m(\u001b[0m\u001b[1;34m\"SELECT * FROM main_table\"\u001b[0m\u001b[1;33m)\u001b[0m\u001b[1;33m\u001b[0m\u001b[1;33m\u001b[0m\u001b[0m\n\u001b[0m\u001b[0;32m     11\u001b[0m \u001b[0mresults\u001b[0m \u001b[1;33m=\u001b[0m \u001b[0mc\u001b[0m\u001b[1;33m.\u001b[0m\u001b[0mfetchall\u001b[0m\u001b[1;33m(\u001b[0m\u001b[1;33m)\u001b[0m\u001b[1;33m\u001b[0m\u001b[1;33m\u001b[0m\u001b[0m\n\u001b[0;32m     12\u001b[0m \u001b[1;33m\u001b[0m\u001b[0m\n",
      "\u001b[1;31mOperationalError\u001b[0m: no such table: main_table"
     ]
    }
   ],
   "source": [
    "import sqlite3\n",
    "\n",
    "conn = sqlite3.connect('brunch_network')\n",
    "\n",
    "c = conn.cursor()\n",
    "\n",
    "# c.execute('CREATE TABLE main_db'\\\n",
    "#          ' (id INTEGER PRIMARY KEY, text TEXT, category INTEGER, date TEXT)')\n",
    "\n",
    "c.execute(\"SELECT * FROM main_table\")\n",
    "results = c.fetchall()\n",
    "\n",
    "conn.close()\n",
    "print(results)"
   ]
  },
  {
   "cell_type": "code",
   "execution_count": 13,
   "metadata": {},
   "outputs": [
    {
     "name": "stdout",
     "output_type": "stream",
     "text": [
      "[('첫번째 글입니다. 나는 파이썬을 잘하고싶다. SQL도 잘하고 싶다', 0, '2020-04-14 05:37:43'), ('나는 여행 가고 싶다. 놀러 가고 싶다. 바다 가고 싶다', 21, '2020-04-14 05:37:43')]\n"
     ]
    }
   ],
   "source": [
    "import sqlite3\n",
    "\n",
    "conn = sqlite3.connect('brunch_text_input.sqlite')\n",
    "\n",
    "c = conn.cursor()\n",
    "c.execute('DROP TABLE IF EXISTS text_db')\n",
    "c.execute('CREATE TABLE text_db'\\\n",
    "         ' (text TEXT, category INTEGER, date TEXT)')\n",
    "\n",
    "example1 = '첫번째 글입니다. 나는 파이썬을 잘하고싶다. SQL도 잘하고 싶다'\n",
    "c.execute(\"INSERT INTO text_db\"\\\n",
    "         \" (text, category, date) VALUES\"\\\n",
    "         \" (?, ?, DATETIME('now'))\",(example1,0))\n",
    "\n",
    "example2 = '나는 여행 가고 싶다. 놀러 가고 싶다. 바다 가고 싶다'\n",
    "c.execute(\"INSERT INTO text_db\"\\\n",
    "         \" (text, category, date) VALUES\"\\\n",
    "         \" (?, ?,DATETIME('now'))\",(example2,21))\n",
    "\n",
    "conn.commit()\n",
    "conn.close()\n",
    "\n",
    "conn = sqlite3.connect('brunch_text_input.sqlite')\n",
    "c = conn.cursor()\n",
    "\n",
    "c.execute(\"SELECT * FROM text_db\")\n",
    "results = c.fetchall()\n",
    "\n",
    "conn.close()\n",
    "print(results)"
   ]
  },
  {
   "cell_type": "code",
   "execution_count": null,
   "metadata": {},
   "outputs": [],
   "source": [
    "import sqlite3\n",
    "\n"
   ]
  }
 ],
 "metadata": {
  "kernelspec": {
   "display_name": "Python 3",
   "language": "python",
   "name": "python3"
  },
  "language_info": {
   "codemirror_mode": {
    "name": "ipython",
    "version": 3
   },
   "file_extension": ".py",
   "mimetype": "text/x-python",
   "name": "python",
   "nbconvert_exporter": "python",
   "pygments_lexer": "ipython3",
   "version": "3.7.4"
  }
 },
 "nbformat": 4,
 "nbformat_minor": 2
}
