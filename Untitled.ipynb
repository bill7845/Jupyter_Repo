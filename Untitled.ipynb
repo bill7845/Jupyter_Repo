{
 "cells": [
  {
   "cell_type": "code",
   "execution_count": 1,
   "metadata": {},
   "outputs": [],
   "source": [
    "import pandas as pd"
   ]
  },
  {
   "cell_type": "code",
   "execution_count": null,
   "metadata": {},
   "outputs": [],
   "source": []
  },
  {
   "cell_type": "code",
   "execution_count": 2,
   "metadata": {},
   "outputs": [],
   "source": [
    "df = pd.read_csv('funda_train.csv')"
   ]
  },
  {
   "cell_type": "code",
   "execution_count": 8,
   "metadata": {
    "scrolled": true
   },
   "outputs": [
    {
     "data": {
      "text/plain": [
       "145"
      ]
     },
     "execution_count": 8,
     "metadata": {},
     "output_type": "execute_result"
    }
   ],
   "source": [
    "df['type_of_business'].nunique()"
   ]
  },
  {
   "cell_type": "code",
   "execution_count": 7,
   "metadata": {
    "scrolled": false
   },
   "outputs": [
    {
     "name": "stdout",
     "output_type": "stream",
     "text": [
      "type_of_business\n",
      "한식 음식점업                         745905\n",
      "두발 미용업                          178475\n",
      "의복 소매업                          158234\n",
      "기타 주점업                          102413\n",
      "치킨 전문점                           89277\n",
      "일식 음식점업                          77649\n",
      "서양식 음식점업                         74577\n",
      "간이음식 포장 판매 전문점                   74130\n",
      "비알코올 음료점업                        72720\n",
      "피자, 햄버거, 샌드위치 및 유사 음식점업          49586\n",
      "육류 소매업                           35186\n",
      "기타 미용업                           32697\n",
      "안경 및 렌즈 소매업                      31023\n",
      "애완용 동물 및 관련용품 소매업                30725\n",
      "김밥 및 기타 간이 음식점업                  30482\n",
      "그 외 기타 분류 안된 상품 전문 소매업           30172\n",
      "전자상거래 소매업                        30153\n",
      "일반 교과 학원                         26745\n",
      "화장품, 비누 및 방향제 소매업                24809\n",
      "기타 스포츠 교육기관                      24768\n",
      "당구장 운영업                          24486\n",
      "중식 음식점업                          24282\n",
      "기타 예술학원                          18244\n",
      "화초 및 식물 소매업                      17516\n",
      "가정용 세탁업                          17368\n",
      "노래연습장 운영업                        16132\n",
      "자동차 전문 수리업                       14528\n",
      "운동 및 경기용품 소매업                    14432\n",
      "신선, 냉동 및 기타 수산물 소매업              14091\n",
      "기타 교습학원                          14067\n",
      "                                 ...  \n",
      "그 외 기타 분류 안된 오락관련 서비스업            1771\n",
      "사무용 기기 소매업                        1711\n",
      "기타 기술 및 직업훈련학원                    1651\n",
      "그 외 기타 건축자재 도매업                   1542\n",
      "기록매체 복제업                          1383\n",
      "그 외 기타 무점포 소매업                    1250\n",
      "결혼 상담 및 준비 서비스업                   1241\n",
      "기타 건물 관련설비 설치 공사업                 1177\n",
      "기타 인문 및 사회과학 연구개발업                1157\n",
      "마사지업                              1156\n",
      "기타 산업용 농산물 도매업                    1153\n",
      "예식장업                              1061\n",
      "신선, 냉동 및 기타 수산물 도매업                990\n",
      "귀금속 및 관련제품 제조업                     939\n",
      "예술품 및 골동품 소매업                      933\n",
      "문구용품 및 회화용품 소매업                    886\n",
      "채소, 과실 및 뿌리작물 소매업                  813\n",
      "모터사이클 및 부품 도매업                     727\n",
      "기타 엔지니어링 서비스업                      708\n",
      "의료용품 도매업                           677\n",
      "경영 컨설팅업                            631\n",
      "간판 및 광고물 제조업                       615\n",
      "생활용 유리ㆍ요업ㆍ목재ㆍ금속 제품 및 날붙이 도매업       604\n",
      "육류 도매업                             575\n",
      "통신·방송장비 및 부품 도매업                   573\n",
      "곡물 및 기타 식량작물 재배업                   569\n",
      "주방용품 및 가정용 유리, 요업 제품 소매업           551\n",
      "배전반 및 전기 자동제어반 제조업                 533\n",
      "그 외 기타 생활용품 도매업                    519\n",
      "신선식품 및 단순 가공식품 도매업                 231\n",
      "Length: 145, dtype: int64\n"
     ]
    }
   ],
   "source": [
    "print(df.groupby(df['type_of_business']).size().sort_values(ascending=False))"
   ]
  },
  {
   "cell_type": "code",
   "execution_count": 21,
   "metadata": {},
   "outputs": [
    {
     "data": {
      "text/plain": [
       "6556613"
      ]
     },
     "execution_count": 21,
     "metadata": {},
     "output_type": "execute_result"
    }
   ],
   "source": [
    "len(df.type_of_business)"
   ]
  },
  {
   "cell_type": "code",
   "execution_count": 17,
   "metadata": {},
   "outputs": [
    {
     "data": {
      "text/plain": [
       "3952609"
      ]
     },
     "execution_count": 17,
     "metadata": {},
     "output_type": "execute_result"
    }
   ],
   "source": [
    "df['type_of_business'].isnull().sum()"
   ]
  },
  {
   "cell_type": "code",
   "execution_count": 22,
   "metadata": {
    "scrolled": true
   },
   "outputs": [
    {
     "data": {
      "text/plain": [
       "2604004"
      ]
     },
     "execution_count": 22,
     "metadata": {},
     "output_type": "execute_result"
    }
   ],
   "source": [
    "len(df.type_of_business) -df['type_of_business'].isnull().sum()"
   ]
  },
  {
   "cell_type": "code",
   "execution_count": 23,
   "metadata": {
    "scrolled": true
   },
   "outputs": [
    {
     "data": {
      "text/plain": [
       "2604004"
      ]
     },
     "execution_count": 23,
     "metadata": {},
     "output_type": "execute_result"
    }
   ],
   "source": [
    "df['type_of_business'].count()"
   ]
  },
  {
   "cell_type": "code",
   "execution_count": 24,
   "metadata": {},
   "outputs": [
    {
     "data": {
      "text/plain": [
       "store_id                  0\n",
       "card_id                   0\n",
       "card_company              0\n",
       "transacted_date           0\n",
       "transacted_time           0\n",
       "installment_term          0\n",
       "region              2042766\n",
       "type_of_business    3952609\n",
       "amount                    0\n",
       "dtype: int64"
      ]
     },
     "execution_count": 24,
     "metadata": {},
     "output_type": "execute_result"
    }
   ],
   "source": [
    "df.isnull().sum()"
   ]
  }
 ],
 "metadata": {
  "kernelspec": {
   "display_name": "Python 3",
   "language": "python",
   "name": "python3"
  },
  "language_info": {
   "codemirror_mode": {
    "name": "ipython",
    "version": 3
   },
   "file_extension": ".py",
   "mimetype": "text/x-python",
   "name": "python",
   "nbconvert_exporter": "python",
   "pygments_lexer": "ipython3",
   "version": "3.7.3"
  }
 },
 "nbformat": 4,
 "nbformat_minor": 2
}
