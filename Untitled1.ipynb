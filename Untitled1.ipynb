{
 "cells": [
  {
   "cell_type": "code",
   "execution_count": 1,
   "metadata": {},
   "outputs": [
    {
     "name": "stdout",
     "output_type": "stream",
     "text": [
      "<Response [200]>\n"
     ]
    }
   ],
   "source": [
    "import requests\n",
    "from bs4 import BeautifulSoup as bs\n",
    "\n",
    "url = 'https://soomgo.com/api/v2/pros/?cat1&cat2&cursor=MTU4Mzc4MzcxNjAwMA%3D%3D&district&province&service&sort=last_login'\n",
    "response = requests.get(url)\n",
    "print(response)"
   ]
  },
  {
   "cell_type": "code",
   "execution_count": null,
   "metadata": {},
   "outputs": [],
   "source": [
    "'https://soomgo.com/api/v2/pros/?cat1&cat2&cursor=MTU4Mzc4MzcxNjAwMA%3D%3D&district&province&service&sort=last_login'"
   ]
  },
  {
   "cell_type": "code",
   "execution_count": 18,
   "metadata": {},
   "outputs": [
    {
     "name": "stdout",
     "output_type": "stream",
     "text": [
      "{'results': [{'id': 225952, 'company_name': '일러스트레이터,그래픽디자인,라벨디자인,작업지시서,의류관련 가능합니다.', 'address': '서울 용산구', 'is_plus': False, 'score': {'avg_star_rate': 0.0, 'hired_count': 0, 'review_count': 0}, 'user': {'id': 1120863, 'name': '장재훈', 'profile_image': 'https://dmmj3ljielax6.cloudfront.net/upload/profile/c5b5aa27-14d3-459d-904b-cd1569033c32.jpg'}, 'has_escrow': False, 'escrow_events': ['EVENT_001'], 'recent_review': None}, {'id': 362864, 'company_name': '마음 편하게 찾을 수 있는 동네오빠.\\xa0\\n나름 박사과정까지 공부한 심리전문가.\\xa0\\n연극치료, 미술치료, 놀이치료 경력을 녹여낸 통합예술치료사.', 'address': '서울특별시 용산구', 'is_plus': False, 'score': {'avg_star_rate': 0.0, 'hired_count': 0, 'review_count': 0}, 'user': {'id': 2308751, 'name': '한동균', 'profile_image': 'https://dmmj3ljielax6.cloudfront.net/upload/profile/a456b603-202f-422e-8c6b-5daf09256278.jpg'}, 'has_escrow': True, 'escrow_events': ['EVENT_001'], 'recent_review': None}, {'id': 282599, 'company_name': '박현철 고수의 욕실/화장실 리모델링, 집 인테리어 서비스', 'address': '경기 용인시', 'is_plus': False, 'score': {'avg_star_rate': 5.0, 'hired_count': 14, 'review_count': 3}, 'user': {'id': 1532818, 'name': '박현철', 'profile_image': 'https://dmmj3ljielax6.cloudfront.net/upload/profile/24a7a480-0b57-4ede-bcf6-72549e058beb.png'}, 'has_escrow': True, 'escrow_events': [], 'recent_review': {'id': 109163, 'user': {'id': 2271089, 'name': '구민서', 'profile_image': None}, 'rate': 5.0, 'contents': '새로 이사온 집 화장실 바닥이랑 현관에 줄눈 시공 받았는데 만족합니다. 특히 화장실은 이전에 살던 분이 엉망으로 셀프 시공을 해놨었는데 사장님이 꼼꼼하게 잘 해주셨어요. 만족합니다.'}}, {'id': 211530, 'company_name': '한번 이용하면 팬이 되실 거에요^^\\n합리적인 가격과 최고의 퀄리티로 보답하겠습니다.\\n프리젠테이션/영상 편집/리플릿 디자인 필요하시면 언제든~', 'address': '서울 중구', 'is_plus': False, 'score': {'avg_star_rate': 5.0, 'hired_count': 44, 'review_count': 33}, 'user': {'id': 52807, 'name': 'Make’s', 'profile_image': 'https://dmmj3ljielax6.cloudfront.net/upload/profile/1feec6ad-f152-4115-b364-b9ef8b8aae47.JPG'}, 'has_escrow': True, 'escrow_events': [], 'recent_review': {'id': 115798, 'user': {'id': 1928775, 'name': '정민철', 'profile_image': None}, 'rate': 5.0, 'contents': '센스감각이 좋은분 같습니다. 디자인도 깔끔하고 피드백도 바로 반영해 주셔서 너무 좋았습니다. 강력추천 합니다!!'}}, {'id': 373630, 'company_name': '온라인 종합광고대행사', 'address': '전국', 'is_plus': False, 'score': {'avg_star_rate': 0.0, 'hired_count': 0, 'review_count': 0}, 'user': {'id': 2400422, 'name': '최용호', 'profile_image': 'https://dmmj3ljielax6.cloudfront.net/upload/profile/78b75a98-adeb-4e2c-8685-59b4e9f1f0a2.png'}, 'has_escrow': False, 'escrow_events': ['EVENT_001'], 'recent_review': None}, {'id': 395000, 'company_name': '원하시는 디자인을 제작&변환해드립니다.\\n인쇄물>>로고,명함,스티커,배너, 리플렛 등\\n파일변환>> 다양한 문서들을 PDF로 변환', 'address': '전국', 'is_plus': False, 'score': {'avg_star_rate': 0.0, 'hired_count': 0, 'review_count': 0}, 'user': {'id': 2599510, 'name': '유현주', 'profile_image': 'https://dmmj3ljielax6.cloudfront.net/upload/profile/71d69add-a0af-4654-a396-8c2b4cadbc4e.JPG'}, 'has_escrow': True, 'escrow_events': ['EVENT_001'], 'recent_review': None}, {'id': 314637, 'company_name': '10년 동안 이사 입주 청소 및  줄눈과 더불어 나노코팅을 주로 하는 업체 입니다.\\n', 'address': '대전 중구', 'is_plus': False, 'score': {'avg_star_rate': 5.0, 'hired_count': 2, 'review_count': 1}, 'user': {'id': 1828694, 'name': '석관호', 'profile_image': 'https://dmmj3ljielax6.cloudfront.net/upload/profile/701c357d-057f-49a9-8341-6d84efda2f8e.jpg'}, 'has_escrow': True, 'escrow_events': [], 'recent_review': {'id': 71278, 'user': {'id': 1876995, 'name': '조한나', 'profile_image': None}, 'rate': 5.0, 'contents': '정말 감동받았어요 끝날시간이지났는데도 집이워낙 오래비워둔집이라 손이많이갔을껀데 인원부족하셨는지 한분더투입하셔서 하셨더라구요 제가도착했을때 날씨도 습해서힘드셨을텐데 4분이서 웃으시면서 반기시는데 일끝나고 힘들었던 하루가 조금이라도 보상받은 느낌이랄까? 처음에 다같은업체일꺼라 저렴한곳알아본건데 정말 그 금액으로는 제가 미안해서안될정도였어요 더챙겨드리긴했지만 맘으로 더드리고싶을정도였어요 ! 마지막에 부자되세요란 말에 얼마나 행복했는지몰라요 감사합니다 다들복받으실꺼예요 진짜 리뷰같은거안다는데 감동받았어요'}}, {'id': 281676, 'company_name': '류중모  고수의 도배 시공 서비스', 'address': '부산 해운대구', 'is_plus': False, 'score': {'avg_star_rate': 2.7, 'hired_count': 8, 'review_count': 7}, 'user': {'id': 1522316, 'name': '류중모', 'profile_image': 'https://dmmj3ljielax6.cloudfront.net/upload/profile/51bc3e78-803a-4908-9604-23e76da54a6a.jpg'}, 'has_escrow': True, 'escrow_events': [], 'recent_review': {'id': 109745, 'user': {'id': None, 'name': '박예진', 'profile_image': None}, 'rate': 5.0, 'contents': '학원도배 너무꼼꼼하게 해주셔서 감사드립니다.\\n도배 및 도배 업무 외 잔업무도 인상한번 안찌푸시리고, 도와주셔서 감사합니다:)\\n다음번에 또 도배하게되면 꼭 연락드릴께요^^'}}, {'id': 328010, 'company_name': '아라핀 고수의 일러스트 디자인 서비스', 'address': '서울 서대문구', 'is_plus': False, 'score': {'avg_star_rate': 0.0, 'hired_count': 1, 'review_count': 0}, 'user': {'id': 1970316, 'name': '아라핀 스튜디오', 'profile_image': 'https://dmmj3ljielax6.cloudfront.net/upload/profile/4133a562-7f22-4e3c-a58c-751f83d9b156.png'}, 'has_escrow': False, 'escrow_events': [], 'recent_review': None}, {'id': 298650, 'company_name': '원하는 시간에 현장방문하여 무료견적 내드립니다.', 'address': '경기 성남시', 'is_plus': False, 'score': {'avg_star_rate': 5.0, 'hired_count': 3, 'review_count': 1}, 'user': {'id': 1676128, 'name': '조세창', 'profile_image': 'https://dmmj3ljielax6.cloudfront.net/upload/profile/ee62ff8c-8ae4-4ef0-9b19-49f71f951327.jpg'}, 'has_escrow': False, 'escrow_events': [], 'recent_review': {'id': 61207, 'user': {'id': 1535639, 'name': 'SMA오렌지폭스', 'profile_image': 'https://dmmj3ljielax6.cloudfront.net/upload/profile/f9fa2ff9-8bdb-454a-92a0-9d5120df54c9.png'}, 'rate': 5.0, 'contents': '매우 친절하고, 매우 합리적이고, 매우 정확하고, 모두 매우 완벽.. 전기 최고의 고수 확실합니다. 물개박수드립니다.'}}, {'id': 332612, 'company_name': '원어민! 미국에서 12년이상 학교다닌 미국 상위50위 대학원 졸업자! 한/영 번역 맡겨만 주세요! 가격협의도 가능합니다!  영어 녹음도 가능!', 'address': '전국', 'is_plus': False, 'score': {'avg_star_rate': 5.0, 'hired_count': 32, 'review_count': 22}, 'user': {'id': 2019249, 'name': '박혜민', 'profile_image': 'https://dmmj3ljielax6.cloudfront.net/upload/profile/2f9ecc29-d4d3-4b6a-a5ad-0d5ae480e288.JPG'}, 'has_escrow': True, 'escrow_events': [], 'recent_review': {'id': 116291, 'user': {'id': 2436221, 'name': '안다혜', 'profile_image': None}, 'rate': 5.0, 'contents': '기한내에 매끄러운번역잘해주셨어요.친절하게 잘 대해주셔서 다음번에도 꼭 의뢰드리고싶습니다.감사해요^^'}}, {'id': 132644, 'company_name': '꿀잼기타 상준쌤★', 'address': '인천광역시 부평구', 'is_plus': False, 'score': {'avg_star_rate': 5.0, 'hired_count': 2, 'review_count': 6}, 'user': {'id': 592288, 'name': '안상준', 'profile_image': 'https://dmmj3ljielax6.cloudfront.net/upload/profile/8005df9a-b511-472d-97bb-212bd380ff66.jpg'}, 'has_escrow': True, 'escrow_events': [], 'recent_review': {'id': 103804, 'user': {'id': 2341951, 'name': '조재범', 'profile_image': None}, 'rate': 5.0, 'contents': '정식으로 기타를 처음 배워 봤는데 기타코드를 잡는 바른 자세부터 차근히 잘 알려주시고, 어렵게 다가올수 있는 음악적 지식에 대해서도 알기 쉽게 설명해 주셔서 좋았어요^^ 거기에 더해 수업 끝나기 전에는 한 번 전체적으로 다시 정리해 주셨던 부분이 정말 좋았습니다ㅎㅎ 잘치게 되는 그날까지 선생님 믿고 열심히 해보려 합니다!'}}, {'id': 372441, 'company_name': '이규동 고수의 아파트,빌라 단독주택 등 종합 인테리어 서비스.', 'address': '인천 계양구', 'is_plus': False, 'score': {'avg_star_rate': 0.0, 'hired_count': 0, 'review_count': 0}, 'user': {'id': 2390360, 'name': 'LEE GYU DONG', 'profile_image': 'https://dmmj3ljielax6.cloudfront.net/upload/profile/799ee78d-3c67-4336-a2fc-0b3043dd8d5d.jpg'}, 'has_escrow': False, 'escrow_events': ['EVENT_001'], 'recent_review': None}, {'id': 280790, 'company_name': '유병우 고수의 원룸/소형 이사, 용달 운송 서비스', 'address': '서울특별시 노원구', 'is_plus': False, 'score': {'avg_star_rate': 5.0, 'hired_count': 22, 'review_count': 20}, 'user': {'id': 1513373, 'name': '유병우', 'profile_image': 'https://dmmj3ljielax6.cloudfront.net/upload/profile/c8bfdb29-170b-4e32-aec6-08a714bd9747.jpg'}, 'has_escrow': False, 'escrow_events': [], 'recent_review': {'id': 116417, 'user': {'id': 2557567, 'name': '김용대', 'profile_image': 'https://dmmj3ljielax6.cloudfront.net/upload/profile-default/soomgo_113.jpg'}, 'rate': 5.0, 'contents': '선택했었던 가장 큰 이유는 가성비와 후기였습니다.\\n견적내주신 곳중 가장 저렴하였고, 후기가 무엇보다 좋아 선택하였습니다.\\n\\n토요일 오후에 했는데 저희가 조금 빠르게 와달라고 했더니\\n점심 식사도 안하시고 와주시고\\n무엇보다도 이사경험이 없는 저희에게 진두지휘하시면서\\n웃음 잃지 않으시고 도와주셔서 감동이었습니다.\\n\\n다음번 이사할때도 요청드리겠습니다!\\n이사 잘 도와주셔서 감사드립니다.\\n강력추천합니다!!!'}}, {'id': 305947, 'company_name': '안녕하세요 ~  \\n지음 건축 인테리어 입니다 \\n아파트 상가 주택 빌라 원룸. ..\\n인테리어 리모델링 \\n철거부터 신축까지..\\n최선을 다하겠습니다 ', 'address': '울산 중구', 'is_plus': False, 'score': {'avg_star_rate': 0.0, 'hired_count': 5, 'review_count': 0}, 'user': {'id': 1740151, 'name': '지음 건축 인테리어', 'profile_image': 'https://dmmj3ljielax6.cloudfront.net/upload/profile/653d0383-761e-46a1-b2f1-e7ff67d463cc.jpg'}, 'has_escrow': True, 'escrow_events': [], 'recent_review': None}, {'id': 155579, 'company_name': '합리적인 비용으로 만족도 높은 고퀄리티 영상 제작을 도와드립니다.', 'address': '부산 금정구', 'is_plus': False, 'score': {'avg_star_rate': 5.0, 'hired_count': 9, 'review_count': 4}, 'user': {'id': 746836, 'name': '김지은', 'profile_image': 'https://dmmj3ljielax6.cloudfront.net/upload/profile/bbc2bf91-45f3-4bb7-9800-f9223ad58ddb.jpeg'}, 'has_escrow': True, 'escrow_events': [], 'recent_review': {'id': 24533, 'user': {'id': None, 'name': '천규성', 'profile_image': None}, 'rate': 5.0, 'contents': '레슨비가 저렴한 편에 비해 알차고 유익했어요. 레슨 후에도 계속 케어해주시는 느낌이 들어좋습니다'}}, {'id': 307043, 'company_name': '창틀 실리콘 누수 방수공사.크랙및 실리콘 보수작업', 'address': '서울 도봉구', 'is_plus': False, 'score': {'avg_star_rate': 4.8, 'hired_count': 4, 'review_count': 8}, 'user': {'id': 1750167, 'name': '김현준', 'profile_image': 'https://dmmj3ljielax6.cloudfront.net/upload/profile/d99f0376-c139-470b-bed0-945a405e4cdb.jpg'}, 'has_escrow': True, 'escrow_events': [], 'recent_review': {'id': 91958, 'user': {'id': 2219074, 'name': 'RainAloha', 'profile_image': 'https://dmmj3ljielax6.cloudfront.net/upload/profile/c6d27322-2666-4039-afb2-9931992a6c43.asid1020909821599445height50width50ext1577604212hashAeS-TVt4uhtNKYQp'}, 'rate': 5.0, 'contents': '욕조, 세면대, 싱크대 포함해서 방바닥 등 집전체 실리콘 했는데, 정말 깨끗+깔끔😭 마음에 쏙 들게 해주셨어요. \\n\\n내집처럼 정성스럽게 해주시는, 믿을 수 있는 김현준 고수님 추천합니다.'}}, {'id': 261041, 'company_name': '김선빈 고수의 컴퓨터 수리 서비스', 'address': '전국', 'is_plus': False, 'score': {'avg_star_rate': 4.9, 'hired_count': 160, 'review_count': 44}, 'user': {'id': 1364044, 'name': '김선빈', 'profile_image': 'https://dmmj3ljielax6.cloudfront.net/upload/profile/977f99f1-325c-48f7-b8d1-864fccf0754f.jpg'}, 'has_escrow': True, 'escrow_events': [], 'recent_review': {'id': 114292, 'user': {'id': 2385237, 'name': '조계명', 'profile_image': 'https://dmmj3ljielax6.cloudfront.net/upload/profile/664f9855-16a3-4ed8-91dc-1eef5b24bf67.JPEG'}, 'rate': 5.0, 'contents': '본사에서 60만원 견적나온 노트북 배터리 및 키인식 하드웨어 오류증상의 수리비를 반값도 안되는 가격에 해결해주신 김선빈 기술자님께 큰 만족을 느꼈습니다. 거리가 멀어 택배를 보내더라도 이곳을 이용하겠습니다. 믿고맡기셔도됩니다. 양심적이고 깔끔한 서비스 보장합니다. 강추 별점5점 드립니다.'}}, {'id': 378008, 'company_name': '버려지는 공간과시간을  효율적으로 잡아드립니다 ', 'address': '서울 구로구', 'is_plus': False, 'score': {'avg_star_rate': 0.0, 'hired_count': 2, 'review_count': 0}, 'user': {'id': 2438188, 'name': '각나오는 이선생', 'profile_image': 'https://dmmj3ljielax6.cloudfront.net/upload/profile/91b52712-83ce-4104-963a-bc1f531c13d6.jpg'}, 'has_escrow': True, 'escrow_events': [], 'recent_review': None}, {'id': 366452, 'company_name': '인테리어와 동선을 고려한 가구 재배치를 통해, 정리수납을  완성하는 깔끄미입니다', 'address': '경기 안산시', 'is_plus': False, 'score': {'avg_star_rate': 5.0, 'hired_count': 1, 'review_count': 2}, 'user': {'id': 2340015, 'name': '깔끄미', 'profile_image': 'https://dmmj3ljielax6.cloudfront.net/upload/profile/2a6f884e-f1d3-4ae1-8ff3-5c0a4565b6ae.jpg'}, 'has_escrow': True, 'escrow_events': [], 'recent_review': {'id': 112018, 'user': {'id': 2513407, 'name': '최해선', 'profile_image': None}, 'rate': 5.0, 'contents': '생각했던거보다 만족도가 큽니다~ ^^\\n이사 한번하면 아이가 어려서 매일밤마다 거의 한달은 정리한다고 스트레스 받았었는데 하루만에 해결이 됐네요...담에 이사가게 돼도 또 서비스 이용하고 싶어요~'}}], 'cursor': 'MTU4Mzc4MzY5MDAwMA==', 'escrow_events_meta': [{'id': 1, 'event_code': 'EVENT_001', 'discount_rate': 10.0, 'max_amount': 25000, 'has_commission': False}], 'count': 16654}\n"
     ]
    }
   ],
   "source": [
    "import requests\n",
    "from bs4 import BeautifulSoup as bs\n",
    "\n",
    "# url = 'https://soomgo.com/api/v2/pros/?cat1&cat2&cursor=MTU4Mzc4MzcxNjAwMA==150'\n",
    "url = 'https://soomgo.com/api/v2/pros/?cat1&cat2&cursor=MTU4Mzc4MzcxNjAwMA%3D%3D&'\n",
    "# headers = {\n",
    "#             'Referer': 'http://finance.daum.net',\n",
    "#             'User-Agent':'Mozilla/5.0 (Windows NT 6.1) AppleWebKit/537.36 (KHTML, like Gecko) Chrome/71.0.3578.98 Safari/537.36 OPR/58.0.3135.127'\n",
    "# }\n",
    "response = requests.get(url) # headers=headers\n",
    "jsonObj = response.json()\n",
    "print(jsonObj)"
   ]
  },
  {
   "cell_type": "code",
   "execution_count": 16,
   "metadata": {},
   "outputs": [
    {
     "name": "stdout",
     "output_type": "stream",
     "text": [
      "삼성 인버스 2X WTI원유 선물 ETN\n",
      "삼성전자\n",
      "씨젠\n",
      "한국전력\n",
      "코미팜\n",
      "SK하이닉스\n",
      "삼성중공업\n",
      "셀트리온\n",
      "진원생명과학\n",
      "수젠텍\n"
     ]
    }
   ],
   "source": [
    "import requests\n",
    "from bs4 import BeautifulSoup as bs\n",
    "\n",
    "url = 'https://finance.daum.net/api/search/ranks?limit=10'\n",
    "headers = {\n",
    "            'Referer': 'http://finance.daum.net',\n",
    "            'User-Agent':'Mozilla/5.0 (Windows NT 6.1) AppleWebKit/537.36 (KHTML, like Gecko) Chrome/71.0.3578.98 Safari/537.36 OPR/58.0.3135.127'\n",
    "}\n",
    "response = requests.get(url, headers=headers)\n",
    "jsonObjs = response.json()\n",
    "dataList = jsonObjs['data']\n",
    "for data in dataList :\n",
    "  print(data['name'])"
   ]
  }
 ],
 "metadata": {
  "kernelspec": {
   "display_name": "Python 3",
   "language": "python",
   "name": "python3"
  },
  "language_info": {
   "codemirror_mode": {
    "name": "ipython",
    "version": 3
   },
   "file_extension": ".py",
   "mimetype": "text/x-python",
   "name": "python",
   "nbconvert_exporter": "python",
   "pygments_lexer": "ipython3",
   "version": "3.7.4"
  }
 },
 "nbformat": 4,
 "nbformat_minor": 2
}
