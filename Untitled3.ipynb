{
 "cells": [
  {
   "cell_type": "code",
   "execution_count": 83,
   "metadata": {},
   "outputs": [
    {
     "data": {
      "text/html": [
       "<div>\n",
       "<style scoped>\n",
       "    .dataframe tbody tr th:only-of-type {\n",
       "        vertical-align: middle;\n",
       "    }\n",
       "\n",
       "    .dataframe tbody tr th {\n",
       "        vertical-align: top;\n",
       "    }\n",
       "\n",
       "    .dataframe thead th {\n",
       "        text-align: right;\n",
       "    }\n",
       "</style>\n",
       "<table border=\"1\" class=\"dataframe\">\n",
       "  <thead>\n",
       "    <tr style=\"text-align: right;\">\n",
       "      <th></th>\n",
       "      <th>Cars</th>\n",
       "      <th>tmp_index</th>\n",
       "    </tr>\n",
       "  </thead>\n",
       "  <tbody>\n",
       "    <tr>\n",
       "      <th>2019-06-07 15:30:00</th>\n",
       "      <td>50</td>\n",
       "      <td>2019-06-07 15:30:00</td>\n",
       "    </tr>\n",
       "    <tr>\n",
       "      <th>2019-06-07 18:30:00</th>\n",
       "      <td>30</td>\n",
       "      <td>2019-06-07 18:30:00</td>\n",
       "    </tr>\n",
       "    <tr>\n",
       "      <th>2019-06-08 11:30:00</th>\n",
       "      <td>20</td>\n",
       "      <td>2019-06-08 11:30:00</td>\n",
       "    </tr>\n",
       "    <tr>\n",
       "      <th>2019-06-08 19:30:00</th>\n",
       "      <td>80</td>\n",
       "      <td>2019-06-08 19:30:00</td>\n",
       "    </tr>\n",
       "    <tr>\n",
       "      <th>2019-06-09 17:30:00</th>\n",
       "      <td>80</td>\n",
       "      <td>2019-06-09 17:30:00</td>\n",
       "    </tr>\n",
       "    <tr>\n",
       "      <th>2019-06-09 19:30:00</th>\n",
       "      <td>80</td>\n",
       "      <td>2019-06-09 19:30:00</td>\n",
       "    </tr>\n",
       "  </tbody>\n",
       "</table>\n",
       "</div>"
      ],
      "text/plain": [
       "                     Cars            tmp_index\n",
       "2019-06-07 15:30:00    50  2019-06-07 15:30:00\n",
       "2019-06-07 18:30:00    30  2019-06-07 18:30:00\n",
       "2019-06-08 11:30:00    20  2019-06-08 11:30:00\n",
       "2019-06-08 19:30:00    80  2019-06-08 19:30:00\n",
       "2019-06-09 17:30:00    80  2019-06-09 17:30:00\n",
       "2019-06-09 19:30:00    80  2019-06-09 19:30:00"
      ]
     },
     "execution_count": 83,
     "metadata": {},
     "output_type": "execute_result"
    }
   ],
   "source": [
    "import pandas as pd\n",
    "\n",
    "import datetime\n",
    "\n",
    "toy_dict = {datetime.datetime(2019,6,7,15,30) : 50, datetime.datetime(2019,6,7,18,30) : 30, datetime.datetime(2019,6,8,11,30) : 20, datetime.datetime(2019,6,8,19,30) : 80, datetime.datetime(2019,6,9,17,30) : 80,datetime.datetime(2019,6,9,19,30) : 80}\n",
    "toy_df = pd.DataFrame(toy_dict, index = ['Cars']).T\n",
    "toy_df['tmp_index'] = toy_df.index\n",
    "toy_df['tmp_index'] = toy_df['tmp_index'].astype('str')\n",
    "toy_df"
   ]
  },
  {
   "cell_type": "code",
   "execution_count": 84,
   "metadata": {},
   "outputs": [
    {
     "data": {
      "text/html": [
       "<div>\n",
       "<style scoped>\n",
       "    .dataframe tbody tr th:only-of-type {\n",
       "        vertical-align: middle;\n",
       "    }\n",
       "\n",
       "    .dataframe tbody tr th {\n",
       "        vertical-align: top;\n",
       "    }\n",
       "\n",
       "    .dataframe thead th {\n",
       "        text-align: right;\n",
       "    }\n",
       "</style>\n",
       "<table border=\"1\" class=\"dataframe\">\n",
       "  <thead>\n",
       "    <tr style=\"text-align: right;\">\n",
       "      <th></th>\n",
       "      <th>Cars</th>\n",
       "    </tr>\n",
       "  </thead>\n",
       "  <tbody>\n",
       "    <tr>\n",
       "      <th>2019-06-07</th>\n",
       "      <td>30</td>\n",
       "    </tr>\n",
       "    <tr>\n",
       "      <th>2019-06-08</th>\n",
       "      <td>20</td>\n",
       "    </tr>\n",
       "    <tr>\n",
       "      <th>2019-06-09</th>\n",
       "      <td>80</td>\n",
       "    </tr>\n",
       "  </tbody>\n",
       "</table>\n",
       "</div>"
      ],
      "text/plain": [
       "            Cars\n",
       "2019-06-07    30\n",
       "2019-06-08    20\n",
       "2019-06-09    80"
      ]
     },
     "execution_count": 84,
     "metadata": {},
     "output_type": "execute_result"
    }
   ],
   "source": [
    "resampled_df = pd.DataFrame(toy_df['Cars'].resample('D').min())\n",
    "resampled_df.head()"
   ]
  },
  {
   "cell_type": "code",
   "execution_count": 85,
   "metadata": {},
   "outputs": [
    {
     "data": {
      "text/html": [
       "<div>\n",
       "<style scoped>\n",
       "    .dataframe tbody tr th:only-of-type {\n",
       "        vertical-align: middle;\n",
       "    }\n",
       "\n",
       "    .dataframe tbody tr th {\n",
       "        vertical-align: top;\n",
       "    }\n",
       "\n",
       "    .dataframe thead th {\n",
       "        text-align: right;\n",
       "    }\n",
       "</style>\n",
       "<table border=\"1\" class=\"dataframe\">\n",
       "  <thead>\n",
       "    <tr style=\"text-align: right;\">\n",
       "      <th></th>\n",
       "      <th>Cars</th>\n",
       "      <th>tmp_index</th>\n",
       "    </tr>\n",
       "  </thead>\n",
       "  <tbody>\n",
       "    <tr>\n",
       "      <th>2019-06-07 18:30:00</th>\n",
       "      <td>30</td>\n",
       "      <td>2019-06-07 18:30:00</td>\n",
       "    </tr>\n",
       "    <tr>\n",
       "      <th>2019-06-08 11:30:00</th>\n",
       "      <td>20</td>\n",
       "      <td>2019-06-08 11:30:00</td>\n",
       "    </tr>\n",
       "    <tr>\n",
       "      <th>2019-06-08 19:30:00</th>\n",
       "      <td>80</td>\n",
       "      <td>2019-06-08 19:30:00</td>\n",
       "    </tr>\n",
       "    <tr>\n",
       "      <th>2019-06-09 17:30:00</th>\n",
       "      <td>80</td>\n",
       "      <td>2019-06-09 17:30:00</td>\n",
       "    </tr>\n",
       "    <tr>\n",
       "      <th>2019-06-09 19:30:00</th>\n",
       "      <td>80</td>\n",
       "      <td>2019-06-09 19:30:00</td>\n",
       "    </tr>\n",
       "  </tbody>\n",
       "</table>\n",
       "</div>"
      ],
      "text/plain": [
       "                     Cars            tmp_index\n",
       "2019-06-07 18:30:00    30  2019-06-07 18:30:00\n",
       "2019-06-08 11:30:00    20  2019-06-08 11:30:00\n",
       "2019-06-08 19:30:00    80  2019-06-08 19:30:00\n",
       "2019-06-09 17:30:00    80  2019-06-09 17:30:00\n",
       "2019-06-09 19:30:00    80  2019-06-09 19:30:00"
      ]
     },
     "execution_count": 85,
     "metadata": {},
     "output_type": "execute_result"
    }
   ],
   "source": [
    "resampled_df.merge(toy_df, on='Cars', left_index=True)"
   ]
  },
  {
   "cell_type": "code",
   "execution_count": 86,
   "metadata": {},
   "outputs": [
    {
     "data": {
      "text/html": [
       "<div>\n",
       "<style scoped>\n",
       "    .dataframe tbody tr th:only-of-type {\n",
       "        vertical-align: middle;\n",
       "    }\n",
       "\n",
       "    .dataframe tbody tr th {\n",
       "        vertical-align: top;\n",
       "    }\n",
       "\n",
       "    .dataframe thead th {\n",
       "        text-align: right;\n",
       "    }\n",
       "</style>\n",
       "<table border=\"1\" class=\"dataframe\">\n",
       "  <thead>\n",
       "    <tr style=\"text-align: right;\">\n",
       "      <th></th>\n",
       "      <th>Cars</th>\n",
       "      <th>tmp_index</th>\n",
       "    </tr>\n",
       "  </thead>\n",
       "  <tbody>\n",
       "    <tr>\n",
       "      <th>2019-06-07 15:30:00</th>\n",
       "      <td>50</td>\n",
       "      <td>2019-06-07 15:30:00</td>\n",
       "    </tr>\n",
       "    <tr>\n",
       "      <th>2019-06-07 18:30:00</th>\n",
       "      <td>30</td>\n",
       "      <td>2019-06-07 18:30:00</td>\n",
       "    </tr>\n",
       "    <tr>\n",
       "      <th>2019-06-08 11:30:00</th>\n",
       "      <td>20</td>\n",
       "      <td>2019-06-08 11:30:00</td>\n",
       "    </tr>\n",
       "    <tr>\n",
       "      <th>2019-06-08 19:30:00</th>\n",
       "      <td>80</td>\n",
       "      <td>2019-06-08 19:30:00</td>\n",
       "    </tr>\n",
       "    <tr>\n",
       "      <th>2019-06-09 17:30:00</th>\n",
       "      <td>80</td>\n",
       "      <td>2019-06-09 17:30:00</td>\n",
       "    </tr>\n",
       "    <tr>\n",
       "      <th>2019-06-09 19:30:00</th>\n",
       "      <td>80</td>\n",
       "      <td>2019-06-09 19:30:00</td>\n",
       "    </tr>\n",
       "  </tbody>\n",
       "</table>\n",
       "</div>"
      ],
      "text/plain": [
       "                     Cars            tmp_index\n",
       "2019-06-07 15:30:00    50  2019-06-07 15:30:00\n",
       "2019-06-07 18:30:00    30  2019-06-07 18:30:00\n",
       "2019-06-08 11:30:00    20  2019-06-08 11:30:00\n",
       "2019-06-08 19:30:00    80  2019-06-08 19:30:00\n",
       "2019-06-09 17:30:00    80  2019-06-09 17:30:00\n",
       "2019-06-09 19:30:00    80  2019-06-09 19:30:00"
      ]
     },
     "execution_count": 86,
     "metadata": {},
     "output_type": "execute_result"
    }
   ],
   "source": [
    "toy_df"
   ]
  }
 ],
 "metadata": {
  "kernelspec": {
   "display_name": "Python 3",
   "language": "python",
   "name": "python3"
  },
  "language_info": {
   "codemirror_mode": {
    "name": "ipython",
    "version": 3
   },
   "file_extension": ".py",
   "mimetype": "text/x-python",
   "name": "python",
   "nbconvert_exporter": "python",
   "pygments_lexer": "ipython3",
   "version": "3.7.4"
  }
 },
 "nbformat": 4,
 "nbformat_minor": 2
}
