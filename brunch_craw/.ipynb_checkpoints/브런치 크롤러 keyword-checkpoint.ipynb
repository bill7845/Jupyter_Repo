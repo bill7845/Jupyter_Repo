{
 "cells": [
  {
   "cell_type": "code",
   "execution_count": 60,
   "metadata": {},
   "outputs": [],
   "source": [
    "import pandas as pd\n",
    "import pickle\n",
    "import requests\n",
    "import json\n",
    "\n",
    "from bs4 import BeautifulSoup"
   ]
  },
  {
   "cell_type": "code",
   "execution_count": 61,
   "metadata": {},
   "outputs": [],
   "source": [
    "category = ['지구한바퀴_세계여행?q=g','그림·웹툰?q=g','시사·이슈?q=g','IT_트렌드?q=g','사진·촬영?q=g',\n",
    "                 '취향저격_영화_리뷰?q=g','오늘은_이런_책?q=g','뮤직_인사이드?q=g','글쓰기_코치?q=g','직장인_현실_조언?q=g'\n",
    "                 ,'스타트업_경험담?q=g','육아_이야기?q=g','요리·레시피?q=g','건강·운동?q=g','멘탈_관리_심리_탐구?q=g',\n",
    "                 '디자인_스토리?q=g','문화·예술?q=g','건축·설계?q=g','인문학·철학?q=g','쉽게_읽는_역사?q=g','우리집_반려동물?q=g',\n",
    "                 '멋진_캘리그래피?q=g','사랑·이별?q=g','감성_에세이?q=g']"
   ]
  },
  {
   "cell_type": "code",
   "execution_count": 62,
   "metadata": {
    "scrolled": false
   },
   "outputs": [
    {
     "name": "stdout",
     "output_type": "stream",
     "text": [
      "지구한바퀴_세계여행\n",
      "그림·웹툰\n",
      "시사·이슈\n",
      "IT_트렌드\n",
      "사진·촬영\n",
      "취향저격_영화_리뷰\n",
      "오늘은_이런_책\n",
      "뮤직_인사이드\n",
      "글쓰기_코치\n",
      "직장인_현실_조언\n",
      "스타트업_경험담\n",
      "육아_이야기\n",
      "요리·레시피\n",
      "건강·운동\n",
      "멘탈_관리_심리_탐구\n",
      "디자인_스토리\n",
      "문화·예술\n",
      "건축·설계\n",
      "인문학·철학\n",
      "쉽게_읽는_역사\n",
      "우리집_반려동물\n",
      "멋진_캘리그래피\n",
      "사랑·이별\n",
      "감성_에세이\n"
     ]
    }
   ],
   "source": [
    "keyword_dict = {}\n",
    "\n",
    "for cate in category :\n",
    "    print(cate[:-4])\n",
    "    html = requests.get('https://brunch.co.kr/keyword/{category_name}'.format(category_name=cate))\n",
    "    soup = BeautifulSoup(html.text, 'html.parser')\n",
    "    \n",
    "    target = soup.find_all(class_ = 'keyword_elem')\n",
    "    \n",
    "    keywords = []\n",
    "    for i in target :\n",
    "        keywords.append(i.text)\n",
    "    \n",
    "    keyword_dict[cate[:-4]] = keywords"
   ]
  },
  {
   "cell_type": "code",
   "execution_count": null,
   "metadata": {},
   "outputs": [],
   "source": [
    "## 사랑이별 + 감성에세이,  디자인_스토리 + 멋진_캘리그래피\n",
    "## 글쓰기 코치 + 오늘은 이런책 , 스타트업 + 직장인 현실조언"
   ]
  },
  {
   "cell_type": "code",
   "execution_count": 63,
   "metadata": {},
   "outputs": [],
   "source": [
    "keyword_dict['건축·설계'] = ['홈트리오','건축가','한옥','전원 주택','아파트','주택','박물관','단열','집','기와']\n",
    "keyword_dict['스타트업_경험담'] = ['스타트업','창업','이직','마케팅','조직','캠퍼스','패스트파이브']\n",
    "keyword_dict['멋진_캘리그래피'] = ['손글씨','시','에세이','나태주','감성','1인기업','꿈']\n",
    "\n",
    "keyword_dict['직장인_현실_조언'] = keyword_dict['직장인_현실_조언'] + keyword_dict['스타트업_경험담']\n",
    "keyword_dict['디자인_스토리'] = keyword_dict['디자인_스토리'] + keyword_dict['멋진_캘리그래피']\n",
    "keyword_dict['감성_에세이'] = keyword_dict['감성_에세이'] + keyword_dict['사랑·이별']\n",
    "keyword_dict['오늘은_이런_책'] = keyword_dict['오늘은_이런_책']"
   ]
  },
  {
   "cell_type": "code",
   "execution_count": 65,
   "metadata": {},
   "outputs": [],
   "source": [
    "del(keyword_dict['글쓰기_코치'])\n",
    "del(keyword_dict['스타트업_경험담'])\n",
    "del(keyword_dict['멋진_캘리그래피'])\n",
    "del(keyword_dict['사랑·이별'])"
   ]
  },
  {
   "cell_type": "code",
   "execution_count": 67,
   "metadata": {
    "scrolled": true
   },
   "outputs": [],
   "source": [
    "import pickle\n",
    "\n",
    "with open ('keyword_dict.txt','wb') as f:\n",
    "    pickle.dump(keyword_dict,f)\n",
    "\n",
    "# 글쓰기 코치 + 감성에세이\n",
    "# 스타트업 + 직장인 현실조언\n",
    "# 사랑이별 + 감성에세이  \n",
    "# 디자인_스토리 + 멋진_캘리그래피"
   ]
  }
 ],
 "metadata": {
  "kernelspec": {
   "display_name": "Python 3",
   "language": "python",
   "name": "python3"
  },
  "language_info": {
   "codemirror_mode": {
    "name": "ipython",
    "version": 3
   },
   "file_extension": ".py",
   "mimetype": "text/x-python",
   "name": "python",
   "nbconvert_exporter": "python",
   "pygments_lexer": "ipython3",
   "version": "3.7.4"
  }
 },
 "nbformat": 4,
 "nbformat_minor": 2
}
