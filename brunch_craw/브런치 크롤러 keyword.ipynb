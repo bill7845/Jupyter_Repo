{
 "cells": [
  {
   "cell_type": "code",
   "execution_count": 25,
   "metadata": {},
   "outputs": [],
   "source": [
    "import pandas as pd\n",
    "import pickle\n",
    "import requests\n",
    "import json\n",
    "\n",
    "from bs4 import BeautifulSoup"
   ]
  },
  {
   "cell_type": "code",
   "execution_count": 5,
   "metadata": {},
   "outputs": [],
   "source": [
    "# category = ['지구한바퀴_세계여행?q=g','그림·웹툰?q=g','시사·이슈?q=g','IT_트렌드?q=g','사진·촬영?q=g',\n",
    "#                  '취향저격_영화_리뷰?q=g','뮤직_인사이드?q=g','육아_이야기?q=g','요리·레시피?q=g','건강·운동?q=g'\n",
    "#                  ,'멘탈_관리_심리_탐구?q=g','문화·예술?q=g','건축·설계?q=g','인문학·철학?q=g','쉽게_읽는_역사?q=g',\n",
    "#                  '우리집_반려동물?q=g','오늘은_이런_책?q=g','직장인_현실_조언?q=g','디자인_스토리?q=g','감성_에세이?q=g']\n",
    "\n",
    "category = ['지구한바퀴_세계여행?q=g','그림·웹툰?q=g','시사·이슈?q=g','IT_트렌드?q=g','사진·촬영?q=g',\n",
    "                 '취향저격_영화_리뷰?q=g','오늘은_이런_책?q=g','뮤직_인사이드?q=g','글쓰기_코치?q=g','직장인_현실_조언?q=g'\n",
    "                 ,'스타트업_경험담?q=g','육아_이야기?q=g','요리·레시피?q=g','건강·운동?q=g','멘탈_관리_심리_탐구?q=g',\n",
    "                 '디자인_스토리?q=g','문화·예술?q=g','건축·설계?q=g','인문학·철학?q=g','쉽게_읽는_역사?q=g','우리집_반려동물?q=g',\n",
    "                 '멋진_캘리그래피?q=g','사랑·이별?q=g','감성_에세이?q=g']"
   ]
  },
  {
   "cell_type": "code",
   "execution_count": 6,
   "metadata": {
    "scrolled": false
   },
   "outputs": [
    {
     "name": "stdout",
     "output_type": "stream",
     "text": [
      "지구한바퀴_세계여행\n",
      "그림·웹툰\n",
      "시사·이슈\n",
      "IT_트렌드\n",
      "사진·촬영\n",
      "취향저격_영화_리뷰\n",
      "오늘은_이런_책\n",
      "뮤직_인사이드\n",
      "글쓰기_코치\n",
      "직장인_현실_조언\n",
      "스타트업_경험담\n",
      "육아_이야기\n",
      "요리·레시피\n",
      "건강·운동\n",
      "멘탈_관리_심리_탐구\n",
      "디자인_스토리\n",
      "문화·예술\n",
      "건축·설계\n",
      "인문학·철학\n",
      "쉽게_읽는_역사\n",
      "우리집_반려동물\n",
      "멋진_캘리그래피\n",
      "사랑·이별\n",
      "감성_에세이\n"
     ]
    }
   ],
   "source": [
    "keyword_dict = {}\n",
    "\n",
    "for cate in category :\n",
    "    print(cate[:-4])\n",
    "    html = requests.get('https://brunch.co.kr/keyword/{category_name}'.format(category_name=cate))\n",
    "    soup = BeautifulSoup(html.text, 'html.parser')\n",
    "    \n",
    "    target = soup.find_all(class_ = 'keyword_elem')\n",
    "    \n",
    "    keywords = []\n",
    "    for i in target :\n",
    "        keywords.append(i.text)\n",
    "    \n",
    "    keyword_dict[cate[:-4]] = keywords"
   ]
  },
  {
   "cell_type": "code",
   "execution_count": null,
   "metadata": {},
   "outputs": [],
   "source": [
    "## 사랑이별 + 감성에세이,  디자인_스토리 + 멋진_캘리그래피\n",
    "## 글쓰기 코치 + 오늘은 이런책 , 스타트업 + 직장인 현실조언"
   ]
  },
  {
   "cell_type": "code",
   "execution_count": 7,
   "metadata": {},
   "outputs": [],
   "source": [
    "keyword_dict['건축·설계'] = ['홈트리오','건축가','한옥','전원 주택','아파트','주택','박물관','단열','집','기와']\n",
    "keyword_dict['스타트업_경험담'] = ['스타트업','창업','이직','마케팅','조직','캠퍼스','패스트파이브']\n",
    "keyword_dict['멋진_캘리그래피'] = ['손글씨','시','에세이','나태주','감성','1인기업','꿈']\n",
    "\n",
    "keyword_dict['직장인_현실_조언'] = keyword_dict['직장인_현실_조언'] + keyword_dict['스타트업_경험담']\n",
    "keyword_dict['디자인_스토리'] = keyword_dict['디자인_스토리'] + keyword_dict['멋진_캘리그래피']\n",
    "keyword_dict['감성_에세이'] = keyword_dict['감성_에세이'] + keyword_dict['사랑·이별']\n",
    "keyword_dict['오늘은_이런_책'] = keyword_dict['오늘은_이런_책']"
   ]
  },
  {
   "cell_type": "code",
   "execution_count": 28,
   "metadata": {},
   "outputs": [],
   "source": [
    "del(keyword_dict['글쓰기_코치'])\n",
    "del(keyword_dict['스타트업_경험담'])\n",
    "del(keyword_dict['멋진_캘리그래피'])\n",
    "del(keyword_dict['사랑·이별'])"
   ]
  },
  {
   "cell_type": "code",
   "execution_count": 29,
   "metadata": {},
   "outputs": [
    {
     "data": {
      "text/plain": [
       "dict_keys(['지구한바퀴_세계여행', '그림·웹툰', '시사·이슈', 'IT_트렌드', '사진·촬영', '취향저격_영화_리뷰', '오늘은_이런_책', '뮤직_인사이드', '직장인_현실_조언', '육아_이야기', '요리·레시피', '건강·운동', '멘탈_관리_심리_탐구', '디자인_스토리', '문화·예술', '건축·설계', '인문학·철학', '쉽게_읽는_역사', '우리집_반려동물', '감성_에세이'])"
      ]
     },
     "execution_count": 29,
     "metadata": {},
     "output_type": "execute_result"
    }
   ],
   "source": [
    "keyword_dict.keys()"
   ]
  },
  {
   "cell_type": "code",
   "execution_count": 30,
   "metadata": {},
   "outputs": [],
   "source": [
    "keyword_dict_renew = {}\n",
    "\n",
    "keyword_dict_renew['지구한바퀴 세계여행'] = keyword_dict['지구한바퀴_세계여행']\n",
    "keyword_dict_renew['그림 웹툰']= keyword_dict['그림·웹툰']\n",
    "keyword_dict_renew['시사 이슈']= keyword_dict['시사·이슈']\n",
    "keyword_dict_renew['IT 트렌드']= keyword_dict['IT_트렌드']\n",
    "keyword_dict_renew['사진 촬영']= keyword_dict['사진·촬영']\n",
    "keyword_dict_renew['취향저격 영화리뷰']= keyword_dict['취향저격_영화_리뷰']\n",
    "keyword_dict_renew['뮤직 인사이드']= keyword_dict['뮤직_인사이드']\n",
    "keyword_dict_renew['육아 이야기']= keyword_dict['육아_이야기']\n",
    "keyword_dict_renew['요리 레시피']= keyword_dict['요리·레시피']\n",
    "keyword_dict_renew['건강 운동']= keyword_dict['건강·운동']\n",
    "keyword_dict_renew['멘탈관리 심리탐구']= keyword_dict['멘탈_관리_심리_탐구']\n",
    "keyword_dict_renew['문화 예술']= keyword_dict['문화·예술']\n",
    "keyword_dict_renew['건축 설계']= keyword_dict['건축·설계']\n",
    "keyword_dict_renew['인문학 철학']= keyword_dict['인문학·철학']\n",
    "keyword_dict_renew['쉽게 읽는 역사']= keyword_dict['쉽게_읽는_역사']\n",
    "keyword_dict_renew['우리집 반려동물']= keyword_dict['우리집_반려동물']\n",
    "keyword_dict_renew['오늘은 이런 책']= keyword_dict['오늘은_이런_책']\n",
    "keyword_dict_renew['직장인 현실 조언']= keyword_dict['직장인_현실_조언']\n",
    "keyword_dict_renew['디자인 스토리']= keyword_dict['디자인_스토리']\n",
    "keyword_dict_renew['감성 에세이']= keyword_dict['감성_에세이']"
   ]
  },
  {
   "cell_type": "code",
   "execution_count": 31,
   "metadata": {
    "scrolled": true
   },
   "outputs": [],
   "source": [
    "with open ('keyword_dict_renew.txt','wb') as f:\n",
    "    pickle.dump(keyword_dict_renew,f)\n",
    "\n",
    "# 글쓰기 코치 + 감성에세이\n",
    "# 스타트업 + 직장인 현실조언\n",
    "# 사랑이별 + 감성에세이  \n",
    "# 디자인_스토리 + 멋진_캘리그래피"
   ]
  }
 ],
 "metadata": {
  "kernelspec": {
   "display_name": "Python 3",
   "language": "python",
   "name": "python3"
  },
  "language_info": {
   "codemirror_mode": {
    "name": "ipython",
    "version": 3
   },
   "file_extension": ".py",
   "mimetype": "text/x-python",
   "name": "python",
   "nbconvert_exporter": "python",
   "pygments_lexer": "ipython3",
   "version": "3.7.4"
  }
 },
 "nbformat": 4,
 "nbformat_minor": 2
}
