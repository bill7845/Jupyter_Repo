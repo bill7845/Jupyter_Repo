{
 "cells": [
  {
   "cell_type": "code",
   "execution_count": 3,
   "metadata": {},
   "outputs": [],
   "source": [
    "import pandas as pd\n",
    "import pickle\n",
    "import requests\n",
    "import json\n",
    "\n",
    "from bs4 import BeautifulSoup\n",
    "\n",
    "category = ['지구한바퀴_세계여행?q=g','시사·이슈?q=g','IT_트렌드?q=g',\n",
    "                '취향저격_영화_리뷰?q=g','오늘은_이런_책?q=g','뮤직_인사이드?q=g',\n",
    "                 '직장인_현실_조언?q=g','스타트업_경험담?q=g','육아_이야기?q=g',\n",
    "                 '요리·레시피?q=g','건강·운동?q=g','멘탈_관리_심리_탐구?q=g',\n",
    "                 '문화·예술?q=g','인문학·철학?q=g','쉽게_읽는_역사?q=g',\n",
    "                '우리집_반려동물?q=g','사랑·이별?q=g','감성_에세이?q=g']\n",
    "\n",
    "name_list = ['지구한바퀴_세계여행','시사_이슈','IT_트렌드','취향저격_영화리뷰',\n",
    "             '오늘은_이런책','뮤직_인사이드','직장인_현실조언','스타트업_경험담',\n",
    "             '육아_이야기','요리_레시피','건강_운동','멘탈관리_심리탐구','문화_예술',\n",
    "             '인문학_철학','쉽게_읽는_역사','우리집_반려동물','사랑_이별','감성_에세이']\n",
    "\n",
    "keyword_dict = {}\n",
    "\n",
    "## 현재 브런치에서 각 카테고리별로 제공하는 keyword 크롤링하여 dict type으로 저장\n",
    "for idx,cate in enumerate(category):\n",
    "    name_list[idx]\n",
    "    html = requests.get('https://brunch.co.kr/keyword/{category_name}'.format(category_name=cate))\n",
    "    soup = BeautifulSoup(html.text, 'html.parser')\n",
    "    \n",
    "    target = soup.find_all(class_ = 'keyword_elem')\n",
    "    \n",
    "    keywords = []\n",
    "    for i in target :\n",
    "        keywords.append(i.text)\n",
    "    \n",
    "    keyword_dict[name_list[idx]] = keywords"
   ]
  },
  {
   "cell_type": "code",
   "execution_count": 5,
   "metadata": {},
   "outputs": [],
   "source": [
    "# 스타트업_경험담 카테고리의 경우에 keyword 정보가 없기 때문에 직접 지정.\n",
    "del(keyword_dict['스타트업_경험담'])\n",
    "keyword_dict['스타트업_경험담'] = ['스타트업','창업','이직','마케팅','조직','캠퍼스','패스트파이브']"
   ]
  },
  {
   "cell_type": "code",
   "execution_count": 6,
   "metadata": {
    "scrolled": true
   },
   "outputs": [],
   "source": [
    "with open ('keyword_dict.txt','wb') as f:\n",
    "    pickle.dump(keyword_dict,f)"
   ]
  },
  {
   "cell_type": "code",
   "execution_count": 7,
   "metadata": {},
   "outputs": [
    {
     "data": {
      "text/plain": [
       "['영화',\n",
       " '영화리뷰',\n",
       " '한국영화',\n",
       " '영화감상',\n",
       " '독립영화',\n",
       " '영화추천',\n",
       " '공포영화',\n",
       " '영화감독',\n",
       " '영화제',\n",
       " '일본영화',\n",
       " '영화후기',\n",
       " '영화음악',\n",
       " '영화이야기',\n",
       " '전쟁영화',\n",
       " '단편영화',\n",
       " '인생영화',\n",
       " '액션영화',\n",
       " '영화배우',\n",
       " '재난영화',\n",
       " '영화평',\n",
       " '영화평론',\n",
       " 'movie',\n",
       " '가족영화',\n",
       " '무비',\n",
       " '예술영화',\n",
       " '로드무비',\n",
       " '인도영화',\n",
       " '무협영화',\n",
       " '영화제작',\n",
       " '외국영화']"
      ]
     },
     "execution_count": 7,
     "metadata": {},
     "output_type": "execute_result"
    }
   ],
   "source": [
    "keyword_dict['취향저격_영화리뷰']"
   ]
  }
 ],
 "metadata": {
  "kernelspec": {
   "display_name": "Python 3",
   "language": "python",
   "name": "python3"
  },
  "language_info": {
   "codemirror_mode": {
    "name": "ipython",
    "version": 3
   },
   "file_extension": ".py",
   "mimetype": "text/x-python",
   "name": "python",
   "nbconvert_exporter": "python",
   "pygments_lexer": "ipython3",
   "version": "3.7.4"
  }
 },
 "nbformat": 4,
 "nbformat_minor": 2
}
