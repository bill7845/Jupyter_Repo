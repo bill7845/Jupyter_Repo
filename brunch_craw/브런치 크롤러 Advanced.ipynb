{
 "cells": [
  {
   "cell_type": "code",
   "execution_count": 1,
   "metadata": {},
   "outputs": [],
   "source": [
    "from selenium import webdriver\n",
    "from selenium.webdriver.common.by import By\n",
    "from selenium.webdriver.common.keys import Keys\n",
    "from selenium.webdriver.support.ui import Select\n",
    "from selenium.webdriver.support.ui import WebDriverWait\n",
    "from selenium.common.exceptions import TimeoutException\n",
    "from selenium.webdriver.support import expected_conditions as EC\n",
    "from selenium.common.exceptions import NoSuchElementException\n",
    "from selenium.common.exceptions import NoAlertPresentException\n",
    "from selenium.webdriver.chrome.options import Options\n",
    "\n",
    "# selenium 속도 향상 위해 불필요한 옵션을 사용하지 않게하는 코드\n",
    "options = Options()\n",
    "prefs = {'profile.default_content_setting_values': {'cookies' : 2, 'images': 2, \n",
    "                                                    'plugins' : 2, 'popups': 2, 'geolocation': 2,\n",
    "                                                    'notifications' : 2, 'auto_select_certificate': 2,\n",
    "                                                    'fullscreen' : 2,\n",
    "                                                    'mouselock' : 2, 'mixed_script': 2, \n",
    "                                                    'media_stream' : 2, 'media_stream_mic' : 2,\n",
    "                                                    'media_stream_camera': 2, 'protocol_handlers' : 2,\n",
    "                                                    'ppapi_broker' : 2, 'automatic_downloads': 2, 'midi_sysex' : 2,\n",
    "                                                    'push_messaging' : 2, 'ssl_cert_decisions': 2, 'metro_switch_to_desktop' : 2,\n",
    "                                                    'protected_media_identifier': 2, 'app_banner': 2, 'site_engagement' : 2,\n",
    "                                                    'durable_storage' : 2}}\n",
    "\n",
    "options.add_experimental_option('prefs', prefs) \n",
    "options.add_argument(\"start-maximized\") \n",
    "options.add_argument(\"disable-infobars\") \n",
    "options.add_argument(\"--disable-extensions\")"
   ]
  },
  {
   "cell_type": "code",
   "execution_count": null,
   "metadata": {},
   "outputs": [
    {
     "name": "stdout",
     "output_type": "stream",
     "text": [
      "700 회에서 멈춤\n"
     ]
    }
   ],
   "source": [
    "import time\n",
    "import requests\n",
    "import pickle\n",
    "from bs4 import BeautifulSoup\n",
    "\n",
    "## 카테고리 별 게시글 리스트 페이지에서 유저별 id 파싱 (*전체 24개 카테고리)\n",
    "## 각 페이지별 무한 스크롤 javaScript 제어를 위한 셀레니움 기능 사용\n",
    "def get_user_list(base_url):\n",
    "    \n",
    "#     크롬드라이버 설정\n",
    "    chromedriver = 'C:/selenium/chromedriver.exe' \n",
    "    driver = webdriver.Chrome(chromedriver)\n",
    "    driver.get(base_url) \n",
    "    \n",
    "    SCROLL_PAUSE_TIME = 15 # 무한스크롤 멈춤 현상 예방\n",
    "    last_height = driver.execute_script(\"return document.body.scrollHeight\")\n",
    "    i = 0\n",
    "    while True:\n",
    "        # Scroll down to bottom                                                      \n",
    "        driver.execute_script(\"window.scrollTo(0, document.body.scrollHeight);\")\n",
    "        # Wait to load page\n",
    "        time.sleep(SCROLL_PAUSE_TIME)                                                \n",
    "        driver.execute_script(\"window.scrollTo(0, document.body.scrollHeight-50);\")  \n",
    "        time.sleep(SCROLL_PAUSE_TIME)\n",
    "\n",
    "        # Calculate new scroll height and compare with last scroll height            \n",
    "        new_height = driver.execute_script(\"return document.body.scrollHeight\")\n",
    "        i+=1\n",
    "\n",
    "        if i == 700 :                                            \n",
    "            break\n",
    "        last_height = new_height\n",
    "    \n",
    "    print(i,\"회에서 멈춤\")\n",
    "    \n",
    "    ## 각 페이별 350번 스크롤 후, BeautifulSoup으로 \"전체 게시글 url parsing\"\n",
    "    html = driver.page_source\n",
    "    soup = BeautifulSoup(html,'html.parser')\n",
    "    \n",
    "    a_tags = soup.select('#wrapArticle > div.wrap_article_list.\\#keyword_related_contents > ul > li > a.link_post')\n",
    "    \n",
    "    save_href = []\n",
    "    for a_tag in a_tags :\n",
    "        save_href.append(a_tag['href'])\n",
    "    \n",
    "    driver.close()\n",
    "    \n",
    "    return save_href # 개별 카테고리별 전체 게시글 url 반환\n",
    "\n",
    "######################### \n",
    "# '지구한바퀴_세계여행?q=g','IT_트렌드?q=g,'스타트업_경험담?q=g','육아_이야기?q=g','\n",
    "## '사진·촬영?q=g','글쓰기_코치?q=g' 제거\n",
    "category_list = ['사랑·이별?q=g','감성_에세이?q=g']\n",
    "\n",
    "\n",
    "# 전체 24개 카테고리별로 돌며 게시글 url 파싱하여 pickle로 저장\n",
    "for category in category_list:\n",
    "    each_user_id = []\n",
    "    each_user_id = get_user_list(\"https://brunch.co.kr/keyword/\"+category)\n",
    "    with open(category[:-4]+'_userId.txt','wb') as f:\n",
    "        pickle.dump(each_user_id,f)"
   ]
  }
 ],
 "metadata": {
  "kernelspec": {
   "display_name": "Python 3",
   "language": "python",
   "name": "python3"
  },
  "language_info": {
   "codemirror_mode": {
    "name": "ipython",
    "version": 3
   },
   "file_extension": ".py",
   "mimetype": "text/x-python",
   "name": "python",
   "nbconvert_exporter": "python",
   "pygments_lexer": "ipython3",
   "version": "3.7.4"
  }
 },
 "nbformat": 4,
 "nbformat_minor": 2
}
