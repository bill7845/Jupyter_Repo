{
 "cells": [
  {
   "cell_type": "code",
   "execution_count": 1,
   "metadata": {},
   "outputs": [],
   "source": [
    "# 필요 라이브러리 import\n",
    "\n",
    "import requests\n",
    "from bs4 import BeautifulSoup\n",
    "\n",
    "from selenium import webdriver\n",
    "from selenium.webdriver.common.by import By\n",
    "from selenium.webdriver.common.keys import Keys\n",
    "from selenium.webdriver.support.ui import Select\n",
    "from selenium.webdriver.support.ui import WebDriverWait\n",
    "from selenium.common.exceptions import TimeoutException\n",
    "from selenium.webdriver.support import expected_conditions as EC\n",
    "from selenium.common.exceptions import NoSuchElementException\n",
    "from selenium.common.exceptions import NoAlertPresentException\n",
    "from selenium.webdriver.chrome.options import Options\n",
    "\n",
    "import pickle"
   ]
  },
  {
   "cell_type": "code",
   "execution_count": 2,
   "metadata": {},
   "outputs": [],
   "source": [
    "# selenium 속도향상위해 불필요한 옵션을 사용하지 않게하는 코드\n",
    "\n",
    "options = Options()\n",
    "prefs = {'profile.default_content_setting_values': {'cookies' : 2, 'images': 2, \n",
    "                                                    'plugins' : 2, 'popups': 2, 'geolocation': 2,\n",
    "                                                    'notifications' : 2, 'auto_select_certificate': 2,\n",
    "                                                    'fullscreen' : 2,\n",
    "                                                    'mouselock' : 2, 'mixed_script': 2, \n",
    "                                                    'media_stream' : 2, 'media_stream_mic' : 2,\n",
    "                                                    'media_stream_camera': 2, 'protocol_handlers' : 2,\n",
    "                                                    'ppapi_broker' : 2, 'automatic_downloads': 2, 'midi_sysex' : 2,\n",
    "                                                    'push_messaging' : 2, 'ssl_cert_decisions': 2, 'metro_switch_to_desktop' : 2,\n",
    "                                                    'protected_media_identifier': 2, 'app_banner': 2, 'site_engagement' : 2,\n",
    "                                                    'durable_storage' : 2}}\n",
    "\n",
    "options.add_experimental_option('prefs', prefs) \n",
    "options.add_argument(\"start-maximized\") \n",
    "options.add_argument(\"disable-infobars\") \n",
    "options.add_argument(\"--disable-extensions\")"
   ]
  },
  {
   "cell_type": "code",
   "execution_count": 3,
   "metadata": {},
   "outputs": [],
   "source": [
    "import time\n",
    "\n",
    "# 서비스 대분류별(8개 서비스) 유저명단을 보여주는 페이지에서 유저별 id 파싱\n",
    "# 각 페이지별 무한 스크롤 javaScript 제어를 위한 셀레니움 기능 사용\n",
    "def get_user_list(base_url):\n",
    "    chromedriver = 'C:/selenium/chromedriver.exe' \n",
    "    driver = webdriver.Chrome(chromedriver) # 크롬드라이버 작동\n",
    "    base_url = base_url\n",
    "    \n",
    "    driver.get(base_url)\n",
    "    \n",
    "    SCROLL_PAUSE_TIME = 10\n",
    "\n",
    "    # Get scroll height\n",
    "    last_height = driver.execute_script(\"return document.body.scrollHeight\")\n",
    "    i = 0\n",
    "    while True:\n",
    "        # Scroll down to bottom                                                      \n",
    "        driver.execute_script(\"window.scrollTo(0, document.body.scrollHeight);\")\n",
    "\n",
    "        # Wait to load page\n",
    "        time.sleep(SCROLL_PAUSE_TIME)                                                \n",
    "        driver.execute_script(\"window.scrollTo(0, document.body.scrollHeight-50);\")  \n",
    "        time.sleep(SCROLL_PAUSE_TIME)\n",
    "\n",
    "        # Calculate new scroll height and compare with last scroll height            \n",
    "        new_height = driver.execute_script(\"return document.body.scrollHeight\")\n",
    "        i+=1\n",
    "#         print(i)\n",
    "\n",
    "        if i == 350:                                                \n",
    "            break\n",
    "        last_height = new_height\n",
    "        \n",
    "    html = driver.page_source\n",
    "    soup = BeautifulSoup(html,'html.parser')\n",
    "    a_tags = soup.select('#wrapArticle > div.wrap_article_list.\\#keyword_related_contents > ul > li > a.link_post')\n",
    "    \n",
    "    save_href = []\n",
    "    for a_tag in a_tags :\n",
    "        save_href.append(a_tag['href'])\n",
    "    \n",
    "    driver.close()\n",
    "    \n",
    "    return save_href"
   ]
  },
  {
   "cell_type": "code",
   "execution_count": 4,
   "metadata": {},
   "outputs": [],
   "source": [
    "# category_list = ['지구한바퀴_세계여행?q=g','그림·웹툰?q=g','시사·이슈?q=g','IT_트렌드?q=g','사진·촬영?q=g','',\n",
    "#                  '취향저격_영화_리뷰?q=g','오늘은_이런_책?q=g','뮤직_인사이드?q=g','글쓰기_코치?q=g','직장인_현실_조언?q=g'\n",
    "#                  ,'스타트업_경험담?q=g','육아_이야기?q=g','요리·레시피?q=g','건강·운동?q=g'////,'멘탈_관리_심리_탐구?q=g',\n",
    "#                  '디자인_스토리?q=g','문화·예술?q=g','건축·설계?q=g','인문학·철학?q=g','쉽게_읽는_역사?q=g','우리집_반려동물?q=g',\n",
    "#                  '멋진_캘리그래피?q=g','사랑·이별?q=g','감성_에세이?q=g']"
   ]
  },
  {
   "cell_type": "code",
   "execution_count": 5,
   "metadata": {},
   "outputs": [],
   "source": [
    "# '스타트업_경험담?q=g','육아_이야기?q=g','요리·레시피?q=g','건강·운동?q=g','멘탈_관리_심리_탐구?q=g',\n",
    "#                  '디자인_스토리?q=g','문화·예술?q=g','건축·설계?q=g','인문학·철학?q=g','쉽게_읽는_역사?q=g','우리집_반려동물?q=g',\n",
    "#                  '멋진_캘리그래피?q=g','사랑·이별?q=g','감성_에세이?q=g'"
   ]
  },
  {
   "cell_type": "code",
   "execution_count": 7,
   "metadata": {
    "scrolled": true
   },
   "outputs": [],
   "source": [
    "# 디자인_스토리, 멋진_캘라그래피, 지구한바퀴_세계여행\n",
    "\n",
    "categories = ['멋진_캘리그래피?q=g']\n",
    "for category in categories:\n",
    "    each_user_id = []\n",
    "    each_user_id = get_user_list(\"https://brunch.co.kr/keyword/\"+category)\n",
    "#     print(len(each_user_id))\n",
    "    with open(category[:-4]+'_userId.txt','wb') as f:\n",
    "        pickle.dump(each_user_id,f)"
   ]
  }
 ],
 "metadata": {
  "kernelspec": {
   "display_name": "Python 3",
   "language": "python",
   "name": "python3"
  },
  "language_info": {
   "codemirror_mode": {
    "name": "ipython",
    "version": 3
   },
   "file_extension": ".py",
   "mimetype": "text/x-python",
   "name": "python",
   "nbconvert_exporter": "python",
   "pygments_lexer": "ipython3",
   "version": "3.7.4"
  }
 },
 "nbformat": 4,
 "nbformat_minor": 2
}
