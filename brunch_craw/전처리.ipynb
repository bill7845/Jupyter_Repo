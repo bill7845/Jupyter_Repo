{
 "cells": [
  {
   "cell_type": "code",
   "execution_count": 1,
   "metadata": {},
   "outputs": [],
   "source": [
    "import pandas as pd\n",
    "import json\n",
    "import os\n",
    "import urllib.request\n",
    "%matplotlib inline\n",
    "import matplotlib.pyplot as plt\n",
    "import re\n",
    "import numpy as np"
   ]
  },
  {
   "cell_type": "code",
   "execution_count": 2,
   "metadata": {},
   "outputs": [],
   "source": [
    "file_list = ['육아_이야기.json','요리_레시피.json','건강_운동.json','멘탈관리_심리탐구.json','문화_예술.json',\n",
    "            '인문학_철학.json','쉽게_읽는_역사.json','우리집_반려동물.json','사랑_이별.json','감성_에세이.json',\n",
    "            '지구한바퀴_세계여행.json','시사_이슈.json','IT_트렌드.json','취향저격_영화리뷰.json','오늘은_이런책.json',\n",
    "            '뮤직_인사이드.json','직장인_현실조언.json','스타트업_경험담.json']"
   ]
  },
  {
   "cell_type": "code",
   "execution_count": 3,
   "metadata": {},
   "outputs": [],
   "source": [
    "dir_name = '~~path~~/json'\n",
    "\n",
    "def get_file_list(dir_name): # file name들을 가져오는 함수 # 폴더명 인자 # 폴더가 위치한 경로를 인자로\n",
    "    return os.listdir(dir_name) # 폴더 내 파일명을 리스트 형태로 반환 \n",
    "\n",
    "file_list = get_file_list(dir_name)\n",
    "\n",
    "# \\n, 공백 제거 후 리스트 형식으로 변환\n",
    "def pre_keyword(x):\n",
    "    tmp = []\n",
    "    for val in x:\n",
    "        tmp.append(val.replace(\"\\n\",\"\").replace(\" \",\"\"))\n",
    "    return tmp\n",
    "\n",
    "# comment가 없는경우 공백이 아닌 Nan으로 변환\n",
    "def pre_comment(x):\n",
    "    if len(x) == 0:\n",
    "        return None\n",
    "    else :\n",
    "        return x\n",
    "    \n",
    "#  문자열로 변환\n",
    "def pre_text(x):\n",
    "    return str(x)\n",
    "\n",
    "# datetime형식으로 변환\n",
    "def pre_datetime(x):\n",
    "    x = x.split('T')[0]\n",
    "    x = pd.to_datetime(x,format=\"%Y-%m-%d\")\n",
    "    return x\n",
    "\n",
    "all_df = pd.DataFrame(columns=['class','text'])\n",
    "each_df = {}\n",
    "class_name = []\n",
    "for file in file_list:\n",
    "    with open(~~path~~'+file,encoding='UTF8') as json_file:\n",
    "        json_data = json.load(json_file)\n",
    "\n",
    "    class_name.append(file[:-5])\n",
    "    \n",
    "    ## json -> DataFrame\n",
    "    df = pd.DataFrame(json_data['data'],\n",
    "                  columns=['title','keyword','text','nickname','publish_date','likes','share','comment','url','url_plink'])\n",
    "    df = df.dropna(subset=['text'])\n",
    "    df['keyword'] = df['keyword'].apply(pre_keyword)\n",
    "    df['comment'] = df['comment'].apply(pre_comment)\n",
    "    df['text'] = df['text'].apply(pre_text)\n",
    "    df['publish_date'] = df['publish_date'].apply(pre_datetime)\n",
    "    df.insert(0,\"class\",file[:-5])\n",
    "\n",
    "    all_df = pd.concat([all_df,df[['class','title','text','keyword','likes','share','comment','publish_date','url']]])\n",
    "    each_df[file[:-5]] = df\n",
    "\n",
    "## 카테고리별 이름에서 0~18로 label encoding\n",
    "to_categorical = [i for i in range(18)]\n",
    "class_condition = {}\n",
    "for a,b in zip(class_name,to_categorical):\n",
    "    class_condition[a] = b\n",
    "\n",
    "all_df['ori_class'] = all_df['class']\n",
    "all_df['class'] = all_df['class'].map(class_condition)\n",
    "all_df = all_df.reset_index(drop=True)\n",
    "\n",
    "import re\n",
    "def pre_text_2(x):\n",
    "    pa = re.compile(\"^\\\\\\\\xa0|xa\") # xla 등 불용어 제거\n",
    "    pa1 = re.compile(r\"'http.*?'\") # 전체 url 제거\n",
    "    pa2 = re.compile(r'\\([^)]*\\)') # () 사이 문자 \n",
    "    pa3 = re.compile('[^\\w\\s]') # 특수문자 삭제\n",
    "    pa4 = re.compile(r'[^a-zA-Zㄱ-힗]') # 한글,영어만 남김\n",
    "\n",
    "    x = re.sub(pa,' ',x)\n",
    "    x = re.sub(pa1,' ',x)\n",
    "    x = re.sub(pa2,' ',x)\n",
    "    x = re.sub(pa3, ' ',x)\n",
    "    x = re.sub(pa4, ' ',x)\n",
    "    x = x.strip()\n",
    "    x = \" \".join(x.split())\n",
    "    return x \n",
    "\n",
    "all_df['text'] = all_df['text'].apply(pre_text_2)\n",
    "\n",
    "## 글 길이 500이하 제거\n",
    "del_list = []\n",
    "for idx,text in enumerate(all_df['text']):\n",
    "    if len(text) < 500:\n",
    "        del_list.append(idx)\n",
    "\n",
    "all_df = all_df.loc[~all_df.index.isin(del_list), :]\n",
    "\n",
    "print(\"전체 문서 : \", len(all_df['text']))\n",
    "print(\"중복 문서 : \", len(all_df['text']) - all_df['text'].nunique())\n",
    "\n",
    "all_df.drop_duplicates(subset=['text'], inplace=True) # 중복문서 제거\n",
    "print(\"중복 제거 후 전체 문서 :\", len(all_df['text']))\n",
    "\n",
    "all_df = all_df.reset_index(drop=True) # index 초기화 "
   ]
  },
  {
   "cell_type": "code",
   "execution_count": 6,
   "metadata": {},
   "outputs": [
    {
     "name": "stdout",
     "output_type": "stream",
     "text": [
      "class 결측값 :  0\n",
      "1     17810\n",
      "10    16016\n",
      "6     14032\n",
      "17    12842\n",
      "15    12796\n",
      "13    12392\n",
      "8     10978\n",
      "16    10445\n",
      "0      9944\n",
      "5      9854\n",
      "12     7903\n",
      "3      7679\n",
      "9      7517\n",
      "2      6397\n",
      "7      5384\n",
      "14     5289\n",
      "11     3925\n",
      "4      3601\n",
      "Name: class, dtype: int64\n"
     ]
    },
    {
     "data": {
      "text/plain": [
       "<matplotlib.axes._subplots.AxesSubplot at 0x2670060d988>"
      ]
     },
     "execution_count": 6,
     "metadata": {},
     "output_type": "execute_result"
    },
    {
     "data": {
      "image/png": "[encoded data removed]",
      "text/plain": [
       "<Figure size 432x288 with 1 Axes>"
      ]
     },
     "metadata": {
      "needs_background": "light"
     },
     "output_type": "display_data"
    }
   ],
   "source": [
    "print('class 결측값 : ',all_df['class'].isnull().sum())\n",
    "print(all_df['class'].value_counts())\n",
    "all_df['class'].value_counts().plot(kind='bar')"
   ]
  },
  {
   "cell_type": "code",
   "execution_count": 7,
   "metadata": {},
   "outputs": [],
   "source": [
    "all_df.to_csv(\"all_df_pText.csv\")"
   ]
  },
  {
   "cell_type": "code",
   "execution_count": 39,
   "metadata": {},
   "outputs": [],
   "source": [
    "all_df = pd.read_csv('all_df_pText.csv',index_col='Unnamed: 0')"
   ]
  }
 ],
 "metadata": {
  "kernelspec": {
   "display_name": "Python 3",
   "language": "python",
   "name": "python3"
  },
  "language_info": {
   "codemirror_mode": {
    "name": "ipython",
    "version": 3
   },
   "file_extension": ".py",
   "mimetype": "text/x-python",
   "name": "python",
   "nbconvert_exporter": "python",
   "pygments_lexer": "ipython3",
   "version": "3.7.4"
  }
 },
 "nbformat": 4,
 "nbformat_minor": 2
}
