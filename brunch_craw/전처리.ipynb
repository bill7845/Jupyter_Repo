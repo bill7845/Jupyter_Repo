{
 "cells": [
  {
   "cell_type": "code",
   "execution_count": 11,
   "metadata": {},
   "outputs": [],
   "source": [
    "import pandas as pd\n",
    "import json\n",
    "import os\n",
    "import urllib.request\n",
    "%matplotlib inline\n",
    "import matplotlib.pyplot as plt\n",
    "import re\n",
    "# from konlpy.tag import Okt\n",
    "# from konlpy.tag import Mecab\n",
    "import numpy as np"
   ]
  },
  {
   "cell_type": "code",
   "execution_count": 75,
   "metadata": {},
   "outputs": [],
   "source": [
    "file_list = ['육아_이야기.json','요리_레시피.json','건강_운동.json','멘탈관리_심리탐구.json','문화_예술.json',\n",
    "            '인문학_철학.json','쉽게_읽는_역사.json','우리집_반려동물.json','사랑_이별.json','감성_에세이.json',\n",
    "            '지구한바퀴_세계여행.json','시사_이슈.json','IT_트렌드.json','취향저격_영화리뷰.json','오늘은_이런책.json',\n",
    "            '뮤직_인사이드.json','직장인_현실조언.json','스타트업_경험담.json']"
   ]
  },
  {
   "cell_type": "code",
   "execution_count": 77,
   "metadata": {},
   "outputs": [],
   "source": [
    "dir_name = 'C:/Users/KIHyuk/Desktop/brunch_data/json'\n",
    "\n",
    "def get_file_list(dir_name): # file name들을 가져오는 함수 # 폴더명 인자 # 폴더가 위치한 경로를 인자로\n",
    "    return os.listdir(dir_name) # 폴더 내 파일명을 리스트 형태로 반환 \n",
    "\n",
    "# file_list = get_file_list(dir_name)\n",
    "\n",
    "def pre_keyword(x):\n",
    "    tmp = []\n",
    "    for val in x:\n",
    "        tmp.append(val.replace(\"\\n\",\"\").replace(\" \",\"\"))\n",
    "    return tmp\n",
    "\n",
    "def pre_comment(x):\n",
    "    if len(x) == 0:\n",
    "        return None\n",
    "    else :\n",
    "        return x\n",
    "\n",
    "def pre_text(x):\n",
    "    return str(x)\n",
    "\n",
    "def pre_datetime(x):\n",
    "    x = x.split('T')[0]\n",
    "    x = pd.to_datetime(x,format=\"%Y-%m-%d\")\n",
    "    return x\n",
    "\n",
    "all_df = pd.DataFrame(columns=['class','text'])\n",
    "each_df = {}\n",
    "class_name = []\n",
    "\n",
    "for file in file_list:\n",
    "    with open('C:/Users/KIHyuk/Desktop/brunch_data/json/'+file,encoding='UTF8') as json_file:\n",
    "        json_data = json.load(json_file)\n",
    "\n",
    "    class_name.append(file[:-5])\n",
    "    \n",
    "    df = pd.DataFrame(json_data['data'],\n",
    "                  columns=['title','keyword','text','nickname','publish_date','likes','share','comment','url','url_plink'])\n",
    "    df = df.dropna(subset=['text'])\n",
    "    df['keyword'] = df['keyword'].apply(pre_keyword)\n",
    "    df['comment'] = df['comment'].apply(pre_comment)\n",
    "    df['text'] = df['text'].apply(pre_text)\n",
    "    df['publish_date'] = df['publish_date'].apply(pre_datetime)\n",
    "    df.insert(0,\"class\",file[:-5])\n",
    "\n",
    "    all_df = pd.concat([all_df,df[['class','title','text','keyword','likes','share','comment','publish_date','url']]])\n",
    "    each_df[file[:-5]] = df\n",
    "\n",
    "\n",
    "to_categorical = [i for i in range(18)]\n",
    "class_condition = {}\n",
    "for a,b in zip(class_name,to_categorical):\n",
    "    class_condition[a] = b\n",
    "\n",
    "all_df['ori_class'] = all_df['class']\n",
    "all_df['class'] = all_df['class'].map(class_condition)\n",
    "all_df = all_df.reset_index(drop=True)\n",
    "\n",
    "import re\n",
    "def pre_text_2(x):\n",
    "    pa = re.compile(\"^\\\\\\\\xa0|xa\")\n",
    "    pa1 = re.compile(r\"'http.*?'\") # 전체 url 제거\n",
    "    pa2 = re.compile(r'\\([^)]*\\)') # () 사이 문자 \n",
    "    pa3 = re.compile('[^\\w\\s]') # 특수문자 삭제\n",
    "    pa4 = re.compile(r'[^a-zA-Zㄱ-힗]')\n",
    "\n",
    "    x = re.sub(pa,' ',x)\n",
    "    x = re.sub(pa1,' ',x)\n",
    "    x = re.sub(pa2,' ',x)\n",
    "    x = re.sub(pa3, ' ',x)\n",
    "    x = re.sub(pa4, ' ',x)\n",
    "    x = x.strip()\n",
    "    x = \" \".join(x.split())\n",
    "    return x \n",
    "\n",
    "all_df['text'] = all_df['text'].apply(pre_text_2)"
   ]
  },
  {
   "cell_type": "code",
   "execution_count": 78,
   "metadata": {},
   "outputs": [],
   "source": [
    "del_list = []\n",
    "for idx,text in enumerate(all_df['text']):\n",
    "    if len(text) < 500:\n",
    "        del_list.append(idx)\n",
    "\n",
    "all_df = all_df.loc[~all_df.index.isin(del_list), :]"
   ]
  },
  {
   "cell_type": "code",
   "execution_count": 79,
   "metadata": {},
   "outputs": [
    {
     "name": "stdout",
     "output_type": "stream",
     "text": [
      "전체 문서 :  192353\n",
      "중복 문서 :  17549\n",
      "중복 제거 후 전체 문서 : 174804\n"
     ]
    }
   ],
   "source": [
    "print(\"전체 문서 : \", len(all_df['text']))\n",
    "print(\"중복 문서 : \", len(all_df['text']) - all_df['text'].nunique())\n",
    "\n",
    "all_df.drop_duplicates(subset=['text'], inplace=True) # 중복문서 제거\n",
    "print(\"중복 제거 후 전체 문서 :\", len(all_df['text']))\n",
    "\n",
    "all_df = all_df.reset_index(drop=True) # index 초기화 "
   ]
  },
  {
   "cell_type": "code",
   "execution_count": 80,
   "metadata": {},
   "outputs": [
    {
     "name": "stdout",
     "output_type": "stream",
     "text": [
      "class 결측값 :  0\n",
      "14    15110\n",
      "9     14704\n",
      "8     14667\n",
      "0     14207\n",
      "13    13167\n",
      "10    12892\n",
      "16    11027\n",
      "17    10062\n",
      "12     9592\n",
      "15     9353\n",
      "7      8339\n",
      "3      7926\n",
      "11     7397\n",
      "2      6562\n",
      "5      6471\n",
      "6      5316\n",
      "1      4193\n",
      "4      3819\n",
      "Name: class, dtype: int64\n"
     ]
    },
    {
     "data": {
      "text/plain": [
       "<matplotlib.axes._subplots.AxesSubplot at 0x1f4f48c81c8>"
      ]
     },
     "execution_count": 80,
     "metadata": {},
     "output_type": "execute_result"
    },
    {
     "data": {
      "image/png": "[encoded data removed]",
      "text/plain": [
       "<Figure size 432x288 with 1 Axes>"
      ]
     },
     "metadata": {
      "needs_background": "light"
     },
     "output_type": "display_data"
    }
   ],
   "source": [
    "print('class 결측값 : ',all_df['class'].isnull().sum())\n",
    "print(all_df['class'].value_counts())\n",
    "all_df['class'].value_counts().plot(kind='bar')"
   ]
  },
  {
   "cell_type": "code",
   "execution_count": 85,
   "metadata": {},
   "outputs": [],
   "source": [
    "all_df.to_csv(\"all_df_pText.csv\")"
   ]
  },
  {
   "cell_type": "code",
   "execution_count": 90,
   "metadata": {},
   "outputs": [],
   "source": [
    "all_df = pd.read_csv('all_df_pText.csv',index_col='Unnamed: 0')"
   ]
  },
  {
   "cell_type": "code",
   "execution_count": 92,
   "metadata": {},
   "outputs": [
    {
     "data": {
      "text/html": [
       "<div>\n",
       "<style scoped>\n",
       "    .dataframe tbody tr th:only-of-type {\n",
       "        vertical-align: middle;\n",
       "    }\n",
       "\n",
       "    .dataframe tbody tr th {\n",
       "        vertical-align: top;\n",
       "    }\n",
       "\n",
       "    .dataframe thead th {\n",
       "        text-align: right;\n",
       "    }\n",
       "</style>\n",
       "<table border=\"1\" class=\"dataframe\">\n",
       "  <thead>\n",
       "    <tr style=\"text-align: right;\">\n",
       "      <th></th>\n",
       "      <th>class</th>\n",
       "      <th>text</th>\n",
       "      <th>title</th>\n",
       "      <th>keyword</th>\n",
       "      <th>likes</th>\n",
       "      <th>share</th>\n",
       "      <th>comment</th>\n",
       "      <th>publish_date</th>\n",
       "      <th>url</th>\n",
       "      <th>ori_class</th>\n",
       "    </tr>\n",
       "  </thead>\n",
       "  <tbody>\n",
       "    <tr>\n",
       "      <th>14207</th>\n",
       "      <td>1</td>\n",
       "      <td>사는데 정통만 있는 게 아니고 짝퉁도 많다 구찌 명품백을 따라 하는 구짜 백과 남의...</td>\n",
       "      <td>야매 몬테크리스토 샌드위치</td>\n",
       "      <td>['샌드위치', '짝퉁', '레시피']</td>\n",
       "      <td>NaN</td>\n",
       "      <td>NaN</td>\n",
       "      <td>6.0</td>\n",
       "      <td>2020-05-14</td>\n",
       "      <td>https://brunch.co.kr/@mkj711/163</td>\n",
       "      <td>요리_레시피</td>\n",
       "    </tr>\n",
       "    <tr>\n",
       "      <th>14208</th>\n",
       "      <td>1</td>\n",
       "      <td>달콤하고 촉촉한 카스테라 국물과 면발이 끝내주는 짬뽕 테마파크 하우스텐보스 다들 어...</td>\n",
       "      <td>File3 나가사키현 - 와카란요리</td>\n",
       "      <td>['나가사키', '요리', '카스테라']</td>\n",
       "      <td>NaN</td>\n",
       "      <td>NaN</td>\n",
       "      <td>NaN</td>\n",
       "      <td>2020-05-14</td>\n",
       "      <td>https://brunch.co.kr/@jwkimpd/23</td>\n",
       "      <td>요리_레시피</td>\n",
       "    </tr>\n",
       "    <tr>\n",
       "      <th>14209</th>\n",
       "      <td>1</td>\n",
       "      <td>아이와 함께 먹을 수 있는 요리를 하려다 보니 내가 먹고 싶음 음식들과는 멀어진다 ...</td>\n",
       "      <td>매운 해물 토마토 스파게티</td>\n",
       "      <td>['요리', '마흔', '에세이']</td>\n",
       "      <td>NaN</td>\n",
       "      <td>NaN</td>\n",
       "      <td>NaN</td>\n",
       "      <td>2020-05-14</td>\n",
       "      <td>https://brunch.co.kr/@yoondori1981/21</td>\n",
       "      <td>요리_레시피</td>\n",
       "    </tr>\n",
       "  </tbody>\n",
       "</table>\n",
       "</div>"
      ],
      "text/plain": [
       "       class                                               text  \\\n",
       "14207      1  사는데 정통만 있는 게 아니고 짝퉁도 많다 구찌 명품백을 따라 하는 구짜 백과 남의...   \n",
       "14208      1  달콤하고 촉촉한 카스테라 국물과 면발이 끝내주는 짬뽕 테마파크 하우스텐보스 다들 어...   \n",
       "14209      1  아이와 함께 먹을 수 있는 요리를 하려다 보니 내가 먹고 싶음 음식들과는 멀어진다 ...   \n",
       "\n",
       "                     title                 keyword  likes share  comment  \\\n",
       "14207       야매 몬테크리스토 샌드위치   ['샌드위치', '짝퉁', '레시피']    NaN   NaN      6.0   \n",
       "14208  File3 나가사키현 - 와카란요리  ['나가사키', '요리', '카스테라']    NaN   NaN      NaN   \n",
       "14209      매운 해물 토마토 스파게티      ['요리', '마흔', '에세이']    NaN   NaN      NaN   \n",
       "\n",
       "      publish_date                                    url ori_class  \n",
       "14207   2020-05-14       https://brunch.co.kr/@mkj711/163    요리_레시피  \n",
       "14208   2020-05-14       https://brunch.co.kr/@jwkimpd/23    요리_레시피  \n",
       "14209   2020-05-14  https://brunch.co.kr/@yoondori1981/21    요리_레시피  "
      ]
     },
     "execution_count": 92,
     "metadata": {},
     "output_type": "execute_result"
    }
   ],
   "source": [
    "all_df[all_df['class'] == 1].iloc[[0,1,2]]\n",
    "# df[df['class'] == y].iloc[top_n_sim]"
   ]
  }
 ],
 "metadata": {
  "kernelspec": {
   "display_name": "Python 3",
   "language": "python",
   "name": "python3"
  },
  "language_info": {
   "codemirror_mode": {
    "name": "ipython",
    "version": 3
   },
   "file_extension": ".py",
   "mimetype": "text/x-python",
   "name": "python",
   "nbconvert_exporter": "python",
   "pygments_lexer": "ipython3",
   "version": "3.7.4"
  }
 },
 "nbformat": 4,
 "nbformat_minor": 2
}
