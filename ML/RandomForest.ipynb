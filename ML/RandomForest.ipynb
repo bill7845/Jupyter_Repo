{
 "cells": [
  {
   "cell_type": "code",
   "execution_count": 5,
   "metadata": {},
   "outputs": [],
   "source": [
    "import pandas as pd\n",
    "import numpy as np\n",
    "\n",
    "from sklearn.ensemble import RandomForestClassifier\n",
    "from sklearn import datasets\n",
    "from sklearn.model_selection import train_test_split\n",
    "from sklearn.preprocessing import StandardScaler\n",
    "from sklearn.metrics import accuracy_score"
   ]
  },
  {
   "cell_type": "code",
   "execution_count": 6,
   "metadata": {},
   "outputs": [],
   "source": [
    "## 그래프 한글 폰트 패치\n",
    "import platform\n",
    "path = \"c:/Windows/Fonts/malgun.ttf\"\n",
    "from matplotlib import font_manager, rc\n",
    "\n",
    "if platform.system() == \"Darwin\":\n",
    "    rc('font',family='AppleGothic')\n",
    "elif platform.system() == 'Windows':\n",
    "    font_name = font_manager.FontProperties(fname=path).get_name()\n",
    "    rc('font',family=font_name)\n",
    "else:\n",
    "    print('Unknown system')"
   ]
  },
  {
   "cell_type": "code",
   "execution_count": 7,
   "metadata": {},
   "outputs": [],
   "source": [
    "iris = datasets.load_iris()"
   ]
  },
  {
   "cell_type": "code",
   "execution_count": 12,
   "metadata": {},
   "outputs": [],
   "source": [
    "from matplotlib.colors import ListedColormap\n",
    "import matplotlib.pyplot as plt\n",
    "import matplotlib\n",
    "\n",
    "def plot_decision_region(x,y,classifier,test_idx=None,resolution=0.02,title=''):\n",
    "    markers = ('s','x','o','^','v')\n",
    "    colors = ('r','b','lightgreen','gray','cyan')\n",
    "    cmap = ListedColormap(colors[:len(np.unique(y))])\n",
    "    \n",
    "    # decision surface 그리기\n",
    "    x1_min,x1_max = x[:,0].min()-1, x[:,0].max() + 1\n",
    "    x2_min,x2_max = x[:,1].min()-1, x[:,1].max() + 1\n",
    "    xx,yy = np.meshgrid(np.arange(x1_min, x1_max, resolution), np.arange(x2_min, x2_max, resolution))\n",
    "    \n",
    "    Z = classifier.predict(np.array([xx.ravel(),yy.ravel()]).T)\n",
    "    Z = Z.reshape(xx.shape)\n",
    "    \n",
    "    plt.figure(figsize=(10,10))\n",
    "    \n",
    "    plt.contourf(xx,yy,Z,alpha=0.5, cmap=cmap)\n",
    "    plt.xlim(xx.min(), xx.max())\n",
    "    plt.ylim(yy.min(), yy.max())\n",
    "    \n",
    "    x_test, y_test = x[test_idx, :],y[test_idx]\n",
    "    for idx,cl in enumerate(np.unique(y)):\n",
    "        plt.scatter(x=x[y==cl,0], y=x[y==cl,1], c=cmap(idx), marker=markers[idx],label=cl)\n",
    "    \n",
    "    if test_idx:\n",
    "        x_test,y_test = x[test_idx, :], y[test_idx]\n",
    "        plt.scatter(x_test[:,0],x_test[:,1], c=\"\", linewidth=1, marker='o', s=80, label=\"테스트셋\")\n",
    "    \n",
    "    plt.xlabel(\"표준화 된 꽃잎 길이\")\n",
    "    plt.xlabel(\"표준화 된 꽃잎 너비\")\n",
    "    plt.legend(loc=2)\n",
    "    plt.title(title)\n",
    "    plt.show()\n"
   ]
  },
  {
   "cell_type": "code",
   "execution_count": 13,
   "metadata": {},
   "outputs": [
    {
     "name": "stderr",
     "output_type": "stream",
     "text": [
      "'c' argument looks like a single numeric RGB or RGBA sequence, which should be avoided as value-mapping will have precedence in case its length matches with 'x' & 'y'.  Please use a 2-D array with a single row if you really want to specify the same RGB or RGBA value for all points.\n",
      "'c' argument looks like a single numeric RGB or RGBA sequence, which should be avoided as value-mapping will have precedence in case its length matches with 'x' & 'y'.  Please use a 2-D array with a single row if you really want to specify the same RGB or RGBA value for all points.\n",
      "'c' argument looks like a single numeric RGB or RGBA sequence, which should be avoided as value-mapping will have precedence in case its length matches with 'x' & 'y'.  Please use a 2-D array with a single row if you really want to specify the same RGB or RGBA value for all points.\n"
     ]
    },
    {
     "name": "stdout",
     "output_type": "stream",
     "text": [
      "총 테스트 개수:45, 총 오류개수:2\n",
      "정확도:0.955556\n"
     ]
    },
    {
     "name": "stderr",
     "output_type": "stream",
     "text": [
      "C:\\Users\\Playdata\\Anaconda3\\lib\\site-packages\\matplotlib\\backends\\backend_agg.py:211: RuntimeWarning: Glyph 8722 missing from current font.\n",
      "  font.set_text(s, 0.0, flags=flags)\n",
      "C:\\Users\\Playdata\\Anaconda3\\lib\\site-packages\\matplotlib\\backends\\backend_agg.py:180: RuntimeWarning: Glyph 8722 missing from current font.\n",
      "  font.set_text(s, 0, flags=flags)\n"
     ]
    },
    {
     "data": {
      "image/png": "[encoded data removed]",
      "text/plain": [
       "<Figure size 720x720 with 1 Axes>"
      ]
     },
     "metadata": {
      "needs_background": "light"
     },
     "output_type": "display_data"
    }
   ],
   "source": [
    "iris = datasets.load_iris()\n",
    "# iris\n",
    "\n",
    "x = iris.data[:,[2,3]]\n",
    "y = iris.target # 답\n",
    "\n",
    "x_train,x_test,y_train,y_test = train_test_split(x,y, test_size=0.3,random_state=0)\n",
    "\n",
    "sc = StandardScaler()\n",
    "sc.fit(x_train)\n",
    "x_train_std = sc.transform(x_train)\n",
    "x_test_std  = sc.transform(x_test)\n",
    "\n",
    "\n",
    "# n_estimators => 생성할 의사결정 트리의 개수\n",
    "# n_jobs=2  => cpu 코어의 개수를 병렬적으로 활용 (코어 더많으면 더많이)\n",
    "ml = RandomForestClassifier(criterion='entropy', n_estimators=10, n_jobs=2, random_state=1)\n",
    "\n",
    "ml.fit(x_train_std, y_train)\n",
    "y_pred = ml.predict(x_test_std)\n",
    "print(\"총 테스트 개수:%d, 총 오류개수:%d\" %(len(y_test),(y_test != y_pred).sum()))\n",
    "print(\"정확도:%2f\" %accuracy_score(y_test,y_pred))\n",
    "\n",
    "x_combined_std = np.vstack((x_train_std,x_test_std))\n",
    "y_combined = np.hstack((y_train,y_test))\n",
    "plot_decision_region(x=x_combined_std, y=y_combined, classifier=ml, test_idx=range(105,150), title=\"랜덤포레스트\")"
   ]
  },
  {
   "cell_type": "code",
   "execution_count": null,
   "metadata": {},
   "outputs": [],
   "source": [
    "# 코드참고 => https://m.blog.naver.com/samsjang/220979751089"
   ]
  }
 ],
 "metadata": {
  "kernelspec": {
   "display_name": "Python 3",
   "language": "python",
   "name": "python3"
  },
  "language_info": {
   "codemirror_mode": {
    "name": "ipython",
    "version": 3
   },
   "file_extension": ".py",
   "mimetype": "text/x-python",
   "name": "python",
   "nbconvert_exporter": "python",
   "pygments_lexer": "ipython3",
   "version": "3.7.3"
  }
 },
 "nbformat": 4,
 "nbformat_minor": 2
}
