{
 "cells": [
  {
   "cell_type": "code",
   "execution_count": 1,
   "metadata": {},
   "outputs": [
    {
     "data": {
      "text/plain": [
       "'3.7.4 (default, Aug  9 2019, 18:34:13) [MSC v.1915 64 bit (AMD64)]'"
      ]
     },
     "execution_count": 1,
     "metadata": {},
     "output_type": "execute_result"
    }
   ],
   "source": [
    "import sys \n",
    "sys.version"
   ]
  },
  {
   "cell_type": "code",
   "execution_count": 2,
   "metadata": {},
   "outputs": [],
   "source": [
    "import pandas as pd\n",
    "import numpy as np\n",
    "\n",
    "\n",
    "from sklearn.linear_model import LinearRegression\n",
    "\n",
    "# 시각화 모듈 import\n",
    "import matplotlib.pyplot as plt\n",
    "%matplotlib inline\n",
    "import seaborn as sns"
   ]
  },
  {
   "cell_type": "code",
   "execution_count": 3,
   "metadata": {},
   "outputs": [],
   "source": [
    "## 그래프 한글 폰트 패치\n",
    "import platform\n",
    "path = \"c:/Windows/Fonts/malgun.ttf\"\n",
    "from matplotlib import font_manager, rc\n",
    "\n",
    "if platform.system() == \"Darwin\":\n",
    "    rc('font',family='AppleGothic')\n",
    "elif platform.system() == 'Windows':\n",
    "    font_name = font_manager.FontProperties(fname=path).get_name()\n",
    "    rc('font',family=font_name)\n",
    "else:\n",
    "    print('Unknown system')"
   ]
  },
  {
   "cell_type": "code",
   "execution_count": 4,
   "metadata": {},
   "outputs": [],
   "source": [
    "df = pd.read_excel('../Data/지역_위치별(주유소).xls')"
   ]
  },
  {
   "cell_type": "code",
   "execution_count": 5,
   "metadata": {},
   "outputs": [
    {
     "data": {
      "text/plain": [
       "Index(['지역', '상호', '주소', '상표', '전화번호', '셀프여부', '고급휘발유', '휘발유', '경유', '실내등유'], dtype='object')"
      ]
     },
     "execution_count": 5,
     "metadata": {},
     "output_type": "execute_result"
    }
   ],
   "source": [
    "df.columns"
   ]
  },
  {
   "cell_type": "code",
   "execution_count": 6,
   "metadata": {
    "scrolled": true
   },
   "outputs": [
    {
     "data": {
      "text/html": [
       "<div>\n",
       "<style scoped>\n",
       "    .dataframe tbody tr th:only-of-type {\n",
       "        vertical-align: middle;\n",
       "    }\n",
       "\n",
       "    .dataframe tbody tr th {\n",
       "        vertical-align: top;\n",
       "    }\n",
       "\n",
       "    .dataframe thead th {\n",
       "        text-align: right;\n",
       "    }\n",
       "</style>\n",
       "<table border=\"1\" class=\"dataframe\">\n",
       "  <thead>\n",
       "    <tr style=\"text-align: right;\">\n",
       "      <th></th>\n",
       "      <th>지역</th>\n",
       "      <th>상호</th>\n",
       "      <th>주소</th>\n",
       "      <th>상표</th>\n",
       "      <th>전화번호</th>\n",
       "      <th>셀프여부</th>\n",
       "      <th>고급휘발유</th>\n",
       "      <th>휘발유</th>\n",
       "      <th>경유</th>\n",
       "      <th>실내등유</th>\n",
       "    </tr>\n",
       "  </thead>\n",
       "  <tbody>\n",
       "    <tr>\n",
       "      <td>0</td>\n",
       "      <td>서울특별시</td>\n",
       "      <td>(주)보성 세곡주유소</td>\n",
       "      <td>서울특별시 강남구  헌릉로 731 (세곡동)</td>\n",
       "      <td>SK에너지</td>\n",
       "      <td>02-445-6870</td>\n",
       "      <td>Y</td>\n",
       "      <td>-</td>\n",
       "      <td>1548</td>\n",
       "      <td>1345</td>\n",
       "      <td>-</td>\n",
       "    </tr>\n",
       "    <tr>\n",
       "      <td>1</td>\n",
       "      <td>서울특별시</td>\n",
       "      <td>SK서광주유소</td>\n",
       "      <td>서울 강남구 역삼로 142 (역삼동)</td>\n",
       "      <td>SK에너지</td>\n",
       "      <td>02-562-4855</td>\n",
       "      <td>Y</td>\n",
       "      <td>1765</td>\n",
       "      <td>1565</td>\n",
       "      <td>1365</td>\n",
       "      <td>990</td>\n",
       "    </tr>\n",
       "    <tr>\n",
       "      <td>2</td>\n",
       "      <td>서울특별시</td>\n",
       "      <td>현대오일뱅크㈜ 직영 도곡셀프주유소</td>\n",
       "      <td>서울특별시 강남구  남부순환로 2718 (도곡동)</td>\n",
       "      <td>현대오일뱅크</td>\n",
       "      <td>02-529-5101</td>\n",
       "      <td>Y</td>\n",
       "      <td>1780</td>\n",
       "      <td>1566</td>\n",
       "      <td>1361</td>\n",
       "      <td>-</td>\n",
       "    </tr>\n",
       "    <tr>\n",
       "      <td>3</td>\n",
       "      <td>서울특별시</td>\n",
       "      <td>(주)정원이디에쓰 산성주유소</td>\n",
       "      <td>서울 강남구 헌릉로 730 (세곡동)</td>\n",
       "      <td>GS칼텍스</td>\n",
       "      <td>02-2226-4963</td>\n",
       "      <td>Y</td>\n",
       "      <td>-</td>\n",
       "      <td>1568</td>\n",
       "      <td>1365</td>\n",
       "      <td>-</td>\n",
       "    </tr>\n",
       "    <tr>\n",
       "      <td>4</td>\n",
       "      <td>서울특별시</td>\n",
       "      <td>현대오일뱅크(주)유진주유소</td>\n",
       "      <td>서울 강남구 논현로 152 (도곡동)</td>\n",
       "      <td>현대오일뱅크</td>\n",
       "      <td>02-3462-5215</td>\n",
       "      <td>N</td>\n",
       "      <td>1805</td>\n",
       "      <td>1586</td>\n",
       "      <td>1384</td>\n",
       "      <td>1060</td>\n",
       "    </tr>\n",
       "  </tbody>\n",
       "</table>\n",
       "</div>"
      ],
      "text/plain": [
       "      지역                   상호                           주소      상표  \\\n",
       "0  서울특별시          (주)보성 세곡주유소     서울특별시 강남구  헌릉로 731 (세곡동)   SK에너지   \n",
       "1  서울특별시              SK서광주유소         서울 강남구 역삼로 142 (역삼동)   SK에너지   \n",
       "2  서울특별시   현대오일뱅크㈜ 직영 도곡셀프주유소  서울특별시 강남구  남부순환로 2718 (도곡동)  현대오일뱅크   \n",
       "3  서울특별시      (주)정원이디에쓰 산성주유소         서울 강남구 헌릉로 730 (세곡동)   GS칼텍스   \n",
       "4  서울특별시       현대오일뱅크(주)유진주유소         서울 강남구 논현로 152 (도곡동)  현대오일뱅크   \n",
       "\n",
       "           전화번호 셀프여부 고급휘발유   휘발유    경유  실내등유  \n",
       "0   02-445-6870    Y     -  1548  1345     -  \n",
       "1   02-562-4855    Y  1765  1565  1365   990  \n",
       "2   02-529-5101    Y  1780  1566  1361     -  \n",
       "3  02-2226-4963    Y     -  1568  1365     -  \n",
       "4  02-3462-5215    N  1805  1586  1384  1060  "
      ]
     },
     "execution_count": 6,
     "metadata": {},
     "output_type": "execute_result"
    }
   ],
   "source": [
    "df.head()"
   ]
  },
  {
   "cell_type": "code",
   "execution_count": 7,
   "metadata": {},
   "outputs": [
    {
     "data": {
      "text/plain": [
       "(502, 10)"
      ]
     },
     "execution_count": 7,
     "metadata": {},
     "output_type": "execute_result"
    }
   ],
   "source": [
    "df.shape"
   ]
  },
  {
   "cell_type": "code",
   "execution_count": 8,
   "metadata": {},
   "outputs": [],
   "source": [
    "# '-' -> NaN\n",
    "\n",
    "df['고급휘발유'] = df['고급휘발유'].replace('-',np.nan)\n",
    "df['휘발유'] = df['휘발유'].replace('-',np.nan)\n",
    "df['경유'] = df['경유'].replace('-',np.nan)\n",
    "df['실내등유'] = df['실내등유'].replace('-',np.nan)"
   ]
  },
  {
   "cell_type": "code",
   "execution_count": 9,
   "metadata": {},
   "outputs": [
    {
     "data": {
      "text/plain": [
       "지역         0\n",
       "상호         0\n",
       "주소         0\n",
       "상표         0\n",
       "전화번호       0\n",
       "셀프여부       0\n",
       "고급휘발유     98\n",
       "휘발유        0\n",
       "경유         0\n",
       "실내등유     314\n",
       "dtype: int64"
      ]
     },
     "execution_count": 9,
     "metadata": {},
     "output_type": "execute_result"
    }
   ],
   "source": [
    "## 결측치 확인\n",
    "\n",
    "df.isnull().sum()"
   ]
  },
  {
   "cell_type": "code",
   "execution_count": 10,
   "metadata": {},
   "outputs": [],
   "source": [
    "# Object -> numeric\n",
    "\n",
    "df['고급휘발유'] = pd.to_numeric(df['고급휘발유'], errors='coerce')\n",
    "df['실내등유'] = pd.to_numeric(df['실내등유'], errors='coerce')"
   ]
  },
  {
   "cell_type": "code",
   "execution_count": 11,
   "metadata": {},
   "outputs": [
    {
     "data": {
      "text/html": [
       "<div>\n",
       "<style scoped>\n",
       "    .dataframe tbody tr th:only-of-type {\n",
       "        vertical-align: middle;\n",
       "    }\n",
       "\n",
       "    .dataframe tbody tr th {\n",
       "        vertical-align: top;\n",
       "    }\n",
       "\n",
       "    .dataframe thead th {\n",
       "        text-align: right;\n",
       "    }\n",
       "</style>\n",
       "<table border=\"1\" class=\"dataframe\">\n",
       "  <thead>\n",
       "    <tr style=\"text-align: right;\">\n",
       "      <th></th>\n",
       "      <th>고급휘발유</th>\n",
       "      <th>휘발유</th>\n",
       "      <th>경유</th>\n",
       "      <th>실내등유</th>\n",
       "    </tr>\n",
       "  </thead>\n",
       "  <tbody>\n",
       "    <tr>\n",
       "      <td>고급휘발유</td>\n",
       "      <td>1.000000</td>\n",
       "      <td>0.954455</td>\n",
       "      <td>0.959348</td>\n",
       "      <td>0.616384</td>\n",
       "    </tr>\n",
       "    <tr>\n",
       "      <td>휘발유</td>\n",
       "      <td>0.954455</td>\n",
       "      <td>1.000000</td>\n",
       "      <td>0.988903</td>\n",
       "      <td>0.572812</td>\n",
       "    </tr>\n",
       "    <tr>\n",
       "      <td>경유</td>\n",
       "      <td>0.959348</td>\n",
       "      <td>0.988903</td>\n",
       "      <td>1.000000</td>\n",
       "      <td>0.561246</td>\n",
       "    </tr>\n",
       "    <tr>\n",
       "      <td>실내등유</td>\n",
       "      <td>0.616384</td>\n",
       "      <td>0.572812</td>\n",
       "      <td>0.561246</td>\n",
       "      <td>1.000000</td>\n",
       "    </tr>\n",
       "  </tbody>\n",
       "</table>\n",
       "</div>"
      ],
      "text/plain": [
       "          고급휘발유       휘발유        경유      실내등유\n",
       "고급휘발유  1.000000  0.954455  0.959348  0.616384\n",
       "휘발유    0.954455  1.000000  0.988903  0.572812\n",
       "경유     0.959348  0.988903  1.000000  0.561246\n",
       "실내등유   0.616384  0.572812  0.561246  1.000000"
      ]
     },
     "execution_count": 11,
     "metadata": {},
     "output_type": "execute_result"
    }
   ],
   "source": [
    "# 고급휘발유,휘발유,경유 상관관계 분석\n",
    "\n",
    "df_corr = df[['고급휘발유','휘발유','경유','실내등유']]\n",
    "\n",
    "# 상관계수 행렬\n",
    "df_matrix = df_corr.corr()\n",
    "df_matrix"
   ]
  },
  {
   "cell_type": "code",
   "execution_count": 12,
   "metadata": {},
   "outputs": [
    {
     "data": {
      "text/plain": [
       "휘발유     0.954455\n",
       "경유      0.959348\n",
       "실내등유    0.616384\n",
       "dtype: float64"
      ]
     },
     "execution_count": 12,
     "metadata": {},
     "output_type": "execute_result"
    }
   ],
   "source": [
    "# 고급휘발유와 나머지 변수들의 상관관계 분석\n",
    "\n",
    "df_corr_2 = df[['휘발유','경유','실내등유']]\n",
    "df_corr_2.corrwith(df['고급휘발유'])"
   ]
  },
  {
   "cell_type": "code",
   "execution_count": 13,
   "metadata": {
    "scrolled": false
   },
   "outputs": [
    {
     "name": "stderr",
     "output_type": "stream",
     "text": [
      "C:\\Anaconda3\\lib\\site-packages\\seaborn\\axisgrid.py:2065: UserWarning: The `size` parameter has been renamed to `height`; pleaes update your code.\n",
      "  warnings.warn(msg, UserWarning)\n",
      "C:\\Anaconda3\\lib\\site-packages\\numpy\\lib\\histograms.py:754: RuntimeWarning: invalid value encountered in greater_equal\n",
      "  keep = (tmp_a >= first_edge)\n",
      "C:\\Anaconda3\\lib\\site-packages\\numpy\\lib\\histograms.py:755: RuntimeWarning: invalid value encountered in less_equal\n",
      "  keep &= (tmp_a <= last_edge)\n",
      "C:\\Anaconda3\\lib\\site-packages\\scipy\\stats\\stats.py:1713: FutureWarning: Using a non-tuple sequence for multidimensional indexing is deprecated; use `arr[tuple(seq)]` instead of `arr[seq]`. In the future this will be interpreted as an array index, `arr[np.array(seq)]`, which will result either in an error or a different result.\n",
      "  return np.add.reduce(sorted[indexer] * weights, axis=axis) / sumval\n"
     ]
    },
    {
     "data": {
      "text/plain": [
       "<function matplotlib.pyplot.show(*args, **kw)>"
      ]
     },
     "execution_count": 13,
     "metadata": {},
     "output_type": "execute_result"
    },
    {
     "data": {
      "image/png": "[encoded data removed]",
      "text/plain": [
       "<Figure size 864x864 with 20 Axes>"
      ]
     },
     "metadata": {
      "needs_background": "light"
     },
     "output_type": "display_data"
    }
   ],
   "source": [
    "# 상관관계 시각화\n",
    "\n",
    "# pairplot\n",
    "sns.pairplot(df, vars=['고급휘발유','휘발유','경유','실내등유'],kind='reg',size=3)\n",
    "plt.show"
   ]
  },
  {
   "cell_type": "code",
   "execution_count": 14,
   "metadata": {},
   "outputs": [],
   "source": [
    "# 회귀 모델 생성\n",
    "\n",
    "model = LinearRegression() "
   ]
  },
  {
   "cell_type": "code",
   "execution_count": 15,
   "metadata": {},
   "outputs": [],
   "source": [
    "# x , y setting\n",
    "x = []\n",
    "y = []\n",
    "\n",
    "\n",
    "df_train = df.dropna(axis=0)\n",
    "    \n",
    "for j in range(len(df_train)):\n",
    "    tmp_x = []\n",
    "    tmp_x.append(df_train[['휘발유','경유']].values[j][0])\n",
    "    tmp_x.append(df_train[['휘발유','경유']].values[j][1])\n",
    "#     tmp_x.append(df_train[['휘발유','경유']].values[j][2])\n",
    "    x.append(tmp_x)\n",
    "    \n",
    "\n",
    "for i in range(len(df_train)):\n",
    "    tmp_y = []\n",
    "    tmp_y.append(df_train['고급휘발유'].values[i])\n",
    "    y.append(tmp_y)\n",
    "\n"
   ]
  },
  {
   "cell_type": "code",
   "execution_count": 16,
   "metadata": {},
   "outputs": [
    {
     "name": "stdout",
     "output_type": "stream",
     "text": [
      "[[1797.21329664]]\n"
     ]
    }
   ],
   "source": [
    "# model 학습\n",
    "model = model.fit(x,y)\n",
    "# test\n",
    "result = model.predict([[1556.0,1361.0]])\n",
    "print(result)"
   ]
  },
  {
   "cell_type": "code",
   "execution_count": 17,
   "metadata": {},
   "outputs": [],
   "source": [
    "# df_test => 고급휘발유가 nan값인 data set\n",
    "\n",
    "df_test = df[df['고급휘발유'].notnull() == False]"
   ]
  },
  {
   "cell_type": "code",
   "execution_count": 18,
   "metadata": {
    "scrolled": true
   },
   "outputs": [
    {
     "name": "stderr",
     "output_type": "stream",
     "text": [
      "C:\\Anaconda3\\lib\\site-packages\\ipykernel_launcher.py:20: SettingWithCopyWarning: \n",
      "A value is trying to be set on a copy of a slice from a DataFrame.\n",
      "Try using .loc[row_indexer,col_indexer] = value instead\n",
      "\n",
      "See the caveats in the documentation: http://pandas.pydata.org/pandas-docs/stable/user_guide/indexing.html#returning-a-view-versus-a-copy\n"
     ]
    }
   ],
   "source": [
    "# 회귀모델 활용 결측값 예측\n",
    "\n",
    "res_list = []\n",
    "\n",
    "for rl in range(len(df_test)):\n",
    "    tmp=[]\n",
    "    tmp.append(df_test['휘발유'].iloc[rl])\n",
    "    tmp.append(df_test['경유'].iloc[rl])         \n",
    "    res_list.append(tmp)\n",
    "    \n",
    "res_tmp = []\n",
    "for q in range(len(res_list)):\n",
    "    tmp = []\n",
    "    res_tmp.append(model.predict([res_list[q]]))\n",
    "\n",
    "res = []\n",
    "for i in range(len(res_tmp)):\n",
    "    res.append(res_tmp[i][0][0])\n",
    "\n",
    "df_test['고급휘발유'] = res"
   ]
  },
  {
   "cell_type": "code",
   "execution_count": 19,
   "metadata": {
    "scrolled": true
   },
   "outputs": [
    {
     "data": {
      "text/html": [
       "<div>\n",
       "<style scoped>\n",
       "    .dataframe tbody tr th:only-of-type {\n",
       "        vertical-align: middle;\n",
       "    }\n",
       "\n",
       "    .dataframe tbody tr th {\n",
       "        vertical-align: top;\n",
       "    }\n",
       "\n",
       "    .dataframe thead th {\n",
       "        text-align: right;\n",
       "    }\n",
       "</style>\n",
       "<table border=\"1\" class=\"dataframe\">\n",
       "  <thead>\n",
       "    <tr style=\"text-align: right;\">\n",
       "      <th></th>\n",
       "      <th>지역</th>\n",
       "      <th>상호</th>\n",
       "      <th>주소</th>\n",
       "      <th>상표</th>\n",
       "      <th>전화번호</th>\n",
       "      <th>셀프여부</th>\n",
       "      <th>고급휘발유</th>\n",
       "      <th>휘발유</th>\n",
       "      <th>경유</th>\n",
       "      <th>실내등유</th>\n",
       "    </tr>\n",
       "  </thead>\n",
       "  <tbody>\n",
       "    <tr>\n",
       "      <td>0</td>\n",
       "      <td>서울특별시</td>\n",
       "      <td>(주)보성 세곡주유소</td>\n",
       "      <td>서울특별시 강남구  헌릉로 731 (세곡동)</td>\n",
       "      <td>SK에너지</td>\n",
       "      <td>02-445-6870</td>\n",
       "      <td>Y</td>\n",
       "      <td>1787.675004</td>\n",
       "      <td>1548</td>\n",
       "      <td>1345</td>\n",
       "      <td>NaN</td>\n",
       "    </tr>\n",
       "    <tr>\n",
       "      <td>3</td>\n",
       "      <td>서울특별시</td>\n",
       "      <td>(주)정원이디에쓰 산성주유소</td>\n",
       "      <td>서울 강남구 헌릉로 730 (세곡동)</td>\n",
       "      <td>GS칼텍스</td>\n",
       "      <td>02-2226-4963</td>\n",
       "      <td>Y</td>\n",
       "      <td>1806.738708</td>\n",
       "      <td>1568</td>\n",
       "      <td>1365</td>\n",
       "      <td>NaN</td>\n",
       "    </tr>\n",
       "    <tr>\n",
       "      <td>5</td>\n",
       "      <td>서울특별시</td>\n",
       "      <td>(주)한진 도곡주유소</td>\n",
       "      <td>서울특별시 강남구  도곡로 162 (도곡동)</td>\n",
       "      <td>S-OIL</td>\n",
       "      <td>02-2058-3024</td>\n",
       "      <td>N</td>\n",
       "      <td>1828.426088</td>\n",
       "      <td>1590</td>\n",
       "      <td>1390</td>\n",
       "      <td>NaN</td>\n",
       "    </tr>\n",
       "    <tr>\n",
       "      <td>6</td>\n",
       "      <td>서울특별시</td>\n",
       "      <td>방죽주유소</td>\n",
       "      <td>서울특별시 강남구 밤고개로 215 (율현동)</td>\n",
       "      <td>S-OIL</td>\n",
       "      <td>02-459-3434</td>\n",
       "      <td>Y</td>\n",
       "      <td>1829.605493</td>\n",
       "      <td>1595</td>\n",
       "      <td>1380</td>\n",
       "      <td>NaN</td>\n",
       "    </tr>\n",
       "    <tr>\n",
       "      <td>12</td>\n",
       "      <td>서울특별시</td>\n",
       "      <td>자곡셀프주유소</td>\n",
       "      <td>서울특별시 강남구  밤고개로 120 (자곡동)</td>\n",
       "      <td>SK에너지</td>\n",
       "      <td>02-445-5841</td>\n",
       "      <td>Y</td>\n",
       "      <td>1842.953307</td>\n",
       "      <td>1608</td>\n",
       "      <td>1397</td>\n",
       "      <td>NaN</td>\n",
       "    </tr>\n",
       "  </tbody>\n",
       "</table>\n",
       "</div>"
      ],
      "text/plain": [
       "       지역               상호                         주소     상표          전화번호  \\\n",
       "0   서울특별시      (주)보성 세곡주유소   서울특별시 강남구  헌릉로 731 (세곡동)  SK에너지   02-445-6870   \n",
       "3   서울특별시  (주)정원이디에쓰 산성주유소       서울 강남구 헌릉로 730 (세곡동)  GS칼텍스  02-2226-4963   \n",
       "5   서울특별시      (주)한진 도곡주유소   서울특별시 강남구  도곡로 162 (도곡동)  S-OIL  02-2058-3024   \n",
       "6   서울특별시            방죽주유소   서울특별시 강남구 밤고개로 215 (율현동)  S-OIL   02-459-3434   \n",
       "12  서울특별시          자곡셀프주유소  서울특별시 강남구  밤고개로 120 (자곡동)  SK에너지   02-445-5841   \n",
       "\n",
       "   셀프여부        고급휘발유   휘발유    경유  실내등유  \n",
       "0     Y  1787.675004  1548  1345   NaN  \n",
       "3     Y  1806.738708  1568  1365   NaN  \n",
       "5     N  1828.426088  1590  1390   NaN  \n",
       "6     Y  1829.605493  1595  1380   NaN  \n",
       "12    Y  1842.953307  1608  1397   NaN  "
      ]
     },
     "execution_count": 19,
     "metadata": {},
     "output_type": "execute_result"
    }
   ],
   "source": [
    "df_test.head()"
   ]
  },
  {
   "cell_type": "code",
   "execution_count": 20,
   "metadata": {
    "scrolled": false
   },
   "outputs": [
    {
     "data": {
      "text/html": [
       "<table class=\"simpletable\">\n",
       "<caption>OLS Regression Results</caption>\n",
       "<tr>\n",
       "  <th>Dep. Variable:</th>          <td>고급휘발유</td>      <th>  R-squared:         </th> <td>   0.925</td>\n",
       "</tr>\n",
       "<tr>\n",
       "  <th>Model:</th>                   <td>OLS</td>       <th>  Adj. R-squared:    </th> <td>   0.924</td>\n",
       "</tr>\n",
       "<tr>\n",
       "  <th>Method:</th>             <td>Least Squares</td>  <th>  F-statistic:       </th> <td>   961.3</td>\n",
       "</tr>\n",
       "<tr>\n",
       "  <th>Date:</th>             <td>Tue, 17 Sep 2019</td> <th>  Prob (F-statistic):</th> <td>1.89e-88</td>\n",
       "</tr>\n",
       "<tr>\n",
       "  <th>Time:</th>                 <td>20:31:09</td>     <th>  Log-Likelihood:    </th> <td> -851.00</td>\n",
       "</tr>\n",
       "<tr>\n",
       "  <th>No. Observations:</th>      <td>   159</td>      <th>  AIC:               </th> <td>   1708.</td>\n",
       "</tr>\n",
       "<tr>\n",
       "  <th>Df Residuals:</th>          <td>   156</td>      <th>  BIC:               </th> <td>   1717.</td>\n",
       "</tr>\n",
       "<tr>\n",
       "  <th>Df Model:</th>              <td>     2</td>      <th>                     </th>     <td> </td>   \n",
       "</tr>\n",
       "<tr>\n",
       "  <th>Covariance Type:</th>      <td>nonrobust</td>    <th>                     </th>     <td> </td>   \n",
       "</tr>\n",
       "</table>\n",
       "<table class=\"simpletable\">\n",
       "<tr>\n",
       "      <td></td>         <th>coef</th>     <th>std err</th>      <th>t</th>      <th>P>|t|</th>  <th>[0.025</th>    <th>0.975]</th>  \n",
       "</tr>\n",
       "<tr>\n",
       "  <th>Intercept</th> <td>  360.6818</td> <td>   56.627</td> <td>    6.369</td> <td> 0.000</td> <td>  248.828</td> <td>  472.536</td>\n",
       "</tr>\n",
       "<tr>\n",
       "  <th>휘발유</th>       <td>    0.7141</td> <td>    0.145</td> <td>    4.914</td> <td> 0.000</td> <td>    0.427</td> <td>    1.001</td>\n",
       "</tr>\n",
       "<tr>\n",
       "  <th>경유</th>        <td>    0.2391</td> <td>    0.137</td> <td>    1.743</td> <td> 0.083</td> <td>   -0.032</td> <td>    0.510</td>\n",
       "</tr>\n",
       "</table>\n",
       "<table class=\"simpletable\">\n",
       "<tr>\n",
       "  <th>Omnibus:</th>       <td> 1.387</td> <th>  Durbin-Watson:     </th> <td>   1.811</td>\n",
       "</tr>\n",
       "<tr>\n",
       "  <th>Prob(Omnibus):</th> <td> 0.500</td> <th>  Jarque-Bera (JB):  </th> <td>   1.222</td>\n",
       "</tr>\n",
       "<tr>\n",
       "  <th>Skew:</th>          <td> 0.029</td> <th>  Prob(JB):          </th> <td>   0.543</td>\n",
       "</tr>\n",
       "<tr>\n",
       "  <th>Kurtosis:</th>      <td> 2.574</td> <th>  Cond. No.          </th> <td>3.45e+04</td>\n",
       "</tr>\n",
       "</table><br/><br/>Warnings:<br/>[1] Standard Errors assume that the covariance matrix of the errors is correctly specified.<br/>[2] The condition number is large, 3.45e+04. This might indicate that there are<br/>strong multicollinearity or other numerical problems."
      ],
      "text/plain": [
       "<class 'statsmodels.iolib.summary.Summary'>\n",
       "\"\"\"\n",
       "                            OLS Regression Results                            \n",
       "==============================================================================\n",
       "Dep. Variable:                  고급휘발유   R-squared:                       0.925\n",
       "Model:                            OLS   Adj. R-squared:                  0.924\n",
       "Method:                 Least Squares   F-statistic:                     961.3\n",
       "Date:                Tue, 17 Sep 2019   Prob (F-statistic):           1.89e-88\n",
       "Time:                        20:31:09   Log-Likelihood:                -851.00\n",
       "No. Observations:                 159   AIC:                             1708.\n",
       "Df Residuals:                     156   BIC:                             1717.\n",
       "Df Model:                           2                                         \n",
       "Covariance Type:            nonrobust                                         \n",
       "==============================================================================\n",
       "                 coef    std err          t      P>|t|      [0.025      0.975]\n",
       "------------------------------------------------------------------------------\n",
       "Intercept    360.6818     56.627      6.369      0.000     248.828     472.536\n",
       "휘발유            0.7141      0.145      4.914      0.000       0.427       1.001\n",
       "경유             0.2391      0.137      1.743      0.083      -0.032       0.510\n",
       "==============================================================================\n",
       "Omnibus:                        1.387   Durbin-Watson:                   1.811\n",
       "Prob(Omnibus):                  0.500   Jarque-Bera (JB):                1.222\n",
       "Skew:                           0.029   Prob(JB):                        0.543\n",
       "Kurtosis:                       2.574   Cond. No.                     3.45e+04\n",
       "==============================================================================\n",
       "\n",
       "Warnings:\n",
       "[1] Standard Errors assume that the covariance matrix of the errors is correctly specified.\n",
       "[2] The condition number is large, 3.45e+04. This might indicate that there are\n",
       "strong multicollinearity or other numerical problems.\n",
       "\"\"\""
      ]
     },
     "execution_count": 20,
     "metadata": {},
     "output_type": "execute_result"
    }
   ],
   "source": [
    "import statsmodels.api as sm\n",
    "import statsmodels.formula.api as smf\n",
    "\n",
    "model_ols = smf.ols(formula = '고급휘발유 ~ 휘발유+경유', data = df_train) # smf(statsmodel의 ols(최소제곱법)을 사용하여 회귀모형 생성 ) #Formula = '종속변수 ~ 독립변수\n",
    "result = model_ols.fit() # 모형 적합화\n",
    "result.summary()"
   ]
  }
 ],
 "metadata": {
  "kernelspec": {
   "display_name": "Python 3",
   "language": "python",
   "name": "python3"
  },
  "language_info": {
   "codemirror_mode": {
    "name": "ipython",
    "version": 3
   },
   "file_extension": ".py",
   "mimetype": "text/x-python",
   "name": "python",
   "nbconvert_exporter": "python",
   "pygments_lexer": "ipython3",
   "version": "3.7.4"
  }
 },
 "nbformat": 4,
 "nbformat_minor": 2
}
