{
 "cells": [
  {
   "cell_type": "code",
   "execution_count": 1,
   "metadata": {},
   "outputs": [
    {
     "name": "stdout",
     "output_type": "stream",
     "text": [
      "[array([243., 251., 275., 291., 347., 354., 380., 392.]), array([206., 210., 226., 249., 255., 273., 285., 295., 309.]), array([241., 258., 270., 293., 328.])]\n"
     ]
    },
    {
     "data": {
      "text/plain": [
       "<Figure size 640x480 with 1 Axes>"
      ]
     },
     "metadata": {},
     "output_type": "display_data"
    }
   ],
   "source": [
    "# 분산분석에는 여러 종류가 있지만, 여기서는 일원분산분석(One-way ANOVA)과 이원분산분석(Two-way ANOVA)를 알아보겠다.\n",
    "# 1) 일원분산분석(One-way ANOVA)\n",
    "#  종속변인은 1개이며, 독립변인의 집단도 1개인 경우다.\n",
    "#  한 가지 변수의 변화가 결과 변수에 미치는 영향을 보기 위해 사용된다.\n",
    "# 파이썬에서 One-way ANOVA 분석은 scipy.stats이나 statsmodel 라이브러리를 이용해서 할 수 있다.\n",
    "# statsmodel 라이브러리가 좀 더 많고 규격화된 정보를 제공한다.\n",
    "\n",
    "# 예제) 22명의 심장 우회 수술을 받은 환자를 다음의 3가지 그룹으로 나누었다.\n",
    "#  Group I  : 50% 아산화 질소(nitrous oxide)와 50%의 산소(oxygen) 혼합물을 24시간 동안 흡입한 환자\n",
    "#  Group II : 50% 아산화 질소와 50% 산소 혼합물을 수술 받는 동안만 흡입한 환자\n",
    "#  Group III : 아산화 질소 없이 오직 35-50%의 산소만 24시간 동안 처리한 환자\n",
    "#  그런 다음 적혈구의 엽산 수치를 24시간 이후에 측정하였다.\n",
    "\n",
    "import pandas as pd\n",
    "import matplotlib.pyplot as plt\n",
    "\n",
    "import numpy as np\n",
    "import urllib  # url로 데이터 얻어오기\n",
    "url = 'https://raw.githubusercontent.com/thomas-haslwanter/statsintro_python/master/ipynb/Data/data_altman/altman_910.txt'\n",
    "data = np.genfromtxt(urllib.request.urlopen(url), delimiter=',')\n",
    "\n",
    "# Sort them into groups, according to column 1\n",
    "group1 = data[data[: ,1 ]==1 ,0]\n",
    "group2 = data[data[: ,1 ]==2 ,0]\n",
    "group3 = data[data[: ,1 ]==3 ,0]\n",
    "\n",
    "# matplotlib plotting\n",
    "plot_data = [group1, group2, group3]\n",
    "print(plot_data)\n",
    "\n",
    "\n",
    "ax = plt.boxplot(plot_data)\n",
    "plt.show()\n",
    "\n",
    "# Boxplot에서 볼 수 있듯이, 평균값의 차이가 실제로 의미가 있는 차이인지, 분산이 커서 그런 것인지 애매한 상황이다.\n",
    "# 이런 상황에서 분산분석을 통해 통계적 유의성을 알아 볼 수 있다.\n",
    "# Scipy.stats으로 일원분산분석 : 아래와 같은 코드로 분산분석을 할 수 있다."
   ]
  },
  {
   "cell_type": "code",
   "execution_count": 3,
   "metadata": {},
   "outputs": [
    {
     "name": "stdout",
     "output_type": "stream",
     "text": [
      "Altman 910 데이터의 일원분산분석 결과 : F=3.7, p=0.04359\n",
      "P-value 값이 유의수준 보다 작음으로 인해 그룹의 평균값이 통계적으로 유의미하게 차이가 남.\n"
     ]
    }
   ],
   "source": [
    "import scipy.stats as stats\n",
    "f_statistic, pval = stats.f_oneway(group1, group2, group3)\n",
    "print('Altman 910 데이터의 일원분산분석 결과 : F={0:.1f}, p={1:.5f}'.format(f_statistic, pval))  # F=3.7, p=0.04359\n",
    "\n",
    "if pval < 0.05:\n",
    "    print('P-value 값이 유의수준 보다 작음으로 인해 그룹의 평균값이 통계적으로 유의미하게 차이가 남.')\n"
   ]
  },
  {
   "cell_type": "code",
   "execution_count": 4,
   "metadata": {},
   "outputs": [
    {
     "name": "stdout",
     "output_type": "stream",
     "text": [
      "                df        sum_sq      mean_sq         F    PR(>F)\n",
      "C(treatment)   2.0  15515.766414  7757.883207  3.711336  0.043589\n",
      "Residual      19.0  39716.097222  2090.320906       NaN       NaN\n",
      "\n"
     ]
    }
   ],
   "source": [
    "# 이번에는 pandas와 statsmodels 라이브러리를 사용해서 분산분석을 수행.\n",
    "# Statsmodel을 사용한 일원분산분석\n",
    "\n",
    "import statsmodels.formula.api as smf\n",
    "import statsmodels.api as sm\n",
    "#import warnings  # 경고 메세지 무시하기\n",
    "#warnings.filterwarnings('ignore')\n",
    "\n",
    "df = pd.DataFrame(data, columns=['value', 'treatment'])\n",
    "# the \"C\" indicates categorical data\n",
    "\n",
    "model = smf.ols('value ~ C(treatment)', df).fit()\n",
    "print(sm.stats.anova_lm(model))  # statsmodels 을 사용하면 간편하게 결과를 얻을 수 있다.\n",
    "\n",
    "#                 df        sum_sq      mean_sq         F         PR(>F)\n",
    "# C(treatment)   2.0  15515.766414  7757.883207  3.711336  0.043589\n",
    "# Residual      19.0  39716.097222  2090.320906       NaN       NaN\n",
    "\n",
    "print()"
   ]
  }
 ],
 "metadata": {
  "kernelspec": {
   "display_name": "Python 3",
   "language": "python",
   "name": "python3"
  },
  "language_info": {
   "codemirror_mode": {
    "name": "ipython",
    "version": 3
   },
   "file_extension": ".py",
   "mimetype": "text/x-python",
   "name": "python",
   "nbconvert_exporter": "python",
   "pygments_lexer": "ipython3",
   "version": "3.7.4"
  }
 },
 "nbformat": 4,
 "nbformat_minor": 2
}
