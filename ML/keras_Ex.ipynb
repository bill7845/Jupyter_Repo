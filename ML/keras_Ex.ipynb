{
 "cells": [
  {
   "cell_type": "code",
   "execution_count": 6,
   "metadata": {},
   "outputs": [
    {
     "name": "stdout",
     "output_type": "stream",
     "text": [
      "Targets :  [5 7 9]\n",
      "Predictions  [1.0070547 2.9956398]\n"
     ]
    }
   ],
   "source": [
    "import keras\n",
    "import numpy\n",
    "\n",
    "# 학습데이터\n",
    "x = numpy.array([0,1,2,3,4])\n",
    "y = x * 2 + 1\n",
    "\n",
    "#keras 모델 시작\n",
    "model = keras.models.Sequential()\n",
    "#인공지능 계층을 하나 추가(입력 노드 하나와 가중치 하나)\n",
    "model.add(keras.layers.Dense(1,input_shape=(1,)))\n",
    "model.compile(\"SGD\",\"mse\")\n",
    "\n",
    "model.fit(x[:2],y[:2], epochs=1000, verbose=0)\n",
    "\n",
    "print('Targets : ', y[2:])\n",
    "print('Predictions ' , model.predict(x[:2]).flatten())"
   ]
  }
 ],
 "metadata": {
  "kernelspec": {
   "display_name": "Python 3",
   "language": "python",
   "name": "python3"
  },
  "language_info": {
   "codemirror_mode": {
    "name": "ipython",
    "version": 3
   },
   "file_extension": ".py",
   "mimetype": "text/x-python",
   "name": "python",
   "nbconvert_exporter": "python",
   "pygments_lexer": "ipython3",
   "version": "3.7.3"
  }
 },
 "nbformat": 4,
 "nbformat_minor": 2
}
