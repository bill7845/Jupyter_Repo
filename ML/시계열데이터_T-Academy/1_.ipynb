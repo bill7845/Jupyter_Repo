{
 "cells": [
  {
   "cell_type": "markdown",
   "metadata": {},
   "source": [
    "## T-Academy 시계열 데이터 분석\n",
    "\n",
    "#### Time Series with Pandas"
   ]
  },
  {
   "cell_type": "markdown",
   "metadata": {},
   "source": [
    "> 시계열 데이터는 시간 데이터를 인덱스로하는 연속된 데이터\n",
    "\n",
    "> 시간 데이터를 Python의 DateTime 타입으로 바꾸어 Pandas가 제공하는 시계열 데이터 처리 기능 학습\n",
    "\n",
    "    - DateTime 인덱스\n",
    "    - Time Resampling\n",
    "    - Time Shifts\n",
    "    - Rolling and Expanding\n",
    "\n",
    "Ref : https://github.com/midnightradio/tsa-tutorial.git"
   ]
  },
  {
   "cell_type": "markdown",
   "metadata": {},
   "source": [
    "<br>\n",
    "\n",
    "* Date Time Index\n",
    "    * time 또는 date 정보는 별개의 컬럼이기보다는 인덱스인 경우가 대다수\n",
    "    \n",
    "<br>\n",
    "\n",
    "* Time Resampling\n",
    "    * 시계열 데이터의 인덱스는 시,분 등 작은 단위 DateTime 인덱스로 이루어진 경우도 많음\n",
    "    * 더 넓은 주기로 데이터를 집계(aggregate) 해야하는 경우 Time Resampling이 필요\n",
    "    * groupby를 사용하기보다는 pandas의 특화된 기능 사용이 편리함\n",
    "    \n",
    "<br>\n",
    "\n",
    "* Time Shifting\n",
    "    * 시계열 분석 알고리즘을 사용하기 위해 데이터를 임의 시간만큼 앞 또는 뒤로 이동시켜야 하는 경우\n",
    "    \n",
    "<br>\n",
    "\n",
    "* Rolling and Expanding\n",
    "    * 매일 수집한 데이터들에는 노이즈가 포함될 수 있음\n",
    "    * 이 경우, 데이터의 일반적인 트렌드를 구하기 위해 rolling mean(또는 moving average)을 사용\n",
    "    * pandas에 내장된 rolling 함수를 이용하면 주어진 시한 내 평균(rolling mean)등을 구할 수 있음\n",
    "    * 임의 시간 간격의 window를 만들고 그 안에서 mean 같은 통계적 aggregation을 실행\n",
    "    \n",
    "    "
   ]
  },
  {
   "cell_type": "code",
   "execution_count": 1,
   "metadata": {},
   "outputs": [],
   "source": [
    "import pandas as pd\n",
    "import numpy as np\n",
    "import matplotlib.pyplot as plt\n",
    "\n",
    "from datetime import datetime"
   ]
  },
  {
   "cell_type": "code",
   "execution_count": 2,
   "metadata": {},
   "outputs": [],
   "source": [
    "# datetime\n",
    "# 시,분,초까지 가능\n",
    "\n",
    "today = datetime(2019,10,3,13,39)"
   ]
  },
  {
   "cell_type": "code",
   "execution_count": 3,
   "metadata": {},
   "outputs": [
    {
     "data": {
      "text/plain": [
       "datetime.datetime(2019, 10, 3, 13, 39)"
      ]
     },
     "execution_count": 3,
     "metadata": {},
     "output_type": "execute_result"
    }
   ],
   "source": [
    "today"
   ]
  },
  {
   "cell_type": "code",
   "execution_count": 4,
   "metadata": {},
   "outputs": [
    {
     "data": {
      "text/plain": [
       "10"
      ]
     },
     "execution_count": 4,
     "metadata": {},
     "output_type": "execute_result"
    }
   ],
   "source": [
    "today.day\n",
    "today.year\n",
    "today.month"
   ]
  },
  {
   "cell_type": "code",
   "execution_count": 5,
   "metadata": {},
   "outputs": [
    {
     "data": {
      "text/plain": [
       "[datetime.datetime(2019, 1, 23, 0, 0), datetime.datetime(2019, 1, 24, 0, 0)]"
      ]
     },
     "execution_count": 5,
     "metadata": {},
     "output_type": "execute_result"
    }
   ],
   "source": [
    "dates = [datetime(2019,1,23), datetime(2019,1,24)]\n",
    "dates"
   ]
  },
  {
   "cell_type": "code",
   "execution_count": 6,
   "metadata": {
    "scrolled": true
   },
   "outputs": [
    {
     "data": {
      "text/plain": [
       "DatetimeIndex(['2019-01-23', '2019-01-24'], dtype='datetime64[ns]', freq=None)"
      ]
     },
     "execution_count": 6,
     "metadata": {},
     "output_type": "execute_result"
    }
   ],
   "source": [
    "# dateTime 인덱스로\n",
    "\n",
    "dt_index = pd.DatetimeIndex(dates)\n",
    "dt_index"
   ]
  },
  {
   "cell_type": "code",
   "execution_count": 7,
   "metadata": {},
   "outputs": [
    {
     "data": {
      "text/html": [
       "<div>\n",
       "<style scoped>\n",
       "    .dataframe tbody tr th:only-of-type {\n",
       "        vertical-align: middle;\n",
       "    }\n",
       "\n",
       "    .dataframe tbody tr th {\n",
       "        vertical-align: top;\n",
       "    }\n",
       "\n",
       "    .dataframe thead th {\n",
       "        text-align: right;\n",
       "    }\n",
       "</style>\n",
       "<table border=\"1\" class=\"dataframe\">\n",
       "  <thead>\n",
       "    <tr style=\"text-align: right;\">\n",
       "      <th></th>\n",
       "      <th>A</th>\n",
       "      <th>B</th>\n",
       "    </tr>\n",
       "  </thead>\n",
       "  <tbody>\n",
       "    <tr>\n",
       "      <td>2019-01-23</td>\n",
       "      <td>-0.306401</td>\n",
       "      <td>-1.269466</td>\n",
       "    </tr>\n",
       "    <tr>\n",
       "      <td>2019-01-24</td>\n",
       "      <td>-0.241146</td>\n",
       "      <td>0.669355</td>\n",
       "    </tr>\n",
       "  </tbody>\n",
       "</table>\n",
       "</div>"
      ],
      "text/plain": [
       "                   A         B\n",
       "2019-01-23 -0.306401 -1.269466\n",
       "2019-01-24 -0.241146  0.669355"
      ]
     },
     "execution_count": 7,
     "metadata": {},
     "output_type": "execute_result"
    }
   ],
   "source": [
    "# dataFrame으로\n",
    "\n",
    "data = np.random.randn(2,2)\n",
    "cols = ['A','B']\n",
    "\n",
    "df = pd.DataFrame(data=data, index=dt_index, columns=cols)\n",
    "df"
   ]
  },
  {
   "cell_type": "markdown",
   "metadata": {},
   "source": [
    "### Resampling\n",
    "\n",
    "> offset alias> https://pandas.pydata.org/pandas-docs/stable/user_guide/timeseries.html "
   ]
  },
  {
   "cell_type": "code",
   "execution_count": 8,
   "metadata": {},
   "outputs": [],
   "source": [
    "df = pd.read_csv('./data/apple_stock.csv')"
   ]
  },
  {
   "cell_type": "code",
   "execution_count": 9,
   "metadata": {},
   "outputs": [
    {
     "data": {
      "text/html": [
       "<div>\n",
       "<style scoped>\n",
       "    .dataframe tbody tr th:only-of-type {\n",
       "        vertical-align: middle;\n",
       "    }\n",
       "\n",
       "    .dataframe tbody tr th {\n",
       "        vertical-align: top;\n",
       "    }\n",
       "\n",
       "    .dataframe thead th {\n",
       "        text-align: right;\n",
       "    }\n",
       "</style>\n",
       "<table border=\"1\" class=\"dataframe\">\n",
       "  <thead>\n",
       "    <tr style=\"text-align: right;\">\n",
       "      <th></th>\n",
       "      <th>Date</th>\n",
       "      <th>High</th>\n",
       "      <th>Low</th>\n",
       "      <th>Open</th>\n",
       "      <th>Close</th>\n",
       "      <th>Volume</th>\n",
       "      <th>Adj Close</th>\n",
       "    </tr>\n",
       "  </thead>\n",
       "  <tbody>\n",
       "    <tr>\n",
       "      <td>0</td>\n",
       "      <td>2009-12-31</td>\n",
       "      <td>30.478571</td>\n",
       "      <td>30.080000</td>\n",
       "      <td>30.447144</td>\n",
       "      <td>30.104286</td>\n",
       "      <td>88102700.0</td>\n",
       "      <td>20.159719</td>\n",
       "    </tr>\n",
       "    <tr>\n",
       "      <td>1</td>\n",
       "      <td>2010-01-04</td>\n",
       "      <td>30.642857</td>\n",
       "      <td>30.340000</td>\n",
       "      <td>30.490000</td>\n",
       "      <td>30.572857</td>\n",
       "      <td>123432400.0</td>\n",
       "      <td>20.473503</td>\n",
       "    </tr>\n",
       "    <tr>\n",
       "      <td>2</td>\n",
       "      <td>2010-01-05</td>\n",
       "      <td>30.798571</td>\n",
       "      <td>30.464285</td>\n",
       "      <td>30.657143</td>\n",
       "      <td>30.625713</td>\n",
       "      <td>150476200.0</td>\n",
       "      <td>20.508902</td>\n",
       "    </tr>\n",
       "    <tr>\n",
       "      <td>3</td>\n",
       "      <td>2010-01-06</td>\n",
       "      <td>30.747143</td>\n",
       "      <td>30.107143</td>\n",
       "      <td>30.625713</td>\n",
       "      <td>30.138571</td>\n",
       "      <td>138040000.0</td>\n",
       "      <td>20.182680</td>\n",
       "    </tr>\n",
       "    <tr>\n",
       "      <td>4</td>\n",
       "      <td>2010-01-07</td>\n",
       "      <td>30.285715</td>\n",
       "      <td>29.864286</td>\n",
       "      <td>30.250000</td>\n",
       "      <td>30.082857</td>\n",
       "      <td>119282800.0</td>\n",
       "      <td>20.145369</td>\n",
       "    </tr>\n",
       "  </tbody>\n",
       "</table>\n",
       "</div>"
      ],
      "text/plain": [
       "         Date       High        Low       Open      Close       Volume  \\\n",
       "0  2009-12-31  30.478571  30.080000  30.447144  30.104286   88102700.0   \n",
       "1  2010-01-04  30.642857  30.340000  30.490000  30.572857  123432400.0   \n",
       "2  2010-01-05  30.798571  30.464285  30.657143  30.625713  150476200.0   \n",
       "3  2010-01-06  30.747143  30.107143  30.625713  30.138571  138040000.0   \n",
       "4  2010-01-07  30.285715  29.864286  30.250000  30.082857  119282800.0   \n",
       "\n",
       "   Adj Close  \n",
       "0  20.159719  \n",
       "1  20.473503  \n",
       "2  20.508902  \n",
       "3  20.182680  \n",
       "4  20.145369  "
      ]
     },
     "execution_count": 9,
     "metadata": {},
     "output_type": "execute_result"
    }
   ],
   "source": [
    "df.head()"
   ]
  },
  {
   "cell_type": "code",
   "execution_count": 10,
   "metadata": {},
   "outputs": [
    {
     "name": "stdout",
     "output_type": "stream",
     "text": [
      "<class 'pandas.core.frame.DataFrame'>\n",
      "RangeIndex: 2265 entries, 0 to 2264\n",
      "Data columns (total 7 columns):\n",
      "Date         2265 non-null object\n",
      "High         2265 non-null float64\n",
      "Low          2265 non-null float64\n",
      "Open         2265 non-null float64\n",
      "Close        2265 non-null float64\n",
      "Volume       2265 non-null float64\n",
      "Adj Close    2265 non-null float64\n",
      "dtypes: float64(6), object(1)\n",
      "memory usage: 124.0+ KB\n"
     ]
    }
   ],
   "source": [
    "df.info()\n",
    "\n",
    "# Date 컬럼이 현재 obj 타입임"
   ]
  },
  {
   "cell_type": "code",
   "execution_count": 11,
   "metadata": {},
   "outputs": [],
   "source": [
    "# DateTime으로 변환\n",
    "\n",
    "# 1.\n",
    "df['Date'] = df['Date'].apply(pd.to_datetime)\n",
    "df.set_index('Date', inplace=True) # Date를 인덱스로"
   ]
  },
  {
   "cell_type": "markdown",
   "metadata": {},
   "source": [
    "![offsetalias](https://user-images.githubusercontent.com/35517797/66108168-f49d9c80-e5fc-11e9-9631-83aeea2bec4f.PNG)"
   ]
  },
  {
   "cell_type": "code",
   "execution_count": 12,
   "metadata": {},
   "outputs": [
    {
     "data": {
      "text/html": [
       "<div>\n",
       "<style scoped>\n",
       "    .dataframe tbody tr th:only-of-type {\n",
       "        vertical-align: middle;\n",
       "    }\n",
       "\n",
       "    .dataframe tbody tr th {\n",
       "        vertical-align: top;\n",
       "    }\n",
       "\n",
       "    .dataframe thead th {\n",
       "        text-align: right;\n",
       "    }\n",
       "</style>\n",
       "<table border=\"1\" class=\"dataframe\">\n",
       "  <thead>\n",
       "    <tr style=\"text-align: right;\">\n",
       "      <th></th>\n",
       "      <th>High</th>\n",
       "      <th>Low</th>\n",
       "      <th>Open</th>\n",
       "      <th>Close</th>\n",
       "      <th>Volume</th>\n",
       "      <th>Adj Close</th>\n",
       "    </tr>\n",
       "    <tr>\n",
       "      <th>Date</th>\n",
       "      <th></th>\n",
       "      <th></th>\n",
       "      <th></th>\n",
       "      <th></th>\n",
       "      <th></th>\n",
       "      <th></th>\n",
       "    </tr>\n",
       "  </thead>\n",
       "  <tbody>\n",
       "    <tr>\n",
       "      <td>2009-12-31</td>\n",
       "      <td>30.478571</td>\n",
       "      <td>30.080000</td>\n",
       "      <td>30.447144</td>\n",
       "      <td>30.104286</td>\n",
       "      <td>8.810270e+07</td>\n",
       "      <td>20.159719</td>\n",
       "    </tr>\n",
       "    <tr>\n",
       "      <td>2010-12-31</td>\n",
       "      <td>9445.277117</td>\n",
       "      <td>9246.514246</td>\n",
       "      <td>9358.474289</td>\n",
       "      <td>9354.328560</td>\n",
       "      <td>3.775623e+10</td>\n",
       "      <td>6264.245874</td>\n",
       "    </tr>\n",
       "    <tr>\n",
       "      <td>2011-12-31</td>\n",
       "      <td>13227.248539</td>\n",
       "      <td>12970.717155</td>\n",
       "      <td>13106.211399</td>\n",
       "      <td>13104.155712</td>\n",
       "      <td>3.101483e+10</td>\n",
       "      <td>8775.365667</td>\n",
       "    </tr>\n",
       "    <tr>\n",
       "      <td>2012-12-31</td>\n",
       "      <td>20779.478600</td>\n",
       "      <td>20354.327164</td>\n",
       "      <td>20594.740028</td>\n",
       "      <td>20573.204269</td>\n",
       "      <td>3.299105e+10</td>\n",
       "      <td>14019.096821</td>\n",
       "    </tr>\n",
       "    <tr>\n",
       "      <td>2013-12-31</td>\n",
       "      <td>17195.001381</td>\n",
       "      <td>16856.895695</td>\n",
       "      <td>17032.612881</td>\n",
       "      <td>17014.855690</td>\n",
       "      <td>2.560539e+10</td>\n",
       "      <td>13377.068882</td>\n",
       "    </tr>\n",
       "    <tr>\n",
       "      <td>2014-12-31</td>\n",
       "      <td>23439.191429</td>\n",
       "      <td>23051.835686</td>\n",
       "      <td>23239.397186</td>\n",
       "      <td>23250.692886</td>\n",
       "      <td>1.591449e+10</td>\n",
       "      <td>21242.415085</td>\n",
       "    </tr>\n",
       "    <tr>\n",
       "      <td>2015-12-31</td>\n",
       "      <td>30553.620010</td>\n",
       "      <td>29953.500031</td>\n",
       "      <td>30284.289993</td>\n",
       "      <td>30250.079948</td>\n",
       "      <td>1.306315e+10</td>\n",
       "      <td>28458.719048</td>\n",
       "    </tr>\n",
       "    <tr>\n",
       "      <td>2016-12-31</td>\n",
       "      <td>26567.650009</td>\n",
       "      <td>26129.949989</td>\n",
       "      <td>26335.959984</td>\n",
       "      <td>26360.209991</td>\n",
       "      <td>9.680622e+09</td>\n",
       "      <td>25313.373260</td>\n",
       "    </tr>\n",
       "    <tr>\n",
       "      <td>2017-12-31</td>\n",
       "      <td>38002.920044</td>\n",
       "      <td>37521.400078</td>\n",
       "      <td>37761.670013</td>\n",
       "      <td>37788.319946</td>\n",
       "      <td>6.810426e+09</td>\n",
       "      <td>36972.054916</td>\n",
       "    </tr>\n",
       "    <tr>\n",
       "      <td>2018-12-31</td>\n",
       "      <td>47939.520004</td>\n",
       "      <td>46983.060043</td>\n",
       "      <td>47463.110077</td>\n",
       "      <td>47452.410126</td>\n",
       "      <td>8.537986e+09</td>\n",
       "      <td>47134.853607</td>\n",
       "    </tr>\n",
       "  </tbody>\n",
       "</table>\n",
       "</div>"
      ],
      "text/plain": [
       "                    High           Low          Open         Close  \\\n",
       "Date                                                                 \n",
       "2009-12-31     30.478571     30.080000     30.447144     30.104286   \n",
       "2010-12-31   9445.277117   9246.514246   9358.474289   9354.328560   \n",
       "2011-12-31  13227.248539  12970.717155  13106.211399  13104.155712   \n",
       "2012-12-31  20779.478600  20354.327164  20594.740028  20573.204269   \n",
       "2013-12-31  17195.001381  16856.895695  17032.612881  17014.855690   \n",
       "2014-12-31  23439.191429  23051.835686  23239.397186  23250.692886   \n",
       "2015-12-31  30553.620010  29953.500031  30284.289993  30250.079948   \n",
       "2016-12-31  26567.650009  26129.949989  26335.959984  26360.209991   \n",
       "2017-12-31  38002.920044  37521.400078  37761.670013  37788.319946   \n",
       "2018-12-31  47939.520004  46983.060043  47463.110077  47452.410126   \n",
       "\n",
       "                  Volume     Adj Close  \n",
       "Date                                    \n",
       "2009-12-31  8.810270e+07     20.159719  \n",
       "2010-12-31  3.775623e+10   6264.245874  \n",
       "2011-12-31  3.101483e+10   8775.365667  \n",
       "2012-12-31  3.299105e+10  14019.096821  \n",
       "2013-12-31  2.560539e+10  13377.068882  \n",
       "2014-12-31  1.591449e+10  21242.415085  \n",
       "2015-12-31  1.306315e+10  28458.719048  \n",
       "2016-12-31  9.680622e+09  25313.373260  \n",
       "2017-12-31  6.810426e+09  36972.054916  \n",
       "2018-12-31  8.537986e+09  47134.853607  "
      ]
     },
     "execution_count": 12,
     "metadata": {},
     "output_type": "execute_result"
    }
   ],
   "source": [
    "# A -> 매년 12월31일 기준\n",
    "df.resample(rule='A').sum()"
   ]
  },
  {
   "cell_type": "code",
   "execution_count": 13,
   "metadata": {},
   "outputs": [
    {
     "data": {
      "text/html": [
       "<div>\n",
       "<style scoped>\n",
       "    .dataframe tbody tr th:only-of-type {\n",
       "        vertical-align: middle;\n",
       "    }\n",
       "\n",
       "    .dataframe tbody tr th {\n",
       "        vertical-align: top;\n",
       "    }\n",
       "\n",
       "    .dataframe thead th {\n",
       "        text-align: right;\n",
       "    }\n",
       "</style>\n",
       "<table border=\"1\" class=\"dataframe\">\n",
       "  <thead>\n",
       "    <tr style=\"text-align: right;\">\n",
       "      <th></th>\n",
       "      <th>High</th>\n",
       "      <th>Low</th>\n",
       "      <th>Open</th>\n",
       "      <th>Close</th>\n",
       "      <th>Volume</th>\n",
       "      <th>Adj Close</th>\n",
       "    </tr>\n",
       "    <tr>\n",
       "      <th>Date</th>\n",
       "      <th></th>\n",
       "      <th></th>\n",
       "      <th></th>\n",
       "      <th></th>\n",
       "      <th></th>\n",
       "      <th></th>\n",
       "    </tr>\n",
       "  </thead>\n",
       "  <tbody>\n",
       "    <tr>\n",
       "      <td>2009-12-31</td>\n",
       "      <td>30.478571</td>\n",
       "      <td>30.08</td>\n",
       "      <td>30.447144</td>\n",
       "      <td>30.104286</td>\n",
       "      <td>88102700.0</td>\n",
       "      <td>20.159719</td>\n",
       "    </tr>\n",
       "  </tbody>\n",
       "</table>\n",
       "</div>"
      ],
      "text/plain": [
       "                 High    Low       Open      Close      Volume  Adj Close\n",
       "Date                                                                     \n",
       "2009-12-31  30.478571  30.08  30.447144  30.104286  88102700.0  20.159719"
      ]
     },
     "execution_count": 13,
     "metadata": {},
     "output_type": "execute_result"
    }
   ],
   "source": [
    "# 확장\n",
    "# 특정년도만 \n",
    "df.resample(rule='A').sum()['2009']"
   ]
  },
  {
   "cell_type": "code",
   "execution_count": 14,
   "metadata": {
    "scrolled": false
   },
   "outputs": [
    {
     "data": {
      "text/html": [
       "<div>\n",
       "<style scoped>\n",
       "    .dataframe tbody tr th:only-of-type {\n",
       "        vertical-align: middle;\n",
       "    }\n",
       "\n",
       "    .dataframe tbody tr th {\n",
       "        vertical-align: top;\n",
       "    }\n",
       "\n",
       "    .dataframe thead th {\n",
       "        text-align: right;\n",
       "    }\n",
       "</style>\n",
       "<table border=\"1\" class=\"dataframe\">\n",
       "  <thead>\n",
       "    <tr style=\"text-align: right;\">\n",
       "      <th></th>\n",
       "      <th>High</th>\n",
       "      <th>Low</th>\n",
       "      <th>Open</th>\n",
       "      <th>Close</th>\n",
       "      <th>Volume</th>\n",
       "      <th>Adj Close</th>\n",
       "    </tr>\n",
       "    <tr>\n",
       "      <th>Date</th>\n",
       "      <th></th>\n",
       "      <th></th>\n",
       "      <th></th>\n",
       "      <th></th>\n",
       "      <th></th>\n",
       "      <th></th>\n",
       "    </tr>\n",
       "  </thead>\n",
       "  <tbody>\n",
       "    <tr>\n",
       "      <td>2009-12-31</td>\n",
       "      <td>30.478571</td>\n",
       "      <td>30.080000</td>\n",
       "      <td>30.447144</td>\n",
       "      <td>30.104286</td>\n",
       "      <td>88102700.0</td>\n",
       "      <td>20.159719</td>\n",
       "    </tr>\n",
       "    <tr>\n",
       "      <td>2010-12-31</td>\n",
       "      <td>30.642857</td>\n",
       "      <td>30.340000</td>\n",
       "      <td>30.490000</td>\n",
       "      <td>30.572857</td>\n",
       "      <td>123432400.0</td>\n",
       "      <td>20.473503</td>\n",
       "    </tr>\n",
       "    <tr>\n",
       "      <td>2011-12-31</td>\n",
       "      <td>47.180000</td>\n",
       "      <td>46.405716</td>\n",
       "      <td>46.520000</td>\n",
       "      <td>47.081429</td>\n",
       "      <td>111284600.0</td>\n",
       "      <td>31.528688</td>\n",
       "    </tr>\n",
       "    <tr>\n",
       "      <td>2012-12-31</td>\n",
       "      <td>58.928570</td>\n",
       "      <td>58.428570</td>\n",
       "      <td>58.485714</td>\n",
       "      <td>58.747143</td>\n",
       "      <td>75555200.0</td>\n",
       "      <td>39.340778</td>\n",
       "    </tr>\n",
       "    <tr>\n",
       "      <td>2013-12-31</td>\n",
       "      <td>79.285713</td>\n",
       "      <td>77.375717</td>\n",
       "      <td>79.117142</td>\n",
       "      <td>78.432854</td>\n",
       "      <td>140129500.0</td>\n",
       "      <td>55.923737</td>\n",
       "    </tr>\n",
       "    <tr>\n",
       "      <td>2014-12-31</td>\n",
       "      <td>79.575714</td>\n",
       "      <td>78.860001</td>\n",
       "      <td>79.382858</td>\n",
       "      <td>79.018570</td>\n",
       "      <td>58671200.0</td>\n",
       "      <td>67.251503</td>\n",
       "    </tr>\n",
       "    <tr>\n",
       "      <td>2015-12-31</td>\n",
       "      <td>111.440002</td>\n",
       "      <td>107.349998</td>\n",
       "      <td>111.389999</td>\n",
       "      <td>109.330002</td>\n",
       "      <td>53204600.0</td>\n",
       "      <td>101.963631</td>\n",
       "    </tr>\n",
       "    <tr>\n",
       "      <td>2016-12-31</td>\n",
       "      <td>105.370003</td>\n",
       "      <td>102.000000</td>\n",
       "      <td>102.610001</td>\n",
       "      <td>105.349998</td>\n",
       "      <td>67649400.0</td>\n",
       "      <td>99.925850</td>\n",
       "    </tr>\n",
       "    <tr>\n",
       "      <td>2017-12-31</td>\n",
       "      <td>116.330002</td>\n",
       "      <td>114.760002</td>\n",
       "      <td>115.800003</td>\n",
       "      <td>116.150002</td>\n",
       "      <td>28781900.0</td>\n",
       "      <td>112.620964</td>\n",
       "    </tr>\n",
       "    <tr>\n",
       "      <td>2018-12-31</td>\n",
       "      <td>172.300003</td>\n",
       "      <td>169.259995</td>\n",
       "      <td>170.160004</td>\n",
       "      <td>172.259995</td>\n",
       "      <td>25555900.0</td>\n",
       "      <td>169.712067</td>\n",
       "    </tr>\n",
       "  </tbody>\n",
       "</table>\n",
       "</div>"
      ],
      "text/plain": [
       "                  High         Low        Open       Close       Volume  \\\n",
       "Date                                                                      \n",
       "2009-12-31   30.478571   30.080000   30.447144   30.104286   88102700.0   \n",
       "2010-12-31   30.642857   30.340000   30.490000   30.572857  123432400.0   \n",
       "2011-12-31   47.180000   46.405716   46.520000   47.081429  111284600.0   \n",
       "2012-12-31   58.928570   58.428570   58.485714   58.747143   75555200.0   \n",
       "2013-12-31   79.285713   77.375717   79.117142   78.432854  140129500.0   \n",
       "2014-12-31   79.575714   78.860001   79.382858   79.018570   58671200.0   \n",
       "2015-12-31  111.440002  107.349998  111.389999  109.330002   53204600.0   \n",
       "2016-12-31  105.370003  102.000000  102.610001  105.349998   67649400.0   \n",
       "2017-12-31  116.330002  114.760002  115.800003  116.150002   28781900.0   \n",
       "2018-12-31  172.300003  169.259995  170.160004  172.259995   25555900.0   \n",
       "\n",
       "             Adj Close  \n",
       "Date                    \n",
       "2009-12-31   20.159719  \n",
       "2010-12-31   20.473503  \n",
       "2011-12-31   31.528688  \n",
       "2012-12-31   39.340778  \n",
       "2013-12-31   55.923737  \n",
       "2014-12-31   67.251503  \n",
       "2015-12-31  101.963631  \n",
       "2016-12-31   99.925850  \n",
       "2017-12-31  112.620964  \n",
       "2018-12-31  169.712067  "
      ]
     },
     "execution_count": 14,
     "metadata": {},
     "output_type": "execute_result"
    }
   ],
   "source": [
    "# alis customize\n",
    "# 매해의 12월1일 기준 resampling하기\n",
    "\n",
    "def first_day(sample):\n",
    "    return sample[0]\n",
    "\n",
    "df.resample(rule='A').apply(first_day)"
   ]
  },
  {
   "cell_type": "code",
   "execution_count": 15,
   "metadata": {},
   "outputs": [
    {
     "data": {
      "text/plain": [
       "<matplotlib.axes._subplots.AxesSubplot at 0x2bd52978248>"
      ]
     },
     "execution_count": 15,
     "metadata": {},
     "output_type": "execute_result"
    },
    {
     "data": {
      "image/png": "[encoded data removed]",
      "text/plain": [
       "<Figure size 432x288 with 1 Axes>"
      ]
     },
     "metadata": {
      "needs_background": "light"
     },
     "output_type": "display_data"
    }
   ],
   "source": [
    "# 종가의 연평균 시각화\n",
    "df['Close'].resample(rule='A').mean().plot(kind='bar')"
   ]
  },
  {
   "cell_type": "code",
   "execution_count": 16,
   "metadata": {},
   "outputs": [
    {
     "data": {
      "text/plain": [
       "<matplotlib.axes._subplots.AxesSubplot at 0x2bd52d4d448>"
      ]
     },
     "execution_count": 16,
     "metadata": {},
     "output_type": "execute_result"
    },
    {
     "data": {
      "image/png": "[encoded data removed]",
      "text/plain": [
       "<Figure size 1080x576 with 1 Axes>"
      ]
     },
     "metadata": {
      "needs_background": "light"
     },
     "output_type": "display_data"
    }
   ],
   "source": [
    "# 월별 open가의 최대값 시각화\n",
    "# df['Open'].resample(rule='M').max().plot(kind='bar', figsize=(15,8))\n",
    "\n",
    "# 범위제한하기 # 2015년 이후 월별 open가격 최대값 시각화\n",
    "df['Open']['2015':].resample(rule='M').max().plot(kind='bar', figsize=(15,8))"
   ]
  },
  {
   "cell_type": "code",
   "execution_count": 17,
   "metadata": {},
   "outputs": [],
   "source": [
    "daily_daterange = pd.date_range(start=datetime(2018,9,1),end=datetime(2019,1,24),freq='B') # freq='B' => 영업일만(주말제외)\n",
    "\n",
    "daily_dataset = pd.DataFrame({'value' : np.random.rand(len(daily_daterange))},index=daily_daterange)"
   ]
  },
  {
   "cell_type": "code",
   "execution_count": 18,
   "metadata": {},
   "outputs": [
    {
     "data": {
      "text/html": [
       "<div>\n",
       "<style scoped>\n",
       "    .dataframe tbody tr th:only-of-type {\n",
       "        vertical-align: middle;\n",
       "    }\n",
       "\n",
       "    .dataframe tbody tr th {\n",
       "        vertical-align: top;\n",
       "    }\n",
       "\n",
       "    .dataframe thead th {\n",
       "        text-align: right;\n",
       "    }\n",
       "</style>\n",
       "<table border=\"1\" class=\"dataframe\">\n",
       "  <thead>\n",
       "    <tr style=\"text-align: right;\">\n",
       "      <th></th>\n",
       "      <th>value</th>\n",
       "    </tr>\n",
       "  </thead>\n",
       "  <tbody>\n",
       "    <tr>\n",
       "      <td>2018-09-03</td>\n",
       "      <td>0.729862</td>\n",
       "    </tr>\n",
       "    <tr>\n",
       "      <td>2018-09-04</td>\n",
       "      <td>0.570812</td>\n",
       "    </tr>\n",
       "    <tr>\n",
       "      <td>2018-09-05</td>\n",
       "      <td>0.500962</td>\n",
       "    </tr>\n",
       "    <tr>\n",
       "      <td>2018-09-06</td>\n",
       "      <td>0.699942</td>\n",
       "    </tr>\n",
       "    <tr>\n",
       "      <td>2018-09-07</td>\n",
       "      <td>0.366571</td>\n",
       "    </tr>\n",
       "    <tr>\n",
       "      <td>...</td>\n",
       "      <td>...</td>\n",
       "    </tr>\n",
       "    <tr>\n",
       "      <td>2019-01-18</td>\n",
       "      <td>0.628716</td>\n",
       "    </tr>\n",
       "    <tr>\n",
       "      <td>2019-01-21</td>\n",
       "      <td>0.822057</td>\n",
       "    </tr>\n",
       "    <tr>\n",
       "      <td>2019-01-22</td>\n",
       "      <td>0.610595</td>\n",
       "    </tr>\n",
       "    <tr>\n",
       "      <td>2019-01-23</td>\n",
       "      <td>0.359000</td>\n",
       "    </tr>\n",
       "    <tr>\n",
       "      <td>2019-01-24</td>\n",
       "      <td>0.157524</td>\n",
       "    </tr>\n",
       "  </tbody>\n",
       "</table>\n",
       "<p>104 rows × 1 columns</p>\n",
       "</div>"
      ],
      "text/plain": [
       "               value\n",
       "2018-09-03  0.729862\n",
       "2018-09-04  0.570812\n",
       "2018-09-05  0.500962\n",
       "2018-09-06  0.699942\n",
       "2018-09-07  0.366571\n",
       "...              ...\n",
       "2019-01-18  0.628716\n",
       "2019-01-21  0.822057\n",
       "2019-01-22  0.610595\n",
       "2019-01-23  0.359000\n",
       "2019-01-24  0.157524\n",
       "\n",
       "[104 rows x 1 columns]"
      ]
     },
     "execution_count": 18,
     "metadata": {},
     "output_type": "execute_result"
    }
   ],
   "source": [
    "daily_dataset"
   ]
  },
  {
   "cell_type": "code",
   "execution_count": 19,
   "metadata": {},
   "outputs": [
    {
     "data": {
      "text/html": [
       "<div>\n",
       "<style scoped>\n",
       "    .dataframe tbody tr th:only-of-type {\n",
       "        vertical-align: middle;\n",
       "    }\n",
       "\n",
       "    .dataframe tbody tr th {\n",
       "        vertical-align: top;\n",
       "    }\n",
       "\n",
       "    .dataframe thead th {\n",
       "        text-align: right;\n",
       "    }\n",
       "</style>\n",
       "<table border=\"1\" class=\"dataframe\">\n",
       "  <thead>\n",
       "    <tr style=\"text-align: right;\">\n",
       "      <th></th>\n",
       "      <th>value</th>\n",
       "    </tr>\n",
       "  </thead>\n",
       "  <tbody>\n",
       "    <tr>\n",
       "      <td>2018-09-03</td>\n",
       "      <td>0.729862</td>\n",
       "    </tr>\n",
       "    <tr>\n",
       "      <td>2018-09-10</td>\n",
       "      <td>0.366571</td>\n",
       "    </tr>\n",
       "    <tr>\n",
       "      <td>2018-09-17</td>\n",
       "      <td>0.288426</td>\n",
       "    </tr>\n",
       "    <tr>\n",
       "      <td>2018-09-24</td>\n",
       "      <td>0.006869</td>\n",
       "    </tr>\n",
       "    <tr>\n",
       "      <td>2018-10-01</td>\n",
       "      <td>0.270755</td>\n",
       "    </tr>\n",
       "    <tr>\n",
       "      <td>2018-10-08</td>\n",
       "      <td>0.000655</td>\n",
       "    </tr>\n",
       "    <tr>\n",
       "      <td>2018-10-15</td>\n",
       "      <td>0.076598</td>\n",
       "    </tr>\n",
       "    <tr>\n",
       "      <td>2018-10-22</td>\n",
       "      <td>0.143384</td>\n",
       "    </tr>\n",
       "    <tr>\n",
       "      <td>2018-10-29</td>\n",
       "      <td>0.061477</td>\n",
       "    </tr>\n",
       "    <tr>\n",
       "      <td>2018-11-05</td>\n",
       "      <td>0.144785</td>\n",
       "    </tr>\n",
       "    <tr>\n",
       "      <td>2018-11-12</td>\n",
       "      <td>0.031497</td>\n",
       "    </tr>\n",
       "    <tr>\n",
       "      <td>2018-11-19</td>\n",
       "      <td>0.002726</td>\n",
       "    </tr>\n",
       "    <tr>\n",
       "      <td>2018-11-26</td>\n",
       "      <td>0.179096</td>\n",
       "    </tr>\n",
       "    <tr>\n",
       "      <td>2018-12-03</td>\n",
       "      <td>0.225865</td>\n",
       "    </tr>\n",
       "    <tr>\n",
       "      <td>2018-12-10</td>\n",
       "      <td>0.089435</td>\n",
       "    </tr>\n",
       "    <tr>\n",
       "      <td>2018-12-17</td>\n",
       "      <td>0.249590</td>\n",
       "    </tr>\n",
       "    <tr>\n",
       "      <td>2018-12-24</td>\n",
       "      <td>0.050081</td>\n",
       "    </tr>\n",
       "    <tr>\n",
       "      <td>2018-12-31</td>\n",
       "      <td>0.083546</td>\n",
       "    </tr>\n",
       "    <tr>\n",
       "      <td>2019-01-07</td>\n",
       "      <td>0.048026</td>\n",
       "    </tr>\n",
       "    <tr>\n",
       "      <td>2019-01-14</td>\n",
       "      <td>0.145392</td>\n",
       "    </tr>\n",
       "    <tr>\n",
       "      <td>2019-01-21</td>\n",
       "      <td>0.022746</td>\n",
       "    </tr>\n",
       "    <tr>\n",
       "      <td>2019-01-28</td>\n",
       "      <td>0.157524</td>\n",
       "    </tr>\n",
       "  </tbody>\n",
       "</table>\n",
       "</div>"
      ],
      "text/plain": [
       "               value\n",
       "2018-09-03  0.729862\n",
       "2018-09-10  0.366571\n",
       "2018-09-17  0.288426\n",
       "2018-09-24  0.006869\n",
       "2018-10-01  0.270755\n",
       "2018-10-08  0.000655\n",
       "2018-10-15  0.076598\n",
       "2018-10-22  0.143384\n",
       "2018-10-29  0.061477\n",
       "2018-11-05  0.144785\n",
       "2018-11-12  0.031497\n",
       "2018-11-19  0.002726\n",
       "2018-11-26  0.179096\n",
       "2018-12-03  0.225865\n",
       "2018-12-10  0.089435\n",
       "2018-12-17  0.249590\n",
       "2018-12-24  0.050081\n",
       "2018-12-31  0.083546\n",
       "2019-01-07  0.048026\n",
       "2019-01-14  0.145392\n",
       "2019-01-21  0.022746\n",
       "2019-01-28  0.157524"
      ]
     },
     "execution_count": 19,
     "metadata": {},
     "output_type": "execute_result"
    }
   ],
   "source": [
    "# 해당주의 최소값을 월요일(해당주)에 할당하기\n",
    "# 'W-MON' => weekly,monthly\n",
    "\n",
    "daily_dataset.resample(rule='W-MON').min()"
   ]
  },
  {
   "cell_type": "code",
   "execution_count": 20,
   "metadata": {},
   "outputs": [
    {
     "data": {
      "text/html": [
       "<div>\n",
       "<style scoped>\n",
       "    .dataframe tbody tr th:only-of-type {\n",
       "        vertical-align: middle;\n",
       "    }\n",
       "\n",
       "    .dataframe tbody tr th {\n",
       "        vertical-align: top;\n",
       "    }\n",
       "\n",
       "    .dataframe thead th {\n",
       "        text-align: right;\n",
       "    }\n",
       "</style>\n",
       "<table border=\"1\" class=\"dataframe\">\n",
       "  <thead>\n",
       "    <tr style=\"text-align: right;\">\n",
       "      <th></th>\n",
       "      <th>value</th>\n",
       "    </tr>\n",
       "  </thead>\n",
       "  <tbody>\n",
       "    <tr>\n",
       "      <td>2018-09-30</td>\n",
       "      <td>0.006869</td>\n",
       "    </tr>\n",
       "    <tr>\n",
       "      <td>2018-10-31</td>\n",
       "      <td>0.000655</td>\n",
       "    </tr>\n",
       "    <tr>\n",
       "      <td>2018-11-30</td>\n",
       "      <td>0.002726</td>\n",
       "    </tr>\n",
       "    <tr>\n",
       "      <td>2018-12-31</td>\n",
       "      <td>0.050081</td>\n",
       "    </tr>\n",
       "    <tr>\n",
       "      <td>2019-01-31</td>\n",
       "      <td>0.022746</td>\n",
       "    </tr>\n",
       "  </tbody>\n",
       "</table>\n",
       "</div>"
      ],
      "text/plain": [
       "               value\n",
       "2018-09-30  0.006869\n",
       "2018-10-31  0.000655\n",
       "2018-11-30  0.002726\n",
       "2018-12-31  0.050081\n",
       "2019-01-31  0.022746"
      ]
     },
     "execution_count": 20,
     "metadata": {},
     "output_type": "execute_result"
    }
   ],
   "source": [
    "# 해당월의 마지막날에ㅡ 해당월의 최소값 할당하기\n",
    "# 기본적으로 마지막날 선택됨\n",
    "\n",
    "daily_dataset.resample(rule='M').min()"
   ]
  },
  {
   "cell_type": "markdown",
   "metadata": {},
   "source": [
    "### Shifting"
   ]
  },
  {
   "cell_type": "code",
   "execution_count": 21,
   "metadata": {},
   "outputs": [],
   "source": [
    "df = pd.read_csv('./data/apple_stock.csv', index_col='Date')\n",
    "df.index = pd.to_datetime(df.index)"
   ]
  },
  {
   "cell_type": "code",
   "execution_count": 22,
   "metadata": {},
   "outputs": [
    {
     "data": {
      "text/html": [
       "<div>\n",
       "<style scoped>\n",
       "    .dataframe tbody tr th:only-of-type {\n",
       "        vertical-align: middle;\n",
       "    }\n",
       "\n",
       "    .dataframe tbody tr th {\n",
       "        vertical-align: top;\n",
       "    }\n",
       "\n",
       "    .dataframe thead th {\n",
       "        text-align: right;\n",
       "    }\n",
       "</style>\n",
       "<table border=\"1\" class=\"dataframe\">\n",
       "  <thead>\n",
       "    <tr style=\"text-align: right;\">\n",
       "      <th></th>\n",
       "      <th>High</th>\n",
       "      <th>Low</th>\n",
       "      <th>Open</th>\n",
       "      <th>Close</th>\n",
       "      <th>Volume</th>\n",
       "      <th>Adj Close</th>\n",
       "    </tr>\n",
       "    <tr>\n",
       "      <th>Date</th>\n",
       "      <th></th>\n",
       "      <th></th>\n",
       "      <th></th>\n",
       "      <th></th>\n",
       "      <th></th>\n",
       "      <th></th>\n",
       "    </tr>\n",
       "  </thead>\n",
       "  <tbody>\n",
       "    <tr>\n",
       "      <td>2009-12-31</td>\n",
       "      <td>30.478571</td>\n",
       "      <td>30.080000</td>\n",
       "      <td>30.447144</td>\n",
       "      <td>30.104286</td>\n",
       "      <td>88102700.0</td>\n",
       "      <td>20.159719</td>\n",
       "    </tr>\n",
       "    <tr>\n",
       "      <td>2010-01-04</td>\n",
       "      <td>30.642857</td>\n",
       "      <td>30.340000</td>\n",
       "      <td>30.490000</td>\n",
       "      <td>30.572857</td>\n",
       "      <td>123432400.0</td>\n",
       "      <td>20.473503</td>\n",
       "    </tr>\n",
       "    <tr>\n",
       "      <td>2010-01-05</td>\n",
       "      <td>30.798571</td>\n",
       "      <td>30.464285</td>\n",
       "      <td>30.657143</td>\n",
       "      <td>30.625713</td>\n",
       "      <td>150476200.0</td>\n",
       "      <td>20.508902</td>\n",
       "    </tr>\n",
       "    <tr>\n",
       "      <td>2010-01-06</td>\n",
       "      <td>30.747143</td>\n",
       "      <td>30.107143</td>\n",
       "      <td>30.625713</td>\n",
       "      <td>30.138571</td>\n",
       "      <td>138040000.0</td>\n",
       "      <td>20.182680</td>\n",
       "    </tr>\n",
       "    <tr>\n",
       "      <td>2010-01-07</td>\n",
       "      <td>30.285715</td>\n",
       "      <td>29.864286</td>\n",
       "      <td>30.250000</td>\n",
       "      <td>30.082857</td>\n",
       "      <td>119282800.0</td>\n",
       "      <td>20.145369</td>\n",
       "    </tr>\n",
       "  </tbody>\n",
       "</table>\n",
       "</div>"
      ],
      "text/plain": [
       "                 High        Low       Open      Close       Volume  Adj Close\n",
       "Date                                                                          \n",
       "2009-12-31  30.478571  30.080000  30.447144  30.104286   88102700.0  20.159719\n",
       "2010-01-04  30.642857  30.340000  30.490000  30.572857  123432400.0  20.473503\n",
       "2010-01-05  30.798571  30.464285  30.657143  30.625713  150476200.0  20.508902\n",
       "2010-01-06  30.747143  30.107143  30.625713  30.138571  138040000.0  20.182680\n",
       "2010-01-07  30.285715  29.864286  30.250000  30.082857  119282800.0  20.145369"
      ]
     },
     "execution_count": 22,
     "metadata": {},
     "output_type": "execute_result"
    }
   ],
   "source": [
    "df.head()"
   ]
  },
  {
   "cell_type": "code",
   "execution_count": 23,
   "metadata": {},
   "outputs": [
    {
     "data": {
      "text/html": [
       "<div>\n",
       "<style scoped>\n",
       "    .dataframe tbody tr th:only-of-type {\n",
       "        vertical-align: middle;\n",
       "    }\n",
       "\n",
       "    .dataframe tbody tr th {\n",
       "        vertical-align: top;\n",
       "    }\n",
       "\n",
       "    .dataframe thead th {\n",
       "        text-align: right;\n",
       "    }\n",
       "</style>\n",
       "<table border=\"1\" class=\"dataframe\">\n",
       "  <thead>\n",
       "    <tr style=\"text-align: right;\">\n",
       "      <th></th>\n",
       "      <th>High</th>\n",
       "      <th>Low</th>\n",
       "      <th>Open</th>\n",
       "      <th>Close</th>\n",
       "      <th>Volume</th>\n",
       "      <th>Adj Close</th>\n",
       "    </tr>\n",
       "    <tr>\n",
       "      <th>Date</th>\n",
       "      <th></th>\n",
       "      <th></th>\n",
       "      <th></th>\n",
       "      <th></th>\n",
       "      <th></th>\n",
       "      <th></th>\n",
       "    </tr>\n",
       "  </thead>\n",
       "  <tbody>\n",
       "    <tr>\n",
       "      <td>2009-12-31</td>\n",
       "      <td>NaN</td>\n",
       "      <td>NaN</td>\n",
       "      <td>NaN</td>\n",
       "      <td>NaN</td>\n",
       "      <td>NaN</td>\n",
       "      <td>NaN</td>\n",
       "    </tr>\n",
       "    <tr>\n",
       "      <td>2010-01-04</td>\n",
       "      <td>30.478571</td>\n",
       "      <td>30.080000</td>\n",
       "      <td>30.447144</td>\n",
       "      <td>30.104286</td>\n",
       "      <td>88102700.0</td>\n",
       "      <td>20.159719</td>\n",
       "    </tr>\n",
       "    <tr>\n",
       "      <td>2010-01-05</td>\n",
       "      <td>30.642857</td>\n",
       "      <td>30.340000</td>\n",
       "      <td>30.490000</td>\n",
       "      <td>30.572857</td>\n",
       "      <td>123432400.0</td>\n",
       "      <td>20.473503</td>\n",
       "    </tr>\n",
       "    <tr>\n",
       "      <td>2010-01-06</td>\n",
       "      <td>30.798571</td>\n",
       "      <td>30.464285</td>\n",
       "      <td>30.657143</td>\n",
       "      <td>30.625713</td>\n",
       "      <td>150476200.0</td>\n",
       "      <td>20.508902</td>\n",
       "    </tr>\n",
       "    <tr>\n",
       "      <td>2010-01-07</td>\n",
       "      <td>30.747143</td>\n",
       "      <td>30.107143</td>\n",
       "      <td>30.625713</td>\n",
       "      <td>30.138571</td>\n",
       "      <td>138040000.0</td>\n",
       "      <td>20.182680</td>\n",
       "    </tr>\n",
       "  </tbody>\n",
       "</table>\n",
       "</div>"
      ],
      "text/plain": [
       "                 High        Low       Open      Close       Volume  Adj Close\n",
       "Date                                                                          \n",
       "2009-12-31        NaN        NaN        NaN        NaN          NaN        NaN\n",
       "2010-01-04  30.478571  30.080000  30.447144  30.104286   88102700.0  20.159719\n",
       "2010-01-05  30.642857  30.340000  30.490000  30.572857  123432400.0  20.473503\n",
       "2010-01-06  30.798571  30.464285  30.657143  30.625713  150476200.0  20.508902\n",
       "2010-01-07  30.747143  30.107143  30.625713  30.138571  138040000.0  20.182680"
      ]
     },
     "execution_count": 23,
     "metadata": {},
     "output_type": "execute_result"
    }
   ],
   "source": [
    "# shifting 하기 \n",
    "# shift(1) 1만큼 이동\n",
    "# 기존일자는 nan값을 갖게됨 ( -1했을경우에는 아님. 뒤에 데이터가 앞으로)\n",
    "# 데이터 없어지는 단점.\n",
    "df.shift(1).head()"
   ]
  },
  {
   "cell_type": "markdown",
   "metadata": {},
   "source": [
    "### Rolling"
   ]
  },
  {
   "cell_type": "code",
   "execution_count": 24,
   "metadata": {},
   "outputs": [],
   "source": [
    "df = pd.read_csv('./data/apple_stock.csv', index_col='Date',parse_dates=['Date'])"
   ]
  },
  {
   "cell_type": "code",
   "execution_count": 25,
   "metadata": {},
   "outputs": [],
   "source": [
    "## 데이터 불러올시 datetime 형식이 다를경우 변경시켜 불러오기\n",
    "\n",
    "def dateparser(str_dt):\n",
    "    return pd.datetime.strptime(str_dt, \"%y-%m-%d\")\n",
    "\n",
    "# df = pd.read_csv('./data/apple_stock.csv',\n",
    "#                 index_col='Date',\n",
    "#                 parse_dates=['Date'],\n",
    "#                 date_parser=dateparser)"
   ]
  },
  {
   "cell_type": "code",
   "execution_count": 26,
   "metadata": {},
   "outputs": [
    {
     "data": {
      "text/html": [
       "<div>\n",
       "<style scoped>\n",
       "    .dataframe tbody tr th:only-of-type {\n",
       "        vertical-align: middle;\n",
       "    }\n",
       "\n",
       "    .dataframe tbody tr th {\n",
       "        vertical-align: top;\n",
       "    }\n",
       "\n",
       "    .dataframe thead th {\n",
       "        text-align: right;\n",
       "    }\n",
       "</style>\n",
       "<table border=\"1\" class=\"dataframe\">\n",
       "  <thead>\n",
       "    <tr style=\"text-align: right;\">\n",
       "      <th></th>\n",
       "      <th>High</th>\n",
       "      <th>Low</th>\n",
       "      <th>Open</th>\n",
       "      <th>Close</th>\n",
       "      <th>Volume</th>\n",
       "      <th>Adj Close</th>\n",
       "    </tr>\n",
       "    <tr>\n",
       "      <th>Date</th>\n",
       "      <th></th>\n",
       "      <th></th>\n",
       "      <th></th>\n",
       "      <th></th>\n",
       "      <th></th>\n",
       "      <th></th>\n",
       "    </tr>\n",
       "  </thead>\n",
       "  <tbody>\n",
       "    <tr>\n",
       "      <td>2009-12-31</td>\n",
       "      <td>30.478571</td>\n",
       "      <td>30.080000</td>\n",
       "      <td>30.447144</td>\n",
       "      <td>30.104286</td>\n",
       "      <td>88102700.0</td>\n",
       "      <td>20.159719</td>\n",
       "    </tr>\n",
       "    <tr>\n",
       "      <td>2010-01-04</td>\n",
       "      <td>30.642857</td>\n",
       "      <td>30.340000</td>\n",
       "      <td>30.490000</td>\n",
       "      <td>30.572857</td>\n",
       "      <td>123432400.0</td>\n",
       "      <td>20.473503</td>\n",
       "    </tr>\n",
       "    <tr>\n",
       "      <td>2010-01-05</td>\n",
       "      <td>30.798571</td>\n",
       "      <td>30.464285</td>\n",
       "      <td>30.657143</td>\n",
       "      <td>30.625713</td>\n",
       "      <td>150476200.0</td>\n",
       "      <td>20.508902</td>\n",
       "    </tr>\n",
       "    <tr>\n",
       "      <td>2010-01-06</td>\n",
       "      <td>30.747143</td>\n",
       "      <td>30.107143</td>\n",
       "      <td>30.625713</td>\n",
       "      <td>30.138571</td>\n",
       "      <td>138040000.0</td>\n",
       "      <td>20.182680</td>\n",
       "    </tr>\n",
       "    <tr>\n",
       "      <td>2010-01-07</td>\n",
       "      <td>30.285715</td>\n",
       "      <td>29.864286</td>\n",
       "      <td>30.250000</td>\n",
       "      <td>30.082857</td>\n",
       "      <td>119282800.0</td>\n",
       "      <td>20.145369</td>\n",
       "    </tr>\n",
       "    <tr>\n",
       "      <td>...</td>\n",
       "      <td>...</td>\n",
       "      <td>...</td>\n",
       "      <td>...</td>\n",
       "      <td>...</td>\n",
       "      <td>...</td>\n",
       "      <td>...</td>\n",
       "    </tr>\n",
       "    <tr>\n",
       "      <td>2018-12-24</td>\n",
       "      <td>151.550003</td>\n",
       "      <td>146.589996</td>\n",
       "      <td>148.149994</td>\n",
       "      <td>146.830002</td>\n",
       "      <td>37169200.0</td>\n",
       "      <td>146.830002</td>\n",
       "    </tr>\n",
       "    <tr>\n",
       "      <td>2018-12-26</td>\n",
       "      <td>157.229996</td>\n",
       "      <td>146.720001</td>\n",
       "      <td>148.300003</td>\n",
       "      <td>157.169998</td>\n",
       "      <td>58582500.0</td>\n",
       "      <td>157.169998</td>\n",
       "    </tr>\n",
       "    <tr>\n",
       "      <td>2018-12-27</td>\n",
       "      <td>156.770004</td>\n",
       "      <td>150.070007</td>\n",
       "      <td>155.839996</td>\n",
       "      <td>156.149994</td>\n",
       "      <td>53117100.0</td>\n",
       "      <td>156.149994</td>\n",
       "    </tr>\n",
       "    <tr>\n",
       "      <td>2018-12-28</td>\n",
       "      <td>158.520004</td>\n",
       "      <td>154.550003</td>\n",
       "      <td>157.500000</td>\n",
       "      <td>156.229996</td>\n",
       "      <td>42291400.0</td>\n",
       "      <td>156.229996</td>\n",
       "    </tr>\n",
       "    <tr>\n",
       "      <td>2018-12-31</td>\n",
       "      <td>159.360001</td>\n",
       "      <td>156.479996</td>\n",
       "      <td>158.529999</td>\n",
       "      <td>157.740005</td>\n",
       "      <td>35003500.0</td>\n",
       "      <td>157.740005</td>\n",
       "    </tr>\n",
       "  </tbody>\n",
       "</table>\n",
       "<p>2265 rows × 6 columns</p>\n",
       "</div>"
      ],
      "text/plain": [
       "                  High         Low        Open       Close       Volume  \\\n",
       "Date                                                                      \n",
       "2009-12-31   30.478571   30.080000   30.447144   30.104286   88102700.0   \n",
       "2010-01-04   30.642857   30.340000   30.490000   30.572857  123432400.0   \n",
       "2010-01-05   30.798571   30.464285   30.657143   30.625713  150476200.0   \n",
       "2010-01-06   30.747143   30.107143   30.625713   30.138571  138040000.0   \n",
       "2010-01-07   30.285715   29.864286   30.250000   30.082857  119282800.0   \n",
       "...                ...         ...         ...         ...          ...   \n",
       "2018-12-24  151.550003  146.589996  148.149994  146.830002   37169200.0   \n",
       "2018-12-26  157.229996  146.720001  148.300003  157.169998   58582500.0   \n",
       "2018-12-27  156.770004  150.070007  155.839996  156.149994   53117100.0   \n",
       "2018-12-28  158.520004  154.550003  157.500000  156.229996   42291400.0   \n",
       "2018-12-31  159.360001  156.479996  158.529999  157.740005   35003500.0   \n",
       "\n",
       "             Adj Close  \n",
       "Date                    \n",
       "2009-12-31   20.159719  \n",
       "2010-01-04   20.473503  \n",
       "2010-01-05   20.508902  \n",
       "2010-01-06   20.182680  \n",
       "2010-01-07   20.145369  \n",
       "...                ...  \n",
       "2018-12-24  146.830002  \n",
       "2018-12-26  157.169998  \n",
       "2018-12-27  156.149994  \n",
       "2018-12-28  156.229996  \n",
       "2018-12-31  157.740005  \n",
       "\n",
       "[2265 rows x 6 columns]"
      ]
     },
     "execution_count": 26,
     "metadata": {},
     "output_type": "execute_result"
    }
   ],
   "source": [
    "df"
   ]
  },
  {
   "cell_type": "code",
   "execution_count": 27,
   "metadata": {},
   "outputs": [
    {
     "data": {
      "text/html": [
       "<div>\n",
       "<style scoped>\n",
       "    .dataframe tbody tr th:only-of-type {\n",
       "        vertical-align: middle;\n",
       "    }\n",
       "\n",
       "    .dataframe tbody tr th {\n",
       "        vertical-align: top;\n",
       "    }\n",
       "\n",
       "    .dataframe thead th {\n",
       "        text-align: right;\n",
       "    }\n",
       "</style>\n",
       "<table border=\"1\" class=\"dataframe\">\n",
       "  <thead>\n",
       "    <tr style=\"text-align: right;\">\n",
       "      <th></th>\n",
       "      <th>High</th>\n",
       "      <th>Low</th>\n",
       "      <th>Open</th>\n",
       "      <th>Close</th>\n",
       "      <th>Volume</th>\n",
       "      <th>Adj Close</th>\n",
       "    </tr>\n",
       "    <tr>\n",
       "      <th>Date</th>\n",
       "      <th></th>\n",
       "      <th></th>\n",
       "      <th></th>\n",
       "      <th></th>\n",
       "      <th></th>\n",
       "      <th></th>\n",
       "    </tr>\n",
       "  </thead>\n",
       "  <tbody>\n",
       "    <tr>\n",
       "      <td>2009-12-31</td>\n",
       "      <td>NaN</td>\n",
       "      <td>NaN</td>\n",
       "      <td>NaN</td>\n",
       "      <td>NaN</td>\n",
       "      <td>NaN</td>\n",
       "      <td>NaN</td>\n",
       "    </tr>\n",
       "    <tr>\n",
       "      <td>2010-01-04</td>\n",
       "      <td>NaN</td>\n",
       "      <td>NaN</td>\n",
       "      <td>NaN</td>\n",
       "      <td>NaN</td>\n",
       "      <td>NaN</td>\n",
       "      <td>NaN</td>\n",
       "    </tr>\n",
       "    <tr>\n",
       "      <td>2010-01-05</td>\n",
       "      <td>NaN</td>\n",
       "      <td>NaN</td>\n",
       "      <td>NaN</td>\n",
       "      <td>NaN</td>\n",
       "      <td>NaN</td>\n",
       "      <td>NaN</td>\n",
       "    </tr>\n",
       "    <tr>\n",
       "      <td>2010-01-06</td>\n",
       "      <td>NaN</td>\n",
       "      <td>NaN</td>\n",
       "      <td>NaN</td>\n",
       "      <td>NaN</td>\n",
       "      <td>NaN</td>\n",
       "      <td>NaN</td>\n",
       "    </tr>\n",
       "    <tr>\n",
       "      <td>2010-01-07</td>\n",
       "      <td>NaN</td>\n",
       "      <td>NaN</td>\n",
       "      <td>NaN</td>\n",
       "      <td>NaN</td>\n",
       "      <td>NaN</td>\n",
       "      <td>NaN</td>\n",
       "    </tr>\n",
       "    <tr>\n",
       "      <td>2010-01-08</td>\n",
       "      <td>NaN</td>\n",
       "      <td>NaN</td>\n",
       "      <td>NaN</td>\n",
       "      <td>NaN</td>\n",
       "      <td>NaN</td>\n",
       "      <td>NaN</td>\n",
       "    </tr>\n",
       "    <tr>\n",
       "      <td>2010-01-11</td>\n",
       "      <td>30.523878</td>\n",
       "      <td>30.071429</td>\n",
       "      <td>30.416122</td>\n",
       "      <td>30.260408</td>\n",
       "      <td>120970600.0</td>\n",
       "      <td>20.264270</td>\n",
       "    </tr>\n",
       "    <tr>\n",
       "      <td>2010-01-12</td>\n",
       "      <td>30.450816</td>\n",
       "      <td>29.986939</td>\n",
       "      <td>30.335714</td>\n",
       "      <td>30.198980</td>\n",
       "      <td>129615200.0</td>\n",
       "      <td>20.223133</td>\n",
       "    </tr>\n",
       "    <tr>\n",
       "      <td>2010-01-13</td>\n",
       "      <td>30.377959</td>\n",
       "      <td>29.817959</td>\n",
       "      <td>30.222245</td>\n",
       "      <td>30.130408</td>\n",
       "      <td>133621000.0</td>\n",
       "      <td>20.177213</td>\n",
       "    </tr>\n",
       "    <tr>\n",
       "      <td>2010-01-14</td>\n",
       "      <td>30.273265</td>\n",
       "      <td>29.731633</td>\n",
       "      <td>30.130612</td>\n",
       "      <td>30.029388</td>\n",
       "      <td>127584900.0</td>\n",
       "      <td>20.109564</td>\n",
       "    </tr>\n",
       "  </tbody>\n",
       "</table>\n",
       "</div>"
      ],
      "text/plain": [
       "                 High        Low       Open      Close       Volume  Adj Close\n",
       "Date                                                                          \n",
       "2009-12-31        NaN        NaN        NaN        NaN          NaN        NaN\n",
       "2010-01-04        NaN        NaN        NaN        NaN          NaN        NaN\n",
       "2010-01-05        NaN        NaN        NaN        NaN          NaN        NaN\n",
       "2010-01-06        NaN        NaN        NaN        NaN          NaN        NaN\n",
       "2010-01-07        NaN        NaN        NaN        NaN          NaN        NaN\n",
       "2010-01-08        NaN        NaN        NaN        NaN          NaN        NaN\n",
       "2010-01-11  30.523878  30.071429  30.416122  30.260408  120970600.0  20.264270\n",
       "2010-01-12  30.450816  29.986939  30.335714  30.198980  129615200.0  20.223133\n",
       "2010-01-13  30.377959  29.817959  30.222245  30.130408  133621000.0  20.177213\n",
       "2010-01-14  30.273265  29.731633  30.130612  30.029388  127584900.0  20.109564"
      ]
     },
     "execution_count": 27,
     "metadata": {},
     "output_type": "execute_result"
    }
   ],
   "source": [
    "#rolling\n",
    "#df.rolling(window(period)).aggregation\n",
    "# 7일간격으로 평균\n",
    "\n",
    "# ex) 날마다 일주일간의 주가평균 구할경우\n",
    "\n",
    "df.rolling(7).mean()[:10] # nan발생 이유는 7일간격인데 시작시점에 1-11일 이전 날짜들은 해당일 전까지 7일이 안됨"
   ]
  },
  {
   "cell_type": "code",
   "execution_count": 28,
   "metadata": {},
   "outputs": [
    {
     "data": {
      "text/plain": [
       "<matplotlib.axes._subplots.AxesSubplot at 0x2bd5313f7c8>"
      ]
     },
     "execution_count": 28,
     "metadata": {},
     "output_type": "execute_result"
    },
    {
     "data": {
      "image/png": "[encoded data removed]",
      "text/plain": [
       "<Figure size 432x288 with 1 Axes>"
      ]
     },
     "metadata": {
      "needs_background": "light"
     },
     "output_type": "display_data"
    }
   ],
   "source": [
    "# 오픈가격의 트렌드 관찰하기\n",
    "\n",
    "df.rolling(window=30).mean()['Close'].plot()"
   ]
  },
  {
   "cell_type": "code",
   "execution_count": 29,
   "metadata": {},
   "outputs": [
    {
     "data": {
      "text/plain": [
       "<matplotlib.axes._subplots.AxesSubplot at 0x2bd52ee8788>"
      ]
     },
     "execution_count": 29,
     "metadata": {},
     "output_type": "execute_result"
    },
    {
     "data": {
      "image/png": "[encoded data removed]",
      "text/plain": [
       "<Figure size 432x288 with 1 Axes>"
      ]
     },
     "metadata": {
      "needs_background": "light"
     },
     "output_type": "display_data"
    }
   ],
   "source": [
    "# 원래 open과 트렌드 동시비교\n",
    "df['Close']['2018'].plot()\n",
    "df['2018'].rolling(window=30).mean()['Close'].plot()"
   ]
  },
  {
   "cell_type": "markdown",
   "metadata": {},
   "source": [
    "* 위 그래프 보면 주황색선(트렌드)의 경우 앞의부분이 잘려있음. 이는, window(30)으로 설정하였기 때문에 처음30일간의 평균을 구해진 03월경부터 구해지기 때문\n",
    "\n",
    "* window사이즈가 커질 수록 실제 트렌드를 반영하지 못할 가능성이 높아질 수 있음 "
   ]
  },
  {
   "cell_type": "code",
   "execution_count": 30,
   "metadata": {},
   "outputs": [],
   "source": [
    "# 30일의 평균종가 컬럼을 생성\n",
    "\n",
    "df['Close : 30 Day Mean'] = df['Close'].rolling(30).mean()"
   ]
  },
  {
   "cell_type": "code",
   "execution_count": 31,
   "metadata": {},
   "outputs": [
    {
     "data": {
      "text/plain": [
       "<matplotlib.axes._subplots.AxesSubplot at 0x2bd52ed4c88>"
      ]
     },
     "execution_count": 31,
     "metadata": {},
     "output_type": "execute_result"
    },
    {
     "data": {
      "image/png": "[encoded data removed]",
      "text/plain": [
       "<Figure size 1080x504 with 1 Axes>"
      ]
     },
     "metadata": {
      "needs_background": "light"
     },
     "output_type": "display_data"
    }
   ],
   "source": [
    "# 종가와 30일종가평균\n",
    "\n",
    "df[['Close','Close : 30 Day Mean']].plot(figsize=(15,7))"
   ]
  },
  {
   "cell_type": "markdown",
   "metadata": {},
   "source": [
    "### Expanding"
   ]
  },
  {
   "cell_type": "code",
   "execution_count": 32,
   "metadata": {},
   "outputs": [
    {
     "data": {
      "text/plain": [
       "[0, 1, 2, 3, 4, 5, 6, 7, 8, 9]"
      ]
     },
     "execution_count": 32,
     "metadata": {},
     "output_type": "execute_result"
    }
   ],
   "source": [
    "list(range(10))"
   ]
  },
  {
   "cell_type": "markdown",
   "metadata": {},
   "source": [
    "* rolling은 (window=2) 위와같은 리스트에서 앞의 2개를 집계하여 3번째부터 반영되는것이고, expanding은 맨앞에서부터 2개씩 누적하며 집계해줌"
   ]
  },
  {
   "cell_type": "markdown",
   "metadata": {},
   "source": [
    "<br>\n",
    "\n",
    "### 실습 <볼린저 밴드>\n",
    "\n",
    "중간 선 : 20 일 이동 평균 (SMA)\n",
    "\n",
    "상단 밴드 : 20 일 SMA + (20 일 표준 편차 x2)\n",
    "\n",
    "하단 밴드 : 20 일 SMA - (20 일 표준 편차 x2)"
   ]
  },
  {
   "cell_type": "code",
   "execution_count": 33,
   "metadata": {},
   "outputs": [],
   "source": [
    "## 1. 20일 이동평균 \n",
    "\n",
    "df['Close: 20 Day Mean'] = df['Close'].rolling(window=20).mean()\n",
    "\n",
    "## 2. 20일 이동평균 + 2*(20일 표준편차)\n",
    "df['Upper'] = df['Close: 20 Day Mean'] + 2*(df['Close'].rolling(window=20).std())\n",
    "## 3. 20일 이동평균 - 2*(20일 표준편차)\n",
    "df['Lower'] = df['Close: 20 Day Mean'] - 2*(df['Close'].rolling(window=20).std())"
   ]
  },
  {
   "cell_type": "code",
   "execution_count": 34,
   "metadata": {},
   "outputs": [
    {
     "data": {
      "text/plain": [
       "<matplotlib.axes._subplots.AxesSubplot at 0x2bd4ebef448>"
      ]
     },
     "execution_count": 34,
     "metadata": {},
     "output_type": "execute_result"
    },
    {
     "data": {
      "image/png": "[encoded data removed]",
      "text/plain": [
       "<Figure size 1080x648 with 1 Axes>"
      ]
     },
     "metadata": {
      "needs_background": "light"
     },
     "output_type": "display_data"
    }
   ],
   "source": [
    "df[2018:][['Close','Close: 20 Day Mean','Upper','Lower']].plot(figsize=(15,9))"
   ]
  }
 ],
 "metadata": {
  "kernelspec": {
   "display_name": "Python 3",
   "language": "python",
   "name": "python3"
  },
  "language_info": {
   "codemirror_mode": {
    "name": "ipython",
    "version": 3
   },
   "file_extension": ".py",
   "mimetype": "text/x-python",
   "name": "python",
   "nbconvert_exporter": "python",
   "pygments_lexer": "ipython3",
   "version": "3.7.3"
  }
 },
 "nbformat": 4,
 "nbformat_minor": 2
}
