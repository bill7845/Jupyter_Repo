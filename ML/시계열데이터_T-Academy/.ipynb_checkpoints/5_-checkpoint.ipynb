{
 "cells": [
  {
   "cell_type": "markdown",
   "metadata": {},
   "source": [
    "## ARIMA 모델\n",
    "\n",
    "<br>\n",
    "\n",
    "* Autoregressive Integrated Moving Average는 개발된지 오래된 방법으로 시계열 데이터 분석을 위해 이해해야 하는 중요한 모델링 또는 예측 기법\n",
    "\n",
    "<br>\n",
    "\n",
    "* Stationary VS Non-stationary time series\n",
    "    * stationary한 데이터가 stationary특성을 가지고 있는 가정하에 ARIMA 모델을 적용\n",
    "\n",
    "<br>\n",
    "\n",
    "* Seasonal VS Non-seasonal ARIMA\n",
    "    * Non-seasonal ARIMA : ARIMA(p,t,q)\n",
    "    * Seasonal ARIMA : ARIMA(p,t,q)(P,T,Q)m\n",
    "\n",
    "<br>\n",
    "\n",
    "* ARIMA <br>\n",
    "    * Autoregressive - AR(p)\n",
    "    * Integrated - I(d)\n",
    "    * Moving Average - MA(q)"
   ]
  },
  {
   "cell_type": "markdown",
   "metadata": {},
   "source": [
    "<br> \n",
    "\n",
    "### 1. Stationary vs Non-Stationary\n",
    "\n",
    "> Stationary 데이터의 특성\n",
    "* 연속되는 숫자들의 평균(mean)이 time invariant (시간에 따라 변하지 않는)\n",
    "* 연속되는 숫자들의 분산(variance)이 time invariant\n",
    "* 연속되는 숫자들의 공분산(covariance)이 time invariant\n",
    "* 평균,분산,공분산이 시점에 따라 달라지지 않음\n",
    " \n",
    "> Stationary Test\n",
    "* ARIMA 모델은 시계열 데이터가 stationary 특성을 보일 때 효과적으로 데이터가 stationary 특성을 보이는지 확인할 수 있어야 함\n",
    "\n",
    "> Differencing\n",
    "* 시계열 데이터가 Non-Stationary 하다면 초기 differencing 작업을 (\"Intergrated\") 한 번 이상 적용하여 데이터를 stationary 하게 만드는 단계가 필요함\n"
   ]
  },
  {
   "cell_type": "markdown",
   "metadata": {},
   "source": [
    "<br>\n",
    "\n",
    "### 2. Stationary Test\n",
    "\n",
    "> 데이터가 Stationary한지 검증하는 방법\n",
    "\n",
    "> Augmented Dickey-Fuller test\n",
    "* 통계적 시험을 통해 시계열 데이터가 stationary 특성을 보이는지 확인할 수 있음\n",
    "    "
   ]
  },
  {
   "cell_type": "code",
   "execution_count": null,
   "metadata": {},
   "outputs": [],
   "source": []
  },
  {
   "cell_type": "markdown",
   "metadata": {},
   "source": [
    "<br>\n",
    "\n",
    "#### 3. Differencing\n",
    "\n",
    "> Non-Stationary 데이터는 differencing을 통해 stationary하게 변환\n",
    "\n",
    "> differencing을 한 데이터에 대해 stationary 할 때 까지 differencing을 반복\n",
    "\n",
    "> seasonal 데이터일 경우 season을 기준으로 differencing\n",
    "* 예를 들어 1년 주기의 seasonality를 갖는 월간 데이터에 대해 differencing 할 때, differencing의 시간 단위는 1이 아니라 12로\n",
    "* seasonal ARIMA 모델의 경우 1차 differencing 후 seasonal differencing 하는것도 흔히 사용하는 방법 "
   ]
  },
  {
   "cell_type": "code",
   "execution_count": null,
   "metadata": {},
   "outputs": [],
   "source": []
  },
  {
   "cell_type": "code",
   "execution_count": null,
   "metadata": {},
   "outputs": [],
   "source": []
  }
 ],
 "metadata": {
  "kernelspec": {
   "display_name": "Python 3",
   "language": "python",
   "name": "python3"
  },
  "language_info": {
   "codemirror_mode": {
    "name": "ipython",
    "version": 3
   },
   "file_extension": ".py",
   "mimetype": "text/x-python",
   "name": "python",
   "nbconvert_exporter": "python",
   "pygments_lexer": "ipython3",
   "version": "3.7.4"
  }
 },
 "nbformat": 4,
 "nbformat_minor": 2
}
