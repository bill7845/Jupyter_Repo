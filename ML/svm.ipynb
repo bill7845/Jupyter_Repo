{
 "cells": [
  {
   "cell_type": "code",
   "execution_count": 1,
   "metadata": {},
   "outputs": [
    {
     "name": "stdout",
     "output_type": "stream",
     "text": [
      "3.7.3 (default, Apr 24 2019, 15:29:51) [MSC v.1915 64 bit (AMD64)]\n"
     ]
    }
   ],
   "source": [
    "import sys\n",
    "\n",
    "print(sys.version)"
   ]
  },
  {
   "cell_type": "markdown",
   "metadata": {},
   "source": [
    "### 이진분류"
   ]
  },
  {
   "cell_type": "code",
   "execution_count": 2,
   "metadata": {},
   "outputs": [],
   "source": [
    "import pandas as pd\n",
    "import numpy as np\n",
    "\n",
    "from sklearn import svm\n"
   ]
  },
  {
   "cell_type": "code",
   "execution_count": 3,
   "metadata": {},
   "outputs": [
    {
     "name": "stdout",
     "output_type": "stream",
     "text": [
      "[0 1]\n"
     ]
    },
    {
     "name": "stderr",
     "output_type": "stream",
     "text": [
      "C:\\Users\\Playdata\\Anaconda3\\lib\\site-packages\\sklearn\\svm\\base.py:193: FutureWarning: The default value of gamma will change from 'auto' to 'scale' in version 0.22 to account better for unscaled features. Set gamma explicitly to 'auto' or 'scale' to avoid this warning.\n",
      "  \"avoid this warning.\", FutureWarning)\n"
     ]
    }
   ],
   "source": [
    "# 학습함수 => fit\n",
    "# 예측함수 => predict\n",
    "\n",
    "clf = svm.SVC()\n",
    "clf.fit([\n",
    "    [0,0], #문제1\n",
    "    [1,0], #문제2\n",
    "    [0,1], #문제3\n",
    "    [1,1] #문제4\n",
    "], [0,1,1,0]) # 답1,2,3,4\n",
    "\n",
    "\n",
    "# clf.predict(예측할 데이터셋)\n",
    "results = clf.predict([\n",
    "    [0,0],\n",
    "    [1,0]\n",
    "])\n",
    "\n",
    "print(results)"
   ]
  },
  {
   "cell_type": "code",
   "execution_count": 4,
   "metadata": {},
   "outputs": [
    {
     "name": "stdout",
     "output_type": "stream",
     "text": [
      "예측결과 [0 1 1 0]\n",
      "정답률 4 / 4 = 1.0\n"
     ]
    },
    {
     "name": "stderr",
     "output_type": "stream",
     "text": [
      "C:\\Users\\Playdata\\Anaconda3\\lib\\site-packages\\sklearn\\svm\\base.py:193: FutureWarning: The default value of gamma will change from 'auto' to 'scale' in version 0.22 to account better for unscaled features. Set gamma explicitly to 'auto' or 'scale' to avoid this warning.\n",
      "  \"avoid this warning.\", FutureWarning)\n"
     ]
    }
   ],
   "source": [
    "xor_data = [\n",
    "    [0, 0, 0], # x1,x2,result \n",
    "    [0, 1, 1],\n",
    "    [1, 0, 1],\n",
    "    [1, 1, 0]\n",
    "]\n",
    "\n",
    "data = []\n",
    "label = []\n",
    "\n",
    "# dataset 만들기\n",
    "for row in xor_data:\n",
    "    p = row[0] # 첫번째 list의 x1 추출\n",
    "    q = row[1] # 두번째 list의 x2 추출\n",
    "    r = row[2] # 세번째 list의 result 추출\n",
    "    data.append([p,q]) # 이중리스트 형태로\n",
    "    label.append(r)\n",
    "    \n",
    "clf = svm.SVC()\n",
    "clf.fit(data,label) # 학습\n",
    "\n",
    "pre = clf.predict(data) # \n",
    "print(\"예측결과\",pre)\n",
    "\n",
    "ok=0; total=0\n",
    "\n",
    "# 결과확인\n",
    "for idx,answer in enumerate(label):\n",
    "    p = pre[idx]\n",
    "    if p == answer: ok+=1\n",
    "    total +=1\n",
    "\n",
    "print(\"정답률\",ok, \"/\", total, \"=\", ok/total)\n",
    "            "
   ]
  },
  {
   "cell_type": "code",
   "execution_count": 5,
   "metadata": {},
   "outputs": [
    {
     "name": "stdout",
     "output_type": "stream",
     "text": [
      "정답률 1.0\n"
     ]
    },
    {
     "name": "stderr",
     "output_type": "stream",
     "text": [
      "C:\\Users\\Playdata\\Anaconda3\\lib\\site-packages\\sklearn\\svm\\base.py:193: FutureWarning: The default value of gamma will change from 'auto' to 'scale' in version 0.22 to account better for unscaled features. Set gamma explicitly to 'auto' or 'scale' to avoid this warning.\n",
      "  \"avoid this warning.\", FutureWarning)\n"
     ]
    }
   ],
   "source": [
    "from sklearn import svm,metrics\n",
    "\n",
    "xor_input = [\n",
    "    [0, 0, 0], # x1,x2,result \n",
    "    [0, 1, 1],\n",
    "    [1, 0, 1],\n",
    "    [1, 1, 0]\n",
    "]\n",
    "\n",
    "\n",
    "xor_df = pd.DataFrame(xor_input)\n",
    "xor_data = xor_df.loc[:,0:1] # 모든행과 첫번째 두번째열 추출\n",
    "xor_label = xor_df.loc[:,2] # 모든행과 3번째열 추출\n",
    "\n",
    "clf = svm.SVC()\n",
    "clf.fit(xor_data,xor_label) # 학습시키기\n",
    "pre = clf.predict(xor_data)\n",
    "\n",
    "# 정답률 구하기\n",
    "ac_score = metrics.accuracy_score(xor_label,pre) # 정답과 예측값 비교\n",
    "print(\"정답률\", ac_score)"
   ]
  },
  {
   "cell_type": "markdown",
   "metadata": {},
   "source": [
    "### 다중분류"
   ]
  },
  {
   "cell_type": "code",
   "execution_count": 7,
   "metadata": {},
   "outputs": [],
   "source": [
    "from sklearn import svm,metrics\n",
    "from sklearn.model_selection import train_test_split\n",
    "\n",
    "iris = pd.read_csv(\"./../Data/iris.csv\")"
   ]
  },
  {
   "cell_type": "code",
   "execution_count": 9,
   "metadata": {},
   "outputs": [
    {
     "name": "stdout",
     "output_type": "stream",
     "text": [
      "정답률 =  0.9473684210526315\n"
     ]
    },
    {
     "name": "stderr",
     "output_type": "stream",
     "text": [
      "C:\\Users\\Playdata\\Anaconda3\\lib\\site-packages\\sklearn\\svm\\base.py:193: FutureWarning: The default value of gamma will change from 'auto' to 'scale' in version 0.22 to account better for unscaled features. Set gamma explicitly to 'auto' or 'scale' to avoid this warning.\n",
      "  \"avoid this warning.\", FutureWarning)\n"
     ]
    }
   ],
   "source": [
    "\n",
    "# 필요한 열 추출\n",
    "csv_data = iris[[\"SepalLength\",\"SepalWidth\",\"PetalWidth\"]]\n",
    "csv_label = iris[\"Name\"]\n",
    "\n",
    "# 학습전용,테스트 전용으로 데이트 나누기\n",
    "# 8 : 2의 비율로 나누어줌\n",
    "train_data, test_data, train_label, test_label = train_test_split(csv_data,csv_label)\n",
    "\n",
    "# 데이터 학습시키고 예측\n",
    "clf = svm.SVC()\n",
    "clf.fit(train_data,train_label)\n",
    "pre = clf.predict(test_data)\n",
    "\n",
    "# 학습시키지 않았던 데이터로 정답률을 구하기 위해 학습전용,테스트전용으로 나눔\n",
    "\n",
    "# 정답률 구하기\n",
    "ac_score = metrics.accuracy_score(test_label,pre)\n",
    "print(\"정답률 = \", ac_score)"
   ]
  },
  {
   "cell_type": "code",
   "execution_count": null,
   "metadata": {},
   "outputs": [],
   "source": []
  },
  {
   "cell_type": "markdown",
   "metadata": {},
   "source": [
    "#### svm 활용 irst 데이터 분석"
   ]
  },
  {
   "cell_type": "code",
   "execution_count": 6,
   "metadata": {},
   "outputs": [],
   "source": [
    "import pandas as pd\n",
    "import numpy as np\n",
    "\n",
    "from sklearn.svm import SVC\n",
    "from sklearn import datasets\n",
    "from sklearn.model_selection import train_test_split\n",
    "from sklearn.preprocessing import StandardScaler\n",
    "from sklearn.metrics import accuracy_score"
   ]
  },
  {
   "cell_type": "code",
   "execution_count": 7,
   "metadata": {},
   "outputs": [],
   "source": [
    "## 그래프 한글 폰트 패치\n",
    "import platform\n",
    "path = \"c:/Windows/Fonts/malgun.ttf\"\n",
    "from matplotlib import font_manager, rc\n",
    "\n",
    "if platform.system() == \"Darwin\":\n",
    "    rc('font',family='AppleGothic')\n",
    "elif platform.system() == 'Windows':\n",
    "    font_name = font_manager.FontProperties(fname=path).get_name()\n",
    "    rc('font',family=font_name)\n",
    "else:\n",
    "    print('Unknown system')"
   ]
  },
  {
   "cell_type": "code",
   "execution_count": 8,
   "metadata": {},
   "outputs": [],
   "source": [
    "iris = datasets.load_iris()"
   ]
  },
  {
   "cell_type": "code",
   "execution_count": 9,
   "metadata": {},
   "outputs": [],
   "source": [
    "from matplotlib.colors import ListedColormap\n",
    "import matplotlib.pyplot as plt\n",
    "import matplotlib\n",
    "\n",
    "def plot_decision_region(x,y,classifier,test_idx=None,resolution=0.02,title=''):\n",
    "    markers = ('s','x','o','^','v')\n",
    "    colors = ('r','b','lightgreen','gray','cyan')\n",
    "    cmap = ListedColormap(colors[:len(np.unique(y))])\n",
    "    \n",
    "    # decision surface 그리기\n",
    "    x1_min,x1_max = x[:,0].min()-1, x[:,0].max() + 1\n",
    "    x2_min,x2_max = x[:,1].min()-1, x[:,1].max() + 1\n",
    "    xx,yy = np.meshgrid(np.arange(x1_min, x1_max, resolution), np.arange(x2_min, x2_max, resolution))\n",
    "    \n",
    "    Z = classifier.predict(np.array([xx.ravel(),yy.ravel()]).T)\n",
    "    Z = Z.reshape(xx.shape)\n",
    "    \n",
    "    plt.figure(figsize=(10,10))\n",
    "\n",
    "    plt.contourf(xx,yy,Z,alpha=0.5, cmap=cmap)\n",
    "    plt.xlim(xx.min(), xx.max())\n",
    "    plt.ylim(yy.min(), yy.max())\n",
    "    \n",
    "    x_test, y_test = x[test_idx, :],y[test_idx]\n",
    "    for idx,cl in enumerate(np.unique(y)):\n",
    "        plt.scatter(x=x[y==cl,0], y=x[y==cl,1], c=cmap(idx), marker=markers[idx],label=cl)\n",
    "    \n",
    "    if test_idx:\n",
    "        x_test,y_test = x[test_idx, :], y[test_idx]\n",
    "        plt.scatter(x_test[:,0],x_test[:,1], c=\"\", linewidth=1, marker='o', s=80, label=\"테스트셋\")\n",
    "    plt.xlabel(\"표준화 된 꽃잎 길이\")\n",
    "    plt.xlabel(\"표준화 된 꽃잎 너비\")\n",
    "    plt.legend(loc=2)\n",
    "    plt.title(title)\n",
    "    plt.show()\n"
   ]
  },
  {
   "cell_type": "code",
   "execution_count": 10,
   "metadata": {
    "scrolled": false
   },
   "outputs": [
    {
     "name": "stderr",
     "output_type": "stream",
     "text": [
      "'c' argument looks like a single numeric RGB or RGBA sequence, which should be avoided as value-mapping will have precedence in case its length matches with 'x' & 'y'.  Please use a 2-D array with a single row if you really want to specify the same RGB or RGBA value for all points.\n",
      "'c' argument looks like a single numeric RGB or RGBA sequence, which should be avoided as value-mapping will have precedence in case its length matches with 'x' & 'y'.  Please use a 2-D array with a single row if you really want to specify the same RGB or RGBA value for all points.\n",
      "'c' argument looks like a single numeric RGB or RGBA sequence, which should be avoided as value-mapping will have precedence in case its length matches with 'x' & 'y'.  Please use a 2-D array with a single row if you really want to specify the same RGB or RGBA value for all points.\n"
     ]
    },
    {
     "name": "stdout",
     "output_type": "stream",
     "text": [
      "총 테스트 개수:45, 총 오류개수:1\n",
      "정확도:0.977778\n"
     ]
    },
    {
     "name": "stderr",
     "output_type": "stream",
     "text": [
      "C:\\Users\\Playdata\\Anaconda3\\lib\\site-packages\\matplotlib\\backends\\backend_agg.py:211: RuntimeWarning: Glyph 8722 missing from current font.\n",
      "  font.set_text(s, 0.0, flags=flags)\n",
      "C:\\Users\\Playdata\\Anaconda3\\lib\\site-packages\\matplotlib\\backends\\backend_agg.py:180: RuntimeWarning: Glyph 8722 missing from current font.\n",
      "  font.set_text(s, 0, flags=flags)\n"
     ]
    },
    {
     "data": {
      "image/png": "[encoded data removed]",
      "text/plain": [
       "<Figure size 720x720 with 1 Axes>"
      ]
     },
     "metadata": {
      "needs_background": "light"
     },
     "output_type": "display_data"
    }
   ],
   "source": [
    "iris = datasets.load_iris()\n",
    "# iris\n",
    "\n",
    "x = iris.data[:,[2,3]]\n",
    "y = iris.target # 답\n",
    "\n",
    "x_train,x_test,y_train,y_test = train_test_split(x,y, test_size=0.3,random_state=0)\n",
    "\n",
    "sc = StandardScaler()\n",
    "sc.fit(x_train)\n",
    "x_train_std = sc.transform(x_train)\n",
    "x_test_std  = sc.transform(x_test)\n",
    "\n",
    "\n",
    "# n_neighbors => 이웃개수 설정\n",
    "# minkowski => 유클리드 거리와 맨하튼 거리를 일반화한것 (p=1 -> 맨하튼거리, p=2 -> 유클리드 거리)\n",
    "ml = SVC(kernel='linear', C=1.0, random_state=0)\n",
    "\n",
    "ml.fit(x_train_std, y_train)\n",
    "y_pred = ml.predict(x_test_std)\n",
    "print(\"총 테스트 개수:%d, 총 오류개수:%d\" %(len(y_test),(y_test != y_pred).sum()))\n",
    "print(\"정확도:%2f\" %accuracy_score(y_test,y_pred))\n",
    "\n",
    "x_combined_std = np.vstack((x_train_std,x_test_std))\n",
    "y_combined = np.hstack((y_train,y_test))\n",
    "plot_decision_region(x=x_combined_std, y=y_combined, classifier=ml, test_idx=range(105,150), title=\"KNN\")"
   ]
  }
 ],
 "metadata": {
  "kernelspec": {
   "display_name": "Python 3",
   "language": "python",
   "name": "python3"
  },
  "language_info": {
   "codemirror_mode": {
    "name": "ipython",
    "version": 3
   },
   "file_extension": ".py",
   "mimetype": "text/x-python",
   "name": "python",
   "nbconvert_exporter": "python",
   "pygments_lexer": "ipython3",
   "version": "3.7.3"
  }
 },
 "nbformat": 4,
 "nbformat_minor": 2
}
