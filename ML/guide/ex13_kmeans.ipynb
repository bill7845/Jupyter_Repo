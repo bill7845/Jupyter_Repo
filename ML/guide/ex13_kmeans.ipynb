{
 "cells": [
  {
   "cell_type": "code",
   "execution_count": 30,
   "metadata": {},
   "outputs": [
    {
     "name": "stdout",
     "output_type": "stream",
     "text": [
      "Collecting mglearn\n",
      "Requirement already satisfied: pandas in c:\\users\\playdata\\anaconda3\\lib\\site-packages (from mglearn) (0.24.2)\n",
      "Requirement already satisfied: scikit-learn in c:\\users\\playdata\\anaconda3\\lib\\site-packages (from mglearn) (0.21.2)\n",
      "Requirement already satisfied: numpy in c:\\users\\playdata\\anaconda3\\lib\\site-packages (from mglearn) (1.16.4)\n",
      "Requirement already satisfied: imageio in c:\\users\\playdata\\anaconda3\\lib\\site-packages (from mglearn) (2.5.0)\n",
      "Requirement already satisfied: matplotlib in c:\\users\\playdata\\anaconda3\\lib\\site-packages (from mglearn) (3.1.0)\n",
      "Requirement already satisfied: cycler in c:\\users\\playdata\\anaconda3\\lib\\site-packages (from mglearn) (0.10.0)\n",
      "Requirement already satisfied: pillow in c:\\users\\playdata\\anaconda3\\lib\\site-packages (from mglearn) (6.1.0)\n",
      "Requirement already satisfied: python-dateutil>=2.5.0 in c:\\users\\playdata\\anaconda3\\lib\\site-packages (from pandas->mglearn) (2.8.0)\n",
      "Requirement already satisfied: pytz>=2011k in c:\\users\\playdata\\anaconda3\\lib\\site-packages (from pandas->mglearn) (2019.1)\n",
      "Requirement already satisfied: scipy>=0.17.0 in c:\\users\\playdata\\anaconda3\\lib\\site-packages (from scikit-learn->mglearn) (1.2.1)\n",
      "Requirement already satisfied: joblib>=0.11 in c:\\users\\playdata\\anaconda3\\lib\\site-packages (from scikit-learn->mglearn) (0.13.2)\n",
      "Requirement already satisfied: kiwisolver>=1.0.1 in c:\\users\\playdata\\anaconda3\\lib\\site-packages (from matplotlib->mglearn) (1.1.0)\n",
      "Requirement already satisfied: pyparsing!=2.0.4,!=2.1.2,!=2.1.6,>=2.0.1 in c:\\users\\playdata\\anaconda3\\lib\\site-packages (from matplotlib->mglearn) (2.4.0)\n",
      "Requirement already satisfied: six in c:\\users\\playdata\\anaconda3\\lib\\site-packages (from cycler->mglearn) (1.12.0)\n",
      "Requirement already satisfied: setuptools in c:\\users\\playdata\\anaconda3\\lib\\site-packages (from kiwisolver>=1.0.1->matplotlib->mglearn) (41.0.1)\n",
      "Installing collected packages: mglearn\n",
      "Successfully installed mglearn-0.1.7\n",
      "Note: you may need to restart the kernel to use updated packages.\n"
     ]
    }
   ],
   "source": [
    "# pip install mglearn"
   ]
  },
  {
   "cell_type": "code",
   "execution_count": 31,
   "metadata": {},
   "outputs": [
    {
     "name": "stderr",
     "output_type": "stream",
     "text": [
      "C:\\Users\\Playdata\\Anaconda3\\lib\\site-packages\\sklearn\\externals\\six.py:31: DeprecationWarning: The module is deprecated in version 0.21 and will be removed in version 0.23 since we've dropped support for Python 2.7. Please rely on the official version of six (https://pypi.org/project/six/).\n",
      "  \"(https://pypi.org/project/six/).\", DeprecationWarning)\n"
     ]
    },
    {
     "name": "stdout",
     "output_type": "stream",
     "text": [
      "[[-7.94152277e-01  2.10495117e+00]\n",
      " [-9.15155186e+00 -4.81286449e+00]\n",
      " [-1.14418263e+01 -4.45781441e+00]\n",
      " [-9.76761777e+00 -3.19133737e+00]\n",
      " [-4.53655648e+00 -8.40186288e+00]\n",
      " [-6.26302115e+00 -8.10666081e+00]\n",
      " [-6.38481234e+00 -8.47302970e+00]\n",
      " [-9.20490564e+00 -4.57687928e+00]\n",
      " [-2.76017908e+00  5.55121358e+00]\n",
      " [-1.17104176e+00  4.33091816e+00]\n",
      " [-1.00364080e+01 -5.56912090e+00]\n",
      " [-9.87589123e+00 -2.82386464e+00]\n",
      " [-7.17532921e+00 -8.77059017e+00]\n",
      " [-2.40671820e+00  6.09894447e+00]\n",
      " [-4.87418245e+00 -1.00495890e+01]\n",
      " [-6.07854700e+00 -7.93969420e+00]\n",
      " [-6.83238762e+00 -7.47067670e+00]\n",
      " [-2.34673261e+00  3.56128423e+00]\n",
      " [-1.03415662e+01 -3.90975169e+00]\n",
      " [-1.10926243e+01 -3.78396611e+00]\n",
      " [-6.50212109e+00 -7.91249101e+00]\n",
      " [-1.02639310e+01 -3.92073400e+00]\n",
      " [-6.81608302e+00 -8.44986926e+00]\n",
      " [-1.34052081e+00  4.15711949e+00]\n",
      " [-1.03729975e+01 -4.59207895e+00]\n",
      " [-7.37499896e+00 -1.05880659e+01]\n",
      " [-6.62351774e+00 -8.25338334e+00]\n",
      " [-1.35938959e+00  4.05424002e+00]\n",
      " [-1.97451969e-01  2.34634916e+00]\n",
      " [-6.54430585e+00 -9.29756949e+00]\n",
      " [-1.92744799e+00  4.93684534e+00]\n",
      " [-2.80207810e+00  4.05714715e+00]\n",
      " [-7.58197664e+00 -9.15025493e+00]\n",
      " [-1.85139546e+00  3.51886090e+00]\n",
      " [-8.37006175e+00 -3.61533685e+00]\n",
      " [-7.25145196e+00 -8.25497398e+00]\n",
      " [-8.79879462e+00 -3.76819213e+00]\n",
      " [-1.13708298e+01 -3.63818916e+00]\n",
      " [-1.01786328e+01 -4.55726918e+00]\n",
      " [-7.20132693e+00 -8.27228229e+00]\n",
      " [-6.78421711e+00 -8.22634081e+00]\n",
      " [-9.64716652e+00 -5.26563196e+00]\n",
      " [-1.98197711e+00  4.02243551e+00]\n",
      " [-1.12277706e+01 -3.40281105e+00]\n",
      " [-9.79941278e+00 -3.83433990e+00]\n",
      " [-6.53541686e+00 -8.01552689e+00]\n",
      " [-7.57969185e-01  4.90898421e+00]\n",
      " [ 5.26015501e-01  3.00999353e+00]\n",
      " [-2.77687025e+00  4.64090557e+00]\n",
      " [-1.78245013e+00  3.47072043e+00]\n",
      " [-1.02200406e+01 -4.15410662e+00]\n",
      " [-6.40583239e+00 -9.78066645e+00]\n",
      " [-6.98706106e+00 -7.53484784e+00]\n",
      " [-7.46576038e+00 -7.32922249e+00]\n",
      " [-1.53940095e+00  5.02369298e+00]\n",
      " [-6.56967086e+00 -8.32793126e+00]\n",
      " [-1.06177133e+01 -3.25531651e+00]\n",
      " [-8.72395657e+00 -1.98624680e+00]\n",
      " [-1.61734616e+00  4.98930508e+00]\n",
      " [-1.14663009e+00  4.10839703e+00]\n",
      " [-9.81115111e+00 -3.54329690e+00]\n",
      " [-7.71179887e+00 -7.25174121e+00]\n",
      " [-6.56169737e+00 -6.86000222e+00]\n",
      " [-1.00223295e+01 -4.72851017e+00]\n",
      " [-1.18556944e+01 -2.71718452e+00]\n",
      " [-5.73342507e+00 -8.44053597e+00]\n",
      " [-2.41395785e+00  5.65935802e+00]\n",
      " [-8.33744094e+00 -7.83968038e+00]\n",
      " [-1.83198811e+00  3.52863145e+00]\n",
      " [-9.57421815e+00 -3.87600848e+00]\n",
      " [-9.59422086e+00 -3.35977002e+00]\n",
      " [-9.25715605e+00 -4.90704915e+00]\n",
      " [-6.46256290e+00 -7.73294590e+00]\n",
      " [-8.20576492e-01  5.33759195e+00]\n",
      " [ 2.42271161e-04  5.14853403e+00]\n",
      " [-9.68207756e+00 -5.97554976e+00]\n",
      " [-6.19599603e+00 -7.40281646e+00]\n",
      " [-7.02121319e+00 -8.37954235e+00]\n",
      " [-2.18773166e+00  3.33352125e+00]\n",
      " [-1.04448411e+01 -2.72884084e+00]\n",
      " [-5.27930518e-01  5.92630669e+00]\n",
      " [-1.11969805e+01 -3.09000323e+00]\n",
      " [-9.83767543e+00 -3.07717963e+00]\n",
      " [-5.16022348e+00 -7.04217141e+00]\n",
      " [-2.35122066e+00  4.00973634e+00]\n",
      " [-5.25790464e-01  3.30659860e+00]\n",
      " [-1.46864442e+00  6.50674501e+00]\n",
      " [-7.58703957e-01  3.72276201e+00]\n",
      " [-1.03039165e+01 -3.12537390e+00]\n",
      " [-2.33080604e+00  4.39382527e+00]\n",
      " [-5.90454361e+00 -7.78373539e+00]\n",
      " [-1.60875215e+00  3.76949422e+00]\n",
      " [-1.86845414e+00  4.99311306e+00]\n",
      " [-1.06683748e+01 -3.57578476e+00]\n",
      " [-8.87629480e+00 -3.54444801e+00]\n",
      " [-6.02605758e+00 -5.96624846e+00]\n",
      " [-7.04747278e+00 -9.27524683e+00]\n",
      " [-1.37397258e+00  5.29163103e+00]\n",
      " [-6.25393051e+00 -7.10878601e+00]\n",
      " [ 8.52518583e-02  3.64528297e+00]]\n"
     ]
    },
    {
     "name": "stderr",
     "output_type": "stream",
     "text": [
      "C:\\Users\\Playdata\\Anaconda3\\lib\\site-packages\\sklearn\\externals\\joblib\\__init__.py:15: DeprecationWarning: sklearn.externals.joblib is deprecated in 0.21 and will be removed in 0.23. Please import this functionality directly from joblib, which can be installed with: pip install joblib. If this warning is raised when loading pickled models, you may need to re-serialize those models with scikit-learn 0.21+.\n",
      "  warnings.warn(msg, category=DeprecationWarning)\n"
     ]
    }
   ],
   "source": [
    "import mglearn\n",
    "from sklearn.datasets import make_blobs\n",
    "from sklearn.cluster import KMeans\n",
    "import matplotlib.pyplot as plt\n",
    "import matplotlib\n",
    "from matplotlib import font_manager, rc\n",
    "\n",
    "#한글 폰트 등록\n",
    "font_location = \"c:/Windows/fonts/malgun.ttf\"\n",
    "font_name = font_manager.FontProperties(fname=font_location).get_name()\n",
    "matplotlib.rc('font', family=font_name)\n",
    "\n",
    "# 인위적으로 2차원 데이터를 생성합니다 \n",
    "X,y = make_blobs(random_state=1)\n",
    "print(X)"
   ]
  },
  {
   "cell_type": "code",
   "execution_count": 33,
   "metadata": {},
   "outputs": [
    {
     "name": "stdout",
     "output_type": "stream",
     "text": [
      "[1 0 0 0 2 2 2 0 1 1 0 0 2 1 2 2 2 1 0 0 2 0 2 1 0 2 2 1 1 2 1 1 2 1 0 2 0\n",
      " 0 0 2 2 0 1 0 0 2 1 1 1 1 0 2 2 2 1 2 0 0 1 1 0 2 2 0 0 2 1 2 1 0 0 0 2 1\n",
      " 1 0 2 2 1 0 1 0 0 2 1 1 1 1 0 1 2 1 1 0 0 2 2 1 2 1]\n"
     ]
    }
   ],
   "source": [
    "# KMeans 3개의 클러스터로 군집화  \n",
    "kmeans = KMeans(n_clusters=3)\n",
    "kmeans.fit(X)\n",
    "#TODO   # 클러스터링한 결과 라벨\n",
    "print(kmeans.labels_)"
   ]
  },
  {
   "cell_type": "code",
   "execution_count": 34,
   "metadata": {},
   "outputs": [
    {
     "name": "stderr",
     "output_type": "stream",
     "text": [
      "C:\\Users\\Playdata\\Anaconda3\\lib\\site-packages\\matplotlib\\backends\\backend_agg.py:211: RuntimeWarning: Glyph 8722 missing from current font.\n",
      "  font.set_text(s, 0.0, flags=flags)\n",
      "C:\\Users\\Playdata\\Anaconda3\\lib\\site-packages\\matplotlib\\backends\\backend_agg.py:180: RuntimeWarning: Glyph 8722 missing from current font.\n",
      "  font.set_text(s, 0, flags=flags)\n"
     ]
    },
    {
     "data": {
      "image/png": "[encoded data removed]",
      "text/plain": [
       "<Figure size 432x288 with 1 Axes>"
      ]
     },
     "metadata": {
      "needs_background": "light"
     },
     "output_type": "display_data"
    }
   ],
   "source": [
    "#TODO\n",
    "mglearn.discrete_scatter(X[:,0], X[:,1],kmeans.labels_,markers=\"^\")\n",
    "# 세번째 매개인자인  클러스터링한 결과 라벨 (kmeans.labels_) 별로 다른 색 그래프 \n",
    "# x축 X[:,0],  y축 X[:,1] \n",
    "plt.show()"
   ]
  },
  {
   "cell_type": "code",
   "execution_count": 35,
   "metadata": {},
   "outputs": [
    {
     "data": {
      "text/plain": [
       "[<matplotlib.lines.Line2D at 0x1bd918f26d8>,\n",
       " <matplotlib.lines.Line2D at 0x1bd918f2b00>]"
      ]
     },
     "execution_count": 35,
     "metadata": {},
     "output_type": "execute_result"
    },
    {
     "name": "stderr",
     "output_type": "stream",
     "text": [
      "C:\\Users\\Playdata\\Anaconda3\\lib\\site-packages\\matplotlib\\backends\\backend_agg.py:211: RuntimeWarning: Glyph 8722 missing from current font.\n",
      "  font.set_text(s, 0.0, flags=flags)\n",
      "C:\\Users\\Playdata\\Anaconda3\\lib\\site-packages\\matplotlib\\backends\\backend_agg.py:180: RuntimeWarning: Glyph 8722 missing from current font.\n",
      "  font.set_text(s, 0, flags=flags)\n"
     ]
    },
    {
     "data": {
      "image/png": "[encoded data removed]",
      "text/plain": [
       "<Figure size 720x360 with 2 Axes>"
      ]
     },
     "metadata": {
      "needs_background": "light"
     },
     "output_type": "display_data"
    }
   ],
   "source": [
    "#######################################################################\n",
    "fig, axes = plt.subplots(1,2,figsize=(10,5))   #1행 2열 sub그래프\n",
    " \n",
    "#두 개의 클러스터 중심을 사용\n",
    "#TODO\n",
    "kmeans=KMeans(n_clusters=2)\n",
    "kmeans.fit(X)\n",
    "assignments = kmeans.labels_\n",
    "\n",
    "mglearn.discrete_scatter(X[:,0],X[:,1],assignments, ax = axes[0])\n"
   ]
  },
  {
   "cell_type": "code",
   "execution_count": 36,
   "metadata": {},
   "outputs": [
    {
     "data": {
      "image/png": "[encoded data removed]",
      "text/plain": [
       "<Figure size 432x288 with 1 Axes>"
      ]
     },
     "metadata": {
      "needs_background": "light"
     },
     "output_type": "display_data"
    }
   ],
   "source": [
    "#######################################################################\n",
    "#다섯 개의 클러스터 중심\n",
    "kmeans = KMeans(n_clusters=5)\n",
    "kmeans.fit(X)\n",
    "assignments = kmeans.labels_  \n",
    "\n",
    "mglearn.discrete_scatter(X[:,0],X[:,1],assignments, ax = axes[1]) \n",
    "\n",
    "plt.legend([\"클러스터1\",\"클러스터2\",\"클러스터3\",\"클러스터4\",\"클러스터5\"])\n",
    "plt.ylabel(\"특성1\")\n",
    "plt.xlabel(\"특성0\")\n",
    "plt.show()"
   ]
  }
 ],
 "metadata": {
  "kernelspec": {
   "display_name": "Python 3",
   "language": "python",
   "name": "python3"
  },
  "language_info": {
   "codemirror_mode": {
    "name": "ipython",
    "version": 3
   },
   "file_extension": ".py",
   "mimetype": "text/x-python",
   "name": "python",
   "nbconvert_exporter": "python",
   "pygments_lexer": "ipython3",
   "version": "3.7.3"
  }
 },
 "nbformat": 4,
 "nbformat_minor": 2
}
