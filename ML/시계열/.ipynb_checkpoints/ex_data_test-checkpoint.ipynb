{
 "cells": [
  {
   "cell_type": "code",
   "execution_count": 2,
   "metadata": {},
   "outputs": [
    {
     "ename": "SyntaxError",
     "evalue": "invalid syntax (ex_timeSeries_1_model.py, line 21)",
     "output_type": "error",
     "traceback": [
      "Traceback \u001b[1;36m(most recent call last)\u001b[0m:\n",
      "  File \u001b[0;32m\"C:\\Anaconda3\\lib\\site-packages\\IPython\\core\\interactiveshell.py\"\u001b[0m, line \u001b[0;32m3326\u001b[0m, in \u001b[0;35mrun_code\u001b[0m\n    exec(code_obj, self.user_global_ns, self.user_ns)\n",
      "\u001b[1;36m  File \u001b[1;32m\"<ipython-input-2-41e440a57be6>\"\u001b[1;36m, line \u001b[1;32m2\u001b[1;36m, in \u001b[1;35m<module>\u001b[1;36m\u001b[0m\n\u001b[1;33m    import ex_timeSeries_1_model as ex_t1_m\u001b[0m\n",
      "\u001b[1;36m  File \u001b[1;32m\"C:\\Users\\KIHyuk\\Documents\\GitHub\\Jupyter_Repo\\ML\\시계열\\ex_timeSeries_1_model.py\"\u001b[1;36m, line \u001b[1;32m21\u001b[0m\n\u001b[1;33m    model.add(  Dense(1)  )  #, activation=\"linear\"\u001b[0m\n\u001b[1;37m        ^\u001b[0m\n\u001b[1;31mSyntaxError\u001b[0m\u001b[1;31m:\u001b[0m invalid syntax\n"
     ]
    }
   ],
   "source": [
    "import ex_timeSeries_1_data as ex_t1_d\n",
    "import ex_timeSeries_1_model as ex_t1_m\n",
    "\n",
    "import ex_timeSeries_2_data as ex_t2_d\n",
    "import ex_timeSeries_2_model as ex_t2_m \n",
    "\n",
    "\n",
    "# sequence to vector 샘플 데이터 생성  예 \n",
    "(X_train,Y_train) =ex_t1_d.make_data(True)\n",
    " \n",
    "\n",
    "\n",
    "# sequence to sequence 샘플 데이터 생성 예 \n",
    "# (X_train2,Y_train2) =ex_t2_d.make_data_Sequence2Sequence(True)\n",
    " "
   ]
  }
 ],
 "metadata": {
  "kernelspec": {
   "display_name": "Python 3",
   "language": "python",
   "name": "python3"
  },
  "language_info": {
   "codemirror_mode": {
    "name": "ipython",
    "version": 3
   },
   "file_extension": ".py",
   "mimetype": "text/x-python",
   "name": "python",
   "nbconvert_exporter": "python",
   "pygments_lexer": "ipython3",
   "version": "3.7.4"
  }
 },
 "nbformat": 4,
 "nbformat_minor": 2
}
