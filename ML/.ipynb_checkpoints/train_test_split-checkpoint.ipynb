{
 "cells": [
  {
   "cell_type": "markdown",
   "metadata": {},
   "source": [
    "## sklearn train_test_split\n",
    "\n",
    "<br>\n",
    "\n",
    "```train_test_split(arrays, test_size, train_size, random_state, shuffle, stratify)```\n",
    "\n",
    "<br>\n",
    "\n",
    "- ```Parameter```\n",
    "\n",
    "- arrays : 분할시킬 데이터를 입력 (Python list, Numpy array, Pandas dataframe 등..)\n",
    "\n",
    "- test_size : 테스트 데이터셋의 비율(float)이나 갯수(int) (default = 0.25, 나머지가 train 데이터로)\n",
    "\n",
    "- train_size : 학습 데이터셋의 비율(float)이나 갯수(int) (default = test_size의 나머지)\n",
    "\n",
    "- random_state : 데이터 분할시 셔플이 이루어지는데 이를 위한 시드값 (int나 RandomState로 입력)\n",
    "\n",
    "- shuffle : 셔플여부설정 (default = True)\n",
    "\n",
    "- stratify : 지정한 Data의 비율을 유지한다. 예를 들어, Label Set인 Y가 25%의 0과 75%의 1로 이루어진 Binary Set일 때, stratify=Y로 설정하면 나누어진 데이터셋들도 0과 1을 각각 25%, 75%로 유지한 채 분할된다."
   ]
  },
  {
   "cell_type": "markdown",
   "metadata": {},
   "source": [
    "---\n",
    "\n",
    "- X_train, X_test, Y_train, Y_test : arrays에 데이터와 레이블(답,결과치)을 둘 다 넣었을 경우의 반환이며, 데이터와 레이블의 순서쌍은 유지된다.\n",
    "\n",
    "\n",
    "- X_train, X_test : arrays에 레이블 없이 데이터만 넣었을 경우의 반환\n"
   ]
  },
  {
   "cell_type": "code",
   "execution_count": 3,
   "metadata": {},
   "outputs": [],
   "source": [
    "import numpy as np\n",
    "from sklearn.model_selection import train_test_split\n",
    "\n",
    "X = [[0,1],[2,3],[4,5],[6,7],[8,9]]\n",
    "Y = [0,1,2,3,4]\n",
    "\n",
    "# 데이터(X)만 넣었을 경우\n",
    "X_train, X_test = train_test_split(X, test_size=0.2, random_state=123)\n",
    "# X_train : [[0,1],[6,7],[8,9],[2,3]]\n",
    "# X_test : [[4,5]]\n",
    "\n",
    "# 데이터(X)와 레이블(Y)을 넣었을 경우\n",
    "X_train, X_test, Y_train, Y_test = train_test_split(X, Y, test_size=0.33, random_state=321)\n",
    "# X_train : [[4,5],[0,1],[6,7]]\n",
    "# Y_train : [2,0,3]\n",
    "# X_test : [[2,3],[8,9]]\n",
    "# Y_test : [1,4]\n"
   ]
  },
  {
   "cell_type": "markdown",
   "metadata": {},
   "source": [
    "[출처] [Python] sklearn의 train_test_split() 사용법|작성자 시니피아 <br>\n",
    "http://blog.naver.com/PostView.nhn?blogId=siniphia&logNo=221396370872&from=search&redirect=Log&widgetTypeCall=true&directAccess=false"
   ]
  }
 ],
 "metadata": {
  "kernelspec": {
   "display_name": "Python 3",
   "language": "python",
   "name": "python3"
  },
  "language_info": {
   "codemirror_mode": {
    "name": "ipython",
    "version": 3
   },
   "file_extension": ".py",
   "mimetype": "text/x-python",
   "name": "python",
   "nbconvert_exporter": "python",
   "pygments_lexer": "ipython3",
   "version": "3.7.3"
  }
 },
 "nbformat": 4,
 "nbformat_minor": 2
}
