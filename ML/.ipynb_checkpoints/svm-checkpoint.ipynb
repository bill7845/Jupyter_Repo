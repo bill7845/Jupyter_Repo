{
 "cells": [
  {
   "cell_type": "code",
   "execution_count": 4,
   "metadata": {},
   "outputs": [
    {
     "name": "stdout",
     "output_type": "stream",
     "text": [
      "3.6.9 |Anaconda, Inc.| (default, Jul 30 2019, 14:00:49) [MSC v.1915 64 bit (AMD64)]\n"
     ]
    }
   ],
   "source": [
    "import sys\n",
    "\n",
    "print(sys.version)"
   ]
  },
  {
   "cell_type": "markdown",
   "metadata": {},
   "source": [
    "### 이진분류"
   ]
  },
  {
   "cell_type": "code",
   "execution_count": 5,
   "metadata": {},
   "outputs": [],
   "source": [
    "import pandas as pd\n",
    "import numpy as np\n",
    "\n",
    "from sklearn import svm\n"
   ]
  },
  {
   "cell_type": "code",
   "execution_count": 6,
   "metadata": {},
   "outputs": [
    {
     "name": "stdout",
     "output_type": "stream",
     "text": [
      "[0 1]\n"
     ]
    },
    {
     "name": "stderr",
     "output_type": "stream",
     "text": [
      "c:\\users\\playdata\\anaconda3\\envs\\ml_env\\lib\\site-packages\\sklearn\\svm\\base.py:193: FutureWarning: The default value of gamma will change from 'auto' to 'scale' in version 0.22 to account better for unscaled features. Set gamma explicitly to 'auto' or 'scale' to avoid this warning.\n",
      "  \"avoid this warning.\", FutureWarning)\n"
     ]
    }
   ],
   "source": [
    "# 학습함수 => fit\n",
    "# 예측함수 => predict\n",
    "\n",
    "clf = svm.SVC()\n",
    "clf.fit([\n",
    "    [0,0], #문제1\n",
    "    [1,0], #문제2\n",
    "    [0,1], #문제3\n",
    "    [1,1] #문제4\n",
    "], [0,1,1,0]) # 답1,2,3,4\n",
    "\n",
    "\n",
    "# clf.predict(예측할 데이터셋)\n",
    "results = clf.predict([\n",
    "    [0,0],\n",
    "    [1,0]\n",
    "])\n",
    "\n",
    "print(results)"
   ]
  },
  {
   "cell_type": "code",
   "execution_count": 11,
   "metadata": {},
   "outputs": [
    {
     "name": "stdout",
     "output_type": "stream",
     "text": [
      "예측결과 [0 1 1 0]\n",
      "정답률 4 / 4 = 1.0\n"
     ]
    },
    {
     "name": "stderr",
     "output_type": "stream",
     "text": [
      "c:\\users\\playdata\\anaconda3\\envs\\ml_env\\lib\\site-packages\\sklearn\\svm\\base.py:193: FutureWarning: The default value of gamma will change from 'auto' to 'scale' in version 0.22 to account better for unscaled features. Set gamma explicitly to 'auto' or 'scale' to avoid this warning.\n",
      "  \"avoid this warning.\", FutureWarning)\n"
     ]
    }
   ],
   "source": [
    "xor_data = [\n",
    "    [0, 0, 0], # x1,x2,result \n",
    "    [0, 1, 1],\n",
    "    [1, 0, 1],\n",
    "    [1, 1, 0]\n",
    "]\n",
    "\n",
    "data = []\n",
    "label = []\n",
    "\n",
    "# dataset 만들기\n",
    "for row in xor_data:\n",
    "    p = row[0] # 첫번째 list의 x1 추출\n",
    "    q = row[1] # 두번째 list의 x2 추출\n",
    "    r = row[2] # 세번째 list의 result 추출\n",
    "    data.append([p,q]) # 이중리스트 형태로\n",
    "    label.append(r)\n",
    "    \n",
    "clf = svm.SVC()\n",
    "clf.fit(data,label) # 학습\n",
    "\n",
    "pre = clf.predict(data) # \n",
    "print(\"예측결과\",pre)\n",
    "\n",
    "ok=0; total=0\n",
    "\n",
    "# 결과확인\n",
    "for idx,answer in enumerate(label):\n",
    "    p = pre[idx]\n",
    "    if p == answer: ok+=1\n",
    "    total +=1\n",
    "\n",
    "print(\"정답률\",ok, \"/\", total, \"=\", ok/total)\n",
    "            "
   ]
  },
  {
   "cell_type": "code",
   "execution_count": 19,
   "metadata": {},
   "outputs": [
    {
     "name": "stdout",
     "output_type": "stream",
     "text": [
      "정답률 1.0\n"
     ]
    },
    {
     "name": "stderr",
     "output_type": "stream",
     "text": [
      "c:\\users\\playdata\\anaconda3\\envs\\ml_env\\lib\\site-packages\\sklearn\\svm\\base.py:193: FutureWarning: The default value of gamma will change from 'auto' to 'scale' in version 0.22 to account better for unscaled features. Set gamma explicitly to 'auto' or 'scale' to avoid this warning.\n",
      "  \"avoid this warning.\", FutureWarning)\n"
     ]
    }
   ],
   "source": [
    "from sklearn import svm,metrics\n",
    "\n",
    "xor_input = [\n",
    "    [0, 0, 0], # x1,x2,result \n",
    "    [0, 1, 1],\n",
    "    [1, 0, 1],\n",
    "    [1, 1, 0]\n",
    "]\n",
    "\n",
    "\n",
    "xor_df = pd.DataFrame(xor_input)\n",
    "xor_data = xor_df.loc[:,0:1] # 모든행과 첫번째 두번째열 추출\n",
    "xor_label = xor_df.loc[:,2] # 모든행과 3번째열 추출\n",
    "\n",
    "clf = svm.SVC()\n",
    "clf.fit(xor_data,xor_label) # 학습시키기\n",
    "pre = clf.predict(xor_data)\n",
    "\n",
    "# 정답률 구하기\n",
    "ac_score = metrics.accuracy_score(xor_label,pre) # 정답과 예측값 비교\n",
    "print(\"정답률\", ac_score)"
   ]
  },
  {
   "cell_type": "markdown",
   "metadata": {},
   "source": [
    "### 다중분류"
   ]
  },
  {
   "cell_type": "code",
   "execution_count": 28,
   "metadata": {},
   "outputs": [],
   "source": [
    "from sklearn import svm,metrics\n",
    "from sklearn.model_selection import train_test_split\n",
    "\n",
    "iris = pd.read_csv(\"./../Data/iris.csv\")"
   ]
  },
  {
   "cell_type": "code",
   "execution_count": 56,
   "metadata": {},
   "outputs": [
    {
     "name": "stdout",
     "output_type": "stream",
     "text": [
      "정답률 =  0.9210526315789473\n"
     ]
    },
    {
     "name": "stderr",
     "output_type": "stream",
     "text": [
      "c:\\users\\playdata\\anaconda3\\envs\\ml_env\\lib\\site-packages\\sklearn\\svm\\base.py:193: FutureWarning: The default value of gamma will change from 'auto' to 'scale' in version 0.22 to account better for unscaled features. Set gamma explicitly to 'auto' or 'scale' to avoid this warning.\n",
      "  \"avoid this warning.\", FutureWarning)\n"
     ]
    }
   ],
   "source": [
    "\n",
    "# 필요한 열 추출\n",
    "csv_data = iris[[\"SepalLength\",\"SepalWidth\",\"PetalWidth\"]]\n",
    "csv_label = iris[\"Name\"]\n",
    "\n",
    "# 학습전용,테스트 전용으로 데이트 나누기\n",
    "# 8 : 2의 비율로 나누어줌\n",
    "train_data, test_data, train_label, test_label = train_test_split(csv_data,csv_label)\n",
    "\n",
    "# 데이터 학습시키고 예측\n",
    "clf = svm.SVC()\n",
    "clf.fit(train_data,train_label)\n",
    "pre = clf.predict(test_data)\n",
    "\n",
    "# 학습시키지 않았던 데이터로 정답률을 구하기 위해 학습전용,테스트전용으로 나눔\n",
    "\n",
    "# 정답률 구하기\n",
    "ac_score = metrics.accuracy_score(test_label,pre)\n",
    "print(\"정답률 = \", ac_score)"
   ]
  },
  {
   "cell_type": "code",
   "execution_count": null,
   "metadata": {},
   "outputs": [],
   "source": []
  },
  {
   "cell_type": "code",
   "execution_count": null,
   "metadata": {},
   "outputs": [],
   "source": []
  },
  {
   "cell_type": "code",
   "execution_count": null,
   "metadata": {},
   "outputs": [],
   "source": []
  },
  {
   "cell_type": "code",
   "execution_count": null,
   "metadata": {},
   "outputs": [],
   "source": []
  },
  {
   "cell_type": "code",
   "execution_count": null,
   "metadata": {},
   "outputs": [],
   "source": []
  },
  {
   "cell_type": "code",
   "execution_count": null,
   "metadata": {},
   "outputs": [],
   "source": []
  },
  {
   "cell_type": "code",
   "execution_count": null,
   "metadata": {},
   "outputs": [],
   "source": []
  },
  {
   "cell_type": "code",
   "execution_count": null,
   "metadata": {},
   "outputs": [],
   "source": []
  }
 ],
 "metadata": {
  "kernelspec": {
   "display_name": "Python 3",
   "language": "python",
   "name": "python3"
  },
  "language_info": {
   "codemirror_mode": {
    "name": "ipython",
    "version": 3
   },
   "file_extension": ".py",
   "mimetype": "text/x-python",
   "name": "python",
   "nbconvert_exporter": "python",
   "pygments_lexer": "ipython3",
   "version": "3.6.9"
  }
 },
 "nbformat": 4,
 "nbformat_minor": 2
}
