{
 "cells": [
  {
   "cell_type": "markdown",
   "metadata": {
    "colab_type": "text",
    "id": "9Hzmex9EDwku"
   },
   "source": [
    "## 지그재그의 데이터분석 팀에 오신 것을 환영합니다!\n",
    "\n",
    "\n",
    "\n",
    "<img src =\"https://i.imgur.com/9zb1Cdh.jpg\" width=700>\n",
    "\n",
    "(이 쥬피터 노트북은 다음의 링크 http://bit.ly/dsa-0302-ipynb 데이터는 http://bit.ly/dsa-03-zigzag 에서 다운받을 수 있습니다.)\n",
    "  \n",
    "안녕하세요! [지그재그](https://zigzag.kr/) 데이터분석팀에 오신 것을 환영합니다.\n",
    "\n",
    "지그재그는 여성 패션 쇼핑몰들의 상품 정보를 통합적으로 제공하는 플랫폼으로 개인 취향 알고리즘을 통해 적절한 제품을 추천하여 유저 경험을 높이고 있습니다. 지그재그는 2015년 6월 ‘내 스타일의 쇼핑몰을 편하게 북마크 해보자’라는 작은 아이디어에서 시작했습니다. 서비스가 출시되고 3년이 지난 지금, 지그재그에 입점한 2,700여 개의 온라인 쇼핑몰들에서는 하루에 10,000여 개의 패션 아이템이 업데이트되며 한 달에 200만 명이 넘는 사용자들이 방문해 자신이 좋아하는 상품을 실시간으로 발견하고 있습니다. 런칭 2년 반 만에 1,000만 앱 다운로드를 돌파하며 대한민국 여성의 쇼핑 필수 앱으로 자리 잡았습니다.\n",
    "\n",
    "\n",
    "<img src = \"https://i.imgur.com/chOEQhY.jpg\" width=250>\n",
    "\n",
    " 오늘 이 쥬피터 노트북을 받은 수강생분들께서는 지그재그의 일일 데이터 분석가(Data Analyst)로서 일을 할 것입니다. 지그재그의 하루 동안의 로그 데이터를 바탕으로 매출 분석 등 기본적인 데이터 탐색을 할 예정입니다. 일반적으로 매출 또는 핵심 지표에 영향을 미치는 요인에 대한 가설을 세우고 이를 데이터로 검증하는 일이 일반적인 데이터 분석이지만, 때로는 가설 없이 데이터 그 자체를 이해하는 것부터 출발하여 역으로 핵심 지표 또는 매출 등을 개선하기 위한 아이디어를 얻을 수도 있습니다. 이러한 데이터 자체를 이해하는 과정을 탐색적 자료 분석이라고 합니다. 여러분들은 6월 11일에 활동한 고객 정보, 쇼핑몰 정보, 거래 정보, 상품 정보, 그리고 고객의 행동 정보를 이해하고 분석하여 다른 팀들과 정보를 공유하게 될 것입니다.\n"
   ]
  },
  {
   "cell_type": "markdown",
   "metadata": {
    "colab_type": "text",
    "id": "Zx5CQ9YmDwk2"
   },
   "source": [
    "---"
   ]
  },
  {
   "cell_type": "markdown",
   "metadata": {
    "colab_type": "text",
    "id": "oUjzdq-ADwk6"
   },
   "source": [
    "## *set options"
   ]
  },
  {
   "cell_type": "code",
   "execution_count": 1,
   "metadata": {
    "colab": {},
    "colab_type": "code",
    "id": "m5iZh_KcDwk-"
   },
   "outputs": [],
   "source": [
    "import pandas as pd"
   ]
  },
  {
   "cell_type": "code",
   "execution_count": 2,
   "metadata": {
    "colab": {},
    "colab_type": "code",
    "id": "SqnKfnpvDwlV"
   },
   "outputs": [],
   "source": [
    "# 화면에 출력하는 데이터 프레임의 최대 row 수를 500으로 설정합니다.\n",
    "pd.set_option('display.max_rows', 500)\n",
    "\n",
    "# 화면에 출력하는 데이터 프레임의 최대 column 수를 500으로 설정합니다.\n",
    "pd.set_option('display.max_columns', 500)"
   ]
  },
  {
   "cell_type": "markdown",
   "metadata": {
    "colab_type": "text",
    "id": "lAB_mchIDwll"
   },
   "source": [
    " "
   ]
  },
  {
   "cell_type": "markdown",
   "metadata": {
    "colab_type": "text",
    "id": "ew-e5ZujDwlo"
   },
   "source": [
    "**1. data 폴더의 zigzag_DB.db에 연결한 뒤 데이터베이스 스키마를 출력해주세요. 그 다음,  order 테이블을 불러와주세요.**"
   ]
  },
  {
   "cell_type": "markdown",
   "metadata": {
    "colab_type": "text",
    "id": "CekalP6zDwlq"
   },
   "source": [
    "zigzag 데이터 테이블들을 모두 zigzag_DB.db 파일에 저장해두었습니다. 저번 주 수업자료를 참고해 database를 조회하고 그 중, order 테이블을 불러와주세요."
   ]
  },
  {
   "cell_type": "markdown",
   "metadata": {
    "colab_type": "text",
    "id": "FAU-hXIWDwls"
   },
   "source": [
    "로드한 테이블이 다음과 같은 모양이어야 합니다.\n",
    "\n",
    "<table border=\"1\" class=\"dataframe\">\n",
    "  <thead>\n",
    "    <tr style=\"text-align: right;\">\n",
    "      <th></th>\n",
    "      <th>timestamp</th>\n",
    "      <th>user_id</th>\n",
    "      <th>goods_id</th>\n",
    "      <th>shop_id</th>\n",
    "      <th>price</th>\n",
    "    </tr>\n",
    "  </thead>\n",
    "  <tbody>\n",
    "    <tr>\n",
    "      <th>0</th>\n",
    "      <td>2018-06-11 00:00:43.032</td>\n",
    "      <td>bvu0aLTqiFDoU-963xnr5nzQWTNLUMjx</td>\n",
    "      <td>1414</td>\n",
    "      <td>38</td>\n",
    "      <td>45000</td>\n",
    "    </tr>\n",
    "    <tr>\n",
    "      <th>1</th>\n",
    "      <td>2018-06-11 00:02:33.763</td>\n",
    "      <td>smDmRnykg61KajpxXKzQ0oNkrh2nuSBj</td>\n",
    "      <td>1351</td>\n",
    "      <td>12</td>\n",
    "      <td>9500</td>\n",
    "    </tr>\n",
    "    <tr>\n",
    "      <th>2</th>\n",
    "      <td>2018-06-11 00:04:06.364</td>\n",
    "      <td>EyGjKYtSqZgqJ1ddKCtH5XwGirTyOH2P</td>\n",
    "      <td>646</td>\n",
    "      <td>14</td>\n",
    "      <td>22000</td>\n",
    "    </tr>\n",
    "    <tr>\n",
    "      <th>3</th>\n",
    "      <td>2018-06-11 00:04:17.258</td>\n",
    "      <td>KQBGi33Zxh5Dgu0WEkOkjN0YqTT_wxC3</td>\n",
    "      <td>5901</td>\n",
    "      <td>46</td>\n",
    "      <td>29800</td>\n",
    "    </tr>\n",
    "    <tr>\n",
    "      <th>4</th>\n",
    "      <td>2018-06-11 00:05:26.010</td>\n",
    "      <td>lq1Je3voA3a0MouSFba3629lKCvweI24</td>\n",
    "      <td>5572</td>\n",
    "      <td>89</td>\n",
    "      <td>29000</td>\n",
    "    </tr>\n",
    "  </tbody>\n",
    "</table>"
   ]
  },
  {
   "cell_type": "code",
   "execution_count": 3,
   "metadata": {
    "colab": {},
    "colab_type": "code",
    "id": "GXOSy3tFDwlv"
   },
   "outputs": [],
   "source": [
    "# python에서 DB를 다루는 library인 sqlite3와 데이터를 다루는 library인 padas를 import합니다.\n",
    "import pandas as pd\n",
    "import sqlite3"
   ]
  },
  {
   "cell_type": "code",
   "execution_count": 4,
   "metadata": {
    "colab": {},
    "colab_type": "code",
    "id": "XQ4bTI8LDwmE"
   },
   "outputs": [
    {
     "name": "stdout",
     "output_type": "stream",
     "text": [
      "(867, 5)\n"
     ]
    },
    {
     "data": {
      "text/html": [
       "<div>\n",
       "<style scoped>\n",
       "    .dataframe tbody tr th:only-of-type {\n",
       "        vertical-align: middle;\n",
       "    }\n",
       "\n",
       "    .dataframe tbody tr th {\n",
       "        vertical-align: top;\n",
       "    }\n",
       "\n",
       "    .dataframe thead th {\n",
       "        text-align: right;\n",
       "    }\n",
       "</style>\n",
       "<table border=\"1\" class=\"dataframe\">\n",
       "  <thead>\n",
       "    <tr style=\"text-align: right;\">\n",
       "      <th></th>\n",
       "      <th>timestamp</th>\n",
       "      <th>user_id</th>\n",
       "      <th>goods_id</th>\n",
       "      <th>shop_id</th>\n",
       "      <th>price</th>\n",
       "    </tr>\n",
       "  </thead>\n",
       "  <tbody>\n",
       "    <tr>\n",
       "      <th>0</th>\n",
       "      <td>2018-06-11 00:00:43.032</td>\n",
       "      <td>bvu0aLTqiFDoU-963xnr5nzQWTNLUMjx</td>\n",
       "      <td>1414</td>\n",
       "      <td>38</td>\n",
       "      <td>45000</td>\n",
       "    </tr>\n",
       "    <tr>\n",
       "      <th>1</th>\n",
       "      <td>2018-06-11 00:02:33.763</td>\n",
       "      <td>smDmRnykg61KajpxXKzQ0oNkrh2nuSBj</td>\n",
       "      <td>1351</td>\n",
       "      <td>12</td>\n",
       "      <td>9500</td>\n",
       "    </tr>\n",
       "    <tr>\n",
       "      <th>2</th>\n",
       "      <td>2018-06-11 00:04:06.364</td>\n",
       "      <td>EyGjKYtSqZgqJ1ddKCtH5XwGirTyOH2P</td>\n",
       "      <td>646</td>\n",
       "      <td>14</td>\n",
       "      <td>22000</td>\n",
       "    </tr>\n",
       "    <tr>\n",
       "      <th>3</th>\n",
       "      <td>2018-06-11 00:04:17.258</td>\n",
       "      <td>KQBGi33Zxh5Dgu0WEkOkjN0YqTT_wxC3</td>\n",
       "      <td>5901</td>\n",
       "      <td>46</td>\n",
       "      <td>29800</td>\n",
       "    </tr>\n",
       "    <tr>\n",
       "      <th>4</th>\n",
       "      <td>2018-06-11 00:05:26.010</td>\n",
       "      <td>lq1Je3voA3a0MouSFba3629lKCvweI24</td>\n",
       "      <td>5572</td>\n",
       "      <td>89</td>\n",
       "      <td>29000</td>\n",
       "    </tr>\n",
       "  </tbody>\n",
       "</table>\n",
       "</div>"
      ],
      "text/plain": [
       "                 timestamp                           user_id  goods_id  \\\n",
       "0  2018-06-11 00:00:43.032  bvu0aLTqiFDoU-963xnr5nzQWTNLUMjx      1414   \n",
       "1  2018-06-11 00:02:33.763  smDmRnykg61KajpxXKzQ0oNkrh2nuSBj      1351   \n",
       "2  2018-06-11 00:04:06.364  EyGjKYtSqZgqJ1ddKCtH5XwGirTyOH2P       646   \n",
       "3  2018-06-11 00:04:17.258  KQBGi33Zxh5Dgu0WEkOkjN0YqTT_wxC3      5901   \n",
       "4  2018-06-11 00:05:26.010  lq1Je3voA3a0MouSFba3629lKCvweI24      5572   \n",
       "\n",
       "   shop_id  price  \n",
       "0       38  45000  \n",
       "1       12   9500  \n",
       "2       14  22000  \n",
       "3       46  29800  \n",
       "4       89  29000  "
      ]
     },
     "execution_count": 4,
     "metadata": {},
     "output_type": "execute_result"
    }
   ],
   "source": [
    "connect = sqlite3.connect('data/zigzag_DB.db')\n",
    "\n",
    "query = \"SELECT * FROM 'order'\"\n",
    "\n",
    "order = pd.read_sql(query, connect)\n",
    "\n",
    "print(order.shape)\n",
    "order.head(5)"
   ]
  },
  {
   "cell_type": "markdown",
   "metadata": {
    "colab_type": "text",
    "id": "Xsrfka8JDwmc"
   },
   "source": [
    "order 테이블의 각 행은 주문이 일어난 로그를 나타내며, 2018년 6월 11일 하루치 데이터가 주어졌습니다.\n",
    "\n",
    "timestamp는 주문시각, user_id는 주문을 한 유저의 고유 아이디, goods_id는 상품의 id, shop_id는 쇼핑몰의 id, price는 상품의 가격을 나타냅니다."
   ]
  },
  {
   "cell_type": "markdown",
   "metadata": {
    "colab_type": "text",
    "id": "VlYH9oESDwmf"
   },
   "source": [
    "**2. order 테이블을 이용해 지그재그의 당일 매출 상위 10개 쇼핑몰을 구해주세요.**"
   ]
  },
  {
   "cell_type": "markdown",
   "metadata": {
    "colab_type": "text",
    "id": "FHlN2PQLDwmh"
   },
   "source": [
    "order 테이블을 이용해 지그재그를 통해 이루어진 6월 11일의 쇼핑몰별 매출 정보를 피벗 테이블을 이용하여 구해주세요. 결과는 다음과 같이 나와야 합니다."
   ]
  },
  {
   "cell_type": "markdown",
   "metadata": {
    "colab_type": "text",
    "id": "MsdUWlVeDwmk"
   },
   "source": [
    "<table border=\"1\" class=\"dataframe\">\n",
    "  <thead>\n",
    "    <tr style=\"text-align: right;\">\n",
    "      <th></th>\n",
    "      <th>price</th>\n",
    "    </tr>\n",
    "    <tr>\n",
    "      <th>shop_id</th>\n",
    "      <th></th>\n",
    "    </tr>\n",
    "  </thead>\n",
    "  <tbody>\n",
    "    <tr>\n",
    "      <th>22</th>\n",
    "      <td>1365200</td>\n",
    "    </tr>\n",
    "    <tr>\n",
    "      <th>14</th>\n",
    "      <td>872000</td>\n",
    "    </tr>\n",
    "    <tr>\n",
    "      <th>63</th>\n",
    "      <td>710700</td>\n",
    "    </tr>\n",
    "    <tr>\n",
    "      <th>32</th>\n",
    "      <td>707900</td>\n",
    "    </tr>\n",
    "    <tr>\n",
    "      <th>126</th>\n",
    "      <td>669400</td>\n",
    "    </tr>\n",
    "    <tr>\n",
    "      <th>6</th>\n",
    "      <td>655900</td>\n",
    "    </tr>\n",
    "    <tr>\n",
    "      <th>11</th>\n",
    "      <td>653000</td>\n",
    "    </tr>\n",
    "    <tr>\n",
    "      <th>60</th>\n",
    "      <td>558300</td>\n",
    "    </tr>\n",
    "    <tr>\n",
    "      <th>19</th>\n",
    "      <td>518400</td>\n",
    "    </tr>\n",
    "    <tr>\n",
    "      <th>12</th>\n",
    "      <td>446900</td>\n",
    "    </tr>\n",
    "  </tbody>\n",
    "</table>"
   ]
  },
  {
   "cell_type": "code",
   "execution_count": 5,
   "metadata": {
    "colab": {},
    "colab_type": "code",
    "id": "J4dIY2EzDwmn"
   },
   "outputs": [
    {
     "data": {
      "text/plain": [
       "shop_id\n",
       "22     1365200\n",
       "14      872000\n",
       "63      710700\n",
       "32      707900\n",
       "126     669400\n",
       "6       655900\n",
       "11      653000\n",
       "60      558300\n",
       "19      518400\n",
       "12      446900\n",
       "Name: price, dtype: int64"
      ]
     },
     "execution_count": 5,
     "metadata": {},
     "output_type": "execute_result"
    }
   ],
   "source": [
    "order.groupby('shop_id')['price'].sum().sort_values(ascending=False).head(10)"
   ]
  },
  {
   "cell_type": "markdown",
   "metadata": {
    "colab_type": "text",
    "id": "XDexAuYTDwm8"
   },
   "source": [
    "**3. 판매 건수를 포함하여 피벗테이블을 만들어주세요. 또한, 상위 10개 쇼핑몰의 매출을 막대그래프로 보여주세요.**"
   ]
  },
  {
   "cell_type": "markdown",
   "metadata": {
    "colab_type": "text",
    "id": "Yz6nCx-ADwm-"
   },
   "source": [
    "같은 횟수의 거래라도 제품의 가격이 비싸면 매출이 크게 나오게 되어있습니다. 상대적으로 저렴한 물품을 파는 쇼핑몰들은 결제 건수에 비해 매출이 적을 수 있습니다.\n",
    "\n",
    "매출과 결제 건수를 함께 볼 수 있는 피벗테이블을 작성해주세요. 그리고, 그 결과를 막대그래프로 시각화하여 보여주세요. 결과는 다음과 같이 나오게됩니다."
   ]
  },
  {
   "cell_type": "markdown",
   "metadata": {
    "colab_type": "text",
    "id": "jtYdR2wnDwnB"
   },
   "source": [
    "<table border=\"1\" class=\"dataframe\">\n",
    "  <thead>\n",
    "    <tr style=\"text-align: right;\">\n",
    "      <th></th>\n",
    "      <th>sum</th>\n",
    "      <th>count</th>\n",
    "    </tr>\n",
    "    <tr>\n",
    "      <th>shop_id</th>\n",
    "      <th></th>\n",
    "      <th></th>\n",
    "    </tr>\n",
    "  </thead>\n",
    "  <tbody>\n",
    "    <tr>\n",
    "      <th>22</th>\n",
    "      <td>1365200</td>\n",
    "      <td>99</td>\n",
    "    </tr>\n",
    "    <tr>\n",
    "      <th>14</th>\n",
    "      <td>872000</td>\n",
    "      <td>30</td>\n",
    "    </tr>\n",
    "    <tr>\n",
    "      <th>63</th>\n",
    "      <td>710700</td>\n",
    "      <td>27</td>\n",
    "    </tr>\n",
    "    <tr>\n",
    "      <th>32</th>\n",
    "      <td>707900</td>\n",
    "      <td>37</td>\n",
    "    </tr>\n",
    "    <tr>\n",
    "      <th>126</th>\n",
    "      <td>669400</td>\n",
    "      <td>39</td>\n",
    "    </tr>\n",
    "    <tr>\n",
    "      <th>6</th>\n",
    "      <td>655900</td>\n",
    "      <td>24</td>\n",
    "    </tr>\n",
    "    <tr>\n",
    "      <th>11</th>\n",
    "      <td>653000</td>\n",
    "      <td>19</td>\n",
    "    </tr>\n",
    "    <tr>\n",
    "      <th>60</th>\n",
    "      <td>558300</td>\n",
    "      <td>23</td>\n",
    "    </tr>\n",
    "    <tr>\n",
    "      <th>19</th>\n",
    "      <td>518400</td>\n",
    "      <td>19</td>\n",
    "    </tr>\n",
    "    <tr>\n",
    "      <th>12</th>\n",
    "      <td>446900</td>\n",
    "      <td>42</td>\n",
    "    </tr>\n",
    "  </tbody>\n",
    "</table>"
   ]
  },
  {
   "cell_type": "markdown",
   "metadata": {
    "colab_type": "text",
    "id": "pIliRr2oDwnE"
   },
   "source": [
    "![](https://i.imgur.com/T6VRYf6.png)"
   ]
  },
  {
   "cell_type": "code",
   "execution_count": 6,
   "metadata": {
    "colab": {},
    "colab_type": "code",
    "id": "FXdpzFAZDwnI"
   },
   "outputs": [
    {
     "name": "stderr",
     "output_type": "stream",
     "text": [
      "C:\\Anaconda3\\lib\\site-packages\\statsmodels\\tools\\_testing.py:19: FutureWarning: pandas.util.testing is deprecated. Use the functions in the public API at pandas.testing instead.\n",
      "  import pandas.util.testing as tm\n"
     ]
    }
   ],
   "source": [
    "import matplotlib.pyplot as plt\n",
    "import seaborn as sns"
   ]
  },
  {
   "cell_type": "code",
   "execution_count": 7,
   "metadata": {
    "colab": {},
    "colab_type": "code",
    "id": "nQ0uCa6BDwnd"
   },
   "outputs": [
    {
     "data": {
      "text/html": [
       "<div>\n",
       "<style scoped>\n",
       "    .dataframe tbody tr th:only-of-type {\n",
       "        vertical-align: middle;\n",
       "    }\n",
       "\n",
       "    .dataframe tbody tr th {\n",
       "        vertical-align: top;\n",
       "    }\n",
       "\n",
       "    .dataframe thead th {\n",
       "        text-align: right;\n",
       "    }\n",
       "</style>\n",
       "<table border=\"1\" class=\"dataframe\">\n",
       "  <thead>\n",
       "    <tr style=\"text-align: right;\">\n",
       "      <th></th>\n",
       "      <th>sum</th>\n",
       "      <th>count</th>\n",
       "    </tr>\n",
       "    <tr>\n",
       "      <th>shop_id</th>\n",
       "      <th></th>\n",
       "      <th></th>\n",
       "    </tr>\n",
       "  </thead>\n",
       "  <tbody>\n",
       "    <tr>\n",
       "      <th>22</th>\n",
       "      <td>1365200</td>\n",
       "      <td>99</td>\n",
       "    </tr>\n",
       "    <tr>\n",
       "      <th>14</th>\n",
       "      <td>872000</td>\n",
       "      <td>30</td>\n",
       "    </tr>\n",
       "    <tr>\n",
       "      <th>63</th>\n",
       "      <td>710700</td>\n",
       "      <td>27</td>\n",
       "    </tr>\n",
       "    <tr>\n",
       "      <th>32</th>\n",
       "      <td>707900</td>\n",
       "      <td>37</td>\n",
       "    </tr>\n",
       "    <tr>\n",
       "      <th>126</th>\n",
       "      <td>669400</td>\n",
       "      <td>39</td>\n",
       "    </tr>\n",
       "    <tr>\n",
       "      <th>6</th>\n",
       "      <td>655900</td>\n",
       "      <td>24</td>\n",
       "    </tr>\n",
       "    <tr>\n",
       "      <th>11</th>\n",
       "      <td>653000</td>\n",
       "      <td>19</td>\n",
       "    </tr>\n",
       "    <tr>\n",
       "      <th>60</th>\n",
       "      <td>558300</td>\n",
       "      <td>23</td>\n",
       "    </tr>\n",
       "    <tr>\n",
       "      <th>19</th>\n",
       "      <td>518400</td>\n",
       "      <td>19</td>\n",
       "    </tr>\n",
       "    <tr>\n",
       "      <th>12</th>\n",
       "      <td>446900</td>\n",
       "      <td>42</td>\n",
       "    </tr>\n",
       "  </tbody>\n",
       "</table>\n",
       "</div>"
      ],
      "text/plain": [
       "             sum  count\n",
       "shop_id                \n",
       "22       1365200     99\n",
       "14        872000     30\n",
       "63        710700     27\n",
       "32        707900     37\n",
       "126       669400     39\n",
       "6         655900     24\n",
       "11        653000     19\n",
       "60        558300     23\n",
       "19        518400     19\n",
       "12        446900     42"
      ]
     },
     "execution_count": 7,
     "metadata": {},
     "output_type": "execute_result"
    }
   ],
   "source": [
    "order.groupby('shop_id')['price'].agg(['sum','count']).sort_values(by='sum',ascending=False).head(10)"
   ]
  },
  {
   "cell_type": "code",
   "execution_count": 8,
   "metadata": {},
   "outputs": [
    {
     "data": {
      "text/plain": [
       "<matplotlib.axes._subplots.AxesSubplot at 0x1adff062388>"
      ]
     },
     "execution_count": 8,
     "metadata": {},
     "output_type": "execute_result"
    },
    {
     "data": {
      "image/png": "[encoded data removed]",
      "text/plain": [
       "<Figure size 432x288 with 1 Axes>"
      ]
     },
     "metadata": {
      "needs_background": "light"
     },
     "output_type": "display_data"
    }
   ],
   "source": [
    "order.groupby('shop_id')['price'].sum().sort_values(ascending=False).head(10).plot(kind='bar')"
   ]
  },
  {
   "cell_type": "markdown",
   "metadata": {
    "colab_type": "text",
    "id": "JSEGTwtZDwnr"
   },
   "source": [
    "**4. 시간대별 지그재그 매출을 구하려고 합니다. lineplot을 이용하여 6월 11일의 시간대별 매출을 시각화 해주세요.**"
   ]
  },
  {
   "cell_type": "markdown",
   "metadata": {
    "colab_type": "text",
    "id": "H0ZPjjLMDwnv"
   },
   "source": [
    "지그재그 이용자들의 구매 패턴을 알아보려고 합니다. timestamp를 to_datetime을 이용하여 datetime 자료형으로 만든 뒤, 이를 이용하여 시간대별 총 매출량을 구해주세요.\n",
    "\n",
    "x를 timestamp, y를 price로 놓는 경우 다음과 같은 그래프가 나오게 됩니다. "
   ]
  },
  {
   "cell_type": "markdown",
   "metadata": {
    "colab_type": "text",
    "id": "jkA0FRFKDwn0"
   },
   "source": [
    "![](https://i.imgur.com/5cqEAAj.png)"
   ]
  },
  {
   "cell_type": "code",
   "execution_count": 9,
   "metadata": {
    "colab": {},
    "colab_type": "code",
    "id": "Tn2diX0UDwn-"
   },
   "outputs": [],
   "source": [
    "import matplotlib as mpl\n",
    "\n",
    "sns.set_style('whitegrid') #스타일은 원하는 것을 사용하세요.\n",
    "\n",
    "mpl.rc('font', family='Malgun Gothic') # Mac의 경우는 AppleGothic, 윈도우의 경우는 Malgun Gothic을 사용하면 됩니다 :) \n",
    "mpl.rc('axes', unicode_minus=False)\n",
    "\n",
    "from IPython.display import set_matplotlib_formats\n",
    "set_matplotlib_formats('retina')"
   ]
  },
  {
   "cell_type": "code",
   "execution_count": 11,
   "metadata": {},
   "outputs": [
    {
     "data": {
      "text/html": [
       "<div>\n",
       "<style scoped>\n",
       "    .dataframe tbody tr th:only-of-type {\n",
       "        vertical-align: middle;\n",
       "    }\n",
       "\n",
       "    .dataframe tbody tr th {\n",
       "        vertical-align: top;\n",
       "    }\n",
       "\n",
       "    .dataframe thead th {\n",
       "        text-align: right;\n",
       "    }\n",
       "</style>\n",
       "<table border=\"1\" class=\"dataframe\">\n",
       "  <thead>\n",
       "    <tr style=\"text-align: right;\">\n",
       "      <th></th>\n",
       "      <th>timestamp</th>\n",
       "      <th>user_id</th>\n",
       "      <th>goods_id</th>\n",
       "      <th>shop_id</th>\n",
       "      <th>price</th>\n",
       "    </tr>\n",
       "  </thead>\n",
       "  <tbody>\n",
       "    <tr>\n",
       "      <th>0</th>\n",
       "      <td>2018-06-11 00:00:43.032</td>\n",
       "      <td>bvu0aLTqiFDoU-963xnr5nzQWTNLUMjx</td>\n",
       "      <td>1414</td>\n",
       "      <td>38</td>\n",
       "      <td>45000</td>\n",
       "    </tr>\n",
       "    <tr>\n",
       "      <th>1</th>\n",
       "      <td>2018-06-11 00:02:33.763</td>\n",
       "      <td>smDmRnykg61KajpxXKzQ0oNkrh2nuSBj</td>\n",
       "      <td>1351</td>\n",
       "      <td>12</td>\n",
       "      <td>9500</td>\n",
       "    </tr>\n",
       "    <tr>\n",
       "      <th>2</th>\n",
       "      <td>2018-06-11 00:04:06.364</td>\n",
       "      <td>EyGjKYtSqZgqJ1ddKCtH5XwGirTyOH2P</td>\n",
       "      <td>646</td>\n",
       "      <td>14</td>\n",
       "      <td>22000</td>\n",
       "    </tr>\n",
       "    <tr>\n",
       "      <th>3</th>\n",
       "      <td>2018-06-11 00:04:17.258</td>\n",
       "      <td>KQBGi33Zxh5Dgu0WEkOkjN0YqTT_wxC3</td>\n",
       "      <td>5901</td>\n",
       "      <td>46</td>\n",
       "      <td>29800</td>\n",
       "    </tr>\n",
       "    <tr>\n",
       "      <th>4</th>\n",
       "      <td>2018-06-11 00:05:26.010</td>\n",
       "      <td>lq1Je3voA3a0MouSFba3629lKCvweI24</td>\n",
       "      <td>5572</td>\n",
       "      <td>89</td>\n",
       "      <td>29000</td>\n",
       "    </tr>\n",
       "    <tr>\n",
       "      <th>...</th>\n",
       "      <td>...</td>\n",
       "      <td>...</td>\n",
       "      <td>...</td>\n",
       "      <td>...</td>\n",
       "      <td>...</td>\n",
       "    </tr>\n",
       "    <tr>\n",
       "      <th>862</th>\n",
       "      <td>2018-06-11 23:47:02.003</td>\n",
       "      <td>i_Ar2GyU8xAEeQwzJm6wr60VDB6ofOpK</td>\n",
       "      <td>1065</td>\n",
       "      <td>61</td>\n",
       "      <td>29000</td>\n",
       "    </tr>\n",
       "    <tr>\n",
       "      <th>863</th>\n",
       "      <td>2018-06-11 23:50:42.202</td>\n",
       "      <td>49JWS9E7KuSnvv1B7uqMnsiT82ZmtRlO</td>\n",
       "      <td>502</td>\n",
       "      <td>12</td>\n",
       "      <td>12900</td>\n",
       "    </tr>\n",
       "    <tr>\n",
       "      <th>864</th>\n",
       "      <td>2018-06-11 23:51:54.449</td>\n",
       "      <td>wuK4KeAhonDy4KHxO8D60fFQsxoo_34c</td>\n",
       "      <td>5318</td>\n",
       "      <td>181</td>\n",
       "      <td>13200</td>\n",
       "    </tr>\n",
       "    <tr>\n",
       "      <th>865</th>\n",
       "      <td>2018-06-11 23:54:11.765</td>\n",
       "      <td>GU1JdCza2vj7N-0_YN3JOftW7SRXkWDi</td>\n",
       "      <td>2989</td>\n",
       "      <td>19</td>\n",
       "      <td>18900</td>\n",
       "    </tr>\n",
       "    <tr>\n",
       "      <th>866</th>\n",
       "      <td>2018-06-11 23:57:47.896</td>\n",
       "      <td>6xq2ibp39i7HaiTt_dOwWfpMC5UlFLhJ</td>\n",
       "      <td>1659</td>\n",
       "      <td>22</td>\n",
       "      <td>19000</td>\n",
       "    </tr>\n",
       "  </tbody>\n",
       "</table>\n",
       "<p>867 rows × 5 columns</p>\n",
       "</div>"
      ],
      "text/plain": [
       "                   timestamp                           user_id  goods_id  \\\n",
       "0    2018-06-11 00:00:43.032  bvu0aLTqiFDoU-963xnr5nzQWTNLUMjx      1414   \n",
       "1    2018-06-11 00:02:33.763  smDmRnykg61KajpxXKzQ0oNkrh2nuSBj      1351   \n",
       "2    2018-06-11 00:04:06.364  EyGjKYtSqZgqJ1ddKCtH5XwGirTyOH2P       646   \n",
       "3    2018-06-11 00:04:17.258  KQBGi33Zxh5Dgu0WEkOkjN0YqTT_wxC3      5901   \n",
       "4    2018-06-11 00:05:26.010  lq1Je3voA3a0MouSFba3629lKCvweI24      5572   \n",
       "..                       ...                               ...       ...   \n",
       "862  2018-06-11 23:47:02.003  i_Ar2GyU8xAEeQwzJm6wr60VDB6ofOpK      1065   \n",
       "863  2018-06-11 23:50:42.202  49JWS9E7KuSnvv1B7uqMnsiT82ZmtRlO       502   \n",
       "864  2018-06-11 23:51:54.449  wuK4KeAhonDy4KHxO8D60fFQsxoo_34c      5318   \n",
       "865  2018-06-11 23:54:11.765  GU1JdCza2vj7N-0_YN3JOftW7SRXkWDi      2989   \n",
       "866  2018-06-11 23:57:47.896  6xq2ibp39i7HaiTt_dOwWfpMC5UlFLhJ      1659   \n",
       "\n",
       "     shop_id  price  \n",
       "0         38  45000  \n",
       "1         12   9500  \n",
       "2         14  22000  \n",
       "3         46  29800  \n",
       "4         89  29000  \n",
       "..       ...    ...  \n",
       "862       61  29000  \n",
       "863       12  12900  \n",
       "864      181  13200  \n",
       "865       19  18900  \n",
       "866       22  19000  \n",
       "\n",
       "[867 rows x 5 columns]"
      ]
     },
     "execution_count": 11,
     "metadata": {},
     "output_type": "execute_result"
    }
   ],
   "source": [
    "order"
   ]
  },
  {
   "cell_type": "code",
   "execution_count": null,
   "metadata": {
    "colab": {},
    "colab_type": "code",
    "id": "4YWa2rbPDwoQ"
   },
   "outputs": [],
   "source": [
    "order['timestamp'] = pd.to_datetime(order['timestamp'],format=\"%Y-%m-%d %H:%M:%S.%f\")\n",
    "plt.figure(figsize=(20,5))\n",
    "sns.lineplot(x=\"timestamp\", y=\"price\", data=order)"
   ]
  },
  {
   "cell_type": "markdown",
   "metadata": {
    "colab_type": "text",
    "id": "5qwqltwtDwob"
   },
   "source": [
    "**5. 위의 시각화를 구간화(binning) 작업을 거쳐 보기 좋은 형태로 만들어주세요.**"
   ]
  },
  {
   "cell_type": "markdown",
   "metadata": {
    "colab_type": "text",
    "id": "jWPHBR3EDwod"
   },
   "source": [
    "위의 시각화는 적절하지 못한 시각화입니다. 정확하게는 x시 00분 ~ x시 59분 까지의 매출을 시간대별로 모두 합하는 binning 과정을 거친 뒤 시각화를 진행해야 원하는 결과를 얻을 수 있습니다.\n",
    "\n",
    "order 테이블에 로그의 발생 시간을 나타내는 hour 칼럼을 추가한 뒤, pivot_table을 이용하여 시간대별 매출을 구해주세요. 그리고, 이를 이용해 아래와 같은 그래프를 만들어 주세요."
   ]
  },
  {
   "cell_type": "markdown",
   "metadata": {
    "colab_type": "text",
    "id": "h12r819eDwof"
   },
   "source": [
    "*lineplot을 사용하는 경우*\n",
    "![](https://i.imgur.com/sGVLJKi.png)\n",
    "\n",
    "*pointplot을 사용하는 경우*\n",
    "![](https://i.imgur.com/hYuKVqE.png)"
   ]
  },
  {
   "cell_type": "code",
   "execution_count": null,
   "metadata": {
    "colab": {},
    "colab_type": "code",
    "id": "bCQUTdlCDwoh"
   },
   "outputs": [],
   "source": [
    "order_timeIndex = order.copy()\n",
    "order_timeIndex.index= order['timestamp'] # timestamp를 인덱스로 하는 df 생성\n",
    "plt.figure(figsize=(20,5))\n",
    "order_timeIndex['price'].resample('H').sum().plot() "
   ]
  },
  {
   "cell_type": "markdown",
   "metadata": {
    "colab_type": "text",
    "id": "YNUH6KNXDwou"
   },
   "source": [
    "**6 . user 테이블을 불러와 order 테이블과 병합해주세요.**"
   ]
  },
  {
   "cell_type": "markdown",
   "metadata": {
    "colab_type": "text",
    "id": "1LibI5HADwov"
   },
   "source": [
    "user 테이블에는 고객의 고유 아이디를 나타내는 user_id, 그리고 접속 기기정보를 나타내는 os, 그리고 나이정보 age가 있습니다. 이를 이용해 top 10 쇼핑몰 매출이 어떤 연령층에서 발생했는지 분석하고자 합니다. 데이터베이스에서 user 테이블을 불러온 뒤, order 테이블과 병합해주세요."
   ]
  },
  {
   "cell_type": "markdown",
   "metadata": {
    "colab_type": "text",
    "id": "AlMaQzVEDwox"
   },
   "source": [
    "병합 결과는 다음과 같이 나오게 됩니다.\n",
    "\n",
    "<table border=\"1\" class=\"dataframe\">\n",
    "  <thead>\n",
    "    <tr style=\"text-align: right;\">\n",
    "      <th></th>\n",
    "      <th>timestamp</th>\n",
    "      <th>user_id</th>\n",
    "      <th>goods_id</th>\n",
    "      <th>shop_id</th>\n",
    "      <th>price</th>\n",
    "      <th>hour</th>\n",
    "      <th>os</th>\n",
    "      <th>age</th>\n",
    "    </tr>\n",
    "  </thead>\n",
    "  <tbody>\n",
    "    <tr>\n",
    "      <th>0</th>\n",
    "      <td>2018-06-11 00:00:43.032</td>\n",
    "      <td>bvu0aLTqiFDoU-963xnr5nzQWTNLUMjx</td>\n",
    "      <td>1414</td>\n",
    "      <td>38</td>\n",
    "      <td>45000</td>\n",
    "      <td>0</td>\n",
    "      <td>iOS</td>\n",
    "      <td>39</td>\n",
    "    </tr>\n",
    "    <tr>\n",
    "      <th>1</th>\n",
    "      <td>2018-06-11 00:02:33.763</td>\n",
    "      <td>smDmRnykg61KajpxXKzQ0oNkrh2nuSBj</td>\n",
    "      <td>1351</td>\n",
    "      <td>12</td>\n",
    "      <td>9500</td>\n",
    "      <td>0</td>\n",
    "      <td>And</td>\n",
    "      <td>17</td>\n",
    "    </tr>\n",
    "    <tr>\n",
    "      <th>2</th>\n",
    "      <td>2018-06-11 00:04:06.364</td>\n",
    "      <td>EyGjKYtSqZgqJ1ddKCtH5XwGirTyOH2P</td>\n",
    "      <td>646</td>\n",
    "      <td>14</td>\n",
    "      <td>22000</td>\n",
    "      <td>0</td>\n",
    "      <td>And</td>\n",
    "      <td>-1</td>\n",
    "    </tr>\n",
    "    <tr>\n",
    "      <th>3</th>\n",
    "      <td>2018-06-11 00:04:17.258</td>\n",
    "      <td>KQBGi33Zxh5Dgu0WEkOkjN0YqTT_wxC3</td>\n",
    "      <td>5901</td>\n",
    "      <td>46</td>\n",
    "      <td>29800</td>\n",
    "      <td>0</td>\n",
    "      <td>And</td>\n",
    "      <td>34</td>\n",
    "    </tr>\n",
    "    <tr>\n",
    "      <th>4</th>\n",
    "      <td>2018-06-11 00:05:26.010</td>\n",
    "      <td>lq1Je3voA3a0MouSFba3629lKCvweI24</td>\n",
    "      <td>5572</td>\n",
    "      <td>89</td>\n",
    "      <td>29000</td>\n",
    "      <td>0</td>\n",
    "      <td>And</td>\n",
    "      <td>17</td>\n",
    "    </tr>\n",
    "  </tbody>\n",
    "</table>"
   ]
  },
  {
   "cell_type": "code",
   "execution_count": null,
   "metadata": {
    "colab": {},
    "colab_type": "code",
    "id": "Ows92XzVDwoz"
   },
   "outputs": [],
   "source": [
    "query = \"SELECT * FROM 'user'\"\n",
    "\n",
    "user = pd.read_sql(query, connect)\n",
    "\n",
    "user = pd.merge(user,order)\n",
    "\n",
    "print(user.shape)\n",
    "user.sort_values(by='timestamp').head(5)"
   ]
  },
  {
   "cell_type": "markdown",
   "metadata": {
    "colab_type": "text",
    "id": "Gpb76LvTDwpA"
   },
   "source": [
    "**7. 매출 Top 10 쇼핑몰 구매자들의 연령대를 쇼핑몰별로 시각화하여 보여주세요.**"
   ]
  },
  {
   "cell_type": "markdown",
   "metadata": {
    "colab_type": "text",
    "id": "EXpglbBVDwpD"
   },
   "source": [
    "위의 병합된 테이블을 이용하여, 당일 매출 Top 10 쇼핑몰에서 구매를 한 고객들의 연령대 분포를 시각화로 표현하고자 합니다. 이를 이용해 쇼핑몰이 설정한 타겟 연령대와 실제 구매층이 일치하는지를 비교해보고자 합니다.\n",
    "\n",
    "나이 정보가 없는 경우는 -1이 입력되어 있기 때문에 이를 처리한 다음 시각화를 해야 합니다. 시각화 결과가 아래의 둘 중 하나가 나오게 해주세요."
   ]
  },
  {
   "cell_type": "markdown",
   "metadata": {
    "colab_type": "text",
    "id": "HpgsISfzDwpF"
   },
   "source": [
    "![](https://i.imgur.com/roHlnXi.png)"
   ]
  },
  {
   "cell_type": "code",
   "execution_count": null,
   "metadata": {},
   "outputs": [],
   "source": [
    "import numpy as np\n",
    "user.loc[user['age'] == -1,'age'] = None # age -1 nan으로 대체\n",
    "top10_shop_list = user.groupby('shop_id')['price'].sum().sort_values(ascending=False).head(10).index # 매출 top10 shop_id\n",
    "top10_shop = user[user['shop_id'].isin(top10_shop_list)]"
   ]
  },
  {
   "cell_type": "code",
   "execution_count": null,
   "metadata": {
    "colab": {},
    "colab_type": "code",
    "id": "d4i0KtgoDwpH"
   },
   "outputs": [],
   "source": [
    "plt.figure(figsize=(10,5))\n",
    "sns.boxplot(x=\"shop_id\", y=\"age\", data=top10_shop)"
   ]
  },
  {
   "cell_type": "markdown",
   "metadata": {
    "colab_type": "text",
    "id": "4JE2pe5cDwpW"
   },
   "source": [
    "**8. user 테이블에 연령대를 나타내는 칼럼을 만들어주세요. 그리고 쇼핑몰이 설정한 타겟 연령대와 실제로 구매를 한 고객의 연령과 일치하는지를 검증해주세요.**"
   ]
  },
  {
   "cell_type": "markdown",
   "metadata": {
    "colab_type": "text",
    "id": "9dVu8SslDwpX"
   },
   "source": [
    "지그재그의 쇼핑몰들은 아래의 필터에서 보여지는 것과 같이 타겟 연령대를 가지고 있습니다. 하지만, 실제 구매가 설정되어 있는 타겟 연령대에 맞게 이루어지는지 꾸준히 검증이 이루어져야 합니다. 유저에게 더 적합한 제품이나 쇼핑몰을 추천해주어 유저 경험 (UX)를 증진시키는 것은 추천 플랫폼에게 매우 중요한 요소이기 때문입니다."
   ]
  },
  {
   "cell_type": "markdown",
   "metadata": {
    "colab_type": "text",
    "id": "Ep2dkPpCDwpa"
   },
   "source": [
    "<img src=\"https://i.imgur.com/HMd9xC2.jpg\" width=300>"
   ]
  },
  {
   "cell_type": "markdown",
   "metadata": {
    "colab_type": "text",
    "id": "lGGsDpDTDwpf"
   },
   "source": [
    "수행해야 할 작업은 총 3단계입니다.\n",
    "\n",
    "    1. 실제 나이를 바탕으로 user 테이블에 연령대 칼럼을 만들기\n",
    "    2. shop 테이블을 불러와 user, order 테이블과 병합하기\n",
    "    3. 쇼핑몰의 타겟 연령대와 해당 쇼핑몰에서의 결제를 한 고객의 연령대를 비교하기"
   ]
  },
  {
   "cell_type": "markdown",
   "metadata": {
    "colab_type": "text",
    "id": "-yzhZai7Dwph"
   },
   "source": [
    "아래의 함수를 이용해 user 테이블에 연령대를 만들어주세요."
   ]
  },
  {
   "cell_type": "code",
   "execution_count": null,
   "metadata": {
    "colab": {},
    "colab_type": "code",
    "id": "ETW7piBTDwpj",
    "outputId": "3e7bcab8-36f0-4b45-b83d-983bcebf7439"
   },
   "outputs": [],
   "source": [
    "def make_generation(age):\n",
    "    if np.isnan(age) == True:\n",
    "        return '미입력'\n",
    "    elif age // 10 >= 4:\n",
    "        return \"30대 후반\"\n",
    "    elif age // 10 == 1:\n",
    "        return \"10대\"\n",
    "    elif age % 10 < 3:\n",
    "        return str(age // 10 * 10) + f\"대 초반\"\n",
    "    elif age % 10 <= 6:\n",
    "        return str(age // 10 * 10) + f\"대 중반\"\n",
    "    else:\n",
    "        return str(age // 10 * 10) + f\"대 후반\"\n",
    "\n",
    "    \n",
    "user['연령대'] = user['age'].apply(make_generation)"
   ]
  },
  {
   "cell_type": "code",
   "execution_count": null,
   "metadata": {
    "colab": {},
    "colab_type": "code",
    "id": "n3N4xec_Dwpz"
   },
   "outputs": [],
   "source": [
    "query = \"SELECT * FROM 'shop'\"\n",
    "\n",
    "shop = pd.read_sql(query, connect)\n",
    "\n",
    "shop = pd.merge(user,shop,left_on='shop_id',right_on='shop_id')\n",
    "shop = pd.merge(shop,order)\n",
    "shop = shop[['timestamp','user_id','goods_id','shop_id','price','os','age_x','연령대','name','category','age_y','style']]\n",
    "shop.head(5)"
   ]
  },
  {
   "cell_type": "markdown",
   "metadata": {
    "colab_type": "text",
    "id": "qWTCpq49Dwp9"
   },
   "source": [
    "shop 테이블을 DB에서 불러와 주세요. 그 다음, user, order 테이블과 병합해주세요."
   ]
  },
  {
   "cell_type": "markdown",
   "metadata": {
    "colab_type": "text",
    "id": "hVlUKXV1Dwp_"
   },
   "source": [
    "병합 결과는 다음과 같게 됩니다.\n",
    "\n",
    "<table border=\"1\" class=\"dataframe\">\n",
    "  <thead>\n",
    "    <tr style=\"text-align: right;\">\n",
    "      <th></th>\n",
    "      <th>timestamp</th>\n",
    "      <th>user_id</th>\n",
    "      <th>goods_id</th>\n",
    "      <th>shop_id</th>\n",
    "      <th>price</th>\n",
    "      <th>hour</th>\n",
    "      <th>os</th>\n",
    "      <th>age_x</th>\n",
    "      <th>연령대</th>\n",
    "      <th>name</th>\n",
    "      <th>category</th>\n",
    "      <th>age_y</th>\n",
    "      <th>style</th>\n",
    "    </tr>\n",
    "  </thead>\n",
    "  <tbody>\n",
    "    <tr>\n",
    "      <th>0</th>\n",
    "      <td>2018-06-11 00:00:43.032</td>\n",
    "      <td>bvu0aLTqiFDoU-963xnr5nzQWTNLUMjx</td>\n",
    "      <td>1414</td>\n",
    "      <td>38</td>\n",
    "      <td>45000</td>\n",
    "      <td>0</td>\n",
    "      <td>iOS</td>\n",
    "      <td>39</td>\n",
    "      <td>30대 후반</td>\n",
    "      <td>Mabel</td>\n",
    "      <td>의류</td>\n",
    "      <td>20대 후반/30대 초반/30대 중반</td>\n",
    "      <td>모던시크/페미닌</td>\n",
    "    </tr>\n",
    "    <tr>\n",
    "      <th>1</th>\n",
    "      <td>2018-06-11 07:33:39.823</td>\n",
    "      <td>ni3NQK35j-YaSxli-C_Sz7ZmQqOwMljL</td>\n",
    "      <td>2278</td>\n",
    "      <td>38</td>\n",
    "      <td>37000</td>\n",
    "      <td>7</td>\n",
    "      <td>And</td>\n",
    "      <td>32</td>\n",
    "      <td>30대 초반</td>\n",
    "      <td>Mabel</td>\n",
    "      <td>의류</td>\n",
    "      <td>20대 후반/30대 초반/30대 중반</td>\n",
    "      <td>모던시크/페미닌</td>\n",
    "    </tr>\n",
    "    <tr>\n",
    "      <th>2</th>\n",
    "      <td>2018-06-11 12:56:27.867</td>\n",
    "      <td>MnvhmV0tA89bN9TLXgRTbLza689bTkT9</td>\n",
    "      <td>5513</td>\n",
    "      <td>38</td>\n",
    "      <td>31000</td>\n",
    "      <td>12</td>\n",
    "      <td>And</td>\n",
    "      <td>37</td>\n",
    "      <td>30대 후반</td>\n",
    "      <td>Mabel</td>\n",
    "      <td>의류</td>\n",
    "      <td>20대 후반/30대 초반/30대 중반</td>\n",
    "      <td>모던시크/페미닌</td>\n",
    "    </tr>\n",
    "    <tr>\n",
    "      <th>3</th>\n",
    "      <td>2018-06-11 22:57:11.582</td>\n",
    "      <td>3Vo9NP0qU_176pgbqk6Cu-CY7kpJ2-WB</td>\n",
    "      <td>7026</td>\n",
    "      <td>38</td>\n",
    "      <td>17100</td>\n",
    "      <td>22</td>\n",
    "      <td>iOS</td>\n",
    "      <td>34</td>\n",
    "      <td>30대 중반</td>\n",
    "      <td>Mabel</td>\n",
    "      <td>의류</td>\n",
    "      <td>20대 후반/30대 초반/30대 중반</td>\n",
    "      <td>모던시크/페미닌</td>\n",
    "    </tr>\n",
    "    <tr>\n",
    "      <th>4</th>\n",
    "      <td>2018-06-11 00:02:33.763</td>\n",
    "      <td>smDmRnykg61KajpxXKzQ0oNkrh2nuSBj</td>\n",
    "      <td>1351</td>\n",
    "      <td>12</td>\n",
    "      <td>9500</td>\n",
    "      <td>0</td>\n",
    "      <td>And</td>\n",
    "      <td>17</td>\n",
    "      <td>10대 후반</td>\n",
    "      <td>Rachel</td>\n",
    "      <td>의류</td>\n",
    "      <td>10대/20대 초반</td>\n",
    "      <td>러블리/심플베이직</td>\n",
    "    </tr>\n",
    "  </tbody>\n",
    "</table>"
   ]
  },
  {
   "cell_type": "markdown",
   "metadata": {
    "colab_type": "text",
    "id": "DgSuuJeLDwqL"
   },
   "source": [
    "병합한 테이블을 이용하여 '거래연령 일치여부' 칼럼을 아래의 칼럼을 이용하여 만들어 주세요. 각 열이 아닌 각 행에 함수를 적용할 때는 `apply(function, axis=1)`을 이용해야 합니다."
   ]
  },
  {
   "cell_type": "code",
   "execution_count": null,
   "metadata": {
    "colab": {},
    "colab_type": "code",
    "id": "J8SpQqOMDwqO"
   },
   "outputs": [],
   "source": [
    "def check_generation(row):\n",
    "    if row['category'] == '의류' and row['연령대'] == '미입력':\n",
    "        return True\n",
    "    else:\n",
    "        return row['연령대'] in str(row['age_y'])\n",
    "    \n",
    "shop['거래연령 일치여부'] = shop.apply(check_generation,axis=1)\n",
    "grouped_1 = shop.groupby('shop_id')['거래연령 일치여부'].agg(['mean','count'])\n",
    "grouped_1.head(5)"
   ]
  },
  {
   "cell_type": "markdown",
   "metadata": {
    "colab_type": "text",
    "id": "KA1gGiSfDwqd"
   },
   "source": [
    "피벗 테이블을 이용한 결과가 다음과 같이 나오게 됩니다."
   ]
  },
  {
   "cell_type": "markdown",
   "metadata": {
    "colab_type": "text",
    "id": "qkeQQH8vDwqh"
   },
   "source": [
    "<table border=\"1\" class=\"dataframe\">\n",
    "  <thead>\n",
    "    <tr>\n",
    "      <th></th>\n",
    "      <th>mean</th>\n",
    "      <th>count</th>\n",
    "    </tr>\n",
    "    <tr>\n",
    "      <th></th>\n",
    "      <th>거래연령 일치여부</th>\n",
    "      <th>거래연령 일치여부</th>\n",
    "    </tr>\n",
    "    <tr>\n",
    "      <th>shop_id</th>\n",
    "      <th></th>\n",
    "      <th></th>\n",
    "    </tr>\n",
    "  </thead>\n",
    "  <tbody>\n",
    "    <tr>\n",
    "      <th>1</th>\n",
    "      <td>0.666667</td>\n",
    "      <td>3</td>\n",
    "    </tr>\n",
    "    <tr>\n",
    "      <th>2</th>\n",
    "      <td>0.937500</td>\n",
    "      <td>16</td>\n",
    "    </tr>\n",
    "    <tr>\n",
    "      <th>3</th>\n",
    "      <td>0.400000</td>\n",
    "      <td>5</td>\n",
    "    </tr>\n",
    "    <tr>\n",
    "      <th>4</th>\n",
    "      <td>1.000000</td>\n",
    "      <td>1</td>\n",
    "    </tr>\n",
    "    <tr>\n",
    "      <th>5</th>\n",
    "      <td>0.000000</td>\n",
    "      <td>1</td>\n",
    "    </tr>\n",
    "  </tbody>\n",
    "</table>"
   ]
  },
  {
   "cell_type": "code",
   "execution_count": null,
   "metadata": {},
   "outputs": [],
   "source": [
    "grouped_1[grouped_1.index.isin(top10_shop_list)]"
   ]
  },
  {
   "cell_type": "markdown",
   "metadata": {
    "colab_type": "text",
    "id": "Coz7uhRVDwqx"
   },
   "source": [
    "위의 정보를 Top 10 쇼핑몰에 대해 뽑아보면 다음과 같은 결과가 나옵니다. "
   ]
  },
  {
   "cell_type": "markdown",
   "metadata": {
    "colab_type": "text",
    "id": "zJ1f7yjqDwqz"
   },
   "source": [
    "`table[table.index.isin(top10_index)]`\n",
    "\n",
    "<table border=\"1\" class=\"dataframe\">\n",
    "  <thead>\n",
    "    <tr>\n",
    "      <th></th>\n",
    "      <th>mean</th>\n",
    "      <th>count</th>\n",
    "    </tr>\n",
    "    <tr>\n",
    "      <th></th>\n",
    "      <th>거래연령 일치여부</th>\n",
    "      <th>거래연령 일치여부</th>\n",
    "    </tr>\n",
    "    <tr>\n",
    "      <th>shop_id</th>\n",
    "      <th></th>\n",
    "      <th></th>\n",
    "    </tr>\n",
    "  </thead>\n",
    "  <tbody>\n",
    "    <tr>\n",
    "      <th>6</th>\n",
    "      <td>0.750000</td>\n",
    "      <td>24</td>\n",
    "    </tr>\n",
    "    <tr>\n",
    "      <th>11</th>\n",
    "      <td>0.684211</td>\n",
    "      <td>19</td>\n",
    "    </tr>\n",
    "    <tr>\n",
    "      <th>12</th>\n",
    "      <td>0.857143</td>\n",
    "      <td>42</td>\n",
    "    </tr>\n",
    "    <tr>\n",
    "      <th>14</th>\n",
    "      <td>0.566667</td>\n",
    "      <td>30</td>\n",
    "    </tr>\n",
    "    <tr>\n",
    "      <th>19</th>\n",
    "      <td>0.789474</td>\n",
    "      <td>19</td>\n",
    "    </tr>\n",
    "    <tr>\n",
    "      <th>22</th>\n",
    "      <td>0.929293</td>\n",
    "      <td>99</td>\n",
    "    </tr>\n",
    "    <tr>\n",
    "      <th>32</th>\n",
    "      <td>0.540541</td>\n",
    "      <td>37</td>\n",
    "    </tr>\n",
    "    <tr>\n",
    "      <th>60</th>\n",
    "      <td>0.695652</td>\n",
    "      <td>23</td>\n",
    "    </tr>\n",
    "    <tr>\n",
    "      <th>63</th>\n",
    "      <td>0.000000</td>\n",
    "      <td>27</td>\n",
    "    </tr>\n",
    "    <tr>\n",
    "      <th>126</th>\n",
    "      <td>0.000000</td>\n",
    "      <td>39</td>\n",
    "    </tr>\n",
    "  </tbody>\n",
    "</table>"
   ]
  },
  {
   "cell_type": "markdown",
   "metadata": {
    "colab_type": "text",
    "id": "apTtU5RJDwq1"
   },
   "source": [
    "의류이외의 제품을 파는 쇼핑몰은 타겟 연령층이 없기 떄문에 일치여부가 0이 나옵니다. 일치여부가 낮은 쇼핑몰의 경우는 더 긴 기간의 로그를 모니터링 한 다음, 태그 수정을 제안하여 타겟 적합도를 높일 수 있습니다."
   ]
  },
  {
   "cell_type": "markdown",
   "metadata": {
    "colab_type": "text",
    "id": "KAM81IsfDwq3"
   },
   "source": [
    "**9. 쇼핑몰의 스타일 태그를 정리해주세요.**"
   ]
  },
  {
   "cell_type": "markdown",
   "metadata": {
    "colab_type": "text",
    "id": "MVJ4RmhjDwq5"
   },
   "source": [
    "쇼핑몰별로 제품군의 스타일을 나타낼 수 있는 태그를 가지고 있습니다. 이 태그는 다음의 리스트에 정리되어 있습니다."
   ]
  },
  {
   "cell_type": "code",
   "execution_count": null,
   "metadata": {
    "colab": {},
    "colab_type": "code",
    "id": "eBcahla3Dwq6"
   },
   "outputs": [],
   "source": [
    "style_list = ['페미닌', '모던시크', '심플베이직', '러블리', '유니크', '미시스타일', '캠퍼스룩', '빈티지', '섹시글램', '스쿨룩', '로맨틱', '오피스룩',\n",
    "              '럭셔리', '헐리웃스타일', '심플시크', '키치', '펑키', '큐티', '볼드&에스닉' ]"
   ]
  },
  {
   "cell_type": "markdown",
   "metadata": {
    "colab_type": "text",
    "id": "_LcmRGmXDwrF"
   },
   "source": [
    "위의 스타일을 정리하여 shop 테이블을 전처리해 아래와 같은 테이블을 만들어주세요."
   ]
  },
  {
   "cell_type": "code",
   "execution_count": null,
   "metadata": {},
   "outputs": [],
   "source": [
    "## style 테이블 생성\n",
    "shop_style_matrix = shop[['shop_id','name','category','age_y','style']]\n",
    "shop_style_matrix = pd.concat([shop_style_matrix,pd.DataFrame(columns=style_list)])\n",
    "\n",
    "\n",
    "for idx in range(len(shop_style_matrix)): # 각 행별로\n",
    "    if pd.isnull(shop_style_matrix.iloc[idx]['style']) == True : #style값이 nan이면 pass\n",
    "        pass\n",
    "    else : \n",
    "        style_value = shop_style_matrix.iloc[idx]['style'].split('/') # style값을 '/'을 기준으로 split\n",
    "        \n",
    "        false_col = list(set(style_list) - set(style_value)) # False값 넣을 컬럼들\n",
    "        shop_style_matrix.loc[idx,false_col] = False \n",
    "        \n",
    "        shop_style_matrix.loc[idx,style_value] = True # True값 넣을 컬럼들\n",
    "        \n",
    "shop_style_matrix['shop_id'] = shop_style_matrix['shop_id'].astype('object')\n",
    "shop_style_matrix['shop_id'].head(3)"
   ]
  },
  {
   "cell_type": "markdown",
   "metadata": {
    "colab_type": "text",
    "id": "DLNAL9qhDwrH"
   },
   "source": [
    "<table border=\"1\" class=\"dataframe\">\n",
    "  <thead>\n",
    "    <tr style=\"text-align: right;\">\n",
    "      <th></th>\n",
    "      <th>name</th>\n",
    "      <th>category</th>\n",
    "      <th>age</th>\n",
    "      <th>style</th>\n",
    "      <th>페미닌</th>\n",
    "      <th>모던시크</th>\n",
    "      <th>심플베이직</th>\n",
    "      <th>러블리</th>\n",
    "      <th>유니크</th>\n",
    "      <th>미시스타일</th>\n",
    "      <th>캠퍼스룩</th>\n",
    "      <th>빈티지</th>\n",
    "      <th>섹시글램</th>\n",
    "      <th>스쿨룩</th>\n",
    "      <th>로맨틱</th>\n",
    "      <th>오피스룩</th>\n",
    "      <th>럭셔리</th>\n",
    "      <th>헐리웃스타일</th>\n",
    "      <th>심플시크</th>\n",
    "      <th>키치</th>\n",
    "      <th>펑키</th>\n",
    "      <th>큐티</th>\n",
    "      <th>볼드&amp;에스닉</th>\n",
    "    </tr>\n",
    "    <tr>\n",
    "      <th>shop_id</th>\n",
    "      <th></th>\n",
    "      <th></th>\n",
    "      <th></th>\n",
    "      <th></th>\n",
    "      <th></th>\n",
    "      <th></th>\n",
    "      <th></th>\n",
    "      <th></th>\n",
    "      <th></th>\n",
    "      <th></th>\n",
    "      <th></th>\n",
    "      <th></th>\n",
    "      <th></th>\n",
    "      <th></th>\n",
    "      <th></th>\n",
    "      <th></th>\n",
    "      <th></th>\n",
    "      <th></th>\n",
    "      <th></th>\n",
    "      <th></th>\n",
    "      <th></th>\n",
    "      <th></th>\n",
    "      <th></th>\n",
    "    </tr>\n",
    "  </thead>\n",
    "  <tbody>\n",
    "    <tr>\n",
    "      <th>1</th>\n",
    "      <td>Edna</td>\n",
    "      <td>의류</td>\n",
    "      <td>20대 중반/20대 후반/30대 초반</td>\n",
    "      <td>모던시크/러블리</td>\n",
    "      <td>False</td>\n",
    "      <td>True</td>\n",
    "      <td>False</td>\n",
    "      <td>True</td>\n",
    "      <td>False</td>\n",
    "      <td>False</td>\n",
    "      <td>False</td>\n",
    "      <td>False</td>\n",
    "      <td>False</td>\n",
    "      <td>False</td>\n",
    "      <td>False</td>\n",
    "      <td>False</td>\n",
    "      <td>False</td>\n",
    "      <td>False</td>\n",
    "      <td>False</td>\n",
    "      <td>False</td>\n",
    "      <td>False</td>\n",
    "      <td>False</td>\n",
    "      <td>False</td>\n",
    "    </tr>\n",
    "    <tr>\n",
    "      <th>2</th>\n",
    "      <td>Pam</td>\n",
    "      <td>의류</td>\n",
    "      <td>20대 중반/20대 후반/30대 초반</td>\n",
    "      <td>러블리/심플베이직</td>\n",
    "      <td>False</td>\n",
    "      <td>False</td>\n",
    "      <td>True</td>\n",
    "      <td>True</td>\n",
    "      <td>False</td>\n",
    "      <td>False</td>\n",
    "      <td>False</td>\n",
    "      <td>False</td>\n",
    "      <td>False</td>\n",
    "      <td>False</td>\n",
    "      <td>False</td>\n",
    "      <td>False</td>\n",
    "      <td>False</td>\n",
    "      <td>False</td>\n",
    "      <td>False</td>\n",
    "      <td>False</td>\n",
    "      <td>False</td>\n",
    "      <td>False</td>\n",
    "      <td>False</td>\n",
    "    </tr>\n",
    "    <tr>\n",
    "      <th>3</th>\n",
    "      <td>Carolyn</td>\n",
    "      <td>의류</td>\n",
    "      <td>20대 중반/20대 후반/30대 초반</td>\n",
    "      <td>모던시크/심플베이직</td>\n",
    "      <td>False</td>\n",
    "      <td>True</td>\n",
    "      <td>True</td>\n",
    "      <td>False</td>\n",
    "      <td>False</td>\n",
    "      <td>False</td>\n",
    "      <td>False</td>\n",
    "      <td>False</td>\n",
    "      <td>False</td>\n",
    "      <td>False</td>\n",
    "      <td>False</td>\n",
    "      <td>False</td>\n",
    "      <td>False</td>\n",
    "      <td>False</td>\n",
    "      <td>False</td>\n",
    "      <td>False</td>\n",
    "      <td>False</td>\n",
    "      <td>False</td>\n",
    "      <td>False</td>\n",
    "    </tr>\n",
    "  </tbody>\n",
    "</table>"
   ]
  },
  {
   "cell_type": "markdown",
   "metadata": {
    "colab_type": "text",
    "id": "xT9dQ3iRDwrK"
   },
   "source": [
    "예를 들어 shop_id가 1인 쇼핑몰의 스타일이 `모던시크/러블리`인 경우 모던시크 칼럼과 러블리 칼럼은 True 값을 가지고 나머지 칼럼은 False의 값을 가집니다."
   ]
  },
  {
   "cell_type": "markdown",
   "metadata": {
    "colab_type": "text",
    "id": "JHzBdmAXDwrY"
   },
   "source": [
    "**10. 스타일별 실제 구매 기록을 바탕으로 가장 구매가 많이 일어난 스타일 키워드를 찾아주세요. 또한, 매출이 가장 많은 3가지 스타일의 구매 연령대 분포를 그려주세요.**\n"
   ]
  },
  {
   "cell_type": "markdown",
   "metadata": {
    "colab_type": "text",
    "id": "wcO7PPe6Dwra"
   },
   "source": [
    "위에서 전처리한 스타일을 이용하기 위해 order, shop, user 테이블을 다시 테이블을 병합하도록 하겠습니다."
   ]
  },
  {
   "cell_type": "code",
   "execution_count": null,
   "metadata": {},
   "outputs": [],
   "source": [
    "## 앞에서 기존변수명들 안바꾸고 진행했기 때문에 다시 load \n",
    "connect = sqlite3.connect('data/zigzag_DB.db')\n",
    "\n",
    "query_shop = \"SELECT * FROM 'shop'\"\n",
    "query_user = \"SELECT * FROM 'user'\"\n",
    "query_order = \"SELECT * FROM 'order'\"\n",
    "\n",
    "shop = pd.read_sql(query_shop, connect)\n",
    "user = pd.read_sql(query_user, connect)\n",
    "order = pd.read_sql(query_order, connect)\n",
    "\n",
    "merged = (\n",
    "    order.merge(shop, on='shop_id')\n",
    "             .merge(user, on='user_id')\n",
    ")\n",
    "print(merged.shape)\n",
    "merged.head(3)"
   ]
  },
  {
   "cell_type": "markdown",
   "metadata": {
    "colab_type": "text",
    "id": "2RAP8TVxDwrs"
   },
   "source": [
    "위의 merged table을 이용하여 다음과 같은 그래프가 나오게 해주세요."
   ]
  },
  {
   "cell_type": "markdown",
   "metadata": {
    "colab_type": "text",
    "id": "d-X7yQooDwrt"
   },
   "source": [
    "\n",
    "\n",
    "<img src=\"https://i.imgur.com/T4a4atS.png\" width=800>"
   ]
  },
  {
   "cell_type": "code",
   "execution_count": null,
   "metadata": {},
   "outputs": [],
   "source": [
    "def style_1(x):\n",
    "    if pd.isnull(x) : return 0 \n",
    "    elif '심플베이직' in x : return 1\n",
    "    else : return  0\n",
    "    \n",
    "def style_2(x):\n",
    "    if pd.isnull(x) :  return 0 \n",
    "    elif '러블리' in x : return 1\n",
    "    else : return  0\n",
    "    \n",
    "def style_3(x):\n",
    "    if pd.isnull(x) : return 0 \n",
    "    elif '모던시크' in x : return 1\n",
    "    else : return  0\n",
    "\n",
    "merged['심플베이직'] = merged['style'].apply(style_1)\n",
    "merged['러블리'] = merged['style'].apply(style_2)\n",
    "merged['모던시크'] = merged['style'].apply(style_3)\n",
    "\n",
    "style_1 = merged[merged['심플베이직'] == 1]\n",
    "style_2 = merged[merged['러블리'] == 1]\n",
    "style_3 = merged[merged['모던시크'] == 1]\n",
    "\n",
    "plt.figure(figsize=(20,5))\n",
    "sns.distplot(style_1['age_y'],hist=False,label='심플베이직')\n",
    "sns.distplot(style_2['age_y'],hist=False,label='러블리')\n",
    "sns.distplot(style_3['age_y'],hist=False,label='모던시크')"
   ]
  },
  {
   "cell_type": "markdown",
   "metadata": {
    "colab_type": "text",
    "id": "croXBQ1KDwsD"
   },
   "source": [
    "**10. DB에서 로그 데이터를 불러온 다음 timestamp 컬럼을 datetime 형식으로 바꿔주세요. 그리고 user id를 보기 쉽게 간단한 자연수 형태로 변환해주세요.**"
   ]
  },
  {
   "cell_type": "code",
   "execution_count": null,
   "metadata": {
    "colab": {},
    "colab_type": "code",
    "id": "QNoRmjIDDwsK"
   },
   "outputs": [],
   "source": [
    "connect = sqlite3.connect('data/zigzag_DB.db')\n",
    "\n",
    "query_log = \"SELECT * FROM 'log'\"\n",
    "\n",
    "log = pd.read_sql(query_log, connect)"
   ]
  },
  {
   "cell_type": "code",
   "execution_count": null,
   "metadata": {},
   "outputs": [],
   "source": [
    "log['timestamp'] = pd.to_datetime(log['timestamp'],format=\"%Y-%m-%d %H:%M:%S.%f\")"
   ]
  },
  {
   "cell_type": "markdown",
   "metadata": {
    "colab_type": "text",
    "id": "K9667Sp_Dwsa"
   },
   "source": [
    "지그재그 로그 데이터의 명세는 다음과 같습니다.\n",
    "\n",
    "\n",
    "    - 컬럼 별 명세\n",
    "        1. timestamp : 이벤트 발생 시간 (한국 시간 기준)\n",
    "        2. user_id : 이용자 고유 식별자\n",
    "        3. event_origin : 이벤트가 발생한 앱 위치\n",
    "            - event_origin 값 별 의미\n",
    "                a. goods_search_result : 특정 검색어의 상품 검색 결과\n",
    "                    (Ex: goods_search_result/반팔티)\n",
    "                b. shops_ranking : '쇼핑몰 랭킹' 영역\n",
    "                c. shops_bookmark : '즐겨찾기' 영역\n",
    "                d. category_search_result : 카테고리 검색 결과 \n",
    "                    (Ex:category_search_result/상의)\n",
    "                e. my_goods : '내 상품' 영역\n",
    "                \n",
    "        4. event_name : 발생한 이벤트 명\n",
    "            - event_name 값 별 의미\n",
    "                a. app_page_view : 앱 내 화면 이동\n",
    "                b. enter_browser : 앱 내 클릭을 통해, 특정 웹페이지로 진입\n",
    "                c. add_bookmark : 특정 쇼핑몰을 즐겨찾기 추가\n",
    "                d. remove_bookmark : 특정 쇼핑몰을 즐겨찾기 제거\n",
    "                e. add_my_goods : 특정 상품을 내 상품 추가\n",
    "                f. remove_my_goods : 특정 상품을 내 상품 제거\n",
    "                \n",
    "        5. event_goods_id : 이벤트가 발생한 상품 고유 식별자\n",
    "             - 상품 관련 이벤트가 아닌 경우, 공백\n",
    "             \n",
    "        6. event_shop_id : 이벤트가 발생한 쇼핑몰 고유 식별자\n",
    "             - 쇼핑몰 관련 이벤트가 아닌 경우, 공백\n",
    "\n"
   ]
  },
  {
   "cell_type": "markdown",
   "metadata": {
    "colab_type": "text",
    "id": "TUjLF7BXDwsc"
   },
   "source": [
    "user_id는 아래에서 확인할 수 있듯이 매우 복잡한 형태로 되어 있어 한눈에 파악하기 어렵습니다.\n",
    "\n",
    "\n",
    "<table border=\"1\" class=\"dataframe\">\n",
    "  <thead>\n",
    "    <tr style=\"text-align: right;\">\n",
    "      <th></th>\n",
    "      <th>user_id</th>\n",
    "      <th>os</th>\n",
    "      <th>age</th>\n",
    "    </tr>\n",
    "  </thead>\n",
    "  <tbody>\n",
    "    <tr>\n",
    "      <th>0</th>\n",
    "      <td>--PYPMX8QWg0ioT5zfORmU-S5Lln0lot</td>\n",
    "      <td>And</td>\n",
    "      <td>41</td>\n",
    "    </tr>\n",
    "    <tr>\n",
    "      <th>1</th>\n",
    "      <td>-16-xXbeDcvkZJtTpRwMi57Yo2ZQpORv</td>\n",
    "      <td>iOS</td>\n",
    "      <td>31</td>\n",
    "    </tr>\n",
    "    <tr>\n",
    "      <th>2</th>\n",
    "      <td>-1de9sT-MLwVVvnC0ncCLnqEqpSi3XSN</td>\n",
    "      <td>iOS</td>\n",
    "      <td>16</td>\n",
    "    </tr>\n",
    "    <tr>\n",
    "      <th>3</th>\n",
    "      <td>-3A3L2jnM55B_Q1bRXMjZ6sPnINIj-Y1</td>\n",
    "      <td>And</td>\n",
    "      <td>41</td>\n",
    "    </tr>\n",
    "    <tr>\n",
    "      <th>4</th>\n",
    "      <td>-3bhcSgPOIdQAPkPNcchxvECGqGQQ78k</td>\n",
    "      <td>And</td>\n",
    "      <td>42</td>\n",
    "    </tr>\n",
    "  </tbody>\n",
    "</table>\n",
    "\n",
    "\n"
   ]
  },
  {
   "cell_type": "markdown",
   "metadata": {
    "colab_type": "text",
    "id": "n6yGLTk3Dwse"
   },
   "source": [
    "앞으로의 분석을 용이하게 하기위하여 user_id을 간단하게 0, 1, 2, 3 ...과 같이 연속된 정수 형태로 아래와 같이 변환하겠습니다."
   ]
  },
  {
   "cell_type": "markdown",
   "metadata": {
    "colab_type": "text",
    "id": "ITC71hmFDwsg"
   },
   "source": [
    "<table border=\"1\" class=\"dataframe\">\n",
    "  <thead>\n",
    "    <tr style=\"text-align: right;\">\n",
    "      <th></th>\n",
    "      <th>user_id</th>\n",
    "      <th>n_user_id</th>\n",
    "    </tr>\n",
    "  </thead>\n",
    "  <tbody>\n",
    "    <tr>\n",
    "      <th>0</th>\n",
    "      <td>K1d8_t3-QIskaSkrx32oAFu856D8JmLo</td>\n",
    "      <td>3314</td>\n",
    "    </tr>\n",
    "    <tr>\n",
    "      <th>1</th>\n",
    "      <td>lwFZ77v_ygk0uU40t1ud3l30EZ6sE2R3</td>\n",
    "      <td>7844</td>\n",
    "    </tr>\n",
    "    <tr>\n",
    "      <th>2</th>\n",
    "      <td>mR-bO6hC9g-m8ERXMRQZaRwJFvzNNdd8</td>\n",
    "      <td>7920</td>\n",
    "    </tr>\n",
    "    <tr>\n",
    "      <th>3</th>\n",
    "      <td>K1d8_t3-QIskaSkrx32oAFu856D8JmLo</td>\n",
    "      <td>3314</td>\n",
    "    </tr>\n",
    "    <tr>\n",
    "      <th>4</th>\n",
    "      <td>Yjny5AchUWLiuv4kdeq50COF-S8OFXPd</td>\n",
    "      <td>5608</td>\n",
    "    </tr>\n",
    "    <tr>\n",
    "      <th>5</th>\n",
    "      <td>LZZ0ktGq6hW685TFAQfcGNhsKVUEceHl</td>\n",
    "      <td>3548</td>\n",
    "    </tr>\n",
    "    <tr>\n",
    "      <th>6</th>\n",
    "      <td>TUoAGIbbNds5cYLZLnz-R5VlkG5L8RuZ</td>\n",
    "      <td>4790</td>\n",
    "    </tr>\n",
    "    <tr>\n",
    "      <th>7</th>\n",
    "      <td>B9F_BHH9F3b6MW329go9jDr71Uunx629</td>\n",
    "      <td>1902</td>\n",
    "    </tr>\n",
    "    <tr>\n",
    "      <th>8</th>\n",
    "      <td>e_xrTZ9fHVodxxadLx688qUKMWCdL8bW</td>\n",
    "      <td>6663</td>\n",
    "    </tr>\n",
    "    <tr>\n",
    "      <th>9</th>\n",
    "      <td>aA9S7LxnFm6ym6IUEa-4SSxJa-iL5m2J</td>\n",
    "      <td>5976</td>\n",
    "    </tr>\n",
    "  </tbody>\n",
    "</table>"
   ]
  },
  {
   "cell_type": "markdown",
   "metadata": {
    "colab_type": "text",
    "id": "Z4iiJFrTDwsi"
   },
   "source": [
    "기존의 고객 아이디와 새롭게 만들 고객 아이디를 짝지어 딕셔너리로 만들고 이를 mapping하여 진행을 할 것입니다."
   ]
  },
  {
   "cell_type": "code",
   "execution_count": null,
   "metadata": {
    "colab": {},
    "colab_type": "code",
    "id": "0iQeN1YuDwsl"
   },
   "outputs": [],
   "source": [
    "# 판다스의 unique() 기능을 이용하여 유저 아이디를 user_id라는 변수에 저장합니다.\n",
    "\n",
    "user_id = user['user_id'].unique()"
   ]
  },
  {
   "cell_type": "code",
   "execution_count": null,
   "metadata": {
    "colab": {},
    "colab_type": "code",
    "id": "shqJrah2DwtD"
   },
   "outputs": [],
   "source": [
    "#새로운 user_id는 연속된 자연수들로 지정합니다. range()와 len()을 사용하여 user_id의 개수만큼의 연속된 정수를 만듭니다.\n",
    "\n",
    "n_user_id = range(len(user_id))\n",
    "n_user_id"
   ]
  },
  {
   "cell_type": "code",
   "execution_count": null,
   "metadata": {
    "colab": {},
    "colab_type": "code",
    "id": "Hq3C61yYDwte",
    "outputId": "c5feec68-a210-4bd0-fc07-b4e9d91549ab"
   },
   "outputs": [],
   "source": [
    "#python 내장 함수인 zip()을 이용하여 기존의 id와 새로운 id를 묶습니다.\n",
    "id_zip = zip(user_id, n_user_id)\n",
    "\n",
    "#id_zip을 출력하면 아래 결과와 같이 zip object이 출력됩니다.\n",
    "print(id_zip)"
   ]
  },
  {
   "cell_type": "code",
   "execution_count": null,
   "metadata": {
    "colab": {},
    "colab_type": "code",
    "id": "GbL1zbPdDwtz",
    "outputId": "4861ee74-02e3-4eac-c19b-b47a72632be0"
   },
   "outputs": [],
   "source": [
    "#zip()의 결과를 구체적으로 보기 위하여 list로 변환하여 print하겠습니다. 상위 5개만 출력합니다.\n",
    "list(zip(user_id, n_user_id))[:5]"
   ]
  },
  {
   "cell_type": "code",
   "execution_count": null,
   "metadata": {
    "colab": {},
    "colab_type": "code",
    "id": "kd67iaEXDwuH",
    "outputId": "3221c967-759c-4f85-e41d-be4c39ca6279"
   },
   "outputs": [],
   "source": [
    "#새로운 id와 기존의 id가 대응된 딕셔너리 타입 변수를 생성합니다.\n",
    "id_dict = dict(id_zip)\n",
    "id_dict"
   ]
  },
  {
   "cell_type": "code",
   "execution_count": null,
   "metadata": {},
   "outputs": [],
   "source": [
    "user_id_condi = id_dict\n",
    "\n",
    "log['n_user_id'] = log['user_id'].map(user_id_condi)\n",
    "log[['user_id','n_user_id']].head(5)"
   ]
  },
  {
   "cell_type": "markdown",
   "metadata": {
    "colab_type": "text",
    "id": "PpEfQ7nXDwuZ"
   },
   "source": [
    "mapping 후 data_logs user_id, n_user_id 결과는 아래와 같습니다.\n",
    "\n",
    "<table border=\"1\" class=\"dataframe\">\n",
    "  <thead>\n",
    "    <tr style=\"text-align: right;\">\n",
    "      <th></th>\n",
    "      <th>user_id</th>\n",
    "      <th>n_user_id</th>\n",
    "    </tr>\n",
    "  </thead>\n",
    "  <tbody>\n",
    "    <tr>\n",
    "      <th>0</th>\n",
    "      <td>K1d8_t3-QIskaSkrx32oAFu856D8JmLo</td>\n",
    "      <td>3314</td>\n",
    "    </tr>\n",
    "    <tr>\n",
    "      <th>1</th>\n",
    "      <td>lwFZ77v_ygk0uU40t1ud3l30EZ6sE2R3</td>\n",
    "      <td>7844</td>\n",
    "    </tr>\n",
    "    <tr>\n",
    "      <th>2</th>\n",
    "      <td>mR-bO6hC9g-m8ERXMRQZaRwJFvzNNdd8</td>\n",
    "      <td>7920</td>\n",
    "    </tr>\n",
    "    <tr>\n",
    "      <th>3</th>\n",
    "      <td>K1d8_t3-QIskaSkrx32oAFu856D8JmLo</td>\n",
    "      <td>3314</td>\n",
    "    </tr>\n",
    "    <tr>\n",
    "      <th>4</th>\n",
    "      <td>Yjny5AchUWLiuv4kdeq50COF-S8OFXPd</td>\n",
    "      <td>5608</td>\n",
    "    </tr>\n",
    "  </tbody>\n",
    "</table>\n",
    "\n",
    "\n",
    "\n",
    "**Hint) mapping 예시**\n",
    "\n",
    "```\n",
    "data['column'].map(dict)\n",
    "```"
   ]
  },
  {
   "cell_type": "code",
   "execution_count": null,
   "metadata": {
    "colab": {},
    "colab_type": "code",
    "id": "NnuwEQiCDwub"
   },
   "outputs": [],
   "source": [
    "# data_logs, order, user에 id_idct를 mapping하여 각 데이터 프레임에 새로운 고객 id컬럼인 n_user_id를 만듭니다.\n",
    "order['n_user_id'] = order['user_id'].map(user_id_condi)\n",
    "user['n_user_id'] = user['user_id'].map(user_id_condi)\n",
    "# Write your code here! (3 lines)\n",
    "\n",
    "\n",
    "# 결과를 확인합니다.\n",
    "data_logs = log.copy()\n",
    "data_logs[['user_id', 'n_user_id']].head()"
   ]
  },
  {
   "cell_type": "markdown",
   "metadata": {
    "colab_type": "text",
    "id": "HK33c7SVDwuk"
   },
   "source": [
    " **12. 주문 데이터, 로그 데이터를 concat해주세요.**"
   ]
  },
  {
   "cell_type": "markdown",
   "metadata": {
    "colab_type": "text",
    "id": "YaWVuMyjDwum"
   },
   "source": [
    "주문기록은 user_event_log에 기록되지 않습니다. 이는 바로 뒤에서 확인할 수 있습니다. 이를 확인하고 concat해야 되는 이유를 살펴보겠습니다."
   ]
  },
  {
   "cell_type": "code",
   "execution_count": null,
   "metadata": {
    "colab": {},
    "colab_type": "code",
    "id": "sR_b10O-Dwup",
    "outputId": "5b42d79d-4fc0-4321-81d0-4e61697c54d5"
   },
   "outputs": [],
   "source": [
    "#주문 데이터의 첫번째 row를 출력합니다.\n",
    "order.iloc[0]"
   ]
  },
  {
   "cell_type": "markdown",
   "metadata": {
    "colab_type": "text",
    "id": "98eZgHbMDwu-"
   },
   "source": [
    "위의 user_id에 해당하는 고객의 log기록을 가져와주세요. 결과는 아래와 같습니다. \n",
    "\n",
    "<table border=\"1\" class=\"dataframe\">\n",
    "  <thead>\n",
    "    <tr style=\"text-align: right;\">\n",
    "      <th></th>\n",
    "      <th>timestamp</th>\n",
    "      <th>user_id</th>\n",
    "      <th>event_origin</th>\n",
    "      <th>event_name</th>\n",
    "      <th>event_goods_id</th>\n",
    "      <th>event_shop_id</th>\n",
    "      <th>n_user_id</th>\n",
    "    </tr>\n",
    "  </thead>\n",
    "  <tbody>\n",
    "    <tr>\n",
    "      <th>878</th>\n",
    "      <td>2018-06-11 00:06:45.357</td>\n",
    "      <td>bvu0aLTqiFDoU-963xnr5nzQWTNLUMjx</td>\n",
    "      <td>goods_search_result/린넨</td>\n",
    "      <td>app_page_view</td>\n",
    "      <td>NaN</td>\n",
    "      <td>NaN</td>\n",
    "      <td>6241</td>\n",
    "    </tr>\n",
    "    <tr>\n",
    "      <th>901</th>\n",
    "      <td>2018-06-11 00:06:54.034</td>\n",
    "      <td>bvu0aLTqiFDoU-963xnr5nzQWTNLUMjx</td>\n",
    "      <td>goods_search_result/린넨바지</td>\n",
    "      <td>app_page_view</td>\n",
    "      <td>NaN</td>\n",
    "      <td>NaN</td>\n",
    "      <td>6241</td>\n",
    "    </tr>\n",
    "    <tr>\n",
    "      <th>1062</th>\n",
    "      <td>2018-06-11 00:08:00.579</td>\n",
    "      <td>bvu0aLTqiFDoU-963xnr5nzQWTNLUMjx</td>\n",
    "      <td>goods_search_result/린넨바지</td>\n",
    "      <td>enter_browser</td>\n",
    "      <td>2048.0</td>\n",
    "      <td>46.0</td>\n",
    "      <td>6241</td>\n",
    "    </tr>\n",
    "    <tr>\n",
    "      <th>1259</th>\n",
    "      <td>2018-06-11 00:09:38.881</td>\n",
    "      <td>bvu0aLTqiFDoU-963xnr5nzQWTNLUMjx</td>\n",
    "      <td>goods_search_result/린넨바지</td>\n",
    "      <td>app_page_view</td>\n",
    "      <td>NaN</td>\n",
    "      <td>NaN</td>\n",
    "      <td>6241</td>\n",
    "    </tr>\n",
    "    <tr>\n",
    "      <th>1439</th>\n",
    "      <td>2018-06-11 00:11:04.446</td>\n",
    "      <td>bvu0aLTqiFDoU-963xnr5nzQWTNLUMjx</td>\n",
    "      <td>goods_search_result/린넨바지</td>\n",
    "      <td>enter_browser</td>\n",
    "      <td>3486.0</td>\n",
    "      <td>38.0</td>\n",
    "      <td>6241</td>\n",
    "    </tr>\n",
    "    <tr>\n",
    "      <th>1473</th>\n",
    "      <td>2018-06-11 00:11:20.354</td>\n",
    "      <td>bvu0aLTqiFDoU-963xnr5nzQWTNLUMjx</td>\n",
    "      <td>goods_search_result/린넨바지</td>\n",
    "      <td>app_page_view</td>\n",
    "      <td>NaN</td>\n",
    "      <td>NaN</td>\n",
    "      <td>6241</td>\n",
    "    </tr>\n",
    "    <tr>\n",
    "      <th>1526</th>\n",
    "      <td>2018-06-11 00:11:48.284</td>\n",
    "      <td>bvu0aLTqiFDoU-963xnr5nzQWTNLUMjx</td>\n",
    "      <td>goods_search_result/린넨바지</td>\n",
    "      <td>enter_browser</td>\n",
    "      <td>4006.0</td>\n",
    "      <td>24.0</td>\n",
    "      <td>6241</td>\n",
    "    </tr>\n",
    "    <tr>\n",
    "      <th>2423</th>\n",
    "      <td>2018-06-11 00:18:21.906</td>\n",
    "      <td>bvu0aLTqiFDoU-963xnr5nzQWTNLUMjx</td>\n",
    "      <td>goods_search_result/린넨바지</td>\n",
    "      <td>app_page_view</td>\n",
    "      <td>NaN</td>\n",
    "      <td>NaN</td>\n",
    "      <td>6241</td>\n",
    "    </tr>\n",
    "    <tr>\n",
    "      <th>2529</th>\n",
    "      <td>2018-06-11 00:19:01.928</td>\n",
    "      <td>bvu0aLTqiFDoU-963xnr5nzQWTNLUMjx</td>\n",
    "      <td>goods_search_result/린넨</td>\n",
    "      <td>app_page_view</td>\n",
    "      <td>NaN</td>\n",
    "      <td>NaN</td>\n",
    "      <td>6241</td>\n",
    "    </tr>\n",
    "    <tr>\n",
    "      <th>2758</th>\n",
    "      <td>2018-06-11 00:20:30.432</td>\n",
    "      <td>bvu0aLTqiFDoU-963xnr5nzQWTNLUMjx</td>\n",
    "      <td>shops_bookmark</td>\n",
    "      <td>app_page_view</td>\n",
    "      <td>NaN</td>\n",
    "      <td>NaN</td>\n",
    "      <td>6241</td>\n",
    "    </tr>\n",
    "    <tr>\n",
    "      <th>4502</th>\n",
    "      <td>2018-06-11 00:32:29.738</td>\n",
    "      <td>bvu0aLTqiFDoU-963xnr5nzQWTNLUMjx</td>\n",
    "      <td>shops_bookmark</td>\n",
    "      <td>app_page_view</td>\n",
    "      <td>NaN</td>\n",
    "      <td>NaN</td>\n",
    "      <td>6241</td>\n",
    "    </tr>\n",
    "    <tr>\n",
    "      <th>5156</th>\n",
    "      <td>2018-06-11 00:37:22.757</td>\n",
    "      <td>bvu0aLTqiFDoU-963xnr5nzQWTNLUMjx</td>\n",
    "      <td>shops_bookmark</td>\n",
    "      <td>app_page_view</td>\n",
    "      <td>NaN</td>\n",
    "      <td>NaN</td>\n",
    "      <td>6241</td>\n",
    "    </tr>\n",
    "  </tbody>\n",
    "</table>"
   ]
  },
  {
   "cell_type": "code",
   "execution_count": null,
   "metadata": {
    "colab": {},
    "colab_type": "code",
    "id": "0H_6NQJnDwvG"
   },
   "outputs": [],
   "source": [
    "data_logs[data_logs['n_user_id'] == 6241]"
   ]
  },
  {
   "cell_type": "markdown",
   "metadata": {
    "colab_type": "text",
    "id": "WD5a8w8XDwvi"
   },
   "source": [
    "00시 37분에 마지막 log가 기록되어 있습니다. 이 기록을 바탕으로 해당 고객은 쇼핑몰 즐겨찾기 목록에서 특정 쇼핑몰을 클릭하여 들어간다음 43분에 린넨바지를 구매한 것을 유추할 수 있습니다. \n",
    "\n",
    "logs 테이블에 존재하는 기록들은 위와 같이 기록이 되어 있습니다. 사람들이 구매를 하도록 유도하는 것이 최종 목표이기 때문에, 로그기록과 구매기록을 연결하는 것은 매우 중요합니다. 하지만, 로그 테이블에는 이 사람이 구매를 했는지에 대한 정보가 전혀 없기 때문에 order 테이블과 log 테이블을 병합해야할 필요가 있습니다. 이를 `pd.concat()` 을 이용하여 병합하도록 하겠습니다.\n",
    "\n",
    "기록 중에, 주문을 했지만 그 전의 로그 정보가 전혀 없는 고객들이 있습니다. 시간 대를 살펴봤을 때, 이들은 전날에 로그 기록이 존재하고 6월 11일 자정 이후 결제를 한 것으로 추론됩니다. 이들은 잔존 시간을 계산하는데 오류를 일으키므로 이들을 제외하고 concat 하도록 하겠습니다."
   ]
  },
  {
   "cell_type": "markdown",
   "metadata": {
    "colab_type": "text",
    "id": "5RtuqzpJDwvk"
   },
   "source": [
    " "
   ]
  },
  {
   "cell_type": "markdown",
   "metadata": {
    "colab_type": "text",
    "id": "a5IWFMTIDwvn"
   },
   "source": [
    "로그 데이터와 주문 데이터에 동시에 기록된 고객을 구하겠습니다.\n",
    "\n",
    "데이터를 집합(set)으로 변환하면 중복된 원소들은 1개만 남고 제거됩니다. unique() 메서드의 결과와 같다고 생각하시면 됩니다. 이를 이용하겠습니다.\n",
    " \n",
    "코드예시는 아래와 같습니다. 아래의 예시를 활용해 주세요.\n",
    "\n",
    "```\n",
    "#집합 타입으로 변환하는 코드입니다.\n",
    "set(data['column'])\n",
    "\n",
    "#집합의 원소의 개수를 반환하는 코드입니다.\n",
    "len(set(data['column']))\n",
    "\n",
    "#두 집합의 공통된 원소들의 집합을 반환하는 코드입니다.\n",
    "set(data1['column']) & set(data2['column'])\n",
    "```\n"
   ]
  },
  {
   "cell_type": "markdown",
   "metadata": {
    "colab_type": "text",
    "id": "cgIGGgwtDwvp"
   },
   "source": [
    "아래 코드를 실행할 시 출력 결과는 다음과 같이 나오게 됩니다.\n",
    "```\n",
    "해당 날짜에 구매한 총 고객수 입니다 : 832명\n",
    "해당 날짜 log데이터에 기록된 총 고객수입니다 : 9909명\n",
    "중복되는 고객수입니다 : 742명\n",
    "```"
   ]
  },
  {
   "cell_type": "code",
   "execution_count": null,
   "metadata": {
    "colab": {},
    "colab_type": "code",
    "id": "6pn0fA_CDwvq"
   },
   "outputs": [],
   "source": [
    "# set()을 사용하여 user_id컬럼을 집합 타입으로 변환후 원소 개수를 반환하여 변수에 저장해주세요.\n",
    "# 주문한 고객의 수를 user_number_order란 변수에 저장해주세요.\n",
    "\n",
    "user_number_order = len(set(order['user_id']))\n",
    "\n",
    "# log에 기록된 고객의 수를 user_number_log란 변수에 저장해주세요.\n",
    "\n",
    "user_number_log = len(set(log['user_id']))\n",
    "\n",
    "\n",
    "# 중복된 고객들을 user_duplicated란 변수에 저장해주세요.\n",
    "\n",
    "user_duplicated = set(order['user_id']) & set(log['user_id'])\n",
    "\n",
    "\n",
    "# 결과를 출력합니다.\n",
    "print('해당 날짜에 구매한 총 고객수 입니다 :',user_number_order, end ='명\\n')\n",
    "print('해당 날짜 log데이터에 기록된 총 고객수입니다 :',user_number_log,  end ='명\\n')\n",
    "print('중복되는 고객수입니다 :', len(user_duplicated) , end ='명\\n')"
   ]
  },
  {
   "cell_type": "markdown",
   "metadata": {
    "colab_type": "text",
    "id": "n_cDsrnIDwwA"
   },
   "source": [
    "중복되는 고객의 목록을 구하였으므로 이제는 두 데이터들을 concat하기 위해 column명을 동일하게 맞추겠습니다.\n",
    "\n",
    "order, data_logs의 column을 확인합니다."
   ]
  },
  {
   "cell_type": "code",
   "execution_count": null,
   "metadata": {
    "colab": {},
    "colab_type": "code",
    "id": "sSxDo1lRDwwD",
    "outputId": "57ee3eb7-38d8-469e-b6fc-43024ba988a2"
   },
   "outputs": [],
   "source": [
    "print(order.columns)\n",
    "print(data_logs.columns)"
   ]
  },
  {
   "cell_type": "markdown",
   "metadata": {
    "colab_type": "text",
    "id": "Ov5_Zdn1DwwV"
   },
   "source": [
    "data_logs의 columns을 기준으로 병합할 것입니다. 따라서 order의 columns을 data_logs에 맞춰 변형합니다."
   ]
  },
  {
   "cell_type": "code",
   "execution_count": null,
   "metadata": {
    "colab": {},
    "colab_type": "code",
    "id": "PROzKk1HDwwX"
   },
   "outputs": [],
   "source": [
    "# order 원본을 변형하지 않기 위해 order을 copy하여 사용합니다. \n",
    "order_copy = order.copy()"
   ]
  },
  {
   "cell_type": "code",
   "execution_count": null,
   "metadata": {
    "colab": {},
    "colab_type": "code",
    "id": "Dy9HLnwgDwww",
    "outputId": "748cd878-280b-4157-e15c-3f88254178d1"
   },
   "outputs": [],
   "source": [
    "# 겹치는 유저만으로 data를 indexing합니다. user_duplicated 이용합니다. \n",
    "# isin을 이용한 indexing은 뒤의 문제에서도 많이 나오기 때문에 유심히 봐두시면 유용합니다.\n",
    "order_copy = order_copy[order_copy['user_id'].isin(user_duplicated)]\n",
    "\n",
    "#  event_origin 컬럼에는 shop_id 컬럼을 저장합니다.\n",
    "order_copy['event_origin'] = order_copy['shop_id']\n",
    "\n",
    "#  event_name 컬럼에는 'purchase'를 저장합니다.\n",
    "order_copy['event_name'] = 'purchase'\n",
    "\n",
    "# event_goods_id 컬럼에는 good_id 컬럼를 저장합니다.\n",
    "order_copy['event_goods_id'] = order_copy['goods_id']\n",
    "\n",
    "# 사용할 columns를 설정합니다.\n",
    "order_copy = order_copy[['timestamp', 'n_user_id', 'user_id','event_origin',\n",
    "         'event_name', 'event_goods_id', 'price']]\n",
    "\n",
    "order_copy.head()"
   ]
  },
  {
   "cell_type": "code",
   "execution_count": null,
   "metadata": {
    "colab": {},
    "colab_type": "code",
    "id": "KLpLE1v2DwxF"
   },
   "outputs": [],
   "source": [
    "# data_logs, order_copy를 concat 해주하여 다시 log_order에 저장해주세요.\n",
    "\n",
    "log_order = pd.concat([data_logs,order_copy],axis=0)\n",
    "log_order = log_order[['event_goods_id','event_name','event_origin','event_shop_id','n_user_id','price','timestamp','user_id']]"
   ]
  },
  {
   "cell_type": "markdown",
   "metadata": {
    "colab_type": "text",
    "id": "AxHXrIdYDwxU"
   },
   "source": [
    "----"
   ]
  },
  {
   "cell_type": "markdown",
   "metadata": {
    "colab_type": "text",
    "id": "zUuPyVp5DwxW"
   },
   "source": [
    " log_order에 구매기록여부 컬럼인 purchase 컬럼을 만들어주세요.\n",
    " \n",
    " price컬럼과 notnull()을 이용해주세요. \n",
    " \n",
    " 출력 결과는 아래와 같습니다.\n",
    "<table border=\"1\" class=\"dataframe\">\n",
    "  <thead>\n",
    "    <tr style=\"text-align: right;\">\n",
    "      <th></th>\n",
    "      <th>event_goods_id</th>\n",
    "      <th>event_name</th>\n",
    "      <th>event_origin</th>\n",
    "      <th>event_shop_id</th>\n",
    "      <th>n_user_id</th>\n",
    "      <th>price</th>\n",
    "      <th>timestamp</th>\n",
    "      <th>user_id</th>\n",
    "      <th>purchase</th>\n",
    "    </tr>\n",
    "  </thead>\n",
    "  <tbody>\n",
    "    <tr>\n",
    "      <th>0</th>\n",
    "      <td>NaN</td>\n",
    "      <td>app_page_view</td>\n",
    "      <td>shops_ranking</td>\n",
    "      <td>NaN</td>\n",
    "      <td>3314</td>\n",
    "      <td>NaN</td>\n",
    "      <td>2018-06-11 00:00:00.213</td>\n",
    "      <td>K1d8_t3-QIskaSkrx32oAFu856D8JmLo</td>\n",
    "      <td>False</td>\n",
    "    </tr>\n",
    "    <tr>\n",
    "      <th>1</th>\n",
    "      <td>NaN</td>\n",
    "      <td>app_page_view</td>\n",
    "      <td>shops_bookmark</td>\n",
    "      <td>NaN</td>\n",
    "      <td>7844</td>\n",
    "      <td>NaN</td>\n",
    "      <td>2018-06-11 00:00:00.810</td>\n",
    "      <td>lwFZ77v_ygk0uU40t1ud3l30EZ6sE2R3</td>\n",
    "      <td>False</td>\n",
    "    </tr>\n",
    "    <tr>\n",
    "      <th>2</th>\n",
    "      <td>NaN</td>\n",
    "      <td>app_page_view</td>\n",
    "      <td>goods_search_result/로브</td>\n",
    "      <td>NaN</td>\n",
    "      <td>7920</td>\n",
    "      <td>NaN</td>\n",
    "      <td>2018-06-11 00:00:00.956</td>\n",
    "      <td>mR-bO6hC9g-m8ERXMRQZaRwJFvzNNdd8</td>\n",
    "      <td>False</td>\n",
    "    </tr>\n",
    "    <tr>\n",
    "      <th>3</th>\n",
    "      <td>NaN</td>\n",
    "      <td>app_page_view</td>\n",
    "      <td>shops_bookmark</td>\n",
    "      <td>NaN</td>\n",
    "      <td>3314</td>\n",
    "      <td>NaN</td>\n",
    "      <td>2018-06-11 00:00:01.084</td>\n",
    "      <td>K1d8_t3-QIskaSkrx32oAFu856D8JmLo</td>\n",
    "      <td>False</td>\n",
    "    </tr>\n",
    "    <tr>\n",
    "      <th>4</th>\n",
    "      <td>NaN</td>\n",
    "      <td>app_page_view</td>\n",
    "      <td>shops_bookmark</td>\n",
    "      <td>NaN</td>\n",
    "      <td>5608</td>\n",
    "      <td>NaN</td>\n",
    "      <td>2018-06-11 00:00:01.561</td>\n",
    "      <td>Yjny5AchUWLiuv4kdeq50COF-S8OFXPd</td>\n",
    "      <td>False</td>\n",
    "    </tr>\n",
    "  </tbody>\n",
    "</table>\n"
   ]
  },
  {
   "cell_type": "code",
   "execution_count": null,
   "metadata": {},
   "outputs": [],
   "source": [
    "def pre_purchase(x):\n",
    "    if pd.isnull(x) : return False\n",
    "    else : return True\n",
    "log_order['purchase'] = log_order['price'].apply(pre_purchase)\n",
    "log_order.head(5)"
   ]
  },
  {
   "cell_type": "markdown",
   "metadata": {
    "colab_type": "text",
    "id": "SmzQ1uJkDwxv"
   },
   "source": [
    "----"
   ]
  },
  {
   "cell_type": "markdown",
   "metadata": {
    "colab_type": "text",
    "id": "k3VhLlXUDwxz"
   },
   "source": [
    "데이터를 파악하기 쉽게 하기 위해 user_id, timestamp 컬럼을 기준으로 log_order를 정렬해주세요.\n",
    "\n",
    "sort_values()를 사용해주시고 reset_index()를 통해 index를 정리해주세요.\n",
    "\n",
    "출력 결과는 아래와 같습니다."
   ]
  },
  {
   "cell_type": "markdown",
   "metadata": {
    "colab_type": "text",
    "id": "XwD5G3sNDwx2"
   },
   "source": [
    "<table border=\"1\" class=\"dataframe\">\n",
    "  <thead>\n",
    "    <tr style=\"text-align: right;\">\n",
    "      <th></th>\n",
    "      <th>event_goods_id</th>\n",
    "      <th>event_name</th>\n",
    "      <th>event_origin</th>\n",
    "      <th>event_shop_id</th>\n",
    "      <th>n_user_id</th>\n",
    "      <th>price</th>\n",
    "      <th>timestamp</th>\n",
    "      <th>user_id</th>\n",
    "      <th>purchase</th>\n",
    "    </tr>\n",
    "  </thead>\n",
    "  <tbody>\n",
    "    <tr>\n",
    "      <th>0</th>\n",
    "      <td>NaN</td>\n",
    "      <td>app_page_view</td>\n",
    "      <td>shops_bookmark</td>\n",
    "      <td>NaN</td>\n",
    "      <td>0</td>\n",
    "      <td>NaN</td>\n",
    "      <td>2018-06-11 15:57:10.615</td>\n",
    "      <td>--PYPMX8QWg0ioT5zfORmU-S5Lln0lot</td>\n",
    "      <td>False</td>\n",
    "    </tr>\n",
    "    <tr>\n",
    "      <th>1</th>\n",
    "      <td>NaN</td>\n",
    "      <td>app_page_view</td>\n",
    "      <td>shops_bookmark</td>\n",
    "      <td>NaN</td>\n",
    "      <td>0</td>\n",
    "      <td>NaN</td>\n",
    "      <td>2018-06-11 15:59:05.505</td>\n",
    "      <td>--PYPMX8QWg0ioT5zfORmU-S5Lln0lot</td>\n",
    "      <td>False</td>\n",
    "    </tr>\n",
    "    <tr>\n",
    "      <th>2</th>\n",
    "      <td>NaN</td>\n",
    "      <td>app_page_view</td>\n",
    "      <td>my_goods</td>\n",
    "      <td>NaN</td>\n",
    "      <td>1</td>\n",
    "      <td>NaN</td>\n",
    "      <td>2018-06-11 00:55:37.309</td>\n",
    "      <td>-16-xXbeDcvkZJtTpRwMi57Yo2ZQpORv</td>\n",
    "      <td>False</td>\n",
    "    </tr>\n",
    "    <tr>\n",
    "      <th>3</th>\n",
    "      <td>2506.0</td>\n",
    "      <td>enter_browser</td>\n",
    "      <td>my_goods</td>\n",
    "      <td>40.0</td>\n",
    "      <td>1</td>\n",
    "      <td>NaN</td>\n",
    "      <td>2018-06-11 00:55:44.430</td>\n",
    "      <td>-16-xXbeDcvkZJtTpRwMi57Yo2ZQpORv</td>\n",
    "      <td>False</td>\n",
    "    </tr>\n",
    "    <tr>\n",
    "      <th>4</th>\n",
    "      <td>NaN</td>\n",
    "      <td>app_page_view</td>\n",
    "      <td>my_goods</td>\n",
    "      <td>NaN</td>\n",
    "      <td>1</td>\n",
    "      <td>NaN</td>\n",
    "      <td>2018-06-11 01:00:33.295</td>\n",
    "      <td>-16-xXbeDcvkZJtTpRwMi57Yo2ZQpORv</td>\n",
    "      <td>False</td>\n",
    "    </tr>\n",
    "  </tbody>\n",
    "</table>\n"
   ]
  },
  {
   "cell_type": "code",
   "execution_count": null,
   "metadata": {
    "colab": {},
    "colab_type": "code",
    "id": "3qeCX_sZDwx6"
   },
   "outputs": [],
   "source": [
    "log_order = log_order.sort_values(by=['user_id','timestamp']).reset_index(drop=True)\n",
    "log_order.head(5)"
   ]
  },
  {
   "cell_type": "markdown",
   "metadata": {
    "colab_type": "text",
    "id": "YTa_6A9qDwyQ"
   },
   "source": [
    "**13. 동일한 사용자에 대한 연속한 로그들 사이의 시간 간격을 구해주세요.**"
   ]
  },
  {
   "cell_type": "markdown",
   "metadata": {
    "colab_type": "text",
    "id": "Vpb8YNEGDwyU"
   },
   "source": [
    "고객별 연속한 log사이의 시간 간격을 log duration으로 정의합니다. 이는 고객의 잔존시간을 구하는 것으로 연결됩니다."
   ]
  },
  {
   "cell_type": "markdown",
   "metadata": {
    "colab_type": "text",
    "id": "bw8nYxB5DwyX"
   },
   "source": [
    "현재 제공된 데이터에서는 고객이 앱을 종료하는 기록이 없기 때문에 마지막 log의 log_duration은 0이라고 가정을 합니다."
   ]
  },
  {
   "cell_type": "code",
   "execution_count": null,
   "metadata": {
    "colab": {},
    "colab_type": "code",
    "id": "EHdb72wlDwyk"
   },
   "outputs": [],
   "source": [
    "# 우선, timestamp 컬럼를 datetime 타입으로 변환해주세요.\n",
    "log_order['timestamp'] = pd.to_datetime(log_order['timestamp'],format=\"%Y-%m-%d %H:%M:%S.%f\")"
   ]
  },
  {
   "cell_type": "markdown",
   "metadata": {
    "colab_type": "text",
    "id": "62EvoL7_Dwy1"
   },
   "source": [
    "----"
   ]
  },
  {
   "cell_type": "markdown",
   "metadata": {
    "colab_type": "text",
    "id": "hU5LvcgoDwy3"
   },
   "source": [
    "이번에는 timestamp_after 컬럼을 만들어줍니다. timestamp_after 컬럼은 다음 log의 timestamp값을 가집니다.\n",
    "\n",
    "고객별로 groupby()한 뒤 shift(-1)을 적용한 결과를 timestamp_afterdp 저장합니다. \n",
    "\n",
    "groupby를 하고 shift를 하면 고객의 당일 마지막 로그의 timestamp_after은 NaT(Not a Time)값을 갖게 됩니다.\n",
    "\n",
    "결과는 아래와 같습니다.\n",
    "\n",
    "<table border=\"1\" class=\"dataframe\">\n",
    "  <thead>\n",
    "    <tr style=\"text-align: right;\">\n",
    "      <th></th>\n",
    "      <th>event_goods_id</th>\n",
    "      <th>event_name</th>\n",
    "      <th>event_origin</th>\n",
    "      <th>event_shop_id</th>\n",
    "      <th>n_user_id</th>\n",
    "      <th>price</th>\n",
    "      <th>timestamp</th>\n",
    "      <th>user_id</th>\n",
    "      <th>purchase</th>\n",
    "      <th>timestamp_after</th>\n",
    "    </tr>\n",
    "  </thead>\n",
    "  <tbody>\n",
    "    <tr>\n",
    "      <th>0</th>\n",
    "      <td>NaN</td>\n",
    "      <td>app_page_view</td>\n",
    "      <td>shops_bookmark</td>\n",
    "      <td>NaN</td>\n",
    "      <td>0</td>\n",
    "      <td>NaN</td>\n",
    "      <td>2018-06-11 15:57:10.615</td>\n",
    "      <td>--PYPMX8QWg0ioT5zfORmU-S5Lln0lot</td>\n",
    "      <td>False</td>\n",
    "      <td>2018-06-11 15:59:05.505</td>\n",
    "    </tr>\n",
    "    <tr>\n",
    "      <th>1</th>\n",
    "      <td>NaN</td>\n",
    "      <td>app_page_view</td>\n",
    "      <td>shops_bookmark</td>\n",
    "      <td>NaN</td>\n",
    "      <td>0</td>\n",
    "      <td>NaN</td>\n",
    "      <td>2018-06-11 15:59:05.505</td>\n",
    "      <td>--PYPMX8QWg0ioT5zfORmU-S5Lln0lot</td>\n",
    "      <td>False</td>\n",
    "      <td>NaT</td>\n",
    "    </tr>\n",
    "    <tr>\n",
    "      <th>2</th>\n",
    "      <td>NaN</td>\n",
    "      <td>app_page_view</td>\n",
    "      <td>my_goods</td>\n",
    "      <td>NaN</td>\n",
    "      <td>1</td>\n",
    "      <td>NaN</td>\n",
    "      <td>2018-06-11 00:55:37.309</td>\n",
    "      <td>-16-xXbeDcvkZJtTpRwMi57Yo2ZQpORv</td>\n",
    "      <td>False</td>\n",
    "      <td>2018-06-11 00:55:44.430</td>\n",
    "    </tr>\n",
    "    <tr>\n",
    "      <th>3</th>\n",
    "      <td>2506.0</td>\n",
    "      <td>enter_browser</td>\n",
    "      <td>my_goods</td>\n",
    "      <td>40.0</td>\n",
    "      <td>1</td>\n",
    "      <td>NaN</td>\n",
    "      <td>2018-06-11 00:55:44.430</td>\n",
    "      <td>-16-xXbeDcvkZJtTpRwMi57Yo2ZQpORv</td>\n",
    "      <td>False</td>\n",
    "      <td>2018-06-11 01:00:33.295</td>\n",
    "    </tr>\n",
    "    <tr>\n",
    "      <th>4</th>\n",
    "      <td>NaN</td>\n",
    "      <td>app_page_view</td>\n",
    "      <td>my_goods</td>\n",
    "      <td>NaN</td>\n",
    "      <td>1</td>\n",
    "      <td>NaN</td>\n",
    "      <td>2018-06-11 01:00:33.295</td>\n",
    "      <td>-16-xXbeDcvkZJtTpRwMi57Yo2ZQpORv</td>\n",
    "      <td>False</td>\n",
    "      <td>2018-06-11 01:11:03.608</td>\n",
    "    </tr>\n",
    "  </tbody>\n",
    "</table>"
   ]
  },
  {
   "cell_type": "code",
   "execution_count": null,
   "metadata": {
    "colab": {},
    "colab_type": "code",
    "id": "XqXWBIadDwy6",
    "scrolled": false
   },
   "outputs": [],
   "source": [
    "# timestamp_after 컬럼을 다음과 같이 만듭니다.\n",
    "log_order['timestamp_after'] = log_order.groupby(['n_user_id'])['timestamp'].shift(-1)\n",
    "\n",
    "log_order.head()"
   ]
  },
  {
   "cell_type": "markdown",
   "metadata": {
    "colab_type": "text",
    "id": "MkgcXnunDwzC"
   },
   "source": [
    "timestamp_after과 timestamp의 차이를 계산하여 log_duration을 구합니다. NaT 값은 연산시 NaN값이 됩니다. 이후에 NaN값을 0으로 채워주시면 됩니다."
   ]
  },
  {
   "cell_type": "markdown",
   "metadata": {
    "colab_type": "text",
    "id": "qO1VgIpCDwzD"
   },
   "source": [
    "----\n"
   ]
  },
  {
   "cell_type": "markdown",
   "metadata": {
    "colab_type": "text",
    "id": "iUybXL_eDwzH"
   },
   "source": [
    "log_duration을 계산하고 nan값(마지막 로그)는 0으로 채워 log_duration 컬럼에 저장합니다.\n",
    "\n",
    "출려 결과는 아래와 같습니다.\n",
    "\n",
    "<table border=\"1\" class=\"dataframe\">\n",
    "  <thead>\n",
    "    <tr style=\"text-align: right;\">\n",
    "      <th></th>\n",
    "      <th>timestamp</th>\n",
    "      <th>timestamp_after</th>\n",
    "      <th>log_duration</th>\n",
    "    </tr>\n",
    "  </thead>\n",
    "  <tbody>\n",
    "    <tr>\n",
    "      <th>0</th>\n",
    "      <td>2018-06-11 15:57:10.615</td>\n",
    "      <td>2018-06-11 15:59:05.505</td>\n",
    "      <td>00:01:54.890000</td>\n",
    "    </tr>\n",
    "    <tr>\n",
    "      <th>1</th>\n",
    "      <td>2018-06-11 15:59:05.505</td>\n",
    "      <td>NaT</td>\n",
    "      <td>00:00:00</td>\n",
    "    </tr>\n",
    "    <tr>\n",
    "      <th>2</th>\n",
    "      <td>2018-06-11 00:55:37.309</td>\n",
    "      <td>2018-06-11 00:55:44.430</td>\n",
    "      <td>00:00:07.121000</td>\n",
    "    </tr>\n",
    "    <tr>\n",
    "      <th>3</th>\n",
    "      <td>2018-06-11 00:55:44.430</td>\n",
    "      <td>2018-06-11 01:00:33.295</td>\n",
    "      <td>00:04:48.865000</td>\n",
    "    </tr>\n",
    "    <tr>\n",
    "      <th>4</th>\n",
    "      <td>2018-06-11 01:00:33.295</td>\n",
    "      <td>2018-06-11 01:11:03.608</td>\n",
    "      <td>00:10:30.313000</td>\n",
    "    </tr>\n",
    "  </tbody>\n",
    "</table>\n",
    "\n"
   ]
  },
  {
   "cell_type": "code",
   "execution_count": null,
   "metadata": {
    "colab": {},
    "colab_type": "code",
    "id": "AtCRnjihDwzM"
   },
   "outputs": [],
   "source": [
    "# log_duration을 계산하고 nan값(마지막 로그)는 0으로 채워 log_duration 컬럼에 저장합니다.\n",
    "\n",
    "def del_nat(x):\n",
    "    if pd.isnull(x) : return pd.Timedelta(seconds=0)\n",
    "    else : return x\n",
    "    \n",
    "\n",
    "log_order['log_duration'] = log_order['timestamp_after'] - log_order['timestamp']\n",
    "log_order['log_duration'] = log_order['log_duration'].apply(del_nat)\n",
    "log_order[['timestamp','timestamp_after','log_duration']].head(10)"
   ]
  },
  {
   "cell_type": "markdown",
   "metadata": {
    "colab_type": "text",
    "id": "Nh8se6OpDwza"
   },
   "source": [
    "----"
   ]
  },
  {
   "cell_type": "markdown",
   "metadata": {
    "colab_type": "text",
    "id": "q0sTh2RbDwzd"
   },
   "source": [
    "분석의 편의를 위하여 map()과 total_seconds() 메서드를 이용하여 log_duration을 초로 환산해주세요.\n",
    "\n",
    "마지막으로, 이 후의 계산을 위해 astype() 메서드를 이용하여 log_duration 컬럼을 float으로 변환해주세요.  "
   ]
  },
  {
   "cell_type": "markdown",
   "metadata": {
    "colab_type": "text",
    "id": "0g50CGO7Dwzf"
   },
   "source": [
    "\n",
    "\n",
    "출력 결과는 아래와 같습니다.\n",
    "\n",
    "<table border=\"1\" class=\"dataframe\">\n",
    "  <thead>\n",
    "    <tr style=\"text-align: right;\">\n",
    "      <th></th>\n",
    "      <th>n_user_id</th>\n",
    "      <th>timestamp</th>\n",
    "      <th>timestamp_after</th>\n",
    "      <th>log_duration</th>\n",
    "    </tr>\n",
    "  </thead>\n",
    "  <tbody>\n",
    "    <tr>\n",
    "      <th>0</th>\n",
    "      <td>0</td>\n",
    "      <td>2018-06-11 15:57:10.615</td>\n",
    "      <td>2018-06-11 15:59:05.505</td>\n",
    "      <td>114.890</td>\n",
    "    </tr>\n",
    "    <tr>\n",
    "      <th>1</th>\n",
    "      <td>0</td>\n",
    "      <td>2018-06-11 15:59:05.505</td>\n",
    "      <td>NaT</td>\n",
    "      <td>0.000</td>\n",
    "    </tr>\n",
    "    <tr>\n",
    "      <th>2</th>\n",
    "      <td>1</td>\n",
    "      <td>2018-06-11 00:55:37.309</td>\n",
    "      <td>2018-06-11 00:55:44.430</td>\n",
    "      <td>7.121</td>\n",
    "    </tr>\n",
    "    <tr>\n",
    "      <th>3</th>\n",
    "      <td>1</td>\n",
    "      <td>2018-06-11 00:55:44.430</td>\n",
    "      <td>2018-06-11 01:00:33.295</td>\n",
    "      <td>288.865</td>\n",
    "    </tr>\n",
    "    <tr>\n",
    "      <th>4</th>\n",
    "      <td>1</td>\n",
    "      <td>2018-06-11 01:00:33.295</td>\n",
    "      <td>2018-06-11 01:11:03.608</td>\n",
    "      <td>630.313</td>\n",
    "    </tr>\n",
    "  </tbody>\n",
    "</table>\n",
    "\n"
   ]
  },
  {
   "cell_type": "code",
   "execution_count": null,
   "metadata": {
    "colab": {},
    "colab_type": "code",
    "id": "-XGEfi9IDwzj"
   },
   "outputs": [],
   "source": [
    "log_order['log_duration'] = log_order['log_duration'].dt.total_seconds()\n",
    "log_order['log_duration'] = log_order['log_duration'].astype('float')\n",
    "log_order[['n_user_id','timestamp','timestamp_after','log_duration']].head(5)"
   ]
  },
  {
   "cell_type": "markdown",
   "metadata": {
    "colab_type": "text",
    "id": "RtCQBzHyDw0Z"
   },
   "source": [
    "**14. 고객이 한 번 앱에 들어와서 활동하는 시간인 잔존시간을 구하기 위해 cycle을 정의해주세요.**"
   ]
  },
  {
   "cell_type": "markdown",
   "metadata": {
    "colab_type": "text",
    "id": "iwYXc3tFDw0d"
   },
   "source": [
    "고객이 한번 app에 접속하여 나가기까지의 일련의 활동을 한 cycle이라 정의하겠습니다.\n",
    "\n",
    "cycle을 구하기 위해서 고객이 cycle을 종료하고 앱을 나갔는지 여부(boolean)인 is_out이라는 컬럼을 만듭니다. is_out의 조건은 아래와 같이 2가지가 있습니다.\n",
    "\n",
    "    조건 1) log_duration이 0이면 고객의 당일 마지막 log입니다.\n",
    "    \n",
    "    조건 2) log간 간격이 40분이상이면 고객이 한 cycle이 종료하고 다음 cycle로 돌아온 것이라고 하겠습니다.\n",
    "\n",
    "    \n",
    "   \n",
    "\n",
    "따라서 위의 조건중 적어도 1개를 만족시키면 True되도록 is_out 컬럼을 생성해주세요. \n",
    "\n",
    "\n",
    "\n"
   ]
  },
  {
   "cell_type": "markdown",
   "metadata": {
    "colab_type": "text",
    "id": "SHz6Ylx7Dw0j"
   },
   "source": [
    "출력 결과는 아래와 같습니다.\n",
    "<table border=\"1\" class=\"dataframe\">\n",
    "  <thead>\n",
    "    <tr style=\"text-align: right;\">\n",
    "      <th></th>\n",
    "      <th>n_user_id</th>\n",
    "      <th>timestamp</th>\n",
    "      <th>timestamp_after</th>\n",
    "      <th>log_duration</th>\n",
    "      <th>is_out</th>\n",
    "    </tr>\n",
    "  </thead>\n",
    "  <tbody>\n",
    "    <tr>\n",
    "      <th>0</th>\n",
    "      <td>0</td>\n",
    "      <td>2018-06-11 15:57:10.615</td>\n",
    "      <td>2018-06-11 15:59:05.505</td>\n",
    "      <td>114.890</td>\n",
    "      <td>False</td>\n",
    "    </tr>\n",
    "    <tr>\n",
    "      <th>1</th>\n",
    "      <td>0</td>\n",
    "      <td>2018-06-11 15:59:05.505</td>\n",
    "      <td>NaT</td>\n",
    "      <td>0.000</td>\n",
    "      <td>True</td>\n",
    "    </tr>\n",
    "    <tr>\n",
    "      <th>2</th>\n",
    "      <td>1</td>\n",
    "      <td>2018-06-11 00:55:37.309</td>\n",
    "      <td>2018-06-11 00:55:44.430</td>\n",
    "      <td>7.121</td>\n",
    "      <td>False</td>\n",
    "    </tr>\n",
    "    <tr>\n",
    "      <th>3</th>\n",
    "      <td>1</td>\n",
    "      <td>2018-06-11 00:55:44.430</td>\n",
    "      <td>2018-06-11 01:00:33.295</td>\n",
    "      <td>288.865</td>\n",
    "      <td>False</td>\n",
    "    </tr>\n",
    "    <tr>\n",
    "      <th>4</th>\n",
    "      <td>1</td>\n",
    "      <td>2018-06-11 01:00:33.295</td>\n",
    "      <td>2018-06-11 01:11:03.608</td>\n",
    "      <td>630.313</td>\n",
    "      <td>False</td>\n",
    "    </tr>\n",
    "  </tbody>\n",
    "</table>\n",
    "\n",
    "\n"
   ]
  },
  {
   "cell_type": "code",
   "execution_count": null,
   "metadata": {
    "colab": {},
    "colab_type": "code",
    "id": "lH6a12mmDw0n",
    "scrolled": true
   },
   "outputs": [],
   "source": [
    "# 40분을 초로 환산해야 합니다.\n",
    "def pre_log_duration(x):\n",
    "    if (x == 0) or (x >= 2400) : return True\n",
    "    else : return False\n",
    "    \n",
    "log_order['is_out'] = log_order['log_duration'].apply(pre_log_duration)"
   ]
  },
  {
   "cell_type": "markdown",
   "metadata": {
    "colab_type": "text",
    "id": "yflr6ppSDw0x"
   },
   "source": [
    "log_duration이 2400이상 또는 음수인 log들은 cycle의 마지막 log입니다. 예를 들어, log_duration이 36000인 log가 있으면 이는 10시간 뒤에 다시 app에 접속한다는 것을 의미하지 실제 10시간 동안 앱을 사용했다는 의미가 아닙니다. 따라서 특정 사람에 대한 해당 logs는 해당 cycle의 마지막 log가 되고 다음 log는 10시간 뒤인 다음 cycle의 첫 log가 됩니다.\n",
    "\n",
    "즉, 위의 조건들을 만족하는 log들의 log_duration은 0이 되도록 변환해주어야 합니다.\n",
    "is_out 컬럼이 True인 log_duration을 0으로 지정해주세요."
   ]
  },
  {
   "cell_type": "markdown",
   "metadata": {
    "colab_type": "text",
    "id": "4KEYv1VGDw0y"
   },
   "source": [
    "출력 결과는 아래와 같습니다.\n",
    "<table border=\"1\" class=\"dataframe\">\n",
    "  <thead>\n",
    "    <tr style=\"text-align: right;\">\n",
    "      <th></th>\n",
    "      <th>n_user_id</th>\n",
    "      <th>timestamp</th>\n",
    "      <th>timestamp_after</th>\n",
    "      <th>log_duration</th>\n",
    "      <th>is_out</th>\n",
    "    </tr>\n",
    "  </thead>\n",
    "  <tbody>\n",
    "    <tr>\n",
    "      <th>0</th>\n",
    "      <td>0</td>\n",
    "      <td>2018-06-11 15:57:10.615</td>\n",
    "      <td>2018-06-11 15:59:05.505</td>\n",
    "      <td>114.890</td>\n",
    "      <td>False</td>\n",
    "    </tr>\n",
    "    <tr>\n",
    "      <th>1</th>\n",
    "      <td>0</td>\n",
    "      <td>2018-06-11 15:59:05.505</td>\n",
    "      <td>NaT</td>\n",
    "      <td>0.000</td>\n",
    "      <td>True</td>\n",
    "    </tr>\n",
    "    <tr>\n",
    "      <th>2</th>\n",
    "      <td>1</td>\n",
    "      <td>2018-06-11 00:55:37.309</td>\n",
    "      <td>2018-06-11 00:55:44.430</td>\n",
    "      <td>7.121</td>\n",
    "      <td>False</td>\n",
    "    </tr>\n",
    "    <tr>\n",
    "      <th>3</th>\n",
    "      <td>1</td>\n",
    "      <td>2018-06-11 00:55:44.430</td>\n",
    "      <td>2018-06-11 01:00:33.295</td>\n",
    "      <td>288.865</td>\n",
    "      <td>False</td>\n",
    "    </tr>\n",
    "    <tr>\n",
    "      <th>4</th>\n",
    "      <td>1</td>\n",
    "      <td>2018-06-11 01:00:33.295</td>\n",
    "      <td>2018-06-11 01:11:03.608</td>\n",
    "      <td>630.313</td>\n",
    "      <td>False</td>\n",
    "    </tr>\n",
    "  </tbody>\n",
    "</table>\n",
    "\n",
    "\n"
   ]
  },
  {
   "cell_type": "markdown",
   "metadata": {
    "colab_type": "text",
    "id": "z5Rolfx6Dw1N"
   },
   "source": [
    "----"
   ]
  },
  {
   "cell_type": "markdown",
   "metadata": {
    "colab_type": "text",
    "id": "-qxhi1F8Dw1P"
   },
   "source": [
    "이제 cycle을 구하여 번호를 부여할 것입니다.\n",
    "\n",
    "번호는 cycle별 고유 번호(cycle_idx_unique)와 고객별 0부터 시작하는 daily cycle 번호(cycle_idx_daily)를 부여합니다."
   ]
  },
  {
   "cell_type": "code",
   "execution_count": null,
   "metadata": {
    "colab": {},
    "colab_type": "code",
    "id": "dEk2subcDw1V",
    "outputId": "b5d15bcc-589c-4d5b-ad1d-013756fe10e5",
    "scrolled": true
   },
   "outputs": [],
   "source": [
    "log_order['cycle_idx_unique'] = (log_order['is_out']\n",
    "                                 .cumsum()\n",
    "                                 .shift(1)\n",
    "                                 .fillna(0)\n",
    "                                 .astype(int)\n",
    "                                )\n",
    "\n",
    "log_order[['n_user_id','timestamp', 'timestamp_after', 'log_duration', 'is_out', 'cycle_idx_unique']].head(5)"
   ]
  },
  {
   "cell_type": "markdown",
   "metadata": {
    "colab_type": "text",
    "id": "qRj_gUq7Dw1w"
   },
   "source": [
    "이번엔 daily cycle 번호를 부여하겠습니다."
   ]
  },
  {
   "cell_type": "code",
   "execution_count": null,
   "metadata": {
    "colab": {},
    "colab_type": "code",
    "id": "Ac874QiFDw10",
    "outputId": "7ac5e1b5-4666-4cb2-be9b-3bd6bb66a7cd",
    "scrolled": true
   },
   "outputs": [],
   "source": [
    "log_order['cycle_idx_daily'] = (log_order.groupby('n_user_id')['is_out']\n",
    "                                           .cumsum()\n",
    "                                           .shift(1)\n",
    "                                           .fillna(0)\n",
    "                                           .astype(int)\n",
    "                                            )\n",
    "\n",
    "# user마다 첫 cycle_idx_daily가 1로 되어있기 때문에 이를 0으로 바꿔줍니다.\n",
    "head_index = log_order.groupby('n_user_id')['cycle_idx_daily'].head(1).index\n",
    "log_order.loc[head_index, 'cycle_idx_daily'] = 0\n",
    "\n",
    "log_order[['n_user_id','timestamp', 'timestamp_after', 'log_duration', 'is_out','cycle_idx_daily']].head(30)"
   ]
  },
  {
   "cell_type": "markdown",
   "metadata": {
    "colab_type": "text",
    "id": "nW-bTP7PDw1_"
   },
   "source": [
    "이번엔 cycle을 이용한 분석을 해보겠습니다.\n",
    "\n",
    "**cycle별 log 수(접속별 활동 개수)**, **user별 cycle당 평균 log수(고객별 접속당 평균 활동수)**을 구하겠습니다.\n",
    "\n",
    "**cycle별 log 수**는 코드는 아래와 같습니다.\n",
    "\n",
    "이를 활용하여 `user별 cycle별 평균 log수`를 구해주세요."
   ]
  },
  {
   "cell_type": "markdown",
   "metadata": {
    "colab_type": "text",
    "id": "9dhliWUvDw2A"
   },
   "source": [
    "**14.1) cycle별 log 수(접속별 활동 개수)**"
   ]
  },
  {
   "cell_type": "code",
   "execution_count": null,
   "metadata": {
    "colab": {},
    "colab_type": "code",
    "id": "zk3depRlDw2C",
    "outputId": "9f7338d2-39df-4741-ec92-68e0f31156c9"
   },
   "outputs": [],
   "source": [
    "cycle_log_count = (log_order\n",
    "                 .groupby(['n_user_id', 'cycle_idx_daily']) \n",
    "                 .size()  # 그룹별 속한 row 수(log 수)를 반환합니다.\n",
    "                 .reset_index()  # index를 초기화합니다.\n",
    "                 .rename(columns = { 0 : \"log_count\"} )   # 컬럼이름을 log_count로 변경합니다.\n",
    "                )\n",
    "\n",
    "cycle_log_count.head(5)"
   ]
  },
  {
   "cell_type": "markdown",
   "metadata": {
    "colab_type": "text",
    "id": "nauFhYBNDw2U"
   },
   "source": [
    "**14.2) user별 cycle당 평균 log수의 평균(고객별 접속당 평균 활동수)**"
   ]
  },
  {
   "cell_type": "markdown",
   "metadata": {
    "colab_type": "text",
    "id": "gc-4eE2NDw2V"
   },
   "source": [
    "위에서 구한 cycle_log_count를 이용하여 user별 cycle당 평균 log수를 구해주세요."
   ]
  },
  {
   "cell_type": "markdown",
   "metadata": {
    "colab_type": "text",
    "id": "SaTzgX9_Dw2W"
   },
   "source": [
    "출력 결과는 아래와 같습니다.\n",
    "<table border=\"1\" class=\"dataframe\">  <thead>    <tr style=\"text-align: right;\">      <th></th>      <th>n_user_id</th>      <th>log_count_mean</th>    </tr>  </thead>  <tbody>    <tr>      <th>0</th>      <td>0</td>      <td>2.00</td>    </tr>    <tr>      <th>1</th>      <td>1</td>      <td>7.00</td>    </tr>    <tr>      <th>2</th>      <td>2</td>      <td>16.00</td>    </tr>    <tr>      <th>3</th>      <td>3</td>      <td>7.75</td>    </tr>    <tr>      <th>4</th>      <td>4</td>      <td>2.00</td>    </tr>  </tbody></table>"
   ]
  },
  {
   "cell_type": "code",
   "execution_count": null,
   "metadata": {
    "colab": {},
    "colab_type": "code",
    "id": "v5ADoOkzDw2X",
    "scrolled": true
   },
   "outputs": [],
   "source": [
    "cycle_user_log_count = (cycle_log_count\n",
    "                        .groupby(['n_user_id'])['log_count']\n",
    "                        .mean()\n",
    "                        .reset_index()\n",
    "                        .rename(columns={0:\"log_count_mean\"})\n",
    "                       )\n",
    "\n",
    "cycle_user_log_count.head()"
   ]
  },
  {
   "cell_type": "markdown",
   "metadata": {
    "colab_type": "text",
    "id": "HZTHQN61Dw2j"
   },
   "source": [
    "**14.3) 하루동안 가장 많은 cycle을 갖는(가장 많이 활동한) 상위 5명의 user를 구해주세요.**\n",
    "\n",
    "`Hint) groupby(), nunique(), sort_values 메서드`"
   ]
  },
  {
   "cell_type": "markdown",
   "metadata": {
    "colab_type": "text",
    "id": "hmIg5-M1Dw2l"
   },
   "source": [
    "결과는 아래와 같습니다. 순서는 상관 없습니다.\n",
    "\n",
    "```\n",
    "n_user_id\n",
    "6234     9\n",
    "2424     9\n",
    "2249    10\n",
    "6010    10\n",
    "5847    11\n",
    "```"
   ]
  },
  {
   "cell_type": "code",
   "execution_count": null,
   "metadata": {
    "colab": {},
    "colab_type": "code",
    "id": "8USLSE7xDw2m"
   },
   "outputs": [],
   "source": [
    "cycle_log_count.groupby('n_user_id')['log_count'].count().sort_values(ascending=False).head()"
   ]
  },
  {
   "cell_type": "markdown",
   "metadata": {
    "colab_type": "text",
    "id": "iC-5xA0ADw2v"
   },
   "source": [
    "**15. 잔존시간을 구해주세요**"
   ]
  },
  {
   "cell_type": "markdown",
   "metadata": {
    "colab_type": "text",
    "id": "NXauJfUgDw2w"
   },
   "source": [
    "잔존시간이란 고객이 앱에서 머문 시간을 뜻합니다."
   ]
  },
  {
   "cell_type": "markdown",
   "metadata": {
    "colab_type": "text",
    "id": "dc-k5702Dw2x"
   },
   "source": [
    "\n",
    "\n",
    "잔존 시간이 높다는 것은 사이트 운영의 청신호라고 생각할 수 있습니다. 일단 방문 목적과 랜딩페이지에서 제공되는 컨텐츠가 부합한다는 뜻이며, 웹사이트의 컨텐츠에 흥미를 느낀 방문자들이 계속 머물고 있다는 뜻이기도 합니다. 방문자들이 웹사이트에 오랜 시간 머물게 되면 웹사이트에서 제공하는 다양한 장치들을 접할 기회가 많아지고 전환에 도달할 확률이 더욱 높아지기 때문에 체류시간은 전환에 있어 매우 중요한 요소입니다.\n",
    "광고를 고객을 통해 app으로의 유입을 성공해다면 그 다음 목표는 방문자를 계속 머물게 하여 전환으로 이어질 수 있도록 하는 것입니다.\n",
    "\n",
    "해당 수업의 zigzag 데이터는 짧은 시간의 제한된 데이터라 잔존 시간을 이용하여 분석할 수 있는게 많지 않지만 현업에서는 잔존 시간을 이용하여 통해 어떤 채널을 이용한 고객 또는 어떤 광고를 통해 유입된 고객이 웹사이트/app에 오래 머물고 제품을 구매하는지에 대한 분석 또는 시간대/요일별 노출전략을 세우는 등 다양한 insight를 얻을 수 있습니다.\n",
    "\n"
   ]
  },
  {
   "cell_type": "markdown",
   "metadata": {
    "colab_type": "text",
    "id": "camiIN4QDw2z"
   },
   "source": [
    "두가지 기준으로 잔존시간을 구할 것입니다.\n",
    "\n",
    "    1) user별\n",
    "    2) 구매 user/ 비구매 user"
   ]
  },
  {
   "cell_type": "markdown",
   "metadata": {
    "colab_type": "text",
    "id": "mlO8BpEGDw21"
   },
   "source": [
    "**15.1) user별 잔존시간을 구해주세요**\n",
    "\n"
   ]
  },
  {
   "cell_type": "markdown",
   "metadata": {
    "colab_type": "text",
    "id": "C8ejpQJ1Dw24"
   },
   "source": [
    "먼저 cycle별 잔존시간을 다음과 같이 구합니다."
   ]
  },
  {
   "cell_type": "code",
   "execution_count": null,
   "metadata": {
    "colab": {},
    "colab_type": "code",
    "id": "CU3q4XsUDw28"
   },
   "outputs": [],
   "source": [
    "remaining_time_cycle = (log_order.groupby(['n_user_id', 'cycle_idx_daily'])['log_duration']\n",
    "                         .sum()\n",
    "                         .reset_index()\n",
    "                         .rename(columns = {'log_duration' : 'remaining_time'})\n",
    "                       )\n",
    "\n",
    "remaining_time_cycle.head(10)"
   ]
  },
  {
   "cell_type": "markdown",
   "metadata": {
    "colab_type": "text",
    "id": "Nuox8Uv8Dw3G"
   },
   "source": [
    "remaining_time_cycle을 이용하여 user별 잔존시간을 구해주세요.\n",
    "\n",
    "Hint) groupby(), mean() 메서드\n",
    "\n",
    "결과는 아래와 같습니다.\n",
    "\n",
    "<table border=\"1\" class=\"dataframe\">  <thead>    <tr style=\"text-align: right;\">      <th></th>      <th>duration</th>    </tr>    <tr>      <th>n_user_id</th>      <th></th>    </tr>  </thead>  <tbody>    <tr>      <th>0</th>      <td>114.890000</td>    </tr>    <tr>      <th>1</th>      <td>1011.541000</td>    </tr>    <tr>      <th>2</th>      <td>1346.260667</td>    </tr>    <tr>      <th>3</th>      <td>460.531250</td>    </tr>    <tr>      <th>4</th>      <td>49.130000</td>    </tr>    <tr>      <th>5</th>      <td>0.000000</td>    </tr>    <tr>      <th>6</th>      <td>1791.532000</td>    </tr>    <tr>      <th>7</th>      <td>2580.258000</td>    </tr>    <tr>      <th>8</th>      <td>984.298000</td>    </tr>    <tr>      <th>9</th>      <td>1657.393000</td>    </tr>  </tbody></table>"
   ]
  },
  {
   "cell_type": "code",
   "execution_count": null,
   "metadata": {
    "colab": {},
    "colab_type": "code",
    "id": "DSrzJVLUDw3I"
   },
   "outputs": [],
   "source": [
    "remaining_time_cycle.groupby('n_user_id')['remaining_time'].mean().head(10)"
   ]
  },
  {
   "cell_type": "markdown",
   "metadata": {
    "colab_type": "text",
    "id": "jw845hnjDw3e"
   },
   "source": [
    "잔존 시간이 0인 것들은 app에 들어와서 아무것도 안하고 나간 고객들입니다.\n",
    "\n",
    "제외하고 계산할 수도 있습니다."
   ]
  },
  {
   "cell_type": "markdown",
   "metadata": {
    "colab_type": "text",
    "id": "6pRbeg3UDw3h"
   },
   "source": [
    "**15.2) 구매/비구매 cycle별 평균 잔존시간 구하기**"
   ]
  },
  {
   "cell_type": "markdown",
   "metadata": {
    "colab_type": "text",
    "id": "GvnAA8D9Dw3l"
   },
   "source": [
    "구매 기록이 있는 cycle은 잔존시간이 길 것이라고 예상할 수 있습니다. 이를 확인하기 위하여 구매/비구매 cycle별 평균 잔존시간을 구하겠습니다."
   ]
  },
  {
   "cell_type": "markdown",
   "metadata": {
    "colab_type": "text",
    "id": "G4aeJs7zDw3p"
   },
   "source": [
    "먼저 구매기록이 있는 cycle list를 만들어 주세요.\n",
    "\n",
    "cycle_purchase 변수에 구매기록이 있는 cycle들을 저장해주시면 됩니다.\n",
    "\n",
    "Hint) purchase 컬럼, indexing, unique() 메서드"
   ]
  },
  {
   "cell_type": "code",
   "execution_count": null,
   "metadata": {
    "colab": {},
    "colab_type": "code",
    "id": "iu2yS-sSDw3r"
   },
   "outputs": [],
   "source": [
    "cycle_purchase = log_order[log_order['purchase'] == True]['cycle_idx_unique'].unique()"
   ]
  },
  {
   "cell_type": "markdown",
   "metadata": {
    "colab_type": "text",
    "id": "46CAJXXODw4D"
   },
   "source": [
    "---"
   ]
  },
  {
   "cell_type": "markdown",
   "metadata": {
    "colab_type": "text",
    "id": "knPHhUjjDw4G"
   },
   "source": [
    "data_purchase 변수에는 구매 기록이 있는 cycle들의 데이터를,\n",
    "\n",
    "data_npurchase 변수에는 구매 기록이 없는 cycle들의 데이터를 저장해주세요.\n",
    "\n",
    "Hint) isin()메서드를 이용한 indexing"
   ]
  },
  {
   "cell_type": "code",
   "execution_count": null,
   "metadata": {
    "colab": {},
    "colab_type": "code",
    "id": "-MOqveNADw4I"
   },
   "outputs": [],
   "source": [
    "# Write your code here!\n",
    "data_purchase = log_order.loc[log_order['cycle_idx_unique'].isin(cycle_purchase)]\n",
    "data_npurchase = log_order.loc[~log_order['cycle_idx_unique'].isin(cycle_purchase)]"
   ]
  },
  {
   "cell_type": "markdown",
   "metadata": {
    "colab_type": "text",
    "id": "CBAR0EUpDw4V"
   },
   "source": [
    "---"
   ]
  },
  {
   "cell_type": "markdown",
   "metadata": {
    "colab_type": "text",
    "id": "CqCfDfKrDw4X"
   },
   "source": [
    "data_purchase를 이용하여 구매 cycle의 잔존시간을 구해주세요.\n",
    "\n",
    "Hint) User별 잔존시간을 구하는 방법과 매우 유사합니다. cycle_idx_unique를 이용해주세요.\n",
    "\n",
    "결과는 아래와 같습니다.\n",
    "\n",
    "<table border=\"1\" class=\"dataframe\">  <thead>    <tr style=\"text-align: right;\">      <th></th>      <th>n_user_id</th>      <th>cycle_idx_unique</th>      <th>cycle_duration</th>    </tr>  </thead>  <tbody>    <tr>      <th>0</th>      <td>2</td>      <td>4</td>      <td>3075.422</td>    </tr>    <tr>      <th>1</th>      <td>8</td>      <td>15</td>      <td>412.025</td>    </tr>    <tr>      <th>2</th>      <td>8</td>      <td>16</td>      <td>1791.231</td>    </tr>    <tr>      <th>3</th>      <td>9</td>      <td>19</td>      <td>1657.393</td>    </tr>    <tr>      <th>4</th>      <td>47</td>      <td>88</td>      <td>3116.367</td>    </tr>    <tr>      <th>5</th>      <td>49</td>      <td>92</td>      <td>2615.611</td>    </tr>    <tr>      <th>6</th>      <td>65</td>      <td>123</td>      <td>3093.858</td>    </tr>    <tr>      <th>7</th>      <td>86</td>      <td>168</td>      <td>1906.721</td>    </tr>    <tr>      <th>8</th>      <td>97</td>      <td>192</td>      <td>3031.770</td>    </tr>    <tr>      <th>9</th>      <td>117</td>      <td>232</td>      <td>1191.110</td>    </tr>  </tbody></table>"
   ]
  },
  {
   "cell_type": "code",
   "execution_count": null,
   "metadata": {
    "colab": {},
    "colab_type": "code",
    "id": "D0RQpvOaDw4a"
   },
   "outputs": [],
   "source": [
    "data_purchase_time_cycle = (data_purchase.groupby(['n_user_id', 'cycle_idx_unique'])['log_duration']\n",
    "                         .sum()\n",
    "                         .reset_index()\n",
    "                         .rename(columns = {'log_duration' : 'cycle_duration'})\n",
    "                       )\n",
    "\n",
    "data_purchase_time_cycle.head(10)"
   ]
  },
  {
   "cell_type": "markdown",
   "metadata": {
    "colab_type": "text",
    "id": "mW8sg41zDw40"
   },
   "source": [
    "마찬가지로 비구매 cycle의 잔존시간을 구해주세요."
   ]
  },
  {
   "cell_type": "code",
   "execution_count": null,
   "metadata": {
    "colab": {},
    "colab_type": "code",
    "id": "D_W2dtyBDw43"
   },
   "outputs": [],
   "source": [
    "data_npurchase_time_cycle = (data_npurchase.groupby(['n_user_id', 'cycle_idx_unique'])['log_duration']\n",
    "                         .sum()\n",
    "                         .reset_index()\n",
    "                         .rename(columns = {'log_duration' : 'cycle_duration'})\n",
    "                       )\n",
    "\n",
    "data_npurchase_time_cycle.head(10)"
   ]
  },
  {
   "cell_type": "markdown",
   "metadata": {
    "colab_type": "text",
    "id": "hqJMIVQ_Dw5K"
   },
   "source": [
    "마지막으로 구매/비구매 cycle의 잔존 시간으로 boxplot을 그려주세요. 그리고 구매 cycle 잔존 시간 평균과 비구매 cycle 잔존 시간 평균을 구해주세요.\n",
    "\n",
    "결과는 아래와 같습니다.\n",
    "\n",
    "<img src=\"https://drive.google.com/uc?export=view&id=1Pu4__DARP88Agt9w-f9IaequPznszMVZ\" width=\"600\" height=\"224\"></img> \n",
    "\n",
    "\n",
    "```\n",
    "구매 cycle 잔존 시간 평균: 2280.0800799999997\n",
    "비구매 cycle 잔존 시간 평균: 611.9902027010454\n",
    "```\n"
   ]
  },
  {
   "cell_type": "code",
   "execution_count": null,
   "metadata": {},
   "outputs": [],
   "source": [
    "plt.figure(figsize=(15,5))\n",
    "plt.subplot(211)\n",
    "sns.boxplot(x = \"cycle_duration\",  data = data_npurchase_time_cycle)\n",
    "plt.subplot(212)\n",
    "sns.boxplot(x = \"cycle_duration\",  data = data_purchase_time_cycle)\n",
    "plt.show()\n",
    "\n",
    "print(\"구매 cycle 잔존 시간 평균 : \", data_purchase_time_cycle['cycle_duration'].mean())\n",
    "print(\"비구매 cycle 잔존 시간 평균 : \",data_npurchase_time_cycle['cycle_duration'].mean())"
   ]
  },
  {
   "cell_type": "markdown",
   "metadata": {
    "colab_type": "text",
    "id": "4pMfn17oDw5T"
   },
   "source": [
    "## 제출\n",
    "\n",
    "과제를 다 끝내셨으면 http://bit.ly/ds-assignment 에서 안내에 따라 과제를 제출하여 주세요! 과제를 제출해주시면 솔루션과 검토 결과를 드립니다. 오프라인 수업의 경우 과제를 제출하지 않으시더라도 솔루션은 다음 수업 시간에 제공해드립니다.\n",
    "\n",
    "수업이나 과제 관련 질문, 수료증 문의 등은 담당 튜터(조교)에게 문의 주세요. 영수증 발급 등의 문의는 support@dsschool.co.kr 로 메일 주시면 담당자분이 응대해주실 겁니다. 기타 궁금한 사항은 슬랙으로 문의 주세요!"
   ]
  }
 ],
 "metadata": {
  "colab": {
   "name": "0402_zigzag(assignment).ipynb",
   "provenance": []
  },
  "kernelspec": {
   "display_name": "Python 3",
   "language": "python",
   "name": "python3"
  },
  "language_info": {
   "codemirror_mode": {
    "name": "ipython",
    "version": 3
   },
   "file_extension": ".py",
   "mimetype": "text/x-python",
   "name": "python",
   "nbconvert_exporter": "python",
   "pygments_lexer": "ipython3",
   "version": "3.7.4"
  }
 },
 "nbformat": 4,
 "nbformat_minor": 1
}
