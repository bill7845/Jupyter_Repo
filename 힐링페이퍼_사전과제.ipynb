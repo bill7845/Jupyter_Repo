{
 "cells": [
  {
   "cell_type": "code",
   "execution_count": null,
   "metadata": {},
   "outputs": [],
   "source": [
    "## 위험요인 vs 예방요인\n",
    "\n",
    "## 설명변수 => 공변량(covariate)"
   ]
  },
  {
   "cell_type": "code",
   "execution_count": null,
   "metadata": {},
   "outputs": [],
   "source": []
  },
  {
   "cell_type": "code",
   "execution_count": 1,
   "metadata": {},
   "outputs": [],
   "source": [
    "import pandas as pd\n",
    "import numpy as np\n",
    "\n",
    "import matplotlib.pyplot as plt\n",
    "import seaborn as sns\n",
    "\n",
    "import statsmodels.api as sm\n",
    "import statsmodels.formula.api as smf\n",
    "from sklearn.model_selection import train_test_split\n",
    "from sklearn.linear_model import LogisticRegression\n",
    "from sklearn.metrics import classification_report\n",
    "\n",
    "import warnings\n",
    "warnings.filterwarnings('ignore')"
   ]
  },
  {
   "cell_type": "code",
   "execution_count": 2,
   "metadata": {},
   "outputs": [],
   "source": [
    "# 한글 오류 해결\n",
    "from matplotlib import font_manager, rc\n",
    "import matplotlib\n",
    "\n",
    "#한글 폰트 등록\n",
    "font_location = \"c:/Windows/fonts/malgun.ttf\"\n",
    "font_name = font_manager.FontProperties(fname=font_location).get_name()\n",
    "matplotlib.rc('font', family=font_name)"
   ]
  },
  {
   "cell_type": "code",
   "execution_count": 3,
   "metadata": {},
   "outputs": [],
   "source": [
    "df = pd.read_csv('heart.csv')"
   ]
  },
  {
   "cell_type": "code",
   "execution_count": 4,
   "metadata": {},
   "outputs": [
    {
     "data": {
      "text/html": [
       "<div>\n",
       "<style scoped>\n",
       "    .dataframe tbody tr th:only-of-type {\n",
       "        vertical-align: middle;\n",
       "    }\n",
       "\n",
       "    .dataframe tbody tr th {\n",
       "        vertical-align: top;\n",
       "    }\n",
       "\n",
       "    .dataframe thead th {\n",
       "        text-align: right;\n",
       "    }\n",
       "</style>\n",
       "<table border=\"1\" class=\"dataframe\">\n",
       "  <thead>\n",
       "    <tr style=\"text-align: right;\">\n",
       "      <th></th>\n",
       "      <th>age</th>\n",
       "      <th>sex</th>\n",
       "      <th>cp</th>\n",
       "      <th>trestbps</th>\n",
       "      <th>chol</th>\n",
       "      <th>fbs</th>\n",
       "      <th>restecg</th>\n",
       "      <th>thalach</th>\n",
       "      <th>exang</th>\n",
       "      <th>oldpeak</th>\n",
       "      <th>slope</th>\n",
       "      <th>ca</th>\n",
       "      <th>thal</th>\n",
       "      <th>target</th>\n",
       "    </tr>\n",
       "  </thead>\n",
       "  <tbody>\n",
       "    <tr>\n",
       "      <td>0</td>\n",
       "      <td>63</td>\n",
       "      <td>1</td>\n",
       "      <td>3</td>\n",
       "      <td>145</td>\n",
       "      <td>233</td>\n",
       "      <td>1</td>\n",
       "      <td>0</td>\n",
       "      <td>150</td>\n",
       "      <td>0</td>\n",
       "      <td>2.3</td>\n",
       "      <td>0</td>\n",
       "      <td>0</td>\n",
       "      <td>1</td>\n",
       "      <td>1</td>\n",
       "    </tr>\n",
       "    <tr>\n",
       "      <td>1</td>\n",
       "      <td>37</td>\n",
       "      <td>1</td>\n",
       "      <td>2</td>\n",
       "      <td>130</td>\n",
       "      <td>250</td>\n",
       "      <td>0</td>\n",
       "      <td>1</td>\n",
       "      <td>187</td>\n",
       "      <td>0</td>\n",
       "      <td>3.5</td>\n",
       "      <td>0</td>\n",
       "      <td>0</td>\n",
       "      <td>2</td>\n",
       "      <td>1</td>\n",
       "    </tr>\n",
       "    <tr>\n",
       "      <td>2</td>\n",
       "      <td>41</td>\n",
       "      <td>0</td>\n",
       "      <td>1</td>\n",
       "      <td>130</td>\n",
       "      <td>204</td>\n",
       "      <td>0</td>\n",
       "      <td>0</td>\n",
       "      <td>172</td>\n",
       "      <td>0</td>\n",
       "      <td>1.4</td>\n",
       "      <td>2</td>\n",
       "      <td>0</td>\n",
       "      <td>2</td>\n",
       "      <td>1</td>\n",
       "    </tr>\n",
       "    <tr>\n",
       "      <td>3</td>\n",
       "      <td>56</td>\n",
       "      <td>1</td>\n",
       "      <td>1</td>\n",
       "      <td>120</td>\n",
       "      <td>236</td>\n",
       "      <td>0</td>\n",
       "      <td>1</td>\n",
       "      <td>178</td>\n",
       "      <td>0</td>\n",
       "      <td>0.8</td>\n",
       "      <td>2</td>\n",
       "      <td>0</td>\n",
       "      <td>2</td>\n",
       "      <td>1</td>\n",
       "    </tr>\n",
       "    <tr>\n",
       "      <td>4</td>\n",
       "      <td>57</td>\n",
       "      <td>0</td>\n",
       "      <td>0</td>\n",
       "      <td>120</td>\n",
       "      <td>354</td>\n",
       "      <td>0</td>\n",
       "      <td>1</td>\n",
       "      <td>163</td>\n",
       "      <td>1</td>\n",
       "      <td>0.6</td>\n",
       "      <td>2</td>\n",
       "      <td>0</td>\n",
       "      <td>2</td>\n",
       "      <td>1</td>\n",
       "    </tr>\n",
       "    <tr>\n",
       "      <td>...</td>\n",
       "      <td>...</td>\n",
       "      <td>...</td>\n",
       "      <td>...</td>\n",
       "      <td>...</td>\n",
       "      <td>...</td>\n",
       "      <td>...</td>\n",
       "      <td>...</td>\n",
       "      <td>...</td>\n",
       "      <td>...</td>\n",
       "      <td>...</td>\n",
       "      <td>...</td>\n",
       "      <td>...</td>\n",
       "      <td>...</td>\n",
       "      <td>...</td>\n",
       "    </tr>\n",
       "    <tr>\n",
       "      <td>298</td>\n",
       "      <td>57</td>\n",
       "      <td>0</td>\n",
       "      <td>0</td>\n",
       "      <td>140</td>\n",
       "      <td>241</td>\n",
       "      <td>0</td>\n",
       "      <td>1</td>\n",
       "      <td>123</td>\n",
       "      <td>1</td>\n",
       "      <td>0.2</td>\n",
       "      <td>1</td>\n",
       "      <td>0</td>\n",
       "      <td>3</td>\n",
       "      <td>0</td>\n",
       "    </tr>\n",
       "    <tr>\n",
       "      <td>299</td>\n",
       "      <td>45</td>\n",
       "      <td>1</td>\n",
       "      <td>3</td>\n",
       "      <td>110</td>\n",
       "      <td>264</td>\n",
       "      <td>0</td>\n",
       "      <td>1</td>\n",
       "      <td>132</td>\n",
       "      <td>0</td>\n",
       "      <td>1.2</td>\n",
       "      <td>1</td>\n",
       "      <td>0</td>\n",
       "      <td>3</td>\n",
       "      <td>0</td>\n",
       "    </tr>\n",
       "    <tr>\n",
       "      <td>300</td>\n",
       "      <td>68</td>\n",
       "      <td>1</td>\n",
       "      <td>0</td>\n",
       "      <td>144</td>\n",
       "      <td>193</td>\n",
       "      <td>1</td>\n",
       "      <td>1</td>\n",
       "      <td>141</td>\n",
       "      <td>0</td>\n",
       "      <td>3.4</td>\n",
       "      <td>1</td>\n",
       "      <td>2</td>\n",
       "      <td>3</td>\n",
       "      <td>0</td>\n",
       "    </tr>\n",
       "    <tr>\n",
       "      <td>301</td>\n",
       "      <td>57</td>\n",
       "      <td>1</td>\n",
       "      <td>0</td>\n",
       "      <td>130</td>\n",
       "      <td>131</td>\n",
       "      <td>0</td>\n",
       "      <td>1</td>\n",
       "      <td>115</td>\n",
       "      <td>1</td>\n",
       "      <td>1.2</td>\n",
       "      <td>1</td>\n",
       "      <td>1</td>\n",
       "      <td>3</td>\n",
       "      <td>0</td>\n",
       "    </tr>\n",
       "    <tr>\n",
       "      <td>302</td>\n",
       "      <td>57</td>\n",
       "      <td>0</td>\n",
       "      <td>1</td>\n",
       "      <td>130</td>\n",
       "      <td>236</td>\n",
       "      <td>0</td>\n",
       "      <td>0</td>\n",
       "      <td>174</td>\n",
       "      <td>0</td>\n",
       "      <td>0.0</td>\n",
       "      <td>1</td>\n",
       "      <td>1</td>\n",
       "      <td>2</td>\n",
       "      <td>0</td>\n",
       "    </tr>\n",
       "  </tbody>\n",
       "</table>\n",
       "<p>303 rows × 14 columns</p>\n",
       "</div>"
      ],
      "text/plain": [
       "     age  sex  cp  trestbps  chol  fbs  restecg  thalach  exang  oldpeak  \\\n",
       "0     63    1   3       145   233    1        0      150      0      2.3   \n",
       "1     37    1   2       130   250    0        1      187      0      3.5   \n",
       "2     41    0   1       130   204    0        0      172      0      1.4   \n",
       "3     56    1   1       120   236    0        1      178      0      0.8   \n",
       "4     57    0   0       120   354    0        1      163      1      0.6   \n",
       "..   ...  ...  ..       ...   ...  ...      ...      ...    ...      ...   \n",
       "298   57    0   0       140   241    0        1      123      1      0.2   \n",
       "299   45    1   3       110   264    0        1      132      0      1.2   \n",
       "300   68    1   0       144   193    1        1      141      0      3.4   \n",
       "301   57    1   0       130   131    0        1      115      1      1.2   \n",
       "302   57    0   1       130   236    0        0      174      0      0.0   \n",
       "\n",
       "     slope  ca  thal  target  \n",
       "0        0   0     1       1  \n",
       "1        0   0     2       1  \n",
       "2        2   0     2       1  \n",
       "3        2   0     2       1  \n",
       "4        2   0     2       1  \n",
       "..     ...  ..   ...     ...  \n",
       "298      1   0     3       0  \n",
       "299      1   0     3       0  \n",
       "300      1   2     3       0  \n",
       "301      1   1     3       0  \n",
       "302      1   1     2       0  \n",
       "\n",
       "[303 rows x 14 columns]"
      ]
     },
     "execution_count": 4,
     "metadata": {},
     "output_type": "execute_result"
    }
   ],
   "source": [
    "df"
   ]
  },
  {
   "cell_type": "markdown",
   "metadata": {},
   "source": [
    "![컬럼명세](https://user-images.githubusercontent.com/35517797/70862044-38f0d580-1f7a-11ea-9234-54bd8644794c.PNG)"
   ]
  },
  {
   "cell_type": "code",
   "execution_count": 5,
   "metadata": {
    "scrolled": true
   },
   "outputs": [],
   "source": [
    "# slope,ca의 경우 수치형이 아닌 범주형으로 다룰 필요\n",
    "\n",
    "category = ['sex','cp','fbs','restecg','exang','thal','slope','ca']\n",
    "numeric = ['age','trestbps','chol','thalach','oldpeak']"
   ]
  },
  {
   "cell_type": "code",
   "execution_count": 6,
   "metadata": {
    "scrolled": true
   },
   "outputs": [
    {
     "data": {
      "text/html": [
       "<div>\n",
       "<style scoped>\n",
       "    .dataframe tbody tr th:only-of-type {\n",
       "        vertical-align: middle;\n",
       "    }\n",
       "\n",
       "    .dataframe tbody tr th {\n",
       "        vertical-align: top;\n",
       "    }\n",
       "\n",
       "    .dataframe thead th {\n",
       "        text-align: right;\n",
       "    }\n",
       "</style>\n",
       "<table border=\"1\" class=\"dataframe\">\n",
       "  <thead>\n",
       "    <tr style=\"text-align: right;\">\n",
       "      <th></th>\n",
       "      <th>age</th>\n",
       "      <th>trestbps</th>\n",
       "      <th>chol</th>\n",
       "      <th>thalach</th>\n",
       "      <th>oldpeak</th>\n",
       "    </tr>\n",
       "  </thead>\n",
       "  <tbody>\n",
       "    <tr>\n",
       "      <td>count</td>\n",
       "      <td>303.000000</td>\n",
       "      <td>303.000000</td>\n",
       "      <td>303.000000</td>\n",
       "      <td>303.000000</td>\n",
       "      <td>303.000000</td>\n",
       "    </tr>\n",
       "    <tr>\n",
       "      <td>mean</td>\n",
       "      <td>54.366337</td>\n",
       "      <td>131.623762</td>\n",
       "      <td>246.264026</td>\n",
       "      <td>149.646865</td>\n",
       "      <td>1.039604</td>\n",
       "    </tr>\n",
       "    <tr>\n",
       "      <td>std</td>\n",
       "      <td>9.082101</td>\n",
       "      <td>17.538143</td>\n",
       "      <td>51.830751</td>\n",
       "      <td>22.905161</td>\n",
       "      <td>1.161075</td>\n",
       "    </tr>\n",
       "    <tr>\n",
       "      <td>min</td>\n",
       "      <td>29.000000</td>\n",
       "      <td>94.000000</td>\n",
       "      <td>126.000000</td>\n",
       "      <td>71.000000</td>\n",
       "      <td>0.000000</td>\n",
       "    </tr>\n",
       "    <tr>\n",
       "      <td>25%</td>\n",
       "      <td>47.500000</td>\n",
       "      <td>120.000000</td>\n",
       "      <td>211.000000</td>\n",
       "      <td>133.500000</td>\n",
       "      <td>0.000000</td>\n",
       "    </tr>\n",
       "    <tr>\n",
       "      <td>50%</td>\n",
       "      <td>55.000000</td>\n",
       "      <td>130.000000</td>\n",
       "      <td>240.000000</td>\n",
       "      <td>153.000000</td>\n",
       "      <td>0.800000</td>\n",
       "    </tr>\n",
       "    <tr>\n",
       "      <td>75%</td>\n",
       "      <td>61.000000</td>\n",
       "      <td>140.000000</td>\n",
       "      <td>274.500000</td>\n",
       "      <td>166.000000</td>\n",
       "      <td>1.600000</td>\n",
       "    </tr>\n",
       "    <tr>\n",
       "      <td>max</td>\n",
       "      <td>77.000000</td>\n",
       "      <td>200.000000</td>\n",
       "      <td>564.000000</td>\n",
       "      <td>202.000000</td>\n",
       "      <td>6.200000</td>\n",
       "    </tr>\n",
       "  </tbody>\n",
       "</table>\n",
       "</div>"
      ],
      "text/plain": [
       "              age    trestbps        chol     thalach     oldpeak\n",
       "count  303.000000  303.000000  303.000000  303.000000  303.000000\n",
       "mean    54.366337  131.623762  246.264026  149.646865    1.039604\n",
       "std      9.082101   17.538143   51.830751   22.905161    1.161075\n",
       "min     29.000000   94.000000  126.000000   71.000000    0.000000\n",
       "25%     47.500000  120.000000  211.000000  133.500000    0.000000\n",
       "50%     55.000000  130.000000  240.000000  153.000000    0.800000\n",
       "75%     61.000000  140.000000  274.500000  166.000000    1.600000\n",
       "max     77.000000  200.000000  564.000000  202.000000    6.200000"
      ]
     },
     "execution_count": 6,
     "metadata": {},
     "output_type": "execute_result"
    }
   ],
   "source": [
    "# describe\n",
    "\n",
    "# 수치형 데이터에 대한 탐색\n",
    "df[numeric].describe()"
   ]
  },
  {
   "cell_type": "code",
   "execution_count": 7,
   "metadata": {},
   "outputs": [],
   "source": [
    "# 심장병 유무별 데이터 탐색"
   ]
  },
  {
   "cell_type": "code",
   "execution_count": 8,
   "metadata": {},
   "outputs": [
    {
     "data": {
      "image/png": "[encoded data removed]",
      "text/plain": [
       "<Figure size 864x720 with 5 Axes>"
      ]
     },
     "metadata": {
      "needs_background": "light"
     },
     "output_type": "display_data"
    }
   ],
   "source": [
    "# numeric data visualization\n",
    "\n",
    "plt.figure(figsize=(12,10))\n",
    "\n",
    "ax1 = plt.subplot(321)\n",
    "\n",
    "ax1 = sns.distplot(df[df.target == 1]['age'],label='1')\n",
    "ax1 = sns.distplot(df[df.target == 0]['age'],label='0')\n",
    "\n",
    "ax1.legend()\n",
    "ax1.set_title('심장병 유무별 나이대 분포')\n",
    "\n",
    "\n",
    "#######################################################\n",
    "\n",
    "ax2 = plt.subplot(322)\n",
    "\n",
    "ax2 = sns.distplot(df[df.target == 1]['trestbps'],label='1')\n",
    "ax2 = sns.distplot(df[df.target == 0]['trestbps'],label='0')\n",
    "\n",
    "ax2.legend()\n",
    "ax2.set_title('심장병 유무별 trestbps(안정혈압) 분포')\n",
    "\n",
    "\n",
    "#######################################################\n",
    "\n",
    "\n",
    "ax3 = plt.subplot(323)\n",
    "\n",
    "ax3 = sns.distplot(df[df.target == 1]['chol'],label='1')\n",
    "ax3 = sns.distplot(df[df.target == 0]['chol'],label='0')\n",
    "\n",
    "ax3.legend()\n",
    "ax3.set_title('심장병 유무별 chol(혈청 콜레스테롤) 분포')\n",
    "\n",
    "\n",
    "#######################################################\n",
    "\n",
    "\n",
    "ax4 = plt.subplot(324)\n",
    "\n",
    "sns.distplot(df[df.target == 1]['thalach'],label='1')\n",
    "sns.distplot(df[df.target == 0]['thalach'],label='0')\n",
    "\n",
    "ax4.legend()\n",
    "ax4.set_title('심장병 유무별 thalach(최대 심장 박동수) 분포')\n",
    "\n",
    "\n",
    "#######################################################\n",
    "\n",
    "\n",
    "ax4 = plt.subplot(325)\n",
    "\n",
    "sns.distplot(df[df.target == 1]['oldpeak'],label='1')\n",
    "sns.distplot(df[df.target == 0]['oldpeak'],label='0')\n",
    "\n",
    "ax4.legend()\n",
    "ax4.set_title('심장병 유무별 oldpeak(ST Depression) 분포')\n",
    "\n",
    "#######################################################\n",
    "\n",
    "plt.tight_layout()\n",
    "plt.show()"
   ]
  },
  {
   "cell_type": "code",
   "execution_count": 9,
   "metadata": {},
   "outputs": [],
   "source": [
    "# categorical data visualization\n",
    "\n",
    "## 시각화 함수 생성\n",
    "plt_df = None\n",
    "def bar_chart(feature,label):\n",
    "    yes_heart = df[df.target == 1][feature].value_counts()\n",
    "    no_heart = df[df.target == 0][feature].value_counts()  \n",
    "    plt_df = pd.DataFrame([yes_heart,no_heart])\n",
    "    plt_df.index = ['yes_heart','no_heart']\n",
    "    \n",
    "    plt_df.plot(kind='bar',stacked=True,figsize=(12,6)).legend(label,title=(feature))\n",
    "    \n",
    "    return plt_df"
   ]
  },
  {
   "cell_type": "markdown",
   "metadata": {},
   "source": [
    "- ```성별```에 따른 생존,사망 여부 시각화"
   ]
  },
  {
   "cell_type": "code",
   "execution_count": 10,
   "metadata": {},
   "outputs": [
    {
     "data": {
      "text/html": [
       "<div>\n",
       "<style scoped>\n",
       "    .dataframe tbody tr th:only-of-type {\n",
       "        vertical-align: middle;\n",
       "    }\n",
       "\n",
       "    .dataframe tbody tr th {\n",
       "        vertical-align: top;\n",
       "    }\n",
       "\n",
       "    .dataframe thead th {\n",
       "        text-align: right;\n",
       "    }\n",
       "</style>\n",
       "<table border=\"1\" class=\"dataframe\">\n",
       "  <thead>\n",
       "    <tr style=\"text-align: right;\">\n",
       "      <th></th>\n",
       "      <th>1</th>\n",
       "      <th>0</th>\n",
       "    </tr>\n",
       "  </thead>\n",
       "  <tbody>\n",
       "    <tr>\n",
       "      <td>yes_heart</td>\n",
       "      <td>93</td>\n",
       "      <td>72</td>\n",
       "    </tr>\n",
       "    <tr>\n",
       "      <td>no_heart</td>\n",
       "      <td>114</td>\n",
       "      <td>24</td>\n",
       "    </tr>\n",
       "  </tbody>\n",
       "</table>\n",
       "</div>"
      ],
      "text/plain": [
       "             1   0\n",
       "yes_heart   93  72\n",
       "no_heart   114  24"
      ]
     },
     "execution_count": 10,
     "metadata": {},
     "output_type": "execute_result"
    },
    {
     "data": {
      "image/png": "[encoded data removed]",
      "text/plain": [
       "<Figure size 864x432 with 1 Axes>"
      ]
     },
     "metadata": {
      "needs_background": "light"
     },
     "output_type": "display_data"
    }
   ],
   "source": [
    "bar_chart('sex',['남자','여자'])\n",
    "\n",
    "# 남자일수록 심장병 확률이 낮다?\n",
    "# 심장병 있는경우 전체 165명중 93명이 남자 72명이 여자로 비슷\n",
    "# 심장병이 없는경우 전체 138명중 114명이 남자 24명이 여자로 남성이 4.8배 가까이 많음\n",
    "# => 남성이 여성에 비해 심장병에 걸리지 않을 확률이 낮다?"
   ]
  },
  {
   "cell_type": "code",
   "execution_count": 11,
   "metadata": {},
   "outputs": [
    {
     "data": {
      "text/html": [
       "<div>\n",
       "<style scoped>\n",
       "    .dataframe tbody tr th:only-of-type {\n",
       "        vertical-align: middle;\n",
       "    }\n",
       "\n",
       "    .dataframe tbody tr th {\n",
       "        vertical-align: top;\n",
       "    }\n",
       "\n",
       "    .dataframe thead th {\n",
       "        text-align: right;\n",
       "    }\n",
       "</style>\n",
       "<table border=\"1\" class=\"dataframe\">\n",
       "  <thead>\n",
       "    <tr style=\"text-align: right;\">\n",
       "      <th></th>\n",
       "      <th>0</th>\n",
       "      <th>1</th>\n",
       "      <th>2</th>\n",
       "      <th>3</th>\n",
       "    </tr>\n",
       "  </thead>\n",
       "  <tbody>\n",
       "    <tr>\n",
       "      <td>yes_heart</td>\n",
       "      <td>39</td>\n",
       "      <td>41</td>\n",
       "      <td>69</td>\n",
       "      <td>16</td>\n",
       "    </tr>\n",
       "    <tr>\n",
       "      <td>no_heart</td>\n",
       "      <td>104</td>\n",
       "      <td>9</td>\n",
       "      <td>18</td>\n",
       "      <td>7</td>\n",
       "    </tr>\n",
       "  </tbody>\n",
       "</table>\n",
       "</div>"
      ],
      "text/plain": [
       "             0   1   2   3\n",
       "yes_heart   39  41  69  16\n",
       "no_heart   104   9  18   7"
      ]
     },
     "execution_count": 11,
     "metadata": {},
     "output_type": "execute_result"
    },
    {
     "data": {
      "image/png": "[encoded data removed]",
      "text/plain": [
       "<Figure size 864x432 with 1 Axes>"
      ]
     },
     "metadata": {
      "needs_background": "light"
     },
     "output_type": "display_data"
    }
   ],
   "source": [
    "# 가슴통증유형 (0,1,2,3,4)\n",
    "bar_chart('cp',['0','1','2','3','4'])\n",
    "\n",
    "# 2,1,0,3 의 통증유형순으로 심장병 case가 많음\n",
    "# 심장병이 없는 대부분의 경우 0"
   ]
  },
  {
   "cell_type": "code",
   "execution_count": 12,
   "metadata": {},
   "outputs": [
    {
     "data": {
      "text/html": [
       "<div>\n",
       "<style scoped>\n",
       "    .dataframe tbody tr th:only-of-type {\n",
       "        vertical-align: middle;\n",
       "    }\n",
       "\n",
       "    .dataframe tbody tr th {\n",
       "        vertical-align: top;\n",
       "    }\n",
       "\n",
       "    .dataframe thead th {\n",
       "        text-align: right;\n",
       "    }\n",
       "</style>\n",
       "<table border=\"1\" class=\"dataframe\">\n",
       "  <thead>\n",
       "    <tr style=\"text-align: right;\">\n",
       "      <th></th>\n",
       "      <th>0</th>\n",
       "      <th>1</th>\n",
       "    </tr>\n",
       "  </thead>\n",
       "  <tbody>\n",
       "    <tr>\n",
       "      <td>yes_heart</td>\n",
       "      <td>142</td>\n",
       "      <td>23</td>\n",
       "    </tr>\n",
       "    <tr>\n",
       "      <td>no_heart</td>\n",
       "      <td>116</td>\n",
       "      <td>22</td>\n",
       "    </tr>\n",
       "  </tbody>\n",
       "</table>\n",
       "</div>"
      ],
      "text/plain": [
       "             0   1\n",
       "yes_heart  142  23\n",
       "no_heart   116  22"
      ]
     },
     "execution_count": 12,
     "metadata": {},
     "output_type": "execute_result"
    },
    {
     "data": {
      "image/png": "[encoded data removed]",
      "text/plain": [
       "<Figure size 864x432 with 1 Axes>"
      ]
     },
     "metadata": {
      "needs_background": "light"
     },
     "output_type": "display_data"
    }
   ],
   "source": [
    "# 공복혈당 ( 120이상, 1=true, 0=False )\n",
    "bar_chart('fbs',['1','0'])"
   ]
  },
  {
   "cell_type": "code",
   "execution_count": 13,
   "metadata": {},
   "outputs": [
    {
     "data": {
      "text/html": [
       "<div>\n",
       "<style scoped>\n",
       "    .dataframe tbody tr th:only-of-type {\n",
       "        vertical-align: middle;\n",
       "    }\n",
       "\n",
       "    .dataframe tbody tr th {\n",
       "        vertical-align: top;\n",
       "    }\n",
       "\n",
       "    .dataframe thead th {\n",
       "        text-align: right;\n",
       "    }\n",
       "</style>\n",
       "<table border=\"1\" class=\"dataframe\">\n",
       "  <thead>\n",
       "    <tr style=\"text-align: right;\">\n",
       "      <th></th>\n",
       "      <th>0</th>\n",
       "      <th>1</th>\n",
       "      <th>2</th>\n",
       "    </tr>\n",
       "  </thead>\n",
       "  <tbody>\n",
       "    <tr>\n",
       "      <td>yes_heart</td>\n",
       "      <td>68</td>\n",
       "      <td>96</td>\n",
       "      <td>1</td>\n",
       "    </tr>\n",
       "    <tr>\n",
       "      <td>no_heart</td>\n",
       "      <td>79</td>\n",
       "      <td>56</td>\n",
       "      <td>3</td>\n",
       "    </tr>\n",
       "  </tbody>\n",
       "</table>\n",
       "</div>"
      ],
      "text/plain": [
       "            0   1  2\n",
       "yes_heart  68  96  1\n",
       "no_heart   79  56  3"
      ]
     },
     "execution_count": 13,
     "metadata": {},
     "output_type": "execute_result"
    },
    {
     "data": {
      "image/png": "[encoded data removed]",
      "text/plain": [
       "<Figure size 864x432 with 1 Axes>"
      ]
     },
     "metadata": {
      "needs_background": "light"
     },
     "output_type": "display_data"
    }
   ],
   "source": [
    "# 안정 심전도 결과 (0,1,2)\n",
    "bar_chart('restecg',['0','1','2'])"
   ]
  },
  {
   "cell_type": "code",
   "execution_count": 14,
   "metadata": {},
   "outputs": [
    {
     "data": {
      "text/html": [
       "<div>\n",
       "<style scoped>\n",
       "    .dataframe tbody tr th:only-of-type {\n",
       "        vertical-align: middle;\n",
       "    }\n",
       "\n",
       "    .dataframe tbody tr th {\n",
       "        vertical-align: top;\n",
       "    }\n",
       "\n",
       "    .dataframe thead th {\n",
       "        text-align: right;\n",
       "    }\n",
       "</style>\n",
       "<table border=\"1\" class=\"dataframe\">\n",
       "  <thead>\n",
       "    <tr style=\"text-align: right;\">\n",
       "      <th></th>\n",
       "      <th>0</th>\n",
       "      <th>1</th>\n",
       "    </tr>\n",
       "  </thead>\n",
       "  <tbody>\n",
       "    <tr>\n",
       "      <td>yes_heart</td>\n",
       "      <td>142</td>\n",
       "      <td>23</td>\n",
       "    </tr>\n",
       "    <tr>\n",
       "      <td>no_heart</td>\n",
       "      <td>62</td>\n",
       "      <td>76</td>\n",
       "    </tr>\n",
       "  </tbody>\n",
       "</table>\n",
       "</div>"
      ],
      "text/plain": [
       "             0   1\n",
       "yes_heart  142  23\n",
       "no_heart    62  76"
      ]
     },
     "execution_count": 14,
     "metadata": {},
     "output_type": "execute_result"
    },
    {
     "data": {
      "image/png": "[encoded data removed]",
      "text/plain": [
       "<Figure size 864x432 with 1 Axes>"
      ]
     },
     "metadata": {
      "needs_background": "light"
     },
     "output_type": "display_data"
    }
   ],
   "source": [
    "# 협심증 유발 운동 (1=yes, 0=no)\n",
    "bar_chart('exang',['1','0'])"
   ]
  },
  {
   "cell_type": "code",
   "execution_count": 15,
   "metadata": {
    "scrolled": false
   },
   "outputs": [
    {
     "data": {
      "text/html": [
       "<div>\n",
       "<style scoped>\n",
       "    .dataframe tbody tr th:only-of-type {\n",
       "        vertical-align: middle;\n",
       "    }\n",
       "\n",
       "    .dataframe tbody tr th {\n",
       "        vertical-align: top;\n",
       "    }\n",
       "\n",
       "    .dataframe thead th {\n",
       "        text-align: right;\n",
       "    }\n",
       "</style>\n",
       "<table border=\"1\" class=\"dataframe\">\n",
       "  <thead>\n",
       "    <tr style=\"text-align: right;\">\n",
       "      <th></th>\n",
       "      <th>0</th>\n",
       "      <th>1</th>\n",
       "      <th>2</th>\n",
       "      <th>3</th>\n",
       "    </tr>\n",
       "  </thead>\n",
       "  <tbody>\n",
       "    <tr>\n",
       "      <td>yes_heart</td>\n",
       "      <td>1</td>\n",
       "      <td>6</td>\n",
       "      <td>130</td>\n",
       "      <td>28</td>\n",
       "    </tr>\n",
       "    <tr>\n",
       "      <td>no_heart</td>\n",
       "      <td>1</td>\n",
       "      <td>12</td>\n",
       "      <td>36</td>\n",
       "      <td>89</td>\n",
       "    </tr>\n",
       "  </tbody>\n",
       "</table>\n",
       "</div>"
      ],
      "text/plain": [
       "           0   1    2   3\n",
       "yes_heart  1   6  130  28\n",
       "no_heart   1  12   36  89"
      ]
     },
     "execution_count": 15,
     "metadata": {},
     "output_type": "execute_result"
    },
    {
     "data": {
      "image/png": "[encoded data removed]",
      "text/plain": [
       "<Figure size 864x432 with 1 Axes>"
      ]
     },
     "metadata": {
      "needs_background": "light"
     },
     "output_type": "display_data"
    }
   ],
   "source": [
    "# ???\n",
    "bar_chart('thal',['0','1','2'])"
   ]
  },
  {
   "cell_type": "code",
   "execution_count": 16,
   "metadata": {
    "scrolled": false
   },
   "outputs": [
    {
     "data": {
      "text/html": [
       "<div>\n",
       "<style scoped>\n",
       "    .dataframe tbody tr th:only-of-type {\n",
       "        vertical-align: middle;\n",
       "    }\n",
       "\n",
       "    .dataframe tbody tr th {\n",
       "        vertical-align: top;\n",
       "    }\n",
       "\n",
       "    .dataframe thead th {\n",
       "        text-align: right;\n",
       "    }\n",
       "</style>\n",
       "<table border=\"1\" class=\"dataframe\">\n",
       "  <thead>\n",
       "    <tr style=\"text-align: right;\">\n",
       "      <th></th>\n",
       "      <th>0</th>\n",
       "      <th>1</th>\n",
       "      <th>2</th>\n",
       "    </tr>\n",
       "  </thead>\n",
       "  <tbody>\n",
       "    <tr>\n",
       "      <td>yes_heart</td>\n",
       "      <td>9</td>\n",
       "      <td>49</td>\n",
       "      <td>107</td>\n",
       "    </tr>\n",
       "    <tr>\n",
       "      <td>no_heart</td>\n",
       "      <td>12</td>\n",
       "      <td>91</td>\n",
       "      <td>35</td>\n",
       "    </tr>\n",
       "  </tbody>\n",
       "</table>\n",
       "</div>"
      ],
      "text/plain": [
       "            0   1    2\n",
       "yes_heart   9  49  107\n",
       "no_heart   12  91   35"
      ]
     },
     "execution_count": 16,
     "metadata": {},
     "output_type": "execute_result"
    },
    {
     "data": {
      "image/png": "[encoded data removed]",
      "text/plain": [
       "<Figure size 864x432 with 1 Axes>"
      ]
     },
     "metadata": {
      "needs_background": "light"
     },
     "output_type": "display_data"
    }
   ],
   "source": [
    "# 최대 운동 ST 기울기\n",
    "bar_chart('slope',['0','1','2'])"
   ]
  },
  {
   "cell_type": "code",
   "execution_count": 17,
   "metadata": {},
   "outputs": [
    {
     "data": {
      "text/html": [
       "<div>\n",
       "<style scoped>\n",
       "    .dataframe tbody tr th:only-of-type {\n",
       "        vertical-align: middle;\n",
       "    }\n",
       "\n",
       "    .dataframe tbody tr th {\n",
       "        vertical-align: top;\n",
       "    }\n",
       "\n",
       "    .dataframe thead th {\n",
       "        text-align: right;\n",
       "    }\n",
       "</style>\n",
       "<table border=\"1\" class=\"dataframe\">\n",
       "  <thead>\n",
       "    <tr style=\"text-align: right;\">\n",
       "      <th></th>\n",
       "      <th>0</th>\n",
       "      <th>1</th>\n",
       "      <th>2</th>\n",
       "      <th>3</th>\n",
       "      <th>4</th>\n",
       "    </tr>\n",
       "  </thead>\n",
       "  <tbody>\n",
       "    <tr>\n",
       "      <td>yes_heart</td>\n",
       "      <td>130</td>\n",
       "      <td>21</td>\n",
       "      <td>7</td>\n",
       "      <td>3</td>\n",
       "      <td>4</td>\n",
       "    </tr>\n",
       "    <tr>\n",
       "      <td>no_heart</td>\n",
       "      <td>45</td>\n",
       "      <td>44</td>\n",
       "      <td>31</td>\n",
       "      <td>17</td>\n",
       "      <td>1</td>\n",
       "    </tr>\n",
       "  </tbody>\n",
       "</table>\n",
       "</div>"
      ],
      "text/plain": [
       "             0   1   2   3  4\n",
       "yes_heart  130  21   7   3  4\n",
       "no_heart    45  44  31  17  1"
      ]
     },
     "execution_count": 17,
     "metadata": {},
     "output_type": "execute_result"
    },
    {
     "data": {
      "image/png": "[encoded data removed]",
      "text/plain": [
       "<Figure size 864x432 with 1 Axes>"
      ]
     },
     "metadata": {
      "needs_background": "light"
     },
     "output_type": "display_data"
    }
   ],
   "source": [
    "# ca => 형광 투시된 주요 혈관의 수 (0~4)\n",
    "bar_chart('ca',['0','1','2','3','4'])"
   ]
  },
  {
   "cell_type": "code",
   "execution_count": 18,
   "metadata": {},
   "outputs": [
    {
     "name": "stdout",
     "output_type": "stream",
     "text": [
      "학습용 데이터셋 정확도 : 0.86\n",
      "검증용 데이터셋 정확도 : 0.81\n"
     ]
    }
   ],
   "source": [
    "# modeling 1\n",
    "\n",
    "# category feature들 더미변수로 만들지 않음\n",
    "# 단순히 시각화 결과로 input 변수 선정\n",
    "\n",
    "dependent_variable = df['target']\n",
    "independent_variables = df[['age','thalach','oldpeak','sex','cp','restecg','exang','thal','slope','ca']] \n",
    "\n",
    "x_train, x_test, y_train, y_test = train_test_split(independent_variables, dependent_variable, test_size=0.3, random_state=0)\n",
    "\n",
    "model_1 = LogisticRegression() #로지스틱 회귀분석 시행\n",
    "\n",
    "model_1.fit(x_train, y_train) #모델의 정확도 확인\n",
    "\n",
    "print('학습용 데이터셋 정확도 : %.2f' % model_1.score(x_train, y_train))\n",
    "print('검증용 데이터셋 정확도 : %.2f' % model_1.score(x_test, y_test))\n"
   ]
  },
  {
   "cell_type": "code",
   "execution_count": 19,
   "metadata": {},
   "outputs": [
    {
     "name": "stdout",
     "output_type": "stream",
     "text": [
      "              precision    recall  f1-score   support\n",
      "\n",
      "           0       0.85      0.75      0.80        44\n",
      "           1       0.79      0.87      0.83        47\n",
      "\n",
      "   micro avg       0.81      0.81      0.81        91\n",
      "   macro avg       0.82      0.81      0.81        91\n",
      "weighted avg       0.82      0.81      0.81        91\n",
      "\n"
     ]
    }
   ],
   "source": [
    "y_pred=model_1.predict(x_test)\n",
    "print(classification_report(y_test, y_pred))"
   ]
  },
  {
   "cell_type": "code",
   "execution_count": 20,
   "metadata": {},
   "outputs": [
    {
     "name": "stdout",
     "output_type": "stream",
     "text": [
      "Optimization terminated successfully.\n",
      "         Current function value: 0.357418\n",
      "         Iterations 7\n"
     ]
    }
   ],
   "source": [
    "# get 오즈비\n",
    "\n",
    "independent_variables_with_constant = sm.add_constant(independent_variables,prepend=True) ##\n",
    "\n",
    "result = sm.Logit(dependent_variable, independent_variables_with_constant).fit()"
   ]
  },
  {
   "cell_type": "code",
   "execution_count": 21,
   "metadata": {},
   "outputs": [
    {
     "data": {
      "text/html": [
       "<table class=\"simpletable\">\n",
       "<caption>Logit Regression Results</caption>\n",
       "<tr>\n",
       "  <th>Dep. Variable:</th>        <td>target</td>      <th>  No. Observations:  </th>  <td>   303</td>  \n",
       "</tr>\n",
       "<tr>\n",
       "  <th>Model:</th>                 <td>Logit</td>      <th>  Df Residuals:      </th>  <td>   292</td>  \n",
       "</tr>\n",
       "<tr>\n",
       "  <th>Method:</th>                 <td>MLE</td>       <th>  Df Model:          </th>  <td>    10</td>  \n",
       "</tr>\n",
       "<tr>\n",
       "  <th>Date:</th>            <td>Wed, 18 Dec 2019</td> <th>  Pseudo R-squ.:     </th>  <td>0.4814</td>  \n",
       "</tr>\n",
       "<tr>\n",
       "  <th>Time:</th>                <td>16:01:32</td>     <th>  Log-Likelihood:    </th> <td> -108.30</td> \n",
       "</tr>\n",
       "<tr>\n",
       "  <th>converged:</th>             <td>True</td>       <th>  LL-Null:           </th> <td> -208.82</td> \n",
       "</tr>\n",
       "<tr>\n",
       "  <th>Covariance Type:</th>     <td>nonrobust</td>    <th>  LLR p-value:       </th> <td>9.781e-38</td>\n",
       "</tr>\n",
       "</table>\n",
       "<table class=\"simpletable\">\n",
       "<tr>\n",
       "     <td></td>        <th>coef</th>     <th>std err</th>      <th>z</th>      <th>P>|z|</th>  <th>[0.025</th>    <th>0.975]</th>  \n",
       "</tr>\n",
       "<tr>\n",
       "  <th>const</th>   <td>    1.3438</td> <td>    2.338</td> <td>    0.575</td> <td> 0.565</td> <td>   -3.239</td> <td>    5.926</td>\n",
       "</tr>\n",
       "<tr>\n",
       "  <th>age</th>     <td>   -0.0192</td> <td>    0.022</td> <td>   -0.881</td> <td> 0.378</td> <td>   -0.062</td> <td>    0.024</td>\n",
       "</tr>\n",
       "<tr>\n",
       "  <th>thalach</th> <td>    0.0177</td> <td>    0.010</td> <td>    1.808</td> <td> 0.071</td> <td>   -0.001</td> <td>    0.037</td>\n",
       "</tr>\n",
       "<tr>\n",
       "  <th>oldpeak</th> <td>   -0.5965</td> <td>    0.209</td> <td>   -2.852</td> <td> 0.004</td> <td>   -1.006</td> <td>   -0.187</td>\n",
       "</tr>\n",
       "<tr>\n",
       "  <th>sex</th>     <td>   -1.5136</td> <td>    0.425</td> <td>   -3.562</td> <td> 0.000</td> <td>   -2.346</td> <td>   -0.681</td>\n",
       "</tr>\n",
       "<tr>\n",
       "  <th>cp</th>      <td>    0.8333</td> <td>    0.179</td> <td>    4.643</td> <td> 0.000</td> <td>    0.482</td> <td>    1.185</td>\n",
       "</tr>\n",
       "<tr>\n",
       "  <th>restecg</th> <td>    0.5415</td> <td>    0.335</td> <td>    1.616</td> <td> 0.106</td> <td>   -0.115</td> <td>    1.198</td>\n",
       "</tr>\n",
       "<tr>\n",
       "  <th>exang</th>   <td>   -1.0424</td> <td>    0.396</td> <td>   -2.630</td> <td> 0.009</td> <td>   -1.819</td> <td>   -0.266</td>\n",
       "</tr>\n",
       "<tr>\n",
       "  <th>thal</th>    <td>   -0.9187</td> <td>    0.278</td> <td>   -3.301</td> <td> 0.001</td> <td>   -1.464</td> <td>   -0.373</td>\n",
       "</tr>\n",
       "<tr>\n",
       "  <th>slope</th>   <td>    0.5384</td> <td>    0.344</td> <td>    1.565</td> <td> 0.118</td> <td>   -0.136</td> <td>    1.213</td>\n",
       "</tr>\n",
       "<tr>\n",
       "  <th>ca</th>      <td>   -0.7436</td> <td>    0.186</td> <td>   -3.991</td> <td> 0.000</td> <td>   -1.109</td> <td>   -0.378</td>\n",
       "</tr>\n",
       "</table>"
      ],
      "text/plain": [
       "<class 'statsmodels.iolib.summary.Summary'>\n",
       "\"\"\"\n",
       "                           Logit Regression Results                           \n",
       "==============================================================================\n",
       "Dep. Variable:                 target   No. Observations:                  303\n",
       "Model:                          Logit   Df Residuals:                      292\n",
       "Method:                           MLE   Df Model:                           10\n",
       "Date:                Wed, 18 Dec 2019   Pseudo R-squ.:                  0.4814\n",
       "Time:                        16:01:32   Log-Likelihood:                -108.30\n",
       "converged:                       True   LL-Null:                       -208.82\n",
       "Covariance Type:            nonrobust   LLR p-value:                 9.781e-38\n",
       "==============================================================================\n",
       "                 coef    std err          z      P>|z|      [0.025      0.975]\n",
       "------------------------------------------------------------------------------\n",
       "const          1.3438      2.338      0.575      0.565      -3.239       5.926\n",
       "age           -0.0192      0.022     -0.881      0.378      -0.062       0.024\n",
       "thalach        0.0177      0.010      1.808      0.071      -0.001       0.037\n",
       "oldpeak       -0.5965      0.209     -2.852      0.004      -1.006      -0.187\n",
       "sex           -1.5136      0.425     -3.562      0.000      -2.346      -0.681\n",
       "cp             0.8333      0.179      4.643      0.000       0.482       1.185\n",
       "restecg        0.5415      0.335      1.616      0.106      -0.115       1.198\n",
       "exang         -1.0424      0.396     -2.630      0.009      -1.819      -0.266\n",
       "thal          -0.9187      0.278     -3.301      0.001      -1.464      -0.373\n",
       "slope          0.5384      0.344      1.565      0.118      -0.136       1.213\n",
       "ca            -0.7436      0.186     -3.991      0.000      -1.109      -0.378\n",
       "==============================================================================\n",
       "\"\"\""
      ]
     },
     "execution_count": 21,
     "metadata": {},
     "output_type": "execute_result"
    }
   ],
   "source": [
    "result.summary()"
   ]
  },
  {
   "cell_type": "code",
   "execution_count": 22,
   "metadata": {},
   "outputs": [
    {
     "data": {
      "text/plain": [
       "const      3.833432\n",
       "age        0.980950\n",
       "thalach    1.017838\n",
       "oldpeak    0.550709\n",
       "sex        0.220111\n",
       "cp         2.301007\n",
       "restecg    1.718652\n",
       "exang      0.352602\n",
       "thal       0.399026\n",
       "slope      1.713332\n",
       "ca         0.475400\n",
       "dtype: float64"
      ]
     },
     "execution_count": 22,
     "metadata": {},
     "output_type": "execute_result"
    }
   ],
   "source": [
    "np.exp(result.params)"
   ]
  },
  {
   "cell_type": "code",
   "execution_count": null,
   "metadata": {},
   "outputs": [],
   "source": []
  },
  {
   "cell_type": "code",
   "execution_count": null,
   "metadata": {},
   "outputs": [],
   "source": []
  },
  {
   "cell_type": "code",
   "execution_count": null,
   "metadata": {},
   "outputs": [],
   "source": []
  },
  {
   "cell_type": "code",
   "execution_count": 23,
   "metadata": {},
   "outputs": [],
   "source": [
    "## modeling 2"
   ]
  },
  {
   "cell_type": "code",
   "execution_count": 24,
   "metadata": {},
   "outputs": [],
   "source": [
    "df[category] = df[category].astype('category')\n",
    "df['target'] =df['target'].astype('category')"
   ]
  },
  {
   "cell_type": "code",
   "execution_count": 25,
   "metadata": {},
   "outputs": [],
   "source": [
    "tmp_col = ['sex','cp','restecg','exang','thal','slope','ca']"
   ]
  },
  {
   "cell_type": "code",
   "execution_count": 26,
   "metadata": {},
   "outputs": [],
   "source": [
    "# category -> dummy\n",
    "\n",
    "def get_dummies(feature):\n",
    "    \n",
    "    global df\n",
    "    \n",
    "    t_list = []\n",
    "    for i in feature:\n",
    "        t = pd.get_dummies(df[i],prefix=i,drop_first=True)\n",
    "        t_list.append(t)\n",
    "        \n",
    "    result_df = df[numeric].join(t_list)\n",
    "    result_df['target'] = df['target']\n",
    "    \n",
    "    return result_df"
   ]
  },
  {
   "cell_type": "code",
   "execution_count": 27,
   "metadata": {},
   "outputs": [],
   "source": [
    "result_df = get_dummies(tmp_col)"
   ]
  },
  {
   "cell_type": "code",
   "execution_count": 31,
   "metadata": {},
   "outputs": [
    {
     "data": {
      "text/plain": [
       "Index(['age', 'trestbps', 'chol', 'thalach', 'oldpeak', 'sex_1', 'cp_1',\n",
       "       'cp_2', 'cp_3', 'restecg_1', 'restecg_2', 'exang_1', 'thal_1', 'thal_2',\n",
       "       'thal_3', 'slope_1', 'slope_2', 'ca_1', 'ca_2', 'ca_3', 'ca_4'],\n",
       "      dtype='object')"
      ]
     },
     "execution_count": 31,
     "metadata": {},
     "output_type": "execute_result"
    }
   ],
   "source": [
    "result_df.iloc[:,:-1].columns"
   ]
  },
  {
   "cell_type": "code",
   "execution_count": 32,
   "metadata": {},
   "outputs": [
    {
     "name": "stdout",
     "output_type": "stream",
     "text": [
      "학습용 데이터셋 정확도 : 0.89\n",
      "검증용 데이터셋 정확도 : 0.84\n"
     ]
    }
   ],
   "source": [
    "# modeling 2\n",
    "\n",
    "# category feature들 더미변수로 만듬\n",
    "# model_1과 같은 input 변수들\n",
    "\n",
    "dependent_variable = result_df['target']\n",
    "independent_variables = result_df[['age', 'trestbps', 'chol', 'thalach', 'oldpeak', 'sex_1', 'cp_1',\n",
    "       'cp_2', 'cp_3', 'restecg_1', 'restecg_2', 'exang_1', 'thal_1', 'thal_2',\n",
    "       'thal_3', 'slope_1', 'slope_2', 'ca_1', 'ca_2', 'ca_3', 'ca_4']]\n",
    "x_train, x_test, y_train, y_test = train_test_split(independent_variables, dependent_variable, test_size=0.3, random_state=0)\n",
    "\n",
    "model_2 = LogisticRegression() #로지스틱 회귀분석 시행\n",
    "\n",
    "model_2.fit(x_train, y_train) #모델의 정확도 확인\n",
    "\n",
    "print('학습용 데이터셋 정확도 : %.2f' % model_2.score(x_train, y_train))\n",
    "print('검증용 데이터셋 정확도 : %.2f' % model_2.score(x_test, y_test))\n"
   ]
  },
  {
   "cell_type": "code",
   "execution_count": 33,
   "metadata": {},
   "outputs": [
    {
     "name": "stdout",
     "output_type": "stream",
     "text": [
      "              precision    recall  f1-score   support\n",
      "\n",
      "           0       0.85      0.80      0.82        44\n",
      "           1       0.82      0.87      0.85        47\n",
      "\n",
      "   micro avg       0.84      0.84      0.84        91\n",
      "   macro avg       0.84      0.83      0.83        91\n",
      "weighted avg       0.84      0.84      0.83        91\n",
      "\n"
     ]
    }
   ],
   "source": [
    "y_pred=model_2.predict(x_test)\n",
    "print(classification_report(y_test, y_pred))"
   ]
  },
  {
   "cell_type": "code",
   "execution_count": 34,
   "metadata": {},
   "outputs": [
    {
     "name": "stdout",
     "output_type": "stream",
     "text": [
      "Optimization terminated successfully.    (Exit mode 0)\n",
      "            Current function value: 0.297382093506233\n",
      "            Iterations: 151\n",
      "            Function evaluations: 163\n",
      "            Gradient evaluations: 151\n"
     ]
    }
   ],
   "source": [
    "# get 오즈비\n",
    "\n",
    "independent_variables_with_constant = sm.add_constant(independent_variables,prepend=True) ##\n",
    "\n",
    "result = sm.Logit(dependent_variable, independent_variables_with_constant).fit_regularized()"
   ]
  },
  {
   "cell_type": "code",
   "execution_count": 35,
   "metadata": {
    "scrolled": false
   },
   "outputs": [
    {
     "data": {
      "text/html": [
       "<table class=\"simpletable\">\n",
       "<tr>\n",
       "        <td>Model:</td>              <td>Logit</td>      <td>Pseudo R-squared:</td>    <td>0.568</td>  \n",
       "</tr>\n",
       "<tr>\n",
       "  <td>Dependent Variable:</td>      <td>target</td>            <td>AIC:</td>         <td>224.2135</td> \n",
       "</tr>\n",
       "<tr>\n",
       "         <td>Date:</td>        <td>2019-12-18 16:03</td>       <td>BIC:</td>         <td>305.9157</td> \n",
       "</tr>\n",
       "<tr>\n",
       "   <td>No. Observations:</td>         <td>303</td>        <td>Log-Likelihood:</td>    <td>-90.107</td> \n",
       "</tr>\n",
       "<tr>\n",
       "       <td>Df Model:</td>             <td>21</td>            <td>LL-Null:</td>        <td>-208.82</td> \n",
       "</tr>\n",
       "<tr>\n",
       "     <td>Df Residuals:</td>           <td>281</td>         <td>LLR p-value:</td>    <td>1.3589e-38</td>\n",
       "</tr>\n",
       "<tr>\n",
       "      <td>Converged:</td>           <td>1.0000</td>           <td>Scale:</td>         <td>1.0000</td>  \n",
       "</tr>\n",
       "<tr>\n",
       "    <td>No. Iterations:</td>       <td>151.0000</td>             <td></td>               <td></td>     \n",
       "</tr>\n",
       "</table>\n",
       "<table class=\"simpletable\">\n",
       "<tr>\n",
       "      <td></td>       <th>Coef.</th>  <th>Std.Err.</th>    <th>z</th>     <th>P>|z|</th> <th>[0.025</th>  <th>0.975]</th> \n",
       "</tr>\n",
       "<tr>\n",
       "  <th>const</th>     <td>0.1550</td>   <td>3.8791</td>  <td>0.0400</td>  <td>0.9681</td> <td>-7.4479</td> <td>7.7578</td> \n",
       "</tr>\n",
       "<tr>\n",
       "  <th>age</th>       <td>0.0275</td>   <td>0.0254</td>  <td>1.0815</td>  <td>0.2795</td> <td>-0.0223</td> <td>0.0773</td> \n",
       "</tr>\n",
       "<tr>\n",
       "  <th>trestbps</th>  <td>-0.0248</td>  <td>0.0117</td>  <td>-2.1124</td> <td>0.0346</td> <td>-0.0478</td> <td>-0.0018</td>\n",
       "</tr>\n",
       "<tr>\n",
       "  <th>chol</th>      <td>-0.0041</td>  <td>0.0042</td>  <td>-0.9634</td> <td>0.3353</td> <td>-0.0124</td> <td>0.0042</td> \n",
       "</tr>\n",
       "<tr>\n",
       "  <th>thalach</th>   <td>0.0203</td>   <td>0.0119</td>  <td>1.7124</td>  <td>0.0868</td> <td>-0.0029</td> <td>0.0435</td> \n",
       "</tr>\n",
       "<tr>\n",
       "  <th>oldpeak</th>   <td>-0.4152</td>  <td>0.2415</td>  <td>-1.7195</td> <td>0.0855</td> <td>-0.8884</td> <td>0.0581</td> \n",
       "</tr>\n",
       "<tr>\n",
       "  <th>sex_1</th>     <td>-1.8340</td>  <td>0.5699</td>  <td>-3.2183</td> <td>0.0013</td> <td>-2.9509</td> <td>-0.7171</td>\n",
       "</tr>\n",
       "<tr>\n",
       "  <th>cp_1</th>      <td>0.8758</td>   <td>0.5735</td>  <td>1.5270</td>  <td>0.1268</td> <td>-0.2483</td> <td>1.9999</td> \n",
       "</tr>\n",
       "<tr>\n",
       "  <th>cp_2</th>      <td>2.0735</td>   <td>0.5235</td>  <td>3.9609</td>  <td>0.0001</td> <td>1.0475</td>  <td>3.0996</td> \n",
       "</tr>\n",
       "<tr>\n",
       "  <th>cp_3</th>      <td>2.4700</td>   <td>0.7174</td>  <td>3.4429</td>  <td>0.0006</td> <td>1.0639</td>  <td>3.8762</td> \n",
       "</tr>\n",
       "<tr>\n",
       "  <th>restecg_1</th> <td>0.4617</td>   <td>0.3997</td>  <td>1.1552</td>  <td>0.2480</td> <td>-0.3216</td> <td>1.2450</td> \n",
       "</tr>\n",
       "<tr>\n",
       "  <th>restecg_2</th> <td>-0.7836</td>  <td>2.7458</td>  <td>-0.2854</td> <td>0.7753</td> <td>-6.1652</td> <td>4.5980</td> \n",
       "</tr>\n",
       "<tr>\n",
       "  <th>exang_1</th>   <td>-0.7506</td>  <td>0.4503</td>  <td>-1.6670</td> <td>0.0955</td> <td>-1.6332</td> <td>0.1319</td> \n",
       "</tr>\n",
       "<tr>\n",
       "  <th>thal_1</th>    <td>2.4972</td>   <td>2.9114</td>  <td>0.8577</td>  <td>0.3910</td> <td>-3.2090</td> <td>8.2034</td> \n",
       "</tr>\n",
       "<tr>\n",
       "  <th>thal_2</th>    <td>2.1725</td>   <td>2.8238</td>  <td>0.7693</td>  <td>0.4417</td> <td>-3.3621</td> <td>7.7071</td> \n",
       "</tr>\n",
       "<tr>\n",
       "  <th>thal_3</th>    <td>0.7112</td>   <td>2.8274</td>  <td>0.2515</td>  <td>0.8014</td> <td>-4.8303</td> <td>6.2527</td> \n",
       "</tr>\n",
       "<tr>\n",
       "  <th>slope_1</th>   <td>-0.8013</td>  <td>0.8771</td>  <td>-0.9136</td> <td>0.3609</td> <td>-2.5203</td> <td>0.9177</td> \n",
       "</tr>\n",
       "<tr>\n",
       "  <th>slope_2</th>   <td>0.6322</td>   <td>0.9430</td>  <td>0.6704</td>  <td>0.5026</td> <td>-1.2160</td> <td>2.4805</td> \n",
       "</tr>\n",
       "<tr>\n",
       "  <th>ca_1</th>      <td>-2.2850</td>  <td>0.5169</td>  <td>-4.4204</td> <td>0.0000</td> <td>-3.2981</td> <td>-1.2718</td>\n",
       "</tr>\n",
       "<tr>\n",
       "  <th>ca_2</th>      <td>-3.4038</td>  <td>0.7969</td>  <td>-4.2714</td> <td>0.0000</td> <td>-4.9657</td> <td>-1.8420</td>\n",
       "</tr>\n",
       "<tr>\n",
       "  <th>ca_3</th>      <td>-2.1233</td>  <td>0.9116</td>  <td>-2.3293</td> <td>0.0198</td> <td>-3.9100</td> <td>-0.3367</td>\n",
       "</tr>\n",
       "<tr>\n",
       "  <th>ca_4</th>      <td>1.4512</td>   <td>1.7973</td>  <td>0.8074</td>  <td>0.4194</td> <td>-2.0714</td> <td>4.9737</td> \n",
       "</tr>\n",
       "</table>"
      ],
      "text/plain": [
       "<class 'statsmodels.iolib.summary2.Summary'>\n",
       "\"\"\"\n",
       "                         Results: Logit\n",
       "=================================================================\n",
       "Model:              Logit            Pseudo R-squared: 0.568     \n",
       "Dependent Variable: target           AIC:              224.2135  \n",
       "Date:               2019-12-18 16:03 BIC:              305.9157  \n",
       "No. Observations:   303              Log-Likelihood:   -90.107   \n",
       "Df Model:           21               LL-Null:          -208.82   \n",
       "Df Residuals:       281              LLR p-value:      1.3589e-38\n",
       "Converged:          1.0000           Scale:            1.0000    \n",
       "No. Iterations:     151.0000                                     \n",
       "------------------------------------------------------------------\n",
       "               Coef.   Std.Err.     z     P>|z|    [0.025   0.975]\n",
       "------------------------------------------------------------------\n",
       "const          0.1550    3.8791   0.0400  0.9681  -7.4479   7.7578\n",
       "age            0.0275    0.0254   1.0815  0.2795  -0.0223   0.0773\n",
       "trestbps      -0.0248    0.0117  -2.1124  0.0346  -0.0478  -0.0018\n",
       "chol          -0.0041    0.0042  -0.9634  0.3353  -0.0124   0.0042\n",
       "thalach        0.0203    0.0119   1.7124  0.0868  -0.0029   0.0435\n",
       "oldpeak       -0.4152    0.2415  -1.7195  0.0855  -0.8884   0.0581\n",
       "sex_1         -1.8340    0.5699  -3.2183  0.0013  -2.9509  -0.7171\n",
       "cp_1           0.8758    0.5735   1.5270  0.1268  -0.2483   1.9999\n",
       "cp_2           2.0735    0.5235   3.9609  0.0001   1.0475   3.0996\n",
       "cp_3           2.4700    0.7174   3.4429  0.0006   1.0639   3.8762\n",
       "restecg_1      0.4617    0.3997   1.1552  0.2480  -0.3216   1.2450\n",
       "restecg_2     -0.7836    2.7458  -0.2854  0.7753  -6.1652   4.5980\n",
       "exang_1       -0.7506    0.4503  -1.6670  0.0955  -1.6332   0.1319\n",
       "thal_1         2.4972    2.9114   0.8577  0.3910  -3.2090   8.2034\n",
       "thal_2         2.1725    2.8238   0.7693  0.4417  -3.3621   7.7071\n",
       "thal_3         0.7112    2.8274   0.2515  0.8014  -4.8303   6.2527\n",
       "slope_1       -0.8013    0.8771  -0.9136  0.3609  -2.5203   0.9177\n",
       "slope_2        0.6322    0.9430   0.6704  0.5026  -1.2160   2.4805\n",
       "ca_1          -2.2850    0.5169  -4.4204  0.0000  -3.2981  -1.2718\n",
       "ca_2          -3.4038    0.7969  -4.2714  0.0000  -4.9657  -1.8420\n",
       "ca_3          -2.1233    0.9116  -2.3293  0.0198  -3.9100  -0.3367\n",
       "ca_4           1.4512    1.7973   0.8074  0.4194  -2.0714   4.9737\n",
       "=================================================================\n",
       "\n",
       "\"\"\""
      ]
     },
     "execution_count": 35,
     "metadata": {},
     "output_type": "execute_result"
    }
   ],
   "source": [
    "result.summary2()"
   ]
  },
  {
   "cell_type": "code",
   "execution_count": 37,
   "metadata": {},
   "outputs": [
    {
     "data": {
      "text/plain": [
       "const         1.167624\n",
       "age           1.027885\n",
       "trestbps      0.975501\n",
       "chol          0.995937\n",
       "thalach       1.020506\n",
       "oldpeak       0.660210\n",
       "sex_1         0.159771\n",
       "cp_1          2.400818\n",
       "cp_2          7.952814\n",
       "cp_3         11.822914\n",
       "restecg_1     1.586720\n",
       "restecg_2     0.456753\n",
       "exang_1       0.472067\n",
       "thal_1       12.148672\n",
       "thal_2        8.780185\n",
       "thal_3        2.036452\n",
       "slope_1       0.448755\n",
       "slope_2       1.881767\n",
       "ca_1          0.101778\n",
       "ca_2          0.033245\n",
       "ca_3          0.119632\n",
       "ca_4          4.268042\n",
       "dtype: float64"
      ]
     },
     "execution_count": 37,
     "metadata": {},
     "output_type": "execute_result"
    }
   ],
   "source": [
    "np.exp(result.params)"
   ]
  }
 ],
 "metadata": {
  "kernelspec": {
   "display_name": "Python 3",
   "language": "python",
   "name": "python3"
  },
  "language_info": {
   "codemirror_mode": {
    "name": "ipython",
    "version": 3
   },
   "file_extension": ".py",
   "mimetype": "text/x-python",
   "name": "python",
   "nbconvert_exporter": "python",
   "pygments_lexer": "ipython3",
   "version": "3.7.4"
  }
 },
 "nbformat": 4,
 "nbformat_minor": 2
}
