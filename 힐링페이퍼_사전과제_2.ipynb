{
 "cells": [
  {
   "cell_type": "markdown",
   "metadata": {},
   "source": [
    "## Logistic Regression 기반 질병 유무 예측 모델링 "
   ]
  },
  {
   "cell_type": "markdown",
   "metadata": {},
   "source": [
    "*"
   ]
  },
  {
   "cell_type": "code",
   "execution_count": 94,
   "metadata": {},
   "outputs": [],
   "source": [
    "# General Library\n",
    "import pandas as pd\n",
    "import numpy as np\n",
    "\n",
    "# visualization\n",
    "import matplotlib.pyplot as plt\n",
    "import seaborn as sns\n",
    "\n",
    "# ml\n",
    "import statsmodels.api as sm\n",
    "import statsmodels.formula.api as smf\n",
    "from sklearn.model_selection import train_test_split\n",
    "from sklearn.linear_model import LogisticRegression\n",
    "from sklearn.feature_selection import RFE\n",
    "from sklearn.feature_selection import RFECV\n",
    "from sklearn.model_selection import train_test_split, cross_val_score\n",
    "from sklearn.metrics import accuracy_score, classification_report, precision_score, recall_score \n",
    "from sklearn.metrics import confusion_matrix, precision_recall_curve, roc_curve, auc, log_loss\n",
    "from sklearn.preprocessing import MinMaxScaler\n",
    "\n",
    "\n",
    "# 한글 오류 해결\n",
    "from matplotlib import font_manager, rc\n",
    "import matplotlib\n",
    "\n",
    "#한글 폰트 등록\n",
    "font_location = \"c:/Windows/fonts/malgun.ttf\"\n",
    "font_name = font_manager.FontProperties(fname=font_location).get_name()\n",
    "matplotlib.rc('font', family=font_name)\n",
    "\n",
    "# ignore warnings\n",
    "import warnings\n",
    "warnings.filterwarnings('ignore')\n"
   ]
  },
  {
   "cell_type": "code",
   "execution_count": 157,
   "metadata": {},
   "outputs": [
    {
     "data": {
      "text/html": [
       "<div>\n",
       "<style scoped>\n",
       "    .dataframe tbody tr th:only-of-type {\n",
       "        vertical-align: middle;\n",
       "    }\n",
       "\n",
       "    .dataframe tbody tr th {\n",
       "        vertical-align: top;\n",
       "    }\n",
       "\n",
       "    .dataframe thead th {\n",
       "        text-align: right;\n",
       "    }\n",
       "</style>\n",
       "<table border=\"1\" class=\"dataframe\">\n",
       "  <thead>\n",
       "    <tr style=\"text-align: right;\">\n",
       "      <th></th>\n",
       "      <th>age</th>\n",
       "      <th>sex</th>\n",
       "      <th>cp</th>\n",
       "      <th>trestbps</th>\n",
       "      <th>chol</th>\n",
       "      <th>fbs</th>\n",
       "      <th>restecg</th>\n",
       "      <th>thalach</th>\n",
       "      <th>exang</th>\n",
       "      <th>oldpeak</th>\n",
       "      <th>slope</th>\n",
       "      <th>ca</th>\n",
       "      <th>thal</th>\n",
       "      <th>target</th>\n",
       "    </tr>\n",
       "  </thead>\n",
       "  <tbody>\n",
       "    <tr>\n",
       "      <td>0</td>\n",
       "      <td>63</td>\n",
       "      <td>1</td>\n",
       "      <td>3</td>\n",
       "      <td>145</td>\n",
       "      <td>233</td>\n",
       "      <td>1</td>\n",
       "      <td>0</td>\n",
       "      <td>150</td>\n",
       "      <td>0</td>\n",
       "      <td>2.3</td>\n",
       "      <td>0</td>\n",
       "      <td>0</td>\n",
       "      <td>1</td>\n",
       "      <td>1</td>\n",
       "    </tr>\n",
       "    <tr>\n",
       "      <td>1</td>\n",
       "      <td>37</td>\n",
       "      <td>1</td>\n",
       "      <td>2</td>\n",
       "      <td>130</td>\n",
       "      <td>250</td>\n",
       "      <td>0</td>\n",
       "      <td>1</td>\n",
       "      <td>187</td>\n",
       "      <td>0</td>\n",
       "      <td>3.5</td>\n",
       "      <td>0</td>\n",
       "      <td>0</td>\n",
       "      <td>2</td>\n",
       "      <td>1</td>\n",
       "    </tr>\n",
       "    <tr>\n",
       "      <td>2</td>\n",
       "      <td>41</td>\n",
       "      <td>0</td>\n",
       "      <td>1</td>\n",
       "      <td>130</td>\n",
       "      <td>204</td>\n",
       "      <td>0</td>\n",
       "      <td>0</td>\n",
       "      <td>172</td>\n",
       "      <td>0</td>\n",
       "      <td>1.4</td>\n",
       "      <td>2</td>\n",
       "      <td>0</td>\n",
       "      <td>2</td>\n",
       "      <td>1</td>\n",
       "    </tr>\n",
       "    <tr>\n",
       "      <td>3</td>\n",
       "      <td>56</td>\n",
       "      <td>1</td>\n",
       "      <td>1</td>\n",
       "      <td>120</td>\n",
       "      <td>236</td>\n",
       "      <td>0</td>\n",
       "      <td>1</td>\n",
       "      <td>178</td>\n",
       "      <td>0</td>\n",
       "      <td>0.8</td>\n",
       "      <td>2</td>\n",
       "      <td>0</td>\n",
       "      <td>2</td>\n",
       "      <td>1</td>\n",
       "    </tr>\n",
       "    <tr>\n",
       "      <td>4</td>\n",
       "      <td>57</td>\n",
       "      <td>0</td>\n",
       "      <td>0</td>\n",
       "      <td>120</td>\n",
       "      <td>354</td>\n",
       "      <td>0</td>\n",
       "      <td>1</td>\n",
       "      <td>163</td>\n",
       "      <td>1</td>\n",
       "      <td>0.6</td>\n",
       "      <td>2</td>\n",
       "      <td>0</td>\n",
       "      <td>2</td>\n",
       "      <td>1</td>\n",
       "    </tr>\n",
       "  </tbody>\n",
       "</table>\n",
       "</div>"
      ],
      "text/plain": [
       "   age  sex  cp  trestbps  chol  fbs  restecg  thalach  exang  oldpeak  slope  \\\n",
       "0   63    1   3       145   233    1        0      150      0      2.3      0   \n",
       "1   37    1   2       130   250    0        1      187      0      3.5      0   \n",
       "2   41    0   1       130   204    0        0      172      0      1.4      2   \n",
       "3   56    1   1       120   236    0        1      178      0      0.8      2   \n",
       "4   57    0   0       120   354    0        1      163      1      0.6      2   \n",
       "\n",
       "   ca  thal  target  \n",
       "0   0     1       1  \n",
       "1   0     2       1  \n",
       "2   0     2       1  \n",
       "3   0     2       1  \n",
       "4   0     2       1  "
      ]
     },
     "execution_count": 157,
     "metadata": {},
     "output_type": "execute_result"
    }
   ],
   "source": [
    "# Data import\n",
    "df = pd.read_csv('heart.csv')\n",
    "\n",
    "# check df\n",
    "df.head()"
   ]
  },
  {
   "cell_type": "code",
   "execution_count": 12,
   "metadata": {},
   "outputs": [
    {
     "name": "stdout",
     "output_type": "stream",
     "text": [
      "전체 column의 개수 :14\n",
      "전체 row의 개수 :303\n"
     ]
    }
   ],
   "source": [
    "# check data size\n",
    "print(\"전체 column의 개수 :%d\" %df.shape[1])\n",
    "print(\"전체 row의 개수 :%d\" %df.shape[0])"
   ]
  },
  {
   "cell_type": "code",
   "execution_count": 14,
   "metadata": {},
   "outputs": [
    {
     "data": {
      "text/plain": [
       "age         0\n",
       "sex         0\n",
       "cp          0\n",
       "trestbps    0\n",
       "chol        0\n",
       "fbs         0\n",
       "restecg     0\n",
       "thalach     0\n",
       "exang       0\n",
       "oldpeak     0\n",
       "slope       0\n",
       "ca          0\n",
       "thal        0\n",
       "target      0\n",
       "dtype: int64"
      ]
     },
     "execution_count": 14,
     "metadata": {},
     "output_type": "execute_result"
    }
   ],
   "source": [
    "# check missing value\n",
    "df.isnull().sum()"
   ]
  },
  {
   "cell_type": "markdown",
   "metadata": {},
   "source": [
    "![컬럼명세](https://user-images.githubusercontent.com/35517797/70862044-38f0d580-1f7a-11ea-9234-54bd8644794c.PNG)"
   ]
  },
  {
   "cell_type": "code",
   "execution_count": 100,
   "metadata": {},
   "outputs": [],
   "source": [
    "# numeric & category\n",
    "\n",
    "numeric = ['age','trestbps','chol','thalach','oldpeak','ca']\n",
    "category = ['sex','cp','fbs','restecg','exang','thal','slope']"
   ]
  },
  {
   "cell_type": "markdown",
   "metadata": {},
   "source": [
    "<br>\n",
    "\n",
    "### Exploratory Data Analysis\n",
    "\n",
    "<br>"
   ]
  },
  {
   "cell_type": "code",
   "execution_count": null,
   "metadata": {},
   "outputs": [],
   "source": [
    "# 가설\n",
    "# 위험요인 예방요인"
   ]
  },
  {
   "cell_type": "code",
   "execution_count": 35,
   "metadata": {},
   "outputs": [],
   "source": [
    "# visualization module\n",
    "\n",
    "# numeric  //  distribution\n",
    "def vis_distribution(feature,title):\n",
    "    \n",
    "    plt.figure(figsize=(8,6))\n",
    "\n",
    "    sns.distplot(df[df.target == 1]['age'],label='1')\n",
    "    sns.distplot(df[df.target == 0]['age'],label='0')\n",
    "\n",
    "    plt.legend()\n",
    "    plt.title('심장병 유무별 나이대 분포')\n",
    "    \n",
    "    return plt\n",
    "\n",
    "\n",
    "# category  //  barchart\n",
    "def vis_barchart(feature,legend):\n",
    "    yes_heart = df[df.target == 1][feature].value_counts()\n",
    "    no_heart = df[df.target == 0][feature].value_counts()  \n",
    "    plt_df = pd.DataFrame([yes_heart,no_heart])\n",
    "    plt_df.index = ['yes_heart','no_heart']\n",
    "    \n",
    "    plt_df.plot(kind='bar',stacked=True,figsize=(12,6)).legend(legend,title=(feature))\n",
    "    \n",
    "    return plt_df"
   ]
  },
  {
   "cell_type": "code",
   "execution_count": null,
   "metadata": {},
   "outputs": [],
   "source": []
  },
  {
   "cell_type": "code",
   "execution_count": null,
   "metadata": {},
   "outputs": [],
   "source": []
  },
  {
   "cell_type": "markdown",
   "metadata": {},
   "source": [
    "<br>\n",
    "\n",
    "### Feature Engineering\n",
    "\n",
    "<br>"
   ]
  },
  {
   "cell_type": "code",
   "execution_count": 158,
   "metadata": {},
   "outputs": [],
   "source": [
    "# category => dummies\n",
    "\n",
    "def get_dummies(feature):\n",
    "    \n",
    "    global df\n",
    "    \n",
    "    t_list = []\n",
    "    for i in feature:\n",
    "        t = pd.get_dummies(df[i],prefix=i)\n",
    "        t_list.append(t)\n",
    "        \n",
    "    result_df = df[numeric].join(t_list)\n",
    "    result_df['target'] = df['target']\n",
    "    result_df.drop('sex_0',axis=1,inplace=True)\n",
    "    result_df.drop('fbs_0',axis=1,inplace=True)\n",
    "    result_df.drop('exang_0',axis=1,inplace=True)\n",
    "    result_df.drop('slope_0',axis=1,inplace=True)\n",
    "    \n",
    "    return result_df"
   ]
  },
  {
   "cell_type": "code",
   "execution_count": 159,
   "metadata": {},
   "outputs": [],
   "source": [
    "# get_dummies\n",
    "\n",
    "dummy_list = category\n",
    "\n",
    "result_df = get_dummies(dummy_list)"
   ]
  },
  {
   "cell_type": "code",
   "execution_count": 160,
   "metadata": {},
   "outputs": [],
   "source": [
    "## ca feature \n",
    "\n",
    "result_df['ca'] = np.where(result_df['ca']==0,0,1)"
   ]
  },
  {
   "cell_type": "code",
   "execution_count": 161,
   "metadata": {
    "scrolled": true
   },
   "outputs": [],
   "source": [
    "sc_age = MinMaxScaler()\n",
    "sc_trestbps = MinMaxScaler()\n",
    "sc_chol = MinMaxScaler()\n",
    "sc_thalach = MinMaxScaler()\n",
    "sc_oldpeak = MinMaxScaler()\n",
    "\n",
    "scaled_age = sc_age.fit_transform(result_df[['age']])\n",
    "scaled_trestbps = sc_trestbps.fit_transform(result_df[['trestbps']])\n",
    "scaled_chol = sc_chol.fit_transform(result_df[['chol']])\n",
    "scaled_thalach = sc_thalach.fit_transform(result_df[['thalach']])\n",
    "scaled_oldpeak = sc_oldpeak.fit_transform(result_df[['oldpeak']])\n",
    "\n",
    "total = np.concatenate((scaled_age, scaled_trestbps), axis=1)\n",
    "total = np.concatenate((total, scaled_chol), axis=1)\n",
    "total = np.concatenate((total, scaled_thalach), axis=1)\n",
    "total = np.concatenate((total, scaled_oldpeak), axis=1)\n",
    "\n",
    "total = pd.DataFrame(total, columns=['age','trestbps','chol','thalach','oldpeak'],index=result_df.index)\n",
    "result_df = total.join(result_df.iloc[:,5:])"
   ]
  },
  {
   "cell_type": "code",
   "execution_count": 162,
   "metadata": {},
   "outputs": [
    {
     "data": {
      "text/plain": [
       "Index(['age', 'trestbps', 'chol', 'thalach', 'oldpeak', 'ca', 'sex_1', 'cp_0',\n",
       "       'cp_1', 'cp_2', 'cp_3', 'fbs_1', 'restecg_0', 'restecg_1', 'restecg_2',\n",
       "       'exang_1', 'thal_0', 'thal_1', 'thal_2', 'thal_3', 'slope_1',\n",
       "       'slope_2'],\n",
       "      dtype='object')"
      ]
     },
     "execution_count": 162,
     "metadata": {},
     "output_type": "execute_result"
    }
   ],
   "source": [
    "result_df.iloc[:,:-1].columns"
   ]
  },
  {
   "cell_type": "code",
   "execution_count": 164,
   "metadata": {},
   "outputs": [
    {
     "name": "stdout",
     "output_type": "stream",
     "text": [
      "Optimal number of features: 12\n",
      "Selected features: ['trestbps', 'thalach', 'oldpeak', 'ca', 'sex_1', 'cp_0', 'cp_2', 'cp_3', 'exang_1', 'thal_2', 'thal_3', 'slope_2']\n"
     ]
    },
    {
     "data": {
      "image/png": "[encoded data removed]",
      "text/plain": [
       "<Figure size 720x432 with 1 Axes>"
      ]
     },
     "metadata": {
      "needs_background": "light"
     },
     "output_type": "display_data"
    }
   ],
   "source": [
    "# search optimal parameter\n",
    "\n",
    "X = result_df[['age', 'trestbps', 'chol', 'thalach', 'oldpeak', 'ca', 'sex_1', 'cp_0',\n",
    "       'cp_1', 'cp_2', 'cp_3', 'fbs_1', 'restecg_0', 'restecg_1', 'restecg_2',\n",
    "       'exang_1', 'thal_0', 'thal_1', 'thal_2', 'thal_3', 'slope_1',\n",
    "       'slope_2']]\n",
    "y = result_df['target']\n",
    "\n",
    "rfecv = RFECV(estimator=LogisticRegression(), step=1, cv=10, scoring='accuracy')\n",
    "rfecv.fit(X, y)\n",
    "\n",
    "print(\"Optimal number of features: %d\" % rfecv.n_features_)\n",
    "print('Selected features: %s' % list(X.columns[rfecv.support_]))\n",
    "\n",
    "# Plot number of features VS. cross-validation scores\n",
    "plt.figure(figsize=(10,6))\n",
    "plt.xlabel(\"Number of features selected\")\n",
    "plt.ylabel(\"Cross validation score (nb of correct classifications)\")\n",
    "plt.plot(range(1, len(rfecv.grid_scores_) + 1), rfecv.grid_scores_)\n",
    "plt.show()"
   ]
  },
  {
   "cell_type": "code",
   "execution_count": 165,
   "metadata": {},
   "outputs": [
    {
     "data": {
      "image/png": "[encoded data removed]",
      "text/plain": [
       "<Figure size 576x360 with 2 Axes>"
      ]
     },
     "metadata": {
      "needs_background": "light"
     },
     "output_type": "display_data"
    }
   ],
   "source": [
    "Selected_features = ['trestbps', 'thalach', 'oldpeak', 'ca', 'sex_1', 'cp_0', 'cp_2', \n",
    "                     'cp_3', 'exang_1', 'thal_2', 'thal_3', 'slope_2']\n",
    "\n",
    "X = result_df[Selected_features]\n",
    "\n",
    "plt.subplots(figsize=(8, 5))\n",
    "sns.heatmap(X.corr(), annot=True, cmap=\"RdYlGn\")\n",
    "plt.show()"
   ]
  },
  {
   "cell_type": "code",
   "execution_count": 166,
   "metadata": {},
   "outputs": [],
   "source": [
    "# split train / test\n",
    "\n",
    "dependent_variable = result_df['target']\n",
    "independent_variables = result_df[Selected_features]\n",
    "x_train, x_test, y_train, y_test = train_test_split(independent_variables, dependent_variable, test_size=0.2, random_state=0)"
   ]
  },
  {
   "cell_type": "code",
   "execution_count": 167,
   "metadata": {},
   "outputs": [
    {
     "name": "stdout",
     "output_type": "stream",
     "text": [
      "학습용 데이터셋 정확도 : 0.87\n",
      "검증용 데이터셋 정확도 : 0.85\n"
     ]
    }
   ],
   "source": [
    "lr_model = LogisticRegression()\n",
    "lr_model.fit(x_train,y_train)\n",
    "\n",
    "print('학습용 데이터셋 정확도 : %.2f' % lr_model.score(x_train, y_train))\n",
    "print('검증용 데이터셋 정확도 : %.2f' % lr_model.score(x_test, y_test))"
   ]
  },
  {
   "cell_type": "code",
   "execution_count": 168,
   "metadata": {
    "scrolled": false
   },
   "outputs": [
    {
     "name": "stdout",
     "output_type": "stream",
     "text": [
      "Optimization terminated successfully.\n",
      "         Current function value: 0.316431\n",
      "         Iterations 7\n"
     ]
    },
    {
     "data": {
      "text/html": [
       "<table class=\"simpletable\">\n",
       "<caption>Logit Regression Results</caption>\n",
       "<tr>\n",
       "  <th>Dep. Variable:</th>        <td>target</td>      <th>  No. Observations:  </th>  <td>   303</td>  \n",
       "</tr>\n",
       "<tr>\n",
       "  <th>Model:</th>                 <td>Logit</td>      <th>  Df Residuals:      </th>  <td>   290</td>  \n",
       "</tr>\n",
       "<tr>\n",
       "  <th>Method:</th>                 <td>MLE</td>       <th>  Df Model:          </th>  <td>    12</td>  \n",
       "</tr>\n",
       "<tr>\n",
       "  <th>Date:</th>            <td>Thu, 19 Dec 2019</td> <th>  Pseudo R-squ.:     </th>  <td>0.5409</td>  \n",
       "</tr>\n",
       "<tr>\n",
       "  <th>Time:</th>                <td>03:37:38</td>     <th>  Log-Likelihood:    </th> <td> -95.879</td> \n",
       "</tr>\n",
       "<tr>\n",
       "  <th>converged:</th>             <td>True</td>       <th>  LL-Null:           </th> <td> -208.82</td> \n",
       "</tr>\n",
       "<tr>\n",
       "  <th>Covariance Type:</th>     <td>nonrobust</td>    <th>  LLR p-value:       </th> <td>1.429e-41</td>\n",
       "</tr>\n",
       "</table>\n",
       "<table class=\"simpletable\">\n",
       "<tr>\n",
       "      <td></td>        <th>coef</th>     <th>std err</th>      <th>z</th>      <th>P>|z|</th>  <th>[0.025</th>    <th>0.975]</th>  \n",
       "</tr>\n",
       "<tr>\n",
       "  <th>const</th>    <td>    2.8660</td> <td>    1.293</td> <td>    2.217</td> <td> 0.027</td> <td>    0.332</td> <td>    5.400</td>\n",
       "</tr>\n",
       "<tr>\n",
       "  <th>trestbps</th> <td>   -2.2937</td> <td>    1.130</td> <td>   -2.030</td> <td> 0.042</td> <td>   -4.508</td> <td>   -0.079</td>\n",
       "</tr>\n",
       "<tr>\n",
       "  <th>thalach</th>  <td>    1.7245</td> <td>    1.333</td> <td>    1.294</td> <td> 0.196</td> <td>   -0.888</td> <td>    4.337</td>\n",
       "</tr>\n",
       "<tr>\n",
       "  <th>oldpeak</th>  <td>   -2.9538</td> <td>    1.348</td> <td>   -2.191</td> <td> 0.028</td> <td>   -5.596</td> <td>   -0.311</td>\n",
       "</tr>\n",
       "<tr>\n",
       "  <th>ca</th>       <td>   -2.2467</td> <td>    0.414</td> <td>   -5.423</td> <td> 0.000</td> <td>   -3.059</td> <td>   -1.435</td>\n",
       "</tr>\n",
       "<tr>\n",
       "  <th>sex_1</th>    <td>   -1.4335</td> <td>    0.505</td> <td>   -2.841</td> <td> 0.004</td> <td>   -2.422</td> <td>   -0.445</td>\n",
       "</tr>\n",
       "<tr>\n",
       "  <th>cp_0</th>     <td>   -1.1261</td> <td>    0.572</td> <td>   -1.968</td> <td> 0.049</td> <td>   -2.248</td> <td>   -0.004</td>\n",
       "</tr>\n",
       "<tr>\n",
       "  <th>cp_2</th>     <td>    1.0634</td> <td>    0.633</td> <td>    1.680</td> <td> 0.093</td> <td>   -0.177</td> <td>    2.304</td>\n",
       "</tr>\n",
       "<tr>\n",
       "  <th>cp_3</th>     <td>    1.1289</td> <td>    0.780</td> <td>    1.448</td> <td> 0.148</td> <td>   -0.399</td> <td>    2.657</td>\n",
       "</tr>\n",
       "<tr>\n",
       "  <th>exang_1</th>  <td>   -0.7481</td> <td>    0.431</td> <td>   -1.738</td> <td> 0.082</td> <td>   -1.592</td> <td>    0.096</td>\n",
       "</tr>\n",
       "<tr>\n",
       "  <th>thal_2</th>   <td>   -0.1281</td> <td>    0.745</td> <td>   -0.172</td> <td> 0.863</td> <td>   -1.588</td> <td>    1.332</td>\n",
       "</tr>\n",
       "<tr>\n",
       "  <th>thal_3</th>   <td>   -1.4717</td> <td>    0.725</td> <td>   -2.030</td> <td> 0.042</td> <td>   -2.893</td> <td>   -0.050</td>\n",
       "</tr>\n",
       "<tr>\n",
       "  <th>slope_2</th>  <td>    1.1572</td> <td>    0.457</td> <td>    2.533</td> <td> 0.011</td> <td>    0.262</td> <td>    2.053</td>\n",
       "</tr>\n",
       "</table>"
      ],
      "text/plain": [
       "<class 'statsmodels.iolib.summary.Summary'>\n",
       "\"\"\"\n",
       "                           Logit Regression Results                           \n",
       "==============================================================================\n",
       "Dep. Variable:                 target   No. Observations:                  303\n",
       "Model:                          Logit   Df Residuals:                      290\n",
       "Method:                           MLE   Df Model:                           12\n",
       "Date:                Thu, 19 Dec 2019   Pseudo R-squ.:                  0.5409\n",
       "Time:                        03:37:38   Log-Likelihood:                -95.879\n",
       "converged:                       True   LL-Null:                       -208.82\n",
       "Covariance Type:            nonrobust   LLR p-value:                 1.429e-41\n",
       "==============================================================================\n",
       "                 coef    std err          z      P>|z|      [0.025      0.975]\n",
       "------------------------------------------------------------------------------\n",
       "const          2.8660      1.293      2.217      0.027       0.332       5.400\n",
       "trestbps      -2.2937      1.130     -2.030      0.042      -4.508      -0.079\n",
       "thalach        1.7245      1.333      1.294      0.196      -0.888       4.337\n",
       "oldpeak       -2.9538      1.348     -2.191      0.028      -5.596      -0.311\n",
       "ca            -2.2467      0.414     -5.423      0.000      -3.059      -1.435\n",
       "sex_1         -1.4335      0.505     -2.841      0.004      -2.422      -0.445\n",
       "cp_0          -1.1261      0.572     -1.968      0.049      -2.248      -0.004\n",
       "cp_2           1.0634      0.633      1.680      0.093      -0.177       2.304\n",
       "cp_3           1.1289      0.780      1.448      0.148      -0.399       2.657\n",
       "exang_1       -0.7481      0.431     -1.738      0.082      -1.592       0.096\n",
       "thal_2        -0.1281      0.745     -0.172      0.863      -1.588       1.332\n",
       "thal_3        -1.4717      0.725     -2.030      0.042      -2.893      -0.050\n",
       "slope_2        1.1572      0.457      2.533      0.011       0.262       2.053\n",
       "==============================================================================\n",
       "\"\"\""
      ]
     },
     "execution_count": 168,
     "metadata": {},
     "output_type": "execute_result"
    }
   ],
   "source": [
    "independent_variables_with_constant = sm.add_constant(independent_variables,prepend=True) ##\n",
    "\n",
    "sm_result = sm.Logit(dependent_variable, independent_variables_with_constant).fit()\n",
    "sm_result.summary()"
   ]
  },
  {
   "cell_type": "code",
   "execution_count": 169,
   "metadata": {
    "scrolled": true
   },
   "outputs": [
    {
     "name": "stdout",
     "output_type": "stream",
     "text": [
      "Train/Test split results:\n",
      "LogisticRegression accuracy is 0.852\n",
      "LogisticRegression log_loss is 0.338\n",
      "LogisticRegression auc is 0.932\n"
     ]
    }
   ],
   "source": [
    "# check classification scores of logistic regression\n",
    "logreg = LogisticRegression()\n",
    "logreg.fit(x_train, y_train)\n",
    "y_pred = logreg.predict(x_test)\n",
    "y_pred_proba = logreg.predict_proba(x_test)[:, 1]\n",
    "[fpr, tpr, thr] = roc_curve(y_test, y_pred_proba)\n",
    "print('Train/Test split results:')\n",
    "print(logreg.__class__.__name__+\" accuracy is %2.3f\" % accuracy_score(y_test, y_pred))\n",
    "print(logreg.__class__.__name__+\" log_loss is %2.3f\" % log_loss(y_test, y_pred_proba))\n",
    "print(logreg.__class__.__name__+\" auc is %2.3f\" % auc(fpr, tpr))"
   ]
  },
  {
   "cell_type": "code",
   "execution_count": 170,
   "metadata": {},
   "outputs": [
    {
     "name": "stdout",
     "output_type": "stream",
     "text": [
      "K-fold cross-validation results:\n",
      "LogisticRegression average accuracy is 0.850\n",
      "LogisticRegression average log_loss is 0.355\n",
      "LogisticRegression average auc is 0.927\n"
     ]
    }
   ],
   "source": [
    "logreg = LogisticRegression()\n",
    "# Use cross_val_score function\n",
    "# We are passing the entirety of X and y, not X_train or y_train, it takes care of splitting the data\n",
    "# cv=10 for 10 folds\n",
    "# scoring = {'accuracy', 'neg_log_loss', 'roc_auc'} for evaluation metric - althought they are many\n",
    "scores_accuracy = cross_val_score(logreg, X, y, cv=10, scoring='accuracy')\n",
    "scores_log_loss = cross_val_score(logreg, X, y, cv=10, scoring='neg_log_loss')\n",
    "scores_auc = cross_val_score(logreg, X, y, cv=10, scoring='roc_auc')\n",
    "print('K-fold cross-validation results:')\n",
    "print(logreg.__class__.__name__+\" average accuracy is %2.3f\" % scores_accuracy.mean())\n",
    "print(logreg.__class__.__name__+\" average log_loss is %2.3f\" % -scores_log_loss.mean())\n",
    "print(logreg.__class__.__name__+\" average auc is %2.3f\" % scores_auc.mean())"
   ]
  },
  {
   "cell_type": "code",
   "execution_count": null,
   "metadata": {},
   "outputs": [],
   "source": []
  },
  {
   "cell_type": "code",
   "execution_count": null,
   "metadata": {},
   "outputs": [],
   "source": []
  },
  {
   "cell_type": "code",
   "execution_count": null,
   "metadata": {},
   "outputs": [],
   "source": []
  }
 ],
 "metadata": {
  "kernelspec": {
   "display_name": "Python 3",
   "language": "python",
   "name": "python3"
  },
  "language_info": {
   "codemirror_mode": {
    "name": "ipython",
    "version": 3
   },
   "file_extension": ".py",
   "mimetype": "text/x-python",
   "name": "python",
   "nbconvert_exporter": "python",
   "pygments_lexer": "ipython3",
   "version": "3.7.4"
  }
 },
 "nbformat": 4,
 "nbformat_minor": 2
}
